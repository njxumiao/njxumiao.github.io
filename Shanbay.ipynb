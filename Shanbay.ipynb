{
 "cells": [
  {
   "cell_type": "code",
   "execution_count": 1,
   "metadata": {},
   "outputs": [],
   "source": [
    "# 1.1 入门"
   ]
  },
  {
   "cell_type": "code",
   "execution_count": 1,
   "metadata": {},
   "outputs": [
    {
     "data": {
      "text/plain": [
       "['/Users/XUMIAO/Desktop/python/扇贝编程',\n",
       " '/anaconda3/lib/python37.zip',\n",
       " '/anaconda3/lib/python3.7',\n",
       " '/anaconda3/lib/python3.7/lib-dynload',\n",
       " '',\n",
       " '/anaconda3/lib/python3.7/site-packages',\n",
       " '/anaconda3/lib/python3.7/site-packages/aeosa',\n",
       " '/anaconda3/lib/python3.7/site-packages/IPython/extensions',\n",
       " '/Users/XUMIAO/.ipython']"
      ]
     },
     "execution_count": 1,
     "metadata": {},
     "output_type": "execute_result"
    }
   ],
   "source": [
    "import sys\n",
    "sys.path"
   ]
  },
  {
   "cell_type": "code",
   "execution_count": 2,
   "metadata": {},
   "outputs": [
    {
     "name": "stdout",
     "output_type": "stream",
     "text": [
      "Hello, World!\n"
     ]
    }
   ],
   "source": [
    "print(\"Hello, World!\")"
   ]
  },
  {
   "cell_type": "code",
   "execution_count": 6,
   "metadata": {},
   "outputs": [
    {
     "ename": "Terminator",
     "evalue": "",
     "output_type": "error",
     "traceback": [
      "\u001b[0;31m---------------------------------------------------------------------------\u001b[0m",
      "\u001b[0;31mTerminator\u001b[0m                                Traceback (most recent call last)",
      "\u001b[0;32m<ipython-input-6-d399e3c4173f>\u001b[0m in \u001b[0;36m<module>\u001b[0;34m\u001b[0m\n\u001b[1;32m      2\u001b[0m \u001b[0;32mimport\u001b[0m \u001b[0mturtle\u001b[0m      \u001b[0;31m# 引入 turtle 工具库\u001b[0m\u001b[0;34m\u001b[0m\u001b[0;34m\u001b[0m\u001b[0m\n\u001b[1;32m      3\u001b[0m \u001b[0;34m\u001b[0m\u001b[0m\n\u001b[0;32m----> 4\u001b[0;31m \u001b[0msquare\u001b[0m \u001b[0;34m=\u001b[0m \u001b[0mturtle\u001b[0m\u001b[0;34m.\u001b[0m\u001b[0mTurtle\u001b[0m\u001b[0;34m(\u001b[0m\u001b[0;34m)\u001b[0m\u001b[0;34m\u001b[0m\u001b[0;34m\u001b[0m\u001b[0m\n\u001b[0m\u001b[1;32m      5\u001b[0m \u001b[0msquare\u001b[0m\u001b[0;34m.\u001b[0m\u001b[0mpencolor\u001b[0m\u001b[0;34m(\u001b[0m\u001b[0;34m\"red\"\u001b[0m\u001b[0;34m)\u001b[0m  \u001b[0;31m# 画笔为红色\u001b[0m\u001b[0;34m\u001b[0m\u001b[0;34m\u001b[0m\u001b[0m\n\u001b[1;32m      6\u001b[0m \u001b[0;34m\u001b[0m\u001b[0m\n",
      "\u001b[0;32m/anaconda3/lib/python3.7/turtle.py\u001b[0m in \u001b[0;36m__init__\u001b[0;34m(self, shape, undobuffersize, visible)\u001b[0m\n\u001b[1;32m   3814\u001b[0m                            \u001b[0mshape\u001b[0m\u001b[0;34m=\u001b[0m\u001b[0mshape\u001b[0m\u001b[0;34m,\u001b[0m\u001b[0;34m\u001b[0m\u001b[0;34m\u001b[0m\u001b[0m\n\u001b[1;32m   3815\u001b[0m                            \u001b[0mundobuffersize\u001b[0m\u001b[0;34m=\u001b[0m\u001b[0mundobuffersize\u001b[0m\u001b[0;34m,\u001b[0m\u001b[0;34m\u001b[0m\u001b[0;34m\u001b[0m\u001b[0m\n\u001b[0;32m-> 3816\u001b[0;31m                            visible=visible)\n\u001b[0m\u001b[1;32m   3817\u001b[0m \u001b[0;34m\u001b[0m\u001b[0m\n\u001b[1;32m   3818\u001b[0m \u001b[0mPen\u001b[0m \u001b[0;34m=\u001b[0m \u001b[0mTurtle\u001b[0m\u001b[0;34m\u001b[0m\u001b[0;34m\u001b[0m\u001b[0m\n",
      "\u001b[0;32m/anaconda3/lib/python3.7/turtle.py\u001b[0m in \u001b[0;36m__init__\u001b[0;34m(self, canvas, shape, undobuffersize, visible)\u001b[0m\n\u001b[1;32m   2555\u001b[0m         \u001b[0mself\u001b[0m\u001b[0;34m.\u001b[0m\u001b[0m_undobuffersize\u001b[0m \u001b[0;34m=\u001b[0m \u001b[0mundobuffersize\u001b[0m\u001b[0;34m\u001b[0m\u001b[0;34m\u001b[0m\u001b[0m\n\u001b[1;32m   2556\u001b[0m         \u001b[0mself\u001b[0m\u001b[0;34m.\u001b[0m\u001b[0mundobuffer\u001b[0m \u001b[0;34m=\u001b[0m \u001b[0mTbuffer\u001b[0m\u001b[0;34m(\u001b[0m\u001b[0mundobuffersize\u001b[0m\u001b[0;34m)\u001b[0m\u001b[0;34m\u001b[0m\u001b[0;34m\u001b[0m\u001b[0m\n\u001b[0;32m-> 2557\u001b[0;31m         \u001b[0mself\u001b[0m\u001b[0;34m.\u001b[0m\u001b[0m_update\u001b[0m\u001b[0;34m(\u001b[0m\u001b[0;34m)\u001b[0m\u001b[0;34m\u001b[0m\u001b[0;34m\u001b[0m\u001b[0m\n\u001b[0m\u001b[1;32m   2558\u001b[0m \u001b[0;34m\u001b[0m\u001b[0m\n\u001b[1;32m   2559\u001b[0m     \u001b[0;32mdef\u001b[0m \u001b[0mreset\u001b[0m\u001b[0;34m(\u001b[0m\u001b[0mself\u001b[0m\u001b[0;34m)\u001b[0m\u001b[0;34m:\u001b[0m\u001b[0;34m\u001b[0m\u001b[0;34m\u001b[0m\u001b[0m\n",
      "\u001b[0;32m/anaconda3/lib/python3.7/turtle.py\u001b[0m in \u001b[0;36m_update\u001b[0;34m(self)\u001b[0m\n\u001b[1;32m   2658\u001b[0m             \u001b[0;32mreturn\u001b[0m\u001b[0;34m\u001b[0m\u001b[0;34m\u001b[0m\u001b[0m\n\u001b[1;32m   2659\u001b[0m         \u001b[0;32melif\u001b[0m \u001b[0mscreen\u001b[0m\u001b[0;34m.\u001b[0m\u001b[0m_tracing\u001b[0m \u001b[0;34m==\u001b[0m \u001b[0;36m1\u001b[0m\u001b[0;34m:\u001b[0m\u001b[0;34m\u001b[0m\u001b[0;34m\u001b[0m\u001b[0m\n\u001b[0;32m-> 2660\u001b[0;31m             \u001b[0mself\u001b[0m\u001b[0;34m.\u001b[0m\u001b[0m_update_data\u001b[0m\u001b[0;34m(\u001b[0m\u001b[0;34m)\u001b[0m\u001b[0;34m\u001b[0m\u001b[0;34m\u001b[0m\u001b[0m\n\u001b[0m\u001b[1;32m   2661\u001b[0m             \u001b[0mself\u001b[0m\u001b[0;34m.\u001b[0m\u001b[0m_drawturtle\u001b[0m\u001b[0;34m(\u001b[0m\u001b[0;34m)\u001b[0m\u001b[0;34m\u001b[0m\u001b[0;34m\u001b[0m\u001b[0m\n\u001b[1;32m   2662\u001b[0m             \u001b[0mscreen\u001b[0m\u001b[0;34m.\u001b[0m\u001b[0m_update\u001b[0m\u001b[0;34m(\u001b[0m\u001b[0;34m)\u001b[0m                  \u001b[0;31m# TurtleScreenBase\u001b[0m\u001b[0;34m\u001b[0m\u001b[0;34m\u001b[0m\u001b[0m\n",
      "\u001b[0;32m/anaconda3/lib/python3.7/turtle.py\u001b[0m in \u001b[0;36m_update_data\u001b[0;34m(self)\u001b[0m\n\u001b[1;32m   2644\u001b[0m \u001b[0;34m\u001b[0m\u001b[0m\n\u001b[1;32m   2645\u001b[0m     \u001b[0;32mdef\u001b[0m \u001b[0m_update_data\u001b[0m\u001b[0;34m(\u001b[0m\u001b[0mself\u001b[0m\u001b[0;34m)\u001b[0m\u001b[0;34m:\u001b[0m\u001b[0;34m\u001b[0m\u001b[0;34m\u001b[0m\u001b[0m\n\u001b[0;32m-> 2646\u001b[0;31m         \u001b[0mself\u001b[0m\u001b[0;34m.\u001b[0m\u001b[0mscreen\u001b[0m\u001b[0;34m.\u001b[0m\u001b[0m_incrementudc\u001b[0m\u001b[0;34m(\u001b[0m\u001b[0;34m)\u001b[0m\u001b[0;34m\u001b[0m\u001b[0;34m\u001b[0m\u001b[0m\n\u001b[0m\u001b[1;32m   2647\u001b[0m         \u001b[0;32mif\u001b[0m \u001b[0mself\u001b[0m\u001b[0;34m.\u001b[0m\u001b[0mscreen\u001b[0m\u001b[0;34m.\u001b[0m\u001b[0m_updatecounter\u001b[0m \u001b[0;34m!=\u001b[0m \u001b[0;36m0\u001b[0m\u001b[0;34m:\u001b[0m\u001b[0;34m\u001b[0m\u001b[0;34m\u001b[0m\u001b[0m\n\u001b[1;32m   2648\u001b[0m             \u001b[0;32mreturn\u001b[0m\u001b[0;34m\u001b[0m\u001b[0;34m\u001b[0m\u001b[0m\n",
      "\u001b[0;32m/anaconda3/lib/python3.7/turtle.py\u001b[0m in \u001b[0;36m_incrementudc\u001b[0;34m(self)\u001b[0m\n\u001b[1;32m   1290\u001b[0m         \u001b[0;32mif\u001b[0m \u001b[0;32mnot\u001b[0m \u001b[0mTurtleScreen\u001b[0m\u001b[0;34m.\u001b[0m\u001b[0m_RUNNING\u001b[0m\u001b[0;34m:\u001b[0m\u001b[0;34m\u001b[0m\u001b[0;34m\u001b[0m\u001b[0m\n\u001b[1;32m   1291\u001b[0m             \u001b[0mTurtleScreen\u001b[0m\u001b[0;34m.\u001b[0m\u001b[0m_RUNNING\u001b[0m \u001b[0;34m=\u001b[0m \u001b[0;32mTrue\u001b[0m\u001b[0;34m\u001b[0m\u001b[0;34m\u001b[0m\u001b[0m\n\u001b[0;32m-> 1292\u001b[0;31m             \u001b[0;32mraise\u001b[0m \u001b[0mTerminator\u001b[0m\u001b[0;34m\u001b[0m\u001b[0;34m\u001b[0m\u001b[0m\n\u001b[0m\u001b[1;32m   1293\u001b[0m         \u001b[0;32mif\u001b[0m \u001b[0mself\u001b[0m\u001b[0;34m.\u001b[0m\u001b[0m_tracing\u001b[0m \u001b[0;34m>\u001b[0m \u001b[0;36m0\u001b[0m\u001b[0;34m:\u001b[0m\u001b[0;34m\u001b[0m\u001b[0;34m\u001b[0m\u001b[0m\n\u001b[1;32m   1294\u001b[0m             \u001b[0mself\u001b[0m\u001b[0;34m.\u001b[0m\u001b[0m_updatecounter\u001b[0m \u001b[0;34m+=\u001b[0m \u001b[0;36m1\u001b[0m\u001b[0;34m\u001b[0m\u001b[0;34m\u001b[0m\u001b[0m\n",
      "\u001b[0;31mTerminator\u001b[0m: "
     ]
    }
   ],
   "source": [
    "# draw a square\n",
    "import turtle      # 引入 turtle 工具库\n",
    "\n",
    "square = turtle.Turtle()       \n",
    "square.pencolor(\"red\")  # 画笔为红色\n",
    "\n",
    "square.forward(50)  # 画笔沿笔尖向前走 50\n",
    "square.right(90)  # 画笔笔尖原地右转 90度\n",
    "\n",
    "square.forward(50)  # 重复第7、8行代码\n",
    "square.right(90)\n",
    "\n",
    "square.forward(50)\n",
    "square.right(90)\n",
    "\n",
    "square.forward(50)\n",
    "square.right(90)"
   ]
  },
  {
   "cell_type": "code",
   "execution_count": 5,
   "metadata": {},
   "outputs": [
    {
     "name": "stdout",
     "output_type": "stream",
     "text": [
      "你的名字是：xumiao\n",
      "你喜欢的人是：vision\n",
      "你最喜欢的地方是：japan\n",
      "你最喜欢做的事情是：reading\n",
      "xumiao和vision正在japanreading\n"
     ]
    }
   ],
   "source": [
    "name = input(\"你的名字是：\")\n",
    "person = input(\"你喜欢的人是：\")\n",
    "place = input(\"你最喜欢的地方是：\")\n",
    "action = input(\"你最喜欢做的事情是：\")\n",
    "\n",
    "print(str(name) + \"和\" + str(person) + \"正在\" + str(place) + str(action))"
   ]
  },
  {
   "cell_type": "code",
   "execution_count": 7,
   "metadata": {},
   "outputs": [
    {
     "name": "stdout",
     "output_type": "stream",
     "text": [
      "贷款金额：1000000，还款月数：360，年利率：4.9\n",
      "等额本息还款\n",
      "每月还款金额： 5307.27\n"
     ]
    }
   ],
   "source": [
    "def pay_loan(loan,months,year_rate):\n",
    "    month_rate = year_rate/12\n",
    "    month_pay = (loan * (month_rate/100)*(1 + (month_rate/100)) ** months)/((1+ (month_rate/100))**months-1)\n",
    "    month_pay = round(month_pay,2)\n",
    "    print(\"贷款金额：\" + str(loan) + \"，还款月数：\" +str(months) + \"，年利率：\" +str(year_rate))\n",
    "    print(\"等额本息还款\")\n",
    "    return month_pay\n",
    "print(\"每月还款金额：\",pay_loan(1000000,360,4.9))"
   ]
  },
  {
   "cell_type": "code",
   "execution_count": 8,
   "metadata": {},
   "outputs": [
    {
     "name": "stdout",
     "output_type": "stream",
     "text": [
      "我是你的好朋友小贝！\n"
     ]
    }
   ],
   "source": [
    "print(\"我是你的好朋友小贝！\")"
   ]
  },
  {
   "cell_type": "code",
   "execution_count": 9,
   "metadata": {},
   "outputs": [],
   "source": [
    "#Python 可以用来开发游戏，并且有相应的工具 Pygame"
   ]
  },
  {
   "cell_type": "code",
   "execution_count": 10,
   "metadata": {},
   "outputs": [
    {
     "ename": "TurtleGraphicsError",
     "evalue": "bad color string: pink",
     "output_type": "error",
     "traceback": [
      "\u001b[0;31m---------------------------------------------------------------------------\u001b[0m",
      "\u001b[0;31mTurtleGraphicsError\u001b[0m                       Traceback (most recent call last)",
      "\u001b[0;32m<ipython-input-10-273ebd29f40d>\u001b[0m in \u001b[0;36m<module>\u001b[0;34m\u001b[0m\n\u001b[1;32m      3\u001b[0m \u001b[0;34m\u001b[0m\u001b[0m\n\u001b[1;32m      4\u001b[0m \u001b[0mstar\u001b[0m \u001b[0;34m=\u001b[0m \u001b[0mturtle\u001b[0m\u001b[0;34m.\u001b[0m\u001b[0mTurtle\u001b[0m\u001b[0;34m(\u001b[0m\u001b[0;34m)\u001b[0m\u001b[0;34m\u001b[0m\u001b[0;34m\u001b[0m\u001b[0m\n\u001b[0;32m----> 5\u001b[0;31m \u001b[0mstar\u001b[0m\u001b[0;34m.\u001b[0m\u001b[0mpencolor\u001b[0m\u001b[0;34m(\u001b[0m\u001b[0;34m\"pink\"\u001b[0m\u001b[0;34m)\u001b[0m\u001b[0;34m\u001b[0m\u001b[0;34m\u001b[0m\u001b[0m\n\u001b[0m\u001b[1;32m      6\u001b[0m \u001b[0;34m\u001b[0m\u001b[0m\n\u001b[1;32m      7\u001b[0m \u001b[0;32mfor\u001b[0m \u001b[0mi\u001b[0m \u001b[0;32min\u001b[0m \u001b[0mrange\u001b[0m\u001b[0;34m(\u001b[0m\u001b[0;36m5\u001b[0m\u001b[0;34m)\u001b[0m\u001b[0;34m:\u001b[0m\u001b[0;34m\u001b[0m\u001b[0;34m\u001b[0m\u001b[0m\n",
      "\u001b[0;32m/anaconda3/lib/python3.7/turtle.py\u001b[0m in \u001b[0;36mpencolor\u001b[0;34m(self, *args)\u001b[0m\n\u001b[1;32m   2250\u001b[0m         \"\"\"\n\u001b[1;32m   2251\u001b[0m         \u001b[0;32mif\u001b[0m \u001b[0margs\u001b[0m\u001b[0;34m:\u001b[0m\u001b[0;34m\u001b[0m\u001b[0;34m\u001b[0m\u001b[0m\n\u001b[0;32m-> 2252\u001b[0;31m             \u001b[0mcolor\u001b[0m \u001b[0;34m=\u001b[0m \u001b[0mself\u001b[0m\u001b[0;34m.\u001b[0m\u001b[0m_colorstr\u001b[0m\u001b[0;34m(\u001b[0m\u001b[0margs\u001b[0m\u001b[0;34m)\u001b[0m\u001b[0;34m\u001b[0m\u001b[0;34m\u001b[0m\u001b[0m\n\u001b[0m\u001b[1;32m   2253\u001b[0m             \u001b[0;32mif\u001b[0m \u001b[0mcolor\u001b[0m \u001b[0;34m==\u001b[0m \u001b[0mself\u001b[0m\u001b[0;34m.\u001b[0m\u001b[0m_pencolor\u001b[0m\u001b[0;34m:\u001b[0m\u001b[0;34m\u001b[0m\u001b[0;34m\u001b[0m\u001b[0m\n\u001b[1;32m   2254\u001b[0m                 \u001b[0;32mreturn\u001b[0m\u001b[0;34m\u001b[0m\u001b[0;34m\u001b[0m\u001b[0m\n",
      "\u001b[0;32m/anaconda3/lib/python3.7/turtle.py\u001b[0m in \u001b[0;36m_colorstr\u001b[0;34m(self, args)\u001b[0m\n\u001b[1;32m   2694\u001b[0m \u001b[0;34m\u001b[0m\u001b[0m\n\u001b[1;32m   2695\u001b[0m     \u001b[0;32mdef\u001b[0m \u001b[0m_colorstr\u001b[0m\u001b[0;34m(\u001b[0m\u001b[0mself\u001b[0m\u001b[0;34m,\u001b[0m \u001b[0margs\u001b[0m\u001b[0;34m)\u001b[0m\u001b[0;34m:\u001b[0m\u001b[0;34m\u001b[0m\u001b[0;34m\u001b[0m\u001b[0m\n\u001b[0;32m-> 2696\u001b[0;31m         \u001b[0;32mreturn\u001b[0m \u001b[0mself\u001b[0m\u001b[0;34m.\u001b[0m\u001b[0mscreen\u001b[0m\u001b[0;34m.\u001b[0m\u001b[0m_colorstr\u001b[0m\u001b[0;34m(\u001b[0m\u001b[0margs\u001b[0m\u001b[0;34m)\u001b[0m\u001b[0;34m\u001b[0m\u001b[0;34m\u001b[0m\u001b[0m\n\u001b[0m\u001b[1;32m   2697\u001b[0m \u001b[0;34m\u001b[0m\u001b[0m\n\u001b[1;32m   2698\u001b[0m     \u001b[0;32mdef\u001b[0m \u001b[0m_cc\u001b[0m\u001b[0;34m(\u001b[0m\u001b[0mself\u001b[0m\u001b[0;34m,\u001b[0m \u001b[0margs\u001b[0m\u001b[0;34m)\u001b[0m\u001b[0;34m:\u001b[0m\u001b[0;34m\u001b[0m\u001b[0;34m\u001b[0m\u001b[0m\n",
      "\u001b[0;32m/anaconda3/lib/python3.7/turtle.py\u001b[0m in \u001b[0;36m_colorstr\u001b[0;34m(self, color)\u001b[0m\n\u001b[1;32m   1156\u001b[0m                 \u001b[0;32mreturn\u001b[0m \u001b[0mcolor\u001b[0m\u001b[0;34m\u001b[0m\u001b[0;34m\u001b[0m\u001b[0m\n\u001b[1;32m   1157\u001b[0m             \u001b[0;32melse\u001b[0m\u001b[0;34m:\u001b[0m\u001b[0;34m\u001b[0m\u001b[0;34m\u001b[0m\u001b[0m\n\u001b[0;32m-> 1158\u001b[0;31m                 \u001b[0;32mraise\u001b[0m \u001b[0mTurtleGraphicsError\u001b[0m\u001b[0;34m(\u001b[0m\u001b[0;34m\"bad color string: %s\"\u001b[0m \u001b[0;34m%\u001b[0m \u001b[0mstr\u001b[0m\u001b[0;34m(\u001b[0m\u001b[0mcolor\u001b[0m\u001b[0;34m)\u001b[0m\u001b[0;34m)\u001b[0m\u001b[0;34m\u001b[0m\u001b[0;34m\u001b[0m\u001b[0m\n\u001b[0m\u001b[1;32m   1159\u001b[0m         \u001b[0;32mtry\u001b[0m\u001b[0;34m:\u001b[0m\u001b[0;34m\u001b[0m\u001b[0;34m\u001b[0m\u001b[0m\n\u001b[1;32m   1160\u001b[0m             \u001b[0mr\u001b[0m\u001b[0;34m,\u001b[0m \u001b[0mg\u001b[0m\u001b[0;34m,\u001b[0m \u001b[0mb\u001b[0m \u001b[0;34m=\u001b[0m \u001b[0mcolor\u001b[0m\u001b[0;34m\u001b[0m\u001b[0;34m\u001b[0m\u001b[0m\n",
      "\u001b[0;31mTurtleGraphicsError\u001b[0m: bad color string: pink"
     ]
    }
   ],
   "source": [
    "#画五角星\n",
    "import turtle \n",
    "\n",
    "star = turtle.Turtle()\n",
    "star.pencolor(\"pink\")          \n",
    "\n",
    "for i in range(5):           \n",
    "  star.forward(50)         \n",
    "  star.right(144)                       \n",
    "    \n",
    "turtle.done()  "
   ]
  },
  {
   "cell_type": "code",
   "execution_count": 11,
   "metadata": {},
   "outputs": [],
   "source": [
    "# 2.1 字符串 "
   ]
  },
  {
   "cell_type": "code",
   "execution_count": 12,
   "metadata": {},
   "outputs": [
    {
     "name": "stdout",
     "output_type": "stream",
     "text": [
      "你好，xumiao！\n"
     ]
    }
   ],
   "source": [
    "my_name = \"xumiao\"\n",
    "print(\"你好，\" + my_name +\"！\")"
   ]
  },
  {
   "cell_type": "code",
   "execution_count": 13,
   "metadata": {},
   "outputs": [
    {
     "name": "stdout",
     "output_type": "stream",
     "text": [
      "love\n"
     ]
    }
   ],
   "source": [
    "why_learn_python = \"love\"\n",
    "print(why_learn_python)"
   ]
  },
  {
   "cell_type": "code",
   "execution_count": 14,
   "metadata": {},
   "outputs": [
    {
     "name": "stdout",
     "output_type": "stream",
     "text": [
      "早餐：\n",
      "豆浆油条\n",
      "午餐：\n",
      "麦当劳\n",
      "晚餐：\n",
      "水饺\n"
     ]
    }
   ],
   "source": [
    "# 将变量 meal 赋值为：豆浆油条。\n",
    "# 这是你今天的早餐！\n",
    "meal = \"豆浆油条\"\n",
    "\n",
    "# 输出早餐\n",
    "print(\"早餐：\")\n",
    "print(meal)\n",
    "\n",
    "# 请将 meal 重新赋值为 麦当劳\n",
    "# 这是你今天的午餐\n",
    "meal = \"麦当劳\"\n",
    "\n",
    "# 输出午餐\n",
    "print(\"午餐：\")\n",
    "print(meal)\n",
    "\n",
    "# 请将 meal 重新赋值为 水饺\n",
    "# 这是你今天的晚餐\n",
    "meal = \"水饺\"\n",
    "\n",
    "# 输出晚餐\n",
    "print(\"晚餐：\")\n",
    "print(meal)"
   ]
  },
  {
   "cell_type": "code",
   "execution_count": 15,
   "metadata": {},
   "outputs": [
    {
     "name": "stdout",
     "output_type": "stream",
     "text": [
      "我错了吗？\n",
      "我错了吗？\n"
     ]
    }
   ],
   "source": [
    "print(\"我错了吗？\")\n",
    "I_hate_errors = \"我错了吗？\"\n",
    "print(I_hate_errors)"
   ]
  },
  {
   "cell_type": "code",
   "execution_count": 16,
   "metadata": {},
   "outputs": [
    {
     "name": "stdout",
     "output_type": "stream",
     "text": [
      "夫人之相与 俯仰一世 或取诸怀抱 悟言一室之内 或因寄所托 放浪形骸之外\n"
     ]
    }
   ],
   "source": [
    "# 摘自《兰亭集序》\n",
    "string1 = \"夫人之相与 \"\n",
    "string2 = \"俯仰一世\"\n",
    "string3 = \" 或取诸怀抱\"\n",
    "string4 = \" 悟言一室之内 \"\n",
    "string5 = \"或因寄所托\"\n",
    "string6 = \" 放浪形骸之外\"\n",
    "\n",
    "poem = string1 + string2 + string3 + string4 + string5 + string6\n",
    "print(poem)"
   ]
  },
  {
   "cell_type": "code",
   "execution_count": 17,
   "metadata": {},
   "outputs": [],
   "source": [
    "# 变量名中不能有空格，在Python中，用等号 = 为变量赋值\n",
    "# 字符串需要用（英文）单引号或者双引号包裹\n"
   ]
  },
  {
   "cell_type": "code",
   "execution_count": 18,
   "metadata": {},
   "outputs": [
    {
     "name": "stdout",
     "output_type": "stream",
     "text": [
      "                     _\n",
      "                    / )\n",
      "                   ( (\n",
      "       A.-.A  .--.  ) )\n",
      "      / , , \\/    \\/ /\n",
      "     =\\  t  ;=    / /\n",
      "       `--,'  .  ／/\n",
      "         || |  \\  \\ \n",
      "        ((,_|  ((,_\\  \n",
      "-^-^ ^-^-^-^-^-^-^-^-^-^-\n",
      "     《Python画喵》 By xumiao\n"
     ]
    }
   ],
   "source": [
    "#步骤1:点击“运行”\n",
    "#看看这只猫缺了什么部分？\n",
    "cat=\"\"                              \n",
    "cat1 = \"       ;=    / /=\\  t\"\n",
    "cat2 = \"     =\\  t  ;=    / /\"\n",
    "cat3 = \" =    /    =\\  t  ; /\"\n",
    "\n",
    "print(\"                     _\")\n",
    "print(\"                    / )\")\n",
    "print(\"                   ( (\")\n",
    "print(\"       A.-.A  .-\"\"-.  ) )\")\n",
    "print(\"      / , , \\/    \\/ /\")\n",
    "# 步骤2:将下方 print(cat) 中的cat 替换为 cat1、cat2 或 cat3\n",
    "# 分别点击运行后，看看哪个部分更合适？\n",
    "print(cat2)                         \n",
    "print(\"       `--,'  .  ／/\")\n",
    "print(\"         || |  \\\\  \\ \")\n",
    "print(\"        ((,_|  ((,_\\  \")\n",
    "print(\"-^-^ ^-^-^-^-^-^-^-^-^-^-\")\n",
    " # 步骤3:将下方 扇贝编程 改为自己的名字，大功告成！\n",
    "my_name = \"xumiao\"                \n",
    "print(\"     《Python画喵》 By \" + my_name)\n",
    " # 点击运行，看看自己的作品吧"
   ]
  },
  {
   "cell_type": "code",
   "execution_count": 19,
   "metadata": {},
   "outputs": [],
   "source": [
    "# 2.2 数值运算"
   ]
  },
  {
   "cell_type": "code",
   "execution_count": 20,
   "metadata": {},
   "outputs": [
    {
     "name": "stdout",
     "output_type": "stream",
     "text": [
      "我最喜欢的电影是：白蛇缘起，\n",
      "它在2019年发行，\n",
      "我给它打9.1分，你一定要去看呀！\n"
     ]
    }
   ],
   "source": [
    "# 填入你最喜欢的电影\n",
    "my_movie = \"白蛇缘起\"   \n",
    "# 电影发行年份（整数）\n",
    "year = 2019             \n",
    "# 你对它的评分（小数，最高5.0分）\n",
    "rate = 9.1          \n",
    "print(\"我最喜欢的电影是：\" + my_movie + \"，\")\n",
    "print(\"它在\" + str(year) + \"年发行，\")\n",
    "print(\"我给它打\"+str(rate)+\"分，你一定要去看呀！\")"
   ]
  },
  {
   "cell_type": "code",
   "execution_count": 21,
   "metadata": {},
   "outputs": [
    {
     "name": "stdout",
     "output_type": "stream",
     "text": [
      "155.15384615384616\n"
     ]
    }
   ],
   "source": [
    "print((2019-2)/(24-11))"
   ]
  },
  {
   "cell_type": "code",
   "execution_count": 22,
   "metadata": {},
   "outputs": [
    {
     "name": "stdout",
     "output_type": "stream",
     "text": [
      "800000.0\n",
      "920000.0\n"
     ]
    }
   ],
   "source": [
    "price = 10000.0\n",
    "size = 80\n",
    "print(price*size)\n",
    "price = 11500.0\n",
    "print(price*size)"
   ]
  },
  {
   "cell_type": "code",
   "execution_count": 23,
   "metadata": {},
   "outputs": [],
   "source": [
    "a = 10 ** 2\n",
    "b = ((25 * 2) / 5) * 10\n",
    "c = 10000 ** 0.25\n",
    "d = 2 ** 10  "
   ]
  },
  {
   "cell_type": "code",
   "execution_count": 24,
   "metadata": {},
   "outputs": [
    {
     "name": "stdout",
     "output_type": "stream",
     "text": [
      "110.25\n"
     ]
    }
   ],
   "source": [
    "#次方\n",
    "print(10.5**2)"
   ]
  },
  {
   "cell_type": "code",
   "execution_count": 25,
   "metadata": {},
   "outputs": [
    {
     "name": "stdout",
     "output_type": "stream",
     "text": [
      "2\n",
      "4\n",
      "6\n"
     ]
    }
   ],
   "source": [
    "#余数：在除法之外，Python 也支持余数运算，符号为 %。如果 a 可以被 b 整除，a % b 运算结果为 0。\n",
    "# 为变量 num 赋值\n",
    "num = 1049\n",
    "\n",
    "# 输出 num 与 3 相除的余数\n",
    "print(num % 3)\n",
    "\n",
    "# 输出 num 与 5 相除的余数\n",
    "print(num % 5)\n",
    "\n",
    "# 输出 num 与 7 相除的余数\n",
    "print(num % 7)"
   ]
  },
  {
   "cell_type": "code",
   "execution_count": 26,
   "metadata": {},
   "outputs": [
    {
     "name": "stdout",
     "output_type": "stream",
     "text": [
      "150.0\n",
      "500.0\n",
      "1700.0\n"
     ]
    }
   ],
   "source": [
    "#加等运算符：Python提供一种修改变量值的便捷方法 — — 当你需要为现有赋值加上新值，可以使用 += 符号。\n",
    "shopping_cart = 0\n",
    "light = 150.0\n",
    "shopping_cart += light\n",
    "print(shopping_cart)\n",
    "\n",
    "carpet = 350.0\n",
    "shopping_cart += carpet\n",
    "print(shopping_cart)\n",
    "\n",
    "sofa = 1200.0\n",
    "shopping_cart += sofa\n",
    "print(shopping_cart)"
   ]
  },
  {
   "cell_type": "code",
   "execution_count": 27,
   "metadata": {},
   "outputs": [],
   "source": [
    "# \"\"\" \"\"\" 用来包裹多行字符串\n",
    "\n",
    "#多行字符串：当字符串包含多行信息，尤其文本包含大量引号的时候，我们可以使用 \"\"\" \"\"\" 或者 ''' ''' 包裹字符串。\n",
    "\n",
    "#计算机读到第一个 \"\"\" 时，会知道在下一个 \"\"\" 出现之前，被包裹的信息都是字符串。\n",
    "\n",
    "#这种方法可以减少错误，提高代码可读性。\n",
    "\n",
    "hemingway_text = \"\"\"\n",
    "“我们喝点什么呢？”姑娘问。她已经摘下帽子，放在桌上。\n",
    "“天太热了。”男人说。\n",
    "姑娘正在眺望远处群山的轮廓。阳光下，山冈显得很白，乡野看上去有点发褐色，干巴巴的。\n",
    "“它们看起来就像一群白象。”她说。\n",
    "“我从没见过白象。”男人喝了口啤酒。\n",
    "“你是没见过。”\n",
    "“我可能见过，”男人说，“只凭你说我没见过，说明不了任何问题。” \"\"\""
   ]
  },
  {
   "cell_type": "code",
   "execution_count": 28,
   "metadata": {},
   "outputs": [],
   "source": [
    "#float 存储小数，int 存储整数"
   ]
  },
  {
   "cell_type": "code",
   "execution_count": 29,
   "metadata": {},
   "outputs": [
    {
     "name": "stdout",
     "output_type": "stream",
     "text": [
      "1.8166966985640913\n",
      "0.5471566423907612\n"
     ]
    }
   ],
   "source": [
    "# 每天进步1%，60天后的我\n",
    "print(1.01 ** 60)\n",
    "# 每天退步1%，60天后的我\n",
    "print(0.99**60)"
   ]
  },
  {
   "cell_type": "code",
   "execution_count": 30,
   "metadata": {},
   "outputs": [],
   "source": [
    "# 2.3 回顾"
   ]
  },
  {
   "cell_type": "code",
   "execution_count": 31,
   "metadata": {},
   "outputs": [
    {
     "name": "stdout",
     "output_type": "stream",
     "text": [
      "床前明月光 疑是地上霜 举头望明月 低头思故乡 \n"
     ]
    }
   ],
   "source": [
    "s1 = \"举头望明月 \"\n",
    "s2 = \"床前明月光 \"\n",
    "s3 = \"疑是地上霜 \"\n",
    "s4 = \"低头思故乡 \"\n",
    "print (s2+s3+s1+s4)"
   ]
  },
  {
   "cell_type": "code",
   "execution_count": 32,
   "metadata": {},
   "outputs": [
    {
     "name": "stdout",
     "output_type": "stream",
     "text": [
      " \n",
      " .:::.   .:::.\n",
      ":::::::.:::::::\n",
      ":::::::::::::::\n",
      "':::::::::::::'\n",
      "  ':::::::::'\n",
      "    ':::::'\n",
      "      ':'  \n"
     ]
    }
   ],
   "source": [
    "heart = \"\"\" \n",
    " .:::.   .:::.\n",
    ":::::::.:::::::\n",
    ":::::::::::::::\n",
    "':::::::::::::'\n",
    "  ':::::::::'\n",
    "    ':::::'\n",
    "      ':'  \"\"\"\n",
    "print (heart)"
   ]
  },
  {
   "cell_type": "code",
   "execution_count": 33,
   "metadata": {},
   "outputs": [
    {
     "name": "stdout",
     "output_type": "stream",
     "text": [
      "士士士士士士士土士士士\n"
     ]
    }
   ],
   "source": [
    "n = 7\n",
    "print(\"士\" * n +\"土\" + \"士\" *(10-n))"
   ]
  },
  {
   "cell_type": "code",
   "execution_count": 34,
   "metadata": {},
   "outputs": [
    {
     "name": "stdout",
     "output_type": "stream",
     "text": [
      "请输入你的名字：xumiao\n",
      "你最喜欢的人是谁？vision\n",
      "你最喜欢的地方是？japan\n",
      "你最喜欢做什么事情？reading\n",
      "xumiao和vision在japanreading。\n"
     ]
    }
   ],
   "source": [
    "name = input(\"请输入你的名字：\") \n",
    "person = input(\"你最喜欢的人是谁？\")\n",
    "place = input(\"你最喜欢的地方是？\")\n",
    "action = input(\"你最喜欢做什么事情？\")\n",
    "\n",
    "print(name + \"和\" + person + \"在\" + place + action + \"。\")"
   ]
  },
  {
   "cell_type": "code",
   "execution_count": 35,
   "metadata": {},
   "outputs": [
    {
     "name": "stdout",
     "output_type": "stream",
     "text": [
      "abababab\n"
     ]
    }
   ],
   "source": [
    "a = \"ab\"\n",
    "b= a * 3\n",
    "c = b + a\n",
    "print(c)"
   ]
  },
  {
   "cell_type": "code",
   "execution_count": 36,
   "metadata": {},
   "outputs": [
    {
     "name": "stdout",
     "output_type": "stream",
     "text": [
      "你好Python。\n"
     ]
    }
   ],
   "source": [
    "text_1 = \"你好\"\n",
    "text_2 = \"Python\"\n",
    "# text_1 = \"再见\"\n",
    "# text_3 = \"！\"\n",
    "text_3 = \"。\"\n",
    "print(text_1 + text_2 + text_3)"
   ]
  },
  {
   "cell_type": "code",
   "execution_count": 37,
   "metadata": {},
   "outputs": [
    {
     "name": "stdout",
     "output_type": "stream",
     "text": [
      "“小明”的摩斯密码是：\n",
      "-..- .. .- --- -- .. -. --.\n",
      "我名字的摩斯密码是：\n",
      "-..- --\n"
     ]
    }
   ],
   "source": [
    "# 我用 Python 生成摩斯密码\n",
    "# 字母之间需要保留空格\n",
    "A = '.-'\n",
    "B = '-...'\n",
    "C = '-.-.'\n",
    "D = '-..'\n",
    "E = '.'\n",
    "F = '..-.'\n",
    "G = '--.'\n",
    "H = '....'\n",
    "I = '..'\n",
    "J = '.---'\n",
    "K = '-.-'\n",
    "L = '.-..'\n",
    "M = '--'\n",
    "N = '-.'\n",
    "O = '---'\n",
    "P = '.--.'\n",
    "Q = '--.-'\n",
    "R = '.-.'\n",
    "S = '...'\n",
    "T = '-'\n",
    "U = '..-'\n",
    "V = '...-'\n",
    "W = '.--'\n",
    "X = '-..-'\n",
    "Y = '-.--'\n",
    "Z = '--..'\n",
    "print(\"“小明”的摩斯密码是：\")\n",
    "print(X+' '+I+' '+A+' '+O+' '+M+' '+I+' '+N+' '+G)\n",
    "print(\"我名字的摩斯密码是：\")\n",
    "# 下面请参照上方示例，让程序输出你名字的摩斯密码\n",
    "print(X+' '+M)"
   ]
  },
  {
   "cell_type": "code",
   "execution_count": 38,
   "metadata": {},
   "outputs": [],
   "source": [
    "# 3.1 函数（1）"
   ]
  },
  {
   "cell_type": "code",
   "execution_count": 39,
   "metadata": {},
   "outputs": [
    {
     "name": "stdout",
     "output_type": "stream",
     "text": [
      "<class 'int'>\n",
      "<class 'float'>\n"
     ]
    }
   ],
   "source": [
    "var1 = 11\n",
    "var2 = 1.1\n",
    "\n",
    "print(type(var1))\n",
    "print(type(var2))"
   ]
  },
  {
   "cell_type": "code",
   "execution_count": 40,
   "metadata": {},
   "outputs": [
    {
     "data": {
      "text/plain": [
       "'\\n调用函数：假设你建立了一个网站，向访问者介绍有趣的Python项目。\\n\\n每当有用户进入主页时，屏幕会自动弹出欢迎文字：\\n\\n欢迎来到我的网站\\n这里有各种有趣的Python项目\\n请收藏哦～\\n用之前学到的知识，你可能会这样做：\\n\\nprint(\"欢迎来到我的网站\")\\nprint(\"这里有各种有趣的Python项目\")\\nprint(\"请收藏哦～\")\\n每当用户进入主页，如果都要重复上面三行代码，会导致代码冗长。\\n\\n在 Python中，我们可以将它们写入一个函数，并通过一行代码调用：\\n\\ndef welcome():\\n  print(\"欢迎来到我的网站\")\\n  print(\"这里有各种有趣的Python项目\")\\n  print(\"请收藏哦～\")\\nwelcome()\\n上方示例，创建了 welcome() 函数，并通过最下行的 welcome() 调用它。\\n\\n每次只要我们用一行 welcome() ，就可以在屏幕中输出：\\n\\n欢迎来到我的网站\\n这里有各种有趣的Python项目\\n请收藏哦～\\n\\n'"
      ]
     },
     "execution_count": 40,
     "metadata": {},
     "output_type": "execute_result"
    }
   ],
   "source": [
    "\"\"\"\n",
    "调用函数：假设你建立了一个网站，向访问者介绍有趣的Python项目。\n",
    "\n",
    "每当有用户进入主页时，屏幕会自动弹出欢迎文字：\n",
    "\n",
    "欢迎来到我的网站\n",
    "这里有各种有趣的Python项目\n",
    "请收藏哦～\n",
    "用之前学到的知识，你可能会这样做：\n",
    "\n",
    "print(\"欢迎来到我的网站\")\n",
    "print(\"这里有各种有趣的Python项目\")\n",
    "print(\"请收藏哦～\")\n",
    "每当用户进入主页，如果都要重复上面三行代码，会导致代码冗长。\n",
    "\n",
    "在 Python中，我们可以将它们写入一个函数，并通过一行代码调用：\n",
    "\n",
    "def welcome():\n",
    "  print(\"欢迎来到我的网站\")\n",
    "  print(\"这里有各种有趣的Python项目\")\n",
    "  print(\"请收藏哦～\")\n",
    "welcome()\n",
    "上方示例，创建了 welcome() 函数，并通过最下行的 welcome() 调用它。\n",
    "\n",
    "每次只要我们用一行 welcome() ，就可以在屏幕中输出：\n",
    "\n",
    "欢迎来到我的网站\n",
    "这里有各种有趣的Python项目\n",
    "请收藏哦～\n",
    "\n",
    "\"\"\""
   ]
  },
  {
   "cell_type": "code",
   "execution_count": 41,
   "metadata": {},
   "outputs": [
    {
     "name": "stdout",
     "output_type": "stream",
     "text": [
      "大爷，马冬梅在吗？\n",
      "马冬什么？\n",
      "马冬梅！\n",
      "什么冬梅啊？\n",
      "马 — — 冬梅啊！\n",
      "马什么梅啊？\n",
      "大爷，马冬梅在吗？\n",
      "马冬什么？\n",
      "马冬梅！\n",
      "什么冬梅啊？\n",
      "马 — — 冬梅啊！\n",
      "马什么梅啊？\n"
     ]
    }
   ],
   "source": [
    "def ma_dong_mei():\n",
    "  print(\"大爷，马冬梅在吗？\")\n",
    "  print(\"马冬什么？\")\n",
    "  print(\"马冬梅！\")\n",
    "  print(\"什么冬梅啊？\")\n",
    "  print(\"马 — — 冬梅啊！\")\n",
    "  print(\"马什么梅啊？\")\n",
    "# 在下方调用函数 ma_dong_mei()\n",
    "ma_dong_mei()\n",
    "# 请再调用一次\n",
    "ma_dong_mei()"
   ]
  },
  {
   "cell_type": "code",
   "execution_count": 42,
   "metadata": {},
   "outputs": [
    {
     "data": {
      "text/plain": [
       "'\\n创建函数：在 Python 中，函数包含三个部分 —— 函数名、参数和函数体。\\n\\n需要记住以下几点：\\n\\n我们需要用 def 来定义函数的函数名；\\n\\n函数的参数并不是必需的；\\n\\n函数体在函数名下方，需要缩进（一般2个空格。）\\n\\ndef print_a_name():\\n  print(\"乔布斯\")  \\n上方示例，函数名字为 print_a_name()，参数为空，当函数被调用时，函数体部分的代码将被运行\\n'"
      ]
     },
     "execution_count": 42,
     "metadata": {},
     "output_type": "execute_result"
    }
   ],
   "source": [
    "\"\"\"\n",
    "创建函数：在 Python 中，函数包含三个部分 —— 函数名、参数和函数体。\n",
    "\n",
    "需要记住以下几点：\n",
    "\n",
    "我们需要用 def 来定义函数的函数名；\n",
    "\n",
    "函数的参数并不是必需的；\n",
    "\n",
    "函数体在函数名下方，需要缩进（一般2个空格。）\n",
    "\n",
    "def print_a_name():\n",
    "  print(\"乔布斯\")  \n",
    "上方示例，函数名字为 print_a_name()，参数为空，当函数被调用时，函数体部分的代码将被运行\n",
    "\"\"\""
   ]
  },
  {
   "cell_type": "code",
   "execution_count": 43,
   "metadata": {},
   "outputs": [
    {
     "name": "stdout",
     "output_type": "stream",
     "text": [
      "请调用我\n"
     ]
    }
   ],
   "source": [
    "def please_call_me():\n",
    "  print ('请调用我')\n",
    "please_call_me()"
   ]
  },
  {
   "cell_type": "code",
   "execution_count": 44,
   "metadata": {},
   "outputs": [
    {
     "data": {
      "text/plain": [
       "'\\n空格：在Python中，计算机通过代码的缩进（2格）来判断该部分是否在函数之内，见下图：\\n\\ndef letters():\\n  print(\"a\") #缩进2格\\n  print(\"b\") #缩进2格\\n  print(\"c\") #缩进2格\\nprint(\"d\") #函数之外不需要缩进\\n  print(\"e\") # IndentationError\\n当调用上方示例 letters() 函数时，只会按行输出字母 a，b，c。\\n\\n输出字母 d 的语句在函数之外，不需要缩进。输出字母e的语句会引发缩进错误：IndentationError。\\n\\n注：在有些平台中，python函数体的缩进是4格空格。\\n'"
      ]
     },
     "execution_count": 44,
     "metadata": {},
     "output_type": "execute_result"
    }
   ],
   "source": [
    "\"\"\"\n",
    "空格：在Python中，计算机通过代码的缩进（2格）来判断该部分是否在函数之内，见下图：\n",
    "\n",
    "def letters():\n",
    "  print(\"a\") #缩进2格\n",
    "  print(\"b\") #缩进2格\n",
    "  print(\"c\") #缩进2格\n",
    "print(\"d\") #函数之外不需要缩进\n",
    "  print(\"e\") # IndentationError\n",
    "当调用上方示例 letters() 函数时，只会按行输出字母 a，b，c。\n",
    "\n",
    "输出字母 d 的语句在函数之外，不需要缩进。输出字母e的语句会引发缩进错误：IndentationError。\n",
    "\n",
    "注：在有些平台中，python函数体的缩进是4格空格。\n",
    "\"\"\""
   ]
  },
  {
   "cell_type": "code",
   "execution_count": 45,
   "metadata": {},
   "outputs": [
    {
     "name": "stdout",
     "output_type": "stream",
     "text": [
      "床前明月光，疑是地上霜。\n",
      "举头望明月，低头思故乡。\n"
     ]
    }
   ],
   "source": [
    "def poem():\n",
    "  print(\"举头望明月，低头思故乡。\")\n",
    "print(\"床前明月光，疑是地上霜。\")\n",
    "poem()"
   ]
  },
  {
   "cell_type": "code",
   "execution_count": 46,
   "metadata": {},
   "outputs": [
    {
     "data": {
      "text/plain": [
       "'\\n参数：在函数名字的括号中可以嵌入 参数（称为形式参数），参数可以进入函数体中进行运算。见下图：\\n\\ndef my_singer(name):\\n  print(\"我最喜欢的歌手是：\"+ name)\\n\\nmy_singer(\"陈奕迅\")\\n# 输出：我最喜欢的歌手是：陈奕迅\\n在调用函数 my_singer() 时，需要填入参数（称为实际参数）。\\n\\n关于形式参数和实际参数之间的差异，我们会在后面的课程中做细致讲解。\\n'"
      ]
     },
     "execution_count": 46,
     "metadata": {},
     "output_type": "execute_result"
    }
   ],
   "source": [
    "\"\"\"\n",
    "参数：在函数名字的括号中可以嵌入 参数（称为形式参数），参数可以进入函数体中进行运算。见下图：\n",
    "\n",
    "def my_singer(name):\n",
    "  print(\"我最喜欢的歌手是：\"+ name)\n",
    "\n",
    "my_singer(\"陈奕迅\")\n",
    "# 输出：我最喜欢的歌手是：陈奕迅\n",
    "在调用函数 my_singer() 时，需要填入参数（称为实际参数）。\n",
    "\n",
    "关于形式参数和实际参数之间的差异，我们会在后面的课程中做细致讲解。\n",
    "\"\"\""
   ]
  },
  {
   "cell_type": "code",
   "execution_count": 47,
   "metadata": {},
   "outputs": [
    {
     "name": "stdout",
     "output_type": "stream",
     "text": [
      "28.26\n",
      "63.585\n"
     ]
    }
   ],
   "source": [
    "def circle_size(r):\n",
    "  print(r ** 2 * 3.14)\n",
    "circle_size(3)\n",
    "circle_size(4.5)"
   ]
  },
  {
   "cell_type": "code",
   "execution_count": 48,
   "metadata": {},
   "outputs": [
    {
     "name": "stdout",
     "output_type": "stream",
     "text": [
      "黄灯\n",
      "红灯\n",
      "绿灯\n"
     ]
    }
   ],
   "source": [
    "#代码运行顺序\n",
    "def light():\n",
    "  print(\"红灯\")\n",
    "  print(\"绿灯\")\n",
    "print(\"黄灯\")\n",
    "light()"
   ]
  },
  {
   "cell_type": "code",
   "execution_count": 49,
   "metadata": {},
   "outputs": [
    {
     "name": "stdout",
     "output_type": "stream",
     "text": [
      "Python让我体会到编程的快乐。\n"
     ]
    }
   ],
   "source": [
    "def py_happy(x):\n",
    "  print(\"Python让我\" + x + \"的快乐。\")\n",
    "py_happy(\"体会到编程\")"
   ]
  },
  {
   "cell_type": "code",
   "execution_count": 50,
   "metadata": {},
   "outputs": [
    {
     "name": "stdout",
     "output_type": "stream",
     "text": [
      "720\n"
     ]
    }
   ],
   "source": [
    "\"\"\"\n",
    "\n",
    "三角形内角和为 180度；\n",
    "\n",
    "四边形内角和为 360度；\n",
    "\n",
    "五边形内角和为 540度；\n",
    "\n",
    "……\n",
    "\n",
    "那么，n边形的内角和为多少度？\n",
    "\n",
    "已知：n边形内角和公式 (n-2) * 180：\n",
    "\n",
    "1.请写一个函数 degree()，参数为 side，当n边形的边数为 side 时，输出n边形内角和；\n",
    "\n",
    "2.调用函数 degree()，令 side = 6。\n",
    "\"\"\"\n",
    "# 我用 Python 计算任意多边形内角和\n",
    "def degree(side):\n",
    "  print((side - 2)* 180)\n",
    "degree(6)"
   ]
  },
  {
   "cell_type": "code",
   "execution_count": 51,
   "metadata": {},
   "outputs": [],
   "source": [
    "# 3.2 函数（2）"
   ]
  },
  {
   "cell_type": "code",
   "execution_count": 52,
   "metadata": {},
   "outputs": [
    {
     "data": {
      "text/plain": [
       "'\\n多参数：一个函数可以有多个参数，各个参数用逗号隔开。在定义函数时若有n个参数，在调用时，也需要提供n个参数。\\n\\ndef eat(eater, food):\\n  print(eater + \"爱吃\" + food + \"。\")\\neat(\"猫\",\"鱼\")      # 输出：猫爱吃鱼。\\neat(\"狗\",\"骨头\")  # 输出：狗爱吃骨头。\\n上方示例中，函数 eat() 有两个参数 eater，food。\\n'"
      ]
     },
     "execution_count": 52,
     "metadata": {},
     "output_type": "execute_result"
    }
   ],
   "source": [
    "\"\"\"\n",
    "多参数：一个函数可以有多个参数，各个参数用逗号隔开。在定义函数时若有n个参数，在调用时，也需要提供n个参数。\n",
    "\n",
    "def eat(eater, food):\n",
    "  print(eater + \"爱吃\" + food + \"。\")\n",
    "eat(\"猫\",\"鱼\")      # 输出：猫爱吃鱼。\n",
    "eat(\"狗\",\"骨头\")  # 输出：狗爱吃骨头。\n",
    "上方示例中，函数 eat() 有两个参数 eater，food。\n",
    "\"\"\""
   ]
  },
  {
   "cell_type": "code",
   "execution_count": 53,
   "metadata": {},
   "outputs": [
    {
     "name": "stdout",
     "output_type": "stream",
     "text": [
      "387\n"
     ]
    }
   ],
   "source": [
    "def mul_x_add_y(num, x, y):\n",
    "  print (num * x + y)\n",
    "mul_x_add_y(32, 12, 3)"
   ]
  },
  {
   "cell_type": "code",
   "execution_count": 54,
   "metadata": {},
   "outputs": [
    {
     "data": {
      "text/plain": [
       "'\\n关键字参数：在下方函数中，有两个参数 website 和 item。\\n\\ndef users(website, item):\\n  print(\"你好，欢迎来到\" + website + \"。\")\\n  print(\"今天新推的课程是\" + item + \"。\")\\nusers(\"www.shanbay.com\", \"Python数据分析\")\\n在调用 users() 函数时，第一个参数对应 website，第二个参数对应 item。\\n\\n这种按照位置来赋值的参数叫做 位置参数。除此之外，我们还可以用关键字参数的形式为参数赋值。\\n\\n比如：\\n\\ndef users(website, item):\\n  print(\"你好，欢迎来到\" + website + \"。\")\\n  print(\"今天新推的课程是\" + item + \"。\")\\nusers(item = \"Python数据分析\", website = \"www.shanbay.com\")\\n#上方结果等同于 users(\"www.shanbay.com\", \"Python数据分析\")\\n\\n#输出：你好，欢迎来到www.shanbay.com。\\n#输出：今天新推的课程是Python数据分析。\\n上方示例调用函数 users() 时，将参数和赋值一一对应，此时不考虑参数赋值的顺序。\\n\\n以关键字参数的形式，我们可以给参数设置默认值(一般有默认值的参数放在最后)。\\n\\n如果调用函数时，参数没有被赋值，程序会将默认值赋予该参数。\\n\\n具体请见例子：\\n\\ndef users(item, website = \"www.shanbay.com\"):\\n  print(\"你好，欢迎来到\" + website + \"。\")\\n  print(\"今天新推的课程是\" + item + \"。\")\\nusers(item =\"Python数据分析\")\\n上方示例 users() 函数中，website 参数的默认值为 www.shanbay.com ，在调用该函数时，可以不给 website 参数赋值，程序会自动为它取默认值。\\n\\n运行结果：\\n\\n你好，欢迎来到www.shanbay.com。\\n今天新推的课程是Python数据分析。\\n'"
      ]
     },
     "execution_count": 54,
     "metadata": {},
     "output_type": "execute_result"
    }
   ],
   "source": [
    "\"\"\"\n",
    "关键字参数：在下方函数中，有两个参数 website 和 item。\n",
    "\n",
    "def users(website, item):\n",
    "  print(\"你好，欢迎来到\" + website + \"。\")\n",
    "  print(\"今天新推的课程是\" + item + \"。\")\n",
    "users(\"www.shanbay.com\", \"Python数据分析\")\n",
    "在调用 users() 函数时，第一个参数对应 website，第二个参数对应 item。\n",
    "\n",
    "这种按照位置来赋值的参数叫做 位置参数。除此之外，我们还可以用关键字参数的形式为参数赋值。\n",
    "\n",
    "比如：\n",
    "\n",
    "def users(website, item):\n",
    "  print(\"你好，欢迎来到\" + website + \"。\")\n",
    "  print(\"今天新推的课程是\" + item + \"。\")\n",
    "users(item = \"Python数据分析\", website = \"www.shanbay.com\")\n",
    "#上方结果等同于 users(\"www.shanbay.com\", \"Python数据分析\")\n",
    "\n",
    "#输出：你好，欢迎来到www.shanbay.com。\n",
    "#输出：今天新推的课程是Python数据分析。\n",
    "上方示例调用函数 users() 时，将参数和赋值一一对应，此时不考虑参数赋值的顺序。\n",
    "\n",
    "以关键字参数的形式，我们可以给参数设置默认值(一般有默认值的参数放在最后)。\n",
    "\n",
    "如果调用函数时，参数没有被赋值，程序会将默认值赋予该参数。\n",
    "\n",
    "具体请见例子：\n",
    "\n",
    "def users(item, website = \"www.shanbay.com\"):\n",
    "  print(\"你好，欢迎来到\" + website + \"。\")\n",
    "  print(\"今天新推的课程是\" + item + \"。\")\n",
    "users(item =\"Python数据分析\")\n",
    "上方示例 users() 函数中，website 参数的默认值为 www.shanbay.com ，在调用该函数时，可以不给 website 参数赋值，程序会自动为它取默认值。\n",
    "\n",
    "运行结果：\n",
    "\n",
    "你好，欢迎来到www.shanbay.com。\n",
    "今天新推的课程是Python数据分析。\n",
    "\"\"\""
   ]
  },
  {
   "cell_type": "code",
   "execution_count": 55,
   "metadata": {},
   "outputs": [
    {
     "name": "stdout",
     "output_type": "stream",
     "text": [
      "How are you, Jim?\n",
      "Fine, thank you.\n",
      "How are you, Jim?\n",
      "Not bad.\n"
     ]
    }
   ],
   "source": [
    "def how_are_you(name,reply='Fine, thank you.'):\n",
    "  print(\"How are you, \" + name + \"?\")\n",
    "  print(reply)\n",
    "how_are_you(name='Jim')\n",
    "how_are_you(name='Jim',reply='Not bad.')"
   ]
  },
  {
   "cell_type": "code",
   "execution_count": 56,
   "metadata": {},
   "outputs": [
    {
     "data": {
      "text/plain": [
       "'\\n返回：函数还可以返回值供程序使用。返回值可以赋值给变量，我们用 return 关键字返回函数的值。\\n\\n请看：\\n\\ndef add_two(number):\\n  return number + 2\\n\\nresult = add_two(2)\\nprint(result)   # 输出 4\\n上方示例 add_two() 函数返回值等于参数 number 加 2，我们调用函数 add_two(2) 存入变量 result。\\n\\nprint(result) 输出 4。\\n\\n继续，我们将 result 作为参数放入函数 add_two()：\\n\\nprint(add_two(result))   # 输出：6\\n'"
      ]
     },
     "execution_count": 56,
     "metadata": {},
     "output_type": "execute_result"
    }
   ],
   "source": [
    "\"\"\"\n",
    "返回：函数还可以返回值供程序使用。返回值可以赋值给变量，我们用 return 关键字返回函数的值。\n",
    "\n",
    "请看：\n",
    "\n",
    "def add_two(number):\n",
    "  return number + 2\n",
    "\n",
    "result = add_two(2)\n",
    "print(result)   # 输出 4\n",
    "上方示例 add_two() 函数返回值等于参数 number 加 2，我们调用函数 add_two(2) 存入变量 result。\n",
    "\n",
    "print(result) 输出 4。\n",
    "\n",
    "继续，我们将 result 作为参数放入函数 add_two()：\n",
    "\n",
    "print(add_two(result))   # 输出：6\n",
    "\"\"\""
   ]
  },
  {
   "cell_type": "code",
   "execution_count": 57,
   "metadata": {},
   "outputs": [
    {
     "name": "stdout",
     "output_type": "stream",
     "text": [
      "我今年24岁，我父亲今年56岁\n"
     ]
    }
   ],
   "source": [
    "def age(now, birth):\n",
    "  age = now - birth\n",
    "  return age\n",
    "my_age = age(2019,1995)\n",
    "dad_age = age(2019,1963)\n",
    "# 输出时，my_age 和 dad_age 需要被转化为字符串：str(my_age) 和 str(dad_age)\n",
    "print(\"我今年\" + str(my_age) +\"岁，我父亲今年\" + str(dad_age) + \"岁\")"
   ]
  },
  {
   "cell_type": "code",
   "execution_count": 58,
   "metadata": {},
   "outputs": [
    {
     "data": {
      "text/plain": [
       "'\\n多值返回：我们可以用一个函数返回多个值，用逗号将它们隔开，下方是一个给定圆的半径，计算其周长和面积的函数：\\n\\ndef cir_and_size (r):\\n  cir = 2 * r * 3.14\\n  size = r **2 * 3.14\\n  return cir, size\\n函数 cir_and_size() 返回两个值，一为圆的周长 cir，一为圆的面积 size。我们可以用该函数的返回值给两个变量赋值：\\n\\nx , y = cir_and_size(3)\\nprint(x) # 输出：18.84\\nprint(y) # 输出：28.26\\n'"
      ]
     },
     "execution_count": 58,
     "metadata": {},
     "output_type": "execute_result"
    }
   ],
   "source": [
    "\"\"\"\n",
    "多值返回：我们可以用一个函数返回多个值，用逗号将它们隔开，下方是一个给定圆的半径，计算其周长和面积的函数：\n",
    "\n",
    "def cir_and_size (r):\n",
    "  cir = 2 * r * 3.14\n",
    "  size = r **2 * 3.14\n",
    "  return cir, size\n",
    "函数 cir_and_size() 返回两个值，一为圆的周长 cir，一为圆的面积 size。我们可以用该函数的返回值给两个变量赋值：\n",
    "\n",
    "x , y = cir_and_size(3)\n",
    "print(x) # 输出：18.84\n",
    "print(y) # 输出：28.26\n",
    "\"\"\""
   ]
  },
  {
   "cell_type": "code",
   "execution_count": 59,
   "metadata": {},
   "outputs": [
    {
     "name": "stdout",
     "output_type": "stream",
     "text": [
      "正方形面积为144，周长为48。\n"
     ]
    }
   ],
   "source": [
    "def square(side):\n",
    "  s = side**2\n",
    "  p = side * 4\n",
    "  return s,p\n",
    "x, y = square(12)\n",
    "print(\"正方形面积为\" + str(x) + \"，周长为\"+ str(y) +\"。\")"
   ]
  },
  {
   "cell_type": "code",
   "execution_count": 60,
   "metadata": {},
   "outputs": [
    {
     "data": {
      "text/plain": [
       "\"\\n作用域：函数内的变量，属于该函数的局部作用域，在局部作用域（此函数）之外，该变量失效。\\n\\na=4\\ndef foo(x):\\n  b=a*x*4\\n    return b\\nfoo(a)\\n\\n上图中，可以看到在全局作用域里定义了 a 和 foo，在局部作用域里定义了 x 和 b。全局作用域不能使用局部作用域的变量，但是局部作用域可以使用全局作用域的变量。\\n\\n比如如果运行下列代码，将会报错：\\n\\ndef count(num):\\n  num = 507\\nprint(num)\\nNameError: name 'num' is not defined\\n发生错误是因为：num 变量只属于count() 函数的局部作用域。在 count() 之外，该局部作用域就失效了，不再有 num 变量。因此，当程序执行 print(num) 时，计算机报错：name 'num' is not defined。\\n\\n相反，在函数之外的变量，属于全局作用域，函数可以使用全局作用域中的变量。\\n\\n我们看下一段代码：\\n\\nnum = 507  #此处 num 属于全局作用域\\ndef count(num):\\n  print(num)\\ncount(num)  # 输出： 507\\n上方示例中，num 是一个全局变量，函数 count() 可以使用全局作用域中的变量。\\n\\n因此，当调用函数 count() 时，程序输出 num 的值：507。\\n\""
      ]
     },
     "execution_count": 60,
     "metadata": {},
     "output_type": "execute_result"
    }
   ],
   "source": [
    "\"\"\"\n",
    "作用域：函数内的变量，属于该函数的局部作用域，在局部作用域（此函数）之外，该变量失效。\n",
    "\n",
    "a=4\n",
    "def foo(x):\n",
    "  b=a*x*4\n",
    "    return b\n",
    "foo(a)\n",
    "\n",
    "上图中，可以看到在全局作用域里定义了 a 和 foo，在局部作用域里定义了 x 和 b。全局作用域不能使用局部作用域的变量，但是局部作用域可以使用全局作用域的变量。\n",
    "\n",
    "比如如果运行下列代码，将会报错：\n",
    "\n",
    "def count(num):\n",
    "  num = 507\n",
    "print(num)\n",
    "NameError: name 'num' is not defined\n",
    "发生错误是因为：num 变量只属于count() 函数的局部作用域。在 count() 之外，该局部作用域就失效了，不再有 num 变量。因此，当程序执行 print(num) 时，计算机报错：name 'num' is not defined。\n",
    "\n",
    "相反，在函数之外的变量，属于全局作用域，函数可以使用全局作用域中的变量。\n",
    "\n",
    "我们看下一段代码：\n",
    "\n",
    "num = 507  #此处 num 属于全局作用域\n",
    "def count(num):\n",
    "  print(num)\n",
    "count(num)  # 输出： 507\n",
    "上方示例中，num 是一个全局变量，函数 count() 可以使用全局作用域中的变量。\n",
    "\n",
    "因此，当调用函数 count() 时，程序输出 num 的值：507。\n",
    "\"\"\""
   ]
  },
  {
   "cell_type": "code",
   "execution_count": 61,
   "metadata": {},
   "outputs": [
    {
     "name": "stdout",
     "output_type": "stream",
     "text": [
      "汽车行驶了78公里\n"
     ]
    }
   ],
   "source": [
    "def drive(km):\n",
    "  print(\"汽车行驶了\" + str(km)+\"公里\")\n",
    "drive(78)"
   ]
  },
  {
   "cell_type": "code",
   "execution_count": 62,
   "metadata": {},
   "outputs": [
    {
     "name": "stdout",
     "output_type": "stream",
     "text": [
      "4\n"
     ]
    }
   ],
   "source": [
    "def square(n):\n",
    "  return n*n\n",
    "\n",
    "two_squared = square(2)\n",
    "print(two_squared)"
   ]
  },
  {
   "cell_type": "code",
   "execution_count": 63,
   "metadata": {},
   "outputs": [
    {
     "name": "stdout",
     "output_type": "stream",
     "text": [
      "9 16\n"
     ]
    }
   ],
   "source": [
    "def square(x,y):\n",
    "  return x**2, y**2\n",
    "\n",
    "xsq, ysq = square(3,4)\n",
    "print(xsq, ysq) "
   ]
  },
  {
   "cell_type": "code",
   "execution_count": 64,
   "metadata": {},
   "outputs": [
    {
     "name": "stdout",
     "output_type": "stream",
     "text": [
      "5\n"
     ]
    }
   ],
   "source": [
    "a = 5\n",
    "def function():\n",
    "  a = 3\n",
    "print(a)\n",
    "\n",
    "function()\n",
    "\n",
    "# print(a) 在函数之外，函数之内的变量 a 失效，print(a) 中的 a 取全局变量，值为 5。\n",
    "\n",
    "# function() 不输出任何内容。"
   ]
  },
  {
   "cell_type": "code",
   "execution_count": 65,
   "metadata": {},
   "outputs": [
    {
     "name": "stdout",
     "output_type": "stream",
     "text": [
      "小明早上好！\n"
     ]
    }
   ],
   "source": [
    "def greet(name,msg = \"早上好！\"):\n",
    "  print(name + msg)\n",
    "greet(\"小明\")"
   ]
  },
  {
   "cell_type": "code",
   "execution_count": 66,
   "metadata": {},
   "outputs": [
    {
     "name": "stdout",
     "output_type": "stream",
     "text": [
      "摇啊摇，摇啊摇，摇到外婆桥。摇啊摇，摇啊摇，摇到外婆桥。摇啊摇，摇啊摇，摇到外婆桥。\n"
     ]
    }
   ],
   "source": [
    "\"\"\"\n",
    "《外婆桥》是一首著名的童谣，请补全注释行...处代码：\n",
    "\n",
    "1.创建函数 repeat() ，参数为 yao，num，num 的默认值为 3；\n",
    "\n",
    "2.repeat() 返回 yao * num；\n",
    "\n",
    "3.调用 repeat() ，令yao = \"摇啊摇，\"，num = 2，将返回值赋值给新变量 lyrics；\n",
    "\n",
    "4.将字符串 \"摇到外婆桥。\"添加至 lyrics 之后；\n",
    "\n",
    "5.再次调用 repeat() 函数，这次令yao = lyrics，将返回值赋值给新变量 song；\n",
    "\n",
    "6.输出 song。\n",
    "\"\"\"\n",
    "# 我用 Python 输出歌词\n",
    "def repeat(yao, num = 3):\n",
    "  return yao*num\n",
    "lyrics=repeat('摇啊摇，', 2)\n",
    "lyrics += \"摇到外婆桥。\"\n",
    "song = repeat(yao = lyrics)\n",
    "print(song)"
   ]
  },
  {
   "cell_type": "code",
   "execution_count": 67,
   "metadata": {},
   "outputs": [],
   "source": [
    "# 3.3 回顾"
   ]
  },
  {
   "cell_type": "code",
   "execution_count": 68,
   "metadata": {},
   "outputs": [
    {
     "name": "stdout",
     "output_type": "stream",
     "text": [
      "1024\n"
     ]
    }
   ],
   "source": [
    "\"\"\"\n",
    "今天的第一节中，我们先复习什么是创建函数、空格、函数的参数以及函数的返回，以下知识点是需要大家重点掌握的哈！\n",
    "\n",
    "1）函数包含三个部分 —— 函数名、参数和函数体。\n",
    "\n",
    "2）计算机通过代码的缩进（2格）来判断该部分是否在函数之内。\n",
    "\n",
    "3）在函数名字的括号中可以嵌入 参数（称为形式参数），参数可以进入函数体中进行运算。\n",
    "\n",
    "4）函数还可以返回值供程序使用。返回值可以赋值给变量，我们用 return 关键字返回函数的值。\n",
    "\n",
    "接下来，我们来做第一个练习，巩固上面的知识。\n",
    "\"\"\"\n",
    "def tenth_power(num):\n",
    "  return num ** 10\n",
    "print(tenth_power(2))"
   ]
  },
  {
   "cell_type": "code",
   "execution_count": 69,
   "metadata": {},
   "outputs": [
    {
     "name": "stdout",
     "output_type": "stream",
     "text": [
      "125.0\n"
     ]
    }
   ],
   "source": [
    "def tax(income, base, rate):\n",
    "    return (income-base)*rate\n",
    "result = tax(6000, 3500, 0.05)\n",
    "print(result)"
   ]
  },
  {
   "cell_type": "code",
   "execution_count": 70,
   "metadata": {},
   "outputs": [
    {
     "name": "stdout",
     "output_type": "stream",
     "text": [
      "17.0\n"
     ]
    }
   ],
   "source": [
    "def rect_side(a,b):\n",
    "  c = (a**2 + b**2) ** 0.5\n",
    "  return c\n",
    "print(rect_side(8.0,15.0))"
   ]
  },
  {
   "cell_type": "code",
   "execution_count": 71,
   "metadata": {},
   "outputs": [
    {
     "name": "stdout",
     "output_type": "stream",
     "text": [
      "13\n",
      "21\n",
      "34\n"
     ]
    }
   ],
   "source": [
    "\"\"\"\n",
    "斐波那契数列：\n",
    "\n",
    "1，1，2，3，5，8，13，21……\n",
    "\n",
    "从第三个数开始，第 N 个数 + 第 N+1个数的和等于第 N+2个数。\n",
    "\n",
    "1.创建函数 f()，设置参数 num1，num2；\n",
    "\n",
    "2.函数f() 内创建三个变量：a = num1+num2；b = a + num2；c = b + a；\n",
    "\n",
    "3.函数 f() 返回 a，b，c；\n",
    "\n",
    "4.函数f() 之外，新建变量 num3，num4，num5，令 num3,num4,num5 = f(5,8)；\n",
    "\n",
    "5.分行输出：num3，num4，num5。\n",
    "\"\"\"\n",
    "def f(num1, num2):\n",
    "    a=num1+num2\n",
    "    b=a+num2\n",
    "    c=b+a\n",
    "    return a, b, c\n",
    "num3, num4, num5=f(5,8)\n",
    "print(num3)\n",
    "print(num4)\n",
    "print(num5)"
   ]
  },
  {
   "cell_type": "code",
   "execution_count": 72,
   "metadata": {},
   "outputs": [
    {
     "name": "stdout",
     "output_type": "stream",
     "text": [
      "Welcome\n"
     ]
    }
   ],
   "source": [
    "def func(message, num = 1):\n",
    "    print(message * num)\n",
    " \n",
    "func('Welcome')\n",
    "# func(message, num = 1) 中，num 的默认值为 1\n",
    "\n",
    "# 调取 func() 时，如果没有给 num 赋值，num 取默认值 1"
   ]
  },
  {
   "cell_type": "code",
   "execution_count": 73,
   "metadata": {},
   "outputs": [
    {
     "name": "stdout",
     "output_type": "stream",
     "text": [
      "3 3\n"
     ]
    }
   ],
   "source": [
    "def func(x = 1, y = 2):\n",
    "    x = x + y\n",
    "    y += 1\n",
    "    print(x, y)\n",
    "func(y = 2, x = 1)"
   ]
  },
  {
   "cell_type": "code",
   "execution_count": 74,
   "metadata": {},
   "outputs": [
    {
     "name": "stdout",
     "output_type": "stream",
     "text": [
      "1\n"
     ]
    }
   ],
   "source": [
    "num = 1\n",
    "def func():\n",
    "    num = 3\n",
    "    print(num)\n",
    "print(num)"
   ]
  },
  {
   "cell_type": "code",
   "execution_count": 75,
   "metadata": {},
   "outputs": [
    {
     "name": "stdout",
     "output_type": "stream",
     "text": [
      "5307.27\n"
     ]
    }
   ],
   "source": [
    "\"\"\"\n",
    "房贷计算器 I 等额本息还款\n",
    "\n",
    "老张打算买一套房子，贷款100万，计划分30年还完。\n",
    "\n",
    "已知年利率在4.9%，假设老张用等额本息还款，每月要还多少钱？\n",
    "\n",
    "注：等额本息还款是指：还款期内，每月偿还同等数额的贷款(包括本金和利息)，计算公式如下（也可参考代码中的注释部分）：\n",
    "\n",
    "每月还款额度 =（贷款本金×月利率×（1+月利率）^还款月数） ÷（（1+月利率）^还款月数－1）\n",
    "\n",
    "我们来建立一个计算 等额本息 还款的函数吧：\n",
    "\n",
    "1.创建函数 pay_loan()，设置三个参数 loan，months，year_rate。分别对应贷款金额、还款月数、年利率；\n",
    "\n",
    "2.函数主体内，创建变量 month_rate = year_rate/12；\n",
    "\n",
    "3.创建变量 month_pay ，其值为每月还款额度。代码注释中有参考公式，供自行使用；\n",
    "\n",
    "4.用 round() 函数取 month_pay 小数点后两位，可复制下方代码：month_pay = round(month_pay,2) ；\n",
    "\n",
    "5.函数返回 month_pay；\n",
    "\n",
    "6.输出 pay_loan(1000000,360,4.9) 的结果，看看老张每个月要还多少钱。\n",
    "\n",
    "另外一种常见的还贷方式是等额本金还款，我们会在后面的课程中结合Python知识做继续介绍。\n",
    "\"\"\"\n",
    "# 我用 Python 计算等额本息还款额度\n",
    "def pay_loan(loan, months, year_rate):\n",
    "    month_rate = year_rate/12\n",
    "    month_pay = (loan * (month_rate/100)*(1 + (month_rate/100)) ** months)/((1+ (month_rate/100))**months-1)\n",
    "    month_pay = round(month_pay,2)\n",
    "    return month_pay\n",
    "print(pay_loan(1000000,360,4.9))"
   ]
  },
  {
   "cell_type": "code",
   "execution_count": 76,
   "metadata": {},
   "outputs": [],
   "source": [
    "# 4.1 条件（1）"
   ]
  },
  {
   "cell_type": "code",
   "execution_count": 77,
   "metadata": {},
   "outputs": [
    {
     "data": {
      "text/plain": [
       "'\\n布尔值：在 Python 中，布尔值有两个：True 和 False（首字母须大写）。我们可以通过布尔值“告诉”计算机所处理的信息是“正确”还是“错误”。\\n\\nPython 最后一个字母是 n。        —— True\\nPython 最后一个字母是 p。        —— False\\nPython 是世界上最好的编程语言。       —— 无法判断\\n上方示例，当我们需要计算机判断布尔值时，所处理的信息一定要是客观、可以被明确判断的事实。\\n\\n而 Python是世界上最好的编程语言。 这样的语句，只是观点，而非事实。\\n\\n计算机无法针对观点给出 True 或是 False 的判断。\\n'"
      ]
     },
     "execution_count": 77,
     "metadata": {},
     "output_type": "execute_result"
    }
   ],
   "source": [
    "\"\"\"\n",
    "布尔值：在 Python 中，布尔值有两个：True 和 False（首字母须大写）。我们可以通过布尔值“告诉”计算机所处理的信息是“正确”还是“错误”。\n",
    "\n",
    "Python 最后一个字母是 n。        —— True\n",
    "Python 最后一个字母是 p。        —— False\n",
    "Python 是世界上最好的编程语言。       —— 无法判断\n",
    "上方示例，当我们需要计算机判断布尔值时，所处理的信息一定要是客观、可以被明确判断的事实。\n",
    "\n",
    "而 Python是世界上最好的编程语言。 这样的语句，只是观点，而非事实。\n",
    "\n",
    "计算机无法针对观点给出 True 或是 False 的判断。\n",
    "\"\"\""
   ]
  },
  {
   "cell_type": "code",
   "execution_count": 78,
   "metadata": {},
   "outputs": [
    {
     "name": "stdout",
     "output_type": "stream",
     "text": [
      "这本书的售价是 20元。\n"
     ]
    }
   ],
   "source": [
    "b1 = \"这本书的售价是 20元。\"\n",
    "b2 = \"这本书应该卖贵一些。\"\n",
    "print(b1)"
   ]
  },
  {
   "cell_type": "code",
   "execution_count": 79,
   "metadata": {},
   "outputs": [
    {
     "data": {
      "text/plain": [
       "'\\n相等与不等：和加、减、乘、除一样，布尔值也有自己的运算符。\\n\\n最常见的两个是：\\n\\n== 和 != ，分别表示“相等”和“不等”。\\n\\n需要注意的是，单个等号 = 在 Python中用来为变量赋值，而 == 则表示 “相等”。\\n\\n1 + 1 == 2\\n# 返回 True\\n\\n2 * 3 != 6\\n# 返回 False\\n\\n\"小明喜欢吃鸡腿\" == \"小明喜欢吃\"  \\n# 两个字符串之间要每个字符一一对应才是相等\\n# 返回 False   \\n\\n\"Happy Birthday!\" == \"Happy Birthday!\"\\n# 返回 True\\n\\n\"12\" == 12    \\n# \"12\" 是str，12是int，数据类型不一致，不相等\\n# 返回 False\\n'"
      ]
     },
     "execution_count": 79,
     "metadata": {},
     "output_type": "execute_result"
    }
   ],
   "source": [
    "\"\"\"\n",
    "相等与不等：和加、减、乘、除一样，布尔值也有自己的运算符。\n",
    "\n",
    "最常见的两个是：\n",
    "\n",
    "== 和 != ，分别表示“相等”和“不等”。\n",
    "\n",
    "需要注意的是，单个等号 = 在 Python中用来为变量赋值，而 == 则表示 “相等”。\n",
    "\n",
    "1 + 1 == 2\n",
    "# 返回 True\n",
    "\n",
    "2 * 3 != 6\n",
    "# 返回 False\n",
    "\n",
    "\"小明喜欢吃鸡腿\" == \"小明喜欢吃\"  \n",
    "# 两个字符串之间要每个字符一一对应才是相等\n",
    "# 返回 False   \n",
    "\n",
    "\"Happy Birthday!\" == \"Happy Birthday!\"\n",
    "# 返回 True\n",
    "\n",
    "\"12\" == 12    \n",
    "# \"12\" 是str，12是int，数据类型不一致，不相等\n",
    "# 返回 False\n",
    "\"\"\""
   ]
  },
  {
   "cell_type": "code",
   "execution_count": 80,
   "metadata": {},
   "outputs": [
    {
     "name": "stdout",
     "output_type": "stream",
     "text": [
      "False True False\n"
     ]
    }
   ],
   "source": [
    "s1 = True\n",
    "s2 = False\n",
    "s3 = True\n",
    "s4 = False\n",
    "\n",
    "print(s2,s3,s4)"
   ]
  },
  {
   "cell_type": "code",
   "execution_count": 81,
   "metadata": {},
   "outputs": [
    {
     "data": {
      "text/plain": [
       "'\\n布尔变量：对布尔值，Python中有专门的数据类型：bool，True 和 False （注意首字母大写）也被称作布尔变量。\\n\\nthis_is_true = True    # 为变量 this_is_true 赋值为 True\\nthis_is_false = False    # 为变量 this_is_false 赋值为 False\\n上方示例，分别为变量 this_is_true 和 this_is_false 赋值 True 和 False。\\n'"
      ]
     },
     "execution_count": 81,
     "metadata": {},
     "output_type": "execute_result"
    }
   ],
   "source": [
    "\"\"\"\n",
    "布尔变量：对布尔值，Python中有专门的数据类型：bool，True 和 False （注意首字母大写）也被称作布尔变量。\n",
    "\n",
    "this_is_true = True    # 为变量 this_is_true 赋值为 True\n",
    "this_is_false = False    # 为变量 this_is_false 赋值为 False\n",
    "上方示例，分别为变量 this_is_true 和 this_is_false 赋值 True 和 False。\n",
    "\"\"\""
   ]
  },
  {
   "cell_type": "code",
   "execution_count": 82,
   "metadata": {},
   "outputs": [
    {
     "name": "stdout",
     "output_type": "stream",
     "text": [
      "<class 'str'>\n",
      "<class 'bool'>\n"
     ]
    }
   ],
   "source": [
    "my_bool = 'false'\n",
    "\n",
    "my_bool_2 = False\n",
    "\n",
    "print(type(my_bool))\n",
    "print(type(my_bool_2))"
   ]
  },
  {
   "cell_type": "code",
   "execution_count": 83,
   "metadata": {},
   "outputs": [
    {
     "data": {
      "text/plain": [
       "'\\nif 语句：之前学习布尔值，就是为了现在学习如何写 Python 中的条件语句。\\n\\n条件语句遵循以下基本逻辑：如果……，那么……。比如如果明天会下雨，那么小贝就要带伞：\\n\\n\\n\\n与上面类似的逻辑，比如我们想实现，如果 x 等于2，那么输出x。在Python中，代码会这样写：\\n\\nif x == 2:  # 判断 x 是否等于 2\\n  print(x)\\n你会发现，if 等同于 “如果”，而 : 等同于 “那么”。\\n\\n另外，在if语句下方的代码，需要缩进。\\n'"
      ]
     },
     "execution_count": 83,
     "metadata": {},
     "output_type": "execute_result"
    }
   ],
   "source": [
    "\"\"\"\n",
    "if 语句：之前学习布尔值，就是为了现在学习如何写 Python 中的条件语句。\n",
    "\n",
    "条件语句遵循以下基本逻辑：如果……，那么……。比如如果明天会下雨，那么小贝就要带伞：\n",
    "\n",
    "\n",
    "\n",
    "与上面类似的逻辑，比如我们想实现，如果 x 等于2，那么输出x。在Python中，代码会这样写：\n",
    "\n",
    "if x == 2:  # 判断 x 是否等于 2\n",
    "  print(x)\n",
    "你会发现，if 等同于 “如果”，而 : 等同于 “那么”。\n",
    "\n",
    "另外，在if语句下方的代码，需要缩进。\n",
    "\"\"\""
   ]
  },
  {
   "cell_type": "code",
   "execution_count": 84,
   "metadata": {},
   "outputs": [
    {
     "name": "stdout",
     "output_type": "stream",
     "text": [
      "汪\n"
     ]
    }
   ],
   "source": [
    "def animal(pet):\n",
    "  pet = \"狗\"\n",
    "  return \"汪\"\n",
    "print(animal(\"狗\"))"
   ]
  },
  {
   "cell_type": "code",
   "execution_count": 85,
   "metadata": {},
   "outputs": [
    {
     "data": {
      "text/plain": [
       "'\\n大于、小于、大于等于、小于等于：除了 == 和 != 之外，我们还有 > 、< 、 >= 、<= 这四个符号在数据之间做比较。它们分别对应：大于、小于、大于等于和小于等于四种比较关系。\\n\\ndef movie_rate(score):\\n  if score >= 9.0:\\n   print(\"这是一部非常棒的电影！\")\\n上方示例函数 movie_rate() 中，如果参数 score 大于等于 9.0，那么会输出字符串 \"这是一部非常棒的电影！\"。\\n'"
      ]
     },
     "execution_count": 85,
     "metadata": {},
     "output_type": "execute_result"
    }
   ],
   "source": [
    "\"\"\"\n",
    "大于、小于、大于等于、小于等于：除了 == 和 != 之外，我们还有 > 、< 、 >= 、<= 这四个符号在数据之间做比较。它们分别对应：大于、小于、大于等于和小于等于四种比较关系。\n",
    "\n",
    "def movie_rate(score):\n",
    "  if score >= 9.0:\n",
    "   print(\"这是一部非常棒的电影！\")\n",
    "上方示例函数 movie_rate() 中，如果参数 score 大于等于 9.0，那么会输出字符串 \"这是一部非常棒的电影！\"。\n",
    "\"\"\""
   ]
  },
  {
   "cell_type": "code",
   "execution_count": 86,
   "metadata": {},
   "outputs": [
    {
     "name": "stdout",
     "output_type": "stream",
     "text": [
      "3.5是长，2.5是宽\n"
     ]
    }
   ],
   "source": [
    "def rect(x,y):\n",
    "  if x>y:\n",
    "     return str(x) +\"是长，\"+str(y)+\"是宽\"\n",
    "  if x < Y:\n",
    "     return str(x) +\"是宽，\"+str(y)+\"是长\"\n",
    "  if x==y:\n",
    "     return \"正方形边长为\" + str(x)\n",
    "print(rect(3.5,2.5))"
   ]
  },
  {
   "cell_type": "code",
   "execution_count": 87,
   "metadata": {},
   "outputs": [
    {
     "name": "stdout",
     "output_type": "stream",
     "text": [
      "2等于2\n"
     ]
    }
   ],
   "source": [
    "if 2 == 2:\n",
    "    print(\"2等于2\")\n",
    "# if 判断的条件 2==2 为 True\n",
    "\n",
    "# 因此 if 语句内的代码会被执行\n",
    "\n",
    "# 输出：\"2等于2\""
   ]
  },
  {
   "cell_type": "code",
   "execution_count": 88,
   "metadata": {},
   "outputs": [
    {
     "name": "stdout",
     "output_type": "stream",
     "text": [
      "a小于b\n",
      "完成\n"
     ]
    }
   ],
   "source": [
    "a = 4\n",
    "b = 5\n",
    "if a < b:\n",
    "    print(\"a小于b\") \n",
    "if a > b:\n",
    "    print(\"a大于b\") \n",
    "print(\"完成\")\n",
    "# a < b 条件满足，执行输出 \"a小于b\"\n",
    "\n",
    "# a > b 条件不满足，不执行if条件内语句\n",
    "\n",
    "# 最后输出：\"完成\""
   ]
  },
  {
   "cell_type": "code",
   "execution_count": 89,
   "metadata": {},
   "outputs": [
    {
     "name": "stdout",
     "output_type": "stream",
     "text": [
      "请输入你的出生年份： 1993\n",
      "你的生肖是: 鸡\n"
     ]
    }
   ],
   "source": [
    "\"\"\"\n",
    "生肖计算器：\n",
    "\n",
    "请补充注释行代码，让程序成为一个生肖计算器：\n",
    "\n",
    "输入年份，返回对应生肖。\n",
    "\n",
    "注：input() 函数读取输入计算机的信息，并将其转换为字符串，因此第1行我们用 int() 将输入的年份转换成整数数据，以便数值计算。\n",
    "\n",
    "代码补充完成后，点击运行：\n",
    "\n",
    "输入年份 1988 看看返回的生肖是什么。\n",
    "\n",
    "再看看年份 2019、1992 各自返回的生肖又是什么。\n",
    "\n",
    "附生肖顺序：鼠、牛、虎、兔、龙、蛇、马、羊、猴、鸡、狗、猪\n",
    "\"\"\"\n",
    "#我用 Python 计算生肖属相\n",
    "year = int(input(\"请输入你的出生年份： \"))\n",
    "if (year - 2000) % 12 == 0:\n",
    "  sign = '龙'\n",
    "if (year - 2000) % 12 == 1:\n",
    "  sign = '蛇'  \n",
    "if (year - 2000) % 12 == 2:\n",
    "  sign = '马'\n",
    "if (year - 2000) % 12 == 3:\n",
    "  sign = '羊'\n",
    "if (year - 2000) % 12 == 4:\n",
    "  sign = '猴'\n",
    "if (year - 2000) % 12 == 5:\n",
    "   sign = '鸡'    \n",
    "if (year - 2000) % 12 == 6:\n",
    "  sign = '狗'\n",
    "if (year - 2000) % 12 == 7:\n",
    "  sign = '猪'\n",
    "if (year - 2000) % 12 == 8:\n",
    "  sign = '鼠'\n",
    "if (year - 2000) % 12 == 9:\n",
    "  sign = '牛'    \n",
    "if (year - 2000) % 12 == 10:\n",
    "  sign = '虎'\n",
    "if (year - 2000) % 12 == 11:\n",
    "  sign = '兔'\n",
    "\n",
    "print(\"你的生肖是:\",sign)"
   ]
  },
  {
   "cell_type": "code",
   "execution_count": 90,
   "metadata": {},
   "outputs": [],
   "source": [
    "# 4.2 条件（2）"
   ]
  },
  {
   "cell_type": "code",
   "execution_count": 91,
   "metadata": {},
   "outputs": [
    {
     "data": {
      "text/plain": [
       "'\\nand：当我们想设置更复杂的条件判断时，可以使用逻辑符号。我们将学习三个逻辑符号：and、or 和 not。\\n\\nand 将两个条件判断联结起来，只有当前后两个条件都为 True 时，整个 and 联结条件才判断为 True，否则为 False。\\n\\n(1+1 == 2) and (1 - 1 == 0)\\n#返回 True\\n\\n(1+1 ==2) and (1 -1 == 1)\\n#返回 False\\n\\n(\"你好\" == \"你\") and (\"你好\" == \"好\")\\n#返回 False\\n\\n(16 != 4**2) and (2**4 == 16)\\n#返回 False\\n上方示例，虽然第二句与第四句各自包含了一个True判断，但是由于不满足 and 前后都是 True 的条件，因此返回 False。第三个语句 and 前后都是 False，所以返回 False。\\n'"
      ]
     },
     "execution_count": 91,
     "metadata": {},
     "output_type": "execute_result"
    }
   ],
   "source": [
    "\"\"\"\n",
    "and：当我们想设置更复杂的条件判断时，可以使用逻辑符号。我们将学习三个逻辑符号：and、or 和 not。\n",
    "\n",
    "and 将两个条件判断联结起来，只有当前后两个条件都为 True 时，整个 and 联结条件才判断为 True，否则为 False。\n",
    "\n",
    "(1+1 == 2) and (1 - 1 == 0)\n",
    "#返回 True\n",
    "\n",
    "(1+1 ==2) and (1 -1 == 1)\n",
    "#返回 False\n",
    "\n",
    "(\"你好\" == \"你\") and (\"你好\" == \"好\")\n",
    "#返回 False\n",
    "\n",
    "(16 != 4**2) and (2**4 == 16)\n",
    "#返回 False\n",
    "上方示例，虽然第二句与第四句各自包含了一个True判断，但是由于不满足 and 前后都是 True 的条件，因此返回 False。第三个语句 and 前后都是 False，所以返回 False。\n",
    "\"\"\""
   ]
  },
  {
   "cell_type": "code",
   "execution_count": 92,
   "metadata": {},
   "outputs": [
    {
     "name": "stdout",
     "output_type": "stream",
     "text": [
      "恭喜你进入复试！\n"
     ]
    }
   ],
   "source": [
    "def exam(eng, poli):\n",
    "  if eng >= 65 and poli >= 60:\n",
    "    return \"恭喜你进入复试！\"\n",
    "print(exam(75,70))"
   ]
  },
  {
   "cell_type": "code",
   "execution_count": 93,
   "metadata": {},
   "outputs": [
    {
     "data": {
      "text/plain": [
       "'\\nor：or 前后至少有一个 True，则 or 联结的整个判断条件为 True。如果 or 前后都是 False，则 or 联结的整个判断条件也为 False。\\n\\nTrue or (3 + 4 == 7)\\n#返回 True\\n\\n(1 - 1 == 0) or (1+1 != 2)\\n#返回 True\\n\\n(2 < 0) or True\\n#返回 True\\n\\n(13 == 8) or (-3 > 4) \\n#返回 False\\n上方示例，只有第四条语句的 or 前后都是 False，因此第四条语句为 False。\\n'"
      ]
     },
     "execution_count": 93,
     "metadata": {},
     "output_type": "execute_result"
    }
   ],
   "source": [
    "\"\"\"\n",
    "or：or 前后至少有一个 True，则 or 联结的整个判断条件为 True。如果 or 前后都是 False，则 or 联结的整个判断条件也为 False。\n",
    "\n",
    "True or (3 + 4 == 7)\n",
    "#返回 True\n",
    "\n",
    "(1 - 1 == 0) or (1+1 != 2)\n",
    "#返回 True\n",
    "\n",
    "(2 < 0) or True\n",
    "#返回 True\n",
    "\n",
    "(13 == 8) or (-3 > 4) \n",
    "#返回 False\n",
    "上方示例，只有第四条语句的 or 前后都是 False，因此第四条语句为 False。\n",
    "\"\"\""
   ]
  },
  {
   "cell_type": "code",
   "execution_count": 94,
   "metadata": {},
   "outputs": [
    {
     "name": "stdout",
     "output_type": "stream",
     "text": [
      "恭喜你通过复试！\n"
     ]
    }
   ],
   "source": [
    "def second_exam(score, comp):\n",
    "  if score >= 80 or comp == True:\n",
    "     return '恭喜你通过复试！'\n",
    "print(second_exam(78, True))"
   ]
  },
  {
   "cell_type": "code",
   "execution_count": 95,
   "metadata": {},
   "outputs": [
    {
     "data": {
      "text/plain": [
       "'\\nnot：当 not 放在 True 或者 False 之前，得到相反的逻辑值结果。\\n\\nnot True == False\\n#返回 True\\n\\nnot False == True\\n#返回 True\\n\\nnot 1 +1 == 2\\n#返回 False\\n\\nnot \"你好\" == \"好\"\\n#返回 True\\n'"
      ]
     },
     "execution_count": 95,
     "metadata": {},
     "output_type": "execute_result"
    }
   ],
   "source": [
    "\"\"\"\n",
    "not：当 not 放在 True 或者 False 之前，得到相反的逻辑值结果。\n",
    "\n",
    "not True == False\n",
    "#返回 True\n",
    "\n",
    "not False == True\n",
    "#返回 True\n",
    "\n",
    "not 1 +1 == 2\n",
    "#返回 False\n",
    "\n",
    "not \"你好\" == \"好\"\n",
    "#返回 True\n",
    "\"\"\""
   ]
  },
  {
   "cell_type": "code",
   "execution_count": 96,
   "metadata": {},
   "outputs": [
    {
     "name": "stdout",
     "output_type": "stream",
     "text": [
      "账号或密码输入错误，请重试。\n"
     ]
    }
   ],
   "source": [
    "def user_password(username, password):\n",
    "  if not username =='xiaoming' or not password == '2019kaoyan':\n",
    "     return '账号或密码输入错误，请重试。'\n",
    "print(user_password(\"xiaoming\",\"2019KaoYan\"))"
   ]
  },
  {
   "cell_type": "code",
   "execution_count": 97,
   "metadata": {},
   "outputs": [
    {
     "data": {
      "text/plain": [
       "'\\nelse：else 一般在条件判断的结尾，判断那些没有满足 if 条件的状况。比如如果明天下雨，那么小贝就坐地铁，否则就骑自行车：\\n\\n\\n\\n接下来我们来看一下，代码是如何实现 else 逻辑的：\\n\\nif time == \"22:00\":\\n  return \"现在是晚上十点。\"\\nelse:\\n  return \"现在不是晚上十点。\"\\n'"
      ]
     },
     "execution_count": 97,
     "metadata": {},
     "output_type": "execute_result"
    }
   ],
   "source": [
    "\"\"\"\n",
    "else：else 一般在条件判断的结尾，判断那些没有满足 if 条件的状况。比如如果明天下雨，那么小贝就坐地铁，否则就骑自行车：\n",
    "\n",
    "\n",
    "\n",
    "接下来我们来看一下，代码是如何实现 else 逻辑的：\n",
    "\n",
    "if time == \"22:00\":\n",
    "  return \"现在是晚上十点。\"\n",
    "else:\n",
    "  return \"现在不是晚上十点。\"\n",
    "\"\"\""
   ]
  },
  {
   "cell_type": "code",
   "execution_count": 98,
   "metadata": {},
   "outputs": [
    {
     "name": "stdout",
     "output_type": "stream",
     "text": [
      "正在进入网站\n"
     ]
    }
   ],
   "source": [
    "def user_password(username, password):\n",
    "  if not (username == \"xiaoming\" and password == \"2019kaoyan\"):\n",
    "    return \"账号或密码输入错误，请重试。\"\n",
    "  else:\n",
    "    return '正在进入网站'\n",
    "print(user_password(\"xiaoming\",\"2019kaoyan\"))"
   ]
  },
  {
   "cell_type": "code",
   "execution_count": 99,
   "metadata": {},
   "outputs": [
    {
     "data": {
      "text/plain": [
       "'\\nelif：elif 是 else if 的缩写，当 elif 之前的条件不被满足时，计算机会验证 elif 中的判断条件是否为 True。我们来比较下面两个例子：\\n\\na = 3\\nif a > 2:\\n  print(\"a大于2\")\\nif a > 1:\\n  print(\"a大于1\")\\n#输出：\\na大于2\\na大于1\\n我们可以用如下流程图来表示上述逻辑：\\n\\n\\n\\n第一个例子中，计算机将 a > 2 和 a > 1 都验证了一遍：两个条件都满足，因此两个条件内的语句都被执行。\\n\\n如果我们想实现如下逻辑：\\n\\n\\n\\n需要使用 elif 语句：\\n\\na = 3\\nif a > 2:\\n print(\"a大于2\")\\nelif a > 1:\\n print(\"a大于1\")\\n#输出：\\na大于2\\n在第二个例子中，条件 a > 2 已经被满足，计算机就不会处理 elif a > 1 的判断。只有 elif 条件判断之前的条件不被满足时，elif 条件才会被验证是否为 True。\\n'"
      ]
     },
     "execution_count": 99,
     "metadata": {},
     "output_type": "execute_result"
    }
   ],
   "source": [
    "\"\"\"\n",
    "elif：elif 是 else if 的缩写，当 elif 之前的条件不被满足时，计算机会验证 elif 中的判断条件是否为 True。我们来比较下面两个例子：\n",
    "\n",
    "a = 3\n",
    "if a > 2:\n",
    "  print(\"a大于2\")\n",
    "if a > 1:\n",
    "  print(\"a大于1\")\n",
    "#输出：\n",
    "a大于2\n",
    "a大于1\n",
    "我们可以用如下流程图来表示上述逻辑：\n",
    "\n",
    "\n",
    "\n",
    "第一个例子中，计算机将 a > 2 和 a > 1 都验证了一遍：两个条件都满足，因此两个条件内的语句都被执行。\n",
    "\n",
    "如果我们想实现如下逻辑：\n",
    "\n",
    "\n",
    "\n",
    "需要使用 elif 语句：\n",
    "\n",
    "a = 3\n",
    "if a > 2:\n",
    " print(\"a大于2\")\n",
    "elif a > 1:\n",
    " print(\"a大于1\")\n",
    "#输出：\n",
    "a大于2\n",
    "在第二个例子中，条件 a > 2 已经被满足，计算机就不会处理 elif a > 1 的判断。只有 elif 条件判断之前的条件不被满足时，elif 条件才会被验证是否为 True。\n",
    "\"\"\""
   ]
  },
  {
   "cell_type": "code",
   "execution_count": 100,
   "metadata": {},
   "outputs": [
    {
     "name": "stdout",
     "output_type": "stream",
     "text": [
      "可申请奖学金1000元\n"
     ]
    }
   ],
   "source": [
    "def apply(rank):\n",
    "  if rank <= 5:\n",
    "    return \"可申请奖学金4000元\"\n",
    "  elif 6<=rank<=20:\n",
    "    return \"可申请奖学金1000元\"\n",
    "  elif rank >20:\n",
    "    return \"抱歉，不符合奖学金申请条件\"\n",
    "print(apply(7))  "
   ]
  },
  {
   "cell_type": "code",
   "execution_count": 101,
   "metadata": {},
   "outputs": [
    {
     "data": {
      "text/plain": [
       "'\\ntry 和 except：try 和 except 条件判断，帮助我们检查代码中可能存在的错误。计算机会先执行 try 条件下的语句，一旦出现例外情况，比如错误 NameError 或者 ValueError，计算机会终止执行 try 条件下的语句，并且当该例外情况满足 except 中指定的条件，计算机会执行 except 中的语句。我们通过例子来理解：\\n\\ndef divide_num(num1,num2):\\n  try:\\n    result = num1 / num2\\n    print (result)\\n  except ZeroDivisionError:\\n    print (\"0不能作除数！\")\\n上方示例中，如果 num2 被赋值为 0 ，计算机会抛出 ZeroDivisionError，此时 try 条件下的语句会被终止执行。同时，except 中指明了该错误类型 ZeroDivisionError，计算机会执行 except 条件下的指令 — — print (\"0不能作除数！\")。\\n'"
      ]
     },
     "execution_count": 101,
     "metadata": {},
     "output_type": "execute_result"
    }
   ],
   "source": [
    "\"\"\"\n",
    "try 和 except：try 和 except 条件判断，帮助我们检查代码中可能存在的错误。计算机会先执行 try 条件下的语句，一旦出现例外情况，比如错误 NameError 或者 ValueError，计算机会终止执行 try 条件下的语句，并且当该例外情况满足 except 中指定的条件，计算机会执行 except 中的语句。我们通过例子来理解：\n",
    "\n",
    "def divide_num(num1,num2):\n",
    "  try:\n",
    "    result = num1 / num2\n",
    "    print (result)\n",
    "  except ZeroDivisionError:\n",
    "    print (\"0不能作除数！\")\n",
    "上方示例中，如果 num2 被赋值为 0 ，计算机会抛出 ZeroDivisionError，此时 try 条件下的语句会被终止执行。同时，except 中指明了该错误类型 ZeroDivisionError，计算机会执行 except 条件下的指令 — — print (\"0不能作除数！\")。\n",
    "\"\"\""
   ]
  },
  {
   "cell_type": "code",
   "execution_count": 102,
   "metadata": {},
   "outputs": [
    {
     "name": "stdout",
     "output_type": "stream",
     "text": [
      "类型错误！\n"
     ]
    }
   ],
   "source": [
    "def count(num):\n",
    "  text = \"一闪一闪亮晶晶，\"\n",
    "  print(text + \"天上一共\" + num + \"颗星\")\n",
    "    \n",
    "try:\n",
    "  count(3)\n",
    "except TypeError:\n",
    "  print(\"类型错误！\")"
   ]
  },
  {
   "cell_type": "code",
   "execution_count": 103,
   "metadata": {},
   "outputs": [
    {
     "ename": "IndentationError",
     "evalue": "expected an indented block (<ipython-input-103-d31c58345c1c>, line 2)",
     "output_type": "error",
     "traceback": [
      "\u001b[0;36m  File \u001b[0;32m\"<ipython-input-103-d31c58345c1c>\"\u001b[0;36m, line \u001b[0;32m2\u001b[0m\n\u001b[0;31m    print('foo')\u001b[0m\n\u001b[0m        ^\u001b[0m\n\u001b[0;31mIndentationError\u001b[0m\u001b[0;31m:\u001b[0m expected an indented block\n"
     ]
    }
   ],
   "source": [
    "if (1 == 2):\n",
    "print('foo')\n",
    "# IndentationError: expected an indented block （需要缩进）"
   ]
  },
  {
   "cell_type": "code",
   "execution_count": 104,
   "metadata": {},
   "outputs": [
    {
     "name": "stdout",
     "output_type": "stream",
     "text": [
      "9\n"
     ]
    }
   ],
   "source": [
    "a = 3 ** 2\n",
    "if a % 2 == 1:\n",
    "  print(a)\n",
    "elif a % 3 == 0:\n",
    "  print(a/3)\n",
    "# elif 语句只在之前的条件判断不被满足时才会被检验。"
   ]
  },
  {
   "cell_type": "code",
   "execution_count": 105,
   "metadata": {},
   "outputs": [
    {
     "name": "stdout",
     "output_type": "stream",
     "text": [
      "True\n"
     ]
    }
   ],
   "source": [
    "test =\"你好\" ==\"你好！\"or \"你好\" == \"你\"+\"好\"\n",
    "print(test)\n",
    "# or 前后至少有一个 True，则 or 联结的整个判断条件为 True。\n",
    "\n",
    "# \"你好\" == \"你\" + \"好\" 为 True。"
   ]
  },
  {
   "cell_type": "code",
   "execution_count": 106,
   "metadata": {},
   "outputs": [
    {
     "name": "stdout",
     "output_type": "stream",
     "text": [
      "200000元应缴个人所得税：23080.0元\n",
      "100000元应缴个人所得税：7480.0元\n",
      "50000元应缴个人所得税：2480.0元\n"
     ]
    }
   ],
   "source": [
    "# 个税计算器\n",
    "\n",
    "# 请补全注释行 ... 的代码，实现下表中的个税计算方法：\n",
    "\n",
    "\"\"\"\n",
    "收入                        税率    速扣数\n",
    "不超过36000                  3%      0\n",
    "超过36000 至 144000部分      10%     2520\n",
    "超过144000 至 300000部分     20%     16920\n",
    "超过300000 至 420000部分     25%     31920\n",
    "超过420000 至 660000部分     30%     52920\n",
    "超过660000 至 960000部分     35%     85920\n",
    "超过960000部分               45%     181920\n",
    "纳税额 = 收入 * 档位税率 - 档位速扣数\n",
    "\"\"\"\n",
    "# 我用Python计算个税\n",
    "def tax(income):\n",
    "  if income < 0:\n",
    "    tax = 0\n",
    "  elif income <= 36000:\n",
    "    tax = income * 0.03\n",
    "  elif income <= 144000:\n",
    "    tax = income * 0.1 - 2520\n",
    "  elif income <= 300000:\n",
    "    tax = income * 0.2 - 16920\n",
    "  elif income <= 420000:\n",
    "    tax = income * 0.25 - 31920\n",
    "  elif income <= 660000:\n",
    "    tax = income * 0.3 - 52920\n",
    "  elif income <= 960000:\n",
    "    tax = income * 0.35 - 85920\n",
    "  else:\n",
    "    tax = income * 0.45 - 181920\n",
    "  return \"应缴个人所得税：\" + str(tax) + \"元\"\n",
    "\n",
    "print(\"200000元\"+tax(200000))\n",
    "print(\"100000元\"+tax(100000))\n",
    "print(\"50000元\"+tax(50000))"
   ]
  },
  {
   "cell_type": "code",
   "execution_count": 107,
   "metadata": {},
   "outputs": [],
   "source": [
    "# 4.3 回顾"
   ]
  },
  {
   "cell_type": "code",
   "execution_count": 108,
   "metadata": {},
   "outputs": [
    {
     "data": {
      "text/plain": [
       "'\\n今天的练习中，我们首先复习以下知识点：\\n\\nif 语句：if 等同于 “如果”，而 : 等同于 “那么”。另外，在if语句下方的代码，需要缩进。\\n\\nelse 语句：else 一般在条件判断的结尾，判断那些没有满足 if 条件的状况。\\n\\n大于等于、小于等于：> 、< 、 >= 、<= 这四个符号在数据之间做比较。它们分别对应：大于、小于、大于等于和小于等于四种比较关系。\\n\\nand：and 将两个条件判断联结起来，只有当前后两个条件都为 True 时，整个 and 联结条件才判断为 True，否则为 False。\\n\\n布尔值：布尔值有两个：True 和 False（首字母须大写）。\\n\\n好，复习完毕，我们来完成第一个练习吧！\\n'"
      ]
     },
     "execution_count": 108,
     "metadata": {},
     "output_type": "execute_result"
    }
   ],
   "source": [
    "\"\"\"\n",
    "今天的练习中，我们首先复习以下知识点：\n",
    "\n",
    "if 语句：if 等同于 “如果”，而 : 等同于 “那么”。另外，在if语句下方的代码，需要缩进。\n",
    "\n",
    "else 语句：else 一般在条件判断的结尾，判断那些没有满足 if 条件的状况。\n",
    "\n",
    "大于等于、小于等于：> 、< 、 >= 、<= 这四个符号在数据之间做比较。它们分别对应：大于、小于、大于等于和小于等于四种比较关系。\n",
    "\n",
    "and：and 将两个条件判断联结起来，只有当前后两个条件都为 True 时，整个 and 联结条件才判断为 True，否则为 False。\n",
    "\n",
    "布尔值：布尔值有两个：True 和 False（首字母须大写）。\n",
    "\n",
    "好，复习完毕，我们来完成第一个练习吧！\n",
    "\"\"\""
   ]
  },
  {
   "cell_type": "code",
   "execution_count": 109,
   "metadata": {},
   "outputs": [
    {
     "name": "stdout",
     "output_type": "stream",
     "text": [
      "False\n",
      "True\n"
     ]
    }
   ],
   "source": [
    "def fanwei(num, small, big):\n",
    "  if small<=num<=big:\n",
    "    return True\n",
    "  else:\n",
    "    return False\n",
    "print(fanwei(3,6,9))\n",
    "print(fanwei(7,3,10))"
   ]
  },
  {
   "cell_type": "code",
   "execution_count": 110,
   "metadata": {},
   "outputs": [
    {
     "data": {
      "text/plain": [
       "'\\n接下来，我们来看条件判断中又一个重要的知识点：\\n\\nelif 语句：elif 是 else if 的缩写，当 elif 之前的条件不被满足时，计算机会验证 elif 中的判断条件是否为 True。\\n\\n我们来完成练习，加强对它的掌握能力！\\n'"
      ]
     },
     "execution_count": 110,
     "metadata": {},
     "output_type": "execute_result"
    }
   ],
   "source": [
    "\"\"\"\n",
    "接下来，我们来看条件判断中又一个重要的知识点：\n",
    "\n",
    "elif 语句：elif 是 else if 的缩写，当 elif 之前的条件不被满足时，计算机会验证 elif 中的判断条件是否为 True。\n",
    "\n",
    "我们来完成练习，加强对它的掌握能力！\n",
    "\"\"\""
   ]
  },
  {
   "cell_type": "code",
   "execution_count": 111,
   "metadata": {},
   "outputs": [
    {
     "name": "stdout",
     "output_type": "stream",
     "text": [
      "不错的餐厅\n",
      "超棒的餐厅\n"
     ]
    }
   ],
   "source": [
    "def rate(score):\n",
    "  if score <= 3:\n",
    "    return \"餐厅口碑不好\"\n",
    "  elif score > 3 and score < 4:\n",
    "    return \"不错的餐厅\"\n",
    "  else:\n",
    "    return \"超棒的餐厅\"\n",
    "print(rate(3.7))\n",
    "print(rate(5.0))"
   ]
  },
  {
   "cell_type": "code",
   "execution_count": 112,
   "metadata": {},
   "outputs": [
    {
     "data": {
      "text/plain": [
       "'\\n接下来，我们来回顾知识点：\\n\\nor：or 前后至少有一个 True，则 or 联结的整个判断条件为 True。如果 or 前后都是 False，则 or 联结的整个判断条件也为 False。\\n'"
      ]
     },
     "execution_count": 112,
     "metadata": {},
     "output_type": "execute_result"
    }
   ],
   "source": [
    "\"\"\"\n",
    "接下来，我们来回顾知识点：\n",
    "\n",
    "or：or 前后至少有一个 True，则 or 联结的整个判断条件为 True。如果 or 前后都是 False，则 or 联结的整个判断条件也为 False。\n",
    "\"\"\""
   ]
  },
  {
   "cell_type": "code",
   "execution_count": 113,
   "metadata": {},
   "outputs": [
    {
     "name": "stdout",
     "output_type": "stream",
     "text": [
      "门票免费\n",
      "门票免费\n",
      "请购票\n"
     ]
    }
   ],
   "source": [
    "def ticket(time, age):\n",
    "  if time == '早晨' or age >= 70:\n",
    "    return '门票免费'\n",
    "  else:\n",
    "    return '请购票'\n",
    "print(ticket(\"早晨\",50))\n",
    "print(ticket(\"下午\",72))\n",
    "print(ticket(\"下午\",20))"
   ]
  },
  {
   "cell_type": "code",
   "execution_count": 114,
   "metadata": {},
   "outputs": [
    {
     "data": {
      "text/plain": [
       "'\\n等于：== 和 != ，分别表示“相等”和“不等”。\\n\\n需要注意的是，单个等号 = 在 Python中用来为变量赋值，而 == 则表示 “相等”。\\n\\n完成练习，挑战自己！\\n'"
      ]
     },
     "execution_count": 114,
     "metadata": {},
     "output_type": "execute_result"
    }
   ],
   "source": [
    "\"\"\"\n",
    "等于：== 和 != ，分别表示“相等”和“不等”。\n",
    "\n",
    "需要注意的是，单个等号 = 在 Python中用来为变量赋值，而 == 则表示 “相等”。\n",
    "\n",
    "完成练习，挑战自己！\n",
    "\"\"\""
   ]
  },
  {
   "cell_type": "code",
   "execution_count": 115,
   "metadata": {},
   "outputs": [
    {
     "name": "stdout",
     "output_type": "stream",
     "text": [
      "42是偶数\n",
      "33不是偶数\n"
     ]
    }
   ],
   "source": [
    "def find_even(num):\n",
    "    if num % 2 == 0:\n",
    "        return str(num) + \"是偶数\"\n",
    "    else:\n",
    "        return str(num) + \"不是偶数\"\n",
    "print(find_even(42))\n",
    "print(find_even(33))"
   ]
  },
  {
   "cell_type": "code",
   "execution_count": 116,
   "metadata": {},
   "outputs": [
    {
     "name": "stdout",
     "output_type": "stream",
     "text": [
      "33\n",
      "平局！\n"
     ]
    }
   ],
   "source": [
    "def max_num(num1, num2, num3):\n",
    "  if num1 > num2 and num1 > num3:\n",
    "    return num1\n",
    "  elif num2 > num1 and num2 > num3:\n",
    "    return num2\n",
    "  elif num3 > num1 and num3 > num2:\n",
    "    return num3\n",
    "  else:\n",
    "    return \"平局！\"\n",
    "print(max_num(32,12,33))\n",
    "print(max_num(12,65,65))"
   ]
  },
  {
   "cell_type": "code",
   "execution_count": 117,
   "metadata": {},
   "outputs": [
    {
     "name": "stdout",
     "output_type": "stream",
     "text": [
      "小\n",
      "完成\n"
     ]
    }
   ],
   "source": [
    "x = 0\n",
    "if x < 2 :\n",
    "    print('小')\n",
    "elif x < 10 :\n",
    "    print('中')\n",
    "else :\n",
    "    print('大')\n",
    "print('完成')\n",
    "#elif 只有当前面条件不被满足时，才会检验其条件是否为 True。"
   ]
  },
  {
   "cell_type": "code",
   "execution_count": 118,
   "metadata": {},
   "outputs": [
    {
     "name": "stdout",
     "output_type": "stream",
     "text": [
      "x小于2\n"
     ]
    }
   ],
   "source": [
    "if x < 2 :\n",
    "    print('x小于2')\n",
    "elif x > 2 :\n",
    "     print('x大于2')\n",
    "else :\n",
    "    print('其他数字')\n",
    "#当 if 和 elif 条件不被满足时，程序会执行 else 条件内的语句。"
   ]
  },
  {
   "cell_type": "code",
   "execution_count": 119,
   "metadata": {},
   "outputs": [
    {
     "name": "stdout",
     "output_type": "stream",
     "text": [
      "-1\n"
     ]
    }
   ],
   "source": [
    "a = 'Python'\n",
    "b = 0\n",
    "try:\n",
    "    a = int(a)\n",
    "except:\n",
    "    b = -1\n",
    "print(b)\n",
    "# 因为变量 a为文字，不能被转化成整数值，因此 try 中的语句 a = int(a) 将会出错。\n",
    "\n",
    "# 程序执行 except 中的语句 b = -1。"
   ]
  },
  {
   "cell_type": "code",
   "execution_count": 120,
   "metadata": {},
   "outputs": [
    {
     "name": "stdout",
     "output_type": "stream",
     "text": [
      "去上海长途方案最划算：1250公里花费 1750元\n",
      "去济南两种方案价格一样：400公里需要花费 1300元\n",
      "去天津短途方案最划算：150公里花费 625.0元\n"
     ]
    }
   ],
   "source": [
    "\"\"\"\n",
    "哪种租车方式更划算？\n",
    "\n",
    "你打算从北京去一个城市旅游（不考虑往返）：\n",
    "\n",
    "天津，距北京150公里；\n",
    "\n",
    "济南，距北京400公里；\n",
    "\n",
    "上海，距北京1250公里；\n",
    "\n",
    "为了方便出行，你打算租一辆车。\n",
    "\n",
    "租车公司给了你两套方案：\n",
    "\n",
    "1. 长途方案\n",
    "\n",
    "里程（公里）， 单价（元/公里）， 固定服务费（元）\n",
    "\n",
    "200（含） ，3 ，500\n",
    "\n",
    "200～600（含） ，2 ，500\n",
    "\n",
    "600～1000（含） ，1.5 ，500\n",
    "\n",
    "1000～ ，1 ， 500\n",
    "\n",
    "2. 短途方案\n",
    "\n",
    "里程（公里） ，单价（元/公里） ，固定服务费（元）\n",
    "\n",
    "200（含） ，3.5 ，100\n",
    "\n",
    "200～600（含） ，3 ，100\n",
    "\n",
    "600～1000（含） ，2.25 ，100\n",
    "\n",
    "1000～ ， 2 ， 100\n",
    "\n",
    "请补全注释行 ... 处代码，计算从北京去天津、济南、上海各自划算的租车方案。\n",
    "\"\"\"\n",
    "# 长途方案花费\n",
    "def long_cost(km):\n",
    "  if km <=200:\n",
    "    cost = 3 * km + 500\n",
    "  elif km <=600:\n",
    "    cost = 2 * km + 500\n",
    "  elif km <=1000:\n",
    "    cost = 1.5 * km + 500\n",
    "  else:\n",
    "    cost = 1*km+500\n",
    "  return cost\n",
    "\n",
    "# 短途方案花费\n",
    "def short_cost(km):\n",
    "  if km<=200:\n",
    "    cost = 3.5*km+100\n",
    "  elif km <=600:\n",
    "    cost = 3 * km + 100\n",
    "  elif km<=1000:\n",
    "    cost = 2.25 * km + 100\n",
    "  else:\n",
    "    cost = 2 * km + 100\n",
    "  return cost\n",
    "\n",
    "# 当里程确定时，比较长途和短途费用\n",
    "def cheapest(km):\n",
    "  l = long_cost(km)\n",
    "  s = short_cost(km)\n",
    "  if l > s:\n",
    "    return \"短途方案最划算：\"+str(km)+\"公里花费 \"+str(s)+\"元\"\n",
    "  elif l < s:\n",
    "    return  \"长途方案最划算：\"+str(km)+\"公里花费 \"+str(l)+\"元\"\n",
    "  else:\n",
    "    return \"两种方案价格一样：\"+str(km)+\"公里需要花费 \" +str(s)+\"元\"\n",
    "\n",
    "print(\"去上海\"+cheapest(1250))\n",
    "print(\"去济南\"+cheapest(400))\n",
    "print(\"去天津\"+cheapest(150))"
   ]
  },
  {
   "cell_type": "code",
   "execution_count": 121,
   "metadata": {},
   "outputs": [],
   "source": [
    "# 5.1 列表（1）"
   ]
  },
  {
   "cell_type": "code",
   "execution_count": 122,
   "metadata": {},
   "outputs": [
    {
     "data": {
      "text/plain": [
       "'\\n列表：列表是指 Python 中包含一组有序元素的对象。假设我们想看看家里的冰箱装了些什么：猪肉、青菜、苹果、虾和可口可乐。我们可以创建这样一个列表 fridge：\\n\\nfridge = [\"猪肉\", \"青菜\", \"苹果\", \"虾\", \"可口可乐\"]\\n# fridge 为列表\\n# \"猪肉\", \"青菜\", \"苹果\", \"虾\", \"可口可乐\" 为列表中的元素\\n需要注意的是：\\n\\n1）列表以方括号开头和收尾：[]；\\n\\n2）列表中的每个元素用 “,” 隔开；\\n\\n3）无论上述\",\"后有无空格，程序都会正常运行，但是为了提高代码可读性，建议\",\"后空一格。\\n'"
      ]
     },
     "execution_count": 122,
     "metadata": {},
     "output_type": "execute_result"
    }
   ],
   "source": [
    "\"\"\"\n",
    "列表：列表是指 Python 中包含一组有序元素的对象。假设我们想看看家里的冰箱装了些什么：猪肉、青菜、苹果、虾和可口可乐。我们可以创建这样一个列表 fridge：\n",
    "\n",
    "fridge = [\"猪肉\", \"青菜\", \"苹果\", \"虾\", \"可口可乐\"]\n",
    "# fridge 为列表\n",
    "# \"猪肉\", \"青菜\", \"苹果\", \"虾\", \"可口可乐\" 为列表中的元素\n",
    "需要注意的是：\n",
    "\n",
    "1）列表以方括号开头和收尾：[]；\n",
    "\n",
    "2）列表中的每个元素用 “,” 隔开；\n",
    "\n",
    "3）无论上述\",\"后有无空格，程序都会正常运行，但是为了提高代码可读性，建议\",\"后空一格。\n",
    "\"\"\""
   ]
  },
  {
   "cell_type": "code",
   "execution_count": 123,
   "metadata": {},
   "outputs": [
    {
     "name": "stdout",
     "output_type": "stream",
     "text": [
      "['大象', '虎', '熊猫', '海獭']\n"
     ]
    }
   ],
   "source": [
    "zoo = [\"大象\", \"虎\", \"熊猫\", \"海獭\"]\n",
    "print(zoo)"
   ]
  },
  {
   "cell_type": "code",
   "execution_count": 124,
   "metadata": {},
   "outputs": [
    {
     "data": {
      "text/plain": [
       "'\\n列表中元素的类型：列表中除了可以存放字符串以外，也可以放数值类数据。\\n\\nstudent = [\"小明\", 22, \"男\", \"心理学\", 85]\\n#列表 student 存储了\\n#小明的姓名、年龄、性别、专业和专业成绩\\n'"
      ]
     },
     "execution_count": 124,
     "metadata": {},
     "output_type": "execute_result"
    }
   ],
   "source": [
    "\"\"\"\n",
    "列表中元素的类型：列表中除了可以存放字符串以外，也可以放数值类数据。\n",
    "\n",
    "student = [\"小明\", 22, \"男\", \"心理学\", 85]\n",
    "#列表 student 存储了\n",
    "#小明的姓名、年龄、性别、专业和专业成绩\n",
    "\"\"\""
   ]
  },
  {
   "cell_type": "code",
   "execution_count": 125,
   "metadata": {},
   "outputs": [],
   "source": [
    "cr = ['葡萄牙', 34, 1.87, '尤文图斯']"
   ]
  },
  {
   "cell_type": "code",
   "execution_count": 126,
   "metadata": {},
   "outputs": [
    {
     "data": {
      "text/plain": [
       "'\\n列表中的列表：列表除了可以包含字符串、数值类数据，还可以包含列表。\\n\\nzoo = [[\"大象\", 6], [\"熊猫\", 6], [\"猴子\", 23], [\"海獭\", 2]]\\n# 列表 zoo 包含了四个列表\\n# 其中每个列表都包含了字符串和数值。\\n'"
      ]
     },
     "execution_count": 126,
     "metadata": {},
     "output_type": "execute_result"
    }
   ],
   "source": [
    "\"\"\"\n",
    "列表中的列表：列表除了可以包含字符串、数值类数据，还可以包含列表。\n",
    "\n",
    "zoo = [[\"大象\", 6], [\"熊猫\", 6], [\"猴子\", 23], [\"海獭\", 2]]\n",
    "# 列表 zoo 包含了四个列表\n",
    "# 其中每个列表都包含了字符串和数值。\n",
    "\"\"\""
   ]
  },
  {
   "cell_type": "code",
   "execution_count": 127,
   "metadata": {},
   "outputs": [],
   "source": [
    "cr = [[\"葡萄牙体育\", 5], [\"曼彻斯特联\", 118], [\"皇家马德里\", 450], ['尤文图斯', 21]]"
   ]
  },
  {
   "cell_type": "code",
   "execution_count": 128,
   "metadata": {},
   "outputs": [
    {
     "data": {
      "text/plain": [
       "'\\nzip()方法：假如我们有两个列表 name 和 book，如下图：\\n\\nname = [\"吴承恩\", \"罗贯中\", \"施耐庵\", \"曹雪芹、高鹗\"]\\nbook = [\"西游记\", \"三国演义\", \"水浒传\", \"红楼梦\"]\\n我们想把 name 中的人名与 book 中的书一一组对，可以使用 zip() 方法进行处理，如下图：\\n\\n\\n\\n代码实现如下：\\n\\nname_and_book = zip(name, book)\\nprint(name_and_book)\\n# 输出：<zip object at 0x1086a0288>  该对象在内存中的位置\\nzip() 将两个列表中的元素一一组成对，形成一个新的对象，但是如果直接输出该对象，返回的是该对象在内存中的位置。\\n\\n为了能看到这个新对象究竟包含了什么元素，需要用 list() 把它变成一个列表：\\n\\nprint(list(name_and_book))\\n# 输出：[(\\'吴承恩\\', \\'西游记\\'), (\\'罗贯中\\', \\'三国演义\\'), (\\'施耐庵\\', \\'水浒传\\'), (\\'曹雪芹、高鹗\\', \\'红楼梦\\')]\\n'"
      ]
     },
     "execution_count": 128,
     "metadata": {},
     "output_type": "execute_result"
    }
   ],
   "source": [
    "\"\"\"\n",
    "zip()方法：假如我们有两个列表 name 和 book，如下图：\n",
    "\n",
    "name = [\"吴承恩\", \"罗贯中\", \"施耐庵\", \"曹雪芹、高鹗\"]\n",
    "book = [\"西游记\", \"三国演义\", \"水浒传\", \"红楼梦\"]\n",
    "我们想把 name 中的人名与 book 中的书一一组对，可以使用 zip() 方法进行处理，如下图：\n",
    "\n",
    "\n",
    "\n",
    "代码实现如下：\n",
    "\n",
    "name_and_book = zip(name, book)\n",
    "print(name_and_book)\n",
    "# 输出：<zip object at 0x1086a0288>  该对象在内存中的位置\n",
    "zip() 将两个列表中的元素一一组成对，形成一个新的对象，但是如果直接输出该对象，返回的是该对象在内存中的位置。\n",
    "\n",
    "为了能看到这个新对象究竟包含了什么元素，需要用 list() 把它变成一个列表：\n",
    "\n",
    "print(list(name_and_book))\n",
    "# 输出：[('吴承恩', '西游记'), ('罗贯中', '三国演义'), ('施耐庵', '水浒传'), ('曹雪芹、高鹗', '红楼梦')]\n",
    "\"\"\""
   ]
  },
  {
   "cell_type": "code",
   "execution_count": 129,
   "metadata": {},
   "outputs": [
    {
     "name": "stdout",
     "output_type": "stream",
     "text": [
      "[('雅典', 2004), ('北京', 2008), ('伦敦', 2012), ('里约热内卢', 2016)]\n"
     ]
    }
   ],
   "source": [
    "city = [\"雅典\", \"北京\", \"伦敦\", \"里约热内卢\"]\n",
    "year = [2004, 2008, 2012, 2016]\n",
    "city_and_year=zip(city, year)\n",
    "list_city_year=list(city_and_year)\n",
    "print(list_city_year)"
   ]
  },
  {
   "cell_type": "code",
   "execution_count": 130,
   "metadata": {},
   "outputs": [],
   "source": [
    "#空列表：列表里可以什么元素都没有。\n",
    "\n",
    "empty_list = []\n",
    "# empty_list 为空列表"
   ]
  },
  {
   "cell_type": "code",
   "execution_count": 131,
   "metadata": {},
   "outputs": [],
   "source": [
    "mylist = [23, 331, \"账单\"]"
   ]
  },
  {
   "cell_type": "code",
   "execution_count": 132,
   "metadata": {},
   "outputs": [
    {
     "name": "stdout",
     "output_type": "stream",
     "text": [
      "[('A', '红心'), (2, '梅花'), (3, '黑桃'), (4, '方块'), (5, '红心'), (6, '梅花'), (7, '黑桃'), (8, '方块'), (9, '红心'), (10, '梅花'), ('J', '黑桃'), ('Q', '方块'), ('K', '红心'), ('A', '梅花'), (2, '黑桃'), (3, '方块'), (4, '红心'), (5, '梅花'), (6, '黑桃'), (7, '方块'), (8, '红心'), (9, '梅花'), (10, '黑桃'), ('J', '方块'), ('Q', '红心'), ('K', '梅花'), ('A', '黑桃'), (2, '方块'), (3, '红心'), (4, '梅花'), (5, '黑桃'), (6, '方块'), (7, '红心'), (8, '梅花'), (9, '黑桃'), (10, '方块'), ('J', '红心'), ('Q', '梅花'), ('K', '黑桃'), ('A', '方块'), (2, '红心'), (3, '梅花'), (4, '黑桃'), (5, '方块'), (6, '红心'), (7, '梅花'), (8, '黑桃'), (9, '方块'), (10, '红心'), ('J', '梅花'), ('Q', '黑桃'), ('K', '方块'), '大鬼', '小鬼']\n"
     ]
    }
   ],
   "source": [
    "\"\"\"\n",
    "制作一副扑克牌\n",
    "\n",
    "一副扑克牌共有 54 张，其中四种花色 红心、梅花、黑桃、方块 各有13 张牌（A、2、3、4、5、6、7、8、9、10、J、Q、K）。此外，还有一张“大鬼”，一张“小鬼”。\n",
    "\n",
    "请补充注释行 ... 处代码，制作一副扑克牌：\n",
    "\n",
    "1.创建空列表 poke；\n",
    "\n",
    "2.创建列表 numbers，包含元素：\"A\", 2, 3, 4, 5, 6, 7, 8, 9, 10, \"J\", \"Q\", \"K\"；\n",
    "\n",
    "3.创建列表 numbers_52 = numbers * 4；\n",
    "\n",
    "4.创建列表 card_suit，包含元素： \"红心\"， \"梅花\"， \"黑桃\"， \"方块\"；\n",
    "\n",
    "5.创建列表 card_suit_52 = card_suit * 13；\n",
    "\n",
    "6.创建变量 number_and_suit = zip(numbers_52, card_suit_52)；\n",
    "\n",
    "7.令列表 poke 等于list(number_and_suit)；\n",
    "\n",
    "8.为 poke 添加 “大鬼”，“小鬼” 两张牌：poke += \"大鬼\", \"小鬼\"；\n",
    "\n",
    "9.输出 poke。\n",
    "\"\"\"\n",
    "poke = []\n",
    "numbers = [\"A\",2,3,4,5,6,7,8,9,10,'J',\"Q\",\"K\"]\n",
    "numbers_52 = numbers * 4\n",
    "card_suit = [\"红心\",'梅花',\"黑桃\",'方块']\n",
    "card_suit_52 = card_suit * 13\n",
    "number_and_suit = zip(numbers_52,card_suit_52)\n",
    "poke = list(number_and_suit)\n",
    "poke += ['大鬼',\"小鬼\"]\n",
    "print(poke)"
   ]
  },
  {
   "cell_type": "code",
   "execution_count": 133,
   "metadata": {},
   "outputs": [],
   "source": [
    "# 5.2 列表（2）"
   ]
  },
  {
   "cell_type": "code",
   "execution_count": 134,
   "metadata": {},
   "outputs": [
    {
     "name": "stdout",
     "output_type": "stream",
     "text": [
      "['Jay', '范特西']\n"
     ]
    }
   ],
   "source": [
    "\"\"\"\n",
    "append()：我们可以使用 append() 方法为列表添加元素：\n",
    "\n",
    "my_list = []\n",
    "my_list.append(1)\n",
    "print(my_list)\n",
    "# 输出：[1]\n",
    "当列表中有其他元素时，append() 将新元素添加至所有元素之后。需要注意的是，append() 和 print() 不一样，前者写在对象的后面，用 . 联结：\n",
    "\n",
    "my_list = [1, 2, 3, 4, 5]\n",
    "my_list.append(6)\n",
    "print(my_list)\n",
    "# 输出：[1, 2, 3, 4, 5, 6]\n",
    "\"\"\"\n",
    "jay_albums = []\n",
    "jay_albums.append('Jay')\n",
    "jay_albums.append('范特西')\n",
    "print(jay_albums)"
   ]
  },
  {
   "cell_type": "code",
   "execution_count": 135,
   "metadata": {},
   "outputs": [
    {
     "name": "stdout",
     "output_type": "stream",
     "text": [
      "['Jay', '范特西', '八度空间', '叶惠美', '七里香']\n"
     ]
    }
   ],
   "source": [
    "\"\"\"\n",
    "列表的联结：Python 中，可以用 + 来联结多个列表：\n",
    "\n",
    "zoo = [\"大象\", \"熊猫\", \"猩猩\", \"海獭\"]\n",
    "new_animals = [\"长颈鹿\", \"虎\", \"羊驼\"]\n",
    "zoo = zoo + new_animals\n",
    "print(zoo)\n",
    "# 输出：['大象', '熊猫', '猩猩', '海獭', '长颈鹿', '虎', '羊驼']\n",
    "上方例子中，zoo 列表与 new_animals 列表联结，更新了 zoo的值。需要注意的是，列表只能和列表相联结，如果将列表和字符串或数值联结，计算机会报错：\n",
    "\n",
    "zoo = [\"大象\", \"熊猫\", \"猩猩\", \"海獭\"] \n",
    "print(zoo + [\"金丝猴\"])\n",
    "# 输出 ['大象', '熊猫', '猩猩', '海獭', '金丝猴']\n",
    "print(zoo + \"金丝猴\")\n",
    "# TypeError: can only concatenate list (not \"str\") to list\n",
    "# 类型错误：只能将列表与列表（不能是字符串）相联结\n",
    "\"\"\"\n",
    "jay_albums = [\"Jay\", \"范特西\"]\n",
    "add_albums=['八度空间','叶惠美','七里香']\n",
    "jay_albums=jay_albums+add_albums\n",
    "print(jay_albums)"
   ]
  },
  {
   "cell_type": "code",
   "execution_count": 136,
   "metadata": {},
   "outputs": [
    {
     "name": "stdout",
     "output_type": "stream",
     "text": [
      "[0, 1, 2, 3, 4, 5, 6, 7, 8, 9]\n"
     ]
    }
   ],
   "source": [
    "\"\"\"\n",
    "Range I：有时我们需要一个列表，它包含连续的数字，如下方示例：\n",
    "\n",
    "my_list = [0, 1, 2, 3, 4, 5, 6]\n",
    "如果纯靠手动输入数字不仅低效，而且容易出现错误。Python 中提供了 range() 方法可以帮我们实现此类功能：\n",
    "\n",
    "my_range = range(7)\n",
    "print(list(my_range))\n",
    "# 输出：[0, 1, 2, 3, 4, 5, 6]\n",
    "range() 需要输入一个数值，比如 n，然后返回一组数字：从0开始，到n之前的一个数结束。如上例所示，range() 中输入的数字为 7，那么返回的一组数字以6结尾。最后，和 zip() 一样，range() 返回的对象需要用 list() 将其转化为列表：\n",
    "\n",
    "my_range = range(7)\n",
    "print(my_range)\n",
    "# 输出：range(0, 7)\n",
    "print(list(my_range))\n",
    "# 输出：[0, 1, 2, 3, 4, 5, 6]\n",
    "\"\"\"\n",
    "below_ten = list(range(10))\n",
    "print(below_ten)"
   ]
  },
  {
   "cell_type": "code",
   "execution_count": 137,
   "metadata": {},
   "outputs": [
    {
     "name": "stdout",
     "output_type": "stream",
     "text": [
      "[9, 19, 29, 39, 49, 59, 69, 79, 89, 99]\n"
     ]
    }
   ],
   "source": [
    "\"\"\"\n",
    "Range II：在默认情况下，range() 返回的列表从 0 开始，但只要我们在 range() 加入一个新的参数，就可以决定起始数值：\n",
    "\n",
    "my_range = range(3,7)\n",
    "print(list(my_range))\n",
    "# 输出：[3, 4, 5, 6]\n",
    "如上例，range() 中的第一个参数3决定返回的列表从3开始。另外，range() 还可以加入第三个参数，决定列表中相邻两个数字之间的差值：\n",
    "\n",
    "my_range = range(2,20,2)\n",
    "print(list(my_range))\n",
    "# 输出：[2, 4, 6, 8, 10, 12, 14, 16, 18]\n",
    "在上例中，我们使用 range() 返回一组从2开始，到20结束（不包含20）的列表，并且列表中的相邻两个数差值为2。\n",
    "\"\"\"\n",
    "list_of_nine = list(range(9,100,10))\n",
    "print(list_of_nine)"
   ]
  },
  {
   "cell_type": "code",
   "execution_count": 138,
   "metadata": {},
   "outputs": [
    {
     "name": "stdout",
     "output_type": "stream",
     "text": [
      "50\n"
     ]
    }
   ],
   "source": [
    "\"\"\"\n",
    "列表的长度：在Python中，可以用 len() 返回列表的长度，也就是列表包含了多少个元素：\n",
    "\n",
    "zoo = [\"大象\", \"金丝猴\", \"羊驼\", \"海獭\", \"长颈鹿\"]\n",
    "print(len(zoo))\n",
    "# 输出：5\n",
    "\"\"\"\n",
    "odd_number = list(range(1,100,2))\n",
    "print(len(odd_number))"
   ]
  },
  {
   "cell_type": "code",
   "execution_count": 139,
   "metadata": {},
   "outputs": [
    {
     "name": "stdout",
     "output_type": "stream",
     "text": [
      "[3, 7, 11]\n"
     ]
    }
   ],
   "source": [
    "print(list(range(3, 12, 4)))"
   ]
  },
  {
   "cell_type": "code",
   "execution_count": 140,
   "metadata": {},
   "outputs": [
    {
     "ename": "NameError",
     "evalue": "name 'name_list' is not defined",
     "output_type": "error",
     "traceback": [
      "\u001b[0;31m---------------------------------------------------------------------------\u001b[0m",
      "\u001b[0;31mNameError\u001b[0m                                 Traceback (most recent call last)",
      "\u001b[0;32m<ipython-input-140-452ed23290c5>\u001b[0m in \u001b[0;36m<module>\u001b[0;34m\u001b[0m\n\u001b[0;32m----> 1\u001b[0;31m \u001b[0mname_list\u001b[0m\u001b[0;34m.\u001b[0m\u001b[0mappend\u001b[0m\u001b[0;34m(\u001b[0m\u001b[0;34m\"Tom\"\u001b[0m\u001b[0;34m)\u001b[0m\u001b[0;34m\u001b[0m\u001b[0;34m\u001b[0m\u001b[0m\n\u001b[0m",
      "\u001b[0;31mNameError\u001b[0m: name 'name_list' is not defined"
     ]
    }
   ],
   "source": [
    "name_list.append(\"Tom\")"
   ]
  },
  {
   "cell_type": "code",
   "execution_count": 141,
   "metadata": {},
   "outputs": [
    {
     "data": {
      "text/plain": [
       "[0, 1, 2, 3, 4, 5, 6, 7]"
      ]
     },
     "execution_count": 141,
     "metadata": {},
     "output_type": "execute_result"
    }
   ],
   "source": [
    "#下列代码可以创建列表，包含从 0 到 7 所有整数\n",
    "list(range(0,8))"
   ]
  },
  {
   "cell_type": "code",
   "execution_count": 142,
   "metadata": {},
   "outputs": [
    {
     "data": {
      "text/plain": [
       "['雅典', '北京', '伦敦', '里约热内卢', '日内瓦', '开罗']"
      ]
     },
     "execution_count": 142,
     "metadata": {},
     "output_type": "execute_result"
    }
   ],
   "source": [
    "# 将列表 city 与 \"日内瓦\", \"开罗\" 联结\n",
    "city + [\"日内瓦\", \"开罗\"]"
   ]
  },
  {
   "cell_type": "code",
   "execution_count": 143,
   "metadata": {},
   "outputs": [
    {
     "name": "stdout",
     "output_type": "stream",
     "text": [
      "11\n"
     ]
    }
   ],
   "source": [
    "\"\"\"\n",
    "下方是部分奥运会年份及举办地资料，请按注释行要求补全代码：\n",
    "\n",
    "1984 洛杉矶\n",
    "\n",
    "1988 汉城\n",
    "\n",
    "1992 巴塞罗那\n",
    "\n",
    "1996 亚特兰大\n",
    "\n",
    "2000 雅典\n",
    "\n",
    "2004 悉尼\n",
    "\n",
    "2008 北京\n",
    "\n",
    "2012 伦敦\n",
    "\n",
    "2016 里约热内卢\n",
    "\n",
    "2020 东京\n",
    "\n",
    "2024 巴黎\n",
    "\"\"\"\n",
    "years = list(range(1984,2025,4))\n",
    "cities_before_2000 = [\"洛杉矶\", \"汉城\", \"巴塞罗那\", \"亚特兰大\" ]\n",
    "cities_after_2000 = [\"雅典\", \"悉尼\", \"北京\", \"伦敦\", \"里约热内卢\"]\n",
    "cities = cities_before_2000 + cities_after_2000\n",
    "cities.append(\"东京\")\n",
    "cities.append(\"巴黎\")\n",
    "year_and_city = list(zip(years,cities))\n",
    "print(len(year_and_city))"
   ]
  },
  {
   "cell_type": "code",
   "execution_count": 144,
   "metadata": {},
   "outputs": [],
   "source": [
    "# 5.3 列表（3）"
   ]
  },
  {
   "cell_type": "code",
   "execution_count": 145,
   "metadata": {},
   "outputs": [
    {
     "name": "stdout",
     "output_type": "stream",
     "text": [
      "12\n",
      "金牛座\n",
      "双鱼座\n"
     ]
    }
   ],
   "source": [
    "\"\"\"\n",
    "选择列表中元素 I：假设我们想在列表 zoo = [\"大象\", \"长颈鹿\", \"羊驼\", \"海獭\"] 中输出其中的某个元素 — — \"大象\"，我们需要告诉计算机，目标元素在列表中的索引位置：\n",
    "\n",
    "元素          索引位置\n",
    "\"大象\"          0\n",
    "\"长颈鹿\"        1\n",
    "\"羊驼\"          2\n",
    "\"海獭\"          3\n",
    "在 Python 列表中，元素的索引位置从 0 开始，用 [] 包裹目标元素的索引位置。以 zoo 举例，如果我们想输出\"大象\"，则：\n",
    "\n",
    "print(zoo[0])\n",
    "# 输出：大象\n",
    "\"\"\"\n",
    "zodiac = [\"白羊座\", \"金牛座\", \"双子座\",\"巨蟹座\",\"狮子座\",\"处女座\", \"天秤座\", \"天蝎座\", \"射手座\",\"摩羯座\", \"水瓶座\", \"双鱼座\"]\n",
    "print(len(zodiac))\n",
    "print(zodiac[1])\n",
    "print(zodiac[-1])"
   ]
  },
  {
   "cell_type": "code",
   "execution_count": 146,
   "metadata": {},
   "outputs": [
    {
     "name": "stdout",
     "output_type": "stream",
     "text": [
      "8\n",
      "除夕\n",
      "除夕\n"
     ]
    }
   ],
   "source": [
    "\"\"\"\n",
    "选择列表中元素 II：我们不仅可以从左至右数出列表中某个元素的索引位置，也可以从右至左数该元素的索引位置，两种方法的区别在于后者需要在索引位置的数字前加上负号，另外，从右至左数时，起始位置为 -1：\n",
    "\n",
    "months = [\"一月\", \"二月\", \"三月\", \"四月\", \"五月\", \"六月\", \"七月\", \"八月\", \"九月\", \"十月\", \"十一月\", \"十二月\"]\n",
    "print(months[-1])\n",
    "# 输出：十二月\n",
    "\"\"\"\n",
    "festival = [\"元宵节\",\"清明节\",\"端午节\",\"七夕节\",\"中秋节\",\"重阳节\",\"冬至节\",\"除夕\"]\n",
    "num_fest = len(festival)\n",
    "print(num_fest)\n",
    "print(festival[7])\n",
    "print(festival[-1])"
   ]
  },
  {
   "cell_type": "code",
   "execution_count": 147,
   "metadata": {},
   "outputs": [
    {
     "name": "stdout",
     "output_type": "stream",
     "text": [
      "14\n",
      "['中国', '泰国', '印度尼西亚', '日本', '韩国', '新加坡', '朝鲜', '印度']\n",
      "['德国', '法国', '英国', '比利时', '瑞典', '瑞士']\n"
     ]
    }
   ],
   "source": [
    "\"\"\"\n",
    "截取列表 I：假设我们想一次性从一个列表中截取多个元素，请参考下图：\n",
    "\n",
    "my_list = [\"a\", \"b\", \"c\", \"d\", \"e\", \"f\", \"g\", \"h\"]\n",
    "print(my_list[2:6])\n",
    "# 输出： ['c', 'd', 'e', 'f']\n",
    "上方例子中，my_list[2:6] 中的 2 代表从列表 my_list 索引位置为 2 的元素开始截取。my_list[2] 对应的元素是 \"c\"；而my_list[2:6] 中的 6 代表截取到 my_list 索引位置为 6 的元素之前一位——也就是元素 \"f\"。综上，my_list[2:6] 将会返回一个新的列表： ['c', 'd', 'e', 'f']。\n",
    "\"\"\"\n",
    "country = [\"中国\",\"泰国\",\"印度尼西亚\",\"日本\",\"韩国\",\"新加坡\",\"朝鲜\", \"印度\", \"德国\",\"法国\",\"英国\",\"比利时\",\"瑞典\",\"瑞士\"]\n",
    "print(len(country))\n",
    "asia_country = country[0:8]\n",
    "print(asia_country)\n",
    "euro_country = country[8:14]\n",
    "print(euro_country)"
   ]
  },
  {
   "cell_type": "code",
   "execution_count": 148,
   "metadata": {},
   "outputs": [
    {
     "name": "stdout",
     "output_type": "stream",
     "text": [
      "['1月21日', '1月23日', '1月27日']\n",
      "['3月2日', '3月10日']\n",
      "['2月1日', '2月13日', '2月22日']\n"
     ]
    }
   ],
   "source": [
    "\"\"\"\n",
    "截取列表 II：如果想从列表中第一个元素开始截取，: 前的数字可以省略：\n",
    "\n",
    "my_list = [1,2,3,4,5,6,7,8,9,10]\n",
    "print(my_list[:3])\n",
    "# 输出：[1, 2, 3]\n",
    "如果想截取到列表的最后一个元素，: 后的数字可以省略：\n",
    "\n",
    "my_list = [1,2,3,4,5,6,7,8,9,10]\n",
    "print(my_list[3:])\n",
    "# 输出：[4, 5, 6, 7, 8, 9, 10]\n",
    "也可以用负数索引位置从右至左截取列表：\n",
    "\n",
    "my_list = [1,2,3,4,5,6,7,8,9,10]\n",
    "print(my_list[-3:])\n",
    "# 截取从右至左3个元素\n",
    "# 输出：[8, 9, 10]\n",
    "\"\"\"\n",
    "dates = [\"1月21日\",\"1月23日\",\"1月27日\",\"2月1日\",\"2月13日\",\"2月22日\",\"3月2日\",\"3月10日\"]\n",
    "jan = dates[:3]\n",
    "march = dates[-2:]\n",
    "feb = dates[3:6]\n",
    "print(jan)\n",
    "print(march)\n",
    "print(feb)"
   ]
  },
  {
   "cell_type": "code",
   "execution_count": 149,
   "metadata": {},
   "outputs": [
    {
     "name": "stdout",
     "output_type": "stream",
     "text": [
      "4\n"
     ]
    }
   ],
   "source": [
    "\"\"\"\n",
    "计算元素出现次数：在 Python 中，可以用 count(n) 来返回元素 n 在列表中出现的次数：\n",
    "\n",
    "zoo = [\"熊猫\", \"长颈鹿\", \"金丝猴\", \"熊猫\", \"长颈鹿\", \"大象\", \"熊猫\", \"海獭\", \"羊驼\", \"熊猫\", \"海獭\", \"金丝猴\", \"熊猫\", \"大象\", \"长颈鹿\", \"羊驼\"]\n",
    "print(zoo.count(\"熊猫\"))\n",
    "# 输出 5，元素\"熊猫\"在列表 zoo 中出现5次\n",
    "\"\"\"\n",
    "nba_champions = [\"洛杉矶湖人\", \"洛杉矶湖人\" ,\"圣安东尼奥马刺\",\"底特律活塞\",\"圣安东尼奥马刺\",\"迈阿密热火\",\"圣安东尼奥马刺\",\"波士顿凯尔特人\",\"洛杉矶湖人\",\"洛杉矶湖人\",\"达拉斯小牛\",\"迈阿密热火\",\"迈阿密热火\",\"圣安东尼奥马刺\",\"金州勇士\",\"克利夫兰骑士\",\"金州勇士\",\"金州勇士\"]\n",
    "print(nba_champions.count(\"圣安东尼奥马刺\"))"
   ]
  },
  {
   "cell_type": "code",
   "execution_count": 150,
   "metadata": {},
   "outputs": [
    {
     "ename": "IndexError",
     "evalue": "list index out of range",
     "output_type": "error",
     "traceback": [
      "\u001b[0;31m---------------------------------------------------------------------------\u001b[0m",
      "\u001b[0;31mIndexError\u001b[0m                                Traceback (most recent call last)",
      "\u001b[0;32m<ipython-input-150-9dd55d0e3a54>\u001b[0m in \u001b[0;36m<module>\u001b[0;34m\u001b[0m\n\u001b[1;32m      1\u001b[0m \u001b[0mmy_list\u001b[0m \u001b[0;34m=\u001b[0m \u001b[0;34m[\u001b[0m\u001b[0;34m\"西瓜\"\u001b[0m\u001b[0;34m,\u001b[0m \u001b[0;34m\"苹果\"\u001b[0m\u001b[0;34m,\u001b[0m \u001b[0;34m\"香蕉\"\u001b[0m\u001b[0;34m,\u001b[0m \u001b[0;34m\"梨子\"\u001b[0m\u001b[0;34m]\u001b[0m\u001b[0;34m\u001b[0m\u001b[0;34m\u001b[0m\u001b[0m\n\u001b[0;32m----> 2\u001b[0;31m \u001b[0mprint\u001b[0m\u001b[0;34m(\u001b[0m\u001b[0mmy_list\u001b[0m\u001b[0;34m[\u001b[0m\u001b[0;36m4\u001b[0m\u001b[0;34m]\u001b[0m\u001b[0;34m)\u001b[0m\u001b[0;34m\u001b[0m\u001b[0;34m\u001b[0m\u001b[0m\n\u001b[0m\u001b[1;32m      3\u001b[0m \u001b[0;31m# results: IndexError: list index out of range\u001b[0m\u001b[0;34m\u001b[0m\u001b[0;34m\u001b[0m\u001b[0;34m\u001b[0m\u001b[0m\n",
      "\u001b[0;31mIndexError\u001b[0m: list index out of range"
     ]
    }
   ],
   "source": [
    "my_list = [\"西瓜\", \"苹果\", \"香蕉\", \"梨子\"]\n",
    "print(my_list[4])\n",
    "# results: IndexError: list index out of range"
   ]
  },
  {
   "cell_type": "code",
   "execution_count": 151,
   "metadata": {},
   "outputs": [
    {
     "name": "stdout",
     "output_type": "stream",
     "text": [
      "5\n"
     ]
    }
   ],
   "source": [
    "my_list = [1, 2, 3, 4, 5, 6]\n",
    "print(my_list[-2])"
   ]
  },
  {
   "cell_type": "code",
   "execution_count": 152,
   "metadata": {},
   "outputs": [
    {
     "name": "stdout",
     "output_type": "stream",
     "text": [
      "[3, 4, 5]\n",
      "[1, 2, 3]\n",
      "[3, 4, 5]\n",
      "[4, 5]\n"
     ]
    }
   ],
   "source": [
    "print(my_list[2:5])\n",
    "print(my_list[-6:-3])\n",
    "print(my_list[2:4] + my_list[4:5])\n",
    "# my_list = [\"a\", \"b\", \"c\", \"d\", \"e\", \"f\", \"g\", \"h\"]\n",
    "print(my_list[3:5])\n",
    "# [\"d\",\"e\"]"
   ]
  },
  {
   "cell_type": "code",
   "execution_count": 153,
   "metadata": {},
   "outputs": [
    {
     "data": {
      "text/plain": [
       "3"
      ]
     },
     "execution_count": 153,
     "metadata": {},
     "output_type": "execute_result"
    }
   ],
   "source": [
    "letters = [\"a\",\"i\",\"i\",\"e\",\"o\",\"u\",\"i\"]\n",
    "letters.count(\"i\")"
   ]
  },
  {
   "cell_type": "code",
   "execution_count": 154,
   "metadata": {},
   "outputs": [
    {
     "name": "stdout",
     "output_type": "stream",
     "text": [
      "['红桃A', '红桃K', '红桃Q', '红桃J', '红桃10']\n"
     ]
    }
   ],
   "source": [
    "\"\"\"\n",
    "在列表 your_card 中是你手上的一把扑克牌。在这副手牌中，你有一把“通天顺”：五张同花色的连牌 — — 红桃A，红桃K，红桃Q，红桃J，红桃10。\n",
    "\n",
    "请参照注释里的要求，将这五张牌放入新的列表 tong_tian_shun 中。\n",
    "\"\"\"\n",
    "your_card = [\"大鬼\",\"红桃A\",\"红桃K\",\"红桃Q\",\"黑桃Q\",\"梅花J\",\"方片J\",\"红桃J\",\"梅花10\",\"红桃10\",\"黑桃9\"]\n",
    "tong_tian_shun = your_card[1:4]\n",
    "tong_tian_shun.append(\"红桃J\")\n",
    "tong_tian_shun += [\"红桃10\"]\n",
    "print(tong_tian_shun)"
   ]
  },
  {
   "cell_type": "code",
   "execution_count": 155,
   "metadata": {},
   "outputs": [],
   "source": [
    "# 5.4 回顾"
   ]
  },
  {
   "cell_type": "code",
   "execution_count": 156,
   "metadata": {},
   "outputs": [
    {
     "name": "stdout",
     "output_type": "stream",
     "text": [
      "[3, -2, 12, 9.0]\n"
     ]
    }
   ],
   "source": [
    "\"\"\"\n",
    "1.创建函数 n_times，参数 lst，index 和 times；\n",
    "\n",
    "2.如果 index 小于 列表 lst 的长度，lst[index] 的数值更新为 lst[index] 乘以 times 的值，函数返回 lst；\n",
    "\n",
    "3.否则，函数直接返回 lst；\n",
    "\n",
    "4.输出 n_times([3, -2, 12, 4.5], 3, 2)。\n",
    "\"\"\"\n",
    "def n_times(lst,index,times):\n",
    "  if index < len(lst):\n",
    "    lst[index] = lst[index] * times\n",
    "    return lst\n",
    "  else:\n",
    "    return lst\n",
    "    \n",
    "\n",
    "print(n_times([3,-2,12,4.5],3,2))"
   ]
  },
  {
   "cell_type": "code",
   "execution_count": 157,
   "metadata": {},
   "outputs": [
    {
     "name": "stdout",
     "output_type": "stream",
     "text": [
      "True\n"
     ]
    }
   ],
   "source": [
    "\"\"\"\n",
    "1.创建函数 more_than_n，参数 lst，element，n；\n",
    "\n",
    "2.如果 n 小于 element 在列表 lst 出现的次数，函数返回 True；\n",
    "\n",
    "3.否则，函数返回 False；\n",
    "\n",
    "4.输出 more_than_n([\"赵\",\"李\",\"王\",\"周\",\"李\",\"李\",\"王\",\"孙\",\"李\"], \"李\", 3)\n",
    "\"\"\"\n",
    "def more_than_n(lst,element,n):\n",
    "  if n < lst.count(element):\n",
    "    return True\n",
    "  else:\n",
    "    return False\n",
    "\n",
    "print(more_than_n([\"赵\",\"李\",\"王\",\"周\",\"李\",\"李\",\"王\",\"孙\",\"李\"], \"李\", 3))"
   ]
  },
  {
   "cell_type": "code",
   "execution_count": 158,
   "metadata": {},
   "outputs": [
    {
     "name": "stdout",
     "output_type": "stream",
     "text": [
      "-8.0\n"
     ]
    }
   ],
   "source": [
    "\"\"\"\n",
    "1.创建函数 middle，参数 lst；\n",
    "\n",
    "2.如果 lst 的长度为奇数，返回 lst 位置正中的那个元素；\n",
    "\n",
    "3.如果 lst 的长度为偶数，返回 lst 位置正中的两个元素的平均值；\n",
    "\n",
    "4.输出 middle([3, 7, -12, -4, 5, 5])。\n",
    "\"\"\"\n",
    "def middle(lst):\n",
    "  if len(lst) % 2 == 1:\n",
    "    return lst[int((len(lst)-1)/2)]\n",
    "  else:\n",
    "    return (lst[int((len(lst))/2)] + lst[int((len(lst))/2 -1)])/2\n",
    "\n",
    "print(middle([3, 7, -12, -4, 5, 5]))"
   ]
  },
  {
   "cell_type": "code",
   "execution_count": 159,
   "metadata": {},
   "outputs": [
    {
     "name": "stdout",
     "output_type": "stream",
     "text": [
      "[22, 2, 38, 3, 102, 5]\n"
     ]
    }
   ],
   "source": [
    "\"\"\"\n",
    "1.创建函数 append_lst()，参数 lst；\n",
    "\n",
    "2.函数内创建新变量 list_len，赋值为 lst 的长度；\n",
    "\n",
    "3.用 append() 将 list_len 添加进 lst 列表里；\n",
    "\n",
    "4.函数返回 lst；\n",
    "\n",
    "5.输出 append_lst([22, 2, 38, 3, 102])。\n",
    "\"\"\"\n",
    "def append_lst(lst):\n",
    "  list_len=len(lst)\n",
    "  lst.append(list_len)\n",
    "  return lst\n",
    "print(append_lst([22, 2, 38, 3, 102]))"
   ]
  },
  {
   "cell_type": "code",
   "execution_count": 160,
   "metadata": {},
   "outputs": [
    {
     "name": "stdout",
     "output_type": "stream",
     "text": [
      "[93, 95, 97, 99]\n"
     ]
    }
   ],
   "source": [
    "\"\"\"\n",
    "range() 需要输入一个数值，比如 n，然后返回一组数字：从0开始，到n之前的一个数结束。\n",
    "1.创建函数 add_two()，参数 start；\n",
    "\n",
    "2.如果 start 大于 100，函数返回一个空列表；\n",
    "\n",
    "3.否则，函数返回一个列表：从 start 起始，每个元素等于前一个元素加 2，直到最后一个元素小于 100；\n",
    "\n",
    "4.输出 add_two(93)。\n",
    "\"\"\"\n",
    "def add_two(start):\n",
    "  if start > 100:\n",
    "    return []\n",
    "  else:\n",
    "    lst = list(range(start,101,2))\n",
    "    return lst\n",
    "\n",
    "print(add_two(93))"
   ]
  },
  {
   "cell_type": "code",
   "execution_count": 161,
   "metadata": {},
   "outputs": [
    {
     "name": "stdout",
     "output_type": "stream",
     "text": [
      "[9, 16, 25]\n"
     ]
    }
   ],
   "source": [
    "squares = [1, 4, 9, 16, 25]\n",
    "print(squares[-3:])"
   ]
  },
  {
   "cell_type": "code",
   "execution_count": 162,
   "metadata": {},
   "outputs": [
    {
     "name": "stdout",
     "output_type": "stream",
     "text": [
      "2\n"
     ]
    }
   ],
   "source": [
    "a = [1, 2, 3]\n",
    "b = [\"a\", \"b\", \"c\"]\n",
    "x = [a, b]\n",
    "print(len(x))"
   ]
  },
  {
   "cell_type": "code",
   "execution_count": 163,
   "metadata": {},
   "outputs": [
    {
     "name": "stdout",
     "output_type": "stream",
     "text": [
      "4\n"
     ]
    }
   ],
   "source": [
    "print(len(list(range(2,10,2))))\n",
    "# list(range(2,10,2))\n",
    "# 返回的是列表[2, 4, 6, 8]"
   ]
  },
  {
   "cell_type": "code",
   "execution_count": 164,
   "metadata": {},
   "outputs": [
    {
     "name": "stdout",
     "output_type": "stream",
     "text": [
      "n 55!w !\n"
     ]
    }
   ],
   "source": [
    "\"\"\"\n",
    "你的心仪对象是一位Python高手，你向TA表白之后，TA给你发了一段代码和指令，并且告诉你，只要按照指令的顺序去做，你就能得到TA对你的回应。\n",
    "\n",
    "密文如下：\n",
    "\n",
    "letter = ['7', 'u', 'b', 'u', 'r', 'l', 'n', ' ', '5', 'o', 'j', 'c', '3', \\\n",
    "      '7', '1', 'x', 'd', 'x', 'm', '8', 'a', 'v', 'f', 'd', 'z', 'z', \\\n",
    "      'd', 'l', 'v', 'o', 'q', 'j', 'u', '2', 'o', 'l', 'v', '6', 'i', \\\n",
    "      'o', 'i', '5', '9', 'b', 'c', 'i', 's', 'a', 'i', '!', 'd', '8', \\\n",
    "      's', 't', '9', 'r', 'x', 'w', 'j', '1', '5', '5', '3', 'm', '9', \\\n",
    "      '6', 'r', 'w', '9', 'd', 'd', 'r', 'y', '3', 'p', 'h', 'f', '9', '1', 'b', 'w', 'u', \\\n",
    "      'c', 'e', 'r', '3', 'i', 'i', 'x', '7', 'x', '2', 'n', 'p', 'a', '4', 'b', 'f', 'w', ' ']\n",
    "\"\"\"\n",
    "letter = ['7', 'u', 'b', 'u', 'r', 'l', 'n', ' ', '5', 'o', 'j', 'c', '3', \\\n",
    "      '7', '1', 'x', 'd', 'x', 'm', '8', 'a', 'v', 'f', 'd', 'z', 'z', \\\n",
    "      'd', 'l', 'v', 'o', 'q', 'j', 'u', '2', 'o', 'l', 'v', '6', 'i', \\\n",
    "      'o', 'i', '5', '9', 'b', 'c', 'i', 's', 'a', 'i', '!', 'd', '8', \\\n",
    "      's', 't', '9', 'r', 'x', 'w', 'j', '1', '5', '5', '3', 'm', '9', \\\n",
    "      '6', 'r', 'w', '9', 'd', 'd', 'r', 'y', '3', 'p', 'h', 'f', '9', '1', 'b', 'w', 'u', \\\n",
    "      'c', 'e', 'r', '3', 'i', 'i', 'x', '7', 'x', '2', 'n', 'p', 'a', '4', 'b', 'f', 'w', ' ']\n",
    "secret = []\n",
    "letter.append(\"!\")\n",
    "secret = letter[6:9]\n",
    "x_times = letter.count(\"x\")\n",
    "secret.append(str(x_times))\n",
    "secret += letter[int(len(letter)/2)-1]\n",
    "letter_end = letter[-3:]\n",
    "secret += letter_end\n",
    "print(''.join(secret))"
   ]
  },
  {
   "cell_type": "code",
   "execution_count": 165,
   "metadata": {},
   "outputs": [],
   "source": [
    "# 6.1 循环（1）"
   ]
  },
  {
   "cell_type": "code",
   "execution_count": 166,
   "metadata": {},
   "outputs": [
    {
     "name": "stdout",
     "output_type": "stream",
     "text": [
      "a\n",
      "b\n",
      "c\n",
      "d\n",
      "e\n",
      "a\n",
      "b\n",
      "c\n",
      "d\n",
      "e\n",
      "太平洋\n",
      "大西洋\n",
      "印度洋\n",
      "北冰洋\n"
     ]
    }
   ],
   "source": [
    "\"\"\"\n",
    "循环：假如我们想将下方列表 letters 中的元素一一输出，我们可以：\n",
    "\"\"\"\n",
    "\n",
    "letters = [\"a\", \"b\", \"c\", \"d\", \"e\"]\n",
    "print(letters[0])\n",
    "print(letters[1])\n",
    "print(letters[2])\n",
    "print(letters[3])\n",
    "print(letters[4])\n",
    "# 但是这种输出的方法非常低效，而且容易出错。在此，Python 提供了一种叫循环的方法，逐一经过列表中的元素：\n",
    "\n",
    "letters = [\"a\", \"b\", \"c\", \"d\", \"e\"]\n",
    "for letter in letters:\n",
    "  print(letter)\n",
    "# 输出：\n",
    "# a\n",
    "# b\n",
    "# c\n",
    "# d\n",
    "# e\n",
    "# 上方示例中，我们在循环列表 letters 时，输出每个元素。\n",
    "oceans = [\"太平洋\", \"大西洋\", \"印度洋\", \"北冰洋\"]\n",
    "for ocean in oceans: \n",
    "  print(ocean)"
   ]
  },
  {
   "cell_type": "code",
   "execution_count": 167,
   "metadata": {},
   "outputs": [
    {
     "name": "stdout",
     "output_type": "stream",
     "text": [
      "猪肉\n",
      "米饭\n",
      "大白菜\n",
      "洋葱\n",
      "数学\n",
      "语文\n",
      "英语\n",
      "音乐\n",
      "体育\n",
      "科学\n",
      "历史\n"
     ]
    }
   ],
   "source": [
    "\"\"\"\n",
    "for循环：for循环是一种常见的循环方法：\n",
    "\"\"\"\n",
    "\n",
    "food = [\"猪肉\", \"米饭\", \"大白菜\", \"洋葱\"]\n",
    "for i in food:\n",
    "  print(i)\n",
    "\"\"\"\n",
    "# 输出：\n",
    "猪肉 \n",
    "米饭\n",
    "大白菜\n",
    "洋葱\n",
    "使用for循环具体如下：\n",
    "\n",
    "for 临时变量 in 列表：\n",
    "  操作临时变量\n",
    "例子中，food 为列表，临时变量为 i，循环内的操作是输出变量 i，也就是 print(i)。\n",
    "\n",
    "for循环内的代码需要缩进。\n",
    "\n",
    "注：所谓临时变量，是指该变量的赋值会随着循环而不断变化。\n",
    "\"\"\"\n",
    "courses = [\"数学\", \"语文\", \"英语\", \"音乐\", \"体育\", \"科学\", \"历史\"]\n",
    "for course in courses:\n",
    "  print(course)"
   ]
  },
  {
   "cell_type": "code",
   "execution_count": 168,
   "metadata": {},
   "outputs": [
    {
     "name": "stdout",
     "output_type": "stream",
     "text": [
      "重要的事要说三遍\n",
      "重要的事要说三遍\n",
      "重要的事要说三遍\n"
     ]
    }
   ],
   "source": [
    "\"\"\"\n",
    "循环range()列表：在讲解列表时，我们学习了如何用 range(n) 生成一个元素数量为 n 的列表。同样地，我们可以用 for循环 对range() 生成的列表进行操作：\n",
    "\n",
    "for i in range(5):\n",
    "  print(i)\n",
    "# 输出：\n",
    "0\n",
    "1\n",
    "2\n",
    "3\n",
    "4\n",
    "另外，我们还可以用range() 列表的长度作为次数，重复某个操作：\n",
    "\n",
    "for i in range(5):\n",
    "  print(\"你好呀!\")\n",
    "#输出：\n",
    "你好呀!\n",
    "你好呀!\n",
    "你好呀!\n",
    "你好呀!\n",
    "你好呀!\n",
    "\"\"\"\n",
    "for i in range(3):\n",
    "  print(\"重要的事要说三遍\")"
   ]
  },
  {
   "cell_type": "code",
   "execution_count": 169,
   "metadata": {},
   "outputs": [
    {
     "name": "stdout",
     "output_type": "stream",
     "text": [
      "士\n",
      "士\n",
      "士\n",
      "士\n",
      "士\n",
      "士\n",
      "士\n",
      "土\n",
      "我找到土啦！\n"
     ]
    }
   ],
   "source": [
    "\"\"\"\n",
    "break：我们可以通过 break 关键字停止循环。比如，我们想在列表 shopping_list 中找元素 \"滑板鞋\"：\n",
    "\n",
    "shopping_list = [\"卫衣\",\"牛仔裤\", \"便帽\", \"围巾\", \"滑板鞋\", \"腰带\", \"手套\", \"连衣裙\"]\n",
    "我们可以通过 for循环查看列表中每个元素是否是 \"滑板鞋\"。当找到 \"滑板鞋\" 时，可以用 break 停止循环，请见下方示例：\n",
    "\n",
    "shopping_list = [\"卫衣\",\"牛仔裤\", \"便帽\", \"围巾\", \"滑板鞋\", \"腰带\", \"手套\", \"连衣裙\"]\n",
    "for thing in shopping_list:\n",
    "  print(thing)\n",
    "  if thing == \"滑板鞋\":\n",
    "    print(\"嘿，我找到滑板鞋啦！\")\n",
    "    break\n",
    "#输出：\n",
    "卫衣\n",
    "牛仔裤\n",
    "便帽\n",
    "围巾\n",
    "滑板鞋\n",
    "嘿，我找到滑板鞋啦！\n",
    "上方示例中，当输出\"嘿，我找到滑板鞋啦！\" 之后，循环被 break 打断。因此，程序不再输出列表 \"滑板鞋\"之后的元素。\n",
    "\"\"\"\n",
    "shi_and_tu = [\"士\",\"士\",\"士\",\"士\",\"士\",\"士\",\"士\",\"土\",\"士\",\"士\",\"士\",\"士\"]\n",
    "for char in shi_and_tu:\n",
    "    print(char)\n",
    "    if char=='土':\n",
    "        print(\"我找到土啦！\")\n",
    "        break"
   ]
  },
  {
   "cell_type": "code",
   "execution_count": 170,
   "metadata": {},
   "outputs": [
    {
     "name": "stdout",
     "output_type": "stream",
     "text": [
      "16\n",
      "未达到18岁，不可以买酒\n",
      "15\n",
      "未达到18岁，不可以买酒\n",
      "8\n",
      "未达到18岁，不可以买酒\n",
      "10\n",
      "未达到18岁，不可以买酒\n"
     ]
    }
   ],
   "source": [
    "\"\"\"\n",
    "continue：在循环列表时，有时我们希望可以跳过一些元素，不对其操作。这时可以用 continue 关键字：\n",
    "\n",
    "numbers = [-3, 2, 33, 1.2, 3, -7, -12, 10]\n",
    "for number in numbers:\n",
    "  if number < 0:\n",
    "     continue\n",
    "  print(number)\n",
    "#输出\n",
    "2\n",
    "33\n",
    "1.2\n",
    "3\n",
    "10\n",
    "例子中，我们跳过输出列表 numbers 中小于 0 的元素。\n",
    "\"\"\"\n",
    "ages = [16, 15, 23, 33, 67, 8, 10, 32]\n",
    "for age in ages:\n",
    "    if age >= 18:\n",
    "        continue\n",
    "    print(age)\n",
    "    print(\"未达到18岁，不可以买酒\")"
   ]
  },
  {
   "cell_type": "code",
   "execution_count": 171,
   "metadata": {},
   "outputs": [
    {
     "name": "stdout",
     "output_type": "stream",
     "text": [
      "0\n",
      "3\n",
      "6\n",
      "9\n"
     ]
    }
   ],
   "source": [
    "for i in range(0, 10, 3):\n",
    "  print(i)"
   ]
  },
  {
   "cell_type": "code",
   "execution_count": 172,
   "metadata": {},
   "outputs": [
    {
     "name": "stdout",
     "output_type": "stream",
     "text": [
      "i\n",
      "i\n",
      "i\n"
     ]
    }
   ],
   "source": [
    "for i in range(3):\n",
    "  print(\"i\")"
   ]
  },
  {
   "cell_type": "code",
   "execution_count": 173,
   "metadata": {},
   "outputs": [
    {
     "name": "stdout",
     "output_type": "stream",
     "text": [
      "3\n"
     ]
    }
   ],
   "source": [
    "numbers = [-2,3,12,33]\n",
    "for number in numbers:\n",
    "    if number % 2 == 1:\n",
    "        print(number)\n",
    "        break"
   ]
  },
  {
   "cell_type": "code",
   "execution_count": 174,
   "metadata": {},
   "outputs": [
    {
     "name": "stdout",
     "output_type": "stream",
     "text": [
      "阿强\n"
     ]
    }
   ],
   "source": [
    "students = [\"小王\", \"阿强\", \"老张\"]\n",
    "for student in students:\n",
    "    if student == \"小王\":\n",
    "        continue\n",
    "    elif student == \"阿强\":\n",
    "        print(student)\n",
    "    else:\n",
    "        break"
   ]
  },
  {
   "cell_type": "code",
   "execution_count": 175,
   "metadata": {},
   "outputs": [
    {
     "name": "stdout",
     "output_type": "stream",
     "text": [
      "2019不是质数\n"
     ]
    }
   ],
   "source": [
    "\"\"\"\n",
    "这是质数吗？\n",
    "\n",
    "质数是指：在大于1的自然数中，除了1和该数自身外，无法被其他自然数整除的数。\n",
    "\n",
    "比如：2，3，5，7，11…… 都是质数。\n",
    "\n",
    "我们来创建一个函数，判断某大于1 的自然数是否是质数。\n",
    "\n",
    "请按照下方要求，补全注释行…处代码：\n",
    "\n",
    "1.创建函数 prime()， 参数 number；\n",
    "\n",
    "2.令 number 为 int 类数据：number = int(number)；\n",
    "\n",
    "3.建一个列表range()，从2开始，止于参数 number；\n",
    "\n",
    "4.求 number 与上述列表每个元素之间的余数；\n",
    "\n",
    "5.一旦出现余数为0的情况，说明 number 可以被该元素整除，那么number 不是质数。函数输出：\"{number}不是质数\"，{number}为参数数值，并停止循环；\n",
    "\n",
    "6.如果 number 除以所有元素的余数都不为0，函数输出：\"{number}是质数\"，{number}为参数数值；\n",
    "\n",
    "7.调用 prime(2019)。\n",
    "\n",
    "注：此函数内，for 与 else 处于同一缩进层级。表示在 for 循环内的条件都不符合的情况下，执行 else 内的命令。\n",
    "\"\"\"\n",
    "# 我用 Python 判断质数\n",
    "def prime(number):\n",
    "    number = int(number)\n",
    "    for num in range(2,number):\n",
    "        # 下方判断number % num 的余数是否为0\n",
    "        if number%num==0:\n",
    "            print(str(number) + \"不是质数\")\n",
    "            break\n",
    "    else:\n",
    "        print(str(number) + \"是质数\")\n",
    "prime(2019)"
   ]
  },
  {
   "cell_type": "code",
   "execution_count": 176,
   "metadata": {},
   "outputs": [],
   "source": [
    "# 6.2 循环（2）"
   ]
  },
  {
   "cell_type": "code",
   "execution_count": 177,
   "metadata": {},
   "outputs": [
    {
     "name": "stdout",
     "output_type": "stream",
     "text": [
      "冠军\n",
      "亚军\n",
      "季军\n"
     ]
    }
   ],
   "source": [
    "\"\"\"\n",
    "while循环：除了for循环之外，Python 中还有 while循环 —— 循环截止于某个条件失效时，请看示例：\n",
    "\n",
    "my_number = [1, 2, 3, 4, 5, 6]\n",
    "num = 0\n",
    "while num < len(my_number): # len(my_number) 为 6\n",
    "  print(my_number[num])\n",
    "  num += 1\n",
    "# 输出：\n",
    "1\n",
    "2\n",
    "3\n",
    "4\n",
    "5\n",
    "6\n",
    "上例中，num 的起始赋值为 0，而 my_number 的长度为 6。当 num 小于 6 时，循环会一直进行，并且做以下两个操作：\n",
    "\n",
    "1）输出相应的my_numbernum；\n",
    "\n",
    "2）给 num 的值加 1。\n",
    "\n",
    "直到 num 不满足小于 6 的条件时，也就是这里 num 等于 6 时，while循环停止。while循环 一般在无法预知循环次数的时候使用。\n",
    "\"\"\"\n",
    "ranks = [\"冠军\", \"亚军\", \"季军\", \"第四名\", \"第五名\", \"第六名\", \"第七名\", \"第八名\"]\n",
    "index = 0\n",
    "while index < 3:\n",
    "    print(ranks[index])\n",
    "    index += 1"
   ]
  },
  {
   "cell_type": "code",
   "execution_count": 178,
   "metadata": {},
   "outputs": [
    {
     "name": "stdout",
     "output_type": "stream",
     "text": [
      "56000\n"
     ]
    }
   ],
   "source": [
    "\"\"\"\n",
    "嵌套循环：如果我们遇到了列表中包含列表的情况，如何循环这样的“表中表”呢？我们可以用嵌套循环来实现：\n",
    "\n",
    "cities = [[\"秦皇岛市\",\"邯郸市\",\"承德市\"],[\"景德镇市\", \"上饶市\", \"吉安市\"],[\"毕节市\", \"铜仁市\", \"遵义市\"]]\n",
    "for city_list in cities:\n",
    "    for city in city_list:\n",
    "        print(city)\n",
    "# 输出：\n",
    "秦皇岛市\n",
    "邯郸市\n",
    "承德市\n",
    "景德镇市\n",
    "上饶市\n",
    "吉安市\n",
    "毕节市\n",
    "铜仁市\n",
    "遵义市\n",
    "上例中，cities 中包含了三个列表，每个表中包含了三个城市，我们用两层for循环输出 cities 中所有城市。\n",
    "\"\"\"\n",
    "month_income = [[4000,4000 ,4000], [4000, 4000, 4000], [5000, 5000, 5000], [5500, 5500, 6000]]\n",
    "year_income = 0 \n",
    "for month in month_income:\n",
    "    for income in month:\n",
    "        year_income += income\n",
    "print(year_income)"
   ]
  },
  {
   "cell_type": "code",
   "execution_count": 179,
   "metadata": {},
   "outputs": [
    {
     "name": "stdout",
     "output_type": "stream",
     "text": [
      "[32, 23, 31, 67, 55, 38]\n"
     ]
    }
   ],
   "source": [
    "\"\"\"\n",
    "列表推导式 I：像循环这种逐一经过列表中各元素的方法，我们还可以称其为遍历。Python 提供了一种更便捷地遍历列表的方法：\n",
    "\n",
    "假如，我们从某个网站上获取了若干字符串，把它们存入列表 user_info 中。接着，我们想要从中选取开头为\"@\" 的字符串，存入新的列表 user_email 中。用学过的方法，我们可以：\n",
    "\n",
    "user_info = [\"小明\", \"23\", \"#斗地主\", \"@xiaoming1993\", \"阿强\", \"31\", \"#aas\", \"@aq_2019\", \"@username\", \"#第一中学\"]\n",
    "user_email = []\n",
    "for info in user_info:\n",
    "    if info[0] == \"@\":  # 如果元素开头为@（下一章做详细介绍）\n",
    "        user_email.append(info)  # user_email中添加该元素\n",
    "print(user_email)\n",
    "# 输出：['@xiaoming1993', '@aq_2019', '@username']\n",
    "上方示例中，我们遍历 user_info 中的每个元素，如果元素开头为\"@\" ，我们将该元素添加至列表 user_email 中。现在来学习一种新方法：列表推导式\n",
    "\n",
    "user_email = [info for info in user_info if info[0] == \"@\"]\n",
    "print (user_email)\n",
    "# 输出：['@xiaoming1993', '@aq_2019', '@username']\n",
    "上方列表推导式中，依然遍历 user_info 中的每个元素，判断元素的开头是否为 \"@\"。如果满足条件，将该元素添加至 user_email 中，列表推导式更为简洁和高效。\n",
    "\n",
    "刚接触 Python 的同学，对于列表推导式重在理解。为了提高自己代码的可阅读性，建议先熟练掌握之前学习的for循环或者while循环。\n",
    "\"\"\"\n",
    "ages = [32, 12, 16, 23, 31, 67, 17, 55, 38]\n",
    "\n",
    "over_18 = [age for age in ages if age>18]\n",
    "\n",
    "print(over_18)"
   ]
  },
  {
   "cell_type": "code",
   "execution_count": 180,
   "metadata": {},
   "outputs": [
    {
     "name": "stdout",
     "output_type": "stream",
     "text": [
      "[666.667, 1333.334, 2000.0010000000002, 2666.668, 6666.67]\n"
     ]
    }
   ],
   "source": [
    "\"\"\"\n",
    "列表推导式 II：列表推导式不仅可以对列表中的元素进行条件判断，也可以对其进行操作：\n",
    "\n",
    "user_email = ['@xiaoming1993', '@aq_2019', '@username']\n",
    "user_email = [email + \".com\" for email in user_email]\n",
    "print(user_email)\n",
    "# 输出：['@xiaoming1993.com', '@aq_2019.com', '@username.com']\n",
    "上方例子中，在列表 user_email 的每个元素结尾添加字符串 \".com\"。\n",
    "\"\"\"\n",
    "# 1亩 = 666.667平方米\n",
    "mu_list = [1,2,3,4,10]\n",
    "meter_list = [mu*666.667 for mu in mu_list]\n",
    "print(meter_list)"
   ]
  },
  {
   "cell_type": "code",
   "execution_count": 181,
   "metadata": {},
   "outputs": [
    {
     "name": "stdout",
     "output_type": "stream",
     "text": [
      "5500\n"
     ]
    },
    {
     "data": {
      "text/plain": [
       "'\\nn 从 0 开始，当 n = 0，sum = 1000； n = 1，sum = 1000+1000； n = 2，sum = 2000+1500； n = 3，sum = 3500 + 2000 = 5500 这时，sum 不满足小于 5000 的条件，故 while循环 停止。 程序输出 5500。\\n'"
      ]
     },
     "execution_count": 181,
     "metadata": {},
     "output_type": "execute_result"
    }
   ],
   "source": [
    "sum = 0\n",
    "n = 0\n",
    "income = [1000,1000,1500,2000,1500,1000]\n",
    "while sum < 5000:\n",
    "    sum += income[n]\n",
    "    n += 1\n",
    "print(sum)\n",
    "\"\"\"\n",
    "n 从 0 开始，当 n = 0，sum = 1000； n = 1，sum = 1000+1000； n = 2，sum = 2000+1500； n = 3，sum = 3500 + 2000 = 5500 这时，sum 不满足小于 5000 的条件，故 while循环 停止。 程序输出 5500。\n",
    "\"\"\""
   ]
  },
  {
   "cell_type": "code",
   "execution_count": 182,
   "metadata": {},
   "outputs": [
    {
     "name": "stdout",
     "output_type": "stream",
     "text": [
      "3\n",
      "4\n"
     ]
    },
    {
     "data": {
      "text/plain": [
       "'\\nmy_list[1] 指向的是列表 my_list 的第2个元素，也就是列表 [3,4]。\\n'"
      ]
     },
     "execution_count": 182,
     "metadata": {},
     "output_type": "execute_result"
    }
   ],
   "source": [
    "my_list = [[1,2],[3,4],[5,6]]\n",
    "for number in my_list[1]:\n",
    "    print(number)\n",
    "\"\"\"\n",
    "my_list[1] 指向的是列表 my_list 的第2个元素，也就是列表 [3,4]。\n",
    "\"\"\""
   ]
  },
  {
   "cell_type": "code",
   "execution_count": 183,
   "metadata": {},
   "outputs": [
    {
     "name": "stdout",
     "output_type": "stream",
     "text": [
      "[2, 4, 6, 8]\n"
     ]
    }
   ],
   "source": [
    "numbers = [1,2,3,4,5,6,7,8]\n",
    "new_list = [number for number in numbers if number % 2 == 0]\n",
    "print(new_list)\n",
    "# 列表 new_list 由列表 numbers 中是偶数的元素组成。"
   ]
  },
  {
   "cell_type": "code",
   "execution_count": 184,
   "metadata": {},
   "outputs": [
    {
     "name": "stdout",
     "output_type": "stream",
     "text": [
      "[2, 4, 6, 8]\n"
     ]
    }
   ],
   "source": [
    "numbers = [1,2,3,4]\n",
    "new_numbers = [number*2 for number in numbers]\n",
    "print(new_numbers)\n",
    "# 列表 new_numbers 由列表 numbers 中每个元素 乘以2 之后组成。"
   ]
  },
  {
   "cell_type": "code",
   "execution_count": 185,
   "metadata": {},
   "outputs": [
    {
     "name": "stdout",
     "output_type": "stream",
     "text": [
      "20190101会议记录.txt\n",
      "20190101大会合影.jpg\n",
      "20190101会议演讲.ppt\n",
      "20190101会议人员名单.csv\n",
      "20190101会务经费.doc\n",
      "20190101会议报告.pdf\n"
     ]
    }
   ],
   "source": [
    "\"\"\"\n",
    "批量修改文件名：\n",
    "\n",
    "假设你有个文件夹，里面包含了你在 2019年1月1日处理的所有文件。为了后期方便浏览，你需要在每个文件名之前加上字符串\"20190101\" 作为标记。\n",
    "\n",
    "1.用列表推导式，在列表 files 的每个元素前加上字符串\"20190101\" ，并将新的文件名存入新列表 file_20190101 中；\n",
    "\n",
    "2.for循环输出 file_20190101。\n",
    "\"\"\"\n",
    "# 我用 Python 批量修改文件名\n",
    "files = [\"会议记录.txt\", \"大会合影.jpg\", \"会议演讲.ppt\", \"会议人员名单.csv\", \"会务经费.doc\", \"会议报告.pdf\"]\n",
    "file_20190101 = [\"20190101\" + filename for filename in files]\n",
    "for filename in file_20190101:\n",
    "  print(filename)"
   ]
  },
  {
   "cell_type": "code",
   "execution_count": 186,
   "metadata": {},
   "outputs": [],
   "source": [
    "# 6.3 回顾"
   ]
  },
  {
   "cell_type": "code",
   "execution_count": 187,
   "metadata": {},
   "outputs": [
    {
     "name": "stdout",
     "output_type": "stream",
     "text": [
      "[1, 8, 27, 64, 125, 216]\n"
     ]
    }
   ],
   "source": [
    "\"\"\"\n",
    "1）使用for循环具体如下：\n",
    "\n",
    "for 临时变量 in 列表：\n",
    "  操作临时变量\n",
    "2）列表推导式是除了常见的for循环和while循环之外，另一种更高级的遍历列表的方式。\n",
    "\"\"\"\n",
    "def num_exp(numbers,exp):\n",
    "    numbers = [num**exp for num in numbers]\n",
    "    return numbers\n",
    "print(num_exp([1,2,3,4,5,6],3))"
   ]
  },
  {
   "cell_type": "code",
   "execution_count": 188,
   "metadata": {},
   "outputs": [
    {
     "name": "stdout",
     "output_type": "stream",
     "text": [
      "123425423\n"
     ]
    }
   ],
   "source": [
    "def find_max(numbers):\n",
    "  max_num = numbers[0]\n",
    "  for num in numbers:\n",
    "    if num > max_num:\n",
    "      max_num = num\n",
    "  return max_num\n",
    "print(find_max([123123123,123425423,123423123]))"
   ]
  },
  {
   "cell_type": "code",
   "execution_count": 189,
   "metadata": {},
   "outputs": [
    {
     "name": "stdout",
     "output_type": "stream",
     "text": [
      "[3, 1, 2, 3, 3]\n"
     ]
    }
   ],
   "source": [
    "\"\"\"\n",
    "我们可以通过 break 关键字停止循环。\n",
    "\n",
    "另外，在循环列表时，有时我们希望可以跳过一些元素，不对其操作。这时可以用 continue 关键字。\n",
    "\"\"\"\n",
    "def list_length(lists):\n",
    "  for li in lists:\n",
    "    if len(li)%2==0:\n",
    "      continue\n",
    "    else:\n",
    "      print(li)\n",
    "      break\n",
    "            \n",
    "list_length([[2,1,3,5],[1,1,2,4,3,2],[3,1,2,3,3],[2,1,2]])"
   ]
  },
  {
   "cell_type": "code",
   "execution_count": 190,
   "metadata": {},
   "outputs": [
    {
     "name": "stdout",
     "output_type": "stream",
     "text": [
      "我想吃冰淇淋\n",
      "想吃冰淇淋\n",
      "吃冰淇淋\n",
      "冰淇淋\n",
      "淇淋\n",
      "淋\n"
     ]
    }
   ],
   "source": [
    "# 请记住，我们可以用 for循环 对range() 生成的列表进行操作。\n",
    "def echo(word):\n",
    "    for num in range(len(word)):\n",
    "        print(word[num:])\n",
    "echo(\"我想吃冰淇淋\")"
   ]
  },
  {
   "cell_type": "code",
   "execution_count": 191,
   "metadata": {},
   "outputs": [
    {
     "name": "stdout",
     "output_type": "stream",
     "text": [
      "学习使我快乐！！！！\n"
     ]
    }
   ],
   "source": [
    "\"\"\"\n",
    "除了for循环之外，Python 中还有 while循环 —— 循环截止于某个条件失效时。\n",
    "\n",
    "一般来说，当我们不知道循环次数的时候，可以用上while循环。\n",
    "\"\"\"\n",
    "def add_to_ten(word):\n",
    "    while len(word) < 10:\n",
    "        word += \"！\"\n",
    "    return word\n",
    "print(add_to_ten(\"学习使我快乐\"))"
   ]
  },
  {
   "cell_type": "code",
   "execution_count": 192,
   "metadata": {},
   "outputs": [
    {
     "name": "stdout",
     "output_type": "stream",
     "text": [
      "hi!\n",
      "hi!\n",
      "hi!\n",
      "hi!\n"
     ]
    }
   ],
   "source": [
    "numbers = [2, 4, 6, 8]\n",
    "for number in numbers:\n",
    "  print(\"hi!\")"
   ]
  },
  {
   "cell_type": "code",
   "execution_count": 193,
   "metadata": {},
   "outputs": [
    {
     "name": "stdout",
     "output_type": "stream",
     "text": [
      "3\n",
      "5\n"
     ]
    }
   ],
   "source": [
    "numbers = [3, 5, 6, 3]\n",
    "for number in numbers:\n",
    "  if number % 2 == 0:\n",
    "    break\n",
    "  print(number)\n",
    "#当列表中的元素不是偶数时，该元素会被输出；如果是，循环会被 break 终止。"
   ]
  },
  {
   "cell_type": "code",
   "execution_count": 194,
   "metadata": {},
   "outputs": [
    {
     "name": "stdout",
     "output_type": "stream",
     "text": [
      "[15, 11]\n"
     ]
    }
   ],
   "source": [
    "my_list = [15, 11, -12, 8, 6]\n",
    "new_list= [i for i in my_list if i > 10]\n",
    "print(new_list)\n",
    "# 列表推导式输出列表 my_list 中大于 10 的元素。"
   ]
  },
  {
   "cell_type": "code",
   "execution_count": 195,
   "metadata": {},
   "outputs": [
    {
     "name": "stdout",
     "output_type": "stream",
     "text": [
      "0\n",
      "1\n",
      "2\n"
     ]
    }
   ],
   "source": [
    "for i in range(3):\n",
    "  print(i)\n",
    "# range(3) 的第一个元素从 0 开始。"
   ]
  },
  {
   "cell_type": "code",
   "execution_count": 196,
   "metadata": {},
   "outputs": [
    {
     "name": "stdout",
     "output_type": "stream",
     "text": [
      "第1月需还款：6861.11元\n",
      "第2月需还款：6849.77元\n",
      "第3月需还款：6838.43元\n",
      "第4月需还款：6827.08元\n",
      "第5月需还款：6815.74元\n",
      "第6月需还款：6804.4元\n",
      "第7月需还款：6793.06元\n",
      "第8月需还款：6781.71元\n",
      "第9月需还款：6770.37元\n",
      "第10月需还款：6759.03元\n",
      "第11月需还款：6747.69元\n",
      "第12月需还款：6736.34元\n"
     ]
    }
   ],
   "source": [
    "\"\"\"\n",
    "房贷计算器 II 等额本金还款\n",
    "\n",
    "在讲函数时，我们设计了程序计算等额本息还款。本章中，我们用新学的循环知识计算等额本金还款。\n",
    "\n",
    "等额本金还款是指：还款期内按期等额归还贷款本金，并同时还清当期未归还本金所产生的利息。\n",
    "\n",
    "计算公式如下： 月还款额=贷款本金÷贷款期月数+（本金-已归还本金累计额）×月利率\n",
    "\n",
    "老张又打算买一套房子，还是贷款100万，计划分30年还完。已知年利率4.9%。这次，老张打算用等额本金还款，每月要还多少钱？（考虑篇幅所限，我们只输出前12个月的月还款额）\n",
    "\n",
    "请按照下方要求，补全注释行… 处代码：\n",
    "\n",
    "1.创建函数 pay_loan()，参数 loan，months，year_rate。分别对应 贷款金额、还款月数、年利率；\n",
    "\n",
    "2.函数pay_loan() 主体内，创建变量 month_rate ，其值等于 year_rate 除以 12 的值；\n",
    "\n",
    "3.继续创建变量 month_principle（每月本金） ，它等于 loan 除以 months 的值；\n",
    "\n",
    "4.由于我们只看前12个月的还款额，用for循环遍历 range(1,13) ：计算第n月的还款额 month_pay。\n",
    "\n",
    "计算公式：\n",
    "\n",
    "month_pay = (loan-month_principle*(month-1))*month_rate + month_principle\n",
    "5.输出“第{n}月需还款：month_pay 元” (n为月数)，month_pay 需保留两位小数，参考：round(mont_pay,2)；\n",
    "\n",
    "6.输出 pay_loan(1000000,360,4.9)。\n",
    "\n",
    "看看老张（前12个月）每个月要还多少钱。\n",
    "\"\"\"\n",
    "# 我用 Python 计算等额本金还款\n",
    "def pay_loan(loan,months,year_rate):\n",
    "  month_rate = year_rate/12\n",
    "  month_principle = loan/months\n",
    "  for month in range(1,13):\n",
    "    month_pay = (loan-month_principle*(month-1))*month_rate + month_principle\n",
    "    print(\"第\"+str(month)+\"月需还款：\"+ str(round(month_pay,2))+\"元\")\n",
    "pay_loan(1000000,360,0.049)\n",
    "\n",
    "# 等额本金计算公式(供参考)：\n",
    "# month_pay = (loan-month_principle*(month-1))*month_rate + month_principle"
   ]
  },
  {
   "cell_type": "code",
   "execution_count": 197,
   "metadata": {},
   "outputs": [],
   "source": [
    "# 7.1 字符串（1）"
   ]
  },
  {
   "cell_type": "code",
   "execution_count": 198,
   "metadata": {},
   "outputs": [
    {
     "name": "stdout",
     "output_type": "stream",
     "text": [
      "x\n"
     ]
    }
   ],
   "source": [
    "\"\"\"\n",
    "字符串的索引位置：和对待列表一样，我们也可以用索引位置来访问字符串中的字符。我们在学习上一章循环时，看过这么一个例子：\n",
    "\n",
    "user_info = [\"小明\", \"23\", \"#斗地主\", \"@xiaoming1993\", \"阿强\", \"31\", \"#aas\", \"@aq_2019\", \"@username\", \"#第一中学\"]\n",
    "user_email = []\n",
    "for info in user_info:\n",
    "    if info[0] == \"@\":  # 如果元素开头为@\n",
    "        user_email.append(info)  \n",
    "print(user_email)\n",
    "# 输出：['@xiaoming1993', '@aq_2019', '@username']\n",
    "例子中，我们通过 info[0] 取临时变量 info 中的第一个字符。\n",
    "\"\"\"\n",
    "name = \"xm\"\n",
    "xing = name[0]\n",
    "print(xing)"
   ]
  },
  {
   "cell_type": "code",
   "execution_count": 199,
   "metadata": {},
   "outputs": [
    {
     "name": "stdout",
     "output_type": "stream",
     "text": [
      "姓：徐\n",
      "名：妙\n"
     ]
    }
   ],
   "source": [
    "\"\"\"\n",
    "截取字符串：之前我们学过如何截取列表，我们可以用同样的方法来截取字符串。字符串的索引位置也是从0开始计算。\n",
    "\n",
    "words = \"风吹草低见牛羊\"\n",
    "print(words[0:3])    # 输出：风吹草\n",
    "以上例子中，words 是一个字符串，具体每个字对应的索引位置是：\n",
    "\n",
    "风  0\n",
    "吹  1\n",
    "草  2\n",
    "低  3\n",
    "见  4\n",
    "牛  5\n",
    "羊  6\n",
    "words[0:3] 截取 words 前三个字符——\"风吹草\"。\n",
    "\"\"\"\n",
    "xing_ming = \"徐妙\"\n",
    "xing = xing_ming[0]\n",
    "ming = xing_ming[1]\n",
    "print(\"姓：\" + xing)\n",
    "print(\"名：\" + ming)"
   ]
  },
  {
   "cell_type": "code",
   "execution_count": 200,
   "metadata": {},
   "outputs": [
    {
     "name": "stdout",
     "output_type": "stream",
     "text": [
      "芦俊义反\n"
     ]
    }
   ],
   "source": [
    "\"\"\"\n",
    "字符串的联结：你可以将两个字符串用 + 联结起来，组成一个新的字符串。\n",
    "\n",
    "string_1 = \"吃葡萄不吐葡萄皮\"\n",
    "string_2 = \"不吃葡萄倒吐葡萄皮\"\n",
    "print(string_1 + string_2)\n",
    "# 输出：吃葡萄不吐葡萄皮不吃葡萄倒吐葡萄皮\n",
    "例子中，我们将 string_1 和 string_2 联结，它们之间没有任何空格或标点。而下例中，我们在两个字符串中间加上一个空格，结尾加上一个感叹号。\n",
    "\n",
    "string_1 = \"吃葡萄不吐葡萄皮\"\n",
    "string_2 = \"不吃葡萄倒吐葡萄皮\"\n",
    "print(string_1 + \" \" + string_2 + \"！\")   # 加上空格、感叹号\n",
    "# 输出：吃葡萄不吐葡萄皮 不吃葡萄倒吐葡萄皮！\n",
    "\"\"\"\n",
    "s1 = \"芦花丛中一扁舟\"\n",
    "s2 = \"俊杰俄从此地游\"\n",
    "s3 = \"义士若能知此理\"\n",
    "s4 = \"反躬难逃可无忧\"\n",
    "print(s1[0] + s2[0] + s3[0] + s4[0])"
   ]
  },
  {
   "cell_type": "code",
   "execution_count": 201,
   "metadata": {},
   "outputs": [
    {
     "name": "stdout",
     "output_type": "stream",
     "text": [
      "29\n"
     ]
    }
   ],
   "source": [
    "\"\"\"\n",
    "字符串的长度：我们可以用 len() 得到字符串的长度。\n",
    "\n",
    "sentence = \"临渊羡鱼不如退而结网\"\n",
    "print(len(sentence))\n",
    "# 输出：10\n",
    "print(sentence[len(sentence)-1])\n",
    "# 输出：网\n",
    "# len(sentence) - 1 等于 9\n",
    "\"\"\"\n",
    "fiction = \"地球上最后一个人独自坐在房间里，这时，忽然响起了敲门声……\"\n",
    "print(len(fiction))"
   ]
  },
  {
   "cell_type": "code",
   "execution_count": 202,
   "metadata": {},
   "outputs": [
    {
     "name": "stdout",
     "output_type": "stream",
     "text": [
      "05-07\n",
      "03-03\n",
      "12-11\n",
      "04-12\n",
      "11-11\n"
     ]
    }
   ],
   "source": [
    "\"\"\"\n",
    "字符串倒取：我们不仅可以从左往右截取字符串，也可以从右往左截取字符串，同列表一样，从右往左的起始索引位置为 -1。\n",
    "\n",
    "animal = \"elephant\"\n",
    "print(animal[-3:])\n",
    "# 输出：ant\n",
    "上例中，输出变量 animal 的后三位字符：\"ant\"。\n",
    "\"\"\"\n",
    "dates = [\"1989-05-07\", \"1990-03-03\", \"2001-12-11\", \"2003-04-12\", \"2015-11-11\"]\n",
    "for date in dates:\n",
    "    print(date[-5:])"
   ]
  },
  {
   "cell_type": "code",
   "execution_count": 203,
   "metadata": {},
   "outputs": [
    {
     "name": "stdout",
     "output_type": "stream",
     "text": [
      "P\n"
     ]
    }
   ],
   "source": [
    "chars = \"我爱Python\"\n",
    "print(chars[2])"
   ]
  },
  {
   "cell_type": "code",
   "execution_count": 204,
   "metadata": {},
   "outputs": [
    {
     "data": {
      "text/plain": [
       "'四五六'"
      ]
     },
     "execution_count": 204,
     "metadata": {},
     "output_type": "execute_result"
    }
   ],
   "source": [
    "numbers = \"一二三四五六七\"\n",
    "numbers[3:6]"
   ]
  },
  {
   "cell_type": "code",
   "execution_count": 205,
   "metadata": {},
   "outputs": [
    {
     "name": "stdout",
     "output_type": "stream",
     "text": [
      "黄\n",
      "之\n",
      "天\n",
      "来\n"
     ]
    }
   ],
   "source": [
    "def print_char(sen):\n",
    "  for i in range(len(sen)):\n",
    "    if i % 2 == 0:\n",
    "      print(sen[i])\n",
    "print_char(\"黄河之水天上来\")\n",
    "# 代码输出字符串 \"黄河之水天上来\" 中索引位置为 0、2、4和6的字符。"
   ]
  },
  {
   "cell_type": "code",
   "execution_count": 206,
   "metadata": {},
   "outputs": [
    {
     "name": "stdout",
     "output_type": "stream",
     "text": [
      "四十\n"
     ]
    }
   ],
   "source": [
    "chars = \"四是四十是十\"\n",
    "print(chars[-4:-2])"
   ]
  },
  {
   "cell_type": "code",
   "execution_count": 207,
   "metadata": {},
   "outputs": [
    {
     "name": "stdout",
     "output_type": "stream",
     "text": [
      "黄山落叶松叶落山黄<<这是回文\n",
      "level<<这是回文\n",
      "abcdabcd<<这不是回文\n"
     ]
    }
   ],
   "source": [
    "\"\"\"\n",
    "回文是一个有趣的语言学现象：一段文字自右至左与自左至右是完全一样的。\n",
    "\n",
    "比如：上海自来水来自海上\n",
    "\n",
    "请补全注释行中的代码，使得函数 check_huiwen() 可以判断一个字符串是否是回文。\n",
    "\n",
    "注：此函数内，for 与代码第九行的 else 处于同一缩进层级。表示在 for 循环内的条件都不符合的情况下，执行第九行 else 内的命令。\n",
    "\"\"\"\n",
    "# 我用 Python 判断回文\n",
    "def huiwen_check(chars):\n",
    "    for i in range(len(chars)):\n",
    "        if chars[i] == chars[-(i+1)]:\n",
    "            continue\n",
    "        else:\n",
    "            print(chars+\"<<这不是回文\")\n",
    "            break\n",
    "    else:\n",
    "        print(chars+\"<<这是回文\")\n",
    "huiwen_check(\"黄山落叶松叶落山黄\")\n",
    "huiwen_check(\"level\")\n",
    "huiwen_check(\"abcdabcd\")"
   ]
  },
  {
   "cell_type": "code",
   "execution_count": 208,
   "metadata": {},
   "outputs": [],
   "source": [
    "# 7.2 字符串（2）"
   ]
  },
  {
   "cell_type": "code",
   "execution_count": 209,
   "metadata": {},
   "outputs": [
    {
     "name": "stdout",
     "output_type": "stream",
     "text": [
      "王小明\n"
     ]
    }
   ],
   "source": [
    "\"\"\"\n",
    "字符串的不可变性：字符串具有不可变性，这意味着一旦创建了某个字符串，我们不可以改变它，我们只可以在它的基础上创建新的字符串。\n",
    "\n",
    "name = \"张小明\"\n",
    "name[0] = \"王\"\n",
    "TypeError: 'str' object does not support item assignment\n",
    "#返回类型错误：不可以改变字符串中的元素\n",
    "上例中，我们想改变 name 第一个元素的值，结果程序返回错误。我们可以换种方法，得到想到的结果：\n",
    "\n",
    "name = \"张小明\"\n",
    "new_name = \"王\" + name[1:]\n",
    "print(new_name)\n",
    "#输出：王小明\n",
    "\"\"\"\n",
    "name = \"张小明\"\n",
    "new_name = \"王\" + name[1:]\n",
    "print(new_name)"
   ]
  },
  {
   "cell_type": "code",
   "execution_count": 210,
   "metadata": {},
   "outputs": [
    {
     "name": "stdout",
     "output_type": "stream",
     "text": [
      "\"Oh Watson, my best friend.\", said Holmes.\n"
     ]
    }
   ],
   "source": [
    "\"\"\"\n",
    "转义字符：某些字符在 Python 中有特定含义，比如\"\" 用来包裹字符串。当我们想告诉计算机，此处的字符不取特定含义时，我们可以在之前标记 \\ ：\n",
    "\n",
    "my_words = \"I said, \"I know what I said.\"\" \n",
    "print(my_words)\n",
    "# SyntaxError: invalid syntax 出现错误\n",
    "上方 my_words 中的\"\"是人物说话时用的引号。我们在两个 \" 前各加上一个 \\。避免计算机在运行程序时，将它们错误看作是用来包裹字符串的引号，导致运行错误。\n",
    "\n",
    "my_words = \"I said, \\\"I know what I said.\\\"\" \n",
    "print(my_words)\n",
    "# 输出：I said, \"I know what I said.\"\n",
    "另外，值得一提的是，\\ 符号还可以用来为代码换行。（在代码特别长时，很管用！）\n",
    "\n",
    "text = \"一二三四五\\\n",
    "六七八九十\"\n",
    "print(text)\n",
    "#输出：一二三四五六七八九十\n",
    "如果不用 \\ 换行，程序会出现错误：\n",
    "\n",
    "text = \"一二三四五\n",
    "六七八九十\"\n",
    "print(text)\n",
    "# SyntaxError: EOL while scanning string literal\n",
    "# EOL 是 end of line 的缩写\n",
    "# 此处指 Python 在字符串结尾遇到错误：\n",
    "# text = \"一二三四五 \n",
    "# 没有引号收尾。\n",
    "\"\"\"\n",
    "sentence = \"\\\"Oh Watson, my best friend.\\\", said Holmes.\"\n",
    "print(sentence)"
   ]
  },
  {
   "cell_type": "code",
   "execution_count": 211,
   "metadata": {},
   "outputs": [
    {
     "name": "stdout",
     "output_type": "stream",
     "text": [
      "7\n"
     ]
    }
   ],
   "source": [
    "\"\"\"\n",
    "字符串遍历：我们可以循环字符串。比如用for循环：\n",
    "\n",
    "chars = \"一闪一闪亮晶晶\"\n",
    "for char in chars:\n",
    "  print(char)\n",
    "#输出：\n",
    "一\n",
    "闪\n",
    "一\n",
    "闪\n",
    "亮\n",
    "晶\n",
    "晶\n",
    "也可以用while循环：\n",
    "\n",
    "chars = \"满天都是小星星\"\n",
    "n = 0\n",
    "while n < len(chars):\n",
    "  print(chars[n])\n",
    "  n += 1\n",
    "# 输出：\n",
    "满\n",
    "天\n",
    "都\n",
    "是\n",
    "小\n",
    "星\n",
    "星\n",
    "\"\"\"\n",
    "def chars_leng(chars):\n",
    "    count = 0\n",
    "    for char in chars:\n",
    "        count += 1\n",
    "    return count\n",
    "print(chars_leng(\"这句话有几个字\"))"
   ]
  },
  {
   "cell_type": "code",
   "execution_count": 212,
   "metadata": {},
   "outputs": [
    {
     "name": "stdout",
     "output_type": "stream",
     "text": [
      "士字有24个\n",
      "土字有3个\n"
     ]
    }
   ],
   "source": [
    "\"\"\"\n",
    "字符串与判断条件 I：在循环字符串时遍历，我们可以对每一个字符元素做条件判断。\n",
    "\n",
    "for char in \"I have an apple.\":\n",
    "  if char == \"a\":\n",
    "    print(\"这里有字母a\")\n",
    "# 输出：\n",
    "这里有字母a\n",
    "这里有字母a\n",
    "这里有字母a \n",
    "上例中，当字符串\"I have an apple.\" 中每出现一次\"a\"，程序就会输出一次\"这里有字母a\"。\n",
    "\"\"\"\n",
    "shi_and_tu = \"士士士士士土士士士士士士士土士士士士士士士士土士士士士\"\n",
    "count_shi = 0\n",
    "count_tu = 0\n",
    "for char in shi_and_tu:\n",
    "    if char == '士':\n",
    "        count_shi += 1\n",
    "    if char == '土':\n",
    "        count_tu += 1\n",
    "print(\"士字有\"+str(count_shi)+\"个\")\n",
    "print(\"土字有\"+str(count_tu)+\"个\")"
   ]
  },
  {
   "cell_type": "code",
   "execution_count": 213,
   "metadata": {},
   "outputs": [
    {
     "name": "stdout",
     "output_type": "stream",
     "text": [
      "4\n"
     ]
    }
   ],
   "source": [
    "\"\"\"\n",
    "字符串与判断条件 II：在上页例子中，我们通过循环整个字符串判断某个字符是否在其中。本页，我们学习一个更简单的方法：用关键字 in 判断某元素（字符）是否在列表（字符串）中。\n",
    "\n",
    "print(\"我\" in \"我是谁？\") # 输出：True\n",
    "print(\"P\" in \"Python\") # 输出：True\n",
    "print(\"p\" in \"Python\") # 输出：False 区分字母大小写\n",
    "\"\"\"\n",
    "def common_char(chars_1,chars_2):\n",
    "    count = 0\n",
    "    for char in chars_1:\n",
    "        if char in chars_2:\n",
    "            count += 1\n",
    "    return count\n",
    "print(common_char(\"我不是小明\",\"我是小明\"))"
   ]
  },
  {
   "cell_type": "code",
   "execution_count": 214,
   "metadata": {},
   "outputs": [
    {
     "data": {
      "text/plain": [
       "True"
      ]
     },
     "execution_count": 214,
     "metadata": {},
     "output_type": "execute_result"
    }
   ],
   "source": [
    "\"i\" in \"ice cream\""
   ]
  },
  {
   "cell_type": "code",
   "execution_count": 215,
   "metadata": {},
   "outputs": [
    {
     "name": "stdout",
     "output_type": "stream",
     "text": [
      "一二三四五六七\n"
     ]
    }
   ],
   "source": [
    "chars = \"一二三四五六七\"\n",
    "text = \"\"\n",
    "for char in chars:\n",
    "    text += char\n",
    "print(text)"
   ]
  },
  {
   "cell_type": "code",
   "execution_count": 216,
   "metadata": {},
   "outputs": [
    {
     "name": "stdout",
     "output_type": "stream",
     "text": [
      "g\n"
     ]
    },
    {
     "data": {
      "text/plain": [
       "'\\ntext 最后为 chars 的末尾字符 \"g\"。与上一题不同的是，\"=\" 此处在for循环时，不停为 text 更新赋值，text 最后的赋值停留在 chars 的最后一个字符 \"g\" 上。\\n'"
      ]
     },
     "execution_count": 216,
     "metadata": {},
     "output_type": "execute_result"
    }
   ],
   "source": [
    "chars = \"abcdefg\"\n",
    "text = \"\"\n",
    "for char in chars:\n",
    "    text = char\n",
    "print(text)\n",
    "\"\"\"\n",
    "text 最后为 chars 的末尾字符 \"g\"。与上一题不同的是，\"=\" 此处在for循环时，不停为 text 更新赋值，text 最后的赋值停留在 chars 的最后一个字符 \"g\" 上。\n",
    "\"\"\""
   ]
  },
  {
   "cell_type": "code",
   "execution_count": 217,
   "metadata": {},
   "outputs": [
    {
     "name": "stdout",
     "output_type": "stream",
     "text": [
      "['吃', '葡', '萄', '不', '吐', '皮']\n",
      "43\n"
     ]
    }
   ],
   "source": [
    "\"\"\"\n",
    "在文本统计中我们经常需要找出去重后的单字，比如在\"吃吃喝喝\"中，去重后的单字为\"吃\"和\"喝\"。\n",
    "\n",
    "我们来创建一个函数，判断一段文本中有多少个去重的单字。\n",
    "\n",
    "1.创建函数 unique()，参数 chars；\n",
    "\n",
    "2.函数内创建一个空列表 uni_words；\n",
    "\n",
    "3.循环 chars，如果元素存在于 uni_words，循环继续运行；否则，将元素加入 uni_words 中；\n",
    "\n",
    "4.函数返回 uni_words；\n",
    "\n",
    "5.输出unique(\"吃葡萄不吐葡萄皮\")；\n",
    "\n",
    "6.输出 unique(poem) 的长度。\n",
    "\"\"\"\n",
    "#我用 Python 统计文本去重后的字数\n",
    "poem = \"迢迢牵牛星，皎皎河汉女，纤纤擢素手，札札弄机杼。终日不成章，泣涕零如雨。河汉清且浅，相去复几许。盈盈一水间，脉脉不得语。\"\n",
    "def unique(chars):\n",
    "    uni_words = []\n",
    "    for char in chars:\n",
    "        if char in uni_words:\n",
    "            continue\n",
    "        else:\n",
    "            uni_words.append(char)\n",
    "    return uni_words\n",
    "print(unique(\"吃葡萄不吐葡萄皮\"))\n",
    "# poem 中去重后的字数为：\n",
    "print(len(unique(poem)))"
   ]
  },
  {
   "cell_type": "code",
   "execution_count": 218,
   "metadata": {},
   "outputs": [],
   "source": [
    "# 7.3 字符串（3）"
   ]
  },
  {
   "cell_type": "code",
   "execution_count": 219,
   "metadata": {},
   "outputs": [
    {
     "name": "stdout",
     "output_type": "stream",
     "text": [
      "['learnpython', 'shanbay.com']\n"
     ]
    }
   ],
   "source": [
    "\"\"\"\n",
    ".split() I ：我们可以用 .split() 切割字符串。.split() 的括号中可以填入分隔符，程序以分隔符为截点来切割字符串：\n",
    "\n",
    "text = \"一棵是枣树，另一棵还是枣树\"\n",
    "print(text.split(\"，\")) # 分隔符为 ，\n",
    "# 输出：['一棵是枣树', '另一棵还是枣树']\n",
    "示例中，.split() 中的分隔符为中文逗号 \"，\"，变量 text 由\"，\"被切割为两部分：\"一棵是枣树\" 与 \"另一棵还是枣树\"。另外，分隔符也可以是文字；最后，如果不填写分隔符，.split() 会默认用空格作为分隔符。\n",
    "\n",
    "text = \"I have an apple. I have a pen.\"\n",
    "# 下方以 \"an\" 作为分隔符\n",
    "print(text.split(\"an\"))\n",
    "# 输出：['I have ', ' apple. I have a pen.']    \n",
    "# 下方以\" \"（空格）作为分隔符\n",
    "print(text.split())\n",
    "# 输出：['I', 'have', 'an', 'apple.', 'I', 'have', 'a', 'pen.'] \n",
    "\"\"\"\n",
    "email_adr = \"learnpython@shanbay.com\"\n",
    "print(email_adr.split('@'))"
   ]
  },
  {
   "cell_type": "code",
   "execution_count": 220,
   "metadata": {},
   "outputs": [
    {
     "name": "stdout",
     "output_type": "stream",
     "text": [
      "['1956', '1958', '1967', '1968', '1974', '1987', '1993']\n"
     ]
    }
   ],
   "source": [
    "\"\"\"\n",
    ".split() II：由上页可知，.split() 切割一个字符串之后，会生成一个列表。我们可以和处理列表一样，取其中的各个部分：\n",
    "\n",
    "email_adr = \"learnpython@shanbay.com\"\n",
    "print(email_adr.split(\"@\")[1])\n",
    "# 输出：shanbay.com\n",
    "并且，我们可以对切割完的字符串再做切割：\n",
    "\n",
    "email_adr = \"learnpython@shanbay.com\"\n",
    "web_adr = email_adr.split(\"@\")[1]\n",
    "print(web_adr.split(\".\")[0])\n",
    "# 输出：shanbay\n",
    "例子中，我们对 \"shanbay.com\" 又做了一次切割，分隔符为 \".\" 。\n",
    "\n",
    "最后，需要注意的是：如果切割符是字符串的最后一个字符，则在生成的列表中，会有一个空字符串在末尾。\n",
    "\n",
    "text = \"你好。再见。\"\n",
    "print(text.split(\"。\"))\n",
    "# 输出：['你好', '再见', '']  列表最后一个元素为空字符串\n",
    "\"\"\"\n",
    "dates = \"1956-10-22,1958-03-12,1967-01-11,1968-12-21,1974-06-06,1987-09-12,1993-10-01\"\n",
    "years = []\n",
    "for date in dates.split(\",\"):\n",
    "    years.append(date.split(\"-\")[0])\n",
    "print(years)"
   ]
  },
  {
   "cell_type": "code",
   "execution_count": 221,
   "metadata": {},
   "outputs": [
    {
     "name": "stdout",
     "output_type": "stream",
     "text": [
      "警告\n"
     ]
    }
   ],
   "source": [
    "\"\"\"\n",
    ".strip()：我们在真实工作中遇到的数据往往是“不干净”的。比如，在字符串中有大量的空格。这时，我们可以用 .strip() 方法删去字符串开头和结尾的空格：\n",
    "\n",
    "text = \"   我说的你能听见吗？        \"\n",
    "print(text.strip())\n",
    "# 输出：我说的你能听见吗？\n",
    "和.split() 一样，我们可以在 .strip() 的括号中填入参数。如果目标字符串的开头和结尾是该参数，.strip() 将会把参数删去。此时，剩下的字符串开头和结尾若有空格，空格将会被保留：\n",
    "\n",
    "text = \"！！！！   我说的你能听见吗？！！！！\"\n",
    "print(text.strip(\"！\"))\n",
    "# 输出：   我说的你能听见吗？\n",
    "# “我”前方的空格会被保留\n",
    "\"\"\"\n",
    "warning = \"<<<<<<<---------       警告      ------->>>>>>\"\n",
    "print(warning.strip(\"<\").strip(\">\").strip(\"-\").strip())"
   ]
  },
  {
   "cell_type": "code",
   "execution_count": 222,
   "metadata": {},
   "outputs": [
    {
     "name": "stdout",
     "output_type": "stream",
     "text": [
      "阿强\n"
     ]
    }
   ],
   "source": [
    "name = \":::::::::  阿强:::::::\"\n",
    "print(name.strip(':').strip())\n",
    "# name.strip(':').strip() 先删去字符串前后的 :，之后删去前后的空格。"
   ]
  },
  {
   "cell_type": "code",
   "execution_count": 223,
   "metadata": {},
   "outputs": [
    {
     "data": {
      "text/plain": [
       "['大爷，马冬梅在吗', '马什么梅啊', '']"
      ]
     },
     "execution_count": 223,
     "metadata": {},
     "output_type": "execute_result"
    }
   ],
   "source": [
    "\"大爷，马冬梅在吗？马什么梅啊？\".split(\"？\")\n",
    "# 字符串被\"？\" 切割，分隔符\"？\" 不会被包含在任何一个子字符串内。由于\"？\" 存在于目标字符串的末尾，因此生成列表的最后一个元素为空字符串。"
   ]
  },
  {
   "cell_type": "code",
   "execution_count": 224,
   "metadata": {},
   "outputs": [
    {
     "data": {
      "text/plain": [
       "'十四'"
      ]
     },
     "execution_count": 224,
     "metadata": {},
     "output_type": "execute_result"
    }
   ],
   "source": [
    "\"四十是四十，十四是十四\".split(\"是\")[1].split(\"，\")[1]"
   ]
  },
  {
   "cell_type": "code",
   "execution_count": 225,
   "metadata": {},
   "outputs": [
    {
     "data": {
      "text/plain": [
       "'四十，十四'"
      ]
     },
     "execution_count": 225,
     "metadata": {},
     "output_type": "execute_result"
    }
   ],
   "source": [
    "\"四十是四十，十四是十四\".split(\"是\")[1]  "
   ]
  },
  {
   "cell_type": "code",
   "execution_count": 226,
   "metadata": {},
   "outputs": [
    {
     "name": "stdout",
     "output_type": "stream",
     "text": [
      "Python爬虫实战\n",
      "30.0元\n"
     ]
    }
   ],
   "source": [
    "\"\"\"\n",
    "在本课程的后期，我们会学习用 Python 爬取网页上的数据，这些信息往往以字符串的形式呈现在我们面前。我们需要对它们进行清洗，以获得想要的数据格式。\n",
    "\n",
    "今天我们体验一下如何清洗爬取下来的数据吧，请补全注释行代码：\n",
    "\n",
    "下列变量 text 中存储了我们从“买书网”（虚构）上抓取的网页HTML信息，请用你在本课中学到的知识，先分析下段代码是如何将 text 中的字符串 \"Python爬虫实战\" 截取存至变量 book_name。参考此代码将 text 中的 \"30.0元\" 存入变量price 。\n",
    "\n",
    "最后输出book_name 与 price。\n",
    "\"\"\"\n",
    "# 我用 Python 清洗网站爬取数据\n",
    "text = \"\"\"\n",
    "<!DOCTYPE html>\n",
    "<html>\n",
    "<head>\n",
    "  <title>买书网</title>\n",
    "</head>\n",
    "<body>\n",
    "<p id=\"item\">  Python爬虫实战  </p>\n",
    "<p id=\"price\">30.0元</p>\n",
    "</body>\n",
    "</html>\n",
    "\"\"\"\n",
    "book_name = text.split(\"</p>\")[0].split(\">\")[-1].strip()\n",
    "price = text.split(\"</p>\")[1].split(\">\")[-1]\n",
    "print(book_name)\n",
    "print(price)"
   ]
  },
  {
   "cell_type": "code",
   "execution_count": 227,
   "metadata": {},
   "outputs": [],
   "source": [
    "# 7.4 字符串（4）"
   ]
  },
  {
   "cell_type": "code",
   "execution_count": 228,
   "metadata": {},
   "outputs": [
    {
     "name": "stdout",
     "output_type": "stream",
     "text": [
      "设计>>开发>>测试>>上线>>维护\n"
     ]
    }
   ],
   "source": [
    "\"\"\"\n",
    ".join() ：我们既可以用 .split() 切割字符串，也可以用 .join() 将若干字符串联结起来。具体如下：\n",
    "\n",
    "text = [\"苹果\",\"香蕉\",\"哈密瓜\",\"芒果\"]\n",
    "print(\"、\".join(text))\n",
    "# 输出：苹果、香蕉、哈密瓜、芒果\n",
    "例子中，.join() 前双引号内的\"、\" 是我们联结字符串的分隔符。.join() 括号内是目标字符串所在的列表。\n",
    "\n",
    "当然，即使不用分隔符，我们也可以联结字符串：\n",
    "\n",
    "text = [\"苹果\",\"香蕉\",\"哈密瓜\",\"芒果\"]\n",
    "print(\"\".join(text))\n",
    "# 输出：苹果香蕉哈密瓜芒果\n",
    "\"\"\"\n",
    "plan = [\"设计\",\"开发\",\"测试\",\"上线\",\"维护\"]\n",
    "print('>>'.join(plan))"
   ]
  },
  {
   "cell_type": "code",
   "execution_count": 229,
   "metadata": {},
   "outputs": [
    {
     "name": "stdout",
     "output_type": "stream",
     "text": [
      "银角：“我叫你一声，你敢答应吗？”\n",
      "行者笑道：“嘿嘿，我叫你一声，你敢答应吗？嗯？”\n",
      "银角道：“嗯？行者孙，你那葫芦从哪来的？” \n",
      "行者：“你那葫芦从哪来的？”\n"
     ]
    }
   ],
   "source": [
    "\"\"\"\n",
    "换行符号：我们之前在学习转义字符 \\ 时，知道它可以起到为代码换行的作用。今天我们学习一个类似的符号 \\n，它被用来为字符串换行：\n",
    "\n",
    "print(\"a\\nb\")\n",
    "# 输出：\n",
    "a\n",
    "b\n",
    "结合刚才学到的 .join()，我们可以用 \\n 作为 .join() 的分隔符，在所联结的字符串之内进行换行：\n",
    "\n",
    "poem = [\"红豆生南国\",\"春来发几枝\",\"愿君多采撷\",\"此物最相思\"]\n",
    "print(\"\\n\".join(poem))\n",
    "# 输出：\n",
    "红豆生南国\n",
    "春来发几枝\n",
    "愿君多采撷\n",
    "此物最相思\n",
    "\n",
    "print(\"\".join(poem))\n",
    "# 输出：红豆生南国春来发几枝愿君多采撷此物最相思\n",
    "\"\"\"\n",
    "dialog = [\"银角：“我叫你一声，你敢答应吗？”\",\"行者笑道：“嘿嘿，我叫你一声，你敢答应吗？嗯？”\",\"银角道：“嗯？行者孙，你那葫芦从哪来的？” \",\"行者：“你那葫芦从哪来的？”\"]\n",
    "print('\\n'.join(dialog))"
   ]
  },
  {
   "cell_type": "code",
   "execution_count": 230,
   "metadata": {},
   "outputs": [
    {
     "name": "stdout",
     "output_type": "stream",
     "text": [
      "watermelon\n"
     ]
    }
   ],
   "source": [
    "\"\"\"\n",
    ".replace()：我们可以用 .replace() 将字符串中的某一部分替换。\n",
    "\n",
    "text = \"我爱苹果\"\n",
    "new_text = text.replace(\"苹果\",\"哈密瓜\")\n",
    "print(new_text)\n",
    "# 输出：我爱哈密瓜\n",
    "\"\"\"\n",
    "fruit = \"wPaYteTrmeHloOnN\"\n",
    "for letter in fruit:\n",
    "    if letter == letter.upper():\n",
    "        fruit = fruit.replace(letter,\"\")\n",
    "print(fruit)"
   ]
  },
  {
   "cell_type": "code",
   "execution_count": 231,
   "metadata": {},
   "outputs": [
    {
     "name": "stdout",
     "output_type": "stream",
     "text": [
      "26\n"
     ]
    }
   ],
   "source": [
    "\"\"\"\n",
    ".find()：用 b.find(a) 可以返回字符串 a 在字符串 b 中第一次出现所在的索引位置：\n",
    "\n",
    "find_pu = \"吃葡萄不吐葡萄皮\".find(\"葡\")\n",
    "print(find_pu) \n",
    "# 输出：1\n",
    "# \"葡\" 在 \"吃葡萄不吐葡萄皮\" 中第一次出现的索引位置为1。\n",
    "如果b.find(a) 中a长度大于1，.find() 会返回字符串a的第一个字符在b中的索引位置：\n",
    "\n",
    "find_putao = \"吃葡萄不吐葡萄皮\".find(\"葡萄\")\n",
    "print(find_putao) \n",
    "# 输出：1\n",
    "最后，需要说明的是，如果我们想找的字符串 a 并没有出现在字符串 b 中，.find() 返回 -1 。\n",
    "\"\"\"\n",
    "chars =\"茕茕孑立沆瀣一气踽踽独行醍醐灌顶绵绵瓜瓞奉为圭臬龙行龘龘犄角旮旯\"\n",
    "print(chars.find(\"龘\"))"
   ]
  },
  {
   "cell_type": "code",
   "execution_count": 232,
   "metadata": {},
   "outputs": [
    {
     "name": "stdout",
     "output_type": "stream",
     "text": [
      "张—小—明\n"
     ]
    }
   ],
   "source": [
    "name = [\"张\",\"小\",\"明\"]\n",
    "print(\"—\".join(name))\n",
    "# \"—\".join(name) 将列表 name 中的字符串用\"—\" 联结起来"
   ]
  },
  {
   "cell_type": "code",
   "execution_count": 233,
   "metadata": {},
   "outputs": [
    {
     "name": "stdout",
     "output_type": "stream",
     "text": [
      "0\n"
     ]
    }
   ],
   "source": [
    "print(\"一五一十\".find(\"一\"))"
   ]
  },
  {
   "cell_type": "code",
   "execution_count": 234,
   "metadata": {},
   "outputs": [
    {
     "name": "stdout",
     "output_type": "stream",
     "text": [
      "一\n",
      "二\n",
      "三\n"
     ]
    }
   ],
   "source": [
    "text = [\"一\",\"二\",\"三\"]\n",
    "print(\"\\n\".join(text)) \n",
    "# \"\\n\" 在Python中可以为字符串换行。"
   ]
  },
  {
   "cell_type": "code",
   "execution_count": 235,
   "metadata": {},
   "outputs": [
    {
     "name": "stdout",
     "output_type": "stream",
     "text": [
      "3.1415926535897932384626433832795028841971693993751058209749445923078164062862089986280348253421170\n"
     ]
    }
   ],
   "source": [
    "\"\"\"\n",
    "拯救圆周率\n",
    "\n",
    "魔鬼为了阻止人类进步，将数学瑰宝圆周率占为己有。为了满足它的私欲，魔鬼对圆周率的前99位进行肆意篡改。\n",
    "\n",
    "现在你偷偷潜入了魔鬼的地穴，需要凭借智慧和利器 Python 将圆周率恢复。\n",
    "\n",
    "已知：\n",
    "\n",
    "1）魔鬼最喜欢的数字是\"6\" ，所以它将圆周率中的\"6\"都取走，并以\"6\" 为截点将圆周率切割，形成了一个\"破碎的圆周率\"，装在列表 broken_pi 之中；\n",
    "\n",
    "2）魔鬼最害怕的数字是 \"9\"，所以它将圆周率中的\"9\"都换成了空字符 \" \"；\n",
    "\n",
    "3）broken_pi 已被魔鬼打上了符咒，你需要从中取出碎片，才能对其进行恢复。\n",
    "\"\"\"\n",
    "# 我用 Python 拯救了圆周率\n",
    "broken_pi = [\"3.1415 2\",\"5358 7 32384\",\"2\",\"4338327 5028841 71\",\" 3  375105820 74 445 230781\",\"40\",\"28\",\"208  8\",\"280348253421170\"]\n",
    "pi = \"6\".join(broken_pi)\n",
    "pi = pi.replace(\" \",\"9\")\n",
    "print(pi)"
   ]
  },
  {
   "cell_type": "code",
   "execution_count": 236,
   "metadata": {},
   "outputs": [],
   "source": [
    "# 7.5 字符串（5）"
   ]
  },
  {
   "cell_type": "code",
   "execution_count": 237,
   "metadata": {},
   "outputs": [
    {
     "name": "stdout",
     "output_type": "stream",
     "text": [
      "ABCDEFGHIJKLMNOPQRSTUVWXYZ\n",
      "abcdefghijklmnopqrstuvwxyz\n"
     ]
    }
   ],
   "source": [
    "\"\"\"\n",
    "字母大小写：Python 中有一些内置的方法可以帮助我们处理字符串数据。我们先学习：.upper() 和 .lower()。 .upper() 将字符串中的所有英文字母变成大写；.lower() 将字符串中的所有英文字母变成小写。\n",
    "\n",
    "text = \"Harry Potter\"\n",
    "print(text.upper())\n",
    "print(text.lower())\n",
    "# 输出：HARRY POTTER\n",
    "# 输出：harry potter\n",
    "\"\"\"\n",
    "alphabet = \"abcDefgHijklmnOpqrsTuvwxYz\"\n",
    "print(alphabet.upper())\n",
    "print(alphabet.lower())"
   ]
  },
  {
   "cell_type": "code",
   "execution_count": 238,
   "metadata": {},
   "outputs": [
    {
     "name": "stdout",
     "output_type": "stream",
     "text": [
      "我喜欢吃西瓜\n",
      "我讨厌吃猕猴桃\n"
     ]
    }
   ],
   "source": [
    "\"\"\"\n",
    ".format()：.format() 可以将字符串中的部分字符变成变量，这是一种非常便捷的操纵字符串的方法。我们来做比较，先看下方示例：\n",
    "\n",
    "number = 3\n",
    "print(\"我有\" + str(number) +\"个苹果。\")\n",
    "# 输出：我有3个苹果。\n",
    "示例中，我们用 + 来联结变量 number 和前后两个字符串。同时，我们还需要用 str() 将 number 转变为字符串类型，现在我们可以：\n",
    "\n",
    "number = 3\n",
    "print(\"我有{}个苹果。\".format(number))\n",
    "# 输出：我有3个苹果。\n",
    "第二个示例中，{} 中的部分可以由 .format() 括号中的变量值所替代。我们再看一个例子：\n",
    "\n",
    "singer = \"陈奕迅\"\n",
    "song = \"《浮夸》\"\n",
    "print(\"我最喜欢的歌是{}的{}\".format(singer,song))\n",
    "# 输出：我最喜欢的歌是陈奕迅的《浮夸》\n",
    "我们发现当有多个 {} 时，可以按照 .format() 括号中变量的顺序依次赋值。这一点很像之前学到的用位置参数为函数赋值。\n",
    "\"\"\"\n",
    "print(\"我{}吃{}\".format('喜欢','西瓜'))\n",
    "print(\"我{act}吃{fruit}\".format(act = '讨厌',fruit = '猕猴桃'))"
   ]
  },
  {
   "cell_type": "code",
   "execution_count": 239,
   "metadata": {},
   "outputs": [
    {
     "name": "stdout",
     "output_type": "stream",
     "text": [
      "《三体》的作者是刘慈欣，该书由重庆出版社在2008年出版。\n"
     ]
    }
   ],
   "source": [
    "\"\"\"\n",
    ".format() II：为了提高代码的可读性，建议在 .format() 中加入关键字参数，指明对应的变量与赋值。和对待函数参数一样。使用关键字参数，可以不考虑变量的顺序。\n",
    "\n",
    "print(\"我最喜欢的球星是{country}的{star}\".format(star = \"C罗\",country = \"葡萄牙\"))\n",
    "输出：我最喜欢的球星是葡萄牙的C罗\n",
    "\"\"\"\n",
    "def book(name,year,writer,publisher):\n",
    "    return \"{name}的作者是{writer}，该书由{publisher}在{year}年出版。\"\\\n",
    "    .format(name = name,year = year, writer = writer, publisher = publisher)\n",
    "print(book(\"《三体》\",\"2008\",\"刘慈欣\",\"重庆出版社\"))"
   ]
  },
  {
   "cell_type": "code",
   "execution_count": 240,
   "metadata": {},
   "outputs": [
    {
     "name": "stdout",
     "output_type": "stream",
     "text": [
      "mmmmmmmmmmmm\n"
     ]
    }
   ],
   "source": [
    "print(\"MMmmMMmmMMmm\".replace(\"mm\".upper(),\"mm\".lower()))\n",
    "# 代码将 \"MMmmMMmmMMmm\" 中的大写 \"MM\" 替换成小写 \"mm\"。"
   ]
  },
  {
   "cell_type": "code",
   "execution_count": 241,
   "metadata": {},
   "outputs": [
    {
     "name": "stdout",
     "output_type": "stream",
     "text": [
      "阿强和老王在学Python\n"
     ]
    }
   ],
   "source": [
    "print(\"{y}和{x}在{act}\".format(x = \"老王\", y = \"阿强\", act = \"学Python\"))\n",
    "# 题干用关键字参数为{} 内的变量赋值。"
   ]
  },
  {
   "cell_type": "code",
   "execution_count": 242,
   "metadata": {},
   "outputs": [
    {
     "name": "stdout",
     "output_type": "stream",
     "text": [
      "┌────────┐\n",
      "│ 3      │\n",
      "│        │\n",
      "│        │\n",
      "│   ♣    │\n",
      "│        │\n",
      "│        │\n",
      "│      3 │\n",
      "└────────┘\n",
      "┌────────┐\n",
      "│ K      │\n",
      "│        │\n",
      "│        │\n",
      "│   ♥    │\n",
      "│        │\n",
      "│        │\n",
      "│      K │\n",
      "└────────┘\n"
     ]
    }
   ],
   "source": [
    "\"\"\"\n",
    "一副扑克牌除去大小鬼，还剩52张。四种花色红心、梅花、方片、黑桃各有13张：A、2、3、4、5、6、7、8、9、10、J、Q、K。\n",
    "\n",
    "请按照下方要求，补全注释行… 处代码：\n",
    "\n",
    "我们来写一个函数 want_card(card)，当参数card为某张牌时（比如\"梅花3\"），程序会将该张扑克输出在屏幕上。\n",
    "\n",
    "1.创建列表 suits = ['♠', '♦', '♥', '♣']；\n",
    "\n",
    "2.创建函数 want_card()，参数 card；\n",
    "\n",
    "3.函数 want_card() 内，如果参数 card 的前两位字符为 \"黑桃\" ，变量 suit 为 suits[0]；变量 number 为 card[2]；\n",
    "\n",
    "4.如果参数 card 的前两位字符为 \"梅花\" ，变量 suit 为 suits[3]；变量 number 为 card[2]；\n",
    "\n",
    "5.调用 want_card(\"梅花3\")；\n",
    "\n",
    "6.调用 want_card(\"红心K\")。\n",
    "\"\"\"\n",
    "# 我用 Python 打扑克牌\n",
    "suits = ['♠', '♦', '♥', '♣']\n",
    "def want_card(card):\n",
    "    if card[:2] == \"黑桃\":\n",
    "        suit = suits[0]\n",
    "        number = card[2]\n",
    "    elif card[0:2] == \"方片\":\n",
    "        suit = suits[1]\n",
    "        number = card[2]\n",
    "    elif card[0:2] == \"红心\":\n",
    "        suit = suits[2]\n",
    "        number = card[2]\n",
    "    elif card[:2] == '梅花':\n",
    "        suit = suits[3]\n",
    "        number = card[2]\n",
    "    print('┌────────┐')\n",
    "    print('│ {}      │'.format(number))\n",
    "    print('│        │')\n",
    "    print('│        │')\n",
    "    print('│   {}    │'.format(suit))\n",
    "    print('│        │')\n",
    "    print('│        │')\n",
    "    print('│      {} │'.format(number))\n",
    "    print('└────────┘')\n",
    "\n",
    "want_card(\"梅花3\")\n",
    "want_card(\"红心K\")"
   ]
  },
  {
   "cell_type": "code",
   "execution_count": 243,
   "metadata": {},
   "outputs": [],
   "source": [
    "# 7.6 回顾"
   ]
  },
  {
   "cell_type": "code",
   "execution_count": 244,
   "metadata": {},
   "outputs": [
    {
     "name": "stdout",
     "output_type": "stream",
     "text": [
      "['我', '苹', '果']\n"
     ]
    }
   ],
   "source": [
    "\"\"\"\n",
    "和对待列表一样，我们也可以用索引位置来访问字符串中的字符。另外，我们也可以用 for 循环或者 while 循环来实现对字符串的遍历。\n",
    "\"\"\"\n",
    "def common_chars(text1,text2):\n",
    "    common =[]\n",
    "    for char in text1:\n",
    "        if char in text2 and char not in common:\n",
    "            common.append(char)\n",
    "    return common\n",
    "print(common_chars(\"我吃我的苹果\",\"我唱《小苹果》\"))"
   ]
  },
  {
   "cell_type": "code",
   "execution_count": 245,
   "metadata": {},
   "outputs": [
    {
     "name": "stdout",
     "output_type": "stream",
     "text": [
      "飞上了天\n"
     ]
    }
   ],
   "source": [
    "\"\"\"\n",
    "接着，我们通过练习来回顾 .find() 方法。\n",
    "\n",
    "做练习之前，我们先复习一下 .find() 方法的用法。\n",
    "\n",
    "我们可以用 b.find(a) 可以返回字符串 a 在字符串 b 中第一次出现所在的索引位置：\n",
    "\n",
    "find_pu = \"吃葡萄不吐葡萄皮\".find(\"葡\")\n",
    "print(find_pu) \n",
    "# 输出：1\n",
    "# \"葡\" 在 \"吃葡萄不吐葡萄皮\" 中第一次出现的索引位置为1。\n",
    "如果b.find(a) 中a长度大于1，.find() 会返回字符串a的第一个字符在b中的索引位置：\n",
    "\n",
    "find_putao = \"吃葡萄不吐葡萄皮\".find(\"葡萄\")\n",
    "print(find_putao) \n",
    "# 输出：1\n",
    "最后，需要说明的是，如果我们想找的字符串 a 并没有出现在字符串 b 中，.find() 返回 -1 。\n",
    "\"\"\"\n",
    "def after_words(a,b):\n",
    "    if a not in b:\n",
    "        return b\n",
    "    else:\n",
    "        start = b.find(a)\n",
    "        return b[start:]\n",
    "print(after_words(\"飞上\",\"猪飞上了天\"))"
   ]
  },
  {
   "cell_type": "code",
   "execution_count": 246,
   "metadata": {},
   "outputs": [
    {
     "name": "stdout",
     "output_type": "stream",
     "text": [
      "平平安安\n",
      "乐乐呵呵\n"
     ]
    }
   ],
   "source": [
    "def double_char(text):\n",
    "    new_text = \"\"\n",
    "    for char in text:\n",
    "        char *= 2\n",
    "        new_text += char\n",
    "    return new_text\n",
    "print(double_char(\"平安\"))\n",
    "print(double_char(\"乐呵\"))"
   ]
  },
  {
   "cell_type": "code",
   "execution_count": 247,
   "metadata": {},
   "outputs": [
    {
     "name": "stdout",
     "output_type": "stream",
     "text": [
      "西瓜喜欢吃小明\n"
     ]
    }
   ],
   "source": [
    "print(\"{}{}吃{}\".format(\"西瓜\",\"喜欢\",\"小明\"))"
   ]
  },
  {
   "cell_type": "code",
   "execution_count": 248,
   "metadata": {},
   "outputs": [
    {
     "name": "stdout",
     "output_type": "stream",
     "text": [
      "mmmmmmmmmmmm\n"
     ]
    }
   ],
   "source": [
    "print(\"MMmmMMmmMMmm\".replace(\"mm\".upper(),\"mm\".lower()))\n",
    "# 代码将 \"MMmmMMmmMMmm\" 中的大写 \"MM\" 替换成小写 \"mm\"。"
   ]
  },
  {
   "cell_type": "code",
   "execution_count": 249,
   "metadata": {},
   "outputs": [
    {
     "name": "stdout",
     "output_type": "stream",
     "text": [
      "on\n"
     ]
    }
   ],
   "source": [
    "text_1 = \"一二三四五六\"\n",
    "text_2 = \"one two three four five six\"\n",
    "print(text_2[:text_1.find(\"三\")])"
   ]
  },
  {
   "cell_type": "code",
   "execution_count": 250,
   "metadata": {},
   "outputs": [
    {
     "name": "stdout",
     "output_type": "stream",
     "text": [
      "昨日小李接到的订单数为23单\n",
      "昨日里程数为143.7公里\n",
      "10点有4单\n",
      "11点有1单\n",
      "12点有1单\n",
      "13点有2单\n",
      "14点有2单\n",
      "15点有2单\n",
      "16点有1单\n",
      "17点有2单\n",
      "18点有1单\n",
      "19点有3单\n",
      "20点有1单\n",
      "21点有1单\n",
      "22点有2单\n"
     ]
    }
   ],
   "source": [
    "\"\"\"\n",
    "小李今天接了几单？\n",
    "\n",
    "drive_record 中是专车司机小李昨日一天的行车记录，其中包括了乘客上车时间（10:03:12）和订单行驶公里数（里程：3.2公里）。\n",
    "\n",
    "请按照下列代码的注释完成要求，我们看看小李昨天订单的行驶总里程和每小时内的接单数。\n",
    "\"\"\"\n",
    "drive_record = \\\n",
    "\"\"\"\n",
    "   10:03:12                   里程：3.2公里；\n",
    "   10:23:18                   里程：6.7公里；\n",
    "   10:40:32                   里程：2.1公里；\n",
    "   10:52:02                   里程：4.2公里；\n",
    "   11:21:23                   里程：5.2公里；\n",
    "   12:23:57                   里程：7.3公里；\n",
    "   13:03:12                   里程：3.0公里；\n",
    "   13:22:02                   里程：13.2公里；\n",
    "   14:08:43                   里程：6.1公里；\n",
    "   14:43:52                   里程：7.2公里；\n",
    "   15:13:32                   里程：3.2公里；\n",
    "   15:37:12                   里程：10.6公里；\n",
    "   16:43:22                   里程：3.4公里；\n",
    "   17:20:01                   里程：3.2公里；\n",
    "   17:33:15                   里程：7.3公里；\n",
    "   18:03:17                   里程：10.2公里；\n",
    "   19:02:12                   里程：5.8公里；\n",
    "   19:33:43                   里程：3.7公里；\n",
    "   19:53:52                   里程：6.2公里；\n",
    "   20:28:21                   里程：6.6公里；\n",
    "   21:03:12                   里程：15.2公里；\n",
    "   22:03:12                   里程：3.9公里；\n",
    "   22:23:12                   里程：6.2公里\n",
    "\"\"\"\n",
    "\n",
    "drive_record_list = drive_record.split(\"；\")\n",
    "print(\"昨日小李接到的订单数为{}单\".format(len(drive_record_list)))\n",
    "\n",
    "\n",
    "drive_kms = []\n",
    "for record in drive_record_list:\n",
    "    drive_kms.append(record.split(\"里程：\")[1].split(\"公里\")[0])\n",
    "\n",
    "drive_sum = 0\n",
    "for kms in drive_kms:\n",
    "    drive_sum += float(kms)\n",
    "print(\"昨日里程数为{}公里\".format(drive_sum))\n",
    "\n",
    "hours = []\n",
    "for record in drive_record_list:\n",
    "    hour = record.split(\":\")[0].split(\"\\n\")[1].strip()\n",
    "    hours.append(hour)\n",
    "\n",
    "unique_hour = []\n",
    "for hour in hours:\n",
    "    if hour not in unique_hour:\n",
    "        unique_hour.append(hour)\n",
    "    else:\n",
    "        pass\n",
    "\n",
    "def hour_count(hour):\n",
    "    count = 0\n",
    "    for h in hours:\n",
    "        if h == hour:\n",
    "            count+=1\n",
    "    return count\n",
    "\n",
    "for hour in unique_hour:\n",
    "    print(\"{}点有{}单\".format(hour,hour_count(hour)))"
   ]
  },
  {
   "cell_type": "code",
   "execution_count": 251,
   "metadata": {},
   "outputs": [],
   "source": [
    "# 8.1 模块"
   ]
  },
  {
   "cell_type": "code",
   "execution_count": 252,
   "metadata": {},
   "outputs": [
    {
     "name": "stdout",
     "output_type": "stream",
     "text": [
      "现在时间：\n",
      "2019-06-24 21:45:17.219835\n"
     ]
    }
   ],
   "source": [
    "\"\"\"\n",
    "什么是模块：生活中，我们会用一个冰箱来存放蔬菜、水果、牛奶、面包、猪肉、香肠等。聪明的我们不会选择分别购买一堆存放蔬菜的冰箱、存放水果的冰箱、存放牛奶的冰箱、存放面包的冰箱等等，我们会选择重复利用一个具有冷藏功能的冰箱。在编程世界里，重复利也同样重要。为了实现代码的重用，可以使用之前学过的函数，同时也可以通过模块来做到。本课中，我们学习如何调用模块，提高编程效率。多说一句，有时人们也会将模块称作库或者包。\n",
    "\n",
    "导入模块的基本语句为：\n",
    "\n",
    "# from 模块名 import 对象名\n",
    "from datetime import datetime\n",
    "示例中，datetime 是Python 标准库（Standard Library）中的一元，from 后面的 datetime 是模块名，而import 之后的 datetime 是对象名。\n",
    "\"\"\"\n",
    "from datetime import datetime\n",
    "\n",
    "time_now = datetime.now()\n",
    "\n",
    "print(\"现在时间：\")\n",
    "print(time_now)"
   ]
  },
  {
   "cell_type": "code",
   "execution_count": 253,
   "metadata": {},
   "outputs": [
    {
     "name": "stdout",
     "output_type": "stream",
     "text": [
      "国\n"
     ]
    }
   ],
   "source": [
    "\"\"\"\n",
    "Random：Python 内置了很多模块，比如刚才看到的 datetime，还有 random 等，我们可以直接使用这些内置模块，比如可以用 random 来生成随机数据。随机数可以使用物理现象产生：比如掷硬币、骰子、转轮、核裂变等等，我们也可以使用计算机产生随机数。\n",
    "\n",
    "import random\n",
    "我们可以输入代码 import random ，之后便能调用 random 之中的各个功能（对象）。\n",
    "\n",
    "下方是我们可以用 random 做的操作，大家可以阅读了解：\n",
    "\n",
    "print( random.random() ) # 产生 0 到 1 之间的随机浮点数\n",
    "print( random.randint(1,10) ) # 产生 1 到 10 的一个整数型随机数 \n",
    "print( random.choice('tomorrow') ) # 从序列中随机选取一个元素\n",
    "print( random.randrange(1,100,2) ) # 生成从1到100的间隔为2的随机整数\n",
    "print( random.uniform(1.1,5.4) ) # 产生 1.1 到 5.4 之间的随机浮点数，区间可以不是整数\n",
    "\"\"\"\n",
    "# 随机抛掷1元硬币\n",
    "import random\n",
    "random_number = random.choice('国徽''牡丹')\n",
    "print(random_number)"
   ]
  },
  {
   "cell_type": "code",
   "execution_count": 254,
   "metadata": {},
   "outputs": [
    {
     "name": "stdout",
     "output_type": "stream",
     "text": [
      "国徽\n"
     ]
    }
   ],
   "source": [
    "\"\"\"\n",
    "模块命名：有时模块名称过长，不便于我们阅读代码，我们可以在导入它的时候为它重新命名。\n",
    "\n",
    "from datetime import datetime as dt\n",
    "now_time = dt.now()\n",
    "print(now_time)\n",
    "示例中，我们将对象 datetime 命名为 dt，在其下的代码中，便可以用 dt 来代替 datetime。\n",
    "\n",
    "需要注意的是，一般编写代码时，不建议使用大量的缩写，因为这样会降低代码的可读性。\n",
    "\"\"\"\n",
    "import random as rd\n",
    "my_list = range(0,2)\n",
    "random_number = rd.choice(my_list)\n",
    "coin = [\"国徽\",\"牡丹\"]\n",
    "print(coin[random_number])"
   ]
  },
  {
   "cell_type": "code",
   "execution_count": 255,
   "metadata": {},
   "outputs": [
    {
     "name": "stdout",
     "output_type": "stream",
     "text": [
      "3.0\n",
      "9.0\n",
      "3.0\n",
      "3.141592653589793\n"
     ]
    }
   ],
   "source": [
    "\"\"\"\n",
    "Math：我们经常需要用计算机做数学运算，Python 中的 Math 模块可以帮我们轻松搞定。接触一个新学的模块，我们需要阅读 Python 标准库的文档，由于大多数的 Python 文档都是用英文写的，所以大家在平时也要提高英文水平哦。\n",
    "\n",
    "Math 文档地址：https://docs.python.org/3/library/math.html\n",
    "\n",
    "在此，我们介绍几个常见的 Math 使用方法：\n",
    "\n",
    "math.fabs()  # 绝对值\n",
    "math.pow()  #次方计算\n",
    "math.sqrt()  #平方根计算\n",
    "math.pi  #圆周率数值\n",
    "\"\"\"\n",
    "import math\n",
    "print(math.fabs(-3))\n",
    "print(math.pow(3,2))\n",
    "print(math.sqrt(9))\n",
    "print(math.pi)"
   ]
  },
  {
   "cell_type": "code",
   "execution_count": 256,
   "metadata": {},
   "outputs": [],
   "source": [
    "import random"
   ]
  },
  {
   "cell_type": "code",
   "execution_count": 257,
   "metadata": {},
   "outputs": [],
   "source": [
    "# 在 from datetime import datetime 中：第一个datetime 是模块名，第二个datetime 是对象名"
   ]
  },
  {
   "cell_type": "code",
   "execution_count": 258,
   "metadata": {},
   "outputs": [],
   "source": [
    "import random as rd"
   ]
  },
  {
   "cell_type": "code",
   "execution_count": 259,
   "metadata": {},
   "outputs": [
    {
     "name": "stdout",
     "output_type": "stream",
     "text": [
      "让我想想\n"
     ]
    }
   ],
   "source": [
    "\"\"\"\n",
    "神奇球是一款可以拿来占卜的工具。当你心中有一个疑问，只能用“是”或“否”来回答时，神奇球可以随机给你一个答案。\n",
    "\n",
    "请按照下方要求，补全注释行…处代码：\n",
    "\n",
    "1.调用 random 模块；\n",
    "\n",
    "2.用 range() 创建 numbers，包含元素 —— 0,1,2,3,4,5,6,7（数值类数据）；\n",
    "\n",
    "3.将 random.choice(numbers) 赋值给变量 ans_num：random.choice() 将从 numbers 中随机抽取一个元素；\n",
    "\n",
    "4.创建列表 answers ，包含以下8个元素：\"当然，毫无疑问\" , \"很有可能\" , \"我想是的\" , \"或许吧\" , \"让我想想\" , \"我的答案是不\" , \"真让人怀疑\" , \"这不可能\"；\n",
    "\n",
    "5.输出：answers[ans_num]\n",
    "\n",
    "上方代码完成之后，请你心中默想一个只能由“是”或“否”来回答的问题，虔诚地运行上述代码。查看运行结果。\n",
    "\n",
    "Just for fun.\n",
    "\"\"\"\n",
    "import random\n",
    "numbers = range(0,8)\n",
    "ans_num = random.choice(numbers)\n",
    "answers = [\"当然，毫无疑问\",\"很有可能\",\"我想是的\",\"或许吧\",\"让我想想\",\"我的答案是不\",\"真让人怀疑\",\"这不可能\"]\n",
    "print(answers[ans_num])"
   ]
  },
  {
   "cell_type": "code",
   "execution_count": 260,
   "metadata": {},
   "outputs": [],
   "source": [
    "# 9.1 字典（1）"
   ]
  },
  {
   "cell_type": "code",
   "execution_count": 261,
   "metadata": {},
   "outputs": [
    {
     "name": "stdout",
     "output_type": "stream",
     "text": [
      "{'apple': 3, 'banana': 5, 'grape': 2}\n"
     ]
    }
   ],
   "source": [
    "\"\"\"\n",
    "什么是字典：字典是一组无序键值对的集合。看不懂？没关系，我们看下方例子：\n",
    "\n",
    "假设我们有以下数据：苹果（apple） 3个；香蕉（banana）5把；葡萄（grape）2串。我们可以创建一个为 fruit 的字典将它们存放：\n",
    "\n",
    "fruit = {\"apple\":3, \"banana\":5, \"grape\":2}\n",
    "由示例可知，我们需要注意：\n",
    "\n",
    "1）字典用 {} 包裹；\n",
    "\n",
    "2）其中 \"apple\" : 3 为一对键值对，其中\"apple\" 为键（key），3 为值（value）；\n",
    "\n",
    "3）每对键值对由英文逗号 , 隔开；\n",
    "\n",
    "4）最好在每一个逗号与下一个键值对之间用空格相隔，方便阅读代码。\n",
    "\"\"\"\n",
    "fruit = {\"apple\":3, \"banana\":5, \"grape\":2}\n",
    "print(fruit)"
   ]
  },
  {
   "cell_type": "code",
   "execution_count": 262,
   "metadata": {},
   "outputs": [
    {
     "name": "stdout",
     "output_type": "stream",
     "text": [
      "{'你好': 'hallo', '再见': 'vaarwel', '谢谢': 'bedankt'}\n"
     ]
    }
   ],
   "source": [
    "\"\"\"\n",
    "创建字典：在 Python 字典中，键可以是字符串（\"apple\"），也可以是数值（3）；而值可以是任何数据类型：字符串、数值、列表，甚至还可以是字典。\n",
    "\n",
    "book = {\"书名\":\"《三体》\", \"作者\":\"刘慈欣\", \"页数\": 302, \"系列\":[\"《三体》\",\"《三体II：黑暗森林》\",\"《三体III：死神永生》\"]}\n",
    "示例中，字典 book 的值有字符串（\"《三体》\"、\"刘慈欣\"）、数值（302）、列表（[\"《三体》\",\"《三体II：黑暗森林》\",\"《三体III：死神永生》\"]）三种数据类型。\n",
    "\"\"\"\n",
    "cn_hl = {\n",
    "  \"你好\":\"hallo\", \n",
    "  \"再见\":\"vaarwel\", \n",
    "  \"谢谢\":\"bedankt\"\n",
    "}     \n",
    "print(cn_hl)"
   ]
  },
  {
   "cell_type": "code",
   "execution_count": 263,
   "metadata": {},
   "outputs": [
    {
     "name": "stdout",
     "output_type": "stream",
     "text": [
      "{2018: '法国', 2014: '德国', 2010: '西班牙'}\n"
     ]
    }
   ],
   "source": [
    "\"\"\"\n",
    "为字典添加键：我们可以用以下语句为字典添加新键。\n",
    "\n",
    "# 字典[新键] = 新值\n",
    "fruit = {\"apple\":3, \"banana\":5, \"grape\":2}\n",
    "fruit[\"cherry\"] = 2    # 为字典fruit 添加新键值对 \"cherry\" : 2\n",
    "print(fruit)\n",
    "# 输出：{'apple': 3, 'banana': 5, 'grape': 2, 'cherry': 2}\n",
    "\"\"\"\n",
    "wc_champion = {}\n",
    "wc_champion[2018] = \"法国\"\n",
    "wc_champion[2014] = \"德国\"\n",
    "wc_champion[2010] = \"西班牙\"\n",
    "print(wc_champion)"
   ]
  },
  {
   "cell_type": "code",
   "execution_count": 264,
   "metadata": {},
   "outputs": [],
   "source": [
    "my_dict = {1:1,2:2,3:3}\n",
    "my_dict = {\"1\":1, \"2\":2, \"3\":3}\n",
    "my_dict = {\"1\":\"1\", \"2\":\"2\", \"3\":\"3\"}"
   ]
  },
  {
   "cell_type": "code",
   "execution_count": 265,
   "metadata": {},
   "outputs": [
    {
     "ename": "KeyError",
     "evalue": "1",
     "output_type": "error",
     "traceback": [
      "\u001b[0;31m---------------------------------------------------------------------------\u001b[0m",
      "\u001b[0;31mKeyError\u001b[0m                                  Traceback (most recent call last)",
      "\u001b[0;32m<ipython-input-265-8c86dae8fe68>\u001b[0m in \u001b[0;36m<module>\u001b[0;34m\u001b[0m\n\u001b[1;32m      1\u001b[0m \u001b[0mmy_dict\u001b[0m \u001b[0;34m=\u001b[0m \u001b[0;34m{\u001b[0m\u001b[0;34m}\u001b[0m\u001b[0;34m\u001b[0m\u001b[0;34m\u001b[0m\u001b[0m\n\u001b[1;32m      2\u001b[0m \u001b[0mmy_dict\u001b[0m\u001b[0;34m[\u001b[0m\u001b[0;34m\"1\"\u001b[0m\u001b[0;34m]\u001b[0m \u001b[0;34m=\u001b[0m \u001b[0;36m1\u001b[0m\u001b[0;34m\u001b[0m\u001b[0;34m\u001b[0m\u001b[0m\n\u001b[0;32m----> 3\u001b[0;31m \u001b[0mprint\u001b[0m\u001b[0;34m(\u001b[0m\u001b[0mmy_dict\u001b[0m\u001b[0;34m[\u001b[0m\u001b[0;36m1\u001b[0m\u001b[0;34m]\u001b[0m\u001b[0;34m)\u001b[0m\u001b[0;34m\u001b[0m\u001b[0;34m\u001b[0m\u001b[0m\n\u001b[0m\u001b[1;32m      4\u001b[0m \u001b[0;31m# KeyError: 1\u001b[0m\u001b[0;34m\u001b[0m\u001b[0;34m\u001b[0m\u001b[0;34m\u001b[0m\u001b[0m\n",
      "\u001b[0;31mKeyError\u001b[0m: 1"
     ]
    }
   ],
   "source": [
    "my_dict = {}\n",
    "my_dict[\"1\"] = 1\n",
    "print(my_dict[1])\n",
    "# KeyError: 1"
   ]
  },
  {
   "cell_type": "code",
   "execution_count": 266,
   "metadata": {},
   "outputs": [
    {
     "data": {
      "text/plain": [
       "'\\nPython 字典中键与值可能分别对应的数据类型:\\n    字符串；字符串\\n    数值；数值\\n    数值；列表\\n字典的键不可以为列表\\n'"
      ]
     },
     "execution_count": 266,
     "metadata": {},
     "output_type": "execute_result"
    }
   ],
   "source": [
    "\"\"\"\n",
    "Python 字典中键与值可能分别对应的数据类型:\n",
    "    字符串；字符串\n",
    "    数值；数值\n",
    "    数值；列表\n",
    "字典的键不可以为列表\n",
    "\"\"\""
   ]
  },
  {
   "cell_type": "code",
   "execution_count": 267,
   "metadata": {},
   "outputs": [
    {
     "name": "stdout",
     "output_type": "stream",
     "text": [
      "{'上': 2, '海': 2, '自': 2, '来': 2, '水': 1}\n"
     ]
    }
   ],
   "source": [
    "\"\"\"\n",
    "请参照下方要求，补全注释行…处代码：\n",
    "\n",
    "我们来计算一段文本中，各个字符的出现次数。\n",
    "\n",
    "比如在 \"我是我自己\" 这段文本中，\"我\" 出现2次，\"是\"、\"自\"、\"己\" 各出现1次。\n",
    "\n",
    "1.创建空字典 char_count；\n",
    "\n",
    "2.用for循环遍历 text，令其中元素为 char_count 的键，值为 0；\n",
    "\n",
    "3.再次for循环遍历 text，每到一个元素，令 char_count[元素] += 1；\n",
    "\n",
    "4.输出：char_count。\n",
    "\"\"\"\n",
    "text = \"上海自来水来自海上\"\n",
    "char_count = {}\n",
    "for char in text:\n",
    "    char_count[char] = 0 #每一个字符的值都是0，字典是{'上': 0, '海': 0, '自': 0, '来': 0, '水': 0}\n",
    "#for char in text:\n",
    "    #char_count[char] = 1 #每一个字符的值都是1，出来的是赋的值，字典是{'上': 1, '海': 1, '自': 1, '来': 1, '水': 1}\n",
    "for char in text:\n",
    "    char_count[char] += 1 #每一个字符的值出现一遍就在原值基础上加1，算的是累积的值\n",
    "print(char_count)"
   ]
  },
  {
   "cell_type": "code",
   "execution_count": 268,
   "metadata": {},
   "outputs": [],
   "source": [
    "# 9.2 字典（2）"
   ]
  },
  {
   "cell_type": "code",
   "execution_count": 269,
   "metadata": {},
   "outputs": [
    {
     "name": "stdout",
     "output_type": "stream",
     "text": [
      "{'大象': 3, '金丝猴': 4, '羊驼': 2, '海獭': 2, '大熊猫': 3, '长颈鹿': 3, '狼': 8}\n"
     ]
    }
   ],
   "source": [
    "\"\"\"\n",
    ".update()：我们可以用 .update() 一次性向字典加入多对键值对。示例如下：\n",
    "\n",
    "fruit = {'apple': 3, 'banana': 5, 'grape': 2, 'cherry': 2}\n",
    "fruit.update({'pear':3, 'watermelon':1, 'peach':3})\n",
    "print(fruit)\n",
    "\n",
    "# 输出：\n",
    "{'apple': 3,\n",
    " 'banana': 5,\n",
    " 'cherry': 2,\n",
    " 'grape': 2,\n",
    " 'peach': 3,\n",
    " 'pear': 3,\n",
    " 'watermelon': 1}\n",
    "\"\"\"\n",
    "zoo = {\"大象\":3, \"金丝猴\":4, \"羊驼\":2, \"海獭\":2}\n",
    "zoo.update({\"大熊猫\":3, \"长颈鹿\":3, \"狼\":8})\n",
    "print(zoo)"
   ]
  },
  {
   "cell_type": "code",
   "execution_count": 270,
   "metadata": {},
   "outputs": [
    {
     "name": "stdout",
     "output_type": "stream",
     "text": [
      "{'大象': 3, '金丝猴': 4, '羊驼': 2, '海獭': 2, '大熊猫': 4, '长颈鹿': 3, '狼': 8, '小熊猫': 2}\n"
     ]
    }
   ],
   "source": [
    "\"\"\"\n",
    "更新字典值：如果有一个键对应的值需要变动，我们可以用添加键时的方法，重新为该键赋新值。\n",
    "\n",
    "fruit = {\"apple\":3, \"banana\":5, \"grape\":2}   # \"grape\" 的值为 2\n",
    "fruit[\"grape\"] = 4  # \"grape\"的值更新为 4\n",
    "print(fruit)\n",
    "# 输出：{'apple': 3, 'banana': 5, 'grape': 4}\n",
    "\"\"\"\n",
    "zoo = {'大象': 3, '金丝猴': 4, '羊驼': 2, '海獭': 2, '大熊猫': 3, '长颈鹿': 3, '狼': 8}\n",
    "zoo[\"小熊猫\"] = 2\n",
    "zoo[\"大熊猫\"] = 4\n",
    "print(zoo)"
   ]
  },
  {
   "cell_type": "code",
   "execution_count": 273,
   "metadata": {},
   "outputs": [
    {
     "name": "stdout",
     "output_type": "stream",
     "text": [
      "{'英国': '伦敦', '法国': '巴黎', '俄罗斯': '莫斯科', '泰国': '曼谷', '澳大利亚': '坎培拉'}\n"
     ]
    }
   ],
   "source": [
    "#zip() 创建字典：假设有两个列表 — — 国家和首都，我们可以用zip() 将两个列表合并为一个字典。\n",
    "\n",
    "nation = [\"英国\", \"法国\", \"俄罗斯\", \"泰国\", \"澳大利亚\"]\n",
    "capital = [\"伦敦\", \"巴黎\", \"莫斯科\", \"曼谷\", \"坎培拉\"]\n",
    "zip_nc = zip(nation, capital)\n",
    "nt_cap = {key:value for key,value in zip_nc}\n",
    "print(nt_cap)\n",
    "# 输出：{'英国': '伦敦', '法国': '巴黎', '俄罗斯': '莫斯科', '泰国': '曼谷', '澳大利亚': '坎培拉'}"
   ]
  },
  {
   "cell_type": "code",
   "execution_count": 274,
   "metadata": {},
   "outputs": [
    {
     "name": "stdout",
     "output_type": "stream",
     "text": [
      "{'字符串': 'string', '整数值': 'integer', '浮点值': 'float', '列表': 'list', '字典': 'dictionary'}\n"
     ]
    }
   ],
   "source": [
    "cn = [\"字符串\", \"整数值\", \"浮点值\", \"列表\", \"字典\"]\n",
    "eng = [\"string\", \"integer\", \"float\", \"list\", \"dictionary\"]\n",
    "zip_cn_eng = zip(cn, eng)\n",
    "dict_cn_eng = {key:value for key,value in zip_cn_eng}\n",
    "print(dict_cn_eng)"
   ]
  },
  {
   "cell_type": "code",
   "execution_count": 275,
   "metadata": {},
   "outputs": [],
   "source": [
    "# 填入 .update() 的参数需要是字典。\n",
    "my_dict = {}\n",
    "my_dict.update({\"大象\":1})\n",
    "my_dict = {}\n",
    "my_dict[\"大象\"] = 2\n",
    "my_dict = {}\n",
    "my_dict[\"长颈鹿\"] = \"大象\"\n",
    "# 错误案例\n",
    "# my_dict = {}\n",
    "# my_dict.update([\"长颈鹿\":3])"
   ]
  },
  {
   "cell_type": "code",
   "execution_count": 276,
   "metadata": {},
   "outputs": [
    {
     "name": "stdout",
     "output_type": "stream",
     "text": [
      "1\n",
      "2\n",
      "3\n",
      "4\n"
     ]
    }
   ],
   "source": [
    "my_dict = {\"a\":1, \"b\":2, \"c\":3, \"d\":4}\n",
    "for letter in my_dict:\n",
    "    print(my_dict[letter])\n",
    "# 遍历字典 my_dict 中的键，逐个输出对应的值。"
   ]
  },
  {
   "cell_type": "code",
   "execution_count": 277,
   "metadata": {},
   "outputs": [
    {
     "name": "stdout",
     "output_type": "stream",
     "text": [
      "14\n",
      "80\n"
     ]
    }
   ],
   "source": [
    "\"\"\"\n",
    "我们来玩一个英文拼词游戏吧！26个英文字母中，有的字母经常出现，比如e, a...；有的字母很少出现，比如z,q ...。\n",
    "\n",
    "我们按照字母的出现频率为它们附上分值，频率越高的字母分值越低：\n",
    "\n",
    "letters = [\"a\", \"b\", \"c\", \"d\", \"e\", \"f\", \"g\", \"h\", \"i\", \"j\", \"k\", \"l\", \"m\", \"n\", \"o\", \"p\", \"q\", \"r\", \"s\", \"t\", \"u\", \"v\", \"w\", \"x\", \"y\", \"z\"]\n",
    "\n",
    "points = [1, 3, 3, 2, 1, 4, 2, 4, 1, 8, 5, 1, 3, 4, 1, 3, 10, 1, 1, 1, 1, 4, 4, 8, 4, 10]\n",
    "接着，我们令一个单词的总分等于构成它所有字母的分值之和。比如，red = r + e + d => 1 + 1 + 2 = 4。\n",
    "\n",
    "请按照下方要求，补全注释行…处代码：\n",
    "\n",
    "我们来创建一个函数，计算所给单词的分值吧！\n",
    "\n",
    "1.将 letters 和 points 两个列表合并成字典 letter_to_point，字典的键为 letters，值为letters中各字母对应的分值；\n",
    "\n",
    "2.创建函数 word_score，参数 word；\n",
    "\n",
    "3.函数内变量 score = 0；\n",
    "\n",
    "4.遍历 word ，将每个元素变为小写字母，并对应 letter_to_point 中的键，将值添加给 score；\n",
    "\n",
    "5.函数返回 score；\n",
    "\n",
    "6.输出：word_score(\"Agriculture\")；\n",
    "\n",
    "7.输出：word_score(\"pneumonoultramicroscopicsilicovolcanoconiosis\")。\n",
    "\"\"\"\n",
    "letters = [\"a\", \"b\", \"c\", \"d\", \"e\", \"f\", \"g\", \"h\", \"i\", \"j\", \"k\", \"l\", \"m\", \"n\", \"o\", \"p\", \"q\", \"r\", \"s\", \"t\", \"u\", \"v\", \"w\", \"x\", \"y\", \"z\"]\n",
    "points = [1, 3, 3, 2, 1, 4, 2, 4, 1, 8, 5, 1, 3, 4, 1, 3, 10, 1, 1, 1, 1, 4, 4, 8, 4, 10]\n",
    "\n",
    "letter_to_point = {key:value for key,value in zip(letters,points)}\n",
    "def word_score(word):\n",
    "    score = 0\n",
    "    for char in word:\n",
    "        score += letter_to_point[char.lower()]\n",
    "    return score\n",
    "print(word_score(\"Agriculture\"))\n",
    "# 下方是英文中最长的单词\n",
    "print(word_score(\"pneumonoultramicroscopicsilicovolcanoconiosis\"))"
   ]
  },
  {
   "cell_type": "code",
   "execution_count": 278,
   "metadata": {},
   "outputs": [],
   "source": [
    "# 9.3 字典（3）"
   ]
  },
  {
   "cell_type": "code",
   "execution_count": 279,
   "metadata": {},
   "outputs": [
    {
     "name": "stdout",
     "output_type": "stream",
     "text": [
      "['巨蟹', '天蝎', '双鱼']\n",
      "['金牛', '处女', '摩羯']\n"
     ]
    }
   ],
   "source": [
    "\"\"\"\n",
    "字典取值：可以通过字典的键来获取其对应的值：\n",
    "\n",
    "population = {\"广东\":111690000, \"山东\":100058300, \"河南\":95591300, \"四川\":95591300, \"江苏\":80293000}\n",
    "print(population[\"四川\"])\n",
    "# 输出：95591300\n",
    "示例中，取键为\"四川\" 所对应的值，结果为 95591300。\n",
    "\"\"\"\n",
    "zodiac = {\n",
    "  \"水象星座\":[\"巨蟹\", \"天蝎\", \"双鱼\"], \n",
    "  \"风象星座\":[\"双子\", \"天秤\", \"水瓶\"], \n",
    "  \"火象星座\": [\"白羊\", \"狮子\", \"射手\"], \n",
    "  \"土象星座\":[\"金牛\", \"处女\", \"摩羯\"]}\n",
    "print(zodiac[\"水象星座\"])\n",
    "print(zodiac[\"土象星座\"])"
   ]
  },
  {
   "cell_type": "code",
   "execution_count": 280,
   "metadata": {},
   "outputs": [
    {
     "name": "stdout",
     "output_type": "stream",
     "text": [
      "大象 3\n",
      "金丝猴 4\n",
      "羊驼 2\n",
      "狐狸 无此动物\n",
      "海獭 2\n",
      "海豚 无此动物\n",
      "大熊猫 3\n",
      "长颈鹿 3\n",
      "狼 8\n",
      "蟒蛇 无此动物\n"
     ]
    }
   ],
   "source": [
    "\"\"\"\n",
    "字典无效键：当取字典键值时，如果键并不存在于字典中，该键无效，计算机会返回错误。\n",
    "\n",
    "my_dict = {\"a\":1, \"b\":2, \"c\":3, \"d\":4}\n",
    "print(my_dict[\"e\"])\n",
    "# KeyError: 'e'\n",
    "我们可以在取键值之前，先做判断，看看键是否在字典中：\n",
    "\n",
    "my_dict = {\"a\":1, \"b\":2, \"c\":3, \"d\":4}\n",
    "if \"e\" in my_dict:\n",
    "    print(my_dict[\"e\"])  #无输出\n",
    "if \"a\" in my_dict:\n",
    "    print(my_dict[\"a\"])  #输出：1\n",
    "\"\"\"\n",
    "zoo = {\n",
    "  '大象': 3, \n",
    "  '金丝猴': 4, \n",
    "  '羊驼': 2, \n",
    "  '海獭': 2, \n",
    "  '大熊猫': 3, \n",
    "  '长颈鹿': 3, \n",
    "  '狼': 8}\n",
    "animals = ['大象', '金丝猴', '羊驼', '狐狸', '海獭', '海豚','大熊猫', '长颈鹿', '狼', '蟒蛇']\n",
    "for animal in animals:\n",
    "    if animal in zoo:\n",
    "        print(animal, zoo[animal])\n",
    "    else:\n",
    "        zoo[animal] = \"无此动物\"\n",
    "        print(animal, zoo[animal])"
   ]
  },
  {
   "cell_type": "code",
   "execution_count": 281,
   "metadata": {},
   "outputs": [
    {
     "name": "stdout",
     "output_type": "stream",
     "text": [
      "大象 3\n",
      "金丝猴 4\n",
      "羊驼 2\n",
      "狐狸 无此动物\n",
      "海獭 2\n",
      "海豚 无此动物\n",
      "大熊猫 3\n",
      "长颈鹿 3\n",
      "狼 8\n",
      "蟒蛇 无此动物\n"
     ]
    }
   ],
   "source": [
    "\"\"\"\n",
    "try/except 取值：如果字典中没有相应的键，还可以用try/except的方法来捕获 KeyError 的出现。\n",
    "\n",
    "my_dict = {\"a\":1, \"b\":2, \"c\":3, \"d\":4}\n",
    "try:\n",
    "    print(my_dict[\"e\"])\n",
    "except KeyError:\n",
    "    print(\"没有这个键\")\n",
    "# 输出：没有这个键\n",
    "在示例中，我们先通过 try 试探其中的语句是否会出现错误。在此处，字典 my_dict 不存在键 \"e\"，因此在输出 my_dict[\"e\"] 时，会引发 KeyError。幸好我们有 try/except 来帮我们捕捉这样的错误，当错误发生时，程序会执行 except 中的语句，也就是此例中的 print(\"没有这个键\")。\n",
    "\"\"\"\n",
    "zoo = {\n",
    "  '大象': 3, \n",
    "  '金丝猴': 4, \n",
    "  '羊驼': 2, \n",
    "  '海獭': 2, \n",
    "  '大熊猫': 3, \n",
    "  '长颈鹿': 3, \n",
    "  '狼': 8}\n",
    "animals = ['大象', '金丝猴', '羊驼', '狐狸', '海獭', '海豚','大熊猫', '长颈鹿', '狼', '蟒蛇']\n",
    "for animal in animals:\n",
    "    try:    \n",
    "        print(animal, zoo[animal])\n",
    "    except KeyError:\n",
    "        zoo[animal] = \"无此动物\"\n",
    "        print(animal, zoo[animal])"
   ]
  },
  {
   "cell_type": "code",
   "execution_count": 282,
   "metadata": {},
   "outputs": [
    {
     "ename": "KeyError",
     "evalue": "'海豚'",
     "output_type": "error",
     "traceback": [
      "\u001b[0;31m---------------------------------------------------------------------------\u001b[0m",
      "\u001b[0;31mKeyError\u001b[0m                                  Traceback (most recent call last)",
      "\u001b[0;32m<ipython-input-282-5429b3b13dd8>\u001b[0m in \u001b[0;36m<module>\u001b[0;34m\u001b[0m\n\u001b[1;32m      1\u001b[0m \u001b[0mzoo\u001b[0m \u001b[0;34m=\u001b[0m \u001b[0;34m{\u001b[0m\u001b[0;34m'大象'\u001b[0m\u001b[0;34m:\u001b[0m \u001b[0;36m3\u001b[0m\u001b[0;34m,\u001b[0m \u001b[0;34m'金丝猴'\u001b[0m\u001b[0;34m:\u001b[0m \u001b[0;36m4\u001b[0m\u001b[0;34m,\u001b[0m \u001b[0;34m'羊驼'\u001b[0m\u001b[0;34m:\u001b[0m \u001b[0;36m2\u001b[0m\u001b[0;34m,\u001b[0m \u001b[0;34m'海獭'\u001b[0m\u001b[0;34m:\u001b[0m \u001b[0;36m2\u001b[0m\u001b[0;34m,\u001b[0m \u001b[0;34m'大熊猫'\u001b[0m\u001b[0;34m:\u001b[0m \u001b[0;36m3\u001b[0m\u001b[0;34m,\u001b[0m \u001b[0;34m'长颈鹿'\u001b[0m\u001b[0;34m:\u001b[0m \u001b[0;36m3\u001b[0m\u001b[0;34m,\u001b[0m \u001b[0;34m'狼'\u001b[0m\u001b[0;34m:\u001b[0m \u001b[0;36m8\u001b[0m\u001b[0;34m}\u001b[0m\u001b[0;34m\u001b[0m\u001b[0;34m\u001b[0m\u001b[0m\n\u001b[0;32m----> 2\u001b[0;31m \u001b[0mprint\u001b[0m\u001b[0;34m(\u001b[0m\u001b[0mzoo\u001b[0m\u001b[0;34m[\u001b[0m\u001b[0;34m'海豚'\u001b[0m\u001b[0;34m]\u001b[0m\u001b[0;34m)\u001b[0m\u001b[0;34m\u001b[0m\u001b[0;34m\u001b[0m\u001b[0m\n\u001b[0m\u001b[1;32m      3\u001b[0m \u001b[0;31m# 结果:KeyError\u001b[0m\u001b[0;34m\u001b[0m\u001b[0;34m\u001b[0m\u001b[0;34m\u001b[0m\u001b[0m\n",
      "\u001b[0;31mKeyError\u001b[0m: '海豚'"
     ]
    }
   ],
   "source": [
    "zoo = {'大象': 3, '金丝猴': 4, '羊驼': 2, '海獭': 2, '大熊猫': 3, '长颈鹿': 3, '狼': 8}\n",
    "print(zoo['海豚'])\n",
    "# 结果:KeyError"
   ]
  },
  {
   "cell_type": "code",
   "execution_count": 283,
   "metadata": {},
   "outputs": [
    {
     "name": "stdout",
     "output_type": "stream",
     "text": [
      "没有此动物\n"
     ]
    }
   ],
   "source": [
    "zoo = {'大象': 3, '金丝猴': 4, '羊驼': 2, '海獭': 2, '大熊猫': 3, '长颈鹿': 3, '狼': 8}\n",
    "try:\n",
    "    print(zoo['海豚'])\n",
    "except KeyError:\n",
    "    print('没有此动物')\n",
    "# try/except 可以捕获 KeyError 的出现。"
   ]
  },
  {
   "cell_type": "code",
   "execution_count": 284,
   "metadata": {},
   "outputs": [
    {
     "name": "stdout",
     "output_type": "stream",
     "text": [
      "皮诺曹，你有金币吗？\n",
      "皮诺曹的金币数量为：5\n",
      "皮诺曹，你有葡萄吗？\n",
      "皮诺曹的葡萄数量为：10\n",
      "皮诺曹，你有爷爷的手杖吗？\n",
      "皮诺曹你骗人，你没有爷爷的手杖，你的鼻子又长了！\n",
      "皮诺曹，你有帽子吗？\n",
      "皮诺曹的帽子数量为：1\n",
      "皮诺曹，你有松果吗？\n",
      "皮诺曹你骗人，你没有松果，你的鼻子又长了！\n",
      "皮诺曹，你有花裤子吗？\n",
      "皮诺曹的花裤子数量为：1\n",
      "皮诺曹，你有啄木鸟吗？\n",
      "皮诺曹你骗人，你没有啄木鸟，你的鼻子又长了！\n"
     ]
    }
   ],
   "source": [
    "\"\"\"\n",
    "皮诺曹是个爱骗人的孩子。但是只要他一骗人，他的鼻子就会变长。\n",
    "\n",
    "我们看见皮诺曹有个布袋子 pino_bag，里面装着他心爱的宝贝。\n",
    "\n",
    "我们来问问他袋子有什么东西，如果袋子里真的有某件物品，我们需要皮诺曹告诉我们他有几个；如果袋子里明明没有，他却骗我们，我们可要揭穿他的谎言！\n",
    "\n",
    "请按照注释行的要求，补全…处代码。\n",
    "\"\"\"\n",
    "items = [\"金币\",\"葡萄\",\"爷爷的手杖\",\"帽子\",\"松果\",\"花裤子\",\"啄木鸟\"]\n",
    "pino_bag = {\n",
    "  \"金币\":5, \n",
    "  \"葡萄\":10, \n",
    "  \"帽子\":1, \n",
    "  \"花裤子\":1}\n",
    "  \n",
    "for item in items:\n",
    "    print(\"皮诺曹，你有{}吗？\".format(item))\n",
    "    try:\n",
    "        # 下方number等于pino_bag中item对应的值\n",
    "        print(\"皮诺曹的{}数量为：{number}\".format(item,number = pino_bag[item]))\n",
    "    #如果item不在pino_bag中，会触发KeyError\n",
    "    except KeyError:\n",
    "        print(\"皮诺曹你骗人，你没有{}，你的鼻子又长了！\".format(item))"
   ]
  },
  {
   "cell_type": "code",
   "execution_count": 285,
   "metadata": {},
   "outputs": [],
   "source": [
    "# 9.4 字典（4）"
   ]
  },
  {
   "cell_type": "code",
   "execution_count": 286,
   "metadata": {},
   "outputs": [
    {
     "name": "stdout",
     "output_type": "stream",
     "text": [
      "3\n",
      "None\n"
     ]
    }
   ],
   "source": [
    "\"\"\"\n",
    ".get()：Python的字典有 .get() 方法，它根据键来取字典中相应的值。如果键不存在于字典中，.get() 默认返回 None。\n",
    "\"\"\"\n",
    "zoo = {'大象': 3, '金丝猴': 4, '羊驼': 2, '海獭': 2, '大熊猫': 3, '长颈鹿': 3, '狼': 8}\n",
    "print(zoo.get('大象'))  # 输出： 3\n",
    "print(zoo.get('海豚'))  # 输出： None"
   ]
  },
  {
   "cell_type": "code",
   "execution_count": 287,
   "metadata": {},
   "outputs": [
    {
     "name": "stdout",
     "output_type": "stream",
     "text": [
      "没有海豚\n"
     ]
    }
   ],
   "source": [
    "\"\"\"\n",
    "当键不存在于字典中时，我们也可以手动设置返回值：\n",
    "\"\"\"\n",
    "zoo = {'大象': 3, '金丝猴': 4, '羊驼': 2, '海獭': 2, '大熊猫': 3, '长颈鹿': 3, '狼': 8}\n",
    "print(zoo.get('海豚',\"没有海豚\"))  # 输出：没有海豚"
   ]
  },
  {
   "cell_type": "code",
   "execution_count": 288,
   "metadata": {},
   "outputs": [
    {
     "name": "stdout",
     "output_type": "stream",
     "text": [
      "芬兰： 12\n",
      "冰岛： 9.0\n",
      "荷兰： 8.4\n",
      "美国： 没有该国记录\n",
      "巴西： 没有该国记录\n",
      "瑞典： 8.2\n",
      "波黑： 6.2\n",
      "比利时： 6.8\n"
     ]
    }
   ],
   "source": [
    "\"\"\"\n",
    "请按照要求补全 注释 行 … 处的代码：\n",
    "\n",
    "字典 coffee_person 存储了世界部分国家的人均咖啡年消耗量（公斤/人/年）；列表 country 存储了部分国家名。\n",
    "\n",
    "1.遍历 country，以其元素为键，用 .get() 方法返回 coffee_person 中对应的值，并且\n",
    "\n",
    "2.输出字符串： [国家] ： [年消耗量] ，比如： \"冰岛： 9.0\"；\n",
    "\n",
    "3.如果 country 中的元素不在 coffee_person 中，返回 \"没有该国记录\" ，并且做第4步；\n",
    "\n",
    "4.输出字符串： \"[国家] ： 没有该国记录\"，比如：\"美国： 没有该国记录\" 。\n",
    "\"\"\"\n",
    "coffee_person = {\n",
    "  \"芬兰\":12, \n",
    "  \"挪威\":9.9, \n",
    "  \"冰岛\":9.0, \n",
    "  \"丹麦\":8.7, \n",
    "  \"荷兰\":8.4, \n",
    "  \"瑞典\":8.2, \n",
    "  \"瑞士\":7.9, \n",
    "  \"比利时\":6.8, \n",
    "  \"波黑\":6.2, \n",
    "  \"奥地利\":6.1\n",
    "}\n",
    "country = [\"芬兰\", \"冰岛\", \"荷兰\", \"美国\", \"巴西\", \"瑞典\", \"波黑\", \"比利时\"]\n",
    "for c in country:\n",
    "    data = coffee_person.get(c,\"没有该国记录\")\n",
    "    print(c+\"：\",data)"
   ]
  },
  {
   "cell_type": "code",
   "execution_count": 289,
   "metadata": {},
   "outputs": [
    {
     "name": "stdout",
     "output_type": "stream",
     "text": [
      "3\n",
      "{'金丝猴': 4, '羊驼': 2, '海獭': 2, '大熊猫': 3, '长颈鹿': 3, '狼': 8}\n",
      "没有此动物\n",
      "{'大象': 3, '金丝猴': 4, '羊驼': 2, '海獭': 2, '大熊猫': 3, '长颈鹿': 3, '狼': 8}\n"
     ]
    }
   ],
   "source": [
    "\"\"\"\n",
    "删除字典键：可以用 .pop() 方法来删除字典中的键及其值。\n",
    "\"\"\"\n",
    "zoo = {'大象': 3, '金丝猴': 4, '羊驼': 2, '海獭': 2, '大熊猫': 3, '长颈鹿': 3, '狼': 8}\n",
    "print(zoo.pop(\"大象\"))  \n",
    "# 输出：3\n",
    "print(zoo) \n",
    "# 输出：{'金丝猴': 4, '羊驼': 2, '海獭': 2, '大熊猫': 3, '长颈鹿': 3, '狼': 8}\n",
    "\"\"\"\n",
    "示例中，zoo 中的键\"大象\" 及其值 3 被删除。如果需要删除的键不在字典之中，可以在 .pop() 方法中加上对应的参数，当键不存在时，.pop() 返回该参数，具体见：\n",
    "\"\"\"\n",
    "zoo = {'大象': 3, '金丝猴': 4, '羊驼': 2, '海獭': 2, '大熊猫': 3, '长颈鹿': 3, '狼': 8}\n",
    "print(zoo.pop(\"海豚\",\"没有此动物\"))  \n",
    "# 输出：没有此动物\n",
    "print(zoo) \n",
    "# 输出：{'大象': 3, '金丝猴': 4, '羊驼': 2, '海獭': 2, '大熊猫': 3, '长颈鹿': 3, '狼': 8}"
   ]
  },
  {
   "cell_type": "code",
   "execution_count": 290,
   "metadata": {},
   "outputs": [
    {
     "name": "stdout",
     "output_type": "stream",
     "text": [
      "{'a': 'apple', 'b': 'Boy', 'c': 'cat', 'e': 'egg', 'f': 'foot', 'g': 'Girl', 'h': 'hat'}\n"
     ]
    }
   ],
   "source": [
    "\"\"\"\n",
    "在字典 cap_word 中，存有键（字母）及对应的值（单词）。\n",
    "\n",
    "1.如果键 \"c\" 值的首字母是大写字母 \"C\"，则删除键 \"c\" ；\n",
    "\n",
    "2.如果键 \"d\" 值的首字母是大写字母 \"D\"，则删除键 \"d\" ；\n",
    "\n",
    "3.输出 cap_word 。\n",
    "\"\"\"\n",
    "cap_word = {\n",
    "  \"a\":\"apple\", \n",
    "  \"b\":\"Boy\", \n",
    "  \"c\":\"cat\", \n",
    "  \"d\":\"Dog\", \n",
    "  \"e\":\"egg\", \n",
    "  \"f\":\"foot\", \n",
    "  \"g\":\"Girl\", \n",
    "  \"h\":\"hat\"\n",
    "}\n",
    "if cap_word[\"c\"][0] == \"c\".upper():\n",
    "    cap_word.pop(\"c\")\n",
    "if cap_word[\"d\"][0] == \"d\".upper():\n",
    "    cap_word.pop(\"d\")\n",
    "print(cap_word)"
   ]
  },
  {
   "cell_type": "code",
   "execution_count": 293,
   "metadata": {},
   "outputs": [
    {
     "name": "stdout",
     "output_type": "stream",
     "text": [
      "['大象', '金丝猴', '羊驼', '海獭', '大熊猫', '长颈鹿', '狼']\n",
      "大象\n",
      "金丝猴\n",
      "羊驼\n",
      "海獭\n",
      "大熊猫\n",
      "长颈鹿\n",
      "狼\n"
     ]
    }
   ],
   "source": [
    "\"\"\"\n",
    "获取字典所有的键：我们可以用两种方法获得字典中所有的键。第一种方法：list(目标字典)：\n",
    "\"\"\"\n",
    "zoo = {'大象': 3, '金丝猴': 4, '羊驼': 2, '海獭': 2, '大熊猫': 3, '长颈鹿': 3, '狼': 8}\n",
    "print(list(zoo)) # ['大象', '金丝猴', '羊驼', '海獭', '大熊猫', '长颈鹿', '狼']\n",
    "\"\"\"\n",
    "第二种方法，我们还可以用 .keys() 方法来获得字典中的键：\n",
    "\"\"\"\n",
    "zoo = {'大象': 3, '金丝猴': 4, '羊驼': 2, '海獭': 2, '大熊猫': 3, '长颈鹿': 3, '狼': 8}\n",
    "for animal in zoo.keys():\n",
    "    print(animal)\n",
    "# 输出：\n",
    "# 大象\n",
    "# 金丝猴\n",
    "# 羊驼\n",
    "# 海獭\n",
    "# 大熊猫\n",
    "# 长颈鹿\n",
    "# 狼"
   ]
  },
  {
   "cell_type": "code",
   "execution_count": 292,
   "metadata": {},
   "outputs": [
    {
     "name": "stdout",
     "output_type": "stream",
     "text": [
      "水象星座\n",
      "风象星座\n",
      "火象星座\n",
      "土象星座\n"
     ]
    }
   ],
   "source": [
    "# 请输出 zodiac 中所有的键。\n",
    "zodiac = {\n",
    "  \"水象星座\":[\"巨蟹\", \"天蝎\", \"双鱼\"], \n",
    "  \"风象星座\":[\"双子\", \"天秤\", \"水瓶\"], \n",
    "  \"火象星座\": [\"白羊\", \"狮子\", \"射手\"], \n",
    "  \"土象星座\":[\"金牛\", \"处女\", \"摩羯\"]\n",
    "}\n",
    "for z in zodiac.keys():\n",
    "    print(z)"
   ]
  },
  {
   "cell_type": "code",
   "execution_count": 294,
   "metadata": {},
   "outputs": [
    {
     "name": "stdout",
     "output_type": "stream",
     "text": [
      "{223842: '老张家', 872921: '舅舅家', 320291: '大姨家', 412123: '公司', 298787: '外卖小哥'}\n"
     ]
    },
    {
     "data": {
      "text/plain": [
       "\"\\n{\\n  223842: '老张家',\\n  872921: '舅舅家',\\n  320291: '大姨家',\\n  412123: '公司',\\n  298787: '外卖小哥'\\n}\\n\""
      ]
     },
     "execution_count": 294,
     "metadata": {},
     "output_type": "execute_result"
    }
   ],
   "source": [
    "#下列代码的运行结果是：\n",
    "\n",
    "tele_number = {\n",
    "  223842: \"老张家\", \n",
    "  872921: \"舅舅家\", \n",
    "  320291: \"大姨家\", \n",
    "  412123: \"公司\",\n",
    "  298787: \"外卖小哥\"\n",
    "}\n",
    "\n",
    "tele_number.pop(561721, \"陌生号码\")\n",
    "print(tele_number)\n",
    "\n",
    "\"\"\"\n",
    "{\n",
    "  223842: '老张家',\n",
    "  872921: '舅舅家',\n",
    "  320291: '大姨家',\n",
    "  412123: '公司',\n",
    "  298787: '外卖小哥'\n",
    "}\n",
    "\"\"\"\n",
    "#561721 并不存在 tele_number 的键中，因此删除此键，对 tele_number 没有影响。"
   ]
  },
  {
   "cell_type": "code",
   "execution_count": 295,
   "metadata": {},
   "outputs": [
    {
     "name": "stdout",
     "output_type": "stream",
     "text": [
      "f\n"
     ]
    }
   ],
   "source": [
    "# 下列代码运行结果是：\n",
    "\n",
    "cap_word = {\"a\":\"apple\", \"b\":\"Boy\", \"c\":\"cat\", \"d\":\"Dog\", \"e\":\"egg\", \"f\":\"foot\", \"g\":\"Girl\", \"h\":\"hat\"}\n",
    "print(cap_word.get(\"foot\",\"f\"))\n",
    "\n",
    "#cap_word 中并没有键 foot，因此返回 .get() 中的参数 \"f\"。"
   ]
  },
  {
   "cell_type": "code",
   "execution_count": 296,
   "metadata": {},
   "outputs": [
    {
     "name": "stdout",
     "output_type": "stream",
     "text": [
      "767\n"
     ]
    }
   ],
   "source": [
    "\"\"\"\n",
    "请按照下方要求，补全注释行…处代码：\n",
    "\n",
    "menu 中是某家外卖提供的菜单，其中写明了每道菜或主食对应的卡路里数。\n",
    "\n",
    "order 中是今晚你打算点的菜或主食。\n",
    "\n",
    "如果你想点的菜在menu中存在，那么请为 sum_cal 加上相应的卡路里数；\n",
    "\n",
    "如果menu中没有你想点的菜或主食，用 .get() 方法返回 0，代表今晚你没有摄入相应数值的卡路里。\n",
    "\n",
    "请输出你今天晚餐的卡路里sum_cal是多少。\n",
    "\"\"\"\n",
    "\n",
    "menu = {\n",
    "  \"鸡蛋1只\": 72, \n",
    "  \"苹果1个\": 95, \n",
    "  \"麦片1杯\": 195, \n",
    "  \"烤鸭肉半只\": 445, \n",
    "  \"白饭1碗\": 220, \n",
    "  \"炒青菜\": 165, \n",
    "  \"蛋花汤1碗\": 70, \n",
    "  \"奶茶1杯\": 250, \n",
    "  \"虾100克\": 200, \n",
    "  \"荷兰豆100克\": 32, \n",
    "  \"青椒100克\": 14, \n",
    "  \"面1碗\": 280\n",
    "}\n",
    "order = [\"烤鸭肉半只\",\"蛋花汤1碗\",\"荷兰豆100克\",\"西红柿100克\",\"白饭1碗\"]\n",
    "sum_cal = 0\n",
    "for food in order:\n",
    "    sum_cal += menu.get(food,0)\n",
    "print(sum_cal)"
   ]
  },
  {
   "cell_type": "code",
   "execution_count": 297,
   "metadata": {},
   "outputs": [],
   "source": [
    "# 9.5 字典（5）"
   ]
  },
  {
   "cell_type": "code",
   "execution_count": 298,
   "metadata": {},
   "outputs": [
    {
     "name": "stdout",
     "output_type": "stream",
     "text": [
      "3\n",
      "4\n",
      "2\n",
      "2\n",
      "3\n",
      "3\n",
      "8\n"
     ]
    },
    {
     "data": {
      "text/plain": [
       "8"
      ]
     },
     "execution_count": 298,
     "metadata": {},
     "output_type": "execute_result"
    }
   ],
   "source": [
    "\"\"\"\n",
    "获得字典所有的值：可以用 .values() 方法获得字典中所有的值：\n",
    "\"\"\"\n",
    "zoo = {'大象': 3, '金丝猴': 4, '羊驼': 2, '海獭': 2, '大熊猫': 3, '长颈鹿': 3, '狼': 8}\n",
    "for num in zoo.values():\n",
    "    print(num)\n",
    "# 输出：\n",
    "3\n",
    "4\n",
    "2\n",
    "2\n",
    "3\n",
    "3\n",
    "8"
   ]
  },
  {
   "cell_type": "code",
   "execution_count": 299,
   "metadata": {},
   "outputs": [
    {
     "name": "stdout",
     "output_type": "stream",
     "text": [
      "25\n"
     ]
    }
   ],
   "source": [
    "\"\"\"\n",
    "zoo 中键为动物园中的动物，值为动物对应的数量。\n",
    "\n",
    "1.请计算动物园动物总数，并赋值为 zoo_total；\n",
    "\n",
    "2.输出 zoo_total。\n",
    "\"\"\"\n",
    "zoo = {\n",
    "  '大象': 3, \n",
    "  '金丝猴': 4, \n",
    "  '羊驼': 2, \n",
    "  '海獭': 2, \n",
    "  '大熊猫': 3, \n",
    "  '长颈鹿': 3, \n",
    "  '狼': 8\n",
    "}\n",
    "zoo_total = 0\n",
    "for num in zoo.values():\n",
    "    zoo_total += num\n",
    "print(zoo_total)"
   ]
  },
  {
   "cell_type": "code",
   "execution_count": 300,
   "metadata": {},
   "outputs": [
    {
     "name": "stdout",
     "output_type": "stream",
     "text": [
      "大象的数量为：3\n",
      "金丝猴的数量为：4\n",
      "羊驼的数量为：2\n",
      "海獭的数量为：2\n",
      "大熊猫的数量为：3\n",
      "长颈鹿的数量为：3\n",
      "狼的数量为：8\n"
     ]
    }
   ],
   "source": [
    "\"\"\"\n",
    "获得字典中所有的键值对：可以用 .items() 获得 字典中的所有键值对。\n",
    "\"\"\"\n",
    "zoo = {'大象': 3, '金丝猴': 4, '羊驼': 2, '海獭': 2, '大熊猫': 3, '长颈鹿': 3, '狼': 8}\n",
    "for animal, number in zoo.items():\n",
    "    print(animal + \"的数量为：\" + str(number))\n",
    "# 输出：\n",
    "# 大象的数量为：3\n",
    "# 金丝猴的数量为：4\n",
    "# 羊驼的数量为：2\n",
    "# 海獭的数量为：2\n",
    "# 大熊猫的数量为：3\n",
    "# 长颈鹿的数量为：3\n",
    "# 狼的数量为：8"
   ]
  },
  {
   "cell_type": "code",
   "execution_count": 301,
   "metadata": {},
   "outputs": [
    {
     "name": "stdout",
     "output_type": "stream",
     "text": [
      "Apple 市值： 9269亿美元\n",
      "Amazon.com 市值： 7778亿美元\n",
      "Alphabet 市值： 7664亿美元\n",
      "Microsoft 市值： 7506亿美元\n",
      "Facebook 市值： 5415亿美元\n",
      "阿里巴巴 市值： 4994亿美元\n",
      "Berkshire Hathaway 市值： 4919亿美元\n",
      "腾讯 市值： 4913亿美元\n",
      "JPMorgan Chase 市值： 3877亿美元\n",
      "ExxonMobil 市值： 3441亿美元\n"
     ]
    }
   ],
   "source": [
    "\"\"\"\n",
    "mkt_value 中存储了键（公司名）以及对应的值（市值）。\n",
    "\n",
    "请补充注释行中… 处代码：\n",
    "\n",
    "数据来源：https://www.statista.com/statistics/263264/top-companies-in-the-world-by-market-value/\n",
    "\"\"\"\n",
    "mkt_value = {\n",
    "  \"Apple\":9269, \n",
    "  \"Amazon.com\":7778, \n",
    "  \"Alphabet\":7664, \n",
    "  \"Microsoft\":7506, \n",
    "  \"Facebook\":5415, \n",
    "  \"阿里巴巴\":4994, \n",
    "  \"Berkshire Hathaway\":4919, \n",
    "  \"腾讯\":4913, \n",
    "  \"JPMorgan Chase\":3877, \n",
    "  \"ExxonMobil\":3441\n",
    "}\n",
    "#\n",
    "for com, value in mkt_value.items():\n",
    "    print(com+\" 市值： \"+str(value)+\"亿美元\")"
   ]
  },
  {
   "cell_type": "code",
   "execution_count": 302,
   "metadata": {},
   "outputs": [
    {
     "name": "stdout",
     "output_type": "stream",
     "text": [
      "8\n"
     ]
    }
   ],
   "source": [
    "zoo = {'大象': 3, '金丝猴': 4, '羊驼': 2, '海獭': 2, '大熊猫': 3, '长颈鹿': 3, '狼': 8}\n",
    "for key,value in zoo.items():\n",
    "    if len(key) == 1:\n",
    "        print(zoo[key])"
   ]
  },
  {
   "cell_type": "code",
   "execution_count": 303,
   "metadata": {},
   "outputs": [
    {
     "name": "stdout",
     "output_type": "stream",
     "text": [
      "数字1的概率为0.152\n",
      "数字2的概率为0.177\n",
      "数字3的概率为0.167\n",
      "数字4的概率为0.141\n",
      "数字5的概率为0.191\n",
      "数字6的概率为0.172\n"
     ]
    }
   ],
   "source": [
    "\"\"\"\n",
    "骰子的概率：\n",
    "\n",
    "我们随机抛掷一个六面骰子1000次，每个面会有怎样的概率分布？\n",
    "\n",
    "请阅读下方代码及注释，按照要求补全…处代码，查看运行结果。\n",
    "\"\"\"\n",
    "import random\n",
    "side_num = range(0,6)\n",
    "side_count = {\"1\":0,\"2\":0,\"3\":0,\"4\":0,\"5\":0,\"6\":0}\n",
    "roll_time = 1000\n",
    "for play in range(0,roll_time):\n",
    "    dice = random.choice(list(side_count.keys()))\n",
    "    side_count[dice] += 1\n",
    "\n",
    "for side, count in side_count.items():    \n",
    "    print(\"数字{}的概率为{}\".format(side,count/roll_time))\n"
   ]
  },
  {
   "cell_type": "code",
   "execution_count": 304,
   "metadata": {},
   "outputs": [],
   "source": [
    "# 9.6 回顾"
   ]
  },
  {
   "cell_type": "code",
   "execution_count": 305,
   "metadata": {},
   "outputs": [
    {
     "name": "stdout",
     "output_type": "stream",
     "text": [
      "16\n"
     ]
    }
   ],
   "source": [
    "\"\"\"\n",
    "我们先复习：什么是字典\n",
    "\n",
    "字典是一组无序键值对的集合。\n",
    "\n",
    "我们需要注意：\n",
    "\n",
    "1）字典用 {} 包裹；\n",
    "\n",
    "2）其中 \"apple\" : 3 为一对键值对，其中 \"apple\" 为键（key），3 为值（value）；\n",
    "\n",
    "3）每对键值对由英文逗号 , 隔开；\n",
    "\n",
    "4）最好在每一个逗号与下一个键值对之间用空格隔开，方便阅读代码；\n",
    "\n",
    "另外，我们要掌握如何可以用 .values() 方法获得字典中所有的值。\n",
    "\n",
    "来，做个练习强化一下：\n",
    "\n",
    "按照下方要求，补全注释行…处的代码：\n",
    "\n",
    "1.创建函数 sum_value()，参数 my_dict；\n",
    "\n",
    "2.函数返回 my_dict 值的总和；\n",
    "\n",
    "3.输出 sum_value({\"计算机系\":5, \"数学系\":2, \"文学系\": 3, \"外语系\":6})\n",
    "\"\"\"\n",
    "def sum_value(my_dict):\n",
    "    total = 0\n",
    "    for item in my_dict.values():\n",
    "        total += item\n",
    "    return total\n",
    "print(sum_value({\"计算机系\":5, \"数学系\":2, \"文学系\": 3, \"外语系\":6}))"
   ]
  },
  {
   "cell_type": "code",
   "execution_count": 306,
   "metadata": {},
   "outputs": [
    {
     "name": "stdout",
     "output_type": "stream",
     "text": [
      "385\n"
     ]
    }
   ],
   "source": [
    "\"\"\"\n",
    "接着，我们通过下一个练习来掌握如何用 .keys() 获得字典所有的键。\n",
    "按照下方要求，补全注释行…处代码：\n",
    "\n",
    "1.创建函数 sum_key()，参数 my_dict；\n",
    "\n",
    "2.函数返回字典 my_dict 键的总和；\n",
    "\n",
    "3.输出 sum_key({1:1, 4:2, 9:3, 16:4, 25:5, 36:6, 49:7, 64:8, 81:9, 100:10})\n",
    "\"\"\"\n",
    "def sum_key(my_dict):\n",
    "    total = 0\n",
    "    for key in my_dict.keys():\n",
    "        total += key\n",
    "    return total\n",
    "print(sum_key({1:1, 4:2, 9:3, 16:4, 25:5, 36:6, 49:7, 64:8, 81:9, 100:10}))"
   ]
  },
  {
   "cell_type": "code",
   "execution_count": 307,
   "metadata": {},
   "outputs": [
    {
     "name": "stdout",
     "output_type": "stream",
     "text": [
      "{3: '大象', 4: '海獭', 8: '羊驼'}\n"
     ]
    }
   ],
   "source": [
    "\"\"\"\n",
    "接着我们来复习如何创建字典、如何为字典添加键。\n",
    "\n",
    "需要注意的是：\n",
    "\n",
    "键可以是字符串，也可以是数值；而值可以是任何数据类型：字符串、数值、列表，甚至还可以是字典。\n",
    "\n",
    "一起完成下面的练习吧！\n",
    "\n",
    "请按照下方要求，补全注释行…处代码：\n",
    "\n",
    "1.创建函数 change_key_value()，参数 my_dict；\n",
    "\n",
    "2.将字典my_dict中的键、值互换，生成新的字典 new_dict；\n",
    "\n",
    "3.函数返回new_dict；\n",
    "\n",
    "4.输出change_key_value({\"大象\":3, \"海獭\":4, \"羊驼\":8})。\n",
    "\"\"\"\n",
    "def change_key_value(my_dict):\n",
    "    new_dict = {}\n",
    "    for key, value in my_dict.items():\n",
    "        new_dict[value] = key\n",
    "    return new_dict\n",
    "print(change_key_value({\"大象\":3, \"海獭\":4, \"羊驼\":8}))"
   ]
  },
  {
   "cell_type": "code",
   "execution_count": 308,
   "metadata": {},
   "outputs": [
    {
     "name": "stdout",
     "output_type": "stream",
     "text": [
      "{'吃葡萄不吐葡萄皮': 8, '板凳短扁担长': 6, '八百标兵奔北坡': 7, '四是四十是十': 6}\n"
     ]
    }
   ],
   "source": [
    "\"\"\"\n",
    "请按照下方要求，补全注释行…处代码：\n",
    "\n",
    "1.创建函数 sentence_length()，参数 my_list；\n",
    "\n",
    "2.函数内创建变量 sent_length，初始值为空字典；\n",
    "\n",
    "3.遍历 my_list，令元素item为 sent_length 的键，item的长度为对应的值；\n",
    "\n",
    "4.函数返回sent_length；\n",
    "\n",
    "5.输出 sentence_length([\"吃葡萄不吐葡萄皮\", \"板凳短扁担长\", \"八百标兵奔北坡\", \"四是四十是十\"])\n",
    "\"\"\"\n",
    "def sentence_length(my_list):\n",
    "    sent_length = {}\n",
    "    for item in my_list:\n",
    "        sent_length[item] = len(item)\n",
    "    return sent_length\n",
    "print(sentence_length([\"吃葡萄不吐葡萄皮\", \"板凳短扁担长\", \"八百标兵奔北坡\", \"四是四十是十\"]))"
   ]
  },
  {
   "cell_type": "code",
   "execution_count": 309,
   "metadata": {},
   "outputs": [
    {
     "data": {
      "text/plain": [
       "'\\n字典的键不可以是列表。\\n\\n字典的值可以是：\\n\\n1）字符串\\n\\n2）数值\\n\\n3）列表\\n\\n4）字典\\n'"
      ]
     },
     "execution_count": 309,
     "metadata": {},
     "output_type": "execute_result"
    }
   ],
   "source": [
    "\"\"\"\n",
    "字典的键不可以是列表。\n",
    "\n",
    "字典的值可以是：\n",
    "\n",
    "1）字符串\n",
    "\n",
    "2）数值\n",
    "\n",
    "3）列表\n",
    "\n",
    "4）字典\n",
    "\"\"\""
   ]
  },
  {
   "cell_type": "code",
   "execution_count": 310,
   "metadata": {},
   "outputs": [
    {
     "data": {
      "text/plain": [
       "'\\n对于字典 my_dict，我们执行：\\n\\nmy_dict.get(\"key\",\"没有该键\")\\n如果 my_dict 中没有\"key\" 这个键，程序会返回：\\n .get() 的默认值 \"没有该键\"\\n'"
      ]
     },
     "execution_count": 310,
     "metadata": {},
     "output_type": "execute_result"
    }
   ],
   "source": [
    "\"\"\"\n",
    "对于字典 my_dict，我们执行：\n",
    "\n",
    "my_dict.get(\"key\",\"没有该键\")\n",
    "如果 my_dict 中没有\"key\" 这个键，程序会返回：\n",
    " .get() 的默认值 \"没有该键\"\n",
    "\"\"\""
   ]
  },
  {
   "cell_type": "code",
   "execution_count": 311,
   "metadata": {},
   "outputs": [
    {
     "name": "stdout",
     "output_type": "stream",
     "text": [
      "Russia 11\n",
      "Saudi Arabia 2\n",
      "Egypt 2\n",
      "Uruguay 7\n",
      "Morocco 2\n",
      "Iran 2\n",
      "Portugal 6\n",
      "Spain 7\n",
      "France 14\n",
      "Australia 2\n",
      "Peru 2\n",
      "Denmark 3\n",
      "Argentina 6\n",
      "Iceland 2\n",
      "Croatia 14\n",
      "Nigeria 3\n",
      "Costa Rica 2\n",
      "Serbia 2\n",
      "Brazil 8\n",
      "Switzerland 5\n",
      "Germany 2\n",
      "Mexico 3\n",
      "Sweden 6\n",
      "South Korea 3\n",
      "Belgium 16\n",
      "Panama 2\n",
      "Tunisia 5\n",
      "England 12\n",
      "Colombia 6\n",
      "Japan 6\n",
      "Poland 2\n",
      "Senegal 4\n"
     ]
    }
   ],
   "source": [
    "\"\"\"\n",
    "下方变量 goal_record 是2018年俄罗斯世界杯64场球赛的比分（不包含淘汰赛点球大战）\n",
    "\n",
    "请按照下方注释，创建字典 wc_2018_goal，记录32支球队的各自进球数。\n",
    "\"\"\"\n",
    "goal_record = \"\"\"Russia 5–0 Saudi Arabia;\n",
    "Egypt 0–1 Uruguay;\n",
    "Russia 3–1 Egypt;\n",
    "Uruguay 1–0 Saudi Arabia;\n",
    "Uruguay 3–0 Russia;\n",
    "Saudi Arabia 2–1 Egypt;\n",
    "Morocco 0–1 Iran;\n",
    "Portugal 3–3 Spain;\n",
    "Portugal 1–0 Morocco;\n",
    "Iran 0–1 Spain;\n",
    "Iran 1–1 Portugal;\n",
    "Spain 2–2 Morocco;\n",
    "France 2–1 Australia;\n",
    "Peru 0–1 Denmark;\n",
    "Denmark 1–1 Australia;\n",
    "France 1–0 Peru;\n",
    "Denmark 0–0 France;\n",
    "Australia 0–2 Peru;\n",
    "Argentina 1–1 Iceland;\n",
    "Croatia 2–0 Nigeria;\n",
    "Argentina 0–3 Croatia;\n",
    "Nigeria 2–0 Iceland;\n",
    "Nigeria 1–2 Argentina;\n",
    "Iceland 1–2 Croatia;\n",
    "Costa Rica 0–1 Serbia;\n",
    "Brazil 1–1 Switzerland;\n",
    "Brazil 2–0 Costa Rica;\n",
    "Serbia 1–2 Switzerland;\n",
    "Serbia 0–2 Brazil;\n",
    "Switzerland 2–2 Costa Rica;\n",
    "Germany 0–1 Mexico;\n",
    "Sweden 1–0 South Korea;\n",
    "South Korea 1–2 Mexico;\n",
    "Germany 2–1 Sweden;\n",
    "South Korea 2–0 Germany;\n",
    "Mexico 0–3 Sweden;\n",
    "Belgium 3–0 Panama;\n",
    "Tunisia 1–2 England;\n",
    "Belgium 5–2 Tunisia;\n",
    "England 6–1 Panama;\n",
    "England 0–1 Belgium;\n",
    "Panama 1–2 Tunisia;\n",
    "Colombia 1–2 Japan;\n",
    "Poland 1–2 Senegal;\n",
    "Japan 2–2 Senegal;\n",
    "Poland 0–3 Colombia;\n",
    "Japan 0–1 Poland;\n",
    "Senegal 0–1 Colombia;\n",
    "France 4–3 Argentina;\n",
    "Uruguay 2–1 Portugal;\n",
    "Spain 1–1 Russia;\n",
    "Croatia 1–1 Denmark;\n",
    "Brazil 2–0 Mexico;\n",
    "Belgium 3–2 Japan;\n",
    "Sweden 1–0 Switzerland;\n",
    "Colombia 1–1 England;\n",
    "Uruguay 0–2 France;\n",
    "Brazil 1–2 Belgium;\n",
    "Sweden 0–2 England;\n",
    "Russia 2–2 Croatia;\n",
    "France 1–0 Belgium;\n",
    "Croatia 2–1 England;\n",
    "Belgium 2–0 England;\n",
    "France 4–2 Croatia\"\"\"\n",
    "\n",
    "team_goal = []\n",
    "for match in goal_record.split(\";\\n\"):\n",
    "    for team in match.split(\"–\"):\n",
    "        team_goal.append(team)\n",
    "wc_2018_goal = {}\n",
    "for num in range(len(team_goal)):\n",
    "    if num % 2 == 0:\n",
    "        wc_2018_goal[team_goal[num][:-2]] = 0\n",
    "    else:\n",
    "        wc_2018_goal[team_goal[num][2:]] = 0\n",
    "        \n",
    "for num in range(len(team_goal)):\n",
    "    if num % 2 == 0:\n",
    "        wc_2018_goal[team_goal[num][:-2]] += int(team_goal[num][-1])\n",
    "    else:\n",
    "        wc_2018_goal[team_goal[num][2:]] += int(team_goal[num][0])\n",
    "\n",
    "for key,value in wc_2018_goal.items():\n",
    "  print(key,value)"
   ]
  },
  {
   "cell_type": "code",
   "execution_count": 312,
   "metadata": {},
   "outputs": [],
   "source": [
    "# 10.1 爬虫（1）"
   ]
  },
  {
   "cell_type": "code",
   "execution_count": 313,
   "metadata": {},
   "outputs": [
    {
     "name": "stdout",
     "output_type": "stream",
     "text": [
      "b\"<html>\\n<head>\\n<title>Spider's Home</title>\\n</head>\\n<body>\\n<h1>Hello, human.</h1>\\n\\n</body>\\n</html>\\n\"\n"
     ]
    }
   ],
   "source": [
    "\"\"\"\n",
    "我的第一只爬虫：在网络社会，几乎人人都上网。但是作为会编程的你，可以有一种与众不同的方式——用爬虫获取互联网上的海量信息。那什么是爬虫呢？如果我们把互联网想像成一张大网，那么爬虫就是一只为我们工作的蜘蛛。它可以按照我们写好的程序，自动化地在网上猎取我们需要的猎物（数据）。这个世界上，最著名的爬虫或许就是谷歌搜索引擎了，它每秒钟要爬取以亿为量级的互联网数据，并以此为基础向用户推荐用户希望看到的信息。在本课程中，我们会对网页爬虫做初步介绍，让大家了解其背后的基本原理，并且可以动手写一些简单的代码，实现爬虫功能。\n",
    "\"\"\"\n",
    "from urllib.request import urlopen\n",
    "\n",
    "my_first_spider = urlopen(\"https://assets.baydn.com/baydn/public/codetime/0.0.1/hello_human.html\")\n",
    "\n",
    "print(my_first_spider.read())"
   ]
  },
  {
   "cell_type": "code",
   "execution_count": 314,
   "metadata": {},
   "outputs": [
    {
     "name": "stdout",
     "output_type": "stream",
     "text": [
      "<http.client.HTTPResponse object at 0x10e326240>\n"
     ]
    }
   ],
   "source": [
    "\"\"\"\n",
    "爬虫的原理：刚才说了，爬虫是自动化帮我们获取网页数据的程序。那么你可能会好奇，我们究竟是如何获取网页数据的？这里我们将网络通信与打电话做一个类比：当我们想访问某个网址（URL）时，网址（URL）就类似于电话号码，而电脑、智能手机这样的客户端（client）也就类似于电话。我们通过客户端的浏览器（browser）发送访问请求（request），就好比用电话拨打电话号码。接收请求的一方叫做服务器（web server），如果服务器运行正常并且同意我们的请求，则会向客户端发送回答（response），回答的内容会放在HTML文件里。这时，浏览器又可以帮我们解析HTML文件，让它变成我们通常看到的网页的模样。\n",
    "\n",
    "请看编辑区代码，我们通过它向网址：\n",
    "\n",
    "模拟扇贝网页发送请求；\n",
    "\n",
    "请添加一行代码，输出变量 web_response；\n",
    "\n",
    "看看程序的运行结果是什么。\n",
    "\"\"\"\n",
    "from urllib.request import urlopen\n",
    "\n",
    "web_response = urlopen(\"https://assets.baydn.com/baydn/public/codetime/1/scrape_py.html\")\n",
    "print(web_response)"
   ]
  },
  {
   "cell_type": "code",
   "execution_count": 315,
   "metadata": {},
   "outputs": [
    {
     "name": "stdout",
     "output_type": "stream",
     "text": [
      "b'<html>\\n<head>\\n<title>\\xe6\\xac\\xa2\\xe8\\xbf\\x8e\\xe6\\x9d\\xa5\\xe5\\x88\\xb0\\xe6\\x89\\x87\\xe8\\xb4\\x9d\\xe7\\xbc\\x96\\xe7\\xa8\\x8b</title>\\n</head>\\n<body>\\n<h1>\\xe7\\xbd\\x91\\xe7\\xab\\x99\\xe7\\x88\\xac\\xe8\\x99\\xab\\xe6\\xb5\\x8b\\xe8\\xaf\\x95</h1>\\n\\n<table border=\"2\">\\n<tr>\\n<td>\\xe5\\xa7\\x93\\xe5\\x90\\x8d</td><td>\\xe7\\x94\\xbb\\xe4\\xb8\\x80\\xe5\\x8f\\xaa\\xe5\\x96\\xb5\\xe6\\x98\\x9f\\xe4\\xba\\xba</td><td>\\xe6\\xad\\xa3\\xe7\\xa1\\xae\\xe9\\xa2\\x98\\xe6\\x95\\xb0</td><td>\\xe7\\xad\\x89\\xe7\\xba\\xa7</td>\\n</tr>\\n<tr><td>\\xe9\\x98\\xbf\\xe5\\xbc\\xba</td><td><span class=\"comments\">\\xe5\\xae\\x8c\\xe6\\x88\\x90</span></td><td><span class=\"correct\">4</span></td><td><span class=\"rank\">A</span></td></tr>\\n\\n<tr><td>\\xe8\\x80\\x81\\xe7\\x8e\\x8b</td><td><span class=\"comments\">\\xe5\\xae\\x8c\\xe6\\x88\\x90</span></td><td><span class=\"correct\">3</span></td><td><span class=\"rank\">B</span></td></tr>\\n\\n<tr><td>\\xe5\\xb0\\x8f\\xe8\\x8a\\xb3</td><td><span class=\"comments\">\\xe5\\xae\\x8c\\xe6\\x88\\x90</span></td><td><span class=\"correct\">2</span></td><td><span class=\"rank\">C</span></td></tr>\\n\\n<tr><td>\\xe5\\xbc\\xa0\\xe5\\xb0\\x8f\\xe6\\x98\\x8e</td><td><span class=\"comments\">\\xe6\\x9c\\xaa\\xe5\\xae\\x8c\\xe6\\x88\\x90</span></td><td><span class=\"correct\">3</span></td><td><span class=\"rank\">C</span></td></tr>\\n\\n</table>\\n</body>\\n</html>\\n'\n"
     ]
    }
   ],
   "source": [
    "\"\"\"\n",
    "urllib模块：在刚才的练习中，我们看到程序执行之后，屏幕输出了\n",
    "\n",
    "<Response>\n",
    "这样的内容。这代表我们成功获得了对方网址给我们的回答。但究竟回答的具体内容是什么呢？我们在代码中看到的 urllib 又是什么呢？\n",
    "\n",
    "urllib 是 Python 的一个模块，我们通过 import 调用它，并让它（urllib.request）帮我们向网址发送请求，接收回答。我们刚刚得到的\n",
    "\n",
    "<Response>\n",
    "相当于目标网址给我们一封尚未拆封的信，而接下来要做的是用 urllib 中的 read()，来读这封信的具体内容。\n",
    "\"\"\"\n",
    "from urllib.request import urlopen\n",
    "\n",
    "web_response = urlopen(\"https://assets.baydn.com/baydn/public/codetime/1/scrape_py.html\")\n",
    "\n",
    "print(web_response.read()) "
   ]
  },
  {
   "cell_type": "code",
   "execution_count": 316,
   "metadata": {},
   "outputs": [
    {
     "data": {
      "text/plain": [
       "'\\nPython 中用于获取网页数据的模块是urllib\\n服务器对于请求（request）所给出的回答（response），一般放在HTML文件里\\n'"
      ]
     },
     "execution_count": 316,
     "metadata": {},
     "output_type": "execute_result"
    }
   ],
   "source": [
    "\"\"\"\n",
    "Python 中用于获取网页数据的模块是urllib\n",
    "服务器对于请求（request）所给出的回答（response），一般放在HTML文件里\n",
    "\"\"\""
   ]
  },
  {
   "cell_type": "code",
   "execution_count": 317,
   "metadata": {},
   "outputs": [
    {
     "name": "stdout",
     "output_type": "stream",
     "text": [
      "b'<!DOCTYPE html>\\n\\n<head><meta charset=\"utf-8\"><title>\\xe6\\x89\\x87\\xe8\\xb4\\x9d\\xe6\\x96\\xb0\\xe9\\x97\\xbb</title><meta http-equiv=\"X-UA-Compatible\" content=\"IE=edge, chrome=1\"><meta name=\"viewport\" content=\"initial-scale=1,user-scalable=no,maximum-scale=1,width=device-width\"><link rel=\"icon\" type=\"image/png\" href=\"https://static.baydn.com/static/img/shanbay_favicon.png\"><link rel=\"stylesheet\" href=\"https://static.baydn.com/baydn/public/bay-components/v0.1.18/bay-components.min.css\"><link rel=\"stylesheet\" href=\"https://static.baydn.com/baydn/public/iconbay/v0.1.15/iconbay.css\"><link rel=\"stylesheet\" href=\"https://static.baydn.com/baydn/public/xbay/v1.9.16/client-ui.css\"><link rel=\"stylesheet\" href=\"https://static.baydn.com/news/public/client-news-a3dce622498adda2.css\"></head>\\n\\n<body>\\n<div data-reactroot=\"\"><div class=\"sb-nav\"><div class=\"nav-sub\"><div class=\"container\"><ul><li><a class=\"active\">\\xe7\\x9f\\xad\\xe6\\x96\\x87\\xe9\\xa6\\x96\\xe9\\xa1\\xb5</a></li><li><a>\\xe6\\x88\\x91\\xe7\\x9a\\x84\\xe7\\x9f\\xad\\xe6\\x96\\x87</a></li><li><a>\\xe7\\x9f\\xad\\xe6\\x96\\x87\\xe8\\xae\\xa1\\xe5\\x88\\x92</a></li><li><a>\\xe7\\x9f\\xad\\xe6\\x96\\x87\\xe8\\xbf\\x9b\\xe5\\xba\\xa6</a></li></ul></div></div></div><div class=\"container clearfix\" id=\"pageContainer\"><div class=\"pull-left page-content\"><div><div class=\"img-news-display\"><a><img src=\"https://media-image1.baydn.com/801f470db1661de3c90641b106290683db4ac4ccf42687382864b2ced63bf24f.png\" alt=\"\\xe6\\x96\\x87\\xe7\\xab\\xa0\\xe5\\x9b\\xbe\\xe7\\x89\\x87\"><div class=\"img-news-info\"><p class=\"img-news-meta\"><span><!-- react-text: 39 -->\\xe9\\x9a\\xbe\\xe5\\xba\\xa6\\xef\\xbc\\x9a<!-- /react-text --><!-- react-text: 40 -->\\xe5\\x85\\xad\\xe7\\xba\\xa7/\\xe8\\x80\\x83\\xe7\\xa0\\x94<!-- /react-text --></span><span><!-- react-text: 42 -->\\xe5\\x8d\\x95\\xe8\\xaf\\x8d\\xef\\xbc\\x9a<!-- /react-text --><!-- react-text: 43 -->349<!-- /react-text --></span><span><!-- react-text: 45 -->\\xe8\\xaf\\xbb\\xe5\\x90\\x8e\\xe6\\x84\\x9f\\xef\\xbc\\x9a<!-- /react-text --><!-- react-text: 46 -->32<!-- /react-text --></span></p><p class=\"img-news-title\">Why Is the World Book Day Celebrated on April 23rd?</p></div></a></div><ul class=\"news\"><div><li class=\"\"><a><p class=\"news-title\">Even Educators Believe These 7 Myths About Learning</p><div class=\"clearfix\"><div class=\"news-img pull-left\"><img src=\"https://media-image1.baydn.com/00d576bf125e1ff5d0d4484ff381b2680260884a61a622ee3797925c0c8c2d09.png\" alt=\"thumbnail\"></div><div class=\"news-info pull-right\"><p class=\"news-summary\">Considering the popularity of brain teasers and brain-training apps, you\\'d think that people would know quite a bit about the brain\\'s role in education. But according to a new ...</p><p class=\"news-meta\"><span><!-- react-text: 60 -->\\xe9\\x9a\\xbe\\xe5\\xba\\xa6\\xef\\xbc\\x9a<!-- /react-text --><i>\\xe9\\x9b\\x85\\xe6\\x80\\x9d/\\xe6\\x89\\x98\\xe7\\xa6\\x8f/\\xe4\\xb8\\x93\\xe5\\x9b\\x9b</i></span><span><!-- react-text: 63 -->\\xe5\\x8d\\x95\\xe8\\xaf\\x8d\\xef\\xbc\\x9a<!-- /react-text --><i>546</i></span><span><!-- react-text: 66 -->\\xe8\\xaf\\xbb\\xe5\\x90\\x8e\\xe6\\x84\\x9f\\xef\\xbc\\x9a<!-- /react-text --><i>268</i></span></p></div></div></a></li></div><div><li class=\"\"><a><p class=\"news-title\">Why Bananas Should Not Be a Part of Your Daily Diet</p><div class=\"clearfix\"><div class=\"news-img pull-left\"><img src=\"https://media-image1.baydn.com/807edcb3234ad382b80c0a51528162513de6e1af65e5c59d932bc36d0c03c5a2.png\" alt=\"thumbnail\"></div><div class=\"news-info pull-right\"><p class=\"news-summary\">Bananas may seem like the perfect snack food. They are convenient in their own little single serving, ready-to-eat form and are rather delicious. But what if I told you ...</p><p class=\"news-meta\"><span><!-- react-text: 79 -->\\xe9\\x9a\\xbe\\xe5\\xba\\xa6\\xef\\xbc\\x9a<!-- /react-text --><i>\\xe5\\x9b\\x9b\\xe7\\xba\\xa7</i></span><span><!-- react-text: 82 -->\\xe5\\x8d\\x95\\xe8\\xaf\\x8d\\xef\\xbc\\x9a<!-- /react-text --><i>656</i></span><span><!-- react-text: 85 -->\\xe8\\xaf\\xbb\\xe5\\x90\\x8e\\xe6\\x84\\x9f\\xef\\xbc\\x9a<!-- /react-text --><i>221</i></span></p></div></div></a></li></div><div><li class=\"\"><a><p class=\"news-title\">Technology Is Changing Transportation, and Cities Should Adapt</p><div class=\"clearfix\"><div class=\"news-img pull-left\"><img src=\"https://media-image1.baydn.com/fab445b7bafb396e4cf60fbe91e89f4b7cbe0c6fa7ed0199b48c971a9b86cd4e.png\" alt=\"thumbnail\"></div><div class=\"news-info pull-right\"><p class=\"news-summary\">It has taken only a few years for ride-hailing services to make urban journeys more convenient in many cities, much to the delight of city dwellers the world over. ...</p><p class=\"news-meta\"><span><!-- react-text: 98 -->\\xe9\\x9a\\xbe\\xe5\\xba\\xa6\\xef\\xbc\\x9a<!-- /react-text --><i>SAT/\\xe4\\xb8\\x93\\xe5\\x85\\xab</i></span><span><!-- react-text: 101 -->\\xe5\\x8d\\x95\\xe8\\xaf\\x8d\\xef\\xbc\\x9a<!-- /react-text --><i>778</i></span><span><!-- react-text: 104 -->\\xe8\\xaf\\xbb\\xe5\\x90\\x8e\\xe6\\x84\\x9f\\xef\\xbc\\x9a<!-- /react-text --><i>32</i></span></p></div></div></a></li></div><div><li class=\"\"><a><p class=\"news-title\">5 Things an Alien Scientist Would Find Weird About Humans</p><div class=\"clearfix\"><div class=\"news-img pull-left\"><img src=\"https://media-image1.baydn.com/d59ff52d3580bfdd1413c73738e5a65df338e1af07a30673aaeec2a1052551f0.png\" alt=\"thumbnail\"></div><div class=\"news-info pull-right\"><p class=\"news-summary\">The Ape That Understood the Universe by Steve Stewart-Williams is a fantastic book about the evolution of human psychology and culture. It is packed with seriously interesting information from ...</p><p class=\"news-meta\"><span><!-- react-text: 117 -->\\xe9\\x9a\\xbe\\xe5\\xba\\xa6\\xef\\xbc\\x9a<!-- /react-text --><i>\\xe5\\x85\\xad\\xe7\\xba\\xa7/\\xe8\\x80\\x83\\xe7\\xa0\\x94</i></span><span><!-- react-text: 120 -->\\xe5\\x8d\\x95\\xe8\\xaf\\x8d\\xef\\xbc\\x9a<!-- /react-text --><i>942</i></span><span><!-- react-text: 123 -->\\xe8\\xaf\\xbb\\xe5\\x90\\x8e\\xe6\\x84\\x9f\\xef\\xbc\\x9a<!-- /react-text --><i>72</i></span></p></div></div></a></li></div><div><li class=\"\"><a><p class=\"news-title\">Internet Culture Gives Rise to New Ground Rules for Communicating</p><div class=\"clearfix\"><div class=\"news-img pull-left\"><img src=\"https://media-image1.baydn.com/f5d17b1e805b8fcc09911c073eb8dbd73b40d4d3daa3f26e89a5aae5d8168951.png\" alt=\"thumbnail\"></div><div class=\"news-info pull-right\"><p class=\"news-summary\">Connecting with people has become much easier with advancing technology. Tasks that once required an operator, postage stamp or carrier pigeon are now as simple as tapping a name ...</p><p class=\"news-meta\"><span><!-- react-text: 136 -->\\xe9\\x9a\\xbe\\xe5\\xba\\xa6\\xef\\xbc\\x9a<!-- /react-text --><i>\\xe5\\x85\\xad\\xe7\\xba\\xa7/\\xe8\\x80\\x83\\xe7\\xa0\\x94</i></span><span><!-- react-text: 139 -->\\xe5\\x8d\\x95\\xe8\\xaf\\x8d\\xef\\xbc\\x9a<!-- /react-text --><i>862</i></span><span><!-- react-text: 142 -->\\xe8\\xaf\\xbb\\xe5\\x90\\x8e\\xe6\\x84\\x9f\\xef\\xbc\\x9a<!-- /react-text --><i>39</i></span></p></div></div></a></li></div><div><li class=\"\"><a><p class=\"news-title\">5 Questions to Ask When Starting a New Job</p><div class=\"clearfix\"><div class=\"news-img pull-left\"><img src=\"https://media-image1.baydn.com/ed4cd941293716f2d198777abc4de7ca0408ba304d2f4e2adcb98a5b8a007d3d.png\" alt=\"thumbnail\"></div><div class=\"news-info pull-right\"><p class=\"news-summary\">The actions you take during your first few months in a new job have a major impact on your success or failure.  Build positive momentum early on and ...</p><p class=\"news-meta\"><span><!-- react-text: 155 -->\\xe9\\x9a\\xbe\\xe5\\xba\\xa6\\xef\\xbc\\x9a<!-- /react-text --><i>\\xe5\\x9b\\x9b\\xe7\\xba\\xa7</i></span><span><!-- react-text: 158 -->\\xe5\\x8d\\x95\\xe8\\xaf\\x8d\\xef\\xbc\\x9a<!-- /react-text --><i>808</i></span><span><!-- react-text: 161 -->\\xe8\\xaf\\xbb\\xe5\\x90\\x8e\\xe6\\x84\\x9f\\xef\\xbc\\x9a<!-- /react-text --><i>60</i></span></p></div></div></a></li></div><div><li class=\"newsitem-border-reset\"><a><p class=\"news-title\">Research: Business School Really Does Influence How Students Make Decisions Later On</p><div class=\"clearfix\"><div class=\"news-img pull-left\"><img src=\"https://media-image1.baydn.com/5e69ec1af995dc72a7003e3dfc363f6ac5ca83f4b6fdf4dcfb5d962e59689fac.png\" alt=\"thumbnail\"></div><div class=\"news-info pull-right\"><p class=\"news-summary\">The overarching goal of most business schools is to train future leaders to lead.  But how well schools meet this goal, and to what extent their teaching influences ...</p><p class=\"news-meta\"><span><!-- react-text: 174 -->\\xe9\\x9a\\xbe\\xe5\\xba\\xa6\\xef\\xbc\\x9a<!-- /react-text --><i>\\xe9\\x9b\\x85\\xe6\\x80\\x9d/\\xe6\\x89\\x98\\xe7\\xa6\\x8f/\\xe4\\xb8\\x93\\xe5\\x9b\\x9b</i></span><span><!-- react-text: 177 -->\\xe5\\x8d\\x95\\xe8\\xaf\\x8d\\xef\\xbc\\x9a<!-- /react-text --><i>1255</i></span><span><!-- react-text: 180 -->\\xe8\\xaf\\xbb\\xe5\\x90\\x8e\\xe6\\x84\\x9f\\xef\\xbc\\x9a<!-- /react-text --><i>23</i></span></p></div></div></a></li></div><div><div class=\"news-date-seperator\">\\xe6\\x98\\xa8\\xe5\\xa4\\xa9</div><li class=\"\"><a><p class=\"news-title\">How To Support Your Partner When They\\'re Dealing With Stress</p><div class=\"clearfix\"><div class=\"news-img pull-left\"><img src=\"https://media-image1.baydn.com/c745c960b4b9febd393ec5ed119218840e959ae58ce73c6a604802f1519ac69d.png\" alt=\"thumbnail\"></div><div class=\"news-info pull-right\"><p class=\"news-summary\">If you\\'re anything like me, you\\'ve experienced stress at some point in your life.  If you\\'ve been in a relationship, maybe your partner has gone through a stressful ...</p><p class=\"news-meta\"><span><!-- react-text: 194 -->\\xe9\\x9a\\xbe\\xe5\\xba\\xa6\\xef\\xbc\\x9a<!-- /react-text --><i>\\xe5\\x85\\xad\\xe7\\xba\\xa7/\\xe8\\x80\\x83\\xe7\\xa0\\x94</i></span><span><!-- react-text: 197 -->\\xe5\\x8d\\x95\\xe8\\xaf\\x8d\\xef\\xbc\\x9a<!-- /react-text --><i>809</i></span><span><!-- react-text: 200 -->\\xe8\\xaf\\xbb\\xe5\\x90\\x8e\\xe6\\x84\\x9f\\xef\\xbc\\x9a<!-- /react-text --><i>469</i></span></p></div></div></a></li></div><div><li class=\"\"><a><p class=\"news-title\">A New State of Matter Has Been Found That Is Both Solid and Liquid</p><div class=\"clearfix\"><div class=\"news-img pull-left\"><img src=\"https://media-image1.baydn.com/19a7173b388ef1a010575a1548abe4130187d5d5f4556364d7fcdf9eecf599c0.png\" alt=\"thumbnail\"></div><div class=\"news-info pull-right\"><p class=\"news-summary\">Matter is anything that takes up space. Matter goes through different stages. We know the stages are solid, liquid and gas. Now, though, scientists have found a new state. ...</p><p class=\"news-meta\"><span><!-- react-text: 213 -->\\xe9\\x9a\\xbe\\xe5\\xba\\xa6\\xef\\xbc\\x9a<!-- /react-text --><i>\\xe5\\x85\\xad\\xe7\\xba\\xa7/\\xe8\\x80\\x83\\xe7\\xa0\\x94</i></span><span><!-- react-text: 216 -->\\xe5\\x8d\\x95\\xe8\\xaf\\x8d\\xef\\xbc\\x9a<!-- /react-text --><i>413</i></span><span><!-- react-text: 219 -->\\xe8\\xaf\\xbb\\xe5\\x90\\x8e\\xe6\\x84\\x9f\\xef\\xbc\\x9a<!-- /react-text --><i>686</i></span></p></div></div></a></li></div></ul><div class=\"pager-btn-container\"></div></div></div><div class=\"pull-right sideBar\"><div class=\"weekly-hot-news\"><div class=\"weekly-pop-news-title\"></script><script src=\"https://static.baydn.com/baydn/public/xbay/v1.9.16/client-tail.js\"></script><div><div class=\"gr_-editor gr-iframe-first-load\" style=\"display: none;\"><div class=\"gr_-editor_back\"></div><iframe class=\"gr_-ifr gr-_dialog-content\"></iframe></div></div><grammarly-card><div></div></grammarly-card><span class=\"gr__tooltip\"><span class=\"gr__tooltip-content\"></span><i class=\"gr__tooltip-logo\"></i><span class=\"gr__triangle\"></span></span>\\n\\n</body>\\n</html>'\n"
     ]
    }
   ],
   "source": [
    "\"\"\"\n",
    "在本次网页爬虫课程中，我们将爬取扇贝网站的新闻阅读数据：搜集在某日网页刊登的新闻名称和相应的读后感数量。\n",
    "\n",
    "由于扇贝网站日常会有维护更新，为了保障大家的学习可以稳定进行，我们将目标网页移至下方网址，大家可以先在电脑端浏览器查看。\n",
    "\"\"\"\n",
    "from urllib.request import urlopen\n",
    "page = \"https://assets.baydn.com/baydn/public/codetime/1/shanbay_news.html\"\n",
    "\n",
    "# 爬取page数据存入shanbay_news\n",
    "shanbay_news = urlopen(page)\n",
    "news_data = shanbay_news.read()\n",
    "print(news_data)\n",
    "\n",
    "# 虽然现在看到的 \n",
    "# news_data 是杂乱不堪的\n",
    "# 不过不用着急\n",
    "# 我们在后面的课程中\n",
    "# 教你如何清洗抓取的数据"
   ]
  },
  {
   "cell_type": "code",
   "execution_count": 318,
   "metadata": {},
   "outputs": [],
   "source": [
    "# 10.2 爬虫（2）"
   ]
  },
  {
   "cell_type": "code",
   "execution_count": 1,
   "metadata": {},
   "outputs": [
    {
     "data": {
      "text/plain": [
       "'\\n<html>\\n<head>                                         #head部分开头\\n<title>欢迎来到扇贝编程</title>\\n</head>                                        #head部分结尾\\n<body>                                         #body部分开头\\n<h1>网站爬虫测试</h1>\\n\\n<table border=\"2\">\\n<tr>\\n<td>姓名</td><td>画一只喵星人</td><td>正确题数</td><td>等级</td>\\n</tr>\\n<tr><td>阿强</td><td><span class=\"comments\">完成</span></td><td><span class=\"correct\">4</span></td><td><span class=\"rank\">A</span></td></tr>\\n\\n<tr><td>老王</td><td><span class=\"comments\">完成</span></td><td><span class=\"correct\">3</span></td><td><span class=\"rank\">B</span></td></tr>\\n\\n<tr><td>小芳</td><td><span class=\"comments\">完成</span></td><td><span class=\"correct\">2</span></td><td><span class=\"rank\">C</span></td></tr>\\n\\n<tr><td>张小明</td><td><span class=\"comments\">未完成</span></td><td><span class=\"correct\">3</span></td><td><span class=\"rank\">C</span></td></tr>\\n\\n</table>\\n</body>                                       #body部分结尾\\n</html>\\n'"
      ]
     },
     "execution_count": 1,
     "metadata": {},
     "output_type": "execute_result"
    }
   ],
   "source": [
    "#HTML基本结构：\n",
    "\n",
    "#我们来看上一节课抓取的 HTML 内容：\n",
    "\n",
    "\"\"\"\n",
    "<html>\n",
    "<head>                                         #head部分开头\n",
    "<title>欢迎来到扇贝编程</title>\n",
    "</head>                                        #head部分结尾\n",
    "<body>                                         #body部分开头\n",
    "<h1>网站爬虫测试</h1>\n",
    "\n",
    "<table border=\"2\">\n",
    "<tr>\n",
    "<td>姓名</td><td>画一只喵星人</td><td>正确题数</td><td>等级</td>\n",
    "</tr>\n",
    "<tr><td>阿强</td><td><span class=\"comments\">完成</span></td><td><span class=\"correct\">4</span></td><td><span class=\"rank\">A</span></td></tr>\n",
    "\n",
    "<tr><td>老王</td><td><span class=\"comments\">完成</span></td><td><span class=\"correct\">3</span></td><td><span class=\"rank\">B</span></td></tr>\n",
    "\n",
    "<tr><td>小芳</td><td><span class=\"comments\">完成</span></td><td><span class=\"correct\">2</span></td><td><span class=\"rank\">C</span></td></tr>\n",
    "\n",
    "<tr><td>张小明</td><td><span class=\"comments\">未完成</span></td><td><span class=\"correct\">3</span></td><td><span class=\"rank\">C</span></td></tr>\n",
    "\n",
    "</table>\n",
    "</body>                                       #body部分结尾\n",
    "</html>\n",
    "\"\"\"\n",
    "#我们需要知道的是，在HTML文件中，一般都有 head 部分和 body 部分。前者一般存放网页的标题（title）等信息，而后者一般承载网页的主体信息。"
   ]
  },
  {
   "cell_type": "code",
   "execution_count": 320,
   "metadata": {},
   "outputs": [
    {
     "name": "stdout",
     "output_type": "stream",
     "text": [
      "扇贝，知道你在改变\n"
     ]
    }
   ],
   "source": [
    "\"\"\"\n",
    "多行字符串存有HTML信息，已知在\n",
    "\n",
    "<title></title>\n",
    "之内的是该HTML的标题内容。\n",
    "\n",
    "请用你掌握的方法，输出该HTML的标题是什么。\n",
    "\"\"\"\n",
    "html_file = '''\n",
    "<!DOCTYPE html>\n",
    "    <head>\n",
    "        <meta charset=\"utf-8\">\n",
    "        <meta name=\"copyright\" content=\"Copyright 2009-2019. www.shanbay.com . All Rights Reserved.\" />\n",
    "        \n",
    "        <title>扇贝，知道你在改变</title>\n",
    "        <meta name=\"keywords\" content=\"英语 托福 GRE 考研 雅思 IELTS TOEFL SAT VOA BBC Quora 单词 听力 阅读 写作 口语 翻译 17bdc 背单词 单词量 单词量测试 单词 英语单词 背单词软件 英语学习网站\"/>\n",
    "        <meta name=\"description\" content=\"扇贝单词、扇贝听力、扇贝口语、扇贝新闻、扇贝读书、扇贝炼句，六大应用让你在手机上就可以完成整个学习过程，有效地提升英语词汇及听说读写能力。扇贝，知道你在改变。\" />\n",
    "        \n",
    "    <script src=\"https://tjs.sjs.sinajs.cn/open/api/js/wb.js\" type=\"text/javascript\" charset=\"utf-8\"></script>\n",
    "    </head>\n",
    "'''\n",
    "start = html_file.find(\"<title>\")\n",
    "end = html_file.find(\"</title>\")\n",
    "print(html_file[start+len(\"<title>\"):end])"
   ]
  },
  {
   "cell_type": "code",
   "execution_count": 321,
   "metadata": {},
   "outputs": [],
   "source": [
    "#如何查看网页HTML：还记得我们在学习字符串方法的时候，处理过一段 HTML 格式的字符串么？\n",
    "\n",
    "text = \"\"\"\n",
    "<!DOCTYPE html>\n",
    "<html>\n",
    "<head>\n",
    "  <title>买书网</title>\n",
    "</head>\n",
    "<body>\n",
    "<p id=\"item\">  Python爬虫实战  </p>\n",
    "<p id=\"price\">30.0元</p>\n",
    "</body>\n",
    "</html>\n",
    "\"\"\"\n",
    "#在抓取网页信息时，我们往往是带着目的去搜索“猎物”的。在这个例子中，我们需要找到书名 \"Python爬虫实战\" 和价格 \"30.0元\" 在HTML文件内的位置：首先它们都在 body 部分之中，而前者在 id = \"item\" 的段落（p）内，后者则在 id = \"price\" 的段落（p）内。所谓磨刀不误砍柴工，我们需要在写爬虫代码之前，好好分析目标网页的结构。那么，比较简单的办法是将浏览器打开至目标网页，点击鼠标右键，在菜单中选中 “检查”（注：有的系统中叫做“审查元素”或“检查元素”），点击 “检查” 之后，便能在屏幕右侧看见当前网页的HTML结构。"
   ]
  },
  {
   "cell_type": "code",
   "execution_count": 322,
   "metadata": {},
   "outputs": [
    {
     "name": "stdout",
     "output_type": "stream",
     "text": [
      "扇贝编程\n"
     ]
    }
   ],
   "source": [
    "\"\"\"\n",
    "请在电脑端浏览器打开以下网址：\n",
    "\n",
    "模拟扇贝网页https://web.shanbay.com/codetime/home?\n",
    "\n",
    "并用本节课学习到的方法，查看该网页HTML中\n",
    "\n",
    "<title></title>\n",
    "内的信息；\n",
    "\n",
    "将该信息作为字符串输出。\n",
    "\n",
    "注：建议手机用户在电脑上执行该操作，或者在此处使用答案。\n",
    "\"\"\"\n",
    "print(\"扇贝编程\")"
   ]
  },
  {
   "cell_type": "code",
   "execution_count": 323,
   "metadata": {},
   "outputs": [
    {
     "name": "stdout",
     "output_type": "stream",
     "text": [
      "['I', 'learn', 'Python.']\n",
      "I learn Python.\n",
      "2\n",
      "2\n"
     ]
    }
   ],
   "source": [
    "#筛选你想要的信息：当我们将 HTML 文件的内容抓取下来，接着就是清洗不必要的数据，保留我们想要的信息。在下节课中，我们会学习强大的正则表达式来帮助我们高效筛选文本数据。但在此之前，我们复习一下在字符串中学到的处理文本数据的方法：.split()、strip()、.count() 和 .find()。\n",
    "\n",
    "print(\"I learn Python.\".split(\" \"))\n",
    "# 输出： ['I', 'learn', 'Python.']\n",
    "\n",
    "print(\"    I learn Python.    \".strip())\n",
    "# 输出：I learn Python.\n",
    "\n",
    "print((\"I learn Python.\").count(\"n\"))\n",
    "# 输出：2\n",
    "\n",
    "print((\"I learn Python\").find(\"learn\"))\n",
    "# 输出：2"
   ]
  },
  {
   "cell_type": "code",
   "execution_count": 324,
   "metadata": {},
   "outputs": [
    {
     "name": "stdout",
     "output_type": "stream",
     "text": [
      "{'阿强': '完成', '老王': '完成', '小芳': '完成', '张小明': '未完成'}\n"
     ]
    }
   ],
   "source": [
    "#请用你学到的字符串方法，在 html_file 中提取学生的名字和任务完成的状态存入字典 status_complete 中。举例：\n",
    "\n",
    "status_complete = {\"阿强\":\"完成\"}\n",
    "\n",
    "html_file = \"\"\"\n",
    "<html>\n",
    "<head>                                         \n",
    "<title>欢迎来到扇贝编程</title>\n",
    "</head>                                        \n",
    "<body>                                         \n",
    "<h1>网站爬虫测试</h1>\n",
    "\n",
    "<table border=\"2\">\n",
    "<tr>\n",
    "<td>姓名</td><td>画一只喵星人</td><td>正确题数</td><td>等级</td>\n",
    "</tr>\n",
    "<tr><td>阿强</td><td><span class=\"comments\">完成</span></td><td><span class=\"correct\">4</span></td><td><span class=\"rank\">A</span></td></tr>\n",
    "\n",
    "<tr><td>老王</td><td><span class=\"comments\">完成</span></td><td><span class=\"correct\">3</span></td><td><span class=\"rank\">B</span></td></tr>\n",
    "\n",
    "<tr><td>小芳</td><td><span class=\"comments\">完成</span></td><td><span class=\"correct\">2</span></td><td><span class=\"rank\">C</span></td></tr>\n",
    "\n",
    "<tr><td>张小明</td><td><span class=\"comments\">未完成</span></td><td><span class=\"correct\">3</span></td><td><span class=\"rank\">C</span></td></tr>\n",
    "\n",
    "</table>\n",
    "</body>                                       \n",
    "</html>\n",
    "\"\"\"\n",
    "status_complete = {}\n",
    "# 据观察，每个 <tr><td> 之后是我们要找的人名\n",
    "for i in range(html_file.count(\"<tr><td>\")):\n",
    "    # 人名始于<tr><td> 之后\n",
    "    people_start = html_file.find(\"<tr><td>\")\n",
    "    # 获得人名数据\n",
    "    people = html_file[people_start+len(\"<tr><td>\"):].split(\"<\")[0]\n",
    "    # 完成任务的状态始于 \"comments\"> 之后\n",
    "    status_start = html_file.find(\"\\\"comments\\\">\")\n",
    "    # 获得状态数据\n",
    "    status = html_file[status_start+len(\"\\\"comments\\\">\"):].split(\"<\")[0]\n",
    "    # 字典status_complete 的键为人名，值为状态\n",
    "    status_complete[people] = status\n",
    "    # 将已获取的人名和状态数据从html_file中删去\n",
    "    html_file = html_file[status_start+len(\"\\\"comments\\\">\"):]\n",
    "    \n",
    "print(status_complete)"
   ]
  },
  {
   "cell_type": "code",
   "execution_count": 325,
   "metadata": {},
   "outputs": [
    {
     "name": "stdout",
     "output_type": "stream",
     "text": [
      "['I', 'learn', 'Python.']\n"
     ]
    }
   ],
   "source": [
    "\"\"\"\n",
    "HTML文件的基本组成部分是：head 和 body\n",
    "我们想看一个网页的HTML结构，可以在网页右键点击后，选择菜单中的：“检查”\n",
    "\"\"\"\n",
    "#下方代码的运行结果是：\n",
    "\n",
    "print(\"    I learn Python.    \".strip().split(\" \"))\n",
    "\n",
    "# .strip()先讲字符串前后的空格删去；.split(\" \") 将剩下的字符串按空格做切割。"
   ]
  },
  {
   "cell_type": "code",
   "execution_count": 326,
   "metadata": {},
   "outputs": [
    {
     "name": "stdout",
     "output_type": "stream",
     "text": [
      "第1篇标题：Why Is the World Book Day Celebrated on April 23rd?\n",
      "第2篇标题：Even Educators Believe These 7 Myths About Learning\n",
      "第3篇标题：Why Bananas Should Not Be a Part of Your Daily Diet\n",
      "第4篇标题：Technology Is Changing Transportation, and Cities Should Adapt\n",
      "第5篇标题：5 Things an Alien Scientist Would Find Weird About Humans\n",
      "第6篇标题：Internet Culture Gives Rise to New Ground Rules for Communicating\n",
      "第7篇标题：5 Questions to Ask When Starting a New Job\n",
      "第8篇标题：Research: Business School Really Does Influence How Students Make Decisions Later On\n",
      "第9篇标题：How To Support Your Partner When They're Dealing With Stress\n",
      "第10篇标题：A New State of Matter Has Been Found That Is Both Solid and Liquid\n"
     ]
    }
   ],
   "source": [
    "\"\"\"\n",
    "我们将扇贝新闻网页的HTML数据抓下来之后，将它们存入下方变量 shanbay_news 之中。\n",
    "\n",
    "我们想先将网页中的新闻标题抓取出来（标题如下图红框中所示）： \n",
    "\n",
    "经过对 shanbay_news 的观察，我们发现所有的标题都被包裹在此类字符串之中：\n",
    "\n",
    "标题\n",
    "<p class=\"img-news-title\">Why Is the World Book Day Celebrated on April 23rd?</p>\n",
    "\n",
    "或者\n",
    "<p class=\"news-title\">Why Bananas Should Not Be a Part of Your  Daily Diet</p>\n",
    "请按照下方注释行… 处要求补全代码。\n",
    "\n",
    "建议在电脑端浏览器打开该网页：https://assets.baydn.com/baydn/public/codetime/1/shanbay_news.html\n",
    "\n",
    "\"\"\"\n",
    "shanbay_news =\"\"\"<!DOCTYPE html>\n",
    "\n",
    "<head><meta charset=\"utf-8\"><title>扇贝新闻</title>\n",
    "<meta http-equiv=\"X-UA-Compatible\" content=\"IE=edge, chrome=1\">\n",
    "<meta name=\"viewport\" content=\"initial-scale=1,user-scalable=no,maximum-scale=1,width=device-width\"><link rel=\"icon\" type=\"image/png\" href=\"https://static.baydn.com/static/img/shanbay_favicon.png\"><link rel=\"stylesheet\" href=\"https://static.baydn.com/baydn/public/bay-components/v0.1.18/bay-components.min.css\"><link rel=\"stylesheet\" href=\"https://static.baydn.com/baydn/public/iconbay/v0.1.15/iconbay.css\">\n",
    "<link rel=\"stylesheet\" href=\"https://static.baydn.com/baydn/public/xbay/v1.9.16/client-ui.css\">\n",
    "<link rel=\"stylesheet\" href=\"https://static.baydn.com/news/public/client-news-a3dce622498adda2.css\">\n",
    "</head>\n",
    "\n",
    "<body>\n",
    "<div data-reactroot=\"\"><div class=\"sb-nav\">\n",
    "<div class=\"nav-sub\"><div class=\"container\">\n",
    "<ul><li><a class=\"active\">短文首页</a></li>\n",
    "<li><a>我的短文</a></li><li><a>短文计划</a>\n",
    "</li><li><a>短文进度</a></li></ul></div>\n",
    "</div></div><div class=\"container clearfix\" id=\"pageContainer\">\n",
    "<div class=\"pull-left page-content\"><div>\n",
    "<div class=\"img-news-display\"><a>\n",
    "<img src=\"https://media-image1.baydn.com/801f470db1661de3c90641b106290683db4ac4ccf42687382864b2ced63bf24f.png\" alt=\"文章图片\">\n",
    "<div class=\"img-news-info\"><p class=\"img-news-meta\"><span><!-- react-text: 39 -->难度：<!-- /react-text -->\n",
    "<!-- react-text: 40 -->六级/考研<!-- /react-text -->\n",
    "</span><span><!-- react-text: 42 -->单词：<!-- /react-text -->\n",
    "<!-- react-text: 43 -->349<!-- /react-text -->\n",
    "</span><span><!-- react-text: 45 -->读后感：<!-- /react-text -->\n",
    "<!-- react-text: 46 -->32<!-- /react-text -->\n",
    "</span></p><p class=\"img-news-title\">Why Is the World Book Day Celebrated on April 23rd?</p></div>\n",
    "</a></div><ul class=\"news\"><div><li class=\"\"><a><p class=\"news-title\">Even Educators Believe These 7 Myths About Learning</p><div class=\"clearfix\">\n",
    "<div class=\"news-img pull-left\"><img src=\"https://media-image1.baydn.com/00d576bf125e1ff5d0d4484ff381b2680260884a61a622ee3797925c0c8c2d09.png\" alt=\"thumbnail\">\n",
    "</div><div class=\"news-info pull-right\"><p class=\"news-summary\">Considering the popularity of brain teasers and brain-training apps, you'd think that people would know quite a bit about the brain's role in education. But according to a new ...</p>\n",
    "<p class=\"news-meta\"><span><!-- react-text: 60 -->难度：<!-- /react-text --><i>雅思/托福/专四</i></span><span><!-- react-text: 63 -->单词：<!-- /react-text --><i>546</i></span>\n",
    "<span><!-- react-text: 66 -->读后感：<!-- /react-text --><i>268</i></span></p></div></div></a></li></div><div><li class=\"\"><a><p class=\"news-title\">Why Bananas Should Not Be a Part of Your Daily Diet</p><div class=\"clearfix\">\n",
    "<div class=\"news-img pull-left\"><img src=\"https://media-image1.baydn.com/807edcb3234ad382b80c0a51528162513de6e1af65e5c59d932bc36d0c03c5a2.png\" alt=\"thumbnail\">\n",
    "</div><div class=\"news-info pull-right\"><p class=\"news-summary\">Bananas may seem like the perfect snack food. They are convenient in their own little single serving, ready-to-eat form and are rather delicious. But what if I told you ...</p><p class=\"news-meta\">\n",
    "<span><!-- react-text: 79 -->难度：<!-- /react-text --><i>四级</i></span><span><!-- react-text: 82 -->单词：<!-- /react-text --><i>656</i></span><span><!-- react-text: 85 -->读后感：<!-- /react-text --><i>221</i></span></p></div>\n",
    "</div></a></li></div><div><li class=\"\"><a><p class=\"news-title\">Technology Is Changing Transportation, and Cities Should Adapt</p><div class=\"clearfix\">\n",
    "<div class=\"news-img pull-left\"><img src=\"https://media-image1.baydn.com/fab445b7bafb396e4cf60fbe91e89f4b7cbe0c6fa7ed0199b48c971a9b86cd4e.png\" alt=\"thumbnail\">\n",
    "</div><div class=\"news-info pull-right\"><p class=\"news-summary\">It has taken only a few years for ride-hailing services to make urban journeys more convenient in many cities, much to the delight of city dwellers the world over. ...</p><p class=\"news-meta\">\n",
    "<span><!-- react-text: 98 -->难度：<!-- /react-text --><i>SAT/专八</i></span><span><!-- react-text: 101 -->单词：<!-- /react-text --><i>778</i></span><span><!-- react-text: 104 -->读后感：<!-- /react-text --><i>32</i>\n",
    "</span></p></div></div></a></li></div><div><li class=\"\"><a>\n",
    "<p class=\"news-title\">5 Things an Alien Scientist Would Find Weird About Humans</p>\n",
    "<div class=\"clearfix\"><div class=\"news-img pull-left\"><img src=\"https://media-image1.baydn.com/d59ff52d3580bfdd1413c73738e5a65df338e1af07a30673aaeec2a1052551f0.png\" alt=\"thumbnail\"></div><div class=\"news-info pull-right\"><p class=\"news-summary\">The Ape That Understood the Universe by Steve Stewart-Williams is a fantastic book about the evolution of human psychology and culture. It is packed with seriously interesting information from ...</p><p class=\"news-meta\"><span><!-- react-text: 117 -->难度：<!-- /react-text --><i>六级/考研</i></span><span><!-- react-text: 120 -->单词：<!-- /react-text --><i>942</i></span><span><!-- react-text: 123 -->读后感：<!-- /react-text --><i>72</i></span></p></div></div></a></li></div><div><li class=\"\"><a><p class=\"news-title\">Internet Culture Gives Rise to New Ground Rules for Communicating</p><div class=\"clearfix\"><div class=\"news-img pull-left\"><img src=\"https://media-image1.baydn.com/f5d17b1e805b8fcc09911c073eb8dbd73b40d4d3daa3f26e89a5aae5d8168951.png\" alt=\"thumbnail\"></div><div class=\"news-info pull-right\"><p class=\"news-summary\">Connecting with people has become much easier with advancing technology. Tasks that once required an operator, postage stamp or carrier pigeon are now as simple as tapping a name ...</p><p class=\"news-meta\"><span><!-- react-text: 136 -->难度：<!-- /react-text --><i>六级/考研</i></span><span><!-- react-text: 139 -->单词：<!-- /react-text --><i>862</i></span><span><!-- react-text: 142 -->读后感：<!-- /react-text --><i>39</i></span></p></div></div></a></li></div><div><li class=\"\"><a><p class=\"news-title\">5 Questions to Ask When Starting a New Job</p><div class=\"clearfix\"><div class=\"news-img pull-left\"><img src=\"https://media-image1.baydn.com/ed4cd941293716f2d198777abc4de7ca0408ba304d2f4e2adcb98a5b8a007d3d.png\" alt=\"thumbnail\"></div><div class=\"news-info pull-right\"><p class=\"news-summary\">The actions you take during your first few months in a new job have a major impact on your success or failure.  Build positive momentum early on and ...</p><p class=\"news-meta\"><span><!-- react-text: 155 -->难度：<!-- /react-text --><i>四级</i></span><span><!-- react-text: 158 -->单词：<!-- /react-text --><i>808</i></span><span><!-- react-text: 161 -->读后感：<!-- /react-text --><i>60</i></span></p></div></div></a></li></div><div><li class=\"newsitem-border-reset\"><a><p class=\"news-title\">Research: Business School Really Does Influence How Students Make Decisions Later On</p><div class=\"clearfix\"><div class=\"news-img pull-left\"><img src=\"https://media-image1.baydn.com/5e69ec1af995dc72a7003e3dfc363f6ac5ca83f4b6fdf4dcfb5d962e59689fac.png\" alt=\"thumbnail\"></div><div class=\"news-info pull-right\"><p class=\"news-summary\">The overarching goal of most business schools is to train future leaders to lead.  But how well schools meet this goal, and to what extent their teaching influences ...</p><p class=\"news-meta\"><span><!-- react-text: 174 -->难度：<!-- /react-text --><i>雅思/托福/专四</i></span><span><!-- react-text: 177 -->单词：<!-- /react-text --><i>1255</i></span><span><!-- react-text: 180 -->读后感：<!-- /react-text --><i>23</i></span></p></div></div></a></li></div><div><div class=\"news-date-seperator\">昨天</div><li class=\"\"><a><p class=\"news-title\">How To Support Your Partner When They're Dealing With Stress</p><div class=\"clearfix\"><div class=\"news-img pull-left\"><img src=\"https://media-image1.baydn.com/c745c960b4b9febd393ec5ed119218840e959ae58ce73c6a604802f1519ac69d.png\" alt=\"thumbnail\"></div><div class=\"news-info pull-right\"><p class=\"news-summary\">If you're anything like me, you've experienced stress at some point in your life.  If you've been in a relationship, maybe your partner has gone through a stressful ...</p><p class=\"news-meta\"><span><!-- react-text: 194 -->难度：<!-- /react-text --><i>六级/考研</i></span><span><!-- react-text: 197 -->单词：<!-- /react-text --><i>809</i></span><span><!-- react-text: 200 -->读后感：<!-- /react-text --><i>469</i></span></p></div></div></a></li></div><div><li class=\"\"><a><p class=\"news-title\">A New State of Matter Has Been Found That Is Both Solid and Liquid</p><div class=\"clearfix\"><div class=\"news-img pull-left\"><img src=\"https://media-image1.baydn.com/19a7173b388ef1a010575a1548abe4130187d5d5f4556364d7fcdf9eecf599c0.png\" alt=\"thumbnail\"></div><div class=\"news-info pull-right\"><p class=\"news-summary\">Matter is anything that takes up space. Matter goes through different stages. We know the stages are solid, liquid and gas. Now, though, scientists have found a new state. ...</p><p class=\"news-meta\"><span><!-- react-text: 213 -->难度：<!-- /react-text --><i>六级/考研</i></span><span><!-- react-text: 216 -->单词：<!-- /react-text --><i>413</i></span><span><!-- react-text: 219 -->读后感：<!-- /react-text --><i>686</i></span></p></div></div></a></li></div></ul><div class=\"pager-btn-container\"></div></div></div><div class=\"pull-right sideBar\"><div class=\"weekly-hot-news\"></script><script src=\"https://static.baydn.com/baydn/public/xbay/v1.9.16/client-tail.js\"></script><div><div class=\"gr_-editor gr-iframe-first-load\" style=\"display: none;\"><div class=\"gr_-editor_back\"></div><iframe class=\"gr_-ifr gr-_dialog-content\"></iframe></div></div><grammarly-card><div></div></grammarly-card></span></span>\n",
    "\n",
    "</body>\n",
    "</html>\"\"\"\n",
    "\n",
    "\n",
    "titles = []\n",
    "news_data = shanbay_news\n",
    "news_title = \"news-title\\\">\"\n",
    "for i in range(news_data.count(news_title)):\n",
    "    title_start = news_data.find(news_title)\n",
    "    titles.append(news_data[title_start+len(news_title):].split(\"<\")[0])\n",
    "    news_data = news_data[title_start+len(news_title):]\n",
    "\n",
    "for item in range(len(titles)):\n",
    "  print(\"第{}篇标题：{}\".format(item+1,titles[item]))"
   ]
  },
  {
   "cell_type": "code",
   "execution_count": 327,
   "metadata": {},
   "outputs": [],
   "source": [
    "# 10.3 爬虫（3）"
   ]
  },
  {
   "cell_type": "code",
   "execution_count": 328,
   "metadata": {},
   "outputs": [
    {
     "name": "stdout",
     "output_type": "stream",
     "text": [
      "老张@小明老师\n",
      "@阿强\n"
     ]
    }
   ],
   "source": [
    "#正则表达式：正则表达式使用单个字符串来描述、匹配一系列符合某个句法规则的字符串。在Python 中，我们需要通过调用 re 模块来使用正则表达式。\n",
    "\n",
    "import re\n",
    "record = [\"老张@小明老师\",\"小王阿强的同学\",\"@阿强\"]\n",
    "for item in record:\n",
    "    if re.search(\"@\",item):\n",
    "        print(item)\n",
    "# 输出：\n",
    "#老张@小明老师\n",
    "#@阿强\n",
    "#上方示例中，列表 record 中有三个字符串元素。我们通过 re.search() 筛选出包含符号 \"@\" 的元素，并将其输出。"
   ]
  },
  {
   "cell_type": "code",
   "execution_count": 329,
   "metadata": {},
   "outputs": [
    {
     "name": "stdout",
     "output_type": "stream",
     "text": [
      "¥23.0\n",
      "¥132.0\n",
      "¥110.0\n"
     ]
    }
   ],
   "source": [
    "\"\"\"\n",
    "列表 buy_items 中有若干商品的价格，有些是以人民币（¥）为单位，有些则是以美元（$）为单位。\n",
    "\n",
    "请补全下方注释… 处代码，输出 buy_items 中所有以人民币为单位的商品。\n",
    "\"\"\"\n",
    "import re\n",
    "buy_items = [\"¥23.0\",\"¥132.0\",\"$6.90\",\"$19.0\",\"$12.0\",\"¥110.0\"]\n",
    "\n",
    "for item in buy_items:\n",
    "    if re.search(\"¥\",item):\n",
    "        print(item)"
   ]
  },
  {
   "cell_type": "code",
   "execution_count": 330,
   "metadata": {},
   "outputs": [
    {
     "name": "stdout",
     "output_type": "stream",
     "text": [
      "@阿强\n"
     ]
    }
   ],
   "source": [
    "# ^ 符号：正则表达式的强大不仅体现在之前学到的 re.search() 和 re.findall() 之上，它还拥有强大的符号系统来匹配目标字符串。我们先看 ^ 符号，它表示 “匹配字符串的开头”。具体看示例：\n",
    "\n",
    "import re\n",
    "record = [\"老张@小明老师\",\"小王阿强的同学\",\"@阿强\"]\n",
    "for item in record:\n",
    "    if re.search(\"^@\",item):\n",
    "        print(item)\n",
    "#输出：@阿强\n",
    "#在re.search() 中，我们在 \"@\" 前加了一个 ^ 符号，代表我们要找的字符串满足以 \"@\" 开头，也就是 \"@\" 需要是第一个字符。 record 包含的三个字符串元素中，只有 \"@阿强\" 符合要求。"
   ]
  },
  {
   "cell_type": "code",
   "execution_count": 331,
   "metadata": {},
   "outputs": [
    {
     "name": "stdout",
     "output_type": "stream",
     "text": [
      "老张@小明老师\n",
      "小王阿强的同学\n"
     ]
    }
   ],
   "source": [
    "#请对下方代码做修改，输出 record 中首字符不是 \"@\" 的元素。\n",
    "import re\n",
    "record = [\"老张@小明老师\",\"小王阿强的同学\",\"@阿强\"]\n",
    "for item in record:\n",
    "    if re.search(\"^@\",item):\n",
    "        continue\n",
    "    else:\n",
    "        print(item)"
   ]
  },
  {
   "cell_type": "code",
   "execution_count": 334,
   "metadata": {},
   "outputs": [
    {
     "name": "stdout",
     "output_type": "stream",
     "text": [
      "老张@小明老师/\n",
      "@/\n"
     ]
    }
   ],
   "source": [
    "#. 和 *：除了 ^ 之外，还有两个符号，我们会经常用到：. 可以匹配任意字符，而 * 表示匹配任意次（从0到无限）。我们来看例子理解：\n",
    "\n",
    "import re\n",
    "record = [\"老张@小明老师/\",\"小王阿强的同学/\",\"@阿强\",\"@/\"]\n",
    "for item in record:\n",
    "    if re.search(\"@.*/\",item):\n",
    "        print(item)\n",
    "# 输出：\n",
    "# 老张@小明老师/\n",
    "# @/\n",
    "# 上方示例中，在 record 中筛选符合 @.*/模式的字符串：符号 @ 和 / 之间有任意数量的任意字符。因此 \"老张@小明老师/\" 和 \"@/\" 符合要求。"
   ]
  },
  {
   "cell_type": "code",
   "execution_count": 335,
   "metadata": {},
   "outputs": [
    {
     "name": "stdout",
     "output_type": "stream",
     "text": [
      "20190401_xuexi@168.cn\n",
      "python_good@hotmail.cn\n"
     ]
    }
   ],
   "source": [
    "# email_addr 中有若干抓取下来的邮箱地址，请补全注释行... 处代码，令代码输出邮箱地址符合以下规则：\"@\" 与 \"cn\" 中间有任意数量的任意字符。\n",
    "import re\n",
    "email_addr = [\"woxuepython@qq.com\",\n",
    "              \"20190401_xuexi@168.cn\",\n",
    "              \"python_learn.cn\",\n",
    "              \"aixuepython@163.com\",\n",
    "              \"python_good@hotmail.cn\",\n",
    "              \"python_365@foxmail.com\"]\n",
    "for email in email_addr:\n",
    "    if re.search(\"@.*cn\",email):\n",
    "        print(email)"
   ]
  },
  {
   "cell_type": "code",
   "execution_count": 336,
   "metadata": {},
   "outputs": [],
   "source": [
    "# 下列代码可以调用正则表达式模块的是：import re\n",
    "# re.findall() 返回的数据类型是：列表\n",
    "# 在正则表达式中，* 表示的含义为：从0到无限任意次数"
   ]
  },
  {
   "cell_type": "code",
   "execution_count": 338,
   "metadata": {},
   "outputs": [
    {
     "data": {
      "text/plain": [
       "'读后感：<!-- /react-text --><i>221</i>'"
      ]
     },
     "execution_count": 338,
     "metadata": {},
     "output_type": "execute_result"
    }
   ],
   "source": [
    "\"\"\"\n",
    "变量 shanbay_news 中存储着我们之前抓取下来的扇贝新闻网页数据。我们在上一节课中，找到了页面上10篇新闻的标题。接下来，我们将结合正则表达式，找到10篇新闻分别对应的读后感数量。\n",
    "\n",
    "在动手之前，我们先观察分析网页的布局：\n",
    "\n",
    "\n",
    "\n",
    "截图中，我们看到每个新闻都配有一个读后感的数字。再结合 shanbay_news 中的数据，我们发现它们分别与以下字符串对应，以前三篇举例：\n",
    "\"\"\"\n",
    "\n",
    "# 第一篇读后感数量：32\n",
    "\"读后感：<!-- /react-text --><!-- react-text: 46 --><i>32</i>\"\n",
    "# 第二篇读后感数量：268\n",
    "\"读后感：<!-- /react-text --><i>268</i>\"\n",
    "# 第三篇读后感数量：221\n",
    "\"读后感：<!-- /react-text --><i>221</i>\"\n",
    "#这三行字符串都有共同的形式：以\"读后感\" 开头，以\n",
    "\n",
    "#</i>\n",
    "#结尾。具体的读后感数字被包裹在\n",
    "\n",
    "#<i></i> \n",
    "#这样的结构中。\n",
    "\n",
    "#接下来请补全 注释 行 … 处代码：用正则表达式将包裹 10 篇新闻读后感数量的字符串提取出来，以备下一节课使用。\n",
    "\n",
    "#建议在电脑端浏览器登陆该网页：https://assets.baydn.com/baydn/public/codetime/1/shanbay_news.html"
   ]
  },
  {
   "cell_type": "code",
   "execution_count": 339,
   "metadata": {},
   "outputs": [],
   "source": [
    "# 10.4 爬虫（4）"
   ]
  },
  {
   "cell_type": "code",
   "execution_count": 340,
   "metadata": {},
   "outputs": [
    {
     "name": "stdout",
     "output_type": "stream",
     "text": [
      "老张@小明老师/\n",
      "@嘿/\n",
      "-----\n",
      "老张@小明老师/\n",
      "@/\n",
      "@嘿/\n"
     ]
    }
   ],
   "source": [
    "#更多符号：Python关于 re 的文档中有更多的符号供我们参考使用。\n",
    "\n",
    "#re 的官方文档: https://docs.python.org/3/library/re.html\n",
    "\n",
    "#比如，我们想查询 \"+\" 符号的用法，可以看到对应的解释：匹配前面的子表达式一次或多次。例如，\"zo+\" 能匹配 \"zo\" 以及 \"zoo\"，但不能匹配 \"z\"。它与之前学到的 * 有些许差异，我们来看例子比较：\n",
    "\n",
    "import re\n",
    "record = [\"老张@小明老师/\",\"小王阿强的同学/\",\"@阿强\",\"@/\",\"@嘿/\"]\n",
    "for item in record:\n",
    "    # 规则：@.+/\n",
    "    if re.search(\"@.+/\",item):\n",
    "        print(item)\n",
    "print(\"-----\")\n",
    "for item in record:   \n",
    "    # 规则：@.*/\n",
    "    if re.search(\"@.*/\",item):\n",
    "        print(item)\n",
    "# 下方为程序输出：\n",
    "# 老张@小明老师/\n",
    "# @嘿/\n",
    "# -----\n",
    "# 老张@小明老师/\n",
    "# @/\n",
    "# @嘿/\n",
    "# 比较发现，用 \"@.*/\" 规则比 \"@.+/\" 规则多输出了一个 \"@/\"。这是因为 * 表示0或任意次数，而 \"+\" 表示至少一次或任意次数。在 \"@/\" 中，\"@\" 与 \"/\" 之间没有字符，因此只符合 \"@.*/\" 规则。"
   ]
  },
  {
   "cell_type": "code",
   "execution_count": 341,
   "metadata": {},
   "outputs": [
    {
     "name": "stdout",
     "output_type": "stream",
     "text": [
      "aaabbb\n"
     ]
    }
   ],
   "source": [
    "# 阅读下方代码，猜测 text 中哪些元素将被输出；点击运行，看看自己的猜测是否正确。\n",
    "import re\n",
    "text = [\"aaabbb\", \"abbb\",\"aab\"]\n",
    "\n",
    "for item in text:\n",
    "    if re.search(\"aa.+b\",item):\n",
    "        print(item)"
   ]
  },
  {
   "cell_type": "code",
   "execution_count": 342,
   "metadata": {},
   "outputs": [
    {
     "name": "stdout",
     "output_type": "stream",
     "text": [
      "apple\n",
      "banana\n"
     ]
    }
   ],
   "source": [
    "#数字和字母：可以用 [0-9] 来代表从0至9共十个数字中的任意一个。\n",
    "\n",
    "import re\n",
    "buy = \"我今天买鸡腿花了10块钱，买排骨花了13块钱，买苹果花了7元。\"\n",
    "re.findall(\"[0-9]+\",buy)\n",
    "# 输出：['10', '13', '7']\n",
    "# 上方示例中，\"[0-9]+\" 表示一个或多个从数字0至9组成的字符串，比如 \"10\"，\"13\" 和\"7\"。\n",
    "\n",
    "# 类似地，我们可以用 [a-z] 代表 从小写a到z，26个字母中的一个；用 [A-Z] 代表从大写A到Z，26个字母的一个。如果规则中的字母并不多，我们也可以将其一个个敲出来，比如 \"[abc]\" 代表符合 abc 三个字母中的一个。\n",
    "\n",
    "fruit = [\"apple\",\"pineapple\",\"banana\",\"watermelon\",\"cherry\"]\n",
    "for f in fruit:\n",
    "    if re.search(\"^[ab]\",f):\n",
    "        print(f)\n",
    "# 输出\n",
    "# apple\n",
    "# banana\n",
    "# 上例输出列表 fruit 中首字母为小写 \"a\" 或者小写 \"b\" 的元素：apple 和 banana。"
   ]
  },
  {
   "cell_type": "code",
   "execution_count": 343,
   "metadata": {},
   "outputs": [
    {
     "name": "stdout",
     "output_type": "stream",
     "text": [
      "Mike\n",
      "Pessilia\n",
      "Pong\n"
     ]
    }
   ],
   "source": [
    "# 下方 names 包含了若干首字母大写的英文人名。\n",
    "\n",
    "# 请补全注释行… 代码，输出其中首字母为 M 或者 P 的人名。\n",
    "import re\n",
    "names = [\"Joe\",\"Jasmine\",\"Mike\",\"Pessilia\",\"Pong\",\"Sophie\"]\n",
    "for name in names:\n",
    "    if re.search(\"^[MP]\",name):\n",
    "        print(name)"
   ]
  },
  {
   "cell_type": "code",
   "execution_count": 344,
   "metadata": {},
   "outputs": [
    {
     "name": "stdout",
     "output_type": "stream",
     "text": [
      "woxuepython@qq.com\n",
      "aixuepython@163.com\n",
      "python_365_cn@foxmail.com\n"
     ]
    }
   ],
   "source": [
    "# $符号：与 ^ 表示开头字符相对的，是 $ 符号，用来表示以某字符串结尾：\n",
    "\n",
    "email_addr = [\"woxuepython@qq.com\",\"20190401_xuexi@168.cn\",\"python_learn.cn\",\\\n",
    "              \"aixuepython@163.com\",\"python_good_com@hotmail.cn\",\"python_365_cn@foxmail.com\"]\n",
    "for email in email_addr:\n",
    "    if re.search(\"com$\",email):\n",
    "        print(email)\n",
    "# 输出：\n",
    "# woxuepython@qq.com\n",
    "# aixuepython@163.com\n",
    "# python_365_cn@foxmail.com\n",
    "# 上方示例中，筛选 email_addr 中以 \"com\" 结尾的元素，你会发现 \"python_good_com@hotmail.cn\" 虽然包含 \"com\"，但是 \"com\" 不在字符串结尾，所以不符合要求。"
   ]
  },
  {
   "cell_type": "code",
   "execution_count": 345,
   "metadata": {},
   "outputs": [
    {
     "name": "stdout",
     "output_type": "stream",
     "text": [
      "20190401_xuexi@168.cn\n",
      "python_learn.cn\n",
      "python_good_com@hotmail.cn\n"
     ]
    }
   ],
   "source": [
    "# email_addr 中有若干抓取下来的邮箱地址，请补全注释行... 处代码，令代码输出邮箱地址以\"cn\" 结尾。\n",
    "import re\n",
    "email_addr = [\n",
    "  \"woxuepython@qq.com\",\n",
    "  \"20190401_xuexi@168.cn\",\n",
    "  \"python_learn.cn\",\n",
    "  \"aixuepython@163.com\",\n",
    "  \"python_good_com@hotmail.cn\",\n",
    "  \"python_365_cn@foxmail.com\"\n",
    "  ]\n",
    "for email in email_addr:\n",
    "    if re.search(\"cn$\",email):\n",
    "        print(email)"
   ]
  },
  {
   "cell_type": "code",
   "execution_count": 346,
   "metadata": {},
   "outputs": [
    {
     "data": {
      "text/plain": [
       "'\\n贪婪匹配原则：在默认情况下 * 和 + 符号返回的字符串为符合条件下的最大值。具体请参考下方示例：\\n\\nprint(re.findall(\"a.*b\",\"aabbabaabaa\"))\\n# 输出：[\\'aabbabaab\\']\\n在示例中，目标在 \"aabbabaabaa\" 中找符合 \"a.*b\" 规则的字符串，结果返回 \\'aabbabaab\\'。规则 \"a.*b\" 表示满足 a至b中间有任意次数的任意字符，由于贪婪匹配原则，所以取到最后一个字母b截止。符号 + 和 * 一样，也默认遵循贪婪匹配原则，此处不再举例。\\n\\n如何避免贪婪匹配？我们可以使用符号 \"?\"，具体请看图中示例：\\n\\nprint(re.findall(\"a.*?b\",\"aabbabaabaa\"))\\n#输出：[\\'aab\\', \\'ab\\', \\'aab\\']\\n符号 ? 在 * 与 \"b\" 之间，表示“取到遇见字母b为止”，当第一次遇见\"b\" 时，即满足规则——贪婪匹配原则被打破，因此输出为 [\\'aab\\', \\'ab\\', \\'aab\\']。\\n'"
      ]
     },
     "execution_count": 346,
     "metadata": {},
     "output_type": "execute_result"
    }
   ],
   "source": [
    "\"\"\"\n",
    "贪婪匹配原则：在默认情况下 * 和 + 符号返回的字符串为符合条件下的最大值。具体请参考下方示例：\n",
    "\n",
    "print(re.findall(\"a.*b\",\"aabbabaabaa\"))\n",
    "# 输出：['aabbabaab']\n",
    "在示例中，目标在 \"aabbabaabaa\" 中找符合 \"a.*b\" 规则的字符串，结果返回 'aabbabaab'。规则 \"a.*b\" 表示满足 a至b中间有任意次数的任意字符，由于贪婪匹配原则，所以取到最后一个字母b截止。符号 + 和 * 一样，也默认遵循贪婪匹配原则，此处不再举例。\n",
    "\n",
    "如何避免贪婪匹配？我们可以使用符号 \"?\"，具体请看图中示例：\n",
    "\n",
    "print(re.findall(\"a.*?b\",\"aabbabaabaa\"))\n",
    "#输出：['aab', 'ab', 'aab']\n",
    "符号 ? 在 * 与 \"b\" 之间，表示“取到遇见字母b为止”，当第一次遇见\"b\" 时，即满足规则——贪婪匹配原则被打破，因此输出为 ['aab', 'ab', 'aab']。\n",
    "\"\"\""
   ]
  },
  {
   "cell_type": "code",
   "execution_count": 347,
   "metadata": {},
   "outputs": [
    {
     "name": "stdout",
     "output_type": "stream",
     "text": [
      "['@阿强//', '@小明老师:[呵呵]//', '@老张：这是啥？//']\n"
     ]
    }
   ],
   "source": [
    "# 请添加 ? ，将下列代码改为非贪婪原则匹配：符合要求的字符串满足 在 @ 和 // 之间有任意数量的任意字符。\n",
    "import re\n",
    "weibo_text = \"快来看@阿强//@小明老师:[呵呵]//@老张：这是啥？//\"\n",
    "print(re.findall(\"@.+?//\",weibo_text))"
   ]
  },
  {
   "cell_type": "code",
   "execution_count": 348,
   "metadata": {},
   "outputs": [
    {
     "name": "stdout",
     "output_type": "stream",
     "text": [
      "['来自：使用：']\n"
     ]
    }
   ],
   "source": [
    "# 在正则表达式中，+ 表示的含义为：表示从1到无限任意次数。\n",
    "x = '来自：使用：符号'\n",
    "y = re.findall('^来自.+：', x)\n",
    "print(y)\n",
    "# ? 可以避免贪婪匹配原则。"
   ]
  },
  {
   "cell_type": "code",
   "execution_count": 349,
   "metadata": {},
   "outputs": [
    {
     "name": "stdout",
     "output_type": "stream",
     "text": [
      "第1篇读后感数量：32\n",
      "第2篇读后感数量：268\n",
      "第3篇读后感数量：221\n",
      "第4篇读后感数量：32\n",
      "第5篇读后感数量：72\n",
      "第6篇读后感数量：39\n",
      "第7篇读后感数量：60\n",
      "第8篇读后感数量：23\n",
      "第9篇读后感数量：469\n",
      "第10篇读后感数量：686\n"
     ]
    }
   ],
   "source": [
    "#在上一节课中，我们将读后感数据所在的字符串找了出来，存在 find_reviews 中：\n",
    "\n",
    "find_reviews =  [\n",
    "'读后感：<!-- /react-text --><!-- react-text: 46 --><i>32</i>',\n",
    " '读后感：<!-- /react-text --><i>268</i>',\n",
    " '读后感：<!-- /react-text --><i>221</i>',\n",
    " '读后感：<!-- /react-text --><i>32</i>',\n",
    " '读后感：<!-- /react-text --><i>72</i>',\n",
    " '读后感：<!-- /react-text --><i>39</i>',\n",
    " '读后感：<!-- /react-text --><i>60</i>',\n",
    " '读后感：<!-- /react-text --><i>23</i>',\n",
    " '读后感：<!-- /react-text --><i>469</i>',\n",
    " '读后感：<!-- /react-text --><i>686</i>'\n",
    " ]\n",
    "#通过观察，我们发现读后感数字被包裹在 >< 之中，请补全注释行… 处的代码，找到 find_reviews 中每个元素中，被包裹在 >< 之中的数字，也就是我们需要寻找的读后感数字。\n",
    "\n",
    "#建议在电脑端浏览器登陆该网页：https://assets.baydn.com/baydn/public/codetime/1/shanbay_news.html\n",
    "find_reviews = [\n",
    " '读后感：<!-- /react-text --><!-- react-text: 46 --><i>32</i>',\n",
    " '读后感：<!-- /react-text --><i>268</i>',\n",
    " '读后感：<!-- /react-text --><i>221</i>',\n",
    " '读后感：<!-- /react-text --><i>32</i>',\n",
    " '读后感：<!-- /react-text --><i>72</i>',\n",
    " '读后感：<!-- /react-text --><i>39</i>',\n",
    " '读后感：<!-- /react-text --><i>60</i>',\n",
    " '读后感：<!-- /react-text --><i>23</i>',\n",
    " '读后感：<!-- /react-text --><i>469</i>',\n",
    " '读后感：<!-- /react-text --><i>686</i>'\n",
    " ]\n",
    " \n",
    "import re\n",
    "count = 1\n",
    "for review in find_reviews:\n",
    "    # 找到 review 中，以 > 开头\n",
    "    # 以 < 结尾，并且 > 与 < 之间包含\n",
    "    # 至少一个阿拉伯数字的部分，存入 news_review\n",
    "    news_review = re.findall(\">[0-9]+<\",review)\n",
    "    # news_review 中只有一个元素\n",
    "    # 类似为 \">32<\" 这样的字符串\n",
    "    # 我们用 [1:-1] 取字符串中间的数字部分\n",
    "    print(\"第{}篇读后感数量：{}\".format(count,news_review[0][1:-1]))\n",
    "    count += 1"
   ]
  },
  {
   "cell_type": "code",
   "execution_count": 350,
   "metadata": {},
   "outputs": [],
   "source": [
    "# 11.1 类与面向对象编程（1）"
   ]
  },
  {
   "cell_type": "code",
   "execution_count": 351,
   "metadata": {},
   "outputs": [
    {
     "name": "stdout",
     "output_type": "stream",
     "text": [
      "<class 'dict'>\n",
      "<class 'list'>\n",
      "<class 'int'>\n"
     ]
    }
   ],
   "source": [
    "#type()：Python中有各种类型供存储数据。比如，我们之前学过的 float、str、int、list 和 dict 都是不同的类型。我们可以对不同类型的数据做不同的操作。比如，我们可以用 + 将两个字符串联结。但是，我们不能用 + 合并两个字典。又比如，我们可以用 len() 得到字典的长度，但是不能用len() 对 int 数据做操作。 最后，需要知道的是，我们可以用 type() 来得到一个数据的类型。\n",
    "\n",
    "print(type({\"1\":123}))\n",
    "print(type([1,2,3]))\n",
    "print(type(123))\n",
    "\n",
    "# 输出：<class 'dict'>\n",
    "# 输出：<class 'list'>\n",
    "# 输出：<class 'int'>\n",
    "#示例中数据分别为 dict、list 和 int 三种类型。"
   ]
  },
  {
   "cell_type": "code",
   "execution_count": 352,
   "metadata": {},
   "outputs": [
    {
     "name": "stdout",
     "output_type": "stream",
     "text": [
      "<class 'str'>\n"
     ]
    }
   ],
   "source": [
    "# 输出变量 text 的类型。\n",
    "text = \"我不是列表，也不是字典\"\n",
    "print(type(text))"
   ]
  },
  {
   "cell_type": "code",
   "execution_count": 2,
   "metadata": {},
   "outputs": [],
   "source": [
    "#类：类（class）可以定义数据类型，决定我们如何使用该数据类型。我们用关键字 class 来创建类，一般建议将类的首字母大写：\n",
    "\n",
    "class Myclass:\n",
    "  pass\n",
    "#示例中，我们创建了一个叫 Myclass 的类，有时我们还不确定在类中添置什么样的代码，类可以暂时为空，为了避免运行错误，在类中先写上关键字 pass。"
   ]
  },
  {
   "cell_type": "code",
   "execution_count": 3,
   "metadata": {},
   "outputs": [],
   "source": [
    "# 按照下方要求，完成相应操作：\n",
    "\n",
    "# 1.创建一个名为 Firstclass 的类；\n",
    "\n",
    "# 2.Firstclass 中代码：pass。\n",
    "class Firstclass:\n",
    "    pass"
   ]
  },
  {
   "cell_type": "code",
   "execution_count": 4,
   "metadata": {},
   "outputs": [],
   "source": [
    "#类的实例：我们需要为类创建实例，方法类似调用函数。\n",
    "\n",
    "class Myclass:\n",
    "  pass\n",
    "my_thing = Myclass()\n",
    "#示例中，我们为类 Myclass 创建了一个实例，并将其赋值于变量 my_thing。"
   ]
  },
  {
   "cell_type": "code",
   "execution_count": 5,
   "metadata": {},
   "outputs": [],
   "source": [
    "\"\"\"\n",
    "请按照要求，完成相应操作：\n",
    "\n",
    "1.为类 Firstclass 创建一个实例；\n",
    "\n",
    "2.将该实例赋值于变量 first_thing。class Firstclass: pass\n",
    "\"\"\"\n",
    "class Firstclass:\n",
    "    pass\n",
    "first_thing = Firstclass()"
   ]
  },
  {
   "cell_type": "code",
   "execution_count": 6,
   "metadata": {},
   "outputs": [
    {
     "name": "stdout",
     "output_type": "stream",
     "text": [
      "<class 'float'>\n",
      "<class 'int'>\n",
      "<class 'str'>\n"
     ]
    }
   ],
   "source": [
    "print(type(1.0))\n",
    "print(type(1))\n",
    "print(type(\"1\"))\n",
    "# 1.0，1和 \"1\" 的类型分别为：float 、int 和 str。"
   ]
  },
  {
   "cell_type": "code",
   "execution_count": 358,
   "metadata": {},
   "outputs": [],
   "source": [
    "class Myclass:\n",
    "  pass\n",
    "my_thing = Myclass()"
   ]
  },
  {
   "cell_type": "code",
   "execution_count": 359,
   "metadata": {},
   "outputs": [
    {
     "name": "stdout",
     "output_type": "stream",
     "text": [
      "<class 'str'>\n",
      "<class 'list'>\n",
      "<class 'dict'>\n"
     ]
    }
   ],
   "source": [
    "\"\"\"\n",
    "请为下列变量赋值，令代码运行结果为：\n",
    "\n",
    "<class 'str'>\n",
    "<class 'list'>\n",
    "<class 'dict'>\n",
    "\"\"\"\n",
    "var1 = \"Python\"\n",
    "var2 = [\"Python\"]\n",
    "var3 = {\"Python\":\"Python\"}\n",
    "print(type(var1))\n",
    "print(type(var2))\n",
    "print(type(var3))"
   ]
  },
  {
   "cell_type": "code",
   "execution_count": 360,
   "metadata": {},
   "outputs": [],
   "source": [
    "# 11.2 类与面向对象编程（2）"
   ]
  },
  {
   "cell_type": "code",
   "execution_count": 361,
   "metadata": {},
   "outputs": [
    {
     "name": "stdout",
     "output_type": "stream",
     "text": [
      "<class '__main__.Myclass'>\n"
     ]
    }
   ],
   "source": [
    "#面向对象编程：上节我们学习的类的实例也可以称作为对象，这种通过定义类及创建对象的编程模式被称为“面向对象编程”。我们可以用 type() 来得到一个对象所在的类：\n",
    "\n",
    "class Myclass:\n",
    "  pass\n",
    "my_thing = Myclass()\n",
    "print(type(my_thing))\n",
    "#输出： <class '__main__.Myclass'>\n",
    "#示例中的 __main__ 意味着 “正在运行的文件”。因此，通过 <class '__main__.Myclass'> 我们知道， Myclass 是在我们正在运行文件中所定义的类。"
   ]
  },
  {
   "cell_type": "code",
   "execution_count": 362,
   "metadata": {},
   "outputs": [
    {
     "name": "stdout",
     "output_type": "stream",
     "text": [
      "<class '__main__.Firstclass'>\n"
     ]
    }
   ],
   "source": [
    "# 输出 first_thing 的类。\n",
    "class Firstclass:\n",
    "  pass\n",
    "first_thing = Firstclass()\n",
    "print(type(first_thing))"
   ]
  },
  {
   "cell_type": "code",
   "execution_count": 363,
   "metadata": {},
   "outputs": [
    {
     "name": "stdout",
     "output_type": "stream",
     "text": [
      "智能手机\n"
     ]
    }
   ],
   "source": [
    "# 类的变量：我们可以在类中创建类的变量，类的变量对类的对象都一致。我们可以通过 对象名.变量名 的方式来获取变量的值。参见示例：\n",
    "\n",
    "class Myclass:\n",
    "  name = \"智能手机\"\n",
    "my_thing = Myclass()\n",
    "print(my_thing.name)\n",
    "# 输出：智能手机\n",
    "# 示例中，我们在类 Myclass 中创建一个变量 name，赋值为 \"智能手机\"。my_thing 是类Myclass的一个对象，my_thing.name 的值为 \"智能手机\"。"
   ]
  },
  {
   "cell_type": "code",
   "execution_count": 364,
   "metadata": {},
   "outputs": [
    {
     "name": "stdout",
     "output_type": "stream",
     "text": [
      "小贝\n"
     ]
    }
   ],
   "source": [
    "\"\"\"\n",
    "请按照下方要求，补全注释行…处代码：\n",
    "\n",
    "1.在类 Firstclass 中创建变量 called，赋值为 \"小贝\"；\n",
    "\n",
    "2.输出 first_thing.called。\n",
    "\"\"\"\n",
    "class Firstclass:\n",
    "  called = \"小贝\"\n",
    "first_thing = Firstclass()\n",
    "print(first_thing.called)"
   ]
  },
  {
   "cell_type": "code",
   "execution_count": 365,
   "metadata": {},
   "outputs": [
    {
     "name": "stdout",
     "output_type": "stream",
     "text": [
      "叮铃铃铃……\n"
     ]
    }
   ],
   "source": [
    "# 方法：我们之前见过一些 Python内置数据类型的方法，比如针对字典类数据的 get()。方法实质上是类中定义的函数，它至少有一个参数，其中第一个参数总是该调用方法的对象，习惯上我们将第一个参数命名为 self。\n",
    "\n",
    "class Myphone:\n",
    "  def ring(self):\n",
    "    print(\"叮铃铃铃……\")\n",
    "phone = Myphone()\n",
    "phone.ring()\n",
    "# 输出：叮铃铃铃……\n",
    "# 示例中，类 Myphone 中定义了一个方法 ring()，phone 为 Myphone 的一个对象，当 phone 调用方法 ring() 时，程序输出 \"叮铃铃铃……\"。"
   ]
  },
  {
   "cell_type": "code",
   "execution_count": 366,
   "metadata": {},
   "outputs": [
    {
     "name": "stdout",
     "output_type": "stream",
     "text": [
      "汪汪汪\n"
     ]
    }
   ],
   "source": [
    "\"\"\"\n",
    "请按照下方要求，补全注释行…处代码：\n",
    "\n",
    "1.在类Dog中创建方法bark()；\n",
    "\n",
    "2.bark() 中输出\"汪汪汪\"；\n",
    "\n",
    "3.a_huang 为类Dog的一个对象；\n",
    "\n",
    "4.a_huang调用方法bark()。\n",
    "\"\"\"\n",
    "class Dog:\n",
    "  name = \"阿黄\"\n",
    "  def bark(self):\n",
    "    print(\"汪汪汪\")\n",
    "a_huang = Dog()\n",
    "a_huang.bark()"
   ]
  },
  {
   "cell_type": "code",
   "execution_count": 367,
   "metadata": {},
   "outputs": [
    {
     "name": "stdout",
     "output_type": "stream",
     "text": [
      "Sammi\n"
     ]
    }
   ],
   "source": [
    "class Dog:\n",
    "    name = \"Sammi\"\n",
    "sammi = Dog()\n",
    "print(sammi.name)\n",
    "# 类Dog中的变量name 赋值为 \"Sammi\"。"
   ]
  },
  {
   "cell_type": "code",
   "execution_count": 368,
   "metadata": {},
   "outputs": [
    {
     "name": "stdout",
     "output_type": "stream",
     "text": [
      "<class '__main__.Dog'>\n"
     ]
    }
   ],
   "source": [
    "class Dog:\n",
    "    name = \"Sammi\"\n",
    "sammi = Dog()\n",
    "\n",
    "print(type(sammi))\n",
    "# sammi 是类Dog的一个对象，sammi所属的类为 Dog。"
   ]
  },
  {
   "cell_type": "code",
   "execution_count": 369,
   "metadata": {},
   "outputs": [],
   "source": [
    "# 一般以 self 来命名方法的第一个参数"
   ]
  },
  {
   "cell_type": "code",
   "execution_count": 370,
   "metadata": {},
   "outputs": [
    {
     "name": "stdout",
     "output_type": "stream",
     "text": [
      "佩奇\n",
      "粉色\n",
      "女\n"
     ]
    }
   ],
   "source": [
    "\"\"\"\n",
    "啥是小猪佩奇？我们来创建一个小猪佩奇吧！\n",
    "\n",
    "请按照要求，补全注释行…处代码：\n",
    "\n",
    "1.创建类Peppa；\n",
    "\n",
    "2.类Peppa中创建变量：\n",
    "\n",
    "called，赋值\"佩奇\"；\n",
    "\n",
    "color，赋值\"粉色\"；\n",
    "\n",
    "sex，赋值\"女\"\n",
    "\n",
    "3.创建类Peppa的一个对象，名为peppa_pig；\n",
    "\n",
    "4.输出peppa_pig.called；\n",
    "\n",
    "5.输出peppa_pig.color；\n",
    "\n",
    "6.输出peppa_pig.sex。\n",
    "\"\"\"\n",
    "class Peppa:\n",
    "  called = \"佩奇\"\n",
    "  color = \"粉色\"\n",
    "  sex = \"女\"\n",
    "peppa_pig = Peppa()\n",
    "print(peppa_pig.called)\n",
    "print(peppa_pig.color)\n",
    "print(peppa_pig.sex)"
   ]
  },
  {
   "cell_type": "code",
   "execution_count": 371,
   "metadata": {},
   "outputs": [],
   "source": [
    "# 11.3 类与面向对象编程（3）"
   ]
  },
  {
   "cell_type": "code",
   "execution_count": 372,
   "metadata": {},
   "outputs": [
    {
     "name": "stdout",
     "output_type": "stream",
     "text": [
      "3200.0\n"
     ]
    }
   ],
   "source": [
    "#方法的参数：除了参数 self 之外，类的方法还可以加入更多的参数。\n",
    "\n",
    "class Myphone:\n",
    "  price = 4000\n",
    "  def cal(self,discount):\n",
    "    return self.price * discount\n",
    "phone = Myphone()\n",
    "print(phone.cal(0.8))\n",
    "# 输出：3200.0\n",
    "#示例中，方法 cal() 中除了 self 之外，还有一个 discount 参数，cal() 方法返回 self.price 与 discount 的乘积。\n",
    "\n",
    "#当调用cal() 时，self 参数不用赋值，此处为 discount 赋值为 0.8，运行结果输出 3200.0。"
   ]
  },
  {
   "cell_type": "code",
   "execution_count": 373,
   "metadata": {},
   "outputs": [
    {
     "name": "stdout",
     "output_type": "stream",
     "text": [
      "270\n"
     ]
    }
   ],
   "source": [
    "\"\"\"\n",
    "请按照下方要求，补充注释行…处代码：\n",
    "\n",
    "你有一只宠物狗，我们来计算它的食量如何。\n",
    "\n",
    "1.在类Dog中创建变量 food_day，赋值 90；\n",
    "\n",
    "2.在类Dog中创建方法eat()，参数self，days；\n",
    "\n",
    "3.eat() 返回 self.food_day 与 days 的乘积；\n",
    "\n",
    "4.创建类Dog的一个对象a_huang；\n",
    "\n",
    "5.输出a_huang.eat(3)。\n",
    "\"\"\"\n",
    "class Dog:\n",
    "  called = \"阿黄\"\n",
    "  #food_day 为阿黄每天的食量\n",
    "  food_day = 90\n",
    "  def bark(self):\n",
    "    print(\"汪汪汪\")\n",
    "  def eat(self,days):\n",
    "    return self.food_day * days\n",
    "a_huang = Dog()\n",
    "print(a_huang.eat(3))"
   ]
  },
  {
   "cell_type": "code",
   "execution_count": 374,
   "metadata": {},
   "outputs": [
    {
     "name": "stdout",
     "output_type": "stream",
     "text": [
      "手机\n",
      "白色\n",
      "手机\n",
      "白色\n",
      "华为\n",
      "黑色\n",
      "小米\n",
      "白色\n"
     ]
    }
   ],
   "source": [
    "# __init__()：我们还可以用 __init__() 方法来操纵对象。在创建类的时候，就可以用 __init__() 为类建立初始属性。这样，每当建立类的对象时，就可以为对象的属性赋值。我们来看之前的方法，以做比较：\n",
    "\n",
    "class Phone:\n",
    "    name = \"手机\"\n",
    "    color = \"白色\"\n",
    "my_phone = Phone()\n",
    "your_phone = Phone()\n",
    "\n",
    "print(my_phone.name) # 输出：手机\n",
    "print(my_phone.color) # 输出：白色\n",
    "print(your_phone.name) # 输出：手机\n",
    "print(your_phone.color) # 输出：白色\n",
    "#示例中，当我们创建对象 my_phone 和 your_phone 时，都接收了类 Phone 的 name，color 属性：手机和白色。而下方代码：\n",
    "\n",
    "class Phone:\n",
    "  def __init__(self,name,color):\n",
    "    self.name = name\n",
    "    self.color = color\n",
    "hua_wei = Phone(\"华为\",\"黑色\")\n",
    "xiao_mi = Phone(\"小米\",\"白色\")\n",
    "print(hua_wei.name) # 华为\n",
    "print(hua_wei.color) # 黑色\n",
    "print(xiao_mi.name) # 小米\n",
    "print(xiao_mi.color) # 白色\n",
    "#示例中，我们用了 __init__() 方法在创建类 Phone 时，就设置了初始属性与对象 self 之间的关系。每当建立新的对象，比如 hua_wei，xiao_mi 时，可以为它们各自的 name，color 属性附上不同的值。"
   ]
  },
  {
   "cell_type": "code",
   "execution_count": 375,
   "metadata": {},
   "outputs": [
    {
     "name": "stdout",
     "output_type": "stream",
     "text": [
      "阿黄今年3岁了\n",
      "小咪今年2岁了\n"
     ]
    }
   ],
   "source": [
    "\"\"\"\n",
    "请按照下方要求，完成注释行…处代码：\n",
    "\n",
    "家里又新添了一个成员，猫小咪。我们来看看阿黄和小咪今年都多大了：\n",
    "\n",
    "1.创建类 Pet；\n",
    "\n",
    "2.创建init()，参数 self, name, age；\n",
    "\n",
    "3.在__init__()内，令参数 name 为 self.name 赋值；令参数 age 为 self.age 赋值；\n",
    "\n",
    "4.创建Pet的对象a_huang，name 为 \"阿黄\"，age 为 3；\n",
    "\n",
    "5.创建Pet的对象xiao_mi，name 为 \"小咪\"，age 为 2\n",
    "\"\"\"\n",
    "class Pet:\n",
    "  def __init__(self,name,age):\n",
    "    self.name = name\n",
    "    self.age = age\n",
    "a_huang = Pet(\"阿黄\",3)\n",
    "xiao_mi = Pet(\"小咪\",2)\n",
    "print(\"{}今年{}岁了\".format(a_huang.name,a_huang.age))\n",
    "print(\"{}今年{}岁了\".format(xiao_mi.name,xiao_mi.age))"
   ]
  },
  {
   "cell_type": "code",
   "execution_count": 376,
   "metadata": {},
   "outputs": [
    {
     "name": "stdout",
     "output_type": "stream",
     "text": [
      "这部华为是黑色\n",
      "这部小米是白色\n"
     ]
    }
   ],
   "source": [
    "#对象的变量：我们之前学习了类的变量，以及如何为类创建属性。但有时，属于类的不同对象会有不同的属性值。比如同样是宠物的名字，有的宠物叫“阿黄”，有的宠物叫“小咪”。我们可以通过为对象的变量赋值来操纵对象的具体属性。请见示例：\n",
    "\n",
    "class Phone:\n",
    "    pass\n",
    "hua_wei = Phone()\n",
    "xiao_mi = Phone()\n",
    "hua_wei.name = \"华为\"\n",
    "hua_wei.color = \"黑色\"\n",
    "xiao_mi.name = \"小米\"\n",
    "xiao_mi.color = \"白色\"\n",
    "print(\"这部\" +hua_wei.name + \"是\" + hua_wei.color) #输出：这部华为是黑色\n",
    "print(\"这部\" +xiao_mi.name + \"是\" + xiao_mi.color) #输出：这部小米是白色\n",
    "#示例中，我们通过 hua_wei.name，hua_wei.color 分别为对象 hua_wei 的变量 name，color （属性）赋值；类似地，通过 xiao_mi.name，xiao_mi.color 分别为 xiao_mi 的变量 name，color （属性）赋值。"
   ]
  },
  {
   "cell_type": "code",
   "execution_count": 377,
   "metadata": {},
   "outputs": [
    {
     "name": "stdout",
     "output_type": "stream",
     "text": [
      "阿黄爱吃骨头\n",
      "小咪爱吃小鱼干\n"
     ]
    }
   ],
   "source": [
    "\"\"\"\n",
    "阿黄和小咪最爱吃什么呢？\n",
    "\n",
    "请补全下列注释行… 处代码，为对象 a_huang，xiao_mi创建变量 food，各自值分别为\"骨头\" ，\"小鱼干\"。\n",
    "\"\"\"\n",
    "class Pet:\n",
    "  pass\n",
    "a_huang = Pet()\n",
    "xiao_mi = Pet()\n",
    "a_huang.name = \"阿黄\"\n",
    "xiao_mi.name = \"小咪\"\n",
    "a_huang.food = \"骨头\"\n",
    "xiao_mi.food = \"小鱼干\"\n",
    "\n",
    "print(a_huang.name + \"爱吃\" + a_huang.food)\n",
    "print(xiao_mi.name + \"爱吃\" + xiao_mi.food)"
   ]
  },
  {
   "cell_type": "code",
   "execution_count": 378,
   "metadata": {},
   "outputs": [
    {
     "name": "stdout",
     "output_type": "stream",
     "text": [
      "apple\n"
     ]
    },
    {
     "ename": "AttributeError",
     "evalue": "'str' object has no attribute 'get'",
     "output_type": "error",
     "traceback": [
      "\u001b[0;31m---------------------------------------------------------------------------\u001b[0m",
      "\u001b[0;31mAttributeError\u001b[0m                            Traceback (most recent call last)",
      "\u001b[0;32m<ipython-input-378-f4141e3d6338>\u001b[0m in \u001b[0;36m<module>\u001b[0;34m\u001b[0m\n\u001b[1;32m      4\u001b[0m \u001b[0mprint\u001b[0m\u001b[0;34m(\u001b[0m\u001b[0;34m{\u001b[0m\u001b[0;34m\"a\"\u001b[0m\u001b[0;34m:\u001b[0m\u001b[0;34m\"apple\"\u001b[0m\u001b[0;34m}\u001b[0m\u001b[0;34m.\u001b[0m\u001b[0mget\u001b[0m\u001b[0;34m(\u001b[0m\u001b[0;34m\"a\"\u001b[0m\u001b[0;34m)\u001b[0m\u001b[0;34m)\u001b[0m\u001b[0;34m\u001b[0m\u001b[0;34m\u001b[0m\u001b[0m\n\u001b[1;32m      5\u001b[0m \u001b[0;31m# 输出： apple\u001b[0m\u001b[0;34m\u001b[0m\u001b[0;34m\u001b[0m\u001b[0;34m\u001b[0m\u001b[0m\n\u001b[0;32m----> 6\u001b[0;31m \u001b[0mprint\u001b[0m\u001b[0;34m(\u001b[0m\u001b[0;34m\"apple\"\u001b[0m\u001b[0;34m.\u001b[0m\u001b[0mget\u001b[0m\u001b[0;34m(\u001b[0m\u001b[0;34m\"apple\"\u001b[0m\u001b[0;34m)\u001b[0m\u001b[0;34m)\u001b[0m\u001b[0;34m\u001b[0m\u001b[0;34m\u001b[0m\u001b[0m\n\u001b[0m\u001b[1;32m      7\u001b[0m \u001b[0;31m# 返回 AttributeError: 'str' object has no attribute 'get'\u001b[0m\u001b[0;34m\u001b[0m\u001b[0;34m\u001b[0m\u001b[0;34m\u001b[0m\u001b[0m\n\u001b[1;32m      8\u001b[0m \u001b[0;31m# 字符串没有 get 属性\u001b[0m\u001b[0;34m\u001b[0m\u001b[0;34m\u001b[0m\u001b[0;34m\u001b[0m\u001b[0m\n",
      "\u001b[0;31mAttributeError\u001b[0m: 'str' object has no attribute 'get'"
     ]
    }
   ],
   "source": [
    "# 属性：类的变量与对象的变量都是对象的属性。如果我们调用的对象属性不存在——既不是类变量，也不是对象变量，计算机会返回属性错误：AttributeError。\n",
    "\n",
    "# .get() 是字典类数据的属性，字符串数据不具备该属性\n",
    "print({\"a\":\"apple\"}.get(\"a\"))\n",
    "# 输出： apple\n",
    "print(\"apple\".get(\"apple\"))\n",
    "# 返回 AttributeError: 'str' object has no attribute 'get'\n",
    "# 字符串没有 get 属性"
   ]
  },
  {
   "cell_type": "code",
   "execution_count": 379,
   "metadata": {},
   "outputs": [
    {
     "name": "stdout",
     "output_type": "stream",
     "text": [
      "我们不知道阿黄的性别\n"
     ]
    }
   ],
   "source": [
    "\"\"\"\n",
    "我们知道阿黄的颜色、岁数、喜欢吃的食物，但是阿黄的性别是什么呢？\n",
    "\n",
    "请补全注释行… 处代码：\n",
    "\n",
    "1.a_huang 不具备 sex 属性，触发 AttributeError；\n",
    "\n",
    "2.当 except 内条件为 AttributeError 时，输出 \"我们不知道阿黄的性别\"。\n",
    "\"\"\"\n",
    "class Pet:\n",
    "  name = \"阿黄\"\n",
    "  color = \"黄色\"\n",
    "  age = 3\n",
    "\n",
    "a_huang = Pet()\n",
    "try:\n",
    "    a_huang.sex\n",
    "except AttributeError:\n",
    "    print(\"我们不知道阿黄的性别\")"
   ]
  },
  {
   "cell_type": "code",
   "execution_count": 380,
   "metadata": {},
   "outputs": [],
   "source": [
    "# __init()__ 可以为类建立初始属性"
   ]
  },
  {
   "cell_type": "code",
   "execution_count": 381,
   "metadata": {},
   "outputs": [
    {
     "name": "stdout",
     "output_type": "stream",
     "text": [
      "华为\n",
      "黑色\n"
     ]
    }
   ],
   "source": [
    "class Phone:\n",
    "  def __init__(self,name,color):\n",
    "    self.name = name\n",
    "    self.color = color\n",
    "hua_wei = Phone(\"华为\",\"黑色\")\n",
    "\n",
    "print(hua_wei.name) \n",
    "print(hua_wei.color)"
   ]
  },
  {
   "cell_type": "code",
   "execution_count": 382,
   "metadata": {},
   "outputs": [
    {
     "ename": "AttributeError",
     "evalue": "'str' object has no attribute 'get'",
     "output_type": "error",
     "traceback": [
      "\u001b[0;31m---------------------------------------------------------------------------\u001b[0m",
      "\u001b[0;31mAttributeError\u001b[0m                            Traceback (most recent call last)",
      "\u001b[0;32m<ipython-input-382-d411212bb3f2>\u001b[0m in \u001b[0;36m<module>\u001b[0;34m\u001b[0m\n\u001b[0;32m----> 1\u001b[0;31m \u001b[0mprint\u001b[0m\u001b[0;34m(\u001b[0m\u001b[0;34m\"apple\"\u001b[0m\u001b[0;34m.\u001b[0m\u001b[0mget\u001b[0m\u001b[0;34m(\u001b[0m\u001b[0;34m\"apple\"\u001b[0m\u001b[0;34m)\u001b[0m\u001b[0;34m)\u001b[0m\u001b[0;34m\u001b[0m\u001b[0;34m\u001b[0m\u001b[0m\n\u001b[0m\u001b[1;32m      2\u001b[0m \u001b[0;31m# 字符串没有 .get() 属性，引发 AttributeError。\u001b[0m\u001b[0;34m\u001b[0m\u001b[0;34m\u001b[0m\u001b[0;34m\u001b[0m\u001b[0m\n",
      "\u001b[0;31mAttributeError\u001b[0m: 'str' object has no attribute 'get'"
     ]
    }
   ],
   "source": [
    "print(\"apple\".get(\"apple\"))\n",
    "# 字符串没有 .get() 属性，引发 AttributeError。"
   ]
  },
  {
   "cell_type": "code",
   "execution_count": 383,
   "metadata": {},
   "outputs": [
    {
     "name": "stdout",
     "output_type": "stream",
     "text": [
      "佩奇喜欢泥坑，她的朋友是小羊苏西\n"
     ]
    }
   ],
   "source": [
    "\"\"\"\n",
    "请按照下方要求，补全注释行…处代码：\n",
    "\n",
    "让我们来创建佩奇一家！\n",
    "\n",
    "佩奇喜欢踩泥坑，她的好朋友是小羊苏西；\n",
    "\n",
    "佩奇的弟弟叫乔治，乔治喜欢恐龙；\n",
    "\n",
    "佩奇的爸爸喜欢读报纸；\n",
    "\n",
    "佩奇的妈妈喜欢裙子。\n",
    "\n",
    "1.创建类 Peppa_family；\n",
    "\n",
    "2.Peppa_family 内创建 __init__() ，参数 self, called, like；\n",
    "\n",
    "3.__init__() 内，self.called 为 called，self.like 为 like；\n",
    "\n",
    "4.创建Peppa_family的四个对象：peppa_pig，george，daddy_pig和 mummy_pig，对象 called，like属性分别为：\"佩奇\",\"泥坑\"；\"乔治\",\"恐龙\"；\"爸爸\",\"报纸\"；\"妈妈\",\"裙子\"；\n",
    "\n",
    "5.为对象 peppa_pig 创建对象变量 friend，值为 \"小羊苏西\"。\n",
    "\"\"\"\n",
    "class Peppa_family:\n",
    "    def __init__(self,called,like):\n",
    "        self.called = called\n",
    "        self.like = like\n",
    "peppa_pig = Peppa_family(\"佩奇\",\"泥坑\")\n",
    "george = Peppa_family(\"乔治\",\"恐龙\")\n",
    "daddy_pig = Peppa_family(\"爸爸\",\"报纸\")\n",
    "mummy_pig = Peppa_family(\"妈妈\",\"裙子\")\n",
    "peppa_pig.friend = \"小羊苏西\"\n",
    "\n",
    "print(\"{}喜欢{}，她的朋友是{}\".format(peppa_pig.called,peppa_pig.like,peppa_pig.friend))"
   ]
  },
  {
   "cell_type": "code",
   "execution_count": 384,
   "metadata": {},
   "outputs": [],
   "source": [
    "# 11.4 类与面向对象编程（4）"
   ]
  },
  {
   "cell_type": "code",
   "execution_count": 385,
   "metadata": {},
   "outputs": [
    {
     "name": "stdout",
     "output_type": "stream",
     "text": [
      "这部华为手机的号码是：13813813818\n",
      "这部小米手机的号码是：13913913919\n"
     ]
    }
   ],
   "source": [
    "#self：之前我们学到的 __init__() 方法中的关键字 self 代指对象自身，我们还可以见到它更强大的用法：\n",
    "\n",
    "class Phone:\n",
    "    def __init__(self,name):\n",
    "        self.name =name\n",
    "    def number(self,num):\n",
    "        self.num = num\n",
    "        return \"这部\" + self.name + \"手机的号码是：\" + self.num\n",
    "hua_wei = Phone(\"华为\")\n",
    "xiao_mi = Phone(\"小米\")\n",
    "print(hua_wei.number(\"13813813818\"))\n",
    "print(xiao_mi.number(\"13913913919\"))\n",
    "#输出：这部华为手机的号码是：13813813818\n",
    "#输出：这部小米手机的号码是：13913913919\n",
    "#上方示例中，在类 Phone 中，__init__() 方法中变量为 name；方法 number() 中变量为 num，令self.num 等于 num。\n",
    "\n",
    "#因此，属于类 Phone 的对象 hua_wei，xiao_mi 也具有方法 number()，输出 hua_wei.number(\"13813813818\") 时，屏幕显示：\"这部华为手机的号码是：13813813818\""
   ]
  },
  {
   "cell_type": "code",
   "execution_count": 386,
   "metadata": {},
   "outputs": [
    {
     "name": "stdout",
     "output_type": "stream",
     "text": [
      "阿黄一天睡10小时\n",
      "小咪一天睡16小时\n"
     ]
    }
   ],
   "source": [
    "\"\"\"\n",
    "阿黄和小咪最爱睡觉！\n",
    "\n",
    "请补全注释行...处代码，确保代码可以正确运行。\n",
    "\"\"\"\n",
    "class Pet:\n",
    "  def __init__(self,name,age):\n",
    "    self.name = name\n",
    "    self.age = age\n",
    "  def sleep(self,hour):\n",
    "    self.hour = hour\n",
    "    return \"{}一天睡{}小时\".format(self.name,self.hour)\n",
    "a_huang = Pet(\"阿黄\",3)\n",
    "xiao_mi = Pet(\"小咪\",2)\n",
    "print(a_huang.sleep(10))\n",
    "print(xiao_mi.sleep(16))"
   ]
  },
  {
   "cell_type": "code",
   "execution_count": 387,
   "metadata": {},
   "outputs": [
    {
     "name": "stdout",
     "output_type": "stream",
     "text": [
      "['__add__', '__class__', '__contains__', '__delattr__', '__dir__', '__doc__', '__eq__', '__format__', '__ge__', '__getattribute__', '__getitem__', '__getnewargs__', '__gt__', '__hash__', '__init__', '__init_subclass__', '__iter__', '__le__', '__len__', '__lt__', '__mod__', '__mul__', '__ne__', '__new__', '__reduce__', '__reduce_ex__', '__repr__', '__rmod__', '__rmul__', '__setattr__', '__sizeof__', '__str__', '__subclasshook__', 'capitalize', 'casefold', 'center', 'count', 'encode', 'endswith', 'expandtabs', 'find', 'format', 'format_map', 'index', 'isalnum', 'isalpha', 'isascii', 'isdecimal', 'isdigit', 'isidentifier', 'islower', 'isnumeric', 'isprintable', 'isspace', 'istitle', 'isupper', 'join', 'ljust', 'lower', 'lstrip', 'maketrans', 'partition', 'replace', 'rfind', 'rindex', 'rjust', 'rpartition', 'rsplit', 'rstrip', 'split', 'splitlines', 'startswith', 'strip', 'swapcase', 'title', 'translate', 'upper', 'zfill']\n",
      "['__class__', '__contains__', '__delattr__', '__delitem__', '__dir__', '__doc__', '__eq__', '__format__', '__ge__', '__getattribute__', '__getitem__', '__gt__', '__hash__', '__init__', '__init_subclass__', '__iter__', '__le__', '__len__', '__lt__', '__ne__', '__new__', '__reduce__', '__reduce_ex__', '__repr__', '__setattr__', '__setitem__', '__sizeof__', '__str__', '__subclasshook__', 'clear', 'copy', 'fromkeys', 'get', 'items', 'keys', 'pop', 'popitem', 'setdefault', 'update', 'values']\n"
     ]
    },
    {
     "data": {
      "text/plain": [
       "['__class__',\n",
       " '__contains__',\n",
       " '__delattr__',\n",
       " '__delitem__',\n",
       " '__dir__',\n",
       " '__doc__',\n",
       " '__eq__',\n",
       " '__format__',\n",
       " '__ge__',\n",
       " '__getattribute__',\n",
       " '__getitem__',\n",
       " '__gt__',\n",
       " '__hash__',\n",
       " '__init__',\n",
       " '__init_subclass__',\n",
       " '__iter__',\n",
       " '__le__',\n",
       " '__len__',\n",
       " '__lt__',\n",
       " '__ne__',\n",
       " '__new__',\n",
       " '__reduce__',\n",
       " '__reduce_ex__',\n",
       " '__repr__',\n",
       " '__setattr__',\n",
       " '__setitem__',\n",
       " '__sizeof__',\n",
       " '__str__',\n",
       " '__subclasshook__',\n",
       " 'clear',\n",
       " 'copy',\n",
       " 'fromkeys',\n",
       " 'get',\n",
       " 'items',\n",
       " 'keys',\n",
       " 'pop',\n",
       " 'popitem',\n",
       " 'setdefault',\n",
       " 'update',\n",
       " 'values']"
      ]
     },
     "execution_count": 387,
     "metadata": {},
     "output_type": "execute_result"
    }
   ],
   "source": [
    "#一切皆是对象：我们可以用 dir() 来看看某个对象具有哪些属性。\n",
    "\n",
    "a = \"apple\"\n",
    "print(dir(a))\n",
    "# 输出：\n",
    "['__add__', '__class__', '__contains__', '__delattr__', '__dir__', '__doc__', '__eq__', '__format__', '__ge__', '__getattribute__', '__getitem__', '__getnewargs__', '__gt__', '__hash__', '__init__', '__init_subclass__', '__iter__', '__le__', '__len__', '__lt__', '__mod__', '__mul__', '__ne__', '__new__', '__reduce__', '__reduce_ex__', '__repr__', '__rmod__', '__rmul__', '__setattr__', '__sizeof__', '__str__', '__subclasshook__', 'capitalize', 'casefold', 'center', 'count', 'encode', 'endswith', 'expandtabs', 'find', 'format', 'format_map', 'index', 'isalnum', 'isalpha', 'isdecimal', 'isdigit', 'isidentifier', 'islower', 'isnumeric', 'isprintable', 'isspace', 'istitle', 'isupper', 'join', 'ljust', 'lower', 'lstrip', 'maketrans', 'partition', 'replace', 'rfind', 'rindex', 'rjust', 'rpartition', 'rsplit', 'rstrip', 'split', 'splitlines', 'startswith', 'strip', 'swapcase', 'title', 'translate', 'upper', 'zfill']\n",
    "#上方示例中，有一些字符串属性我们在之前的课程学习过。除了字符串，我们还可以用 dir() 得到诸如列表、字典等其他数据类型的属性：\n",
    "\n",
    "print(dir({}))\n",
    "# 输出：\n",
    "['__class__', '__contains__', '__delattr__', '__delitem__', '__dir__', '__doc__', '__eq__', '__format__', '__ge__', '__getattribute__', '__getitem__', '__gt__', '__hash__', '__init__', '__init_subclass__', '__iter__', '__le__', '__len__', '__lt__', '__ne__', '__new__', '__reduce__', '__reduce_ex__', '__repr__', '__setattr__', '__setitem__', '__sizeof__', '__str__', '__subclasshook__', 'clear', 'copy', 'fromkeys', 'get', 'items', 'keys', 'pop', 'popitem', 'setdefault', 'update', 'values']\n",
    "#上方示例中，我们用 dir() 导出了字典数据的属性。"
   ]
  },
  {
   "cell_type": "code",
   "execution_count": 388,
   "metadata": {},
   "outputs": [
    {
     "name": "stdout",
     "output_type": "stream",
     "text": [
      "['__class__', '__delattr__', '__dict__', '__dir__', '__doc__', '__eq__', '__format__', '__ge__', '__getattribute__', '__gt__', '__hash__', '__init__', '__init_subclass__', '__le__', '__lt__', '__module__', '__ne__', '__new__', '__reduce__', '__reduce_ex__', '__repr__', '__setattr__', '__sizeof__', '__str__', '__subclasshook__', '__weakref__', 'name', 'number', 'price']\n",
      "['__class__', '__delattr__', '__dict__', '__dir__', '__doc__', '__eq__', '__format__', '__ge__', '__getattribute__', '__gt__', '__hash__', '__init__', '__init_subclass__', '__le__', '__lt__', '__module__', '__ne__', '__new__', '__reduce__', '__reduce_ex__', '__repr__', '__setattr__', '__sizeof__', '__str__', '__subclasshook__', '__weakref__', 'name', 'number']\n"
     ]
    }
   ],
   "source": [
    "\"\"\"\n",
    "请按照下方要求，补全注释行…处代码：\n",
    "\n",
    "1.在代码下方用 dir() 输出 hua_wei 的属性；\n",
    "\n",
    "2.接着，用 dir() 输出 xiao_mi 的属性；\n",
    "\n",
    "3.请比较两者的差异。\n",
    "\"\"\"\n",
    "class Phone:\n",
    "    def __init__(self,name):\n",
    "        self.name =name\n",
    "\n",
    "    def number(self,num):\n",
    "        self.num = num\n",
    "        return \"这部\" + self.name + \"手机的号码是：\" + self.num\n",
    "hua_wei = Phone(\"华为\")\n",
    "hua_wei.price = 5000\n",
    "xiao_mi = Phone(\"小米\")\n",
    "\n",
    "print(dir(hua_wei))\n",
    "print(dir(xiao_mi))"
   ]
  },
  {
   "cell_type": "code",
   "execution_count": 389,
   "metadata": {},
   "outputs": [
    {
     "name": "stdout",
     "output_type": "stream",
     "text": [
      "华为\n",
      "<__main__.Phone object at 0x10e354e48>\n",
      "这是一部华为手机\n"
     ]
    }
   ],
   "source": [
    "#__repr__()：当我们新创建一个对象，直接输出该对象时，默认返回的是该对象的内存地址：\n",
    "\n",
    "class Phone:\n",
    "    def __init__(self,name):\n",
    "        self.name =name    \n",
    "hua_wei = Phone(\"华为\")\n",
    "print(hua_wei.name)\n",
    "# 输出：华为\n",
    "print(hua_wei)\n",
    "# 输出： <__main__.Phone object at 0x106ebdb70>\n",
    "# 以上为hua_wei的内存地址\n",
    "#对象的内存地址有时对我们用处并不大，如果在输出对象时，我们想看到特定信息。可以用 __repr__() 方法实现：\n",
    "\n",
    "class Phone:\n",
    "  def __init__(self,name):\n",
    "        self.name =name    \n",
    "  def __repr__(self):\n",
    "    return \"这是一部\" + self.name +\"手机\"\n",
    "hua_wei = Phone(\"华为\")\n",
    "print(hua_wei)\n",
    "# 输出：这是一部华为手机\n",
    "# 上方示例中，我们在类 Phone 中加了一个 __repr__() 方法，当输出对象时，返回 \"这是一部\" + self.name +\"手机\"，其中 self.name是对象的 name 属性，该例子里是 \"华为\"。__repr__() 只可以有一个参数 self，而且返回的必须是字符串。"
   ]
  },
  {
   "cell_type": "code",
   "execution_count": 390,
   "metadata": {},
   "outputs": [
    {
     "name": "stdout",
     "output_type": "stream",
     "text": [
      "汪\n",
      "喵\n"
     ]
    }
   ],
   "source": [
    "# 请补全注释行... 处代码，使得输出 a_huang 时，屏幕显示\"汪\" ；输出 xiao_mi 时，屏幕显示 \"喵\"。\n",
    "class Pet:\n",
    "  def __init__(self,name,age):\n",
    "    self.name = name\n",
    "    self.age = age\n",
    "  def sleep(self,hour):\n",
    "    self.hour = hour\n",
    "    return self.name + \"一天睡\" + self.hour +\"小时\"\n",
    "  def __repr__(self):\n",
    "    if self.name == \"阿黄\":\n",
    "      return \"汪\"\n",
    "    if self.name == \"小咪\":\n",
    "      return \"喵\"\n",
    "\n",
    "a_huang = Pet(\"阿黄\",\"3\")\n",
    "xiao_mi = Pet(\"小咪\",\"2\")\n",
    "print(a_huang)\n",
    "print(xiao_mi)"
   ]
  },
  {
   "cell_type": "code",
   "execution_count": 391,
   "metadata": {},
   "outputs": [
    {
     "name": "stdout",
     "output_type": "stream",
     "text": [
      "4000\n"
     ]
    }
   ],
   "source": [
    "# 我们可以用 dir() 来看看某个对象具有哪些属性\n",
    "class Phone:\n",
    "  def __init__(self,name,price):\n",
    "        self.name =name \n",
    "        self.price = price\n",
    "  def __repr__(self):\n",
    "    return str(self.price)\n",
    "hua_wei = Phone(\"华为\",4000)\n",
    "print(hua_wei)\n",
    "# __repr__() 返回的是对象的 price属性：4000"
   ]
  },
  {
   "cell_type": "code",
   "execution_count": 392,
   "metadata": {},
   "outputs": [
    {
     "name": "stdout",
     "output_type": "stream",
     "text": [
      "鲁迅：在我的后园，可以看见墙外有两株树。\n",
      "海明威：世界是个美好的地方，值得为它奋斗。\n",
      "维特根斯坦：语言的边界就是世界的边界。\n"
     ]
    }
   ],
   "source": [
    "# 我们来做一个程序输出名人名言：\n",
    "\n",
    "# 请阅读下方代码，补全注释行…处代码。\n",
    "\n",
    "class Famous:\n",
    "  def __init__(self,name):\n",
    "    self.name = name\n",
    "\n",
    "  def __repr__(self):\n",
    "    # 下方判断 self.name 是否为 \"鲁迅\"\n",
    "    if self.name == \"鲁迅\":\n",
    "      return \"{}：在我的后园，可以看见墙外有两株树。\".format(self.name)\n",
    "    # 下方判断 self.name 是否为 \"海明威\"\n",
    "    if self.name == \"海明威\":\n",
    "      return \"{}：世界是个美好的地方，值得为它奋斗。\".format(self.name)\n",
    "    if self.name == \"维特根斯坦\":\n",
    "      return \"{}：语言的边界就是世界的边界。\".format(self.name)\n",
    "\n",
    "lu_xun = Famous(\"鲁迅\")\n",
    "# 下方创建对象，name 属性为 \"海明威\" \n",
    "hemingway = Famous(\"海明威\")\n",
    "wittgenstein = Famous(\"维特根斯坦\")\n",
    "print(lu_xun)\n",
    "print(hemingway)\n",
    "print(wittgenstein)"
   ]
  },
  {
   "cell_type": "code",
   "execution_count": 393,
   "metadata": {},
   "outputs": [],
   "source": [
    "# 11.5 类与面向对象编程（5）"
   ]
  },
  {
   "cell_type": "code",
   "execution_count": 394,
   "metadata": {},
   "outputs": [
    {
     "name": "stdout",
     "output_type": "stream",
     "text": [
      "华为\n"
     ]
    }
   ],
   "source": [
    "#继承：假设我们有一个建好的类 A，此时我们想新建一个类 B，类B 中有些属性和类A相同，为了降低代码的重复性，我们可以让类B继承类A的部分属性。\n",
    "\n",
    "class Product:\n",
    "  name = \"华为\"\n",
    "\n",
    "class Laptop(Product):\n",
    "  pass\n",
    "\n",
    "print(Laptop.name)\n",
    "#输出：华为\n",
    "#上方示例中，类Laptop后有一个() ，括号内填入的参数是类 Laptop 继承的类：Product。类Laptop 继承了类Product的name属性：\"华为\"。我们将被继承的类称为父类，继承的类称为子类。"
   ]
  },
  {
   "cell_type": "code",
   "execution_count": 395,
   "metadata": {},
   "outputs": [],
   "source": [
    "\"\"\"\n",
    "请按照下列要求，完成相应操作：\n",
    "\n",
    "创建子类 Pet，它的父类是已建好的父类 Animal。\n",
    "\"\"\"\n",
    "class Animal:\n",
    "  pass\n",
    "\n",
    "class Pet(Animal):\n",
    "  pass"
   ]
  },
  {
   "cell_type": "code",
   "execution_count": 396,
   "metadata": {},
   "outputs": [
    {
     "name": "stdout",
     "output_type": "stream",
     "text": [
      "华为手机的号码是：13813813818\n",
      "笔记本没有号码\n"
     ]
    }
   ],
   "source": [
    "# 改写父类：当子类继承父类时，难免会出现部分属性或方法与父类相冲突的情况。这时，我们需要在子类对继承来的属性或方法做改写。\n",
    "\n",
    "class Product:\n",
    "    def __init__(self,name):\n",
    "        self.name =name\n",
    "\n",
    "    def number(self,num):\n",
    "        self.num = num\n",
    "        return self.name + \"的号码是：\" + self.num\n",
    "\n",
    "class Phone(Product):\n",
    "    pass\n",
    "    \n",
    "class Laptop(Product):\n",
    "    def number(self):\n",
    "        return \"笔记本没有号码\"\n",
    "\n",
    "huawei_phone = Phone(\"华为手机\")\n",
    "huawei_laptop = Laptop(\"华为笔记本\")\n",
    "print(huawei_phone.number(\"13813813818\"))\n",
    "# 输出：华为手机的号码是：13813813818\n",
    "print(huawei_laptop.number())\n",
    "# 输出：笔记本没有号码\n",
    "# 上方示例中，类Phone和Laptop都是类Product的子类，但是由于笔记本没有号码，因此在类Laptop中对number() 的内部代码进行了重新改写：去掉了参数 num，修改了返回的字符串。"
   ]
  },
  {
   "cell_type": "code",
   "execution_count": 397,
   "metadata": {},
   "outputs": [
    {
     "name": "stdout",
     "output_type": "stream",
     "text": [
      "4\n",
      "False\n",
      "4\n",
      "True\n"
     ]
    }
   ],
   "source": [
    "\"\"\"\n",
    "狗和猫都是动物，它们都有四条腿，两只眼睛和一条尾巴。但是，狗不会爬树，而猫会！\n",
    "\n",
    "补全下方注释行... 处代码，令程序正确运行，并且：\n",
    "\n",
    "当输出 a_huang.climb_tree() 时，返回 False；\n",
    "\n",
    "当输出 xiao_mi.climb_tree() 时， 返回 True。\n",
    "\"\"\"\n",
    "class Animal:\n",
    "  legs = 4\n",
    "  tail = 1\n",
    "  eyes = 2\n",
    "  def climb_tree(self):\n",
    "    return True\n",
    "\n",
    "class Dog(Animal):\n",
    "  def climb_tree(self):\n",
    "    return False\n",
    "\n",
    "class Cat(Animal):\n",
    "  pass  \n",
    "    \n",
    "a_huang = Dog()\n",
    "xiao_mi = Cat()\n",
    "\n",
    "print(a_huang.legs)\n",
    "print(a_huang.climb_tree())\n",
    "print(xiao_mi.legs)\n",
    "print(xiao_mi.climb_tree())"
   ]
  },
  {
   "cell_type": "code",
   "execution_count": 398,
   "metadata": {},
   "outputs": [],
   "source": [
    "class Beer:\n",
    "  pass\n",
    "\n",
    "class Qing_dao(Beer):\n",
    "  pass\n",
    "# 父类是 Beer，子类是 Qing_dao"
   ]
  },
  {
   "cell_type": "code",
   "execution_count": 399,
   "metadata": {},
   "outputs": [
    {
     "name": "stdout",
     "output_type": "stream",
     "text": [
      "佩奇有2只眼睛\n",
      "佩奇有4只蹄子\n",
      "佩奇有1条尾巴\n",
      "佩奇唱：啦啦啦\n",
      "佩奇说：我是佩奇，这是我的弟弟乔治\n"
     ]
    }
   ],
   "source": [
    "\"\"\"\n",
    "佩奇可不是一般的小猪。虽然其他的猪一样，她有两只眼睛，四只蹄和一根尾巴。但是佩奇还会说话和唱歌！\n",
    "\n",
    "请补全注释行… 处的代码，让程序运行正确。\n",
    "\"\"\"\n",
    "class Pig:    \n",
    "    def __init__(self):\n",
    "      self.eye = 2\n",
    "      self.foot = 4\n",
    "      self.tail = 1\n",
    "    def sing(self):\n",
    "        # 猪可不会唱歌哦\n",
    "        return False\n",
    "    def speak(self):\n",
    "        # 猪也不会说话！\n",
    "        return False\n",
    "\n",
    "# Peppa 继承 Pig\n",
    "class Peppa(Pig):\n",
    "    # 佩奇会唱歌\n",
    "    def sing(self):\n",
    "        return \"啦啦啦\"\n",
    "    # 佩奇会说话    \n",
    "    def speak(self):\n",
    "        return \"我是佩奇，这是我的弟弟乔治\"\n",
    "\n",
    "peppa_pig = Peppa()\n",
    "\n",
    "print(\"佩奇有{}只眼睛\".format(peppa_pig.eye))\n",
    "print(\"佩奇有{}只蹄子\".format(peppa_pig.foot))\n",
    "print(\"佩奇有{}条尾巴\".format(peppa_pig.tail))\n",
    "print(\"佩奇唱：\"+peppa_pig.sing())\n",
    "print(\"佩奇说：\"+peppa_pig.speak())"
   ]
  },
  {
   "cell_type": "code",
   "execution_count": 400,
   "metadata": {},
   "outputs": [],
   "source": [
    "# 11.6 类与面向对象编程（6）"
   ]
  },
  {
   "cell_type": "code",
   "execution_count": 401,
   "metadata": {},
   "outputs": [
    {
     "data": {
      "text/plain": [
       "True"
      ]
     },
     "execution_count": 401,
     "metadata": {},
     "output_type": "execute_result"
    }
   ],
   "source": [
    "#多形态：运算符 + 在不同的数据类型之间有不同的运算功能：\n",
    "\n",
    "1 + 2 == 3\n",
    "\"你\" + \"好\" == \"你好\"\n",
    "#在上例中，当数据类型都是 int 时，+ 的功能是做求和运算；而当数据类型都是 str 时，+ 将前后两者联结。这种同一个运算符号在不同数据间体现不同运算方法的现象，我们称之为多形态。多形态在处理类的时候，会展现出强大的功能。"
   ]
  },
  {
   "cell_type": "code",
   "execution_count": 402,
   "metadata": {},
   "outputs": [
    {
     "name": "stdout",
     "output_type": "stream",
     "text": [
      "4\n",
      "1\n",
      "6\n"
     ]
    }
   ],
   "source": [
    "#点击运行，len() 在面对以下不同数据类型的时候，是否有不同的处理方式？\n",
    "my_list = [1, 2, 3, 4]\n",
    "my_dict = {'python': True}\n",
    "my_string = \"Python\"\n",
    "\n",
    "print(len(my_list))\n",
    "print(len(my_dict))\n",
    "print(len(my_string))"
   ]
  },
  {
   "cell_type": "code",
   "execution_count": 403,
   "metadata": {},
   "outputs": [
    {
     "name": "stdout",
     "output_type": "stream",
     "text": [
      "19点\n",
      "0点\n"
     ]
    }
   ],
   "source": [
    "#神奇方法 I：我们之前学过 __init__() 和 __repr__() 两种方法，像类似这种名字前后带有两个英文下划线的方法在 Python 中被称为神奇方法。之前我们学到的 __init__() 和 __repr__() 只是众多神奇方法中的冰山一角。我们来看看它们究竟有多神奇吧！\n",
    "\n",
    "class Clock: \n",
    "  def __init__(self, time):\n",
    "    self.time = time\n",
    "    \n",
    "  def __repr__(self):\n",
    "    return \"{time}点\".format(time = str(self.time))\n",
    "    \n",
    "  def __add__(self, hour):\n",
    "    self.hour = hour\n",
    "    new_time = (self.time + hour) % 24\n",
    "\n",
    "    return Clock(new_time)\n",
    "\n",
    "# 假设现在是23点\n",
    "now = Clock(23)\n",
    "print(now + 20) # 输出：19点\n",
    "print(now + 1) # 输出：0点\n",
    "#上方示例中，我们用 __add__() 方法重新定义 + 的运算规则：self.time 与 hour 的和除以 24 的余数。所以当变量 now 定为 23点，now + 20 的运算结果为 19； now + 1 的运算结果为 0。"
   ]
  },
  {
   "cell_type": "code",
   "execution_count": 404,
   "metadata": {},
   "outputs": [
    {
     "name": "stdout",
     "output_type": "stream",
     "text": [
      "9点\n",
      "1点\n"
     ]
    }
   ],
   "source": [
    "\"\"\"\n",
    "和地球不一样，木星上一天的时长为 10小时。\n",
    "\n",
    "请修改前一页讲解中的代码，让程序可以计算木星上时间流逝。\n",
    "\"\"\"\n",
    "class Clock: \n",
    "  def __init__(self, time):\n",
    "    self.time = time\n",
    "    \n",
    "  def __repr__(self):\n",
    "    return \"{time}点\".format(time = str(self.time))\n",
    "    \n",
    "  def __add__(self, hour):\n",
    "    self.hour = hour\n",
    "    # 木星上一日为10小时，请据此修改下方代码：\n",
    "    new_time = (self.time + hour) % 10\n",
    "\n",
    "    return Clock(new_time)\n",
    "\n",
    "# 现在是木星时间9点\n",
    "now = Clock(9)\n",
    "print(now + 20) \n",
    "print(now + 2) "
   ]
  },
  {
   "cell_type": "code",
   "execution_count": 405,
   "metadata": {},
   "outputs": [
    {
     "name": "stdout",
     "output_type": "stream",
     "text": [
      "2\n",
      "阿强\n",
      "老王\n",
      "小明 没有完成任务\n"
     ]
    }
   ],
   "source": [
    "#神奇方法 II：Python 中还有很多其他的神奇方法，我们可以借此拓展程序的可塑性。再为大家介绍几个常见的：\n",
    "\n",
    "class StudentGroup:\n",
    "  def __init__(self, students, status):\n",
    "    self.student_list = students\n",
    "    self.status = status\n",
    "\n",
    "  def __iter__(self):\n",
    "    return iter(self.student_list)\n",
    "\n",
    "  def __len__(self):\n",
    "    return len(self.student_list)\n",
    "\n",
    "  def __contains__(self, student):\n",
    "    return student in self.student_list\n",
    "\n",
    "\"\"\"\n",
    "上方示例中，我们分别采用了 __init__()、__iter__()、__len__() 和 __contains__() 四个神奇方法：\n",
    "\n",
    "（1）__init__() 之前学过，可以用来设置一个对象变量的初始值，在这里，我们设置了 self, students 和 status 三个参数；\n",
    "\n",
    "（2）__iter__() 中的 iter 是英文单词 iterate（重复） 的含义，用了 __iter__() 方法可以将 for student in students 这样的语句用在 self.student_list 上；\n",
    "\n",
    "（3）__len__() 可以在调用 len(student_group) 时，返回列表 student_group 的长度；\n",
    "\n",
    "（4）__contains__() 可以判断元素 student 是否在 self.student_list 之中。\n",
    "\n",
    "在此基础之上，我们在下方代码继续创建类 Student，及其对象 a_qiang，lao_wang 和 xiao_ming；接着创建类 StudentGroup 的对象 completed 与 not_completed，并且用上述神奇方法操纵它们：\n",
    "\"\"\"\n",
    "\n",
    "class Student:\n",
    "  def __init__(self, name):\n",
    "    self.name = name\n",
    "\n",
    "a_qiang = Student('阿强')\n",
    "lao_wang = Student('老王')\n",
    "xiao_ming = Student('小明')\n",
    "\n",
    "# 将 a_qiang、lao_wang 和 xiao_ming 分别放入 completed 与 not_completed 之中\n",
    "completed = StudentGroup([a_qiang, lao_wang], {'任务完成': True})\n",
    "not_completed = StudentGroup([xiao_ming], {'任务完成': False})\n",
    "\n",
    "print(len(completed))\n",
    "# 输出： 2\n",
    "\n",
    "for student in completed:\n",
    "  print(student.name)\n",
    "# 输出：\n",
    "# \"阿强\"  \n",
    "# \"老王\"\n",
    "\n",
    "if xiao_ming in not_completed:\n",
    "  print(\"{name} 没有完成任务\".format(name = xiao_ming.name))\n",
    "# 输出：小明 没有完成任务\n",
    "# 上方示例中，我们创建了类 Student，并以此创建了 三个对象 a_qiang，lao_wang 和 xiao_ming。我们将它们分别放进不同的 StudentGroup 中：completed 和 not_completed。"
   ]
  },
  {
   "cell_type": "code",
   "execution_count": 406,
   "metadata": {},
   "outputs": [
    {
     "name": "stdout",
     "output_type": "stream",
     "text": [
      "完成的同学有：\n",
      "阿强\n",
      "老王\n",
      "小明\n",
      "未完成的同学有：\n",
      "妞妞\n"
     ]
    }
   ],
   "source": [
    "\"\"\"\n",
    "请按照下方要求，完成相应操作：\n",
    "\n",
    "1.小明完成了学习任务，请将 xiao_ming 从 not_completed 中移出至 completed 中；\n",
    "\n",
    "2.妞妞刚报名了课程，还未完成任务，请创建类Student的对象 niu_niu，name 为 \"妞妞\"；\n",
    "\n",
    "3.将niu_niu 添加至 not_completed。\n",
    "\"\"\"\n",
    "class StudentGroup:\n",
    "  def __init__(self, students, status):\n",
    "    self.student_list = students\n",
    "    self.status = status\n",
    "\n",
    "  def __iter__(self):\n",
    "    return iter(self.student_list)\n",
    "\n",
    "  def __len__(self):\n",
    "    return len(self.student_list)\n",
    "\n",
    "  def __contains__(self, student):\n",
    "    return student in self.student_list\n",
    "\n",
    "\n",
    "class Student:\n",
    "  def __init__(self, name):\n",
    "    self.name = name\n",
    "\n",
    "a_qiang = Student('阿强')\n",
    "lao_wang = Student('老王')\n",
    "xiao_ming = Student('小明')\n",
    "#下方创建 niu_niu，name属性为 \"妞妞\"\n",
    "niu_niu = Student('妞妞')\n",
    "\n",
    "completed = StudentGroup([a_qiang, lao_wang, xiao_ming], {'任务完成': True})\n",
    "# 将 xiao_ming 从 not_completed 移出至completed 中\n",
    "# 将 niu_niu 添加至 not_completed\n",
    "not_completed = StudentGroup([niu_niu], {'任务完成': False})\n",
    "\n",
    "print(\"完成的同学有：\")\n",
    "for student in completed:\n",
    "  print(student.name)\n",
    "\n",
    "print(\"未完成的同学有：\")\n",
    "for student in not_completed:\n",
    "  print(student.name)"
   ]
  },
  {
   "cell_type": "code",
   "execution_count": 407,
   "metadata": {},
   "outputs": [],
   "source": [
    "# 下列不属于Python 中神奇方法的是：.super()"
   ]
  },
  {
   "cell_type": "code",
   "execution_count": 408,
   "metadata": {},
   "outputs": [
    {
     "name": "stdout",
     "output_type": "stream",
     "text": [
      "完成的同学有3个\n",
      "未完成的同学有1个\n"
     ]
    }
   ],
   "source": [
    "\"\"\"\n",
    "请按照要求，对注释行…处代码做修改。\n",
    "\n",
    "我们需要对上一页练习的代码做些修改，让它可以：\n",
    "\n",
    "分别输出完成和未完成任务的学生人数。\n",
    "\"\"\"\n",
    "class StudentGroup:\n",
    "  def __init__(self, students, status):\n",
    "    self.student_list = students\n",
    "    self.status = status\n",
    "\n",
    "  def __iter__(self):\n",
    "    return iter(self.student_list)\n",
    "\n",
    "  def __len__(self):\n",
    "    return len(self.student_list)\n",
    "\n",
    "  def __contains__(self, student):\n",
    "    return student in self.student_list\n",
    "\n",
    "\n",
    "class Student:\n",
    "  def __init__(self, name):\n",
    "    self.name = name\n",
    "\n",
    "a_qiang = Student('阿强')\n",
    "lao_wang = Student('老王')\n",
    "xiao_ming = Student('小明')\n",
    "niu_niu = Student(\"妞妞\")\n",
    "\n",
    "completed = StudentGroup([a_qiang, lao_wang, xiao_ming], {'任务完成': True})\n",
    "not_completed = StudentGroup([niu_niu], {'任务完成': False})\n",
    "\n",
    "print(\"完成的同学有{}个\".format(len(completed)))\n",
    "print(\"未完成的同学有{}个\".format(len(not_completed)))"
   ]
  },
  {
   "cell_type": "code",
   "execution_count": 409,
   "metadata": {},
   "outputs": [],
   "source": [
    "# 12.1 数据分析入门（1）"
   ]
  },
  {
   "cell_type": "code",
   "execution_count": 410,
   "metadata": {},
   "outputs": [
    {
     "data": {
      "text/plain": [
       "'\\n上方示例中，我们看到 Python 学员每天学习 Python 的时间以及项目的完成水平，我们据此提出两个结论：\\n\\n1）有两个学员的每天学习时长超过20分钟；\\n\\n2）新学员萌仔的项目完成度在0.9，TA的每日学习时长大于20分钟。\\n\\n上述两个问题中，第一个问题是描述性问题，而第二个问题是推断性问题。\\n'"
      ]
     },
     "execution_count": 410,
     "metadata": {},
     "output_type": "execute_result"
    }
   ],
   "source": [
    "\"\"\"\n",
    "今天我们将踏入数据分析的大门——学习如何用Python在数据中发现更多的启示。鉴于这只是该领域的入门阶段，我们不仅需要了解如何写代码，还要对数据分析领域中所关心的问题有基本的认识。一般来讲，广义的数据分析可以分为五个步骤：定义问题、获取数据、清洗数据、分析数据、报告结论。在此七节课中，我们更侧重于后三个步骤的讲解，在数据分析专项课中，我们会对上述五个步骤进行全面且更为细致地展开。\n",
    "\n",
    "先来看第一步骤，如何定义问题。我们可以从两个方面来思考：是描述还是推断？前者倾向于关注我们看见的数据是什么样的，而后者倾向于我们可以基于数据对未知情况做出什么样的预测。举个例子，我们看见下面一组数据：\n",
    "\"\"\"\n",
    "# 每日学习时长（分钟）\n",
    "learn_time = {\"老王\":30, \"阿强\":5, \"妞妞\":13, \"小赵\":0, \"张小明\":22}\n",
    "# Python项目完成度\n",
    "project_complete = {\"老王\":1, \"阿强\":0.1, \"妞妞\":0.2, \"小赵\":0.0, \"张小明\":0.7}\n",
    "\"\"\"\n",
    "上方示例中，我们看到 Python 学员每天学习 Python 的时间以及项目的完成水平，我们据此提出两个结论：\n",
    "\n",
    "1）有两个学员的每天学习时长超过20分钟；\n",
    "\n",
    "2）新学员萌仔的项目完成度在0.9，TA的每日学习时长大于20分钟。\n",
    "\n",
    "上述两个问题中，第一个问题是描述性问题，而第二个问题是推断性问题。\n",
    "\"\"\""
   ]
  },
  {
   "cell_type": "code",
   "execution_count": 411,
   "metadata": {},
   "outputs": [
    {
     "name": "stdout",
     "output_type": "stream",
     "text": [
      "据统计在网站Stack Overflow上：\n",
      "2012年，关于Python的提问占比为4.0%\n",
      "2013年，关于Python的提问占比为4.5%\n",
      "2014年，关于Python的提问占比为5.0%\n",
      "2015年，关于Python的提问占比为6.0%\n",
      "2016年，关于Python的提问占比为7.5%\n",
      "2017年，关于Python的提问占比为9.0%\n",
      "2018年，关于Python的提问占比为10.0%\n",
      "报告来源：https://stackoverflow.blog/2017/09/06/incredible-growth-python/\n"
     ]
    }
   ],
   "source": [
    "# 请运行下方程序，想想自己可以基于结果提出什么样的问题？\n",
    "survey = \"https://stackoverflow.blog/2017/09/06/incredible-growth-python/\"\n",
    "SO_question = {2012:0.040, 2013:0.045, 2014:0.050, 2015:0.060, 2016: 0.075, 2017: 0.09, 2018: 0.10}\n",
    "\n",
    "print(\"据统计在网站Stack Overflow上：\")\n",
    "for year, perc in SO_question.items():\n",
    "    print(\"{year}年，关于Python的提问占比为{perc}%\".format(year = year, perc = perc*100))\n",
    "print(\"报告来源：\"+survey)"
   ]
  },
  {
   "cell_type": "code",
   "execution_count": 412,
   "metadata": {},
   "outputs": [
    {
     "data": {
      "text/plain": [
       "'\\n获取数据：有时候，我们可以根据看到的数据来提出问题，而有时，我们会先提出问题，再去想办法获取相应的数据。一般来说，可以有以下途径获取数据：\\n\\n1）读取文件：\\n\\n可以用代码来读取电脑中的文件，从而获取其中的数据。具体的方法我们会在“文件”章节中为大家做讲解。\\n\\n2）网络抓取（爬虫）：\\n\\n互联网的普及造就了今日数据科学的蓬勃态势，我们之前学到的网页爬虫技能也是人们常用的获取数据手段。但是需要注意的是，要用合法手段抓取网站数据。\\n\\n3）使用API：\\n\\n许多网站提供应用程序接口（Application Programming Interface， API）允许你明确地请求结构化格式的数据。这样省去了我们不得不去抓取数据的麻烦。\\n\\n本套课程中，只需要大家对上述三种常见的获取数据方法有基本的认识，更为全面和细致的学习将会在数据分析专项课中和大家分享。\\n'"
      ]
     },
     "execution_count": 412,
     "metadata": {},
     "output_type": "execute_result"
    }
   ],
   "source": [
    "\"\"\"\n",
    "获取数据：有时候，我们可以根据看到的数据来提出问题，而有时，我们会先提出问题，再去想办法获取相应的数据。一般来说，可以有以下途径获取数据：\n",
    "\n",
    "1）读取文件：\n",
    "\n",
    "可以用代码来读取电脑中的文件，从而获取其中的数据。具体的方法我们会在“文件”章节中为大家做讲解。\n",
    "\n",
    "2）网络抓取（爬虫）：\n",
    "\n",
    "互联网的普及造就了今日数据科学的蓬勃态势，我们之前学到的网页爬虫技能也是人们常用的获取数据手段。但是需要注意的是，要用合法手段抓取网站数据。\n",
    "\n",
    "3）使用API：\n",
    "\n",
    "许多网站提供应用程序接口（Application Programming Interface， API）允许你明确地请求结构化格式的数据。这样省去了我们不得不去抓取数据的麻烦。\n",
    "\n",
    "本套课程中，只需要大家对上述三种常见的获取数据方法有基本的认识，更为全面和细致的学习将会在数据分析专项课中和大家分享。\n",
    "\"\"\""
   ]
  },
  {
   "cell_type": "code",
   "execution_count": 413,
   "metadata": {},
   "outputs": [
    {
     "name": "stdout",
     "output_type": "stream",
     "text": [
      "b'<html>\\n<head>\\n<title>\\xe6\\xac\\xa2\\xe8\\xbf\\x8e\\xe6\\x9d\\xa5\\xe5\\x88\\xb0\\xe6\\x89\\x87\\xe8\\xb4\\x9d\\xe7\\xbc\\x96\\xe7\\xa8\\x8b</title>\\n</head>\\n<body>\\n<h1>\\xe7\\xbd\\x91\\xe7\\xab\\x99\\xe7\\x88\\xac\\xe8\\x99\\xab\\xe6\\xb5\\x8b\\xe8\\xaf\\x95</h1>\\n\\n<table border=\"2\">\\n<tr>\\n<td>\\xe5\\xa7\\x93\\xe5\\x90\\x8d</td><td>\\xe7\\x94\\xbb\\xe4\\xb8\\x80\\xe5\\x8f\\xaa\\xe5\\x96\\xb5\\xe6\\x98\\x9f\\xe4\\xba\\xba</td><td>\\xe6\\xad\\xa3\\xe7\\xa1\\xae\\xe9\\xa2\\x98\\xe6\\x95\\xb0</td><td>\\xe7\\xad\\x89\\xe7\\xba\\xa7</td>\\n</tr>\\n<tr><td>\\xe9\\x98\\xbf\\xe5\\xbc\\xba</td><td><span class=\"comments\">\\xe5\\xae\\x8c\\xe6\\x88\\x90</span></td><td><span class=\"correct\">4</span></td><td><span class=\"rank\">A</span></td></tr>\\n\\n<tr><td>\\xe8\\x80\\x81\\xe7\\x8e\\x8b</td><td><span class=\"comments\">\\xe5\\xae\\x8c\\xe6\\x88\\x90</span></td><td><span class=\"correct\">3</span></td><td><span class=\"rank\">B</span></td></tr>\\n\\n<tr><td>\\xe5\\xb0\\x8f\\xe8\\x8a\\xb3</td><td><span class=\"comments\">\\xe5\\xae\\x8c\\xe6\\x88\\x90</span></td><td><span class=\"correct\">2</span></td><td><span class=\"rank\">C</span></td></tr>\\n\\n<tr><td>\\xe5\\xbc\\xa0\\xe5\\xb0\\x8f\\xe6\\x98\\x8e</td><td><span class=\"comments\">\\xe6\\x9c\\xaa\\xe5\\xae\\x8c\\xe6\\x88\\x90</span></td><td><span class=\"correct\">3</span></td><td><span class=\"rank\">C</span></td></tr>\\n\\n</table>\\n</body>\\n</html>\\n'\n"
     ]
    }
   ],
   "source": [
    "\"\"\"\n",
    "在网页爬虫入门这节课中，我们学习了如何从网络获取数据。在此，我们复习一下之前的知识点。\n",
    "\n",
    "请补全注释行……处代码，使得程序可以获取网址：\n",
    "\n",
    "https://assets.baydn.com/baydn/public/codetime/1/scrape_py.html\n",
    "的数据，并将其中HTML内容输出。\n",
    "\"\"\"\n",
    "from urllib.request import urlopen\n",
    "\n",
    "web_adr = \"https://assets.baydn.com/baydn/public/codetime/1/scrape_py.html\"\n",
    "web_response = urlopen(web_adr)\n",
    "\n",
    "print(web_response.read())"
   ]
  },
  {
   "cell_type": "code",
   "execution_count": 414,
   "metadata": {},
   "outputs": [
    {
     "data": {
      "text/plain": [
       "'\\n清洗数据：我们获取的数据往往是“不干净”的，我们需要对它进行清洗。甚至有数据科学家说，团队平日工作中90%的时间都在清洗数据。清洗数据一般包括三个方面：异常值的处理，空值的处理以及数据调整。我们会在本七节课的第四节为大家介绍三个方法的应用场景。\\n'"
      ]
     },
     "execution_count": 414,
     "metadata": {},
     "output_type": "execute_result"
    }
   ],
   "source": [
    "\"\"\"\n",
    "清洗数据：我们获取的数据往往是“不干净”的，我们需要对它进行清洗。甚至有数据科学家说，团队平日工作中90%的时间都在清洗数据。清洗数据一般包括三个方面：异常值的处理，空值的处理以及数据调整。我们会在本七节课的第四节为大家介绍三个方法的应用场景。\n",
    "\"\"\""
   ]
  },
  {
   "cell_type": "code",
   "execution_count": 415,
   "metadata": {},
   "outputs": [
    {
     "name": "stdout",
     "output_type": "stream",
     "text": [
      "世界人口统计（2013～2017）：\n",
      "7530000000.0\n",
      "<class 'float'>\n",
      "7444000000.0\n",
      "<class 'float'>\n",
      "7358000000.0\n",
      "<class 'float'>\n",
      "7271000000.0\n",
      "<class 'float'>\n",
      "718500000.0\n",
      "<class 'float'>\n",
      "数据来源：https://data.worldbank.org/indicator/sp.pop.totl\n"
     ]
    }
   ],
   "source": [
    "\"\"\"\n",
    "请按照要求，补全注释行…处代码：\n",
    "\n",
    "下方是我们从世界银行网站免费下载的公开数据，其中记录了每年的世界人口统计。我们想计算每年人口的变化趋势，但可惜的是，到手的数据都是字符串，无法直接进行计算。结合你所学的Python知识，如何将下方字典的值（字符串）改为 float 数据。\n",
    "\"\"\"\n",
    "data = \"https://data.worldbank.org/indicator/sp.pop.totl\"\n",
    "world_population = {2017:\"7530000000\", 2016: \"7444000000\", 2015: \"7358000000\", 2014: \"7271000000\", 2013: \"718500000\"}\n",
    "\n",
    "print(\"世界人口统计（2013～2017）：\")\n",
    "for pop in world_population.values():\n",
    "    pop = float(pop)\n",
    "    print(pop)\n",
    "    print(type(pop))\n",
    "\n",
    "\n",
    "print(\"数据来源：\"+data)"
   ]
  },
  {
   "cell_type": "code",
   "execution_count": 416,
   "metadata": {},
   "outputs": [
    {
     "data": {
      "text/plain": [
       "'\\n分析数据：对数据清洗完毕后，我们可以从中挖掘有价值的信息。根据我们对问题的分类，也可以将对数据的分析角度划分为描述性分析和推断性分析。在本次七节课中，我们会在第2、3和6三节课为大家介绍常见的数据分析方法。\\n'"
      ]
     },
     "execution_count": 416,
     "metadata": {},
     "output_type": "execute_result"
    }
   ],
   "source": [
    "\"\"\"\n",
    "分析数据：对数据清洗完毕后，我们可以从中挖掘有价值的信息。根据我们对问题的分类，也可以将对数据的分析角度划分为描述性分析和推断性分析。在本次七节课中，我们会在第2、3和6三节课为大家介绍常见的数据分析方法。\n",
    "\"\"\""
   ]
  },
  {
   "cell_type": "code",
   "execution_count": 417,
   "metadata": {},
   "outputs": [
    {
     "name": "stdout",
     "output_type": "stream",
     "text": [
      "A公司的平均收入为6150.0元/月\n",
      "B公司的平均收入为5837.5元/月\n"
     ]
    }
   ],
   "source": [
    "\"\"\"\n",
    "请运行下方程序，依据运行结果你愿意去哪家公司工作？\n",
    "\n",
    "你觉得下方代码的分析方式有缺陷吗？如果有，缺陷是什么？\n",
    "\n",
    "请带着你的思考，我们会在后面几节课中和大家讨论。\n",
    "\"\"\"\n",
    "company_a = [3000,3500,3300,4000,3200,30000,4300,3000,4200,3000]\n",
    "company_b = [6000,6500,6000,5500,5300,5300,6300,5800]\n",
    "\n",
    "def ave_income(company):\n",
    "  total = 0\n",
    "  count = 0\n",
    "  for num in company:\n",
    "    total += num\n",
    "    count += 1 \n",
    "  return total/count\n",
    "  \n",
    "print(\"A公司的平均收入为{}元/月\".format(ave_income(company_a)))\n",
    "print(\"B公司的平均收入为{}元/月\".format(ave_income(company_b)))"
   ]
  },
  {
   "cell_type": "code",
   "execution_count": 418,
   "metadata": {},
   "outputs": [
    {
     "data": {
      "text/plain": [
       "'\\n报告结论：数据分析不仅仅是一个人对着一台电脑的工作。你还需要将结果同其他人交流讨论，完善分析的过程或结果。不仅如此，你可能还需要用结论去推动一些改变，让你的工作、团队的项目甚至周围的世界变得更好。最常见的结论展现方式是将数据可视化。我们会在第5和7两节课中，为大家做概括性介绍如何用Python中的pygal库实现数据可视化。\\n'"
      ]
     },
     "execution_count": 418,
     "metadata": {},
     "output_type": "execute_result"
    }
   ],
   "source": [
    "\"\"\"\n",
    "报告结论：数据分析不仅仅是一个人对着一台电脑的工作。你还需要将结果同其他人交流讨论，完善分析的过程或结果。不仅如此，你可能还需要用结论去推动一些改变，让你的工作、团队的项目甚至周围的世界变得更好。最常见的结论展现方式是将数据可视化。我们会在第5和7两节课中，为大家做概括性介绍如何用Python中的pygal库实现数据可视化。\n",
    "\"\"\""
   ]
  },
  {
   "cell_type": "code",
   "execution_count": 1,
   "metadata": {},
   "outputs": [],
   "source": [
    "# 请运行下方程序，从可视化结果中，你能得出什么样的启示？\n",
    "import pygal\n",
    "line_chart = pygal.Line()\n",
    "line_chart.title = '浏览器使用比例 (%)'\n",
    "line_chart.x_labels = map(str, range(2002, 2013))\n",
    "line_chart.add('火狐', [None, None,    0, 16.6,   25,   31, 36.4, 45.5, 46.3, 42.8, 37.1])\n",
    "line_chart.add('Chrome',  [None, None, None, None, None, None,    0,  3.9, 10.8, 23.8, 35.3])\n",
    "line_chart.add('IE',      [85.8, 84.6, 84.7, 74.5,   66, 58.6, 54.7, 44.8, 36.2, 26.6, 20.1])\n",
    "line_chart.add('其他',  [14.2, 15.4, 15.3,  8.9,    9, 10.4,  8.9,  5.8,  6.7,  6.8,  7.5])\n",
    "line_chart.render_to_file(r'/Users/XUMIAO/Desktop/line.svg')"
   ]
  },
  {
   "cell_type": "code",
   "execution_count": 8,
   "metadata": {},
   "outputs": [],
   "source": [
    "# 异常值处理属于清洗数据的一部分\n",
    "# 数据可视化不属于数据获取的方法\n",
    "# 按照问题的性质，我们在分析数据时，一般将分析角度划分为哪两类：描述性分析和推断性分析。"
   ]
  },
  {
   "cell_type": "code",
   "execution_count": 2,
   "metadata": {},
   "outputs": [],
   "source": [
    "\"\"\"\n",
    "泰坦尼克号幸存者数据是很多初次接触数据分析的学习者容易上手的数据集。其中统计了部分乘客的信息，诸如：乘客编号、姓名、性别、年龄、票价、登船点、是否幸存、是否携带家眷、舱位、票号等。今天我们先根据代码中的注释要求，来画一张幸存遇难者性别人数的统计图。\n",
    "\"\"\"\n",
    "import pygal\n",
    "\"\"\"\n",
    "对891名泰坦尼克号乘客统计（人数）：\n",
    "女性幸存者：223\n",
    "男性幸存者：109\n",
    "女性遇难者：81\n",
    "男性遇难者：468\n",
    "\"\"\"\n",
    "#survive_female 存入女性幸存者人数\n",
    "survive_female = 223\n",
    "non_survive_female = 81\n",
    "survive_male = 109\n",
    "#non_survive_male 存入男性遇难者人数\n",
    "non_survive_male = 468\n",
    "\n",
    "line_chart = pygal.Bar()\n",
    "line_chart.title = '泰坦尼克号生存统计'\n",
    "line_chart.x_labels = map(str, [\"幸存者\",\"遇难者\"])\n",
    "line_chart.add('女性',  [survive_female, non_survive_female])\n",
    "line_chart.add('男性',  [survive_male, non_survive_male])\n",
    "line_chart.render_to_file(r'/Users/XUMIAO/Desktop/line2.svg')"
   ]
  },
  {
   "cell_type": "code",
   "execution_count": 3,
   "metadata": {},
   "outputs": [],
   "source": [
    "# 12.2 数据分析入门（2）"
   ]
  },
  {
   "cell_type": "code",
   "execution_count": 5,
   "metadata": {},
   "outputs": [
    {
     "name": "stdout",
     "output_type": "stream",
     "text": [
      "800\n",
      "10\n",
      "80.0\n"
     ]
    }
   ],
   "source": [
    "# 均值：均值也称为平均值或平均数。它等于数值之和除以数值个数。当使用列表来保存数值时，我们可以用Python内置的sum() 来计算列表内的数值之和，用 len() 来计算列表内的数值个数。\n",
    "\n",
    "# score 内是学生在某个Python项目上的得分\n",
    "score = [96,80,85,79,92,42,84,72,93,77]\n",
    "\n",
    "# ave_score 计算score的均值\n",
    "sum_score = sum(score)\n",
    "print(sum_score) # 输出：800\n",
    "num_score = len(score) \n",
    "print(num_score) # 输出：10\n",
    "ave_score = sum_score / num_score\n",
    "print(ave_score) # 输出： 80.0\n",
    "# 上例中，学生的总分 sum_score 为 800，分数 num_score 有10个，均值 ave_score 为 80.0。"
   ]
  },
  {
   "cell_type": "code",
   "execution_count": 6,
   "metadata": {},
   "outputs": [
    {
     "name": "stdout",
     "output_type": "stream",
     "text": [
      "34.82\n"
     ]
    }
   ],
   "source": [
    "\"\"\"\n",
    "某外卖APP“送得快”上记录了老王某月的点单金额，这些数据记录在列表 order 中，请计算出老王在这个月中，平均每单外卖的金额是多少，并将该均值赋值给 ave_order。\n",
    "\"\"\"\n",
    "order = [27.0, 15.0, 19.0, 68.0, 32.0, 19.0, 19.0, 120.0, 20.0, 32.0, 12.0]\n",
    "\n",
    "# 请计算平均每单外卖的金额\n",
    "ave_order = sum(order)/len(order)\n",
    "\n",
    "# 将ave_order 取小数位后两位\n",
    "ave_order = round(ave_order,2)\n",
    "\n",
    "print(ave_order)"
   ]
  },
  {
   "cell_type": "code",
   "execution_count": 7,
   "metadata": {},
   "outputs": [
    {
     "name": "stdout",
     "output_type": "stream",
     "text": [
      "[2, 2, 3, 4]\n",
      "82.0\n"
     ]
    }
   ],
   "source": [
    "# 中位数：均值有时具有“欺骗性”，因为它对极端数值非常敏感。举一个例子，在20世纪80年代，人们曾对美国的北卡罗莱纳大学的各专业毕业生起薪做统计。令人意外的是，人们发现地理学专业的毕业生起薪均值最高。究其原因，是因为NBA球星迈克尔·乔丹毕业于该专业，均值被这个极端数值拉高了许多。所以有时，我们也会参考一组数值的中位数来帮助我们了解数据特征。所谓中位数，是指一组数值中间点的值，当数值个数为奇数时，中位数就正好是中间点的值；如果数值个数为偶数，中位数为中间两个点的均值。\n",
    "\n",
    "# 我们来看如何用代码计算一组数值的中位数，首先需要大家知道 Python 内置的 sorted()，它可以将一组数值自小到大排序：\n",
    "\n",
    "numbers = [2,3,4,2]\n",
    "sorted_numbers = sorted(numbers)\n",
    "print(sorted_numbers)\n",
    "# 输出：[2, 2, 3, 4]\n",
    "# 在此基础上，我们写个函数求中位数：\n",
    "\n",
    "def get_median(numbers):\n",
    "    \"\"\"\n",
    "    找到numbers最中间的数\n",
    "    \"\"\"\n",
    "    length = len(numbers) #数值个数\n",
    "    sorted_numbers = sorted(numbers) #将数值排序\n",
    "    mid_point = int(length/2) #中位数的位置，需要是int类型\n",
    "    \n",
    "    if length % 2 == 1: # 如果数值个数为奇数\n",
    "        median = sorted_numbers[mid_point]\n",
    "    else: # 如果数值个数为偶数\n",
    "        # 中位数为中间两个数 mid_a 和 mid_b 的均值\n",
    "        mid_a = sorted_numbers[mid_point-1]\n",
    "        mid_b = sorted_numbers[mid_point]\n",
    "        median = (mid_a + mid_b)/2\n",
    "    # 函数返回 median\n",
    "    return median\n",
    "\n",
    "score = [96,80,85,79,92,42,84,72,93,77]\n",
    "print(get_median(score))\n",
    "# 输出：82.0"
   ]
  },
  {
   "cell_type": "code",
   "execution_count": 8,
   "metadata": {},
   "outputs": [
    {
     "name": "stdout",
     "output_type": "stream",
     "text": [
      "20.0\n"
     ]
    }
   ],
   "source": [
    "\"\"\"\n",
    "刚才我们求得了老王外卖单消费的均值，但是老王凭直觉认为这个数值高于自己的实际消费水平。我们来求老王外卖单金额的中位数，存入变量 median_order，看看中位数究竟是多少。\n",
    "\"\"\"\n",
    "def get_median(numbers):\n",
    "    \"\"\"\n",
    "    找到numbers最中间的数\n",
    "    \"\"\"\n",
    "    #length 为numbers中数值的个数\n",
    "    length = len(numbers)\n",
    "    #将numbers排序，存入sorted_numbers\n",
    "    sorted_numbers = sorted(numbers)\n",
    "    mid_point = int(length/2) #中位数的位置，需要是int类型\n",
    "    \n",
    "    if length % 2 == 1: # 如果数值个数为奇数\n",
    "        median = sorted_numbers[mid_point]\n",
    "    else: # 如果数值个数为偶数\n",
    "        # 中位数为中间两个数 mid_a 和 mid_b 的均值\n",
    "        mid_a = sorted_numbers[mid_point-1]\n",
    "        mid_b = sorted_numbers[mid_point]\n",
    "        # 求median\n",
    "        median = (mid_a+mid_b)/2\n",
    "    # 函数返回 median\n",
    "    return median\n",
    "        \n",
    "\n",
    "order = [27.0, 15.0, 19.0, 68.0, 32.0, 19.0, 19.0, 120.0, 20.0, 32.0, 12.0]\n",
    "\n",
    "median_order = get_median(order)\n",
    "print(median_order)"
   ]
  },
  {
   "cell_type": "code",
   "execution_count": 9,
   "metadata": {},
   "outputs": [
    {
     "name": "stdout",
     "output_type": "stream",
     "text": [
      "25分位数为77\n",
      "75分位数为92\n"
     ]
    }
   ],
   "source": [
    "# 分位数：在中位数的基础上，我们了解一个更泛化的概念——分位数。它是指一组数值中，大于或等于特定百分比的一个值。比如，75分位指一组数值中，大于或等于75%数值的值。\n",
    "\n",
    "# 我们来写一个函数，计算一组数值中的 n分位数是多少：\n",
    "\n",
    "def find_nperc(numbers,n):\n",
    "    \"\"\"\n",
    "    返回numbers中，n分位对应的数值是多少\n",
    "    \"\"\"\n",
    "    # 先将数值排序 \n",
    "    sorted_numbers = sorted(numbers)\n",
    "    \n",
    "    # 找到n分位对应数值的索引位置\n",
    "    n_index = int(n/100 * len(sorted_numbers))\n",
    "    \n",
    "    return sorted_numbers[n_index]\n",
    "\n",
    "score = [96,80,85,79,92,42,84,72,93,77]\n",
    "print(\"25分位数为{}\".format(find_nperc(score,25)))\n",
    "# 输出：25分位数为77\n",
    "print(\"75分位数为{}\".format(find_nperc(score,75)))\n",
    "# 输出：75分位数为92"
   ]
  },
  {
   "cell_type": "code",
   "execution_count": 10,
   "metadata": {},
   "outputs": [
    {
     "name": "stdout",
     "output_type": "stream",
     "text": [
      "95分位数为120.0\n"
     ]
    }
   ],
   "source": [
    "# 老王发现自己外卖订单的均值和平均值相差不小，他怀疑自己应该是某次外卖的金额过高了。我们来帮老王找出订单中95分位的数值。\n",
    "order = [27.0, 15.0, 19.0, 68.0, 32.0, 19.0, 19.0, 120.0, 20.0, 32.0, 12.0]\n",
    "def find_nperc(numbers,n):\n",
    "    \"\"\"\n",
    "    返回numbers中，n分位对应的数值是多少\n",
    "    \"\"\"\n",
    "    # 先将数值排序 \n",
    "    sorted_numbers = sorted(numbers)\n",
    "    \n",
    "    # 找到n分位对应数值的索引位置\n",
    "    n_index = int(n/100 * len(sorted_numbers))\n",
    "    \n",
    "    return sorted_numbers[n_index]\n",
    "\n",
    "\n",
    "print(\"95分位数为{}\".format(find_nperc(order,95)))"
   ]
  },
  {
   "cell_type": "code",
   "execution_count": 11,
   "metadata": {},
   "outputs": [
    {
     "name": "stdout",
     "output_type": "stream",
     "text": [
      "众数为[93]，出现次数2次\n"
     ]
    }
   ],
   "source": [
    "\"\"\"\n",
    "众数：一组数值中，出现频次最多的数值为众数，有时一组数值中会有多个众数。\n",
    "\n",
    "借此机会，我们学习Python中内置的max()，它可以返回一组列表中数值最大的元素。\n",
    "\n",
    "下方函数求得一个列表 numbers 中的众数，思路如下：\n",
    "\n",
    "1）用 count() 计算列表 numbers 中每个元素出现的次数；\n",
    "\n",
    "2）将上述元素和对应的出现次数存入字典 count_num 中；\n",
    "\n",
    "3）用 max() 找到 count_num 中最大的值，并找到拥有该值的字典键添加到 max_count_num 中；\n",
    "\n",
    "4）max_count_num 中的元素就是众数，count_num 是众数出现的次数。\n",
    "\"\"\"\n",
    "def get_mode(numbers):\n",
    "    \"\"\"\n",
    "    返回 numbers中出现次数最多的数值（众数）及其出现次数\n",
    "    \"\"\"\n",
    "    count_num = {}\n",
    "    max_count_num = []\n",
    "    # 循环numbers，建立字典 count_num：{数值：出现次数}\n",
    "    for num in numbers:\n",
    "        count_num[num] = numbers.count(num)\n",
    "    # 循环count_num\n",
    "    # 用max() 得到数值出现次数的最大值，赋值给 max_count\n",
    "    # 将出现次数最大值的数值（众数）放入 max_count_num\n",
    "    for num,count in count_num.items():\n",
    "        if count == max(count_num.values()):\n",
    "            max_count = count\n",
    "            max_count_num.append(num)\n",
    "\n",
    "    return \"众数为{}，出现次数{}次\".format(max_count_num,max_count)\n",
    "\n",
    "score = [96,80,85,79,93,42,84,72,93,77]\n",
    "print(get_mode(score))\n",
    "# 众数为[93]，出现次数2次"
   ]
  },
  {
   "cell_type": "code",
   "execution_count": 12,
   "metadata": {},
   "outputs": [
    {
     "name": "stdout",
     "output_type": "stream",
     "text": [
      "众数为19.0\n",
      "众数出现次数为3\n"
     ]
    }
   ],
   "source": [
    "# 老王想看看自己的订单中，出现次数最多的付款金额是多少。我们一起来帮助他\n",
    "order = [27.0, 15.0, 19.0, 68.0, 32.0, 19.0, 19.0, 120.0, 20.0, 32.0, 12.0]\n",
    "def get_mode(numbers):\n",
    "    \"\"\"\n",
    "    返回 numbers中出现次数最多的数值（众数）及其出现次数\n",
    "    \"\"\"\n",
    "    count_num = {}\n",
    "    max_count_num = []\n",
    "    # 循环numbers，建立字典 count_num {数值：出现次数}\n",
    "    for num in numbers:\n",
    "        count_num[num] = numbers.count(num)\n",
    "    # 循环count_num\n",
    "    # 用max() 得到数值出现次数的最大值，赋值给 max_count\n",
    "    # 将出现次数最大值的数值（众数）放入 max_count_num\n",
    "    for num,count in count_num.items():\n",
    "        if count == max(count_num.values()):\n",
    "            max_count = count\n",
    "            max_count_num.append(num)\n",
    "\n",
    "    return max_count_num,max_count\n",
    "\n",
    "#将order作为函数 get_mode 的参数    \n",
    "mode_num, times = get_mode(order)\n",
    "\n",
    "for num in mode_num:\n",
    "  print(\"众数为{}\".format(num))\n",
    "\n",
    "print(\"众数出现次数为{}\".format(times))"
   ]
  },
  {
   "cell_type": "code",
   "execution_count": 13,
   "metadata": {},
   "outputs": [
    {
     "name": "stdout",
     "output_type": "stream",
     "text": [
      "21\n"
     ]
    }
   ],
   "source": [
    "print(sum([1,2,3,4,5,6]))"
   ]
  },
  {
   "cell_type": "code",
   "execution_count": 14,
   "metadata": {},
   "outputs": [
    {
     "name": "stdout",
     "output_type": "stream",
     "text": [
      "[2, 2, 3, 4]\n"
     ]
    }
   ],
   "source": [
    "numbers = [2,3,4,2]\n",
    "sorted_numbers = sorted(numbers)\n",
    "print(sorted_numbers)\n",
    "# sorted() 将一组列表的数值自小往大排列。"
   ]
  },
  {
   "cell_type": "code",
   "execution_count": 15,
   "metadata": {},
   "outputs": [],
   "source": [
    "# 均值容易受到极端数值影响"
   ]
  },
  {
   "cell_type": "code",
   "execution_count": 16,
   "metadata": {},
   "outputs": [
    {
     "name": "stdout",
     "output_type": "stream",
     "text": [
      "幸存者平均年龄为31.71岁\n",
      "遇难者平均年龄为42.65岁\n"
     ]
    }
   ],
   "source": [
    "\"\"\"\n",
    "我们对泰坦尼克号乘客的数据做了随机取样：\n",
    "\n",
    "下方 survived_age 和 non_survived_age 分别记录了部分幸存者和遇难者的年龄。\n",
    "\n",
    "请分别计算该样本中幸存者和遇难者的年龄均值，分别存入变量 ave_survived_age 和 ave_non_survived_age 之中。\n",
    "\n",
    "计算结果会给你什么样的启示？\n",
    "\"\"\"\n",
    "survived_age = [48.0, 15.0, 40.0, 36.0, 47.0, \\\n",
    "32.0, 60.0, 31.0, 17.0, 36.0, 39.0, 36.0, 32.5, \\\n",
    "39.0, 38.0, 36.0, 52.0, 29.0, 35.0, 35.0, 49.0, \\\n",
    "16.0, 27.0, 22.0, 27.0, 35.0, 3.0, 11.0, 36.0, \\\n",
    "1.0, 19.0, 24.0, 33.0, 43.0, 24.0, 32.0, 49.0, \\\n",
    "30.0, 49.0, 60.0, 23.0, 26.0, 24.0, 40.0, 25.0, \\\n",
    "36.0, 48.0, 21.0, 29.0, 24.0, 44.0, 41.0, 2.0, \\\n",
    "28.0, 40.0, 22.0, 33.0, 35.0, 24.0, 28.0, 17.0, 16.0, 48.0]\n",
    "\n",
    "non_survived_age = [47.0, 55.0, 36.0, 38.0, 19.0, \\\n",
    "24.0, 36.0, 45.5, 45.0, 46.0, 57.0, 25.0, 58.0, \\\n",
    "46.0, 50.0, 56.0, 58.0, 62.0, 64.0, 39.0, 21.0, \\\n",
    "47.0, 45.0, 18.0, 70.0, 2.0, 36.0, 61.0, 47.0, \\\n",
    "29.0, 40.0, 19.0, 65.0, 50.0, 54.0, 36.5, 31.0]\n",
    "\n",
    "ave_survived_age = sum(survived_age) / len(survived_age)\n",
    "ave_survived_age = round(ave_survived_age,2)\n",
    "\n",
    "ave_non_survived_age = sum(non_survived_age) / len(non_survived_age)\n",
    "ave_non_survived_age = round(ave_non_survived_age,2)\n",
    "\n",
    "print(\"幸存者平均年龄为{}岁\".format(ave_survived_age))\n",
    "print(\"遇难者平均年龄为{}岁\".format(ave_non_survived_age))"
   ]
  },
  {
   "cell_type": "code",
   "execution_count": 17,
   "metadata": {},
   "outputs": [],
   "source": [
    "# 12.3 数据分析入门（3）"
   ]
  },
  {
   "cell_type": "code",
   "execution_count": 18,
   "metadata": {},
   "outputs": [
    {
     "name": "stdout",
     "output_type": "stream",
     "text": [
      "54\n"
     ]
    }
   ],
   "source": [
    "\"\"\"\n",
    "极差：有些情况下，当我们面对一组数据时，我们会分析它的“分散”情况。其中极差是一种比较便捷、且容易理解的分析方法。它是指一组数据中最大值减去最小值的差。 其中，我们可以用 max() 来获得数据的最大值，用 min() 来获得数据的最小值。\n",
    "\"\"\"\n",
    "# score 是一群学生在某个Python项目上的得分\n",
    "score = [96,80,85,79,92,42,84,72,93,77]\n",
    "# score_range 为 score 的极差\n",
    "score_range = max(score) - min(score)\n",
    "print(score_range)\n",
    "# 输出：54"
   ]
  },
  {
   "cell_type": "code",
   "execution_count": 19,
   "metadata": {},
   "outputs": [
    {
     "name": "stdout",
     "output_type": "stream",
     "text": [
      "老王外卖订单数据的极差为108.0元\n"
     ]
    }
   ],
   "source": [
    "# 请补全 注释 行 … 处代码，看看老王的外卖订单里，最贵的订单与最便宜的订单之间差多少钱。\n",
    "def calculate_range(data):\n",
    "    # get_range 为 data 的极差\n",
    "    get_range = max(data) - min(data)\n",
    "    return get_range\n",
    "order = [\n",
    "  27.0, \n",
    "  15.0, \n",
    "  19.0, \n",
    "  68.0, \n",
    "  32.0, \n",
    "  19.0, \n",
    "  19.0, \n",
    "  120.0, \n",
    "  20.0, \n",
    "  32.0, \n",
    "  12.0\n",
    "]\n",
    "order_range = calculate_range(order)\n",
    "print(\"老王外卖订单数据的极差为{}元\".format(order_range))"
   ]
  },
  {
   "cell_type": "code",
   "execution_count": 20,
   "metadata": {},
   "outputs": [
    {
     "name": "stdout",
     "output_type": "stream",
     "text": [
      "236.44444444444446\n"
     ]
    }
   ],
   "source": [
    "\"\"\"\n",
    "方差：之前学到的极差虽然简单易得，但是有其局限性。原因在于它只受数据中的最大值和最小值影响。假设数据集A中的最大值和最小值与数据集B一样，都分别是100和0，但是数据集A中的其他数值均为50，而数据集B中的其他数值均为5。从直观经验上，我们也可以发现两组数据集是有很大差异的。在此，我们引入一个新的概念——方差。从定义上，我们将方差理解为在一组数据集中，数值与均值之间的距离。\n",
    "\n",
    "在下方图中，我们红点与蓝点所代表的数据集均值相同（黄线水平），但是用肉眼来看，我们发现红点较集中在均值附近，而蓝点则较远。可以初步判断，红点所代表数据集的方差要小于蓝点。如果一组数据集的方差越大，那么数据集的“波动性”也会越大。\n",
    "\n",
    "\n",
    "\n",
    "方差的计算方法为：\n",
    "\n",
    "1）先求得一组数据集的均值 mean；\n",
    "\n",
    "2）用数据集中的每一个数值减去均值，其差为 de_mean；求每个差值 de_mean 的平方 sqr；\n",
    "\n",
    "3）将所有 sqr 相加，得到和为 sum_sqr；\n",
    "\n",
    "4）如果数据集的数据个数为 n，则 sum_sqr / (n-1) 的结果，即是该数据集的方差 variance。\n",
    "\n",
    "我们来看具体的 python 代码：\n",
    "\"\"\"\n",
    "# score 是一群学生在某个Python项目上的得分\n",
    "score = [96,80,85,79,92,42,84,72,93,77]\n",
    "# 1）先求得一组数据集的均值 mean；\n",
    "mean = sum(score) / len(score)\n",
    "# 2）用数据集中的每一个数值减去 mean，并求得差值的平方 sqr，\n",
    "#    将所有 sqr 相加，求得 sum_sqr；\n",
    "sum_sqr = 0\n",
    "for num in score:\n",
    "    sum_sqr += (num - mean) ** 2\n",
    "# 3）求 sum_sqr / (n-1)，结果就是方差 variance。\n",
    "variance = sum_sqr / (len(score)-1)\n",
    "print(variance)\n",
    "# 输出：236.44444444444446"
   ]
  },
  {
   "cell_type": "code",
   "execution_count": 21,
   "metadata": {},
   "outputs": [
    {
     "name": "stdout",
     "output_type": "stream",
     "text": [
      "1031.7636363636364\n"
     ]
    }
   ],
   "source": [
    "# 请补全 注释 行 … 处代码，计算老王外卖订单 order 中的方差。\n",
    "order = [\n",
    "  27.0, \n",
    "  15.0, \n",
    "  19.0, \n",
    "  68.0, \n",
    "  32.0, \n",
    "  19.0, \n",
    "  19.0, \n",
    "  120.0, \n",
    "  20.0, \n",
    "  32.0, \n",
    "  12.0\n",
    "]\n",
    "mean = sum(order) / len(order)\n",
    "sum_sqr = 0\n",
    "for num in order:\n",
    "    sum_sqr += (num - mean) ** 2\n",
    "variance = sum_sqr / (len(order) -1)\n",
    "print(variance)"
   ]
  },
  {
   "cell_type": "code",
   "execution_count": 22,
   "metadata": {},
   "outputs": [
    {
     "name": "stdout",
     "output_type": "stream",
     "text": [
      "15.37660560722034\n",
      "15.37660560722034\n"
     ]
    }
   ],
   "source": [
    "#标准差：上一页讲到的方差是一系列平方的求和，比较难以理解和沟通。因此人们在方差的基础上创造了更便于交流、理解的概念——标准差。标准差为方差的平方根。\n",
    "\n",
    "# variance 为刚才计算的方差：\n",
    "variance = 236.44\n",
    "# 标准差为 variance 的平方根\n",
    "standard_deviation = variance ** 0.5\n",
    "print(standard_deviation)\n",
    "# 输出：15.37660560722034\n",
    "#另外，我们之前学过 Python 中内置的 Math 库，其中有计算平方根的 .sqrt() 方法，我们也可以通过其来根据方差计算标准差：\n",
    "\n",
    "import math\n",
    "variance = 236.44\n",
    "standard_deviation = math.sqrt(variance)\n",
    "print(standard_deviation)\n",
    "# 输出：15.37660560722034"
   ]
  },
  {
   "cell_type": "code",
   "execution_count": 23,
   "metadata": {},
   "outputs": [
    {
     "name": "stdout",
     "output_type": "stream",
     "text": [
      "32.12102115437801\n",
      "32.12102115437801\n"
     ]
    }
   ],
   "source": [
    "# 请补全注释行 … 处代码，用两种计算方法来计算老王外卖订单金额的标准差。\n",
    "import math\n",
    "variance = 1031.76\n",
    "# std_dev_m1 为 variance 的平方根\n",
    "std_dev_m1 = variance ** 0.5\n",
    "# 用 math 中的 .sqrt() 方法求 std_dev_m2\n",
    "std_dev_m2 = math.sqrt(variance)\n",
    "print(std_dev_m1)\n",
    "print(std_dev_m2)"
   ]
  },
  {
   "cell_type": "code",
   "execution_count": 3,
   "metadata": {},
   "outputs": [],
   "source": [
    "# 极差是一组数据集中最大值与最小值的差值。\n",
    "# 方差的计算涉及均值，标准差的计算要基于方差。极差的计算只需要涉及数据集的最大值和最小值，因此答案是极差。"
   ]
  },
  {
   "cell_type": "code",
   "execution_count": 25,
   "metadata": {},
   "outputs": [
    {
     "name": "stdout",
     "output_type": "stream",
     "text": [
      "泰坦尼克号部分幸存者的船票价格统计：\n",
      "均值为：91.99\n",
      "极差为：504.28\n",
      "方差为：9964.24\n",
      "标准差为：99.82\n",
      "泰坦尼克号部分遇难者的船票价格统计：\n",
      "均值为：65.98\n",
      "极差为：263.0\n",
      "方差为：4260.61\n",
      "标准差为：65.27\n"
     ]
    }
   ],
   "source": [
    "\"\"\"\n",
    "变量 td_survive_fare 和 td_non_survive_fare 分别储存了部分泰坦尼克号幸存者与遇难者的票价数据。\n",
    "\n",
    "请按照代码中的注释，分别计算它们各自的极差、均值、方差和标准差。\n",
    "\"\"\"\n",
    "# td_survive_fare 为泰坦尼克号部分幸存者的船票价格\n",
    "td_survive_fare = [\n",
    "  39.6, 79.65, 26.0, 49.5, 108.9, \n",
    "  211.34, 30.5, 63.36, 53.1, 16.7, \n",
    "  135.63, 49.5, 75.25, 83.16, 35.5, \n",
    "  53.1, 39.0, 57.98, 93.5, 26.39, \n",
    "  26.55, 39.4, 134.5, 90.0, 56.93, \n",
    "  83.16, 26.55, 77.96, 8.05, 120.0, \n",
    "  57.0, 12.47, 135.63, 55.0, 153.46, \n",
    "  512.33, 30.0, 55.44, 512.33, 262.38, \n",
    "  25.93, 78.27, 26.28, 83.47, 89.1, \n",
    "  26.55, 26.55, 247.52, 262.38, 13.0, \n",
    "  30.0, 86.5, 55.9, 51.48, 26.0, \n",
    "  263.0, 25.93, 91.08, 10.5, 146.52, \n",
    "  69.3, 10.5, 227.53, 77.96, 151.55\n",
    "  ]\n",
    "\n",
    "# td_non_survive_fare 为泰坦尼克号部分遇难者的船票价格\n",
    "td_non_survive_fare = [\n",
    "  151.55, 110.88, 61.98, 263.0, 52.0, \n",
    "  38.5, 77.29, 247.52, 32.32, 26.55, \n",
    "  26.55, 79.65, 34.65, 66.6, 33.5, \n",
    "  106.42, 25.59, 26.55, 7.65, 0.0, \n",
    "  10.46, 27.75, 30.7, 113.28, 108.9, \n",
    "  77.29, 29.7, 35.5, 10.5, 30.0, \n",
    "  79.2, 211.5, 30.5, 40.12, 5.0\n",
    "  ]\n",
    "\n",
    "# 请计算 td_survive_fare 的极差，赋值给变量 range_survive_fare\n",
    "range_survive_fare = max(td_survive_fare) - min(td_survive_fare)\n",
    "\n",
    "# 请计算 td_non_survive_fare 的极差，赋值给变量 range_non_survive_fare\n",
    "range_non_survive_fare = max(td_non_survive_fare) - min(td_non_survive_fare)\n",
    "\n",
    "# 请计算 td_survive_fare 的均值，赋值给变量 mean_survive_fare\n",
    "mean_survive_fare = sum(td_survive_fare) / len(td_survive_fare)\n",
    "\n",
    "# 请计算 td_non_survive_fare 的均值，赋值给变量 mean_non_survive_fare\n",
    "mean_non_survive_fare = sum(td_non_survive_fare) / len(td_non_survive_fare)\n",
    "\n",
    "# 请计算 td_survive_fare 的方差和标准差，\n",
    "# 分别存入变量 variance_survive_fare 和 stdev_survive_fare\n",
    "sum_variance_survive_fare = 0\n",
    "for fare in td_survive_fare:\n",
    "    sum_variance_survive_fare += (fare - mean_survive_fare) ** 2\n",
    "variance_survive_fare = sum_variance_survive_fare / (len(td_survive_fare) - 1)\n",
    "stdev_survive_fare = variance_survive_fare ** 0.5\n",
    "\n",
    "# 请计算 td_non_survive_fare 的方差和标准差，\n",
    "# 分别存入变量 variance_non_survive_fare 和 stdev_non_survive_fare\n",
    "sum_variance_non_survive_fare = 0\n",
    "for fare in td_non_survive_fare:\n",
    "    sum_variance_non_survive_fare += (fare - mean_non_survive_fare) ** 2\n",
    "variance_non_survive_fare = sum_variance_non_survive_fare / (len(td_non_survive_fare) - 1)\n",
    "stdev_non_survive_fare = variance_non_survive_fare ** 0.5\n",
    "\n",
    "print(\"泰坦尼克号部分幸存者的船票价格统计：\")\n",
    "print(\"均值为：{}\".format(round(mean_survive_fare,2)))\n",
    "print(\"极差为：{}\".format(round(range_survive_fare,2)))\n",
    "print(\"方差为：{}\".format(round(variance_survive_fare,2)))\n",
    "print(\"标准差为：{}\".format(round(stdev_survive_fare,2)))\n",
    "\n",
    "print(\"泰坦尼克号部分遇难者的船票价格统计：\")\n",
    "print(\"均值为：{}\".format(round(mean_non_survive_fare,2)))\n",
    "print(\"极差为：{}\".format(round(range_non_survive_fare,2)))\n",
    "print(\"方差为：{}\".format(round(variance_non_survive_fare,2)))\n",
    "print(\"标准差为：{}\".format(round(stdev_non_survive_fare,2)))"
   ]
  },
  {
   "cell_type": "code",
   "execution_count": 26,
   "metadata": {},
   "outputs": [],
   "source": [
    "# 12.4 数据分析入门（4）"
   ]
  },
  {
   "cell_type": "code",
   "execution_count": 6,
   "metadata": {},
   "outputs": [
    {
     "name": "stdout",
     "output_type": "stream",
     "text": [
      "72\n",
      "92\n",
      "20\n",
      "2是异常值\n"
     ]
    }
   ],
   "source": [
    "\"\"\"\n",
    "异常值：大家可能看过体操或者跳水比赛，当计算运动员得分时，我们要去掉所有评分者打分的最高分和最低分，这是为了减少异常值对分数整体的干扰。比如，之前学习均值的时候，我们知道一组数据的均值会受异常值影响——异常值往往会大幅度拉高或者降低均值的水平。在此基础上，方差和标准差也受异常值影响。因此，为了使数据分析的结果更为稳定，我们有时需要去除数据集中的异常值。对于异常值的定义，并没有统一的标准，要具体情况具体分析。一般来说，我们会引入一个叫做 IQR 的概念（Interquartile Range），它是一组数据集中75分位数值减去25分位数值的差。我们一般认为在一组数据集中，小于 （25分位值 - IQR 1.5） 或大于 （75分位 + IQR 1.5）的数值为异常值。\n",
    "\"\"\"\n",
    "# 我们在之前 score 的列表里加入一个新的元素 2\n",
    "score = [96,80,85,79,92,42,84,72,93,77,2]\n",
    "# 求n分位函数\n",
    "def find_nperc(numbers,n):\n",
    "    \"\"\"\n",
    "    返回numbers中，n分位对应的数值是多少\n",
    "    \"\"\"\n",
    "    # 先将数值排序 \n",
    "    sorted_numbers = sorted(numbers)\n",
    "    \n",
    "    # 找到n分位对应数值的索引位置\n",
    "    n_index = int(n/100 * len(sorted_numbers))\n",
    "    \n",
    "    return sorted_numbers[n_index]\n",
    "\n",
    "# 25分位数值为 q1_num\n",
    "q1_num = find_nperc(score,25)\n",
    "print(q1_num)\n",
    "# 输出：72\n",
    "\n",
    "# 75分位数值为 q3_num\n",
    "q3_num = find_nperc(score,75)\n",
    "print(q3_num)\n",
    "# 输出：92\n",
    "\n",
    "# 计算 IQR\n",
    "iqr = q3_num - q1_num\n",
    "print(iqr)\n",
    "# 输出：20\n",
    "\n",
    "# 如果 score 中有元素小于 [25分位 - iqr *1.5] \n",
    "# 或者大于 [75分位 + iqr * 1.5]\n",
    "# 则将该元素视作异常值，输出该元素\n",
    "\n",
    "for s in score:\n",
    "    if s < (q1_num - iqr * 1.5) or s > (q3_num + iqr * 1.5):\n",
    "        print(\"{}是异常值\".format(s))\n",
    "# 输出：2是异常值"
   ]
  },
  {
   "cell_type": "code",
   "execution_count": 4,
   "metadata": {},
   "outputs": [
    {
     "name": "stdout",
     "output_type": "stream",
     "text": [
      "68.0是异常值\n",
      "120.0是异常值\n"
     ]
    }
   ],
   "source": [
    "# 请按照要求，输出老王的外卖订单 order 中的异常值。\n",
    "order = [\n",
    "  27.0, \n",
    "  15.0, \n",
    "  19.0, \n",
    "  68.0, \n",
    "  32.0, \n",
    "  19.0, \n",
    "  19.0, \n",
    "  120.0, \n",
    "  20.0, \n",
    "  32.0, \n",
    "  12.0\n",
    "]\n",
    "q1_num = 19.0\n",
    "q3_num = 32.0\n",
    "iqr = q3_num - q1_num\n",
    "for o in order:\n",
    "    if o < (q1_num - iqr * 1.5) or o > (q3_num + iqr * 1.5):\n",
    "        print(\"{}是异常值\".format(o))"
   ]
  },
  {
   "cell_type": "code",
   "execution_count": 5,
   "metadata": {},
   "outputs": [
    {
     "name": "stdout",
     "output_type": "stream",
     "text": [
      "{'老王': [96, 77], '阿强': [80, 93], '小宝': [85, 72], '萌仔': [], '张小明': [76, 42]}\n",
      "{'老王': [96, 77], '阿强': [80, 93], '小宝': [85, 72], '萌仔': [84.25, 71.0], '张小明': [76, 42]}\n"
     ]
    }
   ],
   "source": [
    "\"\"\"\n",
    "空值：有时因为数据源的问题，我们获得的数据集是有瑕疵的。最常见的问题就是有部分“漏掉”的数据，也就是空值。一般来说，在数据分析领域有两种常见的解决方案：一是删除空值，二是将数据集非空值的均值赋予空值。两种方法各有优劣，但此处我们不是讨论的重点。我们在这里需要掌握的，是如何用 Python 对空值数据做上述两种处理：\n",
    "\"\"\"\n",
    "# score 中存储两次学生的 python 考试成绩 \n",
    "score = {    \n",
    "    \"老王\" : [96,77],\n",
    "    \"阿强\" : [80,93],\n",
    "    \"小宝\" : [85,72],\n",
    "    \"\" : [79,84],\n",
    "    \"萌仔\" : [],\n",
    "    \"张小明\" : [76,42]\n",
    "    }\n",
    "# 我们发现，其中有两处空值：一处本应该是学生的姓名，结果是空字符串，我们打算将该条数据删除；\n",
    "# 一处是萌仔的成绩为空列表，我们打算将第一次、第二次考试成绩的均值作用萌仔的成绩添加进列表\n",
    "\n",
    "# 先删除学生名为空字符串的数据\n",
    "score.pop(\"\",\"没有空字符串\")\n",
    "print(score)\n",
    "# 输出：{'老王': [96, 77], '阿强': [80, 93], '小宝': [85, 72], '萌仔': [], '张小明': [76, 42]}\n",
    "\n",
    "# 接着将第一、二次的考试均分添加至萌仔的成绩列表里：\n",
    "exam_1 = 0\n",
    "exam_2 = 0\n",
    "count = 0\n",
    "for value in score.values():\n",
    "    if value == []:\n",
    "        count += 1\n",
    "    else:\n",
    "        exam_1 += value[0]\n",
    "        exam_2 += value[1]\n",
    "# mean_1，mean_2 为两次考试非空值均分\n",
    "mean_1 = exam_1 / (len(score) - count)\n",
    "mean_2 = exam_2 / (len(score) -count)\n",
    "for value in score.values():\n",
    "    # 如果分数列表为空\n",
    "    if value == []:\n",
    "        value.append(mean_1)\n",
    "        value.append(mean_2)\n",
    "print(score)\n",
    "# 输出：{'老王': [96, 77], '阿强': [80, 93], '小宝': [85, 72], '萌仔': [84.25, 71.0], '张小明': [76, 42]}"
   ]
  },
  {
   "cell_type": "code",
   "execution_count": 6,
   "metadata": {},
   "outputs": [
    {
     "name": "stdout",
     "output_type": "stream",
     "text": [
      "{'4月1日': [46.0], '4月7日': [19.0], '4月8日': [68.0], '4月13日': [48.0], '4月20日': [19.0], '4月21日': [52.0], '4月25日': [120.0], '4月30日': [12.0]}\n"
     ]
    }
   ],
   "source": [
    "\"\"\"\n",
    "代码中 order 记录着老王在4月的外卖日消费金额。其中有的日期为空字符串，有的金额为空列表。\n",
    "\n",
    "1.请将字典 order 中键为空字符串的删去；\n",
    "\n",
    "2.接着将 order 中日消费金额的非空值均值添加至空列表之中。\n",
    "\"\"\"\n",
    "order = {\n",
    "    \"4月1日\" : [46.0],\n",
    "    \"4月7日\" : [19.0], \n",
    "    \"4月8日\" : [68.0],\n",
    "    \"4月13日\" : [],\n",
    "    \"\" : [41.0],\n",
    "    \"4月20日\" : [19.0],\n",
    "    \"4月21日\" : [52.0],\n",
    "    \"4月25日\" : [120.0],\n",
    "    \"4月30日\" : [12.0]\n",
    "}\n",
    "# 删除键为 \"\" 的数据\n",
    "order.pop(\"\")\n",
    "count = 0\n",
    "order_sum = 0\n",
    "for value in order.values():\n",
    "    if value == []:\n",
    "        count += 1\n",
    "    else:\n",
    "        order_sum += value[0]\n",
    "order_mean = order_sum / (len(order)-count)\n",
    "for value in order.values():\n",
    "    if value == []:\n",
    "        # 将 value 中添加日消费金额均值\n",
    "        value.append(order_mean)\n",
    "print(order)"
   ]
  },
  {
   "cell_type": "code",
   "execution_count": 7,
   "metadata": {},
   "outputs": [
    {
     "name": "stdout",
     "output_type": "stream",
     "text": [
      "['A', 'B', 'B', 'C', 'A', 'F', 'B', 'C', 'A', 'C']\n"
     ]
    }
   ],
   "source": [
    "\"\"\"\n",
    "数据调整：最后一种常见的清洗数据方式是将已有数据调整成我们需要的类型或单位。比如，有时我们获得了记录时间的数据是字符串 \"1小时3分12秒\"，我们需要将它改变成以秒为单位的整数类型数据。又有时，我们获得的是以美元为单位的价格数据，我们需要结合汇率比例，将其转换成以人民币为单位的价格。这些都属于数据调整的范畴：\n",
    "\"\"\"\n",
    "# score 中记录了学生的 python 考试成绩\n",
    "score = [96,80,85,79,92,42,84,72,93,77]\n",
    "\n",
    "\"\"\"\n",
    "我们按照以下标准，将其中的整数数据转化成字符串：\n",
    "\n",
    "90分及以上，转换成：\"A\"；\n",
    "80~89分，转换成：\"B\"；\n",
    "70~79分，转换成：\"C\"；\n",
    "60~69分，转换成：\"D\"；\n",
    "60分以下，转换成：\"F\"\n",
    "\"\"\"\n",
    "\n",
    "update_score = []\n",
    "for s in score:\n",
    "    if s >= 90:\n",
    "        update_score.append(\"A\")\n",
    "    elif s >= 80:\n",
    "        update_score.append(\"B\")\n",
    "    elif s >= 70:\n",
    "        update_score.append(\"C\")\n",
    "    elif s >= 60:\n",
    "        update_score.append(\"D\")\n",
    "    elif s < 60:\n",
    "        update_score.append(\"F\")\n",
    "print(update_score)\n",
    "# 输出：['A', 'B', 'B', 'C', 'A', 'F', 'B', 'C', 'A', 'C']"
   ]
  },
  {
   "cell_type": "code",
   "execution_count": 8,
   "metadata": {},
   "outputs": [
    {
     "name": "stdout",
     "output_type": "stream",
     "text": [
      "['¥¥', '¥', '¥', '¥¥¥', '¥¥', '¥', '¥', '¥¥¥', '¥¥', '¥¥', '¥']\n"
     ]
    }
   ],
   "source": [
    "\"\"\"\n",
    "编辑区 order 中存放的是老王在APP“送得快”上的外卖订单。\n",
    "\n",
    "现在，“送得快” 打算开发一个新的产品功能，按照下列规则给订单标记价格档位：\n",
    "\n",
    "订单大于等于 60 元，标记为 \"¥¥¥\"；\n",
    "\n",
    "订单小于 60元并且大于等于 20元，标记为 \"¥¥\"；\n",
    "\n",
    "其他情况下，订单标记为 \"¥\"。\n",
    "\n",
    "请补全下方注释行 … 处代码，将老王的订单价格档位数据记录在 update_order 中。\n",
    "\"\"\"\n",
    "order = [\n",
    "  27.0, \n",
    "  15.0, \n",
    "  19.0, \n",
    "  68.0, \n",
    "  32.0, \n",
    "  19.0, \n",
    "  19.0, \n",
    "  120.0, \n",
    "  20.0, \n",
    "  32.0, \n",
    "  12.0\n",
    "]\n",
    "update_order = []\n",
    "for o in order:\n",
    "    if o >= 60:\n",
    "        update_order.append(\"¥¥¥\")\n",
    "    elif o >= 20:\n",
    "        update_order.append(\"¥¥\")\n",
    "    else:\n",
    "        update_order.append(\"¥\")\n",
    "print(update_order)"
   ]
  },
  {
   "cell_type": "code",
   "execution_count": 9,
   "metadata": {},
   "outputs": [],
   "source": [
    "# 均值、方差和标准差均在计算过程中受到极端数据的影响\n",
    "# 我们对于空值一般采用两种方式：赋予其数据集非空值均值，或者将其删除\n",
    "# 删除异常值不属于数据调整的范畴"
   ]
  },
  {
   "cell_type": "code",
   "execution_count": 10,
   "metadata": {},
   "outputs": [
    {
     "name": "stdout",
     "output_type": "stream",
     "text": [
      "删去异常值133.65\n",
      "删去异常值120.0\n",
      "删去异常值151.55\n",
      "删去异常值89.1\n",
      "删去异常值73.5\n",
      "票价均值（英镑）为15.41\n",
      "票价均值（人民币）为15410.0\n"
     ]
    }
   ],
   "source": [
    "\"\"\"\n",
    "泰坦尼克号的船票究竟有多贵？\n",
    "\n",
    "编辑区变量 td_price 存放了部分泰坦尼克号的船票价格（包含三类船舱）。\n",
    "\n",
    "请分别执行以下操作：\n",
    "\n",
    "1.将 td_price 中的异常值剔除；\n",
    "\n",
    "2.计算 td_price 中的均值 mean_td_price；\n",
    "\n",
    "3.将 mean_td_price 乘以 1000。（1912年的1英镑约为2019年人民币1000元）\n",
    "\"\"\"\n",
    "td_price = [\n",
    "  56.5, 7.75, 133.65, 8.85, 7.9, \n",
    "  15.5, 10.5, 7.9, 7.75, 27.75, \n",
    "  7.9, 30.5, 8.65, 13.0, 27.72, \n",
    "  18.0, 15.74, 23.0, 30.5, 9.59, \n",
    "  7.05, 7.72, 120.0, 10.5, 7.75, \n",
    "  151.55, 7.9, 7.9, 89.1, 34.38, \n",
    "  8.03, 73.5, 7.8, 7.78, 7.22, \n",
    "  52.0, 24.15, 8.05, 7.9, 39.0, \n",
    "  9.5, 7.75, 15.85, 17.8, 21.68, \n",
    "  7.75, 7.55, 7.75, 10.5, 7.05\n",
    "  ]\n",
    "# 第一步：将 td_price 中的异常值剔除\n",
    "# 求n分位函数\n",
    "def find_nperc(numbers,n):\n",
    "    \"\"\"\n",
    "    返回numbers中，n分位对应的数值是多少\n",
    "    \"\"\"\n",
    "    # 先将数值排序 \n",
    "    sorted_numbers = sorted(numbers)\n",
    "    \n",
    "    # 找到n分位对应数值的索引位置\n",
    "    n_index = int(n/100 * len(sorted_numbers))\n",
    "    \n",
    "    return sorted_numbers[n_index]\n",
    "\n",
    "# 25分位数值为 q1_price\n",
    "q1_price = find_nperc(td_price,25)\n",
    "\n",
    "# 75分位数值为 q3_price\n",
    "q3_price = find_nperc(td_price,75)\n",
    "\n",
    "# iqr 为 75分位的值与 25分位的值之差\n",
    "iqr = q3_price - q1_price\n",
    "\n",
    "for price in td_price:\n",
    "    if price > q3_price + 1.5 * iqr or price < q1_price - 1.5 * iqr:\n",
    "        td_price.remove(price)\n",
    "        print(\"删去异常值{}\".format(price))\n",
    "\n",
    "# 第二步：计算 td_price 的均值\n",
    "mean_td_price = round(sum(td_price) / len(td_price),2)\n",
    "print(\"票价均值（英镑）为{}\".format(mean_td_price))\n",
    "\n",
    "# 第三步：将 mean_td_price 乘以 1000，得到人民币均价\n",
    "td_price_rmb = mean_td_price * 1000\n",
    "print(\"票价均值（人民币）为{}\".format(td_price_rmb))"
   ]
  },
  {
   "cell_type": "code",
   "execution_count": 11,
   "metadata": {},
   "outputs": [],
   "source": [
    "# 12.5 数据分析入门（5）"
   ]
  },
  {
   "cell_type": "code",
   "execution_count": 13,
   "metadata": {},
   "outputs": [],
   "source": [
    "#线图：线图是一种常见的统计图表，它先用点代表不同的数值，然后用线将点连接，方便观察走势。我们在本节数据分析的入门课程中，介绍 pygal 模块来创作线图。\n",
    "\n",
    "# python类问题在 stack overflow 网站上的占比\n",
    "import pygal\n",
    "line_chart = pygal.Line()\n",
    "line_chart.add('Python',  [0.040, 0.045, 0.050, 0.060, 0.075, 0.09, 0.10])\n",
    "line_chart.render_to_file(r'/Users/XUMIAO/Desktop/line3.svg')\n",
    "#在上方示例的代码中，首先我们需要导入 pygal 模块；接着用 pygal 中的 .Line() 方法赋值给变量 line_chart，这里决定了 line_chart 画出来的是线图。继续，line_chart.add() 括号中有两个参数，一是字符串，表示我们给出的数据名称，在此处，我们填入的是字符串 \"Python\"；二是列表，其中元素依次为线图呈现的点。最后一行代码 line_chart.render() 千万不能漏，它有点类似之前我们学过的 print()，将图表\"输出\"在屏幕上，如果没有它，我们在屏幕上就看不到数据图。"
   ]
  },
  {
   "cell_type": "code",
   "execution_count": 14,
   "metadata": {},
   "outputs": [],
   "source": [
    "# 请按照要求，补全注释行…处的代码。\n",
    "# 导入 pygal\n",
    "import pygal\n",
    "line_chart = pygal.Line()\n",
    "python_data = [0.040, 0.045, 0.050, 0.060, 0.075, 0.09, 0.10]\n",
    "# 下方 line_chart.add() 中的第二个参数为 python_data\n",
    "line_chart.add('Python',  [0.040, 0.045, 0.050, 0.060, 0.075, 0.09, 0.10])\n",
    "line_chart.render_to_file(r'/Users/XUMIAO/Desktop/line4.svg')"
   ]
  },
  {
   "cell_type": "code",
   "execution_count": 1,
   "metadata": {},
   "outputs": [
    {
     "ename": "ValueError",
     "evalue": "unknown locale: UTF-8",
     "output_type": "error",
     "traceback": [
      "\u001b[0;31m---------------------------------------------------------------------------\u001b[0m",
      "\u001b[0;31mValueError\u001b[0m                                Traceback (most recent call last)",
      "\u001b[0;32m/anaconda3/lib/python3.7/site-packages/IPython/core/formatters.py\u001b[0m in \u001b[0;36m__call__\u001b[0;34m(self, obj)\u001b[0m\n\u001b[1;32m    343\u001b[0m             \u001b[0mmethod\u001b[0m \u001b[0;34m=\u001b[0m \u001b[0mget_real_method\u001b[0m\u001b[0;34m(\u001b[0m\u001b[0mobj\u001b[0m\u001b[0;34m,\u001b[0m \u001b[0mself\u001b[0m\u001b[0;34m.\u001b[0m\u001b[0mprint_method\u001b[0m\u001b[0;34m)\u001b[0m\u001b[0;34m\u001b[0m\u001b[0;34m\u001b[0m\u001b[0m\n\u001b[1;32m    344\u001b[0m             \u001b[0;32mif\u001b[0m \u001b[0mmethod\u001b[0m \u001b[0;32mis\u001b[0m \u001b[0;32mnot\u001b[0m \u001b[0;32mNone\u001b[0m\u001b[0;34m:\u001b[0m\u001b[0;34m\u001b[0m\u001b[0;34m\u001b[0m\u001b[0m\n\u001b[0;32m--> 345\u001b[0;31m                 \u001b[0;32mreturn\u001b[0m \u001b[0mmethod\u001b[0m\u001b[0;34m(\u001b[0m\u001b[0;34m)\u001b[0m\u001b[0;34m\u001b[0m\u001b[0;34m\u001b[0m\u001b[0m\n\u001b[0m\u001b[1;32m    346\u001b[0m             \u001b[0;32mreturn\u001b[0m \u001b[0;32mNone\u001b[0m\u001b[0;34m\u001b[0m\u001b[0;34m\u001b[0m\u001b[0m\n\u001b[1;32m    347\u001b[0m         \u001b[0;32melse\u001b[0m\u001b[0;34m:\u001b[0m\u001b[0;34m\u001b[0m\u001b[0;34m\u001b[0m\u001b[0m\n",
      "\u001b[0;32m/anaconda3/lib/python3.7/site-packages/pygal/graph/base.py\u001b[0m in \u001b[0;36m_repr_png_\u001b[0;34m(self)\u001b[0m\n\u001b[1;32m    232\u001b[0m     \u001b[0;32mdef\u001b[0m \u001b[0m_repr_png_\u001b[0m\u001b[0;34m(\u001b[0m\u001b[0mself\u001b[0m\u001b[0;34m)\u001b[0m\u001b[0;34m:\u001b[0m\u001b[0;34m\u001b[0m\u001b[0;34m\u001b[0m\u001b[0m\n\u001b[1;32m    233\u001b[0m         \u001b[0;34m\"\"\"Display png in IPython notebook\"\"\"\u001b[0m\u001b[0;34m\u001b[0m\u001b[0;34m\u001b[0m\u001b[0m\n\u001b[0;32m--> 234\u001b[0;31m         \u001b[0;32mreturn\u001b[0m \u001b[0mself\u001b[0m\u001b[0;34m.\u001b[0m\u001b[0mrender_to_png\u001b[0m\u001b[0;34m(\u001b[0m\u001b[0;34m)\u001b[0m\u001b[0;34m\u001b[0m\u001b[0;34m\u001b[0m\u001b[0m\n\u001b[0m",
      "\u001b[0;32m/anaconda3/lib/python3.7/site-packages/pygal/graph/public.py\u001b[0m in \u001b[0;36mrender_to_png\u001b[0;34m(self, filename, dpi, **kwargs)\u001b[0m\n\u001b[1;32m    116\u001b[0m     \u001b[0;32mdef\u001b[0m \u001b[0mrender_to_png\u001b[0m\u001b[0;34m(\u001b[0m\u001b[0mself\u001b[0m\u001b[0;34m,\u001b[0m \u001b[0mfilename\u001b[0m\u001b[0;34m=\u001b[0m\u001b[0;32mNone\u001b[0m\u001b[0;34m,\u001b[0m \u001b[0mdpi\u001b[0m\u001b[0;34m=\u001b[0m\u001b[0;36m72\u001b[0m\u001b[0;34m,\u001b[0m \u001b[0;34m**\u001b[0m\u001b[0mkwargs\u001b[0m\u001b[0;34m)\u001b[0m\u001b[0;34m:\u001b[0m\u001b[0;34m\u001b[0m\u001b[0;34m\u001b[0m\u001b[0m\n\u001b[1;32m    117\u001b[0m         \u001b[0;34m\"\"\"Render the graph, convert it to png and write it to filename\"\"\"\u001b[0m\u001b[0;34m\u001b[0m\u001b[0;34m\u001b[0m\u001b[0m\n\u001b[0;32m--> 118\u001b[0;31m         \u001b[0;32mimport\u001b[0m \u001b[0mcairosvg\u001b[0m\u001b[0;34m\u001b[0m\u001b[0;34m\u001b[0m\u001b[0m\n\u001b[0m\u001b[1;32m    119\u001b[0m         return cairosvg.svg2png(\n\u001b[1;32m    120\u001b[0m             bytestring=self.render(**kwargs), write_to=filename, dpi=dpi)\n",
      "\u001b[0;32m/anaconda3/lib/python3.7/site-packages/cairosvg/__init__.py\u001b[0m in \u001b[0;36m<module>\u001b[0;34m\u001b[0m\n\u001b[1;32m     40\u001b[0m \u001b[0;34m\u001b[0m\u001b[0m\n\u001b[1;32m     41\u001b[0m \u001b[0;31m# VERSION is used in the \"url\" module imported by \"surface\"\u001b[0m\u001b[0;34m\u001b[0m\u001b[0;34m\u001b[0m\u001b[0;34m\u001b[0m\u001b[0m\n\u001b[0;32m---> 42\u001b[0;31m \u001b[0;32mfrom\u001b[0m \u001b[0;34m.\u001b[0m \u001b[0;32mimport\u001b[0m \u001b[0msurface\u001b[0m  \u001b[0;31m# noqa isort:skip\u001b[0m\u001b[0;34m\u001b[0m\u001b[0;34m\u001b[0m\u001b[0m\n\u001b[0m\u001b[1;32m     43\u001b[0m \u001b[0;34m\u001b[0m\u001b[0m\n\u001b[1;32m     44\u001b[0m \u001b[0;34m\u001b[0m\u001b[0m\n",
      "\u001b[0;32m/anaconda3/lib/python3.7/site-packages/cairosvg/surface.py\u001b[0m in \u001b[0;36m<module>\u001b[0;34m\u001b[0m\n\u001b[1;32m     26\u001b[0m \u001b[0;34m\u001b[0m\u001b[0m\n\u001b[1;32m     27\u001b[0m \u001b[0;32mfrom\u001b[0m \u001b[0;34m.\u001b[0m\u001b[0mcolors\u001b[0m \u001b[0;32mimport\u001b[0m \u001b[0mcolor\u001b[0m\u001b[0;34m\u001b[0m\u001b[0;34m\u001b[0m\u001b[0m\n\u001b[0;32m---> 28\u001b[0;31m from .defs import (\n\u001b[0m\u001b[1;32m     29\u001b[0m     \u001b[0mapply_filter_after_painting\u001b[0m\u001b[0;34m,\u001b[0m \u001b[0mapply_filter_before_painting\u001b[0m\u001b[0;34m,\u001b[0m \u001b[0mclip_path\u001b[0m\u001b[0;34m,\u001b[0m\u001b[0;34m\u001b[0m\u001b[0;34m\u001b[0m\u001b[0m\n\u001b[1;32m     30\u001b[0m     \u001b[0mfilter_\u001b[0m\u001b[0;34m,\u001b[0m \u001b[0mgradient_or_pattern\u001b[0m\u001b[0;34m,\u001b[0m \u001b[0mlinear_gradient\u001b[0m\u001b[0;34m,\u001b[0m \u001b[0mmarker\u001b[0m\u001b[0;34m,\u001b[0m \u001b[0mmask\u001b[0m\u001b[0;34m,\u001b[0m \u001b[0mpaint_mask\u001b[0m\u001b[0;34m,\u001b[0m\u001b[0;34m\u001b[0m\u001b[0;34m\u001b[0m\u001b[0m\n",
      "\u001b[0;32m/anaconda3/lib/python3.7/site-packages/cairosvg/defs.py\u001b[0m in \u001b[0;36m<module>\u001b[0;34m\u001b[0m\n\u001b[1;32m     22\u001b[0m \"\"\"\n\u001b[1;32m     23\u001b[0m \u001b[0;34m\u001b[0m\u001b[0m\n\u001b[0;32m---> 24\u001b[0;31m \u001b[0;32mfrom\u001b[0m \u001b[0;34m.\u001b[0m\u001b[0mbounding_box\u001b[0m \u001b[0;32mimport\u001b[0m \u001b[0mcalculate_bounding_box\u001b[0m\u001b[0;34m,\u001b[0m \u001b[0mis_non_empty_bounding_box\u001b[0m\u001b[0;34m\u001b[0m\u001b[0;34m\u001b[0m\u001b[0m\n\u001b[0m\u001b[1;32m     25\u001b[0m \u001b[0;32mfrom\u001b[0m \u001b[0;34m.\u001b[0m\u001b[0mcolors\u001b[0m \u001b[0;32mimport\u001b[0m \u001b[0mcolor\u001b[0m\u001b[0;34m\u001b[0m\u001b[0;34m\u001b[0m\u001b[0m\n\u001b[1;32m     26\u001b[0m \u001b[0;32mfrom\u001b[0m \u001b[0;34m.\u001b[0m\u001b[0mfeatures\u001b[0m \u001b[0;32mimport\u001b[0m \u001b[0mmatch_features\u001b[0m\u001b[0;34m\u001b[0m\u001b[0;34m\u001b[0m\u001b[0m\n",
      "\u001b[0;32m/anaconda3/lib/python3.7/site-packages/cairosvg/bounding_box.py\u001b[0m in \u001b[0;36m<module>\u001b[0;34m\u001b[0m\n\u001b[1;32m     24\u001b[0m \u001b[0;32mfrom\u001b[0m \u001b[0mmath\u001b[0m \u001b[0;32mimport\u001b[0m \u001b[0macos\u001b[0m\u001b[0;34m,\u001b[0m \u001b[0matan\u001b[0m\u001b[0;34m,\u001b[0m \u001b[0mcos\u001b[0m\u001b[0;34m,\u001b[0m \u001b[0mfmod\u001b[0m\u001b[0;34m,\u001b[0m \u001b[0misinf\u001b[0m\u001b[0;34m,\u001b[0m \u001b[0mpi\u001b[0m\u001b[0;34m,\u001b[0m \u001b[0mradians\u001b[0m\u001b[0;34m,\u001b[0m \u001b[0msin\u001b[0m\u001b[0;34m,\u001b[0m \u001b[0msqrt\u001b[0m\u001b[0;34m,\u001b[0m \u001b[0mtan\u001b[0m\u001b[0;34m\u001b[0m\u001b[0;34m\u001b[0m\u001b[0m\n\u001b[1;32m     25\u001b[0m \u001b[0;34m\u001b[0m\u001b[0m\n\u001b[0;32m---> 26\u001b[0;31m \u001b[0;32mfrom\u001b[0m \u001b[0;34m.\u001b[0m\u001b[0mfeatures\u001b[0m \u001b[0;32mimport\u001b[0m \u001b[0mmatch_features\u001b[0m\u001b[0;34m\u001b[0m\u001b[0;34m\u001b[0m\u001b[0m\n\u001b[0m\u001b[1;32m     27\u001b[0m \u001b[0;32mfrom\u001b[0m \u001b[0;34m.\u001b[0m\u001b[0mhelpers\u001b[0m \u001b[0;32mimport\u001b[0m \u001b[0mPATH_LETTERS\u001b[0m\u001b[0;34m,\u001b[0m \u001b[0mnormalize\u001b[0m\u001b[0;34m,\u001b[0m \u001b[0mpoint\u001b[0m\u001b[0;34m,\u001b[0m \u001b[0msize\u001b[0m\u001b[0;34m\u001b[0m\u001b[0;34m\u001b[0m\u001b[0m\n\u001b[1;32m     28\u001b[0m \u001b[0;32mfrom\u001b[0m \u001b[0;34m.\u001b[0m\u001b[0mparser\u001b[0m \u001b[0;32mimport\u001b[0m \u001b[0mTree\u001b[0m\u001b[0;34m\u001b[0m\u001b[0;34m\u001b[0m\u001b[0m\n",
      "\u001b[0;32m/anaconda3/lib/python3.7/site-packages/cairosvg/features.py\u001b[0m in \u001b[0;36m<module>\u001b[0;34m\u001b[0m\n\u001b[1;32m     23\u001b[0m \u001b[0;34m\u001b[0m\u001b[0m\n\u001b[1;32m     24\u001b[0m \u001b[0mROOT\u001b[0m \u001b[0;34m=\u001b[0m \u001b[0;34m'http://www.w3.org/TR/SVG11/feature'\u001b[0m\u001b[0;34m\u001b[0m\u001b[0;34m\u001b[0m\u001b[0m\n\u001b[0;32m---> 25\u001b[0;31m \u001b[0mLOCALE\u001b[0m \u001b[0;34m=\u001b[0m \u001b[0mlocale\u001b[0m\u001b[0;34m.\u001b[0m\u001b[0mgetdefaultlocale\u001b[0m\u001b[0;34m(\u001b[0m\u001b[0;34m)\u001b[0m\u001b[0;34m[\u001b[0m\u001b[0;36m0\u001b[0m\u001b[0;34m]\u001b[0m \u001b[0;32mor\u001b[0m \u001b[0;34m''\u001b[0m\u001b[0;34m\u001b[0m\u001b[0;34m\u001b[0m\u001b[0m\n\u001b[0m\u001b[1;32m     26\u001b[0m SUPPORTED_FEATURES = frozenset((\n\u001b[1;32m     27\u001b[0m     ROOT + '#' + feature for feature in (\n",
      "\u001b[0;32m/anaconda3/lib/python3.7/locale.py\u001b[0m in \u001b[0;36mgetdefaultlocale\u001b[0;34m(envvars)\u001b[0m\n\u001b[1;32m    566\u001b[0m     \u001b[0;32melse\u001b[0m\u001b[0;34m:\u001b[0m\u001b[0;34m\u001b[0m\u001b[0;34m\u001b[0m\u001b[0m\n\u001b[1;32m    567\u001b[0m         \u001b[0mlocalename\u001b[0m \u001b[0;34m=\u001b[0m \u001b[0;34m'C'\u001b[0m\u001b[0;34m\u001b[0m\u001b[0;34m\u001b[0m\u001b[0m\n\u001b[0;32m--> 568\u001b[0;31m     \u001b[0;32mreturn\u001b[0m \u001b[0m_parse_localename\u001b[0m\u001b[0;34m(\u001b[0m\u001b[0mlocalename\u001b[0m\u001b[0;34m)\u001b[0m\u001b[0;34m\u001b[0m\u001b[0;34m\u001b[0m\u001b[0m\n\u001b[0m\u001b[1;32m    569\u001b[0m \u001b[0;34m\u001b[0m\u001b[0m\n\u001b[1;32m    570\u001b[0m \u001b[0;34m\u001b[0m\u001b[0m\n",
      "\u001b[0;32m/anaconda3/lib/python3.7/locale.py\u001b[0m in \u001b[0;36m_parse_localename\u001b[0;34m(localename)\u001b[0m\n\u001b[1;32m    493\u001b[0m     \u001b[0;32melif\u001b[0m \u001b[0mcode\u001b[0m \u001b[0;34m==\u001b[0m \u001b[0;34m'C'\u001b[0m\u001b[0;34m:\u001b[0m\u001b[0;34m\u001b[0m\u001b[0;34m\u001b[0m\u001b[0m\n\u001b[1;32m    494\u001b[0m         \u001b[0;32mreturn\u001b[0m \u001b[0;32mNone\u001b[0m\u001b[0;34m,\u001b[0m \u001b[0;32mNone\u001b[0m\u001b[0;34m\u001b[0m\u001b[0;34m\u001b[0m\u001b[0m\n\u001b[0;32m--> 495\u001b[0;31m     \u001b[0;32mraise\u001b[0m \u001b[0mValueError\u001b[0m\u001b[0;34m(\u001b[0m\u001b[0;34m'unknown locale: %s'\u001b[0m \u001b[0;34m%\u001b[0m \u001b[0mlocalename\u001b[0m\u001b[0;34m)\u001b[0m\u001b[0;34m\u001b[0m\u001b[0;34m\u001b[0m\u001b[0m\n\u001b[0m\u001b[1;32m    496\u001b[0m \u001b[0;34m\u001b[0m\u001b[0m\n\u001b[1;32m    497\u001b[0m \u001b[0;32mdef\u001b[0m \u001b[0m_build_localename\u001b[0m\u001b[0;34m(\u001b[0m\u001b[0mlocaletuple\u001b[0m\u001b[0;34m)\u001b[0m\u001b[0;34m:\u001b[0m\u001b[0;34m\u001b[0m\u001b[0;34m\u001b[0m\u001b[0m\n",
      "\u001b[0;31mValueError\u001b[0m: unknown locale: UTF-8"
     ]
    },
    {
     "data": {
      "image/svg+xml": [
       "<svg xmlns:xlink=\"http://www.w3.org/1999/xlink\" xmlns=\"http://www.w3.org/2000/svg\" id=\"chart-70d849c6-b177-4734-9c63-e50f0650e9e5\" class=\"pygal-chart\" viewBox=\"0 0 800 600\"><!--Generated with pygal 2.4.0 (lxml) ©Kozea 2012-2016 on 2019-06-25--><!--http://pygal.org--><!--http://github.com/Kozea/pygal--><defs><style type=\"text/css\">#chart-70d849c6-b177-4734-9c63-e50f0650e9e5{-webkit-user-select:none;-webkit-font-smoothing:antialiased;font-family:Consolas,\"Liberation Mono\",Menlo,Courier,monospace}#chart-70d849c6-b177-4734-9c63-e50f0650e9e5 .title{font-family:Consolas,\"Liberation Mono\",Menlo,Courier,monospace;font-size:16px}#chart-70d849c6-b177-4734-9c63-e50f0650e9e5 .legends .legend text{font-family:Consolas,\"Liberation Mono\",Menlo,Courier,monospace;font-size:14px}#chart-70d849c6-b177-4734-9c63-e50f0650e9e5 .axis text{font-family:Consolas,\"Liberation Mono\",Menlo,Courier,monospace;font-size:10px}#chart-70d849c6-b177-4734-9c63-e50f0650e9e5 .axis text.major{font-family:Consolas,\"Liberation Mono\",Menlo,Courier,monospace;font-size:10px}#chart-70d849c6-b177-4734-9c63-e50f0650e9e5 .text-overlay text.value{font-family:Consolas,\"Liberation Mono\",Menlo,Courier,monospace;font-size:16px}#chart-70d849c6-b177-4734-9c63-e50f0650e9e5 .text-overlay text.label{font-family:Consolas,\"Liberation Mono\",Menlo,Courier,monospace;font-size:10px}#chart-70d849c6-b177-4734-9c63-e50f0650e9e5 .tooltip{font-family:Consolas,\"Liberation Mono\",Menlo,Courier,monospace;font-size:14px}#chart-70d849c6-b177-4734-9c63-e50f0650e9e5 text.no_data{font-family:Consolas,\"Liberation Mono\",Menlo,Courier,monospace;font-size:64px}\n",
       "#chart-70d849c6-b177-4734-9c63-e50f0650e9e5{background-color:rgba(249,249,249,1)}#chart-70d849c6-b177-4734-9c63-e50f0650e9e5 path,#chart-70d849c6-b177-4734-9c63-e50f0650e9e5 line,#chart-70d849c6-b177-4734-9c63-e50f0650e9e5 rect,#chart-70d849c6-b177-4734-9c63-e50f0650e9e5 circle{-webkit-transition:150ms;-moz-transition:150ms;transition:150ms}#chart-70d849c6-b177-4734-9c63-e50f0650e9e5 .graph &gt; .background{fill:rgba(249,249,249,1)}#chart-70d849c6-b177-4734-9c63-e50f0650e9e5 .plot &gt; .background{fill:rgba(255,255,255,1)}#chart-70d849c6-b177-4734-9c63-e50f0650e9e5 .graph{fill:rgba(0,0,0,.87)}#chart-70d849c6-b177-4734-9c63-e50f0650e9e5 text.no_data{fill:rgba(0,0,0,1)}#chart-70d849c6-b177-4734-9c63-e50f0650e9e5 .title{fill:rgba(0,0,0,1)}#chart-70d849c6-b177-4734-9c63-e50f0650e9e5 .legends .legend text{fill:rgba(0,0,0,.87)}#chart-70d849c6-b177-4734-9c63-e50f0650e9e5 .legends .legend:hover text{fill:rgba(0,0,0,1)}#chart-70d849c6-b177-4734-9c63-e50f0650e9e5 .axis .line{stroke:rgba(0,0,0,1)}#chart-70d849c6-b177-4734-9c63-e50f0650e9e5 .axis .guide.line{stroke:rgba(0,0,0,.54)}#chart-70d849c6-b177-4734-9c63-e50f0650e9e5 .axis .major.line{stroke:rgba(0,0,0,.87)}#chart-70d849c6-b177-4734-9c63-e50f0650e9e5 .axis text.major{fill:rgba(0,0,0,1)}#chart-70d849c6-b177-4734-9c63-e50f0650e9e5 .axis.y .guides:hover .guide.line,#chart-70d849c6-b177-4734-9c63-e50f0650e9e5 .line-graph .axis.x .guides:hover .guide.line,#chart-70d849c6-b177-4734-9c63-e50f0650e9e5 .stackedline-graph .axis.x .guides:hover .guide.line,#chart-70d849c6-b177-4734-9c63-e50f0650e9e5 .xy-graph .axis.x .guides:hover .guide.line{stroke:rgba(0,0,0,1)}#chart-70d849c6-b177-4734-9c63-e50f0650e9e5 .axis .guides:hover text{fill:rgba(0,0,0,1)}#chart-70d849c6-b177-4734-9c63-e50f0650e9e5 .reactive{fill-opacity:.7;stroke-opacity:.8}#chart-70d849c6-b177-4734-9c63-e50f0650e9e5 .ci{stroke:rgba(0,0,0,.87)}#chart-70d849c6-b177-4734-9c63-e50f0650e9e5 .reactive.active,#chart-70d849c6-b177-4734-9c63-e50f0650e9e5 .active .reactive{fill-opacity:.8;stroke-opacity:.9;stroke-width:4}#chart-70d849c6-b177-4734-9c63-e50f0650e9e5 .ci .reactive.active{stroke-width:1.5}#chart-70d849c6-b177-4734-9c63-e50f0650e9e5 .series text{fill:rgba(0,0,0,1)}#chart-70d849c6-b177-4734-9c63-e50f0650e9e5 .tooltip rect{fill:rgba(255,255,255,1);stroke:rgba(0,0,0,1);-webkit-transition:opacity 150ms;-moz-transition:opacity 150ms;transition:opacity 150ms}#chart-70d849c6-b177-4734-9c63-e50f0650e9e5 .tooltip .label{fill:rgba(0,0,0,.87)}#chart-70d849c6-b177-4734-9c63-e50f0650e9e5 .tooltip .label{fill:rgba(0,0,0,.87)}#chart-70d849c6-b177-4734-9c63-e50f0650e9e5 .tooltip .legend{font-size:.8em;fill:rgba(0,0,0,.54)}#chart-70d849c6-b177-4734-9c63-e50f0650e9e5 .tooltip .x_label{font-size:.6em;fill:rgba(0,0,0,1)}#chart-70d849c6-b177-4734-9c63-e50f0650e9e5 .tooltip .xlink{font-size:.5em;text-decoration:underline}#chart-70d849c6-b177-4734-9c63-e50f0650e9e5 .tooltip .value{font-size:1.5em}#chart-70d849c6-b177-4734-9c63-e50f0650e9e5 .bound{font-size:.5em}#chart-70d849c6-b177-4734-9c63-e50f0650e9e5 .max-value{font-size:.75em;fill:rgba(0,0,0,.54)}#chart-70d849c6-b177-4734-9c63-e50f0650e9e5 .map-element{fill:rgba(255,255,255,1);stroke:rgba(0,0,0,.54) !important}#chart-70d849c6-b177-4734-9c63-e50f0650e9e5 .map-element .reactive{fill-opacity:inherit;stroke-opacity:inherit}#chart-70d849c6-b177-4734-9c63-e50f0650e9e5 .color-0,#chart-70d849c6-b177-4734-9c63-e50f0650e9e5 .color-0 a:visited{stroke:#F44336;fill:#F44336}#chart-70d849c6-b177-4734-9c63-e50f0650e9e5 .color-1,#chart-70d849c6-b177-4734-9c63-e50f0650e9e5 .color-1 a:visited{stroke:#3F51B5;fill:#3F51B5}#chart-70d849c6-b177-4734-9c63-e50f0650e9e5 .color-2,#chart-70d849c6-b177-4734-9c63-e50f0650e9e5 .color-2 a:visited{stroke:#009688;fill:#009688}#chart-70d849c6-b177-4734-9c63-e50f0650e9e5 .text-overlay .color-0 text{fill:black}#chart-70d849c6-b177-4734-9c63-e50f0650e9e5 .text-overlay .color-1 text{fill:black}#chart-70d849c6-b177-4734-9c63-e50f0650e9e5 .text-overlay .color-2 text{fill:black}\n",
       "#chart-70d849c6-b177-4734-9c63-e50f0650e9e5 text.no_data{text-anchor:middle}#chart-70d849c6-b177-4734-9c63-e50f0650e9e5 .guide.line{fill:none}#chart-70d849c6-b177-4734-9c63-e50f0650e9e5 .centered{text-anchor:middle}#chart-70d849c6-b177-4734-9c63-e50f0650e9e5 .title{text-anchor:middle}#chart-70d849c6-b177-4734-9c63-e50f0650e9e5 .legends .legend text{fill-opacity:1}#chart-70d849c6-b177-4734-9c63-e50f0650e9e5 .axis.x text{text-anchor:middle}#chart-70d849c6-b177-4734-9c63-e50f0650e9e5 .axis.x:not(.web) text[transform]{text-anchor:start}#chart-70d849c6-b177-4734-9c63-e50f0650e9e5 .axis.x:not(.web) text[transform].backwards{text-anchor:end}#chart-70d849c6-b177-4734-9c63-e50f0650e9e5 .axis.y text{text-anchor:end}#chart-70d849c6-b177-4734-9c63-e50f0650e9e5 .axis.y text[transform].backwards{text-anchor:start}#chart-70d849c6-b177-4734-9c63-e50f0650e9e5 .axis.y2 text{text-anchor:start}#chart-70d849c6-b177-4734-9c63-e50f0650e9e5 .axis.y2 text[transform].backwards{text-anchor:end}#chart-70d849c6-b177-4734-9c63-e50f0650e9e5 .axis .guide.line{stroke-dasharray:4,4}#chart-70d849c6-b177-4734-9c63-e50f0650e9e5 .axis .major.guide.line{stroke-dasharray:6,6}#chart-70d849c6-b177-4734-9c63-e50f0650e9e5 .horizontal .axis.y .guide.line,#chart-70d849c6-b177-4734-9c63-e50f0650e9e5 .horizontal .axis.y2 .guide.line,#chart-70d849c6-b177-4734-9c63-e50f0650e9e5 .vertical .axis.x .guide.line{opacity:0}#chart-70d849c6-b177-4734-9c63-e50f0650e9e5 .horizontal .axis.always_show .guide.line,#chart-70d849c6-b177-4734-9c63-e50f0650e9e5 .vertical .axis.always_show .guide.line{opacity:1 !important}#chart-70d849c6-b177-4734-9c63-e50f0650e9e5 .axis.y .guides:hover .guide.line,#chart-70d849c6-b177-4734-9c63-e50f0650e9e5 .axis.y2 .guides:hover .guide.line,#chart-70d849c6-b177-4734-9c63-e50f0650e9e5 .axis.x .guides:hover .guide.line{opacity:1}#chart-70d849c6-b177-4734-9c63-e50f0650e9e5 .axis .guides:hover text{opacity:1}#chart-70d849c6-b177-4734-9c63-e50f0650e9e5 .nofill{fill:none}#chart-70d849c6-b177-4734-9c63-e50f0650e9e5 .subtle-fill{fill-opacity:.2}#chart-70d849c6-b177-4734-9c63-e50f0650e9e5 .dot{stroke-width:1px;fill-opacity:1}#chart-70d849c6-b177-4734-9c63-e50f0650e9e5 .dot.active{stroke-width:5px}#chart-70d849c6-b177-4734-9c63-e50f0650e9e5 .dot.negative{fill:transparent}#chart-70d849c6-b177-4734-9c63-e50f0650e9e5 text,#chart-70d849c6-b177-4734-9c63-e50f0650e9e5 tspan{stroke:none !important}#chart-70d849c6-b177-4734-9c63-e50f0650e9e5 .series text.active{opacity:1}#chart-70d849c6-b177-4734-9c63-e50f0650e9e5 .tooltip rect{fill-opacity:.95;stroke-width:.5}#chart-70d849c6-b177-4734-9c63-e50f0650e9e5 .tooltip text{fill-opacity:1}#chart-70d849c6-b177-4734-9c63-e50f0650e9e5 .showable{visibility:hidden}#chart-70d849c6-b177-4734-9c63-e50f0650e9e5 .showable.shown{visibility:visible}#chart-70d849c6-b177-4734-9c63-e50f0650e9e5 .gauge-background{fill:rgba(229,229,229,1);stroke:none}#chart-70d849c6-b177-4734-9c63-e50f0650e9e5 .bg-lines{stroke:rgba(249,249,249,1);stroke-width:2px}</style><script type=\"text/javascript\">window.pygal = window.pygal || {};window.pygal.config = window.pygal.config || {};window.pygal.config['70d849c6-b177-4734-9c63-e50f0650e9e5'] = {\"allow_interruptions\": false, \"box_mode\": \"extremes\", \"classes\": [\"pygal-chart\"], \"css\": [\"file://style.css\", \"file://graph.css\"], \"defs\": [], \"disable_xml_declaration\": true, \"dots_size\": 2.5, \"dynamic_print_values\": false, \"explicit_size\": false, \"fill\": false, \"force_uri_protocol\": \"https\", \"formatter\": null, \"half_pie\": false, \"height\": 600, \"include_x_axis\": false, \"inner_radius\": 0, \"interpolate\": null, \"interpolation_parameters\": {}, \"interpolation_precision\": 250, \"inverse_y_axis\": false, \"js\": [\"//kozea.github.io/pygal.js/2.0.x/pygal-tooltips.min.js\"], \"legend_at_bottom\": false, \"legend_at_bottom_columns\": null, \"legend_box_size\": 12, \"logarithmic\": false, \"margin\": 20, \"margin_bottom\": null, \"margin_left\": null, \"margin_right\": null, \"margin_top\": null, \"max_scale\": 16, \"min_scale\": 4, \"missing_value_fill_truncation\": \"x\", \"no_data_text\": \"No data\", \"no_prefix\": false, \"order_min\": null, \"pretty_print\": false, \"print_labels\": false, \"print_values\": false, \"print_values_position\": \"center\", \"print_zeroes\": true, \"range\": null, \"rounded_bars\": null, \"secondary_range\": null, \"show_dots\": true, \"show_legend\": true, \"show_minor_x_labels\": true, \"show_minor_y_labels\": true, \"show_only_major_dots\": false, \"show_x_guides\": false, \"show_x_labels\": true, \"show_y_guides\": true, \"show_y_labels\": true, \"spacing\": 10, \"stack_from_top\": false, \"strict\": false, \"stroke\": true, \"stroke_style\": null, \"style\": {\"background\": \"rgba(249, 249, 249, 1)\", \"ci_colors\": [], \"colors\": [\"#F44336\", \"#3F51B5\", \"#009688\", \"#FFC107\", \"#FF5722\", \"#9C27B0\", \"#03A9F4\", \"#8BC34A\", \"#FF9800\", \"#E91E63\", \"#2196F3\", \"#4CAF50\", \"#FFEB3B\", \"#673AB7\", \"#00BCD4\", \"#CDDC39\", \"#9E9E9E\", \"#607D8B\"], \"font_family\": \"Consolas, \\\"Liberation Mono\\\", Menlo, Courier, monospace\", \"foreground\": \"rgba(0, 0, 0, .87)\", \"foreground_strong\": \"rgba(0, 0, 0, 1)\", \"foreground_subtle\": \"rgba(0, 0, 0, .54)\", \"guide_stroke_dasharray\": \"4,4\", \"label_font_family\": \"Consolas, \\\"Liberation Mono\\\", Menlo, Courier, monospace\", \"label_font_size\": 10, \"legend_font_family\": \"Consolas, \\\"Liberation Mono\\\", Menlo, Courier, monospace\", \"legend_font_size\": 14, \"major_guide_stroke_dasharray\": \"6,6\", \"major_label_font_family\": \"Consolas, \\\"Liberation Mono\\\", Menlo, Courier, monospace\", \"major_label_font_size\": 10, \"no_data_font_family\": \"Consolas, \\\"Liberation Mono\\\", Menlo, Courier, monospace\", \"no_data_font_size\": 64, \"opacity\": \".7\", \"opacity_hover\": \".8\", \"plot_background\": \"rgba(255, 255, 255, 1)\", \"stroke_opacity\": \".8\", \"stroke_opacity_hover\": \".9\", \"title_font_family\": \"Consolas, \\\"Liberation Mono\\\", Menlo, Courier, monospace\", \"title_font_size\": 16, \"tooltip_font_family\": \"Consolas, \\\"Liberation Mono\\\", Menlo, Courier, monospace\", \"tooltip_font_size\": 14, \"transition\": \"150ms\", \"value_background\": \"rgba(229, 229, 229, 1)\", \"value_colors\": [], \"value_font_family\": \"Consolas, \\\"Liberation Mono\\\", Menlo, Courier, monospace\", \"value_font_size\": 16, \"value_label_font_family\": \"Consolas, \\\"Liberation Mono\\\", Menlo, Courier, monospace\", \"value_label_font_size\": 10}, \"title\": \"Stack Overflow \\u5404\\u7c7b\\u7f16\\u7a0b\\u8bed\\u8a00\\u63d0\\u95ee\\u5360\\u6bd4\", \"tooltip_border_radius\": 0, \"tooltip_fancy_mode\": true, \"truncate_label\": null, \"truncate_legend\": null, \"width\": 800, \"x_label_rotation\": 0, \"x_labels\": [\"2012\", \"2013\", \"2014\", \"2015\", \"2016\", \"2017\", \"2018\"], \"x_labels_major\": null, \"x_labels_major_count\": null, \"x_labels_major_every\": null, \"x_title\": null, \"xrange\": null, \"y_label_rotation\": 0, \"y_labels\": null, \"y_labels_major\": null, \"y_labels_major_count\": null, \"y_labels_major_every\": null, \"y_title\": null, \"zero\": 0, \"legends\": [\"Java\", \"Python\", \"Java\"]}</script><script type=\"text/javascript\" xlink:href=\"https://kozea.github.io/pygal.js/2.0.x/pygal-tooltips.min.js\"/></defs><title>Stack Overflow 各类编程语言提问占比</title><g class=\"graph line-graph vertical\"><rect class=\"background\" height=\"600\" width=\"800\" x=\"0\" y=\"0\"/><g class=\"plot\" transform=\"translate(126, 46)\"><rect class=\"background\" height=\"514\" width=\"653.6\" x=\"0\" y=\"0\"/><g class=\"axis y always_show\"><path class=\"line\" d=\"M0.000000 514.000000 h653.600000\"/><g class=\"guides\"><path class=\"guide line\" d=\"M0.000000 504.115385 h653.600000\"/><text class=\"\" x=\"-5\" y=\"507.6153846153846\">0.04</text><title>0.04</title></g><g class=\"guides\"><path class=\"major guide line\" d=\"M0.000000 428.079882 h653.600000\"/><text class=\"major\" x=\"-5\" y=\"431.5798816568047\">0.05</text><title>0.05</title></g><g class=\"guides\"><path class=\"guide line\" d=\"M0.000000 352.044379 h653.600000\"/><text class=\"\" x=\"-5\" y=\"355.5443786982248\">0.06</text><title>0.06</title></g><g class=\"guides\"><path class=\"guide line\" d=\"M0.000000 276.008876 h653.600000\"/><text class=\"\" x=\"-5\" y=\"279.50887573964485\">0.07</text><title>0.07</title></g><g class=\"guides\"><path class=\"guide line\" d=\"M0.000000 199.973373 h653.600000\"/><text class=\"\" x=\"-5\" y=\"203.47337278106505\">0.08</text><title>0.08</title></g><g class=\"guides\"><path class=\"guide line\" d=\"M0.000000 123.937870 h653.600000\"/><text class=\"\" x=\"-5\" y=\"127.4378698224852\">0.09</text><title>0.09</title></g><g class=\"guides\"><path class=\"major guide line\" d=\"M0.000000 47.902367 h653.600000\"/><text class=\"major\" x=\"-5\" y=\"51.40236686390523\">0.1</text><title>0.1</title></g></g><g class=\"axis x\"><g class=\"guides\"><path class=\"line\" d=\"M12.569231 0.000000 v514.000000\"/><text class=\"\" x=\"12.569230769230769\" y=\"529.0\">2012</text></g><g class=\"guides\"><path class=\"guide line\" d=\"M117.312821 0.000000 v514.000000\"/><text class=\"\" x=\"117.31282051282051\" y=\"529.0\">2013</text></g><g class=\"guides\"><path class=\"guide line\" d=\"M222.056410 0.000000 v514.000000\"/><text class=\"\" x=\"222.05641025641026\" y=\"529.0\">2014</text></g><g class=\"guides\"><path class=\"guide line\" d=\"M326.800000 0.000000 v514.000000\"/><text class=\"\" x=\"326.8\" y=\"529.0\">2015</text></g><g class=\"guides\"><path class=\"guide line\" d=\"M431.543590 0.000000 v514.000000\"/><text class=\"\" x=\"431.54358974358973\" y=\"529.0\">2016</text></g><g class=\"guides\"><path class=\"guide line\" d=\"M536.287179 0.000000 v514.000000\"/><text class=\"\" x=\"536.2871794871795\" y=\"529.0\">2017</text></g><g class=\"guides\"><path class=\"guide line\" d=\"M641.030769 0.000000 v514.000000\"/><text class=\"\" x=\"641.0307692307692\" y=\"529.0\">2018</text></g></g><g class=\"series serie-0 color-0\"><path class=\"line reactive nofill\" d=\"M12.569231 123.937870 L117.312821 85.920118 222.056410 47.902367 326.800000 32.695266 431.543590 9.884615 536.287179 9.884615 641.030769 85.920118\"/></g><g class=\"series serie-1 color-1\"><path class=\"line reactive nofill\" d=\"M12.569231 504.115385 L117.312821 466.097633 222.056410 428.079882 326.800000 352.044379 431.543590 237.991124 536.287179 123.937870 641.030769 47.902367\"/></g><g class=\"series serie-2 color-2\"><path class=\"line reactive nofill\" d=\"M12.569231 123.937870 L117.312821 85.920118 222.056410 47.902367 326.800000 32.695266 431.543590 9.884615 536.287179 9.884615 641.030769 85.920118\"/></g></g><g class=\"titles\"><text class=\"title plot_title\" x=\"400.0\" y=\"26\">Stack Overflow 各类编程语言提问占比</text></g><g class=\"plot overlay\" transform=\"translate(126, 46)\"><g class=\"series serie-0 color-0\"><g class=\"dots\"><circle class=\"dot reactive tooltip-trigger\" cx=\"12.569230769230769\" cy=\"123.9378698224852\" r=\"2.5\"/><desc class=\"value\">0.09</desc><desc class=\"x \">12.569230769230769</desc><desc class=\"y \">123.9378698224852</desc><desc class=\"x_label\">2012</desc></g><g class=\"dots\"><circle class=\"dot reactive tooltip-trigger\" cx=\"117.31282051282051\" cy=\"85.92011834319521\" r=\"2.5\"/><desc class=\"value\">0.095</desc><desc class=\"x \">117.31282051282051</desc><desc class=\"y \">85.92011834319521</desc><desc class=\"x_label\">2013</desc></g><g class=\"dots\"><circle class=\"dot reactive tooltip-trigger\" cx=\"222.05641025641026\" cy=\"47.90236686390523\" r=\"2.5\"/><desc class=\"value\">0.1</desc><desc class=\"x \">222.05641025641026</desc><desc class=\"y \">47.90236686390523</desc><desc class=\"x_label\">2014</desc></g><g class=\"dots\"><circle class=\"dot reactive tooltip-trigger\" cx=\"326.8\" cy=\"32.695266272189315\" r=\"2.5\"/><desc class=\"value\">0.102</desc><desc class=\"x \">326.8</desc><desc class=\"y \">32.695266272189315</desc><desc class=\"x_label\">2015</desc></g><g class=\"dots\"><circle class=\"dot reactive tooltip-trigger\" cx=\"431.54358974358973\" cy=\"9.884615384615415\" r=\"2.5\"/><desc class=\"value\">0.105</desc><desc class=\"x left\">431.54358974358973</desc><desc class=\"y left\">9.884615384615415</desc><desc class=\"x_label\">2016</desc></g><g class=\"dots\"><circle class=\"dot reactive tooltip-trigger\" cx=\"536.2871794871795\" cy=\"9.884615384615415\" r=\"2.5\"/><desc class=\"value\">0.105</desc><desc class=\"x left\">536.2871794871795</desc><desc class=\"y left\">9.884615384615415</desc><desc class=\"x_label\">2017</desc></g><g class=\"dots\"><circle class=\"dot reactive tooltip-trigger\" cx=\"641.0307692307692\" cy=\"85.92011834319521\" r=\"2.5\"/><desc class=\"value\">0.095</desc><desc class=\"x left\">641.0307692307692</desc><desc class=\"y left\">85.92011834319521</desc><desc class=\"x_label\">2018</desc></g></g><g class=\"series serie-1 color-1\"><g class=\"dots\"><circle class=\"dot reactive tooltip-trigger\" cx=\"12.569230769230769\" cy=\"504.1153846153846\" r=\"2.5\"/><desc class=\"value\">0.04</desc><desc class=\"x top\">12.569230769230769</desc><desc class=\"y top\">504.1153846153846</desc><desc class=\"x_label\">2012</desc></g><g class=\"dots\"><circle class=\"dot reactive tooltip-trigger\" cx=\"117.31282051282051\" cy=\"466.09763313609466\" r=\"2.5\"/><desc class=\"value\">0.045</desc><desc class=\"x top\">117.31282051282051</desc><desc class=\"y top\">466.09763313609466</desc><desc class=\"x_label\">2013</desc></g><g class=\"dots\"><circle class=\"dot reactive tooltip-trigger\" cx=\"222.05641025641026\" cy=\"428.0798816568047\" r=\"2.5\"/><desc class=\"value\">0.05</desc><desc class=\"x top\">222.05641025641026</desc><desc class=\"y top\">428.0798816568047</desc><desc class=\"x_label\">2014</desc></g><g class=\"dots\"><circle class=\"dot reactive tooltip-trigger\" cx=\"326.8\" cy=\"352.0443786982248\" r=\"2.5\"/><desc class=\"value\">0.06</desc><desc class=\"x top\">326.8</desc><desc class=\"y top\">352.0443786982248</desc><desc class=\"x_label\">2015</desc></g><g class=\"dots\"><circle class=\"dot reactive tooltip-trigger\" cx=\"431.54358974358973\" cy=\"237.99112426035498\" r=\"2.5\"/><desc class=\"value\">0.075</desc><desc class=\"x left\">431.54358974358973</desc><desc class=\"y left\">237.99112426035498</desc><desc class=\"x_label\">2016</desc></g><g class=\"dots\"><circle class=\"dot reactive tooltip-trigger\" cx=\"536.2871794871795\" cy=\"123.9378698224852\" r=\"2.5\"/><desc class=\"value\">0.09</desc><desc class=\"x left\">536.2871794871795</desc><desc class=\"y left\">123.9378698224852</desc><desc class=\"x_label\">2017</desc></g><g class=\"dots\"><circle class=\"dot reactive tooltip-trigger\" cx=\"641.0307692307692\" cy=\"47.90236686390523\" r=\"2.5\"/><desc class=\"value\">0.1</desc><desc class=\"x left\">641.0307692307692</desc><desc class=\"y left\">47.90236686390523</desc><desc class=\"x_label\">2018</desc></g></g><g class=\"series serie-2 color-2\"><g class=\"dots\"><circle class=\"dot reactive tooltip-trigger\" cx=\"12.569230769230769\" cy=\"123.9378698224852\" r=\"2.5\"/><desc class=\"value\">0.09</desc><desc class=\"x \">12.569230769230769</desc><desc class=\"y \">123.9378698224852</desc><desc class=\"x_label\">2012</desc></g><g class=\"dots\"><circle class=\"dot reactive tooltip-trigger\" cx=\"117.31282051282051\" cy=\"85.92011834319521\" r=\"2.5\"/><desc class=\"value\">0.095</desc><desc class=\"x \">117.31282051282051</desc><desc class=\"y \">85.92011834319521</desc><desc class=\"x_label\">2013</desc></g><g class=\"dots\"><circle class=\"dot reactive tooltip-trigger\" cx=\"222.05641025641026\" cy=\"47.90236686390523\" r=\"2.5\"/><desc class=\"value\">0.1</desc><desc class=\"x \">222.05641025641026</desc><desc class=\"y \">47.90236686390523</desc><desc class=\"x_label\">2014</desc></g><g class=\"dots\"><circle class=\"dot reactive tooltip-trigger\" cx=\"326.8\" cy=\"32.695266272189315\" r=\"2.5\"/><desc class=\"value\">0.102</desc><desc class=\"x \">326.8</desc><desc class=\"y \">32.695266272189315</desc><desc class=\"x_label\">2015</desc></g><g class=\"dots\"><circle class=\"dot reactive tooltip-trigger\" cx=\"431.54358974358973\" cy=\"9.884615384615415\" r=\"2.5\"/><desc class=\"value\">0.105</desc><desc class=\"x left\">431.54358974358973</desc><desc class=\"y left\">9.884615384615415</desc><desc class=\"x_label\">2016</desc></g><g class=\"dots\"><circle class=\"dot reactive tooltip-trigger\" cx=\"536.2871794871795\" cy=\"9.884615384615415\" r=\"2.5\"/><desc class=\"value\">0.105</desc><desc class=\"x left\">536.2871794871795</desc><desc class=\"y left\">9.884615384615415</desc><desc class=\"x_label\">2017</desc></g><g class=\"dots\"><circle class=\"dot reactive tooltip-trigger\" cx=\"641.0307692307692\" cy=\"85.92011834319521\" r=\"2.5\"/><desc class=\"value\">0.095</desc><desc class=\"x left\">641.0307692307692</desc><desc class=\"y left\">85.92011834319521</desc><desc class=\"x_label\">2018</desc></g></g></g><g class=\"plot text-overlay\" transform=\"translate(126, 46)\"><g class=\"series serie-0 color-0\"/><g class=\"series serie-1 color-1\"/><g class=\"series serie-2 color-2\"/></g><g class=\"plot tooltip-overlay\" transform=\"translate(126, 46)\"><g class=\"tooltip\" style=\"opacity: 0\" transform=\"translate(0 0)\"><rect class=\"tooltip-box\" height=\"0\" rx=\"0\" ry=\"0\" width=\"0\"/><g class=\"text\"/></g></g><g class=\"legends\" transform=\"translate(10, 56)\"><g class=\"legend reactive activate-serie\" id=\"activate-serie-0\"><rect class=\"color-0 reactive\" height=\"12\" width=\"12\" x=\"0.0\" y=\"1.0\"/><text x=\"17.0\" y=\"11.2\">Java</text></g><g class=\"legend reactive activate-serie\" id=\"activate-serie-1\"><rect class=\"color-1 reactive\" height=\"12\" width=\"12\" x=\"0.0\" y=\"22.0\"/><text x=\"17.0\" y=\"32.2\">Python</text></g><g class=\"legend reactive activate-serie\" id=\"activate-serie-2\"><rect class=\"color-2 reactive\" height=\"12\" width=\"12\" x=\"0.0\" y=\"43.0\"/><text x=\"17.0\" y=\"53.2\">Java</text></g></g><g class=\"legends\" transform=\"translate(790, 56)\"/></g></svg>"
      ],
      "text/plain": [
       "<pygal.graph.line.Line at 0x105ed2c18>"
      ]
     },
     "execution_count": 1,
     "metadata": {},
     "output_type": "execute_result"
    }
   ],
   "source": [
    "#为图表加上其他特征：我们前一页画的图太过简单了，现在将它变得更丰富、精确一些。我们在 pygal 中可以用下方代码为图表添加标题、横坐标数据、以及多条线数据。\n",
    "\n",
    "import pygal\n",
    "line_chart = pygal.Line()\n",
    "line_chart.title = \"Stack Overflow 各类编程语言提问占比\"\n",
    "line_chart.x_labels = map(str, range(2012, 2019))\n",
    "line_chart.add('Java',[0.09, 0.095, 0.10, 0.102, 0.105, 0.105, 0.095 ])\n",
    "line_chart.add('Python', [0.04, 0.045, 0.05, 0.06, 0.075, 0.09, 0.10] )\n",
    "line_chart.render_to_file(r'/Users/XUMIAO/Desktop/line5.svg')\n",
    "#在上方示例中，我们首先加了一行代码：\n",
    "\n",
    "line_chart.title = \"Stack Overflow 各类编程语言提问占比\"\n",
    "#它的作用是为图表加了一行标题：Stack Overflow 各类编程语言提问占比。\n",
    "\n",
    "#其次，加了一行：\n",
    "\n",
    "line_chart.x_labels = map(str, range(2012, 2019))\n",
    "# 该行代码为图表 X 轴（横轴）加了从 2012 到 2018，7个表示年份的字符串数据。\n",
    "\n",
    "# 最后，我们添加了一条新线：\n",
    "\n",
    "line_chart.add('Java',[0.09, 0.095, 0.10, 0.102, 0.105, 0.105, 0.095 ])\n",
    "# 它体现了 Java 语言在 Stack Overflow 网站上提问的占比趋势。因为该代码在有 Python数据的那行代码之上，所以在表格的左侧，Java 排在 Python 之前。"
   ]
  },
  {
   "cell_type": "code",
   "execution_count": 2,
   "metadata": {},
   "outputs": [],
   "source": [
    "# 请按照要求，补全注释行…处代码。\n",
    "import pygal\n",
    "line_chart = pygal.Line()\n",
    "# 图表加标题：Stack Overflow 各类编程语言提问占比\n",
    "line_chart.title = \"Stack Overflow 各类编程语言提问占比\"\n",
    "# 将图表 X 轴按顺序标上从 2012 到 2018，七个年份数据\n",
    "line_chart.x_labels = map(str, range(2012,2018))\n",
    "# 为图表添加一条新线，数据名称为 \"Java\" \n",
    "line_chart.add('Java',[0.09, 0.095, 0.10, 0.102, 0.105, 0.105, 0.095 ])\n",
    "line_chart.add('Python', [0.04, 0.045, 0.05, 0.06, 0.075, 0.09, 0.10] )\n",
    "line_chart.render_to_file(r'/Users/XUMIAO/Desktop/line6.svg')"
   ]
  },
  {
   "cell_type": "code",
   "execution_count": 3,
   "metadata": {},
   "outputs": [],
   "source": [
    "#堆叠线图：当线图中的线较多时，观察者很难一眼看出线与线在不同点位上的比较。这是因为线多了以后，线与线之间的交织也变得错综复杂起来。这时，我们可以使用堆叠线图来解决这个问题，堆叠线图反映各种数据在同一横坐标上的占比。在看见效果之前，我们先看如何用代码在 pygal 中实现堆叠线图，其实很简单，只需要改动一行代码就可以：\n",
    "\n",
    "#将 line_chart = pygal.Line() 改为\n",
    "line_chart = pygal.StackedLine(fill=True)\n",
    "#上例中，我们将原本的 pygal.Line() 改为 pygal.StackedLine(fill = True)，其中 StackedLine 就是“堆叠线图”的意思。其中的参数 fill 代表是否将图表用颜色填充。"
   ]
  },
  {
   "cell_type": "code",
   "execution_count": 4,
   "metadata": {},
   "outputs": [],
   "source": [
    "\"\"\"\n",
    "请先点击运行，观察生成的线图。\n",
    "\n",
    "再将\n",
    "\n",
    "line_chart = pygal.Line()\n",
    "前打上注释符号 #；\n",
    "\n",
    "继续将代码\n",
    "\n",
    "#line_chart = pygal.StackedLine(fill = True)\n",
    "的注释符号 # 删去。\n",
    "\n",
    "再次点击运行，观察生成的堆叠线图。\n",
    "\"\"\"\n",
    "import pygal\n",
    "line_chart = pygal.Line()\n",
    "line_chart = pygal.StackedLine(fill = True)\n",
    "line_chart.title = \"Stack Overflow 各类编程语言提问占比\"\n",
    "line_chart.x_labels = map(str, range(2012, 2019))\n",
    "line_chart.add('Java',[0.09, 0.095, 0.10, 0.102, 0.105, 0.105, 0.095 ])\n",
    "line_chart.add('Javascript',[0.08, 0.085, 0.09, 0.09, 0.09, 0.09,0.095])\n",
    "line_chart.add('C#',[0.095, 0.08, 0.075, 0.075, 0.075, 0.075, 0.075])\n",
    "line_chart.add('Python', [0.04, 0.045, 0.05, 0.06, 0.075, 0.09, 0.10] )\n",
    "line_chart.render_to_file(r'/Users/XUMIAO/Desktop/line7.svg')"
   ]
  },
  {
   "cell_type": "code",
   "execution_count": 5,
   "metadata": {},
   "outputs": [
    {
     "ename": "ValueError",
     "evalue": "unknown locale: UTF-8",
     "output_type": "error",
     "traceback": [
      "\u001b[0;31m---------------------------------------------------------------------------\u001b[0m",
      "\u001b[0;31mValueError\u001b[0m                                Traceback (most recent call last)",
      "\u001b[0;32m/anaconda3/lib/python3.7/site-packages/IPython/core/formatters.py\u001b[0m in \u001b[0;36m__call__\u001b[0;34m(self, obj)\u001b[0m\n\u001b[1;32m    343\u001b[0m             \u001b[0mmethod\u001b[0m \u001b[0;34m=\u001b[0m \u001b[0mget_real_method\u001b[0m\u001b[0;34m(\u001b[0m\u001b[0mobj\u001b[0m\u001b[0;34m,\u001b[0m \u001b[0mself\u001b[0m\u001b[0;34m.\u001b[0m\u001b[0mprint_method\u001b[0m\u001b[0;34m)\u001b[0m\u001b[0;34m\u001b[0m\u001b[0;34m\u001b[0m\u001b[0m\n\u001b[1;32m    344\u001b[0m             \u001b[0;32mif\u001b[0m \u001b[0mmethod\u001b[0m \u001b[0;32mis\u001b[0m \u001b[0;32mnot\u001b[0m \u001b[0;32mNone\u001b[0m\u001b[0;34m:\u001b[0m\u001b[0;34m\u001b[0m\u001b[0;34m\u001b[0m\u001b[0m\n\u001b[0;32m--> 345\u001b[0;31m                 \u001b[0;32mreturn\u001b[0m \u001b[0mmethod\u001b[0m\u001b[0;34m(\u001b[0m\u001b[0;34m)\u001b[0m\u001b[0;34m\u001b[0m\u001b[0;34m\u001b[0m\u001b[0m\n\u001b[0m\u001b[1;32m    346\u001b[0m             \u001b[0;32mreturn\u001b[0m \u001b[0;32mNone\u001b[0m\u001b[0;34m\u001b[0m\u001b[0;34m\u001b[0m\u001b[0m\n\u001b[1;32m    347\u001b[0m         \u001b[0;32melse\u001b[0m\u001b[0;34m:\u001b[0m\u001b[0;34m\u001b[0m\u001b[0;34m\u001b[0m\u001b[0m\n",
      "\u001b[0;32m/anaconda3/lib/python3.7/site-packages/pygal/graph/base.py\u001b[0m in \u001b[0;36m_repr_png_\u001b[0;34m(self)\u001b[0m\n\u001b[1;32m    232\u001b[0m     \u001b[0;32mdef\u001b[0m \u001b[0m_repr_png_\u001b[0m\u001b[0;34m(\u001b[0m\u001b[0mself\u001b[0m\u001b[0;34m)\u001b[0m\u001b[0;34m:\u001b[0m\u001b[0;34m\u001b[0m\u001b[0;34m\u001b[0m\u001b[0m\n\u001b[1;32m    233\u001b[0m         \u001b[0;34m\"\"\"Display png in IPython notebook\"\"\"\u001b[0m\u001b[0;34m\u001b[0m\u001b[0;34m\u001b[0m\u001b[0m\n\u001b[0;32m--> 234\u001b[0;31m         \u001b[0;32mreturn\u001b[0m \u001b[0mself\u001b[0m\u001b[0;34m.\u001b[0m\u001b[0mrender_to_png\u001b[0m\u001b[0;34m(\u001b[0m\u001b[0;34m)\u001b[0m\u001b[0;34m\u001b[0m\u001b[0;34m\u001b[0m\u001b[0m\n\u001b[0m",
      "\u001b[0;32m/anaconda3/lib/python3.7/site-packages/pygal/graph/public.py\u001b[0m in \u001b[0;36mrender_to_png\u001b[0;34m(self, filename, dpi, **kwargs)\u001b[0m\n\u001b[1;32m    116\u001b[0m     \u001b[0;32mdef\u001b[0m \u001b[0mrender_to_png\u001b[0m\u001b[0;34m(\u001b[0m\u001b[0mself\u001b[0m\u001b[0;34m,\u001b[0m \u001b[0mfilename\u001b[0m\u001b[0;34m=\u001b[0m\u001b[0;32mNone\u001b[0m\u001b[0;34m,\u001b[0m \u001b[0mdpi\u001b[0m\u001b[0;34m=\u001b[0m\u001b[0;36m72\u001b[0m\u001b[0;34m,\u001b[0m \u001b[0;34m**\u001b[0m\u001b[0mkwargs\u001b[0m\u001b[0;34m)\u001b[0m\u001b[0;34m:\u001b[0m\u001b[0;34m\u001b[0m\u001b[0;34m\u001b[0m\u001b[0m\n\u001b[1;32m    117\u001b[0m         \u001b[0;34m\"\"\"Render the graph, convert it to png and write it to filename\"\"\"\u001b[0m\u001b[0;34m\u001b[0m\u001b[0;34m\u001b[0m\u001b[0m\n\u001b[0;32m--> 118\u001b[0;31m         \u001b[0;32mimport\u001b[0m \u001b[0mcairosvg\u001b[0m\u001b[0;34m\u001b[0m\u001b[0;34m\u001b[0m\u001b[0m\n\u001b[0m\u001b[1;32m    119\u001b[0m         return cairosvg.svg2png(\n\u001b[1;32m    120\u001b[0m             bytestring=self.render(**kwargs), write_to=filename, dpi=dpi)\n",
      "\u001b[0;32m/anaconda3/lib/python3.7/site-packages/cairosvg/__init__.py\u001b[0m in \u001b[0;36m<module>\u001b[0;34m\u001b[0m\n\u001b[1;32m     40\u001b[0m \u001b[0;34m\u001b[0m\u001b[0m\n\u001b[1;32m     41\u001b[0m \u001b[0;31m# VERSION is used in the \"url\" module imported by \"surface\"\u001b[0m\u001b[0;34m\u001b[0m\u001b[0;34m\u001b[0m\u001b[0;34m\u001b[0m\u001b[0m\n\u001b[0;32m---> 42\u001b[0;31m \u001b[0;32mfrom\u001b[0m \u001b[0;34m.\u001b[0m \u001b[0;32mimport\u001b[0m \u001b[0msurface\u001b[0m  \u001b[0;31m# noqa isort:skip\u001b[0m\u001b[0;34m\u001b[0m\u001b[0;34m\u001b[0m\u001b[0m\n\u001b[0m\u001b[1;32m     43\u001b[0m \u001b[0;34m\u001b[0m\u001b[0m\n\u001b[1;32m     44\u001b[0m \u001b[0;34m\u001b[0m\u001b[0m\n",
      "\u001b[0;32m/anaconda3/lib/python3.7/site-packages/cairosvg/surface.py\u001b[0m in \u001b[0;36m<module>\u001b[0;34m\u001b[0m\n\u001b[1;32m     26\u001b[0m \u001b[0;34m\u001b[0m\u001b[0m\n\u001b[1;32m     27\u001b[0m \u001b[0;32mfrom\u001b[0m \u001b[0;34m.\u001b[0m\u001b[0mcolors\u001b[0m \u001b[0;32mimport\u001b[0m \u001b[0mcolor\u001b[0m\u001b[0;34m\u001b[0m\u001b[0;34m\u001b[0m\u001b[0m\n\u001b[0;32m---> 28\u001b[0;31m from .defs import (\n\u001b[0m\u001b[1;32m     29\u001b[0m     \u001b[0mapply_filter_after_painting\u001b[0m\u001b[0;34m,\u001b[0m \u001b[0mapply_filter_before_painting\u001b[0m\u001b[0;34m,\u001b[0m \u001b[0mclip_path\u001b[0m\u001b[0;34m,\u001b[0m\u001b[0;34m\u001b[0m\u001b[0;34m\u001b[0m\u001b[0m\n\u001b[1;32m     30\u001b[0m     \u001b[0mfilter_\u001b[0m\u001b[0;34m,\u001b[0m \u001b[0mgradient_or_pattern\u001b[0m\u001b[0;34m,\u001b[0m \u001b[0mlinear_gradient\u001b[0m\u001b[0;34m,\u001b[0m \u001b[0mmarker\u001b[0m\u001b[0;34m,\u001b[0m \u001b[0mmask\u001b[0m\u001b[0;34m,\u001b[0m \u001b[0mpaint_mask\u001b[0m\u001b[0;34m,\u001b[0m\u001b[0;34m\u001b[0m\u001b[0;34m\u001b[0m\u001b[0m\n",
      "\u001b[0;32m/anaconda3/lib/python3.7/site-packages/cairosvg/defs.py\u001b[0m in \u001b[0;36m<module>\u001b[0;34m\u001b[0m\n\u001b[1;32m     22\u001b[0m \"\"\"\n\u001b[1;32m     23\u001b[0m \u001b[0;34m\u001b[0m\u001b[0m\n\u001b[0;32m---> 24\u001b[0;31m \u001b[0;32mfrom\u001b[0m \u001b[0;34m.\u001b[0m\u001b[0mbounding_box\u001b[0m \u001b[0;32mimport\u001b[0m \u001b[0mcalculate_bounding_box\u001b[0m\u001b[0;34m,\u001b[0m \u001b[0mis_non_empty_bounding_box\u001b[0m\u001b[0;34m\u001b[0m\u001b[0;34m\u001b[0m\u001b[0m\n\u001b[0m\u001b[1;32m     25\u001b[0m \u001b[0;32mfrom\u001b[0m \u001b[0;34m.\u001b[0m\u001b[0mcolors\u001b[0m \u001b[0;32mimport\u001b[0m \u001b[0mcolor\u001b[0m\u001b[0;34m\u001b[0m\u001b[0;34m\u001b[0m\u001b[0m\n\u001b[1;32m     26\u001b[0m \u001b[0;32mfrom\u001b[0m \u001b[0;34m.\u001b[0m\u001b[0mfeatures\u001b[0m \u001b[0;32mimport\u001b[0m \u001b[0mmatch_features\u001b[0m\u001b[0;34m\u001b[0m\u001b[0;34m\u001b[0m\u001b[0m\n",
      "\u001b[0;32m/anaconda3/lib/python3.7/site-packages/cairosvg/bounding_box.py\u001b[0m in \u001b[0;36m<module>\u001b[0;34m\u001b[0m\n\u001b[1;32m     24\u001b[0m \u001b[0;32mfrom\u001b[0m \u001b[0mmath\u001b[0m \u001b[0;32mimport\u001b[0m \u001b[0macos\u001b[0m\u001b[0;34m,\u001b[0m \u001b[0matan\u001b[0m\u001b[0;34m,\u001b[0m \u001b[0mcos\u001b[0m\u001b[0;34m,\u001b[0m \u001b[0mfmod\u001b[0m\u001b[0;34m,\u001b[0m \u001b[0misinf\u001b[0m\u001b[0;34m,\u001b[0m \u001b[0mpi\u001b[0m\u001b[0;34m,\u001b[0m \u001b[0mradians\u001b[0m\u001b[0;34m,\u001b[0m \u001b[0msin\u001b[0m\u001b[0;34m,\u001b[0m \u001b[0msqrt\u001b[0m\u001b[0;34m,\u001b[0m \u001b[0mtan\u001b[0m\u001b[0;34m\u001b[0m\u001b[0;34m\u001b[0m\u001b[0m\n\u001b[1;32m     25\u001b[0m \u001b[0;34m\u001b[0m\u001b[0m\n\u001b[0;32m---> 26\u001b[0;31m \u001b[0;32mfrom\u001b[0m \u001b[0;34m.\u001b[0m\u001b[0mfeatures\u001b[0m \u001b[0;32mimport\u001b[0m \u001b[0mmatch_features\u001b[0m\u001b[0;34m\u001b[0m\u001b[0;34m\u001b[0m\u001b[0m\n\u001b[0m\u001b[1;32m     27\u001b[0m \u001b[0;32mfrom\u001b[0m \u001b[0;34m.\u001b[0m\u001b[0mhelpers\u001b[0m \u001b[0;32mimport\u001b[0m \u001b[0mPATH_LETTERS\u001b[0m\u001b[0;34m,\u001b[0m \u001b[0mnormalize\u001b[0m\u001b[0;34m,\u001b[0m \u001b[0mpoint\u001b[0m\u001b[0;34m,\u001b[0m \u001b[0msize\u001b[0m\u001b[0;34m\u001b[0m\u001b[0;34m\u001b[0m\u001b[0m\n\u001b[1;32m     28\u001b[0m \u001b[0;32mfrom\u001b[0m \u001b[0;34m.\u001b[0m\u001b[0mparser\u001b[0m \u001b[0;32mimport\u001b[0m \u001b[0mTree\u001b[0m\u001b[0;34m\u001b[0m\u001b[0;34m\u001b[0m\u001b[0m\n",
      "\u001b[0;32m/anaconda3/lib/python3.7/site-packages/cairosvg/features.py\u001b[0m in \u001b[0;36m<module>\u001b[0;34m\u001b[0m\n\u001b[1;32m     23\u001b[0m \u001b[0;34m\u001b[0m\u001b[0m\n\u001b[1;32m     24\u001b[0m \u001b[0mROOT\u001b[0m \u001b[0;34m=\u001b[0m \u001b[0;34m'http://www.w3.org/TR/SVG11/feature'\u001b[0m\u001b[0;34m\u001b[0m\u001b[0;34m\u001b[0m\u001b[0m\n\u001b[0;32m---> 25\u001b[0;31m \u001b[0mLOCALE\u001b[0m \u001b[0;34m=\u001b[0m \u001b[0mlocale\u001b[0m\u001b[0;34m.\u001b[0m\u001b[0mgetdefaultlocale\u001b[0m\u001b[0;34m(\u001b[0m\u001b[0;34m)\u001b[0m\u001b[0;34m[\u001b[0m\u001b[0;36m0\u001b[0m\u001b[0;34m]\u001b[0m \u001b[0;32mor\u001b[0m \u001b[0;34m''\u001b[0m\u001b[0;34m\u001b[0m\u001b[0;34m\u001b[0m\u001b[0m\n\u001b[0m\u001b[1;32m     26\u001b[0m SUPPORTED_FEATURES = frozenset((\n\u001b[1;32m     27\u001b[0m     ROOT + '#' + feature for feature in (\n",
      "\u001b[0;32m/anaconda3/lib/python3.7/locale.py\u001b[0m in \u001b[0;36mgetdefaultlocale\u001b[0;34m(envvars)\u001b[0m\n\u001b[1;32m    566\u001b[0m     \u001b[0;32melse\u001b[0m\u001b[0;34m:\u001b[0m\u001b[0;34m\u001b[0m\u001b[0;34m\u001b[0m\u001b[0m\n\u001b[1;32m    567\u001b[0m         \u001b[0mlocalename\u001b[0m \u001b[0;34m=\u001b[0m \u001b[0;34m'C'\u001b[0m\u001b[0;34m\u001b[0m\u001b[0;34m\u001b[0m\u001b[0m\n\u001b[0;32m--> 568\u001b[0;31m     \u001b[0;32mreturn\u001b[0m \u001b[0m_parse_localename\u001b[0m\u001b[0;34m(\u001b[0m\u001b[0mlocalename\u001b[0m\u001b[0;34m)\u001b[0m\u001b[0;34m\u001b[0m\u001b[0;34m\u001b[0m\u001b[0m\n\u001b[0m\u001b[1;32m    569\u001b[0m \u001b[0;34m\u001b[0m\u001b[0m\n\u001b[1;32m    570\u001b[0m \u001b[0;34m\u001b[0m\u001b[0m\n",
      "\u001b[0;32m/anaconda3/lib/python3.7/locale.py\u001b[0m in \u001b[0;36m_parse_localename\u001b[0;34m(localename)\u001b[0m\n\u001b[1;32m    493\u001b[0m     \u001b[0;32melif\u001b[0m \u001b[0mcode\u001b[0m \u001b[0;34m==\u001b[0m \u001b[0;34m'C'\u001b[0m\u001b[0;34m:\u001b[0m\u001b[0;34m\u001b[0m\u001b[0;34m\u001b[0m\u001b[0m\n\u001b[1;32m    494\u001b[0m         \u001b[0;32mreturn\u001b[0m \u001b[0;32mNone\u001b[0m\u001b[0;34m,\u001b[0m \u001b[0;32mNone\u001b[0m\u001b[0;34m\u001b[0m\u001b[0;34m\u001b[0m\u001b[0m\n\u001b[0;32m--> 495\u001b[0;31m     \u001b[0;32mraise\u001b[0m \u001b[0mValueError\u001b[0m\u001b[0;34m(\u001b[0m\u001b[0;34m'unknown locale: %s'\u001b[0m \u001b[0;34m%\u001b[0m \u001b[0mlocalename\u001b[0m\u001b[0;34m)\u001b[0m\u001b[0;34m\u001b[0m\u001b[0;34m\u001b[0m\u001b[0m\n\u001b[0m\u001b[1;32m    496\u001b[0m \u001b[0;34m\u001b[0m\u001b[0m\n\u001b[1;32m    497\u001b[0m \u001b[0;32mdef\u001b[0m \u001b[0m_build_localename\u001b[0m\u001b[0;34m(\u001b[0m\u001b[0mlocaletuple\u001b[0m\u001b[0;34m)\u001b[0m\u001b[0;34m:\u001b[0m\u001b[0;34m\u001b[0m\u001b[0;34m\u001b[0m\u001b[0m\n",
      "\u001b[0;31mValueError\u001b[0m: unknown locale: UTF-8"
     ]
    },
    {
     "data": {
      "image/svg+xml": [
       "<svg xmlns:xlink=\"http://www.w3.org/1999/xlink\" xmlns=\"http://www.w3.org/2000/svg\" id=\"chart-02c35355-529f-45aa-ab62-6ef3e35b09e8\" class=\"pygal-chart\" viewBox=\"0 0 800 600\"><!--Generated with pygal 2.4.0 (lxml) ©Kozea 2012-2016 on 2019-06-25--><!--http://pygal.org--><!--http://github.com/Kozea/pygal--><defs><style type=\"text/css\">#chart-02c35355-529f-45aa-ab62-6ef3e35b09e8{-webkit-user-select:none;-webkit-font-smoothing:antialiased;font-family:Consolas,\"Liberation Mono\",Menlo,Courier,monospace}#chart-02c35355-529f-45aa-ab62-6ef3e35b09e8 .title{font-family:Consolas,\"Liberation Mono\",Menlo,Courier,monospace;font-size:16px}#chart-02c35355-529f-45aa-ab62-6ef3e35b09e8 .legends .legend text{font-family:Consolas,\"Liberation Mono\",Menlo,Courier,monospace;font-size:14px}#chart-02c35355-529f-45aa-ab62-6ef3e35b09e8 .axis text{font-family:Consolas,\"Liberation Mono\",Menlo,Courier,monospace;font-size:10px}#chart-02c35355-529f-45aa-ab62-6ef3e35b09e8 .axis text.major{font-family:Consolas,\"Liberation Mono\",Menlo,Courier,monospace;font-size:10px}#chart-02c35355-529f-45aa-ab62-6ef3e35b09e8 .text-overlay text.value{font-family:Consolas,\"Liberation Mono\",Menlo,Courier,monospace;font-size:16px}#chart-02c35355-529f-45aa-ab62-6ef3e35b09e8 .text-overlay text.label{font-family:Consolas,\"Liberation Mono\",Menlo,Courier,monospace;font-size:10px}#chart-02c35355-529f-45aa-ab62-6ef3e35b09e8 .tooltip{font-family:Consolas,\"Liberation Mono\",Menlo,Courier,monospace;font-size:14px}#chart-02c35355-529f-45aa-ab62-6ef3e35b09e8 text.no_data{font-family:Consolas,\"Liberation Mono\",Menlo,Courier,monospace;font-size:64px}\n",
       "#chart-02c35355-529f-45aa-ab62-6ef3e35b09e8{background-color:rgba(249,249,249,1)}#chart-02c35355-529f-45aa-ab62-6ef3e35b09e8 path,#chart-02c35355-529f-45aa-ab62-6ef3e35b09e8 line,#chart-02c35355-529f-45aa-ab62-6ef3e35b09e8 rect,#chart-02c35355-529f-45aa-ab62-6ef3e35b09e8 circle{-webkit-transition:150ms;-moz-transition:150ms;transition:150ms}#chart-02c35355-529f-45aa-ab62-6ef3e35b09e8 .graph &gt; .background{fill:rgba(249,249,249,1)}#chart-02c35355-529f-45aa-ab62-6ef3e35b09e8 .plot &gt; .background{fill:rgba(255,255,255,1)}#chart-02c35355-529f-45aa-ab62-6ef3e35b09e8 .graph{fill:rgba(0,0,0,.87)}#chart-02c35355-529f-45aa-ab62-6ef3e35b09e8 text.no_data{fill:rgba(0,0,0,1)}#chart-02c35355-529f-45aa-ab62-6ef3e35b09e8 .title{fill:rgba(0,0,0,1)}#chart-02c35355-529f-45aa-ab62-6ef3e35b09e8 .legends .legend text{fill:rgba(0,0,0,.87)}#chart-02c35355-529f-45aa-ab62-6ef3e35b09e8 .legends .legend:hover text{fill:rgba(0,0,0,1)}#chart-02c35355-529f-45aa-ab62-6ef3e35b09e8 .axis .line{stroke:rgba(0,0,0,1)}#chart-02c35355-529f-45aa-ab62-6ef3e35b09e8 .axis .guide.line{stroke:rgba(0,0,0,.54)}#chart-02c35355-529f-45aa-ab62-6ef3e35b09e8 .axis .major.line{stroke:rgba(0,0,0,.87)}#chart-02c35355-529f-45aa-ab62-6ef3e35b09e8 .axis text.major{fill:rgba(0,0,0,1)}#chart-02c35355-529f-45aa-ab62-6ef3e35b09e8 .axis.y .guides:hover .guide.line,#chart-02c35355-529f-45aa-ab62-6ef3e35b09e8 .line-graph .axis.x .guides:hover .guide.line,#chart-02c35355-529f-45aa-ab62-6ef3e35b09e8 .stackedline-graph .axis.x .guides:hover .guide.line,#chart-02c35355-529f-45aa-ab62-6ef3e35b09e8 .xy-graph .axis.x .guides:hover .guide.line{stroke:rgba(0,0,0,1)}#chart-02c35355-529f-45aa-ab62-6ef3e35b09e8 .axis .guides:hover text{fill:rgba(0,0,0,1)}#chart-02c35355-529f-45aa-ab62-6ef3e35b09e8 .reactive{fill-opacity:.7;stroke-opacity:.8}#chart-02c35355-529f-45aa-ab62-6ef3e35b09e8 .ci{stroke:rgba(0,0,0,.87)}#chart-02c35355-529f-45aa-ab62-6ef3e35b09e8 .reactive.active,#chart-02c35355-529f-45aa-ab62-6ef3e35b09e8 .active .reactive{fill-opacity:.8;stroke-opacity:.9;stroke-width:4}#chart-02c35355-529f-45aa-ab62-6ef3e35b09e8 .ci .reactive.active{stroke-width:1.5}#chart-02c35355-529f-45aa-ab62-6ef3e35b09e8 .series text{fill:rgba(0,0,0,1)}#chart-02c35355-529f-45aa-ab62-6ef3e35b09e8 .tooltip rect{fill:rgba(255,255,255,1);stroke:rgba(0,0,0,1);-webkit-transition:opacity 150ms;-moz-transition:opacity 150ms;transition:opacity 150ms}#chart-02c35355-529f-45aa-ab62-6ef3e35b09e8 .tooltip .label{fill:rgba(0,0,0,.87)}#chart-02c35355-529f-45aa-ab62-6ef3e35b09e8 .tooltip .label{fill:rgba(0,0,0,.87)}#chart-02c35355-529f-45aa-ab62-6ef3e35b09e8 .tooltip .legend{font-size:.8em;fill:rgba(0,0,0,.54)}#chart-02c35355-529f-45aa-ab62-6ef3e35b09e8 .tooltip .x_label{font-size:.6em;fill:rgba(0,0,0,1)}#chart-02c35355-529f-45aa-ab62-6ef3e35b09e8 .tooltip .xlink{font-size:.5em;text-decoration:underline}#chart-02c35355-529f-45aa-ab62-6ef3e35b09e8 .tooltip .value{font-size:1.5em}#chart-02c35355-529f-45aa-ab62-6ef3e35b09e8 .bound{font-size:.5em}#chart-02c35355-529f-45aa-ab62-6ef3e35b09e8 .max-value{font-size:.75em;fill:rgba(0,0,0,.54)}#chart-02c35355-529f-45aa-ab62-6ef3e35b09e8 .map-element{fill:rgba(255,255,255,1);stroke:rgba(0,0,0,.54) !important}#chart-02c35355-529f-45aa-ab62-6ef3e35b09e8 .map-element .reactive{fill-opacity:inherit;stroke-opacity:inherit}#chart-02c35355-529f-45aa-ab62-6ef3e35b09e8 .color-0,#chart-02c35355-529f-45aa-ab62-6ef3e35b09e8 .color-0 a:visited{stroke:#F44336;fill:#F44336}#chart-02c35355-529f-45aa-ab62-6ef3e35b09e8 .text-overlay .color-0 text{fill:black}\n",
       "#chart-02c35355-529f-45aa-ab62-6ef3e35b09e8 text.no_data{text-anchor:middle}#chart-02c35355-529f-45aa-ab62-6ef3e35b09e8 .guide.line{fill:none}#chart-02c35355-529f-45aa-ab62-6ef3e35b09e8 .centered{text-anchor:middle}#chart-02c35355-529f-45aa-ab62-6ef3e35b09e8 .title{text-anchor:middle}#chart-02c35355-529f-45aa-ab62-6ef3e35b09e8 .legends .legend text{fill-opacity:1}#chart-02c35355-529f-45aa-ab62-6ef3e35b09e8 .axis.x text{text-anchor:middle}#chart-02c35355-529f-45aa-ab62-6ef3e35b09e8 .axis.x:not(.web) text[transform]{text-anchor:start}#chart-02c35355-529f-45aa-ab62-6ef3e35b09e8 .axis.x:not(.web) text[transform].backwards{text-anchor:end}#chart-02c35355-529f-45aa-ab62-6ef3e35b09e8 .axis.y text{text-anchor:end}#chart-02c35355-529f-45aa-ab62-6ef3e35b09e8 .axis.y text[transform].backwards{text-anchor:start}#chart-02c35355-529f-45aa-ab62-6ef3e35b09e8 .axis.y2 text{text-anchor:start}#chart-02c35355-529f-45aa-ab62-6ef3e35b09e8 .axis.y2 text[transform].backwards{text-anchor:end}#chart-02c35355-529f-45aa-ab62-6ef3e35b09e8 .axis .guide.line{stroke-dasharray:4,4}#chart-02c35355-529f-45aa-ab62-6ef3e35b09e8 .axis .major.guide.line{stroke-dasharray:6,6}#chart-02c35355-529f-45aa-ab62-6ef3e35b09e8 .horizontal .axis.y .guide.line,#chart-02c35355-529f-45aa-ab62-6ef3e35b09e8 .horizontal .axis.y2 .guide.line,#chart-02c35355-529f-45aa-ab62-6ef3e35b09e8 .vertical .axis.x .guide.line{opacity:0}#chart-02c35355-529f-45aa-ab62-6ef3e35b09e8 .horizontal .axis.always_show .guide.line,#chart-02c35355-529f-45aa-ab62-6ef3e35b09e8 .vertical .axis.always_show .guide.line{opacity:1 !important}#chart-02c35355-529f-45aa-ab62-6ef3e35b09e8 .axis.y .guides:hover .guide.line,#chart-02c35355-529f-45aa-ab62-6ef3e35b09e8 .axis.y2 .guides:hover .guide.line,#chart-02c35355-529f-45aa-ab62-6ef3e35b09e8 .axis.x .guides:hover .guide.line{opacity:1}#chart-02c35355-529f-45aa-ab62-6ef3e35b09e8 .axis .guides:hover text{opacity:1}#chart-02c35355-529f-45aa-ab62-6ef3e35b09e8 .nofill{fill:none}#chart-02c35355-529f-45aa-ab62-6ef3e35b09e8 .subtle-fill{fill-opacity:.2}#chart-02c35355-529f-45aa-ab62-6ef3e35b09e8 .dot{stroke-width:1px;fill-opacity:1}#chart-02c35355-529f-45aa-ab62-6ef3e35b09e8 .dot.active{stroke-width:5px}#chart-02c35355-529f-45aa-ab62-6ef3e35b09e8 .dot.negative{fill:transparent}#chart-02c35355-529f-45aa-ab62-6ef3e35b09e8 text,#chart-02c35355-529f-45aa-ab62-6ef3e35b09e8 tspan{stroke:none !important}#chart-02c35355-529f-45aa-ab62-6ef3e35b09e8 .series text.active{opacity:1}#chart-02c35355-529f-45aa-ab62-6ef3e35b09e8 .tooltip rect{fill-opacity:.95;stroke-width:.5}#chart-02c35355-529f-45aa-ab62-6ef3e35b09e8 .tooltip text{fill-opacity:1}#chart-02c35355-529f-45aa-ab62-6ef3e35b09e8 .showable{visibility:hidden}#chart-02c35355-529f-45aa-ab62-6ef3e35b09e8 .showable.shown{visibility:visible}#chart-02c35355-529f-45aa-ab62-6ef3e35b09e8 .gauge-background{fill:rgba(229,229,229,1);stroke:none}#chart-02c35355-529f-45aa-ab62-6ef3e35b09e8 .bg-lines{stroke:rgba(249,249,249,1);stroke-width:2px}</style><script type=\"text/javascript\">window.pygal = window.pygal || {};window.pygal.config = window.pygal.config || {};window.pygal.config['02c35355-529f-45aa-ab62-6ef3e35b09e8'] = {\"allow_interruptions\": false, \"box_mode\": \"extremes\", \"classes\": [\"pygal-chart\"], \"css\": [\"file://style.css\", \"file://graph.css\"], \"defs\": [], \"disable_xml_declaration\": true, \"dots_size\": 2.5, \"dynamic_print_values\": false, \"explicit_size\": false, \"fill\": false, \"force_uri_protocol\": \"https\", \"formatter\": null, \"half_pie\": false, \"height\": 600, \"include_x_axis\": false, \"inner_radius\": 0, \"interpolate\": null, \"interpolation_parameters\": {}, \"interpolation_precision\": 250, \"inverse_y_axis\": false, \"js\": [\"//kozea.github.io/pygal.js/2.0.x/pygal-tooltips.min.js\"], \"legend_at_bottom\": false, \"legend_at_bottom_columns\": null, \"legend_box_size\": 12, \"logarithmic\": false, \"margin\": 20, \"margin_bottom\": null, \"margin_left\": null, \"margin_right\": null, \"margin_top\": null, \"max_scale\": 16, \"min_scale\": 4, \"missing_value_fill_truncation\": \"x\", \"no_data_text\": \"No data\", \"no_prefix\": false, \"order_min\": null, \"pretty_print\": false, \"print_labels\": false, \"print_values\": false, \"print_values_position\": \"center\", \"print_zeroes\": true, \"range\": null, \"rounded_bars\": null, \"secondary_range\": null, \"show_dots\": true, \"show_legend\": true, \"show_minor_x_labels\": true, \"show_minor_y_labels\": true, \"show_only_major_dots\": false, \"show_x_guides\": false, \"show_x_labels\": true, \"show_y_guides\": true, \"show_y_labels\": true, \"spacing\": 10, \"stack_from_top\": false, \"strict\": false, \"stroke\": true, \"stroke_style\": null, \"style\": {\"background\": \"rgba(249, 249, 249, 1)\", \"ci_colors\": [], \"colors\": [\"#F44336\", \"#3F51B5\", \"#009688\", \"#FFC107\", \"#FF5722\", \"#9C27B0\", \"#03A9F4\", \"#8BC34A\", \"#FF9800\", \"#E91E63\", \"#2196F3\", \"#4CAF50\", \"#FFEB3B\", \"#673AB7\", \"#00BCD4\", \"#CDDC39\", \"#9E9E9E\", \"#607D8B\"], \"font_family\": \"Consolas, \\\"Liberation Mono\\\", Menlo, Courier, monospace\", \"foreground\": \"rgba(0, 0, 0, .87)\", \"foreground_strong\": \"rgba(0, 0, 0, 1)\", \"foreground_subtle\": \"rgba(0, 0, 0, .54)\", \"guide_stroke_dasharray\": \"4,4\", \"label_font_family\": \"Consolas, \\\"Liberation Mono\\\", Menlo, Courier, monospace\", \"label_font_size\": 10, \"legend_font_family\": \"Consolas, \\\"Liberation Mono\\\", Menlo, Courier, monospace\", \"legend_font_size\": 14, \"major_guide_stroke_dasharray\": \"6,6\", \"major_label_font_family\": \"Consolas, \\\"Liberation Mono\\\", Menlo, Courier, monospace\", \"major_label_font_size\": 10, \"no_data_font_family\": \"Consolas, \\\"Liberation Mono\\\", Menlo, Courier, monospace\", \"no_data_font_size\": 64, \"opacity\": \".7\", \"opacity_hover\": \".8\", \"plot_background\": \"rgba(255, 255, 255, 1)\", \"stroke_opacity\": \".8\", \"stroke_opacity_hover\": \".9\", \"title_font_family\": \"Consolas, \\\"Liberation Mono\\\", Menlo, Courier, monospace\", \"title_font_size\": 16, \"tooltip_font_family\": \"Consolas, \\\"Liberation Mono\\\", Menlo, Courier, monospace\", \"tooltip_font_size\": 14, \"transition\": \"150ms\", \"value_background\": \"rgba(229, 229, 229, 1)\", \"value_colors\": [], \"value_font_family\": \"Consolas, \\\"Liberation Mono\\\", Menlo, Courier, monospace\", \"value_font_size\": 16, \"value_label_font_family\": \"Consolas, \\\"Liberation Mono\\\", Menlo, Courier, monospace\", \"value_label_font_size\": 10}, \"title\": null, \"tooltip_border_radius\": 0, \"tooltip_fancy_mode\": true, \"truncate_label\": null, \"truncate_legend\": null, \"width\": 800, \"x_label_rotation\": 0, \"x_labels\": null, \"x_labels_major\": null, \"x_labels_major_count\": null, \"x_labels_major_every\": null, \"x_title\": null, \"xrange\": null, \"y_label_rotation\": 0, \"y_labels\": null, \"y_labels_major\": null, \"y_labels_major_count\": null, \"y_labels_major_every\": null, \"y_title\": null, \"zero\": 0, \"legends\": [\"Python\"]}</script><script type=\"text/javascript\" xlink:href=\"https://kozea.github.io/pygal.js/2.0.x/pygal-tooltips.min.js\"/></defs><title>Pygal</title><g class=\"graph line-graph vertical\"><rect class=\"background\" height=\"600\" width=\"800\" x=\"0\" y=\"0\"/><g class=\"plot\" transform=\"translate(126, 20)\"><rect class=\"background\" height=\"560\" width=\"653.6\" x=\"0\" y=\"0\"/><g class=\"axis y always_show\"><path class=\"line\" d=\"M0.000000 560.000000 h653.600000\"/><g class=\"guides\"><path class=\"guide line\" d=\"M0.000000 549.230769 h653.600000\"/><text class=\"\" x=\"-5\" y=\"552.7307692307693\">0.04</text><title>0.04</title></g><g class=\"guides\"><path class=\"major guide line\" d=\"M0.000000 459.487179 h653.600000\"/><text class=\"major\" x=\"-5\" y=\"462.9871794871795\">0.05</text><title>0.05</title></g><g class=\"guides\"><path class=\"guide line\" d=\"M0.000000 369.743590 h653.600000\"/><text class=\"\" x=\"-5\" y=\"373.24358974358984\">0.06</text><title>0.06</title></g><g class=\"guides\"><path class=\"guide line\" d=\"M0.000000 280.000000 h653.600000\"/><text class=\"\" x=\"-5\" y=\"283.50000000000006\">0.07</text><title>0.07</title></g><g class=\"guides\"><path class=\"guide line\" d=\"M0.000000 190.256410 h653.600000\"/><text class=\"\" x=\"-5\" y=\"193.75641025641033\">0.08</text><title>0.08</title></g><g class=\"guides\"><path class=\"guide line\" d=\"M0.000000 100.512821 h653.600000\"/><text class=\"\" x=\"-5\" y=\"104.01282051282067\">0.09</text><title>0.09</title></g><g class=\"guides\"><path class=\"major guide line\" d=\"M0.000000 10.769231 h653.600000\"/><text class=\"major\" x=\"-5\" y=\"14.26923076923083\">0.1</text><title>0.1</title></g></g><g class=\"series serie-0 color-0\"><path class=\"line reactive nofill\" d=\"M12.569231 549.230769 L117.312821 504.358974 222.056410 459.487179 326.800000 369.743590 431.543590 235.128205 536.287179 100.512821 641.030769 10.769231\"/></g></g><g class=\"titles\"/><g class=\"plot overlay\" transform=\"translate(126, 20)\"><g class=\"series serie-0 color-0\"><g class=\"dots\"><circle class=\"dot reactive tooltip-trigger\" cx=\"12.569230769230769\" cy=\"549.2307692307693\" r=\"2.5\"/><desc class=\"value\">0.04</desc><desc class=\"x top\">12.569230769230769</desc><desc class=\"y top\">549.2307692307693</desc></g><g class=\"dots\"><circle class=\"dot reactive tooltip-trigger\" cx=\"117.31282051282051\" cy=\"504.35897435897436\" r=\"2.5\"/><desc class=\"value\">0.045</desc><desc class=\"x top\">117.31282051282051</desc><desc class=\"y top\">504.35897435897436</desc></g><g class=\"dots\"><circle class=\"dot reactive tooltip-trigger\" cx=\"222.05641025641026\" cy=\"459.4871794871795\" r=\"2.5\"/><desc class=\"value\">0.05</desc><desc class=\"x top\">222.05641025641026</desc><desc class=\"y top\">459.4871794871795</desc></g><g class=\"dots\"><circle class=\"dot reactive tooltip-trigger\" cx=\"326.8\" cy=\"369.74358974358984\" r=\"2.5\"/><desc class=\"value\">0.06</desc><desc class=\"x top\">326.8</desc><desc class=\"y top\">369.74358974358984</desc></g><g class=\"dots\"><circle class=\"dot reactive tooltip-trigger\" cx=\"431.54358974358973\" cy=\"235.1282051282052\" r=\"2.5\"/><desc class=\"value\">0.075</desc><desc class=\"x left\">431.54358974358973</desc><desc class=\"y left\">235.1282051282052</desc></g><g class=\"dots\"><circle class=\"dot reactive tooltip-trigger\" cx=\"536.2871794871795\" cy=\"100.51282051282067\" r=\"2.5\"/><desc class=\"value\">0.09</desc><desc class=\"x left\">536.2871794871795</desc><desc class=\"y left\">100.51282051282067</desc></g><g class=\"dots\"><circle class=\"dot reactive tooltip-trigger\" cx=\"641.0307692307692\" cy=\"10.76923076923083\" r=\"2.5\"/><desc class=\"value\">0.1</desc><desc class=\"x left\">641.0307692307692</desc><desc class=\"y left\">10.76923076923083</desc></g></g></g><g class=\"plot text-overlay\" transform=\"translate(126, 20)\"><g class=\"series serie-0 color-0\"/></g><g class=\"plot tooltip-overlay\" transform=\"translate(126, 20)\"><g class=\"tooltip\" style=\"opacity: 0\" transform=\"translate(0 0)\"><rect class=\"tooltip-box\" height=\"0\" rx=\"0\" ry=\"0\" width=\"0\"/><g class=\"text\"/></g></g><g class=\"legends\" transform=\"translate(10, 30)\"><g class=\"legend reactive activate-serie\" id=\"activate-serie-0\"><rect class=\"color-0 reactive\" height=\"12\" width=\"12\" x=\"0.0\" y=\"1.0\"/><text x=\"17.0\" y=\"11.2\">Python</text></g></g><g class=\"legends\" transform=\"translate(790, 30)\"/></g></svg>"
      ],
      "text/plain": [
       "<pygal.graph.line.Line at 0x105ed2668>"
      ]
     },
     "execution_count": 5,
     "metadata": {},
     "output_type": "execute_result"
    }
   ],
   "source": [
    "import pygal\n",
    "line_chart = pygal.Line()\n",
    "line_chart.add('Python',  [0.040, 0.045, 0.050, 0.060, 0.075, 0.09, 0.10])\n",
    "#因为在结尾没有\n",
    "#line_chart.render()\n",
    "#所以屏幕上不会有数据图展示"
   ]
  },
  {
   "cell_type": "code",
   "execution_count": 6,
   "metadata": {},
   "outputs": [],
   "source": [
    "import pygal\n",
    "line_chart = pygal.Line()\n",
    "line_chart.title = \"Stack Overflow 各类编程语言提问占比\"\n",
    "line_chart.x_labels = map(str, range(2012, 2019))\n",
    "#第四行代码在线图横坐标上添加自 2012至2018，7个数值数据。"
   ]
  },
  {
   "cell_type": "code",
   "execution_count": 7,
   "metadata": {},
   "outputs": [],
   "source": [
    "import pygal\n",
    "line_chart = pygal.Line()\n",
    "line_chart.title = \"Stack Overflow 各类编程语言提问占比\"\n",
    "line_chart.x_labels = map(str, range(2012, 2019))\n",
    "line_chart.add('Java',[0.09, 0.095, 0.10, 0.102, 0.105, 0.105, 0.095 ])\n",
    "line_chart.add('Javascript',[0.08, 0.085, 0.09, 0.09, 0.09, 0.09,0.095])\n",
    "line_chart.render_to_file(r'/Users/XUMIAO/Desktop/line8.svg')\n",
    "# 将第二行代码改为：\n",
    "# line_chart = pygal.StackedLine()\n",
    "# 可以将线图改为堆叠线图"
   ]
  },
  {
   "cell_type": "code",
   "execution_count": 9,
   "metadata": {},
   "outputs": [],
   "source": [
    "\"\"\"\n",
    "泰坦尼克号的行进路线如下，见图：\n",
    "\n",
    "乘客可以分别从 Queenstown，Chersbourg 或者 Southampton 登船。\n",
    "\n",
    "那么，不同的登船点对是否能在这场灾难中幸存有多少影响呢？\n",
    "\n",
    "我们来通过创作图表获得启发。\n",
    "\n",
    "请按照要求，补全注释行… 处代码\n",
    "\"\"\"\n",
    "import pygal\n",
    "line_chart = pygal.Line()\n",
    "# 请为图表添加标题：泰坦尼克号不同上船点乘客幸存数据\n",
    "line_chart.title = \"泰坦尼克号不同上船点乘客幸存数据\"\n",
    "#将横坐标标记为依次登船点：\"Queenstown\",\"Cherbourg\",\"Southampton\"\n",
    "line_chart.x_labels = map(str, [\"Queenstown\",\"Cherbourg\",\"Southampton\"])\n",
    "line_chart.add('幸存者',[30, 93, 217])\n",
    "#添加 \"遇难者\" 的数据线：人数依次为 [47, 75, 427]\n",
    "line_chart.add('遇难者', [47, 75, 427])\n",
    "line_chart.render_to_file(r'/Users/XUMIAO/Desktop/line9.svg')"
   ]
  },
  {
   "cell_type": "code",
   "execution_count": 10,
   "metadata": {},
   "outputs": [],
   "source": [
    "# 12.6 数据分析入门（6）"
   ]
  },
  {
   "cell_type": "code",
   "execution_count": 11,
   "metadata": {},
   "outputs": [
    {
     "name": "stdout",
     "output_type": "stream",
     "text": [
      "[14.0, -16.0, 10.0, -34.0, 2.0, 19.0, -4.0, -16.0, 12.0, 13.0]\n",
      "[13.2, -19.8, 6.199999999999999, -26.8, 3.1999999999999993, 14.2, 3.1999999999999993, -11.8, 10.2, 8.2]\n",
      "2156.0\n"
     ]
    }
   ],
   "source": [
    "\"\"\"\n",
    "相关关系 I：“抽烟有害健康”这句话相信大家都听过，这句话还可以换种说法，比如“烟抽的越多，健康水平越低”；或者说“一个人的抽烟量与健康水平呈负相关。”在今天的课程中，我们学习如何用 Python 计算两个变量之间的相关关系。在此之前，我们先了解一个前提概念——协方差。之前我们学习过方差，它体现了一个变量的波动情况。而协方差体现的是两个变量的总体波动情况。为什么知道它对于我们计算相关关系那么重要呢？举刚才的例子，帮助大家理解：如果我们想观测一个样本人群中，抽烟量是否和健康水平有相关关系，我们既要看抽烟量的波动情况，也要看相应健康水平波动情况。如果在抽烟量大幅波动的情况下，样本人群普遍反映出来的健康水平都“纹丝不动”，那么我们可以认为两者之间相关度非常低，相关系数接近于0；如果在抽烟量大幅增长的情况下，健康水平大幅下降，并且在抽烟量大幅下降的时候，健康水平大幅增长，——两者此消彼长，我们可以推测它们之间存在很强的负相关关系。\n",
    "\n",
    "总之，当我们在研究两个变量之间的相关关系时，需要考虑到两者共同的波动情况，也就是我们所说的协方差。接下来，我们来看在 python 中如何计算协方差。计算协方差分为两步，在本页我们先实现第一步：\n",
    "\"\"\"\n",
    "scores = [90,60,86,42,78,95,72,60,88,89]\n",
    "time = [45,12,38,5,35,46,35,20,42,40]\n",
    "#上方示例中，scores 和 time 分别存储了学生的得分和学习时长数据，我们需要计算它俩之间的协方差。\n",
    "\n",
    "def de_mean(x):\n",
    "    x_bar = sum(x) / len(x)\n",
    "    return [x_i - x_bar for x_i in x]\n",
    "print(de_mean(scores))\n",
    "print(de_mean(time))\n",
    "# 以下为输出：\n",
    "[14.0, -16.0, 10.0, -34.0, 2.0, 19.0, -4.0, -16.0, 12.0, 13.0]\n",
    "[13.2, -19.8, 6.199999999999999, -26.8, 3.1999999999999993, 14.2, 3.1999999999999993, -11.8, 10.2, 8.2]\n",
    "#上方代码我们需要计算出 scores 和 time 各自元素减去各自均值的差。这一点类似之前学习方差时，我们也求得数据集中的元素与其均值的差。这个差值体现了各自数据的波动性，接着：\n",
    "\n",
    "def dot(v, w):\n",
    "    \"\"\"v_1 * w_1 + ... + v_n * w_n\"\"\"\n",
    "    dot_product = sum(v_i * w_i for v_i, w_i in zip(v, w))\n",
    "    return dot_product\n",
    "print(dot(de_mean(scores), de_mean(time)))\n",
    "# 输出：2156.0\n",
    "#我们要对 de_mean(scores) 和 de_mean(time) 做点乘运算，它的结果是两个数据集中，相同位置元素乘积之和。在此例中，我们计算的是 de_mean(scores) 和 de_mean(time) 之间一一元素的乘积之和 dot_product。顺便说一句，了解点乘运算对于未来在机器学习的学习中了解矩阵运算会非常有帮助。好了，到此为止，我们所得的结果类似方差运算时求得的平方差之和。区别在于此处体现的两个变量总体的波动情况，而方差体现的是单个变量的波动情况。\n",
    "\n",
    "#继续，我们会在下一页讲解中，实现求 scores 和 time 协方差的第二步。"
   ]
  },
  {
   "cell_type": "code",
   "execution_count": 12,
   "metadata": {},
   "outputs": [
    {
     "name": "stdout",
     "output_type": "stream",
     "text": [
      "393.6363636363636\n"
     ]
    }
   ],
   "source": [
    "# 编辑区中，order 中存放的是老王外卖的订单金额，dish_num 中存放的是对应每一单所点的菜的数量。\n",
    "\n",
    "# 请补全注释行… 处代码。\n",
    "order = [\n",
    "  27.0, 15.0, 19.0, 68.0, 32.0, \n",
    "  19.0, 19.0, 120.0, 20.0, 32.0, 12.0\n",
    "]\n",
    "dish_num = [2,1,1,3,2,1,1,5,1,2,1]\n",
    "\n",
    "def de_mean(x):\n",
    "    x_bar = sum(x) / len(x)\n",
    "    return [x_i - x_bar for x_i in x]\n",
    "\n",
    "def dot(v, w):\n",
    "    \"\"\"v_1 * w_1 + ... + v_n * w_n\"\"\"\n",
    "    return sum(v_i * w_i for v_i, w_i in zip(v, w))\n",
    "\n",
    "# dot_product 为  de_mean(order) 和 \n",
    "# de_mean(dish_num) 之间的点乘运算结果\n",
    "dot_product =  dot(de_mean(order),de_mean(dish_num))\n",
    "print(dot_product)"
   ]
  },
  {
   "cell_type": "code",
   "execution_count": 13,
   "metadata": {},
   "outputs": [
    {
     "name": "stdout",
     "output_type": "stream",
     "text": [
      "239.55555555555554\n"
     ]
    }
   ],
   "source": [
    "#相关关系 II：在刚才求得的 dot_product 基础之上，我们来计算两个变量之间的协方差，计算步骤类似方差计算：我们将任意一组数据集的长度赋给变量 n，接着用 dot_product 除以 n-1 就是两组变量的协方差。\n",
    "\n",
    "def cal_covariance(x, y):\n",
    "    n = len(x)\n",
    "    return dot(de_mean(x), de_mean(y)) / (n - 1)\n",
    "print(cal_covariance(scores,time))\n",
    "#  输出：239.55555555555554\n",
    "# 上方函数计算 scores 和 time 的协方差，输出结果为 239.55555555555554。\n",
    "\n",
    "# 下面，我们来通过练习进一步掌握协方差的计算。"
   ]
  },
  {
   "cell_type": "code",
   "execution_count": 14,
   "metadata": {},
   "outputs": [
    {
     "name": "stdout",
     "output_type": "stream",
     "text": [
      "order 和 dish_num 之间的协方差为39.36363636363636\n"
     ]
    }
   ],
   "source": [
    "# 请补全注释行… 处的代码，计算 order 与 dish_num 之间的协方差 covariance。\n",
    "order = [\n",
    "  27.0, 15.0, 19.0, 68.0, 32.0, \n",
    "  19.0, 19.0, 120.0, 20.0, 32.0, 12.0\n",
    "]\n",
    "dish_num = [2,1,1,3,2,1,1,5,1,2,1]\n",
    "\n",
    "def de_mean(x):\n",
    "    x_bar = sum(x) / len(x)\n",
    "    return [x_i - x_bar for x_i in x]\n",
    "\n",
    "def dot(v, w):\n",
    "    \"\"\"v_1 * w_1 + ... + v_n * w_n\"\"\"\n",
    "    return sum(v_i * w_i for v_i, w_i in zip(v, w))\n",
    "\n",
    "def cal_covariance(x, y):\n",
    "    n = len(x)\n",
    "    # 协方差为 dot(de_mean(x), de_mean(y))\n",
    "    # 除以 n - 1 的商\n",
    "    return dot(de_mean(x), de_mean(y)) / (n-1)\n",
    "\n",
    "covariance = cal_covariance(order,dish_num)\n",
    "print(\"order 和 dish_num 之间的协方差为{}\".format(covariance))"
   ]
  },
  {
   "cell_type": "code",
   "execution_count": 15,
   "metadata": {},
   "outputs": [
    {
     "name": "stdout",
     "output_type": "stream",
     "text": [
      "0.9704336750815481\n"
     ]
    }
   ],
   "source": [
    "#相关关系 III：我们用相关系数来体现两个变量之间相关关系的强弱。相关系数的范围在 -1 和 1 之间。负数代表负相关，正数代表正相关。如果相关系数在 -0.1 到 0.1 之间，一般说明两个变量之间相关性较弱。下面，我们在得到两个变量协方差的基础之上，来计算它们之间的相关系数：\n",
    "\n",
    "# scores 的标准差\n",
    "stdev_scores = 17.19\n",
    "# time 的标准差\n",
    "stdev_time = 14.36\n",
    "# scores 与 time 的协方差为 239.55\n",
    "covariance = 239.55\n",
    "def correlation(covariance, stdev_x, stdev_y):\n",
    "    if stdev_x > 0 and stdev_y > 0:\n",
    "        return covariance / stdev_x / stdev_y\n",
    "    else:\n",
    "        return 0 # 如果某个变量标准差为0，两个变量的相关系数也为0\n",
    "print(correlation(covariance, stdev_scores, stdev_time))\n",
    "# 输出：0.9704561810226663\n",
    "# scores 和 time 之间的相关系数约为 0.97，相当高！\n",
    "#上方示例中，我们发现，只需要两组数据各自的标准差，以及它们之间的协方差，就可以求得两者之间的相关系数。需要注意的是，我们需要判断任意一组数据的标准差是否为0，标准差为0意味着数据的波动水平为0。这代表着无论另外一组数据如何波动，前者都不会产生相应的波动，因此它们之间的相关系数为0。"
   ]
  },
  {
   "cell_type": "code",
   "execution_count": 16,
   "metadata": {},
   "outputs": [
    {
     "name": "stdout",
     "output_type": "stream",
     "text": [
      "0.9803237858032379\n"
     ]
    }
   ],
   "source": [
    "#在知道 order 和 dish_num 各自标准差和它们之间协方差的基础上，我们来计算两个变量之间的相关系数。\n",
    "# order 的标准差\n",
    "stdev_order = 32.12\n",
    "# dish_num 的标准差\n",
    "stdev_dish_num = 1.25\n",
    "# order 与 dish_num 的协方差\n",
    "covariance = 39.36\n",
    "def correlation(covariance, stdev_x, stdev_y):\n",
    "    if stdev_x > 0 and stdev_y > 0:\n",
    "        # 相关系数 = 协方差 / x的标准差 / y的标准差\n",
    "        return covariance/stdev_x/stdev_y\n",
    "    else:\n",
    "        return 0 # 如果某个变量标准差为0，两个变量的相关系数也为0\n",
    "print(correlation(covariance, stdev_order, stdev_dish_num))"
   ]
  },
  {
   "cell_type": "code",
   "execution_count": 17,
   "metadata": {},
   "outputs": [
    {
     "name": "stdout",
     "output_type": "stream",
     "text": [
      "[-4.5, -3.5, -2.5, -1.5, -0.5, 0.5, 1.5, 2.5, 3.5, 4.5]\n"
     ]
    }
   ],
   "source": [
    "numbers = [1,2,3,4,5,6,7,8,9,10]\n",
    "def de_mean(x):\n",
    "    x_bar = sum(x) / len(x)\n",
    "    return [x_i - x_bar for x_i in x]\n",
    "print(de_mean(numbers))\n",
    "#代码返回的是一个新列表：新列表中每个元素是旧列表中每个元素与旧列表均值的差"
   ]
  },
  {
   "cell_type": "code",
   "execution_count": 18,
   "metadata": {},
   "outputs": [
    {
     "name": "stdout",
     "output_type": "stream",
     "text": [
      "2\n"
     ]
    }
   ],
   "source": [
    "num_1 = [1,1,1,1,1]\n",
    "num_2 = [0,1,0,1,0]\n",
    "def dot(v, w):\n",
    "    \"\"\"v_1 * w_1 + ... + v_n * w_n\"\"\"\n",
    "    return sum(v_i * w_i for v_i, w_i in zip(v, w))\n",
    "print(dot(num_1,num_2))\n",
    "#代码的运行结果是 num_1 与 num_2 的点乘计算结果：num_1 与 num_2 同位置的元素积之和"
   ]
  },
  {
   "cell_type": "code",
   "execution_count": 19,
   "metadata": {},
   "outputs": [],
   "source": [
    "# 变量 x，y 之间的相关系数为：\n",
    "\n",
    "# / 代表除号；* 代表乘号； x的标准差和 y的标准差均大于0。\n",
    "\n",
    "# 当 x与y变量的标准差都大于0时，x与y之间的相关系数 = x与y的协方差 / x 的标准差 / y的标准差"
   ]
  },
  {
   "cell_type": "code",
   "execution_count": 20,
   "metadata": {},
   "outputs": [
    {
     "name": "stdout",
     "output_type": "stream",
     "text": [
      "样本乘客数据中\n",
      "票价与年龄的相关系数为：\n",
      "-0.05710014540497912\n"
     ]
    }
   ],
   "source": [
    "\"\"\"\n",
    "在泰坦尼克号的乘客数据中，乘客的年龄和他们购买的票价之间存在多大的相关系数？\n",
    "\n",
    "td_sample_fare 和 td_sample_age 分别存放了 50 个泰坦尼克号乘客的票价与年龄数据。它们之中的元素是一一对应的位置关系。为了方便计算，我们提供了两组变量各自的标准差：stdev_fare 和 stdev_age。请补全注释行… 处代码，计算 td_sample_fare 和 td_sample_age 之间的相关系数。\n",
    "\n",
    "有兴趣的同学也可以自行计算 td_sample_fare 和 td_sample_age 各自的标准差，分别赋给变量 stdev_fare 和 stdev_age。\n",
    "\"\"\"\n",
    "td_sample_fare = [\n",
    "  49.5, 57.0, 16.7, 134.5, 52.0, \n",
    "  26.55, 151.55, 78.85, 52.55, 12.47, \n",
    "  153.46, 227.53, 113.28, 30.0, 53.1, \n",
    "  26.55, 50.5, 8.05, 25.93, 83.16, \n",
    "  86.5, 110.88, 53.1, 247.52, 13.0, \n",
    "  52.0, 110.88, 40.12, 53.1, 75.25, \n",
    "  25.93, 10.5, 76.73, 39.6, 120.0, \n",
    "  52.0, 12.47, 93.5, 52.55, 39.4, \n",
    "  135.63, 77.29, 71.0, 76.73, 120.0, \n",
    "  151.55, 153.46, 90.0, 90.0, 77.96\n",
    "  ]\n",
    "td_sample_age = [\n",
    "  22.0, 17.0, 24.0, 40.0, 48.0, \n",
    "  45.0, 25.0, 36.0, 47.0, 6.0, \n",
    "  40.0, 18.0, 23.0, 19.0, 19.0, \n",
    "  28.0, 31.0, 32.0, 48.0, 56.0, \n",
    "  33.0, 49.0, 35.0, 50.0, 32.5, \n",
    "  47.0, 17.0, 36.0, 37.0, 60.0, \n",
    "  49.0, 57.0, 49.0, 48.0, 11.0, \n",
    "  31.0, 27.0, 30.0, 37.0, 16.0, \n",
    "  36.0, 21.0, 70.0, 27.0, 36.0, \n",
    "  2.0, 38.0, 38.0, 44.0, 63.0\n",
    "  ]\n",
    "stdev_fare = 53.05\n",
    "stdev_age = 14.80\n",
    "\n",
    "def de_mean(x):\n",
    "    # x_bar 为 x的均值\n",
    "    x_bar = sum(x) / len (x)\n",
    "    return [x_i - x_bar for x_i in x]\n",
    "\n",
    "def dot(x,y):\n",
    "    # 函数 dot 返回 x，y变量的点乘运算结果\n",
    "    return sum(x_i * y_i for x_i, y_i in zip(x, y))\n",
    "\n",
    "def covariance(x, y):\n",
    "    n = len(x)\n",
    "    # 函数 covariance 返回 x，y变量的协方差\n",
    "    return dot(de_mean(x), de_mean(y)) / (n - 1)\n",
    "\n",
    "def correlation(x, y):\n",
    "    # 函数 correlation 返回 x，y变量的相关系数\n",
    "    return covariance(x, y) / stdev_fare / stdev_age\n",
    "\n",
    "print(\"样本乘客数据中\")\n",
    "print(\"票价与年龄的相关系数为：\")\n",
    "print(correlation(td_sample_fare, td_sample_age)) "
   ]
  },
  {
   "cell_type": "code",
   "execution_count": 21,
   "metadata": {},
   "outputs": [],
   "source": [
    "# 12.7 数据分析入门（7）"
   ]
  },
  {
   "cell_type": "code",
   "execution_count": 22,
   "metadata": {},
   "outputs": [
    {
     "data": {
      "text/plain": [
       "'\\n饼图：饼图是一个划分为几个扇形的圆形统计图表，用于描述量、频率或百分比之间的相对关系。在饼图中，每个扇区的弧长（以及圆心角和面积）大小为其所表示的数量的比例。这些扇区合在一起刚好是一个完全的圆形。在 pygal 中，我们用以下一行代码，告诉计算机此处要画的是饼图：\\n\\npie_chart = pygal.Pie()\\n我们进入练习环节，体验如何制作一张饼图。\\n'"
      ]
     },
     "execution_count": 22,
     "metadata": {},
     "output_type": "execute_result"
    }
   ],
   "source": [
    "\"\"\"\n",
    "饼图：饼图是一个划分为几个扇形的圆形统计图表，用于描述量、频率或百分比之间的相对关系。在饼图中，每个扇区的弧长（以及圆心角和面积）大小为其所表示的数量的比例。这些扇区合在一起刚好是一个完全的圆形。在 pygal 中，我们用以下一行代码，告诉计算机此处要画的是饼图：\n",
    "\n",
    "pie_chart = pygal.Pie()\n",
    "我们进入练习环节，体验如何制作一张饼图。\n",
    "\"\"\""
   ]
  },
  {
   "cell_type": "code",
   "execution_count": 29,
   "metadata": {},
   "outputs": [],
   "source": [
    "# 请按照要求，补全注释行… 处代码。\n",
    "import pygal\n",
    "# 请补全下方代码，令计算机生成饼图\n",
    "pie_chart = pygal.Pie()\n",
    "pie_chart.title = '浏览器使用比例（%）（2012）'\n",
    "pie_chart.add('IE', 19.5)\n",
    "pie_chart.add('Firefox', 36.6)\n",
    "pie_chart.add('Chrome', 36.3)\n",
    "pie_chart.add('Safari', 4.5)\n",
    "pie_chart.add('Opera', 2.3)\n",
    "pie_chart.render_to_file(r'/Users/XUMIAO/Desktop/line10.svg')"
   ]
  },
  {
   "cell_type": "code",
   "execution_count": 30,
   "metadata": {},
   "outputs": [
    {
     "data": {
      "text/plain": [
       "'\\n柱状图：柱状图是一种以长方形的长度为变量的统计图表。在横坐标同一个数值上，可以有多个长方形来体现多个数据项目的数值。在 pygal 中，我们用一行代码来实现柱状图：\\n\\nbar_chart = pygal.Bar()\\n有时，当我们缺失某个数据项目的若干数值时，我们可以用关键字 None 来顶替缺失数值的位置。\\n'"
      ]
     },
     "execution_count": 30,
     "metadata": {},
     "output_type": "execute_result"
    }
   ],
   "source": [
    "\"\"\"\n",
    "柱状图：柱状图是一种以长方形的长度为变量的统计图表。在横坐标同一个数值上，可以有多个长方形来体现多个数据项目的数值。在 pygal 中，我们用一行代码来实现柱状图：\n",
    "\n",
    "bar_chart = pygal.Bar()\n",
    "有时，当我们缺失某个数据项目的若干数值时，我们可以用关键字 None 来顶替缺失数值的位置。\n",
    "\"\"\""
   ]
  },
  {
   "cell_type": "code",
   "execution_count": 31,
   "metadata": {},
   "outputs": [],
   "source": [
    "# 编辑区代码中的 … 代表缺失的数据，请用正确的关键字将其逐一替换。\n",
    "import pygal\n",
    "bar_chart = pygal.Bar()\n",
    "bar_chart.title = '浏览器使用趋势 (%)'\n",
    "bar_chart.x_labels = map(str, range(2002, 2013))\n",
    "bar_chart.add('Firefox', [None, None, 0, 16.6,   25,   31, 36.4, 45.5, 46.3, 42.8, 37.1])\n",
    "bar_chart.add('Chrome',  [None, None, None, None, None, None,    0,  3.9, 10.8, 23.8, 35.3])\n",
    "bar_chart.add('IE',      [85.8, 84.6, 84.7, 74.5,   66, 58.6, 54.7, 44.8, 36.2, 26.6, 20.1])\n",
    "bar_chart.add('Others',  [14.2, 15.4, 15.3,  8.9,    9, 10.4,  8.9,  5.8,  6.7,  6.8,  7.5])\n",
    "bar_chart.render_to_file(r'/Users/XUMIAO/Desktop/line11.svg')"
   ]
  },
  {
   "cell_type": "code",
   "execution_count": 26,
   "metadata": {},
   "outputs": [
    {
     "data": {
      "text/plain": [
       "'\\n雷达图：雷达图是一种展示多维度数据的平面图，其中的维度数量一般为三个或以上。在 pygal 中，我们可以通过以下一行代码告诉计算机我们想画的是雷达图：\\n\\nradar_chart = pygal.Radar()\\n和在条形图的横坐标上做标记一样，我们可以用 .x_labels 属性来标记雷达图的各个维度。\\n\\n具体的操作，我们在接下来的练习中体会。\\n'"
      ]
     },
     "execution_count": 26,
     "metadata": {},
     "output_type": "execute_result"
    }
   ],
   "source": [
    "\"\"\"\n",
    "雷达图：雷达图是一种展示多维度数据的平面图，其中的维度数量一般为三个或以上。在 pygal 中，我们可以通过以下一行代码告诉计算机我们想画的是雷达图：\n",
    "\n",
    "radar_chart = pygal.Radar()\n",
    "和在条形图的横坐标上做标记一样，我们可以用 .x_labels 属性来标记雷达图的各个维度。\n",
    "\n",
    "具体的操作，我们在接下来的练习中体会。\n",
    "\"\"\""
   ]
  },
  {
   "cell_type": "code",
   "execution_count": 32,
   "metadata": {},
   "outputs": [],
   "source": [
    "# 请按照要求，补全注释行…处代码。\n",
    "import pygal\n",
    "# 令 radar_chart 为雷达图\n",
    "radar_chart = pygal.Radar()\n",
    "radar_chart.title = '餐厅评分数据'\n",
    "# 令雷达图的维度依次为：'味道', '卫生', '服务', '价格', '环境'\n",
    "radar_chart.x_labels = '味道', '卫生', '服务', '价格', '环境'\n",
    "radar_chart.add('老王炸鸡', [9, 6, 6, 4, 7])\n",
    "radar_chart.add('小明快餐', [7, 8, 9, 6, 8])\n",
    "radar_chart.add('阿强烧烤', [10, 4, 6, 8, 4])\n",
    "radar_chart.add('萌仔汉堡', [7, 6, 5, 4, 6])\n",
    "radar_chart.render_to_file(r'/Users/XUMIAO/Desktop/line12.svg')"
   ]
  },
  {
   "cell_type": "code",
   "execution_count": 33,
   "metadata": {},
   "outputs": [],
   "source": [
    "import pygal\n",
    "chart = pygal.Bar()"
   ]
  },
  {
   "cell_type": "code",
   "execution_count": 34,
   "metadata": {},
   "outputs": [],
   "source": [
    "#雷达图中的维度一般不少于3个\n",
    "#在制作柱状图时，如果有若干数据缺失，关键字 None 可以替代缺失的数据"
   ]
  },
  {
   "cell_type": "code",
   "execution_count": 35,
   "metadata": {},
   "outputs": [],
   "source": [
    "\"\"\"\n",
    "在泰坦尼克号上不同等级船舱的乘客是否会有不同的命运？\n",
    "\n",
    "我们来通过图表获得启发。\n",
    "\n",
    "请按照要求补全注释行… 处代码。\n",
    "\"\"\"\n",
    "import pygal\n",
    "# 将bar_chart 定为柱状图\n",
    "bar_chart = pygal.Bar()\n",
    "# bar_chart 的标题为：泰坦尼克号乘客所在船舱统计\n",
    "bar_chart.title = '泰坦尼克号乘客所在船舱统计'\n",
    "# bar_chart 横坐标依次为：\"一等舱\",\"二等舱\",\"三等舱\"\n",
    "bar_chart.x_labels = map(str, [\"一等舱\",\"二等舱\",\"三等舱\"])\n",
    "bar_chart.add('幸存者', [136,87,119])\n",
    "bar_chart.add('遇难者', [80,97,372])\n",
    "bar_chart.render_to_file(r'/Users/XUMIAO/Desktop/line13.svg')"
   ]
  },
  {
   "cell_type": "code",
   "execution_count": 36,
   "metadata": {},
   "outputs": [],
   "source": [
    "# 13.1 函数进阶（1）"
   ]
  },
  {
   "cell_type": "code",
   "execution_count": 37,
   "metadata": {},
   "outputs": [
    {
     "name": "stdout",
     "output_type": "stream",
     "text": [
      "你好，函数！\n"
     ]
    }
   ],
   "source": [
    "#形式参数与实际参数：在学习函数时，我们了解到函数有一个组成部分叫做参数。参数有两种，一种叫形式参数（parameter）；另一种叫实际参数（argument）。前者是创建函数时的变量，写在函数与 def 一行的括号里，而后者是在调用函数时的变量。\n",
    "\n",
    "def write_something(parameter):\n",
    "    print(parameter)\n",
    "argument = \"你好，函数！\"\n",
    "write_something(argument)\n",
    "# 输出：你好，函数！\n",
    "#在上方示例中，第一行括号中的 parameter 是形式参数，它在创建函数时一并建立；最后一行 write_something(argument) 是在调用函数 write_something，其中的 argument 是实际参数，它的值在第二行被赋予为 \"你好，函数！\"。\n",
    "\n",
    "#因此程序的运行结果为输出：你好，函数！"
   ]
  },
  {
   "cell_type": "code",
   "execution_count": 38,
   "metadata": {},
   "outputs": [
    {
     "name": "stdout",
     "output_type": "stream",
     "text": [
      "你好，小明。\n"
     ]
    }
   ],
   "source": [
    "#请在不改变其他代码的前提下，补全注释行 … 处代码，使程序可以正常运行。\n",
    "def say_hello(name):\n",
    "    print(\"你好，{}。\".format(name))\n",
    "your_name = \"小明\"\n",
    "say_hello(your_name)"
   ]
  },
  {
   "cell_type": "code",
   "execution_count": 39,
   "metadata": {},
   "outputs": [
    {
     "name": "stdout",
     "output_type": "stream",
     "text": [
      "请填写你的用户名\n"
     ]
    }
   ],
   "source": [
    "# None：当我们创建一个变量时，有时并不确定给予它什么样的赋值或数据类型，我们可以先将其赋值为 None。 None 具有 False 属性，这意味着当我们对其做条件判断时，程序会将 None 作为 False 值来处理。\n",
    "\n",
    "username = None\n",
    "\n",
    "if username:\n",
    "    print(\"你好，{}\".format(username))\n",
    "else:\n",
    "    print(\"请填写你的用户名\")\n",
    "\n",
    "# 输出：请填写你的用户名\n",
    "# 上方示例中，我们先为 username 赋值为 None，当条件判断时，如果 username 依然为 None，程序会输出 \"请填写你的用户名\"。"
   ]
  },
  {
   "cell_type": "code",
   "execution_count": 40,
   "metadata": {},
   "outputs": [
    {
     "name": "stdout",
     "output_type": "stream",
     "text": [
      "请填写你的密码\n"
     ]
    }
   ],
   "source": [
    "\"\"\"\n",
    "请补全注释行 … 处代码，满足：\n",
    "\n",
    "当 password 为 None 时，程序输出 \"请填写你的密码\"；当 password 不为 None 时，程序输出 \"正在验证你的用户名和密码，请稍等……\"。\n",
    "\"\"\"\n",
    "username = \"xiaoming\"\n",
    "password = None\n",
    "\n",
    "if password:\n",
    "    print(\"正在验证你的用户名和密码，请稍等……\")\n",
    "else:\n",
    "    print(\"请填写你的密码\")"
   ]
  },
  {
   "cell_type": "code",
   "execution_count": 41,
   "metadata": {},
   "outputs": [
    {
     "name": "stdout",
     "output_type": "stream",
     "text": [
      "1\n",
      "None\n"
     ]
    }
   ],
   "source": [
    "# 函数返回的默认值：return 是 Python 中的关键字，它之后代表函数的返回值。如果我们在创建一个函数时，return 之后为空，那么它会默认返回 None。\n",
    "\n",
    "def check_type(variable):\n",
    "    if type(variable) == str:\n",
    "        return variable\n",
    "    else:\n",
    "        return\n",
    "print(check_type(\"1\"))\n",
    "# 输出：\"1\"\n",
    "print(check_type(1))\n",
    "# 输出：None\n",
    "# 在上方示例中，函数 check_type 判断参数的数据类型是否为字符串，其中 else 条件内的 return 没有给予返回值，当程序满足 else 条件时，函数会默认返回 None。"
   ]
  },
  {
   "cell_type": "code",
   "execution_count": 42,
   "metadata": {},
   "outputs": [
    {
     "name": "stdout",
     "output_type": "stream",
     "text": [
      "None\n"
     ]
    }
   ],
   "source": [
    "# 请输出函数 no_return，观察运行结果。\n",
    "def no_return():\n",
    "    1+1\n",
    "    return\n",
    "print(no_return())"
   ]
  },
  {
   "cell_type": "code",
   "execution_count": 43,
   "metadata": {},
   "outputs": [
    {
     "name": "stdout",
     "output_type": "stream",
     "text": [
      "hello\n",
      "None\n"
     ]
    }
   ],
   "source": [
    "# 参数有两种，一种叫形式参数（parameter）；另一种叫实际参数（argument）。前者是创建函数时的变量，写在函数与 def 一行的括号里，而后者是在调用函数时的变量。\n",
    "if None:\n",
    "    print(\"什么都没有\")\n",
    "# None 具有 False 属性，当条件判断时，if None 条件不被满足。因此该程序不输出任何信息。\n",
    "def say_hello():\n",
    "    print(\"hello\")\n",
    "    return\n",
    "print(say_hello())\n",
    "# 函数先输出 hello，然后因为return之后没有对象，函数默认返回 None。"
   ]
  },
  {
   "cell_type": "code",
   "execution_count": 44,
   "metadata": {},
   "outputs": [
    {
     "name": "stdout",
     "output_type": "stream",
     "text": [
      "None\n"
     ]
    }
   ],
   "source": [
    "\"\"\"\n",
    "请用今天学到的知识，完成任务：\n",
    "\n",
    "写一段程序可以正常运行，且代码中含有三个 None，运行结果输出一个 None。\n",
    "\"\"\"\n",
    "if None:\n",
    "  print(None)\n",
    "else:\n",
    "  print(None)"
   ]
  },
  {
   "cell_type": "code",
   "execution_count": 45,
   "metadata": {},
   "outputs": [],
   "source": [
    "# 13.2 函数进阶（2）"
   ]
  },
  {
   "cell_type": "code",
   "execution_count": 46,
   "metadata": {},
   "outputs": [
    {
     "name": "stdout",
     "output_type": "stream",
     "text": [
      "欢迎老王\n",
      "访客请注册\n"
     ]
    }
   ],
   "source": [
    "# 设置参数默认值：在 Python 中，如果在创建函数时，形式参数的数量为 n 个，那么在调用函数时，实际参数的数量也要为 n 个。如果后者不足或者超出 n，计算机会报错 TypeError。为了避免这种情况发生，我们可以在创建函数时，为一些参数设置默认值，这样，在调用函数时，即使这些参数没有被赋值，计算机会用默认值为参数赋值。\n",
    "\n",
    "def login_in(user = None,is_admin = False):\n",
    "    if user is None:\n",
    "        user = \"访客\"\n",
    "        print(\"访客请注册\")\n",
    "    else:\n",
    "        print(\"欢迎{}\".format(user))\n",
    "user_1 = login_in(\"老王\")\n",
    "# 输出：欢迎老王\n",
    "user_2 = login_in()\n",
    "# 输出：访客请注册\n",
    "# 在上方示例中，函数 login_in 判断 user 是否为 None。如果是，程序输出 \"访客请注册\"，如果不是，程序输出 \"欢迎[user]\"，[user] 为 user 的赋值。在创建函数 login_in 时，形式参数 user 和 is_admin 的默认值分别为 None 和 False。在变量 user_1 调用函数 login_in 时，我们将参数 user 的值改为 \"老王\"，参数 is_admin 依然采用默认值 False；而在变量 user_2 调用函数 login_in 时，两个参数我们均采用默认值，程序依然可以正常运行。"
   ]
  },
  {
   "cell_type": "code",
   "execution_count": 47,
   "metadata": {},
   "outputs": [
    {
     "name": "stdout",
     "output_type": "stream",
     "text": [
      "出生在未知年\n",
      "出生在1989年\n"
     ]
    }
   ],
   "source": [
    "\"\"\"\n",
    "请补全注释行…处代码，满足：\n",
    "\n",
    "当调用函数 check_birth_year 时，未对参数赋值，函数返回：\"出生在未知年\" 。\n",
    "\"\"\"\n",
    "def check_birth_year(year = None):\n",
    "    if year is None:\n",
    "        year = \"未知\"\n",
    "    \n",
    "    return \"出生在{}年\".format(year)\n",
    "\n",
    "print(check_birth_year())\n",
    "print(check_birth_year(1989))"
   ]
  },
  {
   "cell_type": "code",
   "execution_count": 48,
   "metadata": {},
   "outputs": [
    {
     "name": "stdout",
     "output_type": "stream",
     "text": [
      "吃了么,老王\n",
      "你好,小明\n"
     ]
    }
   ],
   "source": [
    "#关键字参数和位置参数：在之前学习函数的时候，我们知道在调用函数时可以有两种赋值方式，一种是用关键字参数，另一种是用位置参数。我们具体来看两个例子复习一下：\n",
    "\n",
    "def say_hello(greeting, user):\n",
    "    print(\"{},{}\".format(greeting,user))\n",
    "say_hello(user = \"老王\", greeting = \"吃了么\") # 关键字参数\n",
    "say_hello(\"你好\",\"小明\") # 位置参数\n",
    "#上方例子中，第一次调用 say_hello 时，我们用的是关键字参数，此时，我们再给函数参数赋值时，不用考虑参数的位置；而第二次调用函数 say_hello 时，我们用的是位置参数，此时，我们不用将参数变量写在调用的函数里，只要让它们按照创建时的顺序排列即可。一般来说，当函数参数较多时（大于3个），我们建议用关键字参数，这样可以提高代码的可读性。"
   ]
  },
  {
   "cell_type": "code",
   "execution_count": 49,
   "metadata": {},
   "outputs": [
    {
     "name": "stdout",
     "output_type": "stream",
     "text": [
      "小明在教室学Python。\n",
      "老王在公园里背单词。\n"
     ]
    }
   ],
   "source": [
    "\"\"\"\n",
    "请调用函数 who_where_what，参数均为字符串，并满足要求：\n",
    "\n",
    "1.第一次用位置参数调用函数；\n",
    "\n",
    "2.第二次用关键字参数调用函数\n",
    "\"\"\"\n",
    "def who_where_what(people, place, action):\n",
    "    print(\"{}在{}{}。\".format(people, place, action))\n",
    "who_where_what(\"小明\",\"教室\",\"学Python\")\n",
    "who_where_what(place = \"公园里\", action = \"背单词\", people = \"老王\")"
   ]
  },
  {
   "cell_type": "code",
   "execution_count": 50,
   "metadata": {},
   "outputs": [
    {
     "name": "stdout",
     "output_type": "stream",
     "text": [
      "['今', '天', '天', '气', '不', '错']\n",
      "['今', '天', '天', '气', '不', '错', '今', '晚', '月', '色', '真', '美']\n"
     ]
    }
   ],
   "source": [
    "# 勿用可变性数据做默认参数：在之前学习字符串的时候，我们了解到字符串有不可变性，在 Python 中，除了字符串外，整数、浮点类数据也具有不可变性，当我们对它们进行运算操作时，运算结果是一个新的对象。相反，有的数据类型具有可变性。什么是可变性呢，意味着这类数据类型自身是可以被改变的。我们学习过的数据类型中，列表和字典都具有可变性，比如列表就有 .append() 和 .remove() 方法来添加或者移除其中的元素，从而改变自身。那么，为什么勿用可变性数据做默认参数呢？我们来看一个例子：\n",
    "\n",
    "def make_list(word_list=[],words=\"\"):\n",
    "    for word in words:\n",
    "        word_list.append(word)\n",
    "    return word_list\n",
    "print(make_list(words = \"今天天气不错\"))\n",
    "# 我们希望得到的运行结果是：\n",
    "# 输出：['今', '天', '天', '气', '不', '错']\n",
    "# 实际输出结果：['今', '天', '天', '气', '不', '错']\n",
    "# 我们继续调用函数 make_list\n",
    "print(make_list(words = \"今晚月色真美\"))\n",
    "# 我们希望得到的运行结果是：\n",
    "# 输出：['今', '晚', '月', '色', '真', '美']\n",
    "# 实际输出结果：['今', '天', '天', '气', '不', '错', '今', '晚', '月', '色', '真', '美']\n",
    "# 发生上述问题的原因在于列表具有可变性，当我们第二次调用函数 make_list 时，其中参数 word_list 的默认值并不是创建函数时的空列表，而是第一次调用函数后的运行结果：['今', '天', '天', '气', '不', '错']。这就造成第二次调用函数时，程序在 ['今', '天', '天', '气', '不', '错'] 的基础之上添加新的元素。因此，我们不建议用可变性数据做默认参数。"
   ]
  },
  {
   "cell_type": "code",
   "execution_count": 51,
   "metadata": {},
   "outputs": [
    {
     "name": "stdout",
     "output_type": "stream",
     "text": [
      "{'a': 'apple'}\n",
      "{'a': 'apple', 'b': 'banana'}\n"
     ]
    }
   ],
   "source": [
    "# 字典也是具有可变性的数据类型，我们按照要求，补全注释行… 处代码，观察运行结果。\n",
    "# 令下方参数 cap_letter 为空字典，words 为空字符串\n",
    "def first_letter(cap_letter = {}, words= ''):\n",
    "    cap_letter[words[0]] = words\n",
    "    return cap_letter\n",
    "print(first_letter(words = \"apple\"))\n",
    "print(first_letter(words = \"banana\"))"
   ]
  },
  {
   "cell_type": "code",
   "execution_count": 52,
   "metadata": {},
   "outputs": [
    {
     "data": {
      "text/plain": [
       "3"
      ]
     },
     "execution_count": 52,
     "metadata": {},
     "output_type": "execute_result"
    }
   ],
   "source": [
    "def count_parameter(para1, para2, para3):\n",
    "    return len([para1, para2, para3])\n",
    "count_parameter(\"1\",\"2\",\"3\")\n",
    "# 在 Python 中，如果在创建函数时，形式参数的数量为 n个，那么在调用函数时，实际参数的数量也要为 n个。如果后者不足或者超出 n，计算机会报错 TypeError。"
   ]
  },
  {
   "cell_type": "code",
   "execution_count": 53,
   "metadata": {},
   "outputs": [],
   "source": [
    "# 调用函数时可以使用位置参数或关键字参数，后者可以不考虑参数位置。\n",
    "# 在Python 中，列表和字典都是可变性数据类型。"
   ]
  },
  {
   "cell_type": "code",
   "execution_count": 54,
   "metadata": {},
   "outputs": [
    {
     "name": "stdout",
     "output_type": "stream",
     "text": [
      "xiaoming.zhang@shanbay.com\n",
      "aqiang.chen@learnpython.cn\n"
     ]
    }
   ],
   "source": [
    "# 公司入职了一批新人，我们需要自动为他们创建企业邮箱。企业邮箱遵循固定的格式，请参照要求，分别用位置参数与关键字参数调用函数 address_generator，为员工张小明和陈阿强创建邮箱。\n",
    "def address_generator(first_name,last_name,company,domain = \".cn\"):\n",
    "    email_address = \"{}.{}@{}{}\".format(first_name,last_name,company,domain)\n",
    "    return email_address\n",
    "email_xiaoming = address_generator(\"xiaoming\",\"zhang\",\"shanbay\",\".com\")\n",
    "email_aqiang = address_generator(company = \"learnpython\",last_name = \"chen\",first_name = \"aqiang\")\n",
    "print(email_xiaoming)\n",
    "print(email_aqiang)"
   ]
  },
  {
   "cell_type": "code",
   "execution_count": 55,
   "metadata": {},
   "outputs": [],
   "source": [
    "# 13.3 函数进阶（3）"
   ]
  },
  {
   "cell_type": "code",
   "execution_count": 56,
   "metadata": {},
   "outputs": [
    {
     "name": "stdout",
     "output_type": "stream",
     "text": [
      "['今', '天', '天', '气', '不', '错']\n",
      "['今', '晚', '月', '色', '真', '美']\n"
     ]
    }
   ],
   "source": [
    "# None 的作用：在上一节课的内容中，我们建议大家在设置函数参数默认值时避免使用具有可变性的数据类型，比如列表或者字典。那么如果遇到类似情况，我们有没有好的解决方案？当然，我们可以用之前学到的 None，来看下面一个例子：\n",
    "\n",
    "def make_list_2(word_list=None,words=\"\"):\n",
    "    if word_list is None:  # 如果调用函数时，没有给 word_list 赋值\n",
    "        word_list = []\n",
    "    for word in words:\n",
    "        word_list.append(word)\n",
    "    return word_list\n",
    "print(make_list_2(words = \"今天天气不错\"))\n",
    "# 输出：['今', '天', '天', '气', '不', '错']\n",
    "print(make_list_2(words = \"今晚月色真美\"))\n",
    "# 输出：['今', '晚', '月', '色', '真', '美']\n",
    "# 在上方例子中，我们第二次调用函数 make_list_2 的时候，函数参数 word_list 的值不受之前一次调用的影响。这是为什么呢？因为我们先将 word_list 的默认值设为 None，如果程序判断我们在调用函数时，没有给 word_list 赋值，函数会将其初始设置为空列表。因此，每次对函数的调用都不会受之前的影响。"
   ]
  },
  {
   "cell_type": "code",
   "execution_count": 57,
   "metadata": {},
   "outputs": [
    {
     "name": "stdout",
     "output_type": "stream",
     "text": [
      "{'a': 'apple'}\n",
      "{'b': 'banana'}\n"
     ]
    }
   ],
   "source": [
    "# 请参照讲解中对函数 make_list_2 参数的设置，改造编辑区代码，满足当调用函数 first_letter 时，先判断 cap_letter 是否为默认值 None，如果是，则将其赋值为空字典。\n",
    "def first_letter(cap_letter = None, words=\"\"):\n",
    "    if cap_letter is None:\n",
    "        cap_letter = {}\n",
    "    cap_letter[words[0]] = words\n",
    "    return cap_letter\n",
    "print(first_letter(words = \"apple\"))\n",
    "print(first_letter(words = \"banana\"))"
   ]
  },
  {
   "cell_type": "code",
   "execution_count": 58,
   "metadata": {},
   "outputs": [
    {
     "name": "stdout",
     "output_type": "stream",
     "text": [
      "('你好，小明', '再见，小明')\n",
      "你好，小明\n",
      "再见，小明\n",
      "你好，小明\n",
      "再见，小明\n"
     ]
    }
   ],
   "source": [
    "#多值返回与元组：我们在之前接触函数时，了解到函数可以返回多个值：\n",
    "\n",
    "def greeting(name):\n",
    "    say_hello = \"你好，\" +name\n",
    "    say_goodbye = \"再见，\" + name\n",
    "    return say_hello, say_goodbye\n",
    "result = greeting(\"小明\")\n",
    "print(result)\n",
    "\n",
    "# 输出：('你好，小明', '再见，小明')\n",
    "# 我们发现上例中输出的结果是一种我们没有见过的数据类型，它叫做元组（tuple）。在本套课程中，我们不对元组做详细地介绍，只需要知道它是一种和列表很类似的数据类型，我们可以用索引位置来访问其中的元素。比如：\n",
    "\n",
    "print(result[0])\n",
    "# 输出：你好，小明\n",
    "print(result[1])\n",
    "# 输出：再见，小明\n",
    "# 或者，我们也可以将元组中的元素分别赋值给不同的变量，接上面的例子：\n",
    "\n",
    "greeting_1, greeting_2 = result\n",
    "print(greeting_1)\n",
    "# 输出：你好，小明\n",
    "print(greeting_2)\n",
    "# 输出：再见，小明"
   ]
  },
  {
   "cell_type": "code",
   "execution_count": 59,
   "metadata": {},
   "outputs": [
    {
     "name": "stdout",
     "output_type": "stream",
     "text": [
      "36\n",
      "-4\n"
     ]
    }
   ],
   "source": [
    "# 请补全注释行… 处代码，输出函数 sum_and_sub 返回的元组索引位置分别为 0 和 1 的元素。\n",
    "def sum_and_sub(num1,num2):\n",
    "    num1_add_num2 = num1 + num2\n",
    "    num1_minus_num2 = num1 - num2\n",
    "    return num1_add_num2, num1_minus_num2\n",
    "print(sum_and_sub(16,20)[0])\n",
    "print(sum_and_sub(16,20)[1])"
   ]
  },
  {
   "cell_type": "code",
   "execution_count": 60,
   "metadata": {},
   "outputs": [
    {
     "name": "stdout",
     "output_type": "stream",
     "text": [
      "嘿，你好啊！\n",
      "嘿，你吃过了吗？\n",
      "嘿，你叫什么名字？\n"
     ]
    }
   ],
   "source": [
    "#位置参数解包：还记得吗，实际参数是我们调用函数时的参数。有时，当我们在创建函数时，我们并不知道在调用函数时，函数将会接收到的实际参数的个数。这里我们打个比方，函数接收实际参数就好比我们收到了一个未知的快递包裹，我们打开包裹，会对里面一个个物件做相应的处理。这个类似的过程在调用函数时，被称为“解包” 。那么既然函数接收到的实际参数的个数可能是未知的，我们可以在创建函数时做什么样的预处理呢？这里有两种方法，在本节课中，我们先学习第一种：位置参数解包。看示例：\n",
    "\n",
    "def add_hey(*args):\n",
    "    for argument in args:\n",
    "        print(\"嘿，\"+argument)\n",
    "\n",
    "add_hey(\"你好啊！\", \"你吃过了吗？\", \"你叫什么名字？\")\n",
    "# 以下为输出部分：\n",
    "# 嘿，你好啊！\n",
    "# 嘿，你吃过了吗？\n",
    "# 嘿，你叫什么名字？\n",
    "# 上方函数 add_hey 为所有实际参数的前方加上字符串 \"嘿，\"，并将添加之后的字符串输出。在创建函数 add_hey 时，我们在形式参数前加上 * 符号，告诉计算机，在调用函数时，请按照顺序对各个实际参数进行解包。args 也可以用其他名字代替，但是作为习惯，我们建议用 args。"
   ]
  },
  {
   "cell_type": "code",
   "execution_count": 61,
   "metadata": {},
   "outputs": [
    {
     "name": "stdout",
     "output_type": "stream",
     "text": [
      "山\n",
      "庙\n",
      "尚\n"
     ]
    }
   ],
   "source": [
    "\"\"\"\n",
    "请补全注释行…处代码，令程序满足：\n",
    "\n",
    "调用函数 last_word 时，输出每个参数的最后一个字符。\n",
    "\"\"\"\n",
    "def last_word(*args):\n",
    "    for argument in args:\n",
    "        print(argument[-1])\n",
    "last_word(\"从前有座山\",\"山里有座庙\",\"庙里有个老和尚\")"
   ]
  },
  {
   "cell_type": "code",
   "execution_count": 62,
   "metadata": {},
   "outputs": [
    {
     "name": "stdout",
     "output_type": "stream",
     "text": [
      "<class 'dict'>\n",
      "{'猫': '鱼', '狗': '骨头', '大象': '香蕉'}\n",
      "猫爱吃鱼\n",
      "狗爱吃骨头\n",
      "大象爱吃香蕉\n"
     ]
    }
   ],
   "source": [
    "# 在上一页中，我们学习了位置参数解包，与其相应地，是关键字参数解包。我们先来看一段代码：\n",
    "\n",
    "def animal_food(**kwargs):\n",
    "    print(type(kwargs)) # kwargs 返回的类型为字典\n",
    "    print(kwargs)\n",
    "    for animal, food in kwargs.items():\n",
    "        print(\"{}爱吃{}\".format(animal,food))\n",
    "animal_food(猫=\"鱼\",狗=\"骨头\",大象=\"香蕉\")\n",
    "\n",
    "# 以下部分为程序输出：\n",
    "# <class 'dict'>\n",
    "# {'猫': '鱼', '狗': '骨头', '大象': '香蕉'}\n",
    "# 猫爱吃鱼\n",
    "# 狗爱吃骨头\n",
    "# 大象爱吃香蕉\n",
    "# 首先，与位置参数解包不同的是，创建函数时，参数内有两个星号，另外，一般习惯性将形式参数写为 kwargs，kw 是 keyword 的缩写。从程序输出的结果来看，首先 kwargs 是一个字典，其次该字典的键为调用函数 animal_food 时的参数，而字典的值为参数各自的赋值。"
   ]
  },
  {
   "cell_type": "code",
   "execution_count": 63,
   "metadata": {},
   "outputs": [
    {
     "name": "stdout",
     "output_type": "stream",
     "text": [
      "“banana”最后一个字符是“a”\n",
      "“apple”最后一个字符不是“a”\n",
      "“pen”最后一个字符不是“a”\n"
     ]
    }
   ],
   "source": [
    "\"\"\"\n",
    "请按照要求，补全注释行 … 处代码，令程序满足：\n",
    "\n",
    "1.调用函数 check_type 时，可以输入多个参数；\n",
    "\n",
    "2.判断调用时参数名的最后一个字符是否与赋值一致。\n",
    "\"\"\"\n",
    "def check_last(**kwargs):\n",
    "    for kwarg, value in kwargs.items():\n",
    "          # 判断如果 kwarg 的最后一个字符是否等于 value            \n",
    "        if kwarg[-1] == value:\n",
    "            print(\"“{}”最后一个字符是“{}”\".format(kwarg,value))\n",
    "        else:\n",
    "            print(\"“{}”最后一个字符不是“{}”\".format(kwarg,value))\n",
    "\n",
    "check_last(banana = \"a\", apple = \"a\", pen = \"a\")"
   ]
  },
  {
   "cell_type": "code",
   "execution_count": 64,
   "metadata": {},
   "outputs": [
    {
     "name": "stdout",
     "output_type": "stream",
     "text": [
      "['看', '今', '天', '天', '气', '不', '错']\n"
     ]
    }
   ],
   "source": [
    "def make_list(word_list=None,words=\"\"):\n",
    "    if word_list is None:\n",
    "        word_list = []\n",
    "    for word in words:\n",
    "        word_list.append(word)\n",
    "    return word_list\n",
    "print(make_list(word_list = [\"看\"], words = \"今天天气不错\"))\n",
    "# 此处调用函数 make_list 时，参数 word_list 不为 None，函数将在 word_list 中依次添加参数 words 中的元素。"
   ]
  },
  {
   "cell_type": "code",
   "execution_count": 65,
   "metadata": {},
   "outputs": [],
   "source": [
    "# 函数多值返回的结果是元组。\n",
    "def add_hey(*args):\n",
    "    for argument in args:\n",
    "        print(\"嘿，\"+argument)\n",
    "# * 的作用是：在调用函数 add_hey 时，按照参数的位置顺序解包参数"
   ]
  },
  {
   "cell_type": "code",
   "execution_count": 66,
   "metadata": {},
   "outputs": [
    {
     "name": "stdout",
     "output_type": "stream",
     "text": [
      "<class 'dict'>\n"
     ]
    }
   ],
   "source": [
    "def check_type(**kwargs):\n",
    "  print(type(kwargs))\n",
    "\n",
    "check_type(variable = \"str\")\n",
    "# 关键字参数解包中，参数 kwargs 的数据类型是字典。"
   ]
  },
  {
   "cell_type": "code",
   "execution_count": 67,
   "metadata": {},
   "outputs": [
    {
     "ename": "TurtleGraphicsError",
     "evalue": "bad color string: organe",
     "output_type": "error",
     "traceback": [
      "\u001b[0;31m---------------------------------------------------------------------------\u001b[0m",
      "\u001b[0;31mTurtleGraphicsError\u001b[0m                       Traceback (most recent call last)",
      "\u001b[0;32m<ipython-input-67-39ada9c9afad>\u001b[0m in \u001b[0;36m<module>\u001b[0;34m\u001b[0m\n\u001b[1;32m     19\u001b[0m       \u001b[0mstar\u001b[0m\u001b[0;34m.\u001b[0m\u001b[0mforward\u001b[0m\u001b[0;34m(\u001b[0m\u001b[0;36m80\u001b[0m\u001b[0;34m)\u001b[0m\u001b[0;34m\u001b[0m\u001b[0;34m\u001b[0m\u001b[0m\n\u001b[1;32m     20\u001b[0m       \u001b[0mstar\u001b[0m\u001b[0;34m.\u001b[0m\u001b[0mright\u001b[0m\u001b[0;34m(\u001b[0m\u001b[0;36m144\u001b[0m\u001b[0;34m)\u001b[0m\u001b[0;34m\u001b[0m\u001b[0;34m\u001b[0m\u001b[0m\n\u001b[0;32m---> 21\u001b[0;31m \u001b[0mdraw_star\u001b[0m\u001b[0;34m(\u001b[0m\u001b[0;34m\"green\"\u001b[0m\u001b[0;34m,\u001b[0m\u001b[0;34m\"blue\"\u001b[0m\u001b[0;34m,\u001b[0m\u001b[0;34m\"yellow\"\u001b[0m\u001b[0;34m,\u001b[0m\u001b[0;34m\"pink\"\u001b[0m\u001b[0;34m,\u001b[0m\u001b[0;34m\"red\"\u001b[0m\u001b[0;34m,\u001b[0m\u001b[0;34m\"purple\"\u001b[0m\u001b[0;34m,\u001b[0m\u001b[0;34m\"organe\"\u001b[0m\u001b[0;34m)\u001b[0m\u001b[0;34m\u001b[0m\u001b[0;34m\u001b[0m\u001b[0m\n\u001b[0m\u001b[1;32m     22\u001b[0m \u001b[0mturtle\u001b[0m\u001b[0;34m.\u001b[0m\u001b[0mdone\u001b[0m\u001b[0;34m(\u001b[0m\u001b[0;34m)\u001b[0m\u001b[0;34m\u001b[0m\u001b[0;34m\u001b[0m\u001b[0m\n",
      "\u001b[0;32m<ipython-input-67-39ada9c9afad>\u001b[0m in \u001b[0;36mdraw_star\u001b[0;34m(*args)\u001b[0m\n\u001b[1;32m     15\u001b[0m \u001b[0;32mdef\u001b[0m \u001b[0mdraw_star\u001b[0m\u001b[0;34m(\u001b[0m\u001b[0;34m*\u001b[0m\u001b[0margs\u001b[0m\u001b[0;34m)\u001b[0m\u001b[0;34m:\u001b[0m\u001b[0;34m\u001b[0m\u001b[0;34m\u001b[0m\u001b[0m\n\u001b[1;32m     16\u001b[0m   \u001b[0;32mfor\u001b[0m \u001b[0margument\u001b[0m \u001b[0;32min\u001b[0m \u001b[0margs\u001b[0m\u001b[0;34m:\u001b[0m\u001b[0;34m\u001b[0m\u001b[0;34m\u001b[0m\u001b[0m\n\u001b[0;32m---> 17\u001b[0;31m     \u001b[0mstar\u001b[0m\u001b[0;34m.\u001b[0m\u001b[0mpencolor\u001b[0m\u001b[0;34m(\u001b[0m\u001b[0margument\u001b[0m\u001b[0;34m)\u001b[0m\u001b[0;34m\u001b[0m\u001b[0;34m\u001b[0m\u001b[0m\n\u001b[0m\u001b[1;32m     18\u001b[0m     \u001b[0;32mfor\u001b[0m \u001b[0mi\u001b[0m \u001b[0;32min\u001b[0m \u001b[0mrange\u001b[0m\u001b[0;34m(\u001b[0m\u001b[0;36m5\u001b[0m\u001b[0;34m)\u001b[0m\u001b[0;34m:\u001b[0m\u001b[0;34m\u001b[0m\u001b[0;34m\u001b[0m\u001b[0m\n\u001b[1;32m     19\u001b[0m       \u001b[0mstar\u001b[0m\u001b[0;34m.\u001b[0m\u001b[0mforward\u001b[0m\u001b[0;34m(\u001b[0m\u001b[0;36m80\u001b[0m\u001b[0;34m)\u001b[0m\u001b[0;34m\u001b[0m\u001b[0;34m\u001b[0m\u001b[0m\n",
      "\u001b[0;32m/anaconda3/lib/python3.7/turtle.py\u001b[0m in \u001b[0;36mpencolor\u001b[0;34m(self, *args)\u001b[0m\n\u001b[1;32m   2250\u001b[0m         \"\"\"\n\u001b[1;32m   2251\u001b[0m         \u001b[0;32mif\u001b[0m \u001b[0margs\u001b[0m\u001b[0;34m:\u001b[0m\u001b[0;34m\u001b[0m\u001b[0;34m\u001b[0m\u001b[0m\n\u001b[0;32m-> 2252\u001b[0;31m             \u001b[0mcolor\u001b[0m \u001b[0;34m=\u001b[0m \u001b[0mself\u001b[0m\u001b[0;34m.\u001b[0m\u001b[0m_colorstr\u001b[0m\u001b[0;34m(\u001b[0m\u001b[0margs\u001b[0m\u001b[0;34m)\u001b[0m\u001b[0;34m\u001b[0m\u001b[0;34m\u001b[0m\u001b[0m\n\u001b[0m\u001b[1;32m   2253\u001b[0m             \u001b[0;32mif\u001b[0m \u001b[0mcolor\u001b[0m \u001b[0;34m==\u001b[0m \u001b[0mself\u001b[0m\u001b[0;34m.\u001b[0m\u001b[0m_pencolor\u001b[0m\u001b[0;34m:\u001b[0m\u001b[0;34m\u001b[0m\u001b[0;34m\u001b[0m\u001b[0m\n\u001b[1;32m   2254\u001b[0m                 \u001b[0;32mreturn\u001b[0m\u001b[0;34m\u001b[0m\u001b[0;34m\u001b[0m\u001b[0m\n",
      "\u001b[0;32m/anaconda3/lib/python3.7/turtle.py\u001b[0m in \u001b[0;36m_colorstr\u001b[0;34m(self, args)\u001b[0m\n\u001b[1;32m   2694\u001b[0m \u001b[0;34m\u001b[0m\u001b[0m\n\u001b[1;32m   2695\u001b[0m     \u001b[0;32mdef\u001b[0m \u001b[0m_colorstr\u001b[0m\u001b[0;34m(\u001b[0m\u001b[0mself\u001b[0m\u001b[0;34m,\u001b[0m \u001b[0margs\u001b[0m\u001b[0;34m)\u001b[0m\u001b[0;34m:\u001b[0m\u001b[0;34m\u001b[0m\u001b[0;34m\u001b[0m\u001b[0m\n\u001b[0;32m-> 2696\u001b[0;31m         \u001b[0;32mreturn\u001b[0m \u001b[0mself\u001b[0m\u001b[0;34m.\u001b[0m\u001b[0mscreen\u001b[0m\u001b[0;34m.\u001b[0m\u001b[0m_colorstr\u001b[0m\u001b[0;34m(\u001b[0m\u001b[0margs\u001b[0m\u001b[0;34m)\u001b[0m\u001b[0;34m\u001b[0m\u001b[0;34m\u001b[0m\u001b[0m\n\u001b[0m\u001b[1;32m   2697\u001b[0m \u001b[0;34m\u001b[0m\u001b[0m\n\u001b[1;32m   2698\u001b[0m     \u001b[0;32mdef\u001b[0m \u001b[0m_cc\u001b[0m\u001b[0;34m(\u001b[0m\u001b[0mself\u001b[0m\u001b[0;34m,\u001b[0m \u001b[0margs\u001b[0m\u001b[0;34m)\u001b[0m\u001b[0;34m:\u001b[0m\u001b[0;34m\u001b[0m\u001b[0;34m\u001b[0m\u001b[0m\n",
      "\u001b[0;32m/anaconda3/lib/python3.7/turtle.py\u001b[0m in \u001b[0;36m_colorstr\u001b[0;34m(self, color)\u001b[0m\n\u001b[1;32m   1156\u001b[0m                 \u001b[0;32mreturn\u001b[0m \u001b[0mcolor\u001b[0m\u001b[0;34m\u001b[0m\u001b[0;34m\u001b[0m\u001b[0m\n\u001b[1;32m   1157\u001b[0m             \u001b[0;32melse\u001b[0m\u001b[0;34m:\u001b[0m\u001b[0;34m\u001b[0m\u001b[0;34m\u001b[0m\u001b[0m\n\u001b[0;32m-> 1158\u001b[0;31m                 \u001b[0;32mraise\u001b[0m \u001b[0mTurtleGraphicsError\u001b[0m\u001b[0;34m(\u001b[0m\u001b[0;34m\"bad color string: %s\"\u001b[0m \u001b[0;34m%\u001b[0m \u001b[0mstr\u001b[0m\u001b[0;34m(\u001b[0m\u001b[0mcolor\u001b[0m\u001b[0;34m)\u001b[0m\u001b[0;34m)\u001b[0m\u001b[0;34m\u001b[0m\u001b[0;34m\u001b[0m\u001b[0m\n\u001b[0m\u001b[1;32m   1159\u001b[0m         \u001b[0;32mtry\u001b[0m\u001b[0;34m:\u001b[0m\u001b[0;34m\u001b[0m\u001b[0;34m\u001b[0m\u001b[0m\n\u001b[1;32m   1160\u001b[0m             \u001b[0mr\u001b[0m\u001b[0;34m,\u001b[0m \u001b[0mg\u001b[0m\u001b[0;34m,\u001b[0m \u001b[0mb\u001b[0m \u001b[0;34m=\u001b[0m \u001b[0mcolor\u001b[0m\u001b[0;34m\u001b[0m\u001b[0;34m\u001b[0m\u001b[0m\n",
      "\u001b[0;31mTurtleGraphicsError\u001b[0m: bad color string: organe"
     ]
    }
   ],
   "source": [
    "\"\"\"\n",
    "还记得在课程的第一天，你画的一个粉色五角星么？\n",
    "\n",
    "今天，我们给你更多不同颜色的画笔！\n",
    "\n",
    "你可以依次画出绿、蓝、黄、粉、红、紫、橙的五角星，填入注释行…处代码。\n",
    "\n",
    "然后欣赏各种颜色的五角星吧！\n",
    "\"\"\"\n",
    "import turtle \n",
    "\n",
    "star = turtle.Turtle()\n",
    "\n",
    "\n",
    "def draw_star(*args):\n",
    "  for argument in args:\n",
    "    star.pencolor(argument)\n",
    "    for i in range(5):\n",
    "      star.forward(80)\n",
    "      star.right(144)\n",
    "draw_star(\"green\",\"blue\",\"yellow\",\"pink\",\"red\",\"purple\",\"organe\")    \n",
    "turtle.done()"
   ]
  },
  {
   "cell_type": "code",
   "execution_count": 68,
   "metadata": {},
   "outputs": [],
   "source": [
    "# 14.1 自动化办公（1）"
   ]
  },
  {
   "cell_type": "code",
   "execution_count": 69,
   "metadata": {},
   "outputs": [
    {
     "data": {
      "text/plain": [
       "'\\n自动化办公：在信息时代，学习工作中都需要你在短时间内处理大量信息。很多手动操作是繁琐并且容易出错的。自动化办公软件应运而生，但是它们往往需要付费，而且软件之间的协作性较弱。直到有一天，你学会了用 python 来提高办公效率，那么你一定是所在团队的明星。\\n\\n本课程的自动化办公项目建立在如下一个虚构的场景：\\n\\n你是一名部门主管，人力资源部给了你一份团队成员之间的邮件往来记录（邮件内容被剔除）。你需要在近 500 封邮件往来记录中分析团队成员之间的信息网络。社会传播学领域有一个著名的“六度分隔理论”，该理论认为世界上任何互不相识的两人，只需要很少的中间人就能够建立起联系。同样地，你需要计算机程序迅速帮你建立团队中任意两人之间的邮件链条。\\n\\n完成这样的项目，你可以学习到如何用 python 读写文件，如何清理文本信息，以及如何用相关算法做网络分析。\\n'"
      ]
     },
     "execution_count": 69,
     "metadata": {},
     "output_type": "execute_result"
    }
   ],
   "source": [
    "\"\"\"\n",
    "自动化办公：在信息时代，学习工作中都需要你在短时间内处理大量信息。很多手动操作是繁琐并且容易出错的。自动化办公软件应运而生，但是它们往往需要付费，而且软件之间的协作性较弱。直到有一天，你学会了用 python 来提高办公效率，那么你一定是所在团队的明星。\n",
    "\n",
    "本课程的自动化办公项目建立在如下一个虚构的场景：\n",
    "\n",
    "你是一名部门主管，人力资源部给了你一份团队成员之间的邮件往来记录（邮件内容被剔除）。你需要在近 500 封邮件往来记录中分析团队成员之间的信息网络。社会传播学领域有一个著名的“六度分隔理论”，该理论认为世界上任何互不相识的两人，只需要很少的中间人就能够建立起联系。同样地，你需要计算机程序迅速帮你建立团队中任意两人之间的邮件链条。\n",
    "\n",
    "完成这样的项目，你可以学习到如何用 python 读写文件，如何清理文本信息，以及如何用相关算法做网络分析。\n",
    "\"\"\""
   ]
  },
  {
   "cell_type": "code",
   "execution_count": 76,
   "metadata": {},
   "outputs": [
    {
     "name": "stdout",
     "output_type": "stream",
     "text": [
      "成员 1: sahil@shanbaypro.com\n",
      "成员 2: holmes@shanbaypro.com\n",
      "找寻最短路径... \n",
      "邮件链条: 4层关系\n",
      "['sahil@shanbaypro.com', 'richard@shanbaypro.com', 'shaine@shanbaypro.com', 'george@shanbaypro.com', 'holmes@shanbaypro.com']\n",
      "--------\n",
      "将结果写入 email_network.txt\n",
      "写入成功！\n"
     ]
    }
   ],
   "source": [
    "# 编辑区内是我们自动化办公最终实现的部分代码。请点击运行，观察程序运行结果。\n",
    "with open('/Users/XUMIAO/Desktop/shanbaypro_email.txt') as email_doc: # txt里面不能留任何空行\n",
    "  mails = email_doc.read()\n",
    "  email_split = mails.split(\"\\n\")\n",
    "\n",
    "sender_receiver = {}\n",
    "for email in email_split:\n",
    "    sender = email.split(\"sender:\")[1].split(\" \")[0]\n",
    "    receiver = email.split(\"receiver:\")[1]\n",
    "    if sender not in sender_receiver:\n",
    "        sender_receiver[sender] = []\n",
    "        sender_receiver[sender].append(receiver)\n",
    "    else:\n",
    "        if receiver in sender_receiver[sender]:\n",
    "            continue\n",
    "        else:\n",
    "            sender_receiver[sender].append(receiver)\n",
    "\n",
    "def find_shortest_path(graph, start, end, shortestLength=-1, path=[]):\n",
    "  path = path + [start]\n",
    "  if start == end:\n",
    "    return path\n",
    "\n",
    "  shortest = None\n",
    "  for node in graph[start]:\n",
    "    if node not in path:\n",
    "      if shortestLength==-1 or len(path)<(shortestLength-1):\n",
    "        newpath = find_shortest_path(graph, node, end, shortestLength, path)\n",
    "        if newpath:\n",
    "          if not shortest or len(newpath) < len(shortest):\n",
    "            shortest = newpath\n",
    "            shortestLength = len(newpath)  \n",
    "  return shortest        \n",
    "        \n",
    "member1=\"sahil@shanbaypro.com\"\n",
    "member2=\"holmes@shanbaypro.com\"\n",
    "print(\"成员 1: \" + member1)\n",
    "print(\"成员 2: \" + member2)\n",
    "print(\"找寻最短路径... \")\n",
    "path=find_shortest_path(sender_receiver,member1,member2)\n",
    "print(\"邮件链条: \" + \"{}层关系\".format(len(path)-1))\n",
    "print(path)\n",
    "\n",
    "print(\"--------\")\n",
    "print(\"将结果写入 email_network.txt\")\n",
    "\n",
    "with open('/Users/XUMIAO/Desktop/email_network.txt', 'w') as network:\n",
    "  net = \"\"\n",
    "  for node in path:\n",
    "    net += node\n",
    "    net += \"->\"\n",
    "  network.write(net)\n",
    "\n",
    "print(\"写入成功！\")"
   ]
  },
  {
   "cell_type": "code",
   "execution_count": null,
   "metadata": {},
   "outputs": [],
   "source": [
    "# 读取文件：计算机通过文件系统来存储、调取数据。一般来说，我们写的 python 程序代码也写在 .py 这样的文件中。当我们存储一个文档、下载一首歌、发送一封邮件，都会在某台电脑的某个位置创建了一个文件。那么，我们如何用 python 程序来与不同的文件产生交互呢？这里有一个文本文件 yes_or_no.txt，我们用下段代码读取其中的内容：\n",
    "\n",
    "with open('yes_or_no.txt') as text_file:\n",
    "  text_data = text_file.read()\n",
    "print(text_data)\n",
    "\n",
    "# 输出：Yes!\n",
    "# 上方示例中，输出的 \"Yes!\" 就是文件 yes_or_no.txt 中的内容。在代码中，我们用 open() 打开了文件 yes_or_no.txt，并把它赋值给变量 text_file。 接着，用 .read() 读取了 text_file中的内容，继续赋值给变量 text_data。 当我们输出 text_data 时，我们看到了文件内的 \"Yes!\"。"
   ]
  },
  {
   "cell_type": "code",
   "execution_count": 77,
   "metadata": {},
   "outputs": [
    {
     "name": "stdout",
     "output_type": "stream",
     "text": [
      "Hey!\n"
     ]
    }
   ],
   "source": [
    "# 请按照注释行要求，补全…处代码。\n",
    "# 打开名为 hey.txt 的文件\n",
    "with open('/Users/XUMIAO/Desktop/hey.txt') as text_file:\n",
    "  # 读取 text_file，存入 text_data\n",
    "  text_data = text_file.read()\n",
    "print(text_data)"
   ]
  },
  {
   "cell_type": "code",
   "execution_count": null,
   "metadata": {},
   "outputs": [],
   "source": [
    "# .readline() ：在上一节，我们学习了 .read() 来读取整个文件的内容。但有时，我们只需要几行内容就够了。这时，我们可以用 .readline()。假设我们有一个文本文件 poem.txt：\n",
    "\n",
    "# 一片两片三四片，\n",
    "# 五六七八九十片。\n",
    "# 千片万片无数片，\n",
    "# 飞入梅花看不见。\n",
    "# 我们可以用下方代码，输出 poem.txt 中的前两行：\n",
    "\n",
    "with open('poem.txt') as poem_doc:\n",
    "  first_line = poem_doc.readline()\n",
    "  second_line = poem_doc.readline()\n",
    "  print(first_line)\n",
    "  print(second_line)\n",
    "# 以下为输出：\n",
    "# 一片两片三四片，\n",
    "# 五六七八九十片。\n",
    "# 上方代码中，我们打开 poem.txt 存入 poem_doc。并用 .readline() 逐行读取 poem_doc 中的前两行内容，分别存入 first_line，second_line 之中。"
   ]
  },
  {
   "cell_type": "code",
   "execution_count": 78,
   "metadata": {},
   "outputs": [
    {
     "name": "stdout",
     "output_type": "stream",
     "text": [
      "这是我生命中美好的时刻\n",
      "\n"
     ]
    }
   ],
   "source": [
    "# 请输出 lyrics.txt 文件中的第二行歌词。\n",
    "with open('/Users/XUMIAO/Desktop/lyrics.txt') as lyrics_doc:\n",
    "  first_line = lyrics_doc.readline()\n",
    "  second_line = lyrics_doc.readline()\n",
    "  print(second_line)"
   ]
  },
  {
   "cell_type": "code",
   "execution_count": 79,
   "metadata": {},
   "outputs": [],
   "source": [
    "# .read() 读取文件的全部内容；.readline() 逐行读取文件的内容"
   ]
  },
  {
   "cell_type": "code",
   "execution_count": 80,
   "metadata": {},
   "outputs": [
    {
     "name": "stdout",
     "output_type": "stream",
     "text": [
      "54 sender:neil@shanbaypro.com receiver:simone@shanbaypro.com\n",
      "55 sender:neil@shanbaypro.com receiver:daniel@shanbaypro.com\n",
      "56 sender:neil@shanbaypro.com receiver:byron@shanbaypro.com\n",
      "57 sender:neil@shanbaypro.com receiver:cheng@shanbaypro.com\n"
     ]
    }
   ],
   "source": [
    "\"\"\"\n",
    "ShanbayPro 是一家新成立的科技公司，在文件 shanbaypro_email.txt 中存有近500封公司成员之间的邮件发送记录。\n",
    "\n",
    "部分如图所示：\n",
    "\n",
    "0 发件者：naomi@shanbaypro.com 收件者：hyatt@shanbaypro.com\n",
    "1 发件者：naomi@shanbaypro.com 收件者：kamal@shanbaypro.com\n",
    "2 发件者：naomi@shanbaypro.com 收件者：may@shanbaypro.com\n",
    "3 发件者：naomi@shanbaypro.com 收件者：karina@shanbaypro.com\n",
    "4 发件者：naomi@shanbaypro.com 收件者：cassady@shanbaypro.com\n",
    "5 发件者：daria@shanbaypro.com 收件者：demetrius@shanbaypro.com\n",
    "6 发件者：daria@shanbaypro.com 收件者：kiann@shanbaypro.com\n",
    "7 发件者：daria@shanbaypro.com 收件者：shea@shanbaypro.com\n",
    "8 发件者：daria@shanbaypro.com 收件者：cheryl@shanbaypro.com\n",
    "9 发件者：daria@shanbaypro.com 收件者：stone@shanbaypro.com\n",
    "...\n",
    "请用所学知识，输出发件者为 neil@shanbaypro.com 所发出的所有邮件记录。\n",
    "\"\"\"\n",
    "with open('/Users/XUMIAO/Desktop/shanbaypro_email.txt') as email_doc:\n",
    "  mails = email_doc.read()\n",
    "  mails_list = mails.split(\"\\n\")\n",
    "  for mail in mails_list:\n",
    "    if \"neil@shanbaypro.com\" in mail.split(\"receiver:\")[0]:\n",
    "      print(mail)"
   ]
  },
  {
   "cell_type": "code",
   "execution_count": 81,
   "metadata": {},
   "outputs": [],
   "source": [
    "# 14.2 自动化办公（2）"
   ]
  },
  {
   "cell_type": "code",
   "execution_count": 82,
   "metadata": {},
   "outputs": [
    {
     "data": {
      "text/plain": [
       "'\\n关系网络：在一个网络中，如果任意两个结点是可以互相抵达的，比如，我们可以从上海出发到北京，也可以从北京出发到上海。我们如何找到网络中任意两点之间的最短路径？放在人际关系网络中，如果需要将你和你的偶像建立一条连接线，中间相隔的人际结点越少越好，我们该如何找到这条最短的通路？这种问题我们一般称之为算法问题。算法是计算机行业中一个非常广阔而又有深度的领域。我们会在后期的专项课程中，为大家系统介绍各种算法的逻辑及应用。\\n'"
      ]
     },
     "execution_count": 82,
     "metadata": {},
     "output_type": "execute_result"
    }
   ],
   "source": [
    "\"\"\"\n",
    "关系网络：在一个网络中，如果任意两个结点是可以互相抵达的，比如，我们可以从上海出发到北京，也可以从北京出发到上海。我们如何找到网络中任意两点之间的最短路径？放在人际关系网络中，如果需要将你和你的偶像建立一条连接线，中间相隔的人际结点越少越好，我们该如何找到这条最短的通路？这种问题我们一般称之为算法问题。算法是计算机行业中一个非常广阔而又有深度的领域。我们会在后期的专项课程中，为大家系统介绍各种算法的逻辑及应用。\n",
    "\"\"\""
   ]
  },
  {
   "cell_type": "code",
   "execution_count": 83,
   "metadata": {},
   "outputs": [
    {
     "name": "stdout",
     "output_type": "stream",
     "text": [
      "老王，阿伟，萌仔\n"
     ]
    }
   ],
   "source": [
    "\"\"\"\n",
    "字典中存放的是一个人际网络关系。每组键值对代表一个人（键）他所认识的朋友（值）。键与值中的每个元素都是互相认识的关系。\n",
    "\n",
    "比如：\n",
    "\n",
    "{老王：[\"萌仔\",\"阿强\"]}\n",
    "上方键值对代表老王有两个朋友，萌仔和阿强；同时，萌仔和阿强也都认识老王。\n",
    "\n",
    "为了更好地理解如何让计算机执行最短路径的搜索，我们先用肉眼和人脑来完成这个简单的任务。\n",
    "\n",
    "请手动在编辑区输出老王与萌仔之间的最短路径。\n",
    "\"\"\"\n",
    "newwork = {\n",
    "    \"老王\":[\"强子\",\"阿伟\"],\n",
    "    \"阿伟\":[\"强子\",\"萌仔\",\"小明\"],\n",
    "    \"小明\":[\"萌仔\"],   \n",
    "    \"强子\":[\"小明\"]\n",
    "}\n",
    "# 参照 a，b，c 的格式\n",
    "# 比如：老王，阿伟，小明\n",
    "print(\"老王，阿伟，萌仔\")"
   ]
  },
  {
   "cell_type": "code",
   "execution_count": 84,
   "metadata": {},
   "outputs": [
    {
     "data": {
      "text/plain": [
       "'\\n路径搜索：回想一下刚才的练习中，你是如何找到老王与萌仔之间的最短路径。\\n\\n我们分两个环节来拆解这个问题：\\n\\nnewwork = {\\n    \"老王\":[\"强子\",\"阿伟\"],\\n    \"阿伟\":[\"强子\",\"萌仔\",\"小明\"],\\n    \"小明\":[\"萌仔\"],   \\n    \"强子\":[\"小明\"]\\n}\\n\\n第一环节：\\n\\n1）我先遍历老王的朋友列表，找到了强子和阿伟；\\n\\n2）我们先从老王的第一个朋友强子开始，先把他加入我们的“关系链条”之中；\\n\\n3）随后遍历强子的朋友列表，找到了小明；\\n\\n4）小明不在“关系链条”之中，因此我们把小明也加入进来；\\n\\n5）继续找寻小明有哪些朋友，我们发现萌仔就在其中；\\n\\n6）将萌仔加入“关系链条”：老王，强子，小明，萌仔。\\n\\n第二环节：我们如何确认刚才得到的链条是最短的路径呢？\\n\\n最容易理解的办法就是继续寻找其他可能的链条，如果有新的，将它的长度与之前的链条比较。直到比较完所有的可能性。\\n\\n1）我们从老王的朋友阿伟开始寻找；\\n\\n2）将阿伟加入“关系链条”之中；\\n\\n3）遍历阿伟的朋友，我们找到了萌仔；\\n\\n4）于是新的链条：老王，阿伟，萌仔。\\n\\n我们发现新的链条比最早得到的链条要短（中间只隔着一个阿伟）。于是我们将前者取代后者。\\n'"
      ]
     },
     "execution_count": 84,
     "metadata": {},
     "output_type": "execute_result"
    }
   ],
   "source": [
    "\"\"\"\n",
    "路径搜索：回想一下刚才的练习中，你是如何找到老王与萌仔之间的最短路径。\n",
    "\n",
    "我们分两个环节来拆解这个问题：\n",
    "\n",
    "newwork = {\n",
    "    \"老王\":[\"强子\",\"阿伟\"],\n",
    "    \"阿伟\":[\"强子\",\"萌仔\",\"小明\"],\n",
    "    \"小明\":[\"萌仔\"],   \n",
    "    \"强子\":[\"小明\"]\n",
    "}\n",
    "\n",
    "第一环节：\n",
    "\n",
    "1）我先遍历老王的朋友列表，找到了强子和阿伟；\n",
    "\n",
    "2）我们先从老王的第一个朋友强子开始，先把他加入我们的“关系链条”之中；\n",
    "\n",
    "3）随后遍历强子的朋友列表，找到了小明；\n",
    "\n",
    "4）小明不在“关系链条”之中，因此我们把小明也加入进来；\n",
    "\n",
    "5）继续找寻小明有哪些朋友，我们发现萌仔就在其中；\n",
    "\n",
    "6）将萌仔加入“关系链条”：老王，强子，小明，萌仔。\n",
    "\n",
    "第二环节：我们如何确认刚才得到的链条是最短的路径呢？\n",
    "\n",
    "最容易理解的办法就是继续寻找其他可能的链条，如果有新的，将它的长度与之前的链条比较。直到比较完所有的可能性。\n",
    "\n",
    "1）我们从老王的朋友阿伟开始寻找；\n",
    "\n",
    "2）将阿伟加入“关系链条”之中；\n",
    "\n",
    "3）遍历阿伟的朋友，我们找到了萌仔；\n",
    "\n",
    "4）于是新的链条：老王，阿伟，萌仔。\n",
    "\n",
    "我们发现新的链条比最早得到的链条要短（中间只隔着一个阿伟）。于是我们将前者取代后者。\n",
    "\"\"\""
   ]
  },
  {
   "cell_type": "code",
   "execution_count": 85,
   "metadata": {},
   "outputs": [
    {
     "name": "stdout",
     "output_type": "stream",
     "text": [
      "成员 1: 老王\n",
      "成员 2: 萌仔\n",
      "找寻最短路径... \n",
      "关系链条: 2层关系\n",
      "['老王', '阿伟', '萌仔']\n"
     ]
    }
   ],
   "source": [
    "\"\"\"\n",
    "编辑区中，我们将讲解中的思路代码化：\n",
    "\n",
    "请自行阅读代码中的注释做理解，或者点击运行查看运行结果。\n",
    "\n",
    "我们会在今天的上机练习中，让大家对类似代码做编辑。\n",
    "\"\"\"\n",
    "newwork = {\n",
    "    \"老王\":[\"强子\",\"阿伟\"],\n",
    "    \"阿伟\":[\"强子\",\"萌仔\",\"小明\",\"老王\"],\n",
    "    \"小明\":[\"萌仔\",\"强子\",\"阿伟\"],\n",
    "    \"萌仔\":[\"小明\",\"阿伟\"],\n",
    "    \"强子\":[\"小明\",\"阿伟\",\"老王\"]\n",
    "}\n",
    "\n",
    "def find_shortest_path(network, start, end, shortestLength=-1, path=None):\n",
    "  # path 为我们要建立的“关系链条”  \n",
    "  if path == None:\n",
    "    path = []\n",
    "  # “关系链条”中的第一位是路径的起点  \n",
    "  path = path + [start] # 将新的成员添加至关系链条的通路中\n",
    "  # 如果 start 等于 end\n",
    "  # 意味着我们要找的起点和终点是一个人\n",
    "  if start == end:\n",
    "    return path\n",
    "\n",
    "  # shortest 是最短的“关系链条”\n",
    "  shortest = None\n",
    "  # 开始遍历朋友列表\n",
    "  for friend in network[start]:\n",
    "    # 如果朋友不在关系链条中\n",
    "    if friend not in path:\n",
    "      # 如果最短路径的长度是现有方案中最短的，或者等于-1（默认初始值）  \n",
    "      if shortestLength==-1 or len(path)<(shortestLength-1):\n",
    "        # 那么就沿着这条链条继续寻找，建立 newpath\n",
    "        newpath = find_shortest_path(network, friend, end, shortestLength, path)\n",
    "        if newpath:\n",
    "          # 如果 newpath 的长度小于现有最短路径的长度\n",
    "          # 那么现有最短路径的长度被 newpath 的长度取代\n",
    "          if not shortest or len(newpath) < len(shortest):\n",
    "            shortest = newpath\n",
    "            shortestLength = len(newpath)  \n",
    "  return shortest        \n",
    "        \n",
    "member1=\"老王\"\n",
    "member2=\"萌仔\"\n",
    "print(\"成员 1: \" + member1)\n",
    "print(\"成员 2: \" + member2)\n",
    "print(\"找寻最短路径... \")\n",
    "path=find_shortest_path(newwork,member1,member2)\n",
    "print(\"关系链条: \" + \"{}层关系\".format(len(path)-1))\n",
    "print(path)    "
   ]
  },
  {
   "cell_type": "code",
   "execution_count": 86,
   "metadata": {},
   "outputs": [
    {
     "name": "stdout",
     "output_type": "stream",
     "text": [
      "成员 1: hamza@shanbaypro.com\n",
      "成员 2: holmes@shanbaypro.com\n",
      "找寻最短路径... \n",
      "邮件链条: 3层关系\n",
      "['hamza@shanbaypro.com', 'hoyt@shanbaypro.com', 'ruth@shanbaypro.com', 'holmes@shanbaypro.com']\n"
     ]
    }
   ],
   "source": [
    "\"\"\"\n",
    "回到 ShanbayPro 公司，我们通过对公司成员的邮件记录清理，我们也得到了一个邮件关系网络。我们假设在一组邮件往来记录中，收发邮件的两人互相认识。\n",
    "\n",
    "字典 sender_recerver 中的键为邮件发送者，而值为键所对应成员的发送对象记录。\n",
    "\n",
    "请补充注释行…处代码，在邮件关系网络中找到任意两个成员之间的邮件最短关系链条（路径）。\n",
    "\"\"\"\n",
    "sender_receiver = {\n",
    "    \"naomi@shanbaypro.com\": [\n",
    "        \"hyatt@shanbaypro.com\",\n",
    "        \"kamal@shanbaypro.com\",\n",
    "        \"may@shanbaypro.com\",\n",
    "        \"karina@shanbaypro.com\",\n",
    "        \"cassady@shanbaypro.com\",\n",
    "    ],\n",
    "    \"daria@shanbaypro.com\": [\n",
    "        \"demetrius@shanbaypro.com\",\n",
    "        \"kiann@shanbaypro.com\",\n",
    "        \"shea@shanbaypro.com\",\n",
    "        \"cheryl@shanbaypro.com\",\n",
    "        \"stone@shanbaypro.com\",\n",
    "        \"sahil@shanbaypro.com\",\n",
    "    ],\n",
    "    \"quynn@shanbaypro.com\": [\n",
    "        \"adam@shanbaypro.com\",\n",
    "        \"yardley@shanbaypro.com\",\n",
    "        \"cadman@shanbaypro.com\",\n",
    "        \"mohammad@shanbaypro.com\",\n",
    "        \"hyatt@shanbaypro.com\",\n",
    "        \"orlando@shanbaypro.com\",\n",
    "    ],\n",
    "    \"shaine@shanbaypro.com\": [\n",
    "        \"amanda@shanbaypro.com\",\n",
    "        \"george@shanbaypro.com\",\n",
    "        \"lev@shanbaypro.com\",\n",
    "        \"richard@shanbaypro.com\",\n",
    "        \"kamal@shanbaypro.com\",\n",
    "        \"martina@shanbaypro.com\",\n",
    "        \"colton@shanbaypro.com\",\n",
    "    ],\n",
    "    \"jack@shanbaypro.com\": [\"sage@shanbaypro.com\"],\n",
    "    \"mason@shanbaypro.com\": [\n",
    "        \"christine@shanbaypro.com\",\n",
    "        \"zenaida@shanbaypro.com\",\n",
    "        \"sonia@shanbaypro.com\",\n",
    "        \"eshan@shanbaypro.com\",\n",
    "    ],\n",
    "    \"ruth@shanbaypro.com\": [\n",
    "        \"holmes@shanbaypro.com\",\n",
    "        \"burton@shanbaypro.com\",\n",
    "        \"raja@shanbaypro.com\",\n",
    "        \"martin@shanbaypro.com\",\n",
    "        \"hoyt@shanbaypro.com\",\n",
    "        \"karina@shanbaypro.com\",\n",
    "    ],\n",
    "    \"jackson@shanbaypro.com\": [\n",
    "        \"ehlana@shanbaypro.com\",\n",
    "        \"sonia@shanbaypro.com\",\n",
    "        \"oliver@shanbaypro.com\",\n",
    "    ],\n",
    "    \"ingrid@shanbaypro.com\": [\n",
    "        \"rama@shanbaypro.com\",\n",
    "        \"byron@shanbaypro.com\",\n",
    "        \"theodore@shanbaypro.com\",\n",
    "        \"tatiana@shanbaypro.com\",\n",
    "        \"eshan@shanbaypro.com\",\n",
    "    ],\n",
    "    \"josiah@shanbaypro.com\": [\"hedda@shanbaypro.com\", \"zeus@shanbaypro.com\"],\n",
    "    \"graham@shanbaypro.com\": [\n",
    "        \"rama@shanbaypro.com\",\n",
    "        \"moses@shanbaypro.com\",\n",
    "        \"miriam@shanbaypro.com\",\n",
    "        \"maite@shanbaypro.com\",\n",
    "        \"jayesh@shanbaypro.com\",\n",
    "    ],\n",
    "    \"alexander@shanbaypro.com\": [\n",
    "        \"cheng@shanbaypro.com\",\n",
    "        \"hedwig@shanbaypro.com\",\n",
    "        \"sage@shanbaypro.com\",\n",
    "        \"nomlanga@shanbaypro.com\",\n",
    "    ],\n",
    "    \"neil@shanbaypro.com\": [\n",
    "        \"simone@shanbaypro.com\",\n",
    "        \"daniel@shanbaypro.com\",\n",
    "        \"byron@shanbaypro.com\",\n",
    "        \"cheng@shanbaypro.com\",\n",
    "    ],\n",
    "    \"zenaida@shanbaypro.com\": [\n",
    "        \"elton@shanbaypro.com\",\n",
    "        \"amanda@shanbaypro.com\",\n",
    "        \"mason@shanbaypro.com\",\n",
    "        \"byron@shanbaypro.com\",\n",
    "        \"oliver@shanbaypro.com\",\n",
    "        \"simone@shanbaypro.com\",\n",
    "    ],\n",
    "    \"moses@shanbaypro.com\": [\n",
    "        \"alexandra@shanbaypro.com\",\n",
    "        \"phoebe@shanbaypro.com\",\n",
    "        \"karina@shanbaypro.com\",\n",
    "        \"graham@shanbaypro.com\",\n",
    "        \"maite@shanbaypro.com\",\n",
    "        \"kay@shanbaypro.com\",\n",
    "        \"amanda@shanbaypro.com\",\n",
    "        \"kiann@shanbaypro.com\",\n",
    "    ],\n",
    "    \"kamal@shanbaypro.com\": [\n",
    "        \"shaine@shanbaypro.com\",\n",
    "        \"tatum@shanbaypro.com\",\n",
    "        \"naomi@shanbaypro.com\",\n",
    "        \"adam@shanbaypro.com\",\n",
    "        \"stone@shanbaypro.com\",\n",
    "    ],\n",
    "    \"carol@shanbaypro.com\": [\n",
    "        \"hoyt@shanbaypro.com\",\n",
    "        \"oliver@shanbaypro.com\",\n",
    "        \"lev@shanbaypro.com\",\n",
    "    ],\n",
    "    \"aladdin@shanbaypro.com\": [\n",
    "        \"cheryl@shanbaypro.com\",\n",
    "        \"george@shanbaypro.com\",\n",
    "        \"paki@shanbaypro.com\",\n",
    "        \"nomlanga@shanbaypro.com\",\n",
    "        \"kim@shanbaypro.com\",\n",
    "    ],\n",
    "    \"matthew@shanbaypro.com\": [\n",
    "        \"eldece@shanbaypro.com\",\n",
    "        \"mohammad@shanbaypro.com\",\n",
    "        \"preston@shanbaypro.com\",\n",
    "    ],\n",
    "    \"jared@shanbaypro.com\": [\n",
    "        \"byron@shanbaypro.com\",\n",
    "        \"mohammad@shanbaypro.com\",\n",
    "        \"bree@shanbaypro.com\",\n",
    "        \"branden@shanbaypro.com\",\n",
    "    ],\n",
    "    \"tatum@shanbaypro.com\": [\n",
    "        \"amanda@shanbaypro.com\",\n",
    "        \"kim@shanbaypro.com\",\n",
    "        \"dustin@shanbaypro.com\",\n",
    "        \"daniel@shanbaypro.com\",\n",
    "        \"kamal@shanbaypro.com\",\n",
    "        \"hunter@shanbaypro.com\",\n",
    "    ],\n",
    "    \"sage@shanbaypro.com\": [\n",
    "        \"eshan@shanbaypro.com\",\n",
    "        \"alexander@shanbaypro.com\",\n",
    "        \"richard@shanbaypro.com\",\n",
    "        \"ehlana@shanbaypro.com\",\n",
    "        \"jack@shanbaypro.com\",\n",
    "        \"branden@shanbaypro.com\",\n",
    "        \"sloane@shanbaypro.com\",\n",
    "        \"martina@shanbaypro.com\",\n",
    "        \"yardley@shanbaypro.com\",\n",
    "    ],\n",
    "    \"theodore@shanbaypro.com\": [\n",
    "        \"ingrid@shanbaypro.com\",\n",
    "        \"bree@shanbaypro.com\",\n",
    "        \"susan@shanbaypro.com\",\n",
    "        \"sybil@shanbaypro.com\",\n",
    "        \"daniel@shanbaypro.com\",\n",
    "        \"kay@shanbaypro.com\",\n",
    "        \"preston@shanbaypro.com\",\n",
    "        \"shea@shanbaypro.com\",\n",
    "    ],\n",
    "    \"mohammad@shanbaypro.com\": [\n",
    "        \"quynn@shanbaypro.com\",\n",
    "        \"branden@shanbaypro.com\",\n",
    "        \"jared@shanbaypro.com\",\n",
    "        \"matthew@shanbaypro.com\",\n",
    "        \"ezekiel@shanbaypro.com\",\n",
    "    ],\n",
    "    \"susan@shanbaypro.com\": [\n",
    "        \"eldece@shanbaypro.com\",\n",
    "        \"george@shanbaypro.com\",\n",
    "        \"theodore@shanbaypro.com\",\n",
    "        \"martina@shanbaypro.com\",\n",
    "    ],\n",
    "    \"bree@shanbaypro.com\": [\n",
    "        \"alexandra@shanbaypro.com\",\n",
    "        \"jared@shanbaypro.com\",\n",
    "        \"theodore@shanbaypro.com\",\n",
    "        \"sahil@shanbaypro.com\",\n",
    "    ],\n",
    "    \"miriam@shanbaypro.com\": [\"graham@shanbaypro.com\", \"richard@shanbaypro.com\"],\n",
    "    \"demetrius@shanbaypro.com\": [\n",
    "        \"jayesh@shanbaypro.com\",\n",
    "        \"daria@shanbaypro.com\",\n",
    "        \"mufutau@shanbaypro.com\",\n",
    "        \"adam@shanbaypro.com\",\n",
    "    ],\n",
    "    \"martin@shanbaypro.com\": [\n",
    "        \"ruth@shanbaypro.com\",\n",
    "        \"cadman@shanbaypro.com\",\n",
    "        \"ehlana@shanbaypro.com\",\n",
    "    ],\n",
    "    \"elton@shanbaypro.com\": [\n",
    "        \"lamar@shanbaypro.com\",\n",
    "        \"richard@shanbaypro.com\",\n",
    "        \"zenaida@shanbaypro.com\",\n",
    "        \"adam@shanbaypro.com\",\n",
    "        \"yardley@shanbaypro.com\",\n",
    "    ],\n",
    "    \"may@shanbaypro.com\": [\n",
    "        \"naomi@shanbaypro.com\",\n",
    "        \"tatiana@shanbaypro.com\",\n",
    "        \"cassady@shanbaypro.com\",\n",
    "    ],\n",
    "    \"holmes@shanbaypro.com\": [\n",
    "        \"nomlanga@shanbaypro.com\",\n",
    "        \"lev@shanbaypro.com\",\n",
    "        \"hedwig@shanbaypro.com\",\n",
    "        \"ruth@shanbaypro.com\",\n",
    "        \"zephania@shanbaypro.com\",\n",
    "        \"george@shanbaypro.com\",\n",
    "    ],\n",
    "    \"rama@shanbaypro.com\": [\n",
    "        \"yardley@shanbaypro.com\",\n",
    "        \"ingrid@shanbaypro.com\",\n",
    "        \"graham@shanbaypro.com\",\n",
    "        \"francesca@shanbaypro.com\",\n",
    "        \"dolan@shanbaypro.com\",\n",
    "        \"shea@shanbaypro.com\",\n",
    "    ],\n",
    "    \"hoyt@shanbaypro.com\": [\n",
    "        \"orlando@shanbaypro.com\",\n",
    "        \"martina@shanbaypro.com\",\n",
    "        \"ruth@shanbaypro.com\",\n",
    "        \"carol@shanbaypro.com\",\n",
    "        \"ella@shanbaypro.com\",\n",
    "        \"hamza@shanbaypro.com\",\n",
    "    ],\n",
    "    \"zeus@shanbaypro.com\": [\n",
    "        \"josiah@shanbaypro.com\",\n",
    "        \"ezekiel@shanbaypro.com\",\n",
    "        \"nomlanga@shanbaypro.com\",\n",
    "    ],\n",
    "    \"hyatt@shanbaypro.com\": [\n",
    "        \"quynn@shanbaypro.com\",\n",
    "        \"raja@shanbaypro.com\",\n",
    "        \"joshua@shanbaypro.com\",\n",
    "        \"naomi@shanbaypro.com\",\n",
    "    ],\n",
    "    \"karina@shanbaypro.com\": [\n",
    "        \"naomi@shanbaypro.com\",\n",
    "        \"ruth@shanbaypro.com\",\n",
    "        \"branden@shanbaypro.com\",\n",
    "        \"moses@shanbaypro.com\",\n",
    "        \"hedda@shanbaypro.com\",\n",
    "        \"adam@shanbaypro.com\",\n",
    "        \"burton@shanbaypro.com\",\n",
    "    ],\n",
    "    \"sonia@shanbaypro.com\": [\n",
    "        \"mason@shanbaypro.com\",\n",
    "        \"preston@shanbaypro.com\",\n",
    "        \"jackson@shanbaypro.com\",\n",
    "    ],\n",
    "    \"cadman@shanbaypro.com\": [\"martin@shanbaypro.com\", \"quynn@shanbaypro.com\"],\n",
    "    \"orlando@shanbaypro.com\": [\n",
    "        \"quynn@shanbaypro.com\",\n",
    "        \"hoyt@shanbaypro.com\",\n",
    "        \"yardley@shanbaypro.com\",\n",
    "    ],\n",
    "    \"ella@shanbaypro.com\": [\n",
    "        \"sahil@shanbaypro.com\",\n",
    "        \"hoyt@shanbaypro.com\",\n",
    "        \"eldece@shanbaypro.com\",\n",
    "        \"hunter@shanbaypro.com\",\n",
    "        \"shea@shanbaypro.com\",\n",
    "        \"kiann@shanbaypro.com\",\n",
    "    ],\n",
    "    \"byron@shanbaypro.com\": [\n",
    "        \"zenaida@shanbaypro.com\",\n",
    "        \"ingrid@shanbaypro.com\",\n",
    "        \"eshan@shanbaypro.com\",\n",
    "        \"stone@shanbaypro.com\",\n",
    "        \"neil@shanbaypro.com\",\n",
    "        \"jared@shanbaypro.com\",\n",
    "    ],\n",
    "    \"ursula@shanbaypro.com\": [\n",
    "        \"phoebe@shanbaypro.com\",\n",
    "        \"ehlana@shanbaypro.com\",\n",
    "        \"zephania@shanbaypro.com\",\n",
    "    ],\n",
    "    \"oliver@shanbaypro.com\": [\n",
    "        \"jackson@shanbaypro.com\",\n",
    "        \"zenaida@shanbaypro.com\",\n",
    "        \"colton@shanbaypro.com\",\n",
    "        \"carol@shanbaypro.com\",\n",
    "    ],\n",
    "    \"maite@shanbaypro.com\": [\n",
    "        \"colton@shanbaypro.com\",\n",
    "        \"moses@shanbaypro.com\",\n",
    "        \"graham@shanbaypro.com\",\n",
    "        \"joshua@shanbaypro.com\",\n",
    "        \"zephania@shanbaypro.com\",\n",
    "        \"daniel@shanbaypro.com\",\n",
    "    ],\n",
    "    \"branden@shanbaypro.com\": [\n",
    "        \"sage@shanbaypro.com\",\n",
    "        \"jared@shanbaypro.com\",\n",
    "        \"mohammad@shanbaypro.com\",\n",
    "        \"karina@shanbaypro.com\",\n",
    "        \"sybil@shanbaypro.com\",\n",
    "        \"francesca@shanbaypro.com\",\n",
    "    ],\n",
    "    \"sybil@shanbaypro.com\": [\n",
    "        \"daniel@shanbaypro.com\",\n",
    "        \"branden@shanbaypro.com\",\n",
    "        \"theodore@shanbaypro.com\",\n",
    "        \"alexandra@shanbaypro.com\",\n",
    "        \"richard@shanbaypro.com\",\n",
    "    ],\n",
    "    \"sloane@shanbaypro.com\": [\n",
    "        \"sage@shanbaypro.com\",\n",
    "        \"francesca@shanbaypro.com\",\n",
    "        \"martina@shanbaypro.com\",\n",
    "        \"adam@shanbaypro.com\",\n",
    "        \"simone@shanbaypro.com\",\n",
    "    ],\n",
    "    \"cheryl@shanbaypro.com\": [\n",
    "        \"cade@shanbaypro.com\",\n",
    "        \"richard@shanbaypro.com\",\n",
    "        \"daria@shanbaypro.com\",\n",
    "        \"aladdin@shanbaypro.com\",\n",
    "        \"francesca@shanbaypro.com\",\n",
    "        \"phoebe@shanbaypro.com\",\n",
    "        \"burton@shanbaypro.com\",\n",
    "        \"sahil@shanbaypro.com\",\n",
    "    ],\n",
    "    \"grady@shanbaypro.com\": [\n",
    "        \"cassady@shanbaypro.com\",\n",
    "        \"isaac@shanbaypro.com\",\n",
    "        \"raja@shanbaypro.com\",\n",
    "    ],\n",
    "    \"zephania@shanbaypro.com\": [\n",
    "        \"ursula@shanbaypro.com\",\n",
    "        \"maite@shanbaypro.com\",\n",
    "        \"holmes@shanbaypro.com\",\n",
    "        \"curran@shanbaypro.com\",\n",
    "        \"kiann@shanbaypro.com\",\n",
    "    ],\n",
    "    \"george@shanbaypro.com\": [\n",
    "        \"aladdin@shanbaypro.com\",\n",
    "        \"holmes@shanbaypro.com\",\n",
    "        \"christine@shanbaypro.com\",\n",
    "        \"francesca@shanbaypro.com\",\n",
    "        \"shaine@shanbaypro.com\",\n",
    "        \"susan@shanbaypro.com\",\n",
    "        \"amos@shanbaypro.com\",\n",
    "    ],\n",
    "    \"paki@shanbaypro.com\": [\n",
    "        \"aladdin@shanbaypro.com\",\n",
    "        \"phoebe@shanbaypro.com\",\n",
    "        \"daniel@shanbaypro.com\",\n",
    "        \"simone@shanbaypro.com\",\n",
    "        \"chao@shanbaypro.com\",\n",
    "    ],\n",
    "    \"martina@shanbaypro.com\": [\n",
    "        \"sloane@shanbaypro.com\",\n",
    "        \"shaine@shanbaypro.com\",\n",
    "        \"susan@shanbaypro.com\",\n",
    "        \"sage@shanbaypro.com\",\n",
    "        \"hoyt@shanbaypro.com\",\n",
    "    ],\n",
    "    \"joshua@shanbaypro.com\": [\n",
    "        \"hyatt@shanbaypro.com\",\n",
    "        \"cassady@shanbaypro.com\",\n",
    "        \"maite@shanbaypro.com\",\n",
    "    ],\n",
    "    \"daniel@shanbaypro.com\": [\n",
    "        \"paki@shanbaypro.com\",\n",
    "        \"adam@shanbaypro.com\",\n",
    "        \"maite@shanbaypro.com\",\n",
    "        \"theodore@shanbaypro.com\",\n",
    "        \"neil@shanbaypro.com\",\n",
    "        \"tatum@shanbaypro.com\",\n",
    "        \"sybil@shanbaypro.com\",\n",
    "        \"francesca@shanbaypro.com\",\n",
    "        \"stone@shanbaypro.com\",\n",
    "    ],\n",
    "    \"colton@shanbaypro.com\": [\n",
    "        \"burton@shanbaypro.com\",\n",
    "        \"eldece@shanbaypro.com\",\n",
    "        \"shaine@shanbaypro.com\",\n",
    "        \"lamar@shanbaypro.com\",\n",
    "        \"oliver@shanbaypro.com\",\n",
    "        \"maite@shanbaypro.com\",\n",
    "        \"isaac@shanbaypro.com\",\n",
    "        \"hamza@shanbaypro.com\",\n",
    "    ],\n",
    "    \"richard@shanbaypro.com\": [\n",
    "        \"sybil@shanbaypro.com\",\n",
    "        \"shaine@shanbaypro.com\",\n",
    "        \"miriam@shanbaypro.com\",\n",
    "        \"jayesh@shanbaypro.com\",\n",
    "        \"sage@shanbaypro.com\",\n",
    "        \"elton@shanbaypro.com\",\n",
    "        \"cheryl@shanbaypro.com\",\n",
    "        \"mufutau@shanbaypro.com\",\n",
    "        \"cheng@shanbaypro.com\",\n",
    "        \"sahil@shanbaypro.com\",\n",
    "    ],\n",
    "    \"alexandra@shanbaypro.com\": [\n",
    "        \"sybil@shanbaypro.com\",\n",
    "        \"moses@shanbaypro.com\",\n",
    "        \"bree@shanbaypro.com\",\n",
    "        \"cade@shanbaypro.com\",\n",
    "    ],\n",
    "    \"hunter@shanbaypro.com\": [\n",
    "        \"tatum@shanbaypro.com\",\n",
    "        \"ella@shanbaypro.com\",\n",
    "        \"cassady@shanbaypro.com\",\n",
    "    ],\n",
    "    \"francesca@shanbaypro.com\": [\n",
    "        \"branden@shanbaypro.com\",\n",
    "        \"daniel@shanbaypro.com\",\n",
    "        \"rama@shanbaypro.com\",\n",
    "        \"cheryl@shanbaypro.com\",\n",
    "        \"sloane@shanbaypro.com\",\n",
    "        \"george@shanbaypro.com\",\n",
    "    ],\n",
    "    \"hedda@shanbaypro.com\": [\n",
    "        \"kiann@shanbaypro.com\",\n",
    "        \"karina@shanbaypro.com\",\n",
    "        \"josiah@shanbaypro.com\",\n",
    "        \"amanda@shanbaypro.com\",\n",
    "        \"lamar@shanbaypro.com\",\n",
    "    ],\n",
    "    \"mufutau@shanbaypro.com\": [\n",
    "        \"demetrius@shanbaypro.com\",\n",
    "        \"christine@shanbaypro.com\",\n",
    "        \"richard@shanbaypro.com\",\n",
    "        \"hamza@shanbaypro.com\",\n",
    "    ],\n",
    "    \"adam@shanbaypro.com\": [\n",
    "        \"karina@shanbaypro.com\",\n",
    "        \"sloane@shanbaypro.com\",\n",
    "        \"demetrius@shanbaypro.com\",\n",
    "        \"elton@shanbaypro.com\",\n",
    "        \"quynn@shanbaypro.com\",\n",
    "        \"kamal@shanbaypro.com\",\n",
    "        \"daniel@shanbaypro.com\",\n",
    "        \"jayesh@shanbaypro.com\",\n",
    "    ],\n",
    "    \"simone@shanbaypro.com\": [\n",
    "        \"hamza@shanbaypro.com\",\n",
    "        \"zenaida@shanbaypro.com\",\n",
    "        \"paki@shanbaypro.com\",\n",
    "        \"sloane@shanbaypro.com\",\n",
    "        \"neil@shanbaypro.com\",\n",
    "        \"jerry@shanbaypro.com\",\n",
    "    ],\n",
    "    \"dolan@shanbaypro.com\": [\"rama@shanbaypro.com\", \"raya@shanbaypro.com\"],\n",
    "    \"raja@shanbaypro.com\": [\n",
    "        \"amos@shanbaypro.com\",\n",
    "        \"ruth@shanbaypro.com\",\n",
    "        \"hyatt@shanbaypro.com\",\n",
    "        \"grady@shanbaypro.com\",\n",
    "    ],\n",
    "    \"jerry@shanbaypro.com\": [\n",
    "        \"simone@shanbaypro.com\",\n",
    "        \"ehlana@shanbaypro.com\",\n",
    "        \"burton@shanbaypro.com\",\n",
    "    ],\n",
    "    \"kay@shanbaypro.com\": [\n",
    "        \"moses@shanbaypro.com\",\n",
    "        \"theodore@shanbaypro.com\",\n",
    "        \"isaac@shanbaypro.com\",\n",
    "    ],\n",
    "    \"curran@shanbaypro.com\": [\"hedwig@shanbaypro.com\", \"zephania@shanbaypro.com\"],\n",
    "    \"preston@shanbaypro.com\": [\n",
    "        \"matthew@shanbaypro.com\",\n",
    "        \"isaac@shanbaypro.com\",\n",
    "        \"theodore@shanbaypro.com\",\n",
    "        \"sonia@shanbaypro.com\",\n",
    "    ],\n",
    "    \"yardley@shanbaypro.com\": [\n",
    "        \"elton@shanbaypro.com\",\n",
    "        \"sage@shanbaypro.com\",\n",
    "        \"orlando@shanbaypro.com\",\n",
    "        \"quynn@shanbaypro.com\",\n",
    "        \"rama@shanbaypro.com\",\n",
    "    ],\n",
    "    \"ehlana@shanbaypro.com\": [\n",
    "        \"martin@shanbaypro.com\",\n",
    "        \"jackson@shanbaypro.com\",\n",
    "        \"sage@shanbaypro.com\",\n",
    "        \"ursula@shanbaypro.com\",\n",
    "        \"jerry@shanbaypro.com\",\n",
    "    ],\n",
    "    \"amanda@shanbaypro.com\": [\n",
    "        \"nomlanga@shanbaypro.com\",\n",
    "        \"moses@shanbaypro.com\",\n",
    "        \"hedda@shanbaypro.com\",\n",
    "        \"christine@shanbaypro.com\",\n",
    "        \"shaine@shanbaypro.com\",\n",
    "        \"zenaida@shanbaypro.com\",\n",
    "        \"tatum@shanbaypro.com\",\n",
    "    ],\n",
    "    \"dustin@shanbaypro.com\": [\n",
    "        \"eshan@shanbaypro.com\",\n",
    "        \"tatum@shanbaypro.com\",\n",
    "        \"isaac@shanbaypro.com\",\n",
    "    ],\n",
    "    \"christine@shanbaypro.com\": [\n",
    "        \"isaac@shanbaypro.com\",\n",
    "        \"eshan@shanbaypro.com\",\n",
    "        \"mason@shanbaypro.com\",\n",
    "        \"george@shanbaypro.com\",\n",
    "        \"mufutau@shanbaypro.com\",\n",
    "        \"amanda@shanbaypro.com\",\n",
    "        \"lev@shanbaypro.com\",\n",
    "    ],\n",
    "    \"isaac@shanbaypro.com\": [\n",
    "        \"dustin@shanbaypro.com\",\n",
    "        \"kay@shanbaypro.com\",\n",
    "        \"colton@shanbaypro.com\",\n",
    "        \"grady@shanbaypro.com\",\n",
    "        \"preston@shanbaypro.com\",\n",
    "        \"christine@shanbaypro.com\",\n",
    "    ],\n",
    "    \"tatiana@shanbaypro.com\": [\n",
    "        \"amos@shanbaypro.com\",\n",
    "        \"cheng@shanbaypro.com\",\n",
    "        \"ingrid@shanbaypro.com\",\n",
    "        \"may@shanbaypro.com\",\n",
    "        \"kim@shanbaypro.com\",\n",
    "    ],\n",
    "    \"lev@shanbaypro.com\": [\n",
    "        \"cheng@shanbaypro.com\",\n",
    "        \"christine@shanbaypro.com\",\n",
    "        \"carol@shanbaypro.com\",\n",
    "        \"cassady@shanbaypro.com\",\n",
    "        \"shaine@shanbaypro.com\",\n",
    "        \"holmes@shanbaypro.com\",\n",
    "    ],\n",
    "    \"lamar@shanbaypro.com\": [\n",
    "        \"hedda@shanbaypro.com\",\n",
    "        \"elton@shanbaypro.com\",\n",
    "        \"colton@shanbaypro.com\",\n",
    "    ],\n",
    "    \"phoebe@shanbaypro.com\": [\n",
    "        \"cheryl@shanbaypro.com\",\n",
    "        \"moses@shanbaypro.com\",\n",
    "        \"ursula@shanbaypro.com\",\n",
    "        \"paki@shanbaypro.com\",\n",
    "    ],\n",
    "    \"ezekiel@shanbaypro.com\": [\"zeus@shanbaypro.com\", \"mohammad@shanbaypro.com\"],\n",
    "    \"hedwig@shanbaypro.com\": [\n",
    "        \"kiann@shanbaypro.com\",\n",
    "        \"alexander@shanbaypro.com\",\n",
    "        \"holmes@shanbaypro.com\",\n",
    "        \"curran@shanbaypro.com\",\n",
    "    ],\n",
    "    \"cade@shanbaypro.com\": [\"alexandra@shanbaypro.com\", \"cheryl@shanbaypro.com\"],\n",
    "    \"burton@shanbaypro.com\": [\n",
    "        \"cheryl@shanbaypro.com\",\n",
    "        \"karina@shanbaypro.com\",\n",
    "        \"ruth@shanbaypro.com\",\n",
    "        \"colton@shanbaypro.com\",\n",
    "        \"jerry@shanbaypro.com\",\n",
    "        \"jayesh@shanbaypro.com\",\n",
    "        \"kim@shanbaypro.com\",\n",
    "    ],\n",
    "    \"amos@shanbaypro.com\": [\n",
    "        \"george@shanbaypro.com\",\n",
    "        \"raja@shanbaypro.com\",\n",
    "        \"tatiana@shanbaypro.com\",\n",
    "        \"stone@shanbaypro.com\",\n",
    "    ],\n",
    "    \"shea@shanbaypro.com\": [\n",
    "        \"theodore@shanbaypro.com\",\n",
    "        \"rama@shanbaypro.com\",\n",
    "        \"ella@shanbaypro.com\",\n",
    "        \"daria@shanbaypro.com\",\n",
    "    ],\n",
    "    \"stone@shanbaypro.com\": [\n",
    "        \"amos@shanbaypro.com\",\n",
    "        \"daniel@shanbaypro.com\",\n",
    "        \"daria@shanbaypro.com\",\n",
    "        \"kamal@shanbaypro.com\",\n",
    "        \"byron@shanbaypro.com\",\n",
    "        \"kiann@shanbaypro.com\",\n",
    "    ],\n",
    "    \"cassady@shanbaypro.com\": [\n",
    "        \"may@shanbaypro.com\",\n",
    "        \"kiann@shanbaypro.com\",\n",
    "        \"naomi@shanbaypro.com\",\n",
    "        \"grady@shanbaypro.com\",\n",
    "        \"joshua@shanbaypro.com\",\n",
    "        \"hunter@shanbaypro.com\",\n",
    "        \"lev@shanbaypro.com\",\n",
    "    ],\n",
    "    \"nomlanga@shanbaypro.com\": [\n",
    "        \"aladdin@shanbaypro.com\",\n",
    "        \"alexander@shanbaypro.com\",\n",
    "        \"zeus@shanbaypro.com\",\n",
    "        \"holmes@shanbaypro.com\",\n",
    "        \"amanda@shanbaypro.com\",\n",
    "        \"raya@shanbaypro.com\",\n",
    "    ],\n",
    "    \"raya@shanbaypro.com\": [\"nomlanga@shanbaypro.com\", \"dolan@shanbaypro.com\"],\n",
    "    \"jayesh@shanbaypro.com\": [\n",
    "        \"adam@shanbaypro.com\",\n",
    "        \"burton@shanbaypro.com\",\n",
    "        \"graham@shanbaypro.com\",\n",
    "        \"demetrius@shanbaypro.com\",\n",
    "        \"richard@shanbaypro.com\",\n",
    "    ],\n",
    "    \"kim@shanbaypro.com\": [\n",
    "        \"burton@shanbaypro.com\",\n",
    "        \"tatiana@shanbaypro.com\",\n",
    "        \"aladdin@shanbaypro.com\",\n",
    "        \"tatum@shanbaypro.com\",\n",
    "    ],\n",
    "    \"chao@shanbaypro.com\": [\"paki@shanbaypro.com\"],\n",
    "    \"eshan@shanbaypro.com\": [\n",
    "        \"byron@shanbaypro.com\",\n",
    "        \"mason@shanbaypro.com\",\n",
    "        \"ingrid@shanbaypro.com\",\n",
    "        \"sage@shanbaypro.com\",\n",
    "        \"dustin@shanbaypro.com\",\n",
    "        \"christine@shanbaypro.com\",\n",
    "    ],\n",
    "    \"kiann@shanbaypro.com\": [\n",
    "        \"ella@shanbaypro.com\",\n",
    "        \"zephania@shanbaypro.com\",\n",
    "        \"moses@shanbaypro.com\",\n",
    "        \"stone@shanbaypro.com\",\n",
    "        \"daria@shanbaypro.com\",\n",
    "        \"hedda@shanbaypro.com\",\n",
    "        \"hedwig@shanbaypro.com\",\n",
    "        \"cassady@shanbaypro.com\",\n",
    "    ],\n",
    "    \"eldece@shanbaypro.com\": [\n",
    "        \"hamza@shanbaypro.com\",\n",
    "        \"matthew@shanbaypro.com\",\n",
    "        \"susan@shanbaypro.com\",\n",
    "        \"ella@shanbaypro.com\",\n",
    "        \"colton@shanbaypro.com\",\n",
    "    ],\n",
    "    \"hamza@shanbaypro.com\": [\n",
    "        \"colton@shanbaypro.com\",\n",
    "        \"hoyt@shanbaypro.com\",\n",
    "        \"mufutau@shanbaypro.com\",\n",
    "        \"simone@shanbaypro.com\",\n",
    "        \"eldece@shanbaypro.com\",\n",
    "    ],\n",
    "    \"cheng@shanbaypro.com\": [\n",
    "        \"neil@shanbaypro.com\",\n",
    "        \"richard@shanbaypro.com\",\n",
    "        \"alexander@shanbaypro.com\",\n",
    "        \"tatiana@shanbaypro.com\",\n",
    "        \"lev@shanbaypro.com\",\n",
    "    ],\n",
    "    \"sahil@shanbaypro.com\": [\n",
    "        \"richard@shanbaypro.com\",\n",
    "        \"daria@shanbaypro.com\",\n",
    "        \"bree@shanbaypro.com\",\n",
    "        \"cheryl@shanbaypro.com\",\n",
    "        \"ella@shanbaypro.com\",\n",
    "    ],\n",
    "}\n",
    "\n",
    "\n",
    "def find_shortest_path(graph, start, end, shortestLength=-1, path=None):\n",
    "    if path == None:\n",
    "        path = []\n",
    "    path = path + [start]\n",
    "    # 如果函数的 start 与 end 是同一个人\n",
    "    # 则返回 path\n",
    "    if start == end:\n",
    "        return path\n",
    "\n",
    "    shortest = None\n",
    "    for node in graph[start]:\n",
    "        # 如果正在找的人并不在path中\n",
    "        if node not in path:\n",
    "            if shortestLength == -1 or len(path) < (shortestLength - 1):\n",
    "                # newpath 意味着在上一个成员中继续搜索目标\n",
    "                # 重新调用函数 find_shortest_path\n",
    "                newpath = find_shortest_path(graph, node, end, shortestLength, path)\n",
    "                if newpath:\n",
    "                    # 如果 newpath 的长度小于现有 shortest 的长度\n",
    "                    if not shortest or len(newpath) < len(shortest):\n",
    "                        # 将 newpath 取代 shortest的现有赋值\n",
    "                        # shortestLength 为 newpath 的长度\n",
    "                        shortest = newpath\n",
    "                        shortestLength = len(newpath)\n",
    "    return shortest\n",
    "\n",
    "member1 = \"hamza@shanbaypro.com\"\n",
    "member2 = \"holmes@shanbaypro.com\"\n",
    "print(\"成员 1: \" + member1)\n",
    "print(\"成员 2: \" + member2)\n",
    "print(\"找寻最短路径... \")\n",
    "path = find_shortest_path(sender_receiver, member1, member2)\n",
    "print(\"邮件链条: \" + \"{}层关系\".format(len(path) - 1))\n",
    "print(path)"
   ]
  },
  {
   "cell_type": "code",
   "execution_count": 87,
   "metadata": {},
   "outputs": [],
   "source": [
    "# 14.3 自动化办公（3）"
   ]
  },
  {
   "cell_type": "code",
   "execution_count": 88,
   "metadata": {},
   "outputs": [
    {
     "data": {
      "text/plain": [
       "'\\n写入文件：我们既然学会了如何读取文件，也学会了如何从文件中对数据进行操作，那么接下来就是将我们程序的运行结果写入新的文本文件中。 在 python 中，我们这样写入文件：\\n\\nwith open(\\'create.txt\\', \\'w\\') as create_file:\\n  create_file.write(\"新的文件！\")\\n  \\n在代码中，\\'w\\' 代表需要写入文件，运行这段代码后，程序会创建一个名为 create.txt 的文本文件。在文件内，写入的内容是： \"新的文件！\"。\\n'"
      ]
     },
     "execution_count": 88,
     "metadata": {},
     "output_type": "execute_result"
    }
   ],
   "source": [
    "\"\"\"\n",
    "写入文件：我们既然学会了如何读取文件，也学会了如何从文件中对数据进行操作，那么接下来就是将我们程序的运行结果写入新的文本文件中。 在 python 中，我们这样写入文件：\n",
    "\n",
    "with open('create.txt', 'w') as create_file:\n",
    "  create_file.write(\"新的文件！\")\n",
    "  \n",
    "在代码中，'w' 代表需要写入文件，运行这段代码后，程序会创建一个名为 create.txt 的文本文件。在文件内，写入的内容是： \"新的文件！\"。\n",
    "\"\"\""
   ]
  },
  {
   "cell_type": "code",
   "execution_count": 89,
   "metadata": {},
   "outputs": [],
   "source": [
    "# 请在注释行…处填入代码。\n",
    "# 创建文件 new_file.txt\n",
    "# 写入：又大又圆的碗\n",
    "with open('new_file.txt', 'w') as new_file:\n",
    "  new_file.write('又大又圆的碗')"
   ]
  },
  {
   "cell_type": "code",
   "execution_count": 90,
   "metadata": {},
   "outputs": [
    {
     "data": {
      "text/plain": [
       "'\\n向文件内添加新内容：有时，我们的文件里已经有内容了，我们在往文件里写入内容时，并不想覆盖旧内容。这时，我们可以：\\n\\n# create.txt 原先内容：新的文件！\\nwith open(\\'create.txt\\', \\'a\\') as create:\\n  create.write(\"再加一句！\")\\n在上方代码中，我们将 \\'w\\' 替换为 \\'a\\'，此处的 a 是单词 append 的首字母。运行完程序后，我们会发现 create.txt 在之前的 \"新的文件！\" 之后添加一句 \"再加一句！\"\\n'"
      ]
     },
     "execution_count": 90,
     "metadata": {},
     "output_type": "execute_result"
    }
   ],
   "source": [
    "\"\"\"\n",
    "向文件内添加新内容：有时，我们的文件里已经有内容了，我们在往文件里写入内容时，并不想覆盖旧内容。这时，我们可以：\n",
    "\n",
    "# create.txt 原先内容：新的文件！\n",
    "with open('create.txt', 'a') as create:\n",
    "  create.write(\"再加一句！\")\n",
    "在上方代码中，我们将 'w' 替换为 'a'，此处的 a 是单词 append 的首字母。运行完程序后，我们会发现 create.txt 在之前的 \"新的文件！\" 之后添加一句 \"再加一句！\"\n",
    "\"\"\""
   ]
  },
  {
   "cell_type": "code",
   "execution_count": 91,
   "metadata": {},
   "outputs": [],
   "source": [
    "# 请补全注释行…处代码。\n",
    "# 在new_file.txt 内添加：又长又宽的面\n",
    "# 不可以覆盖原先的内容\n",
    "with open('new_file.txt', 'a') as new_file:\n",
    "  new_file.write(\"又长又宽的面\")"
   ]
  },
  {
   "cell_type": "code",
   "execution_count": 92,
   "metadata": {},
   "outputs": [
    {
     "data": {
      "text/plain": [
       "'\\nwith 的作用：在学习读取与写入文件的代码时，我们都用到了关键字 with，它的作用是什么呢？我们来比较两段代码：\\n\\n# create.txt 原先内容：新的文件！\\nwith open(\\'create.txt\\', \\'a\\') as create:\\n  create.write(\"再加一句！\")\\n  \\n这是我们前一节课学到的添加新内容的方法，接着我们看：\\n\\ncreate = open(\\'create.txt\\', \\'a\\')\\n\\ncreate.write(\"再加一句！\")\\n\\ncreate.close()\\n\\n两段代码起着同样的作用，但是后者多了一个 .close()，它告诉计算机关闭该文件。这一步骤是必要的，但是被自动包含在了对 with 关键字的使用中。我们用 with 来读取或写入文件会让代码更简洁。\\n'"
      ]
     },
     "execution_count": 92,
     "metadata": {},
     "output_type": "execute_result"
    }
   ],
   "source": [
    "\"\"\"\n",
    "with 的作用：在学习读取与写入文件的代码时，我们都用到了关键字 with，它的作用是什么呢？我们来比较两段代码：\n",
    "\n",
    "# create.txt 原先内容：新的文件！\n",
    "with open('create.txt', 'a') as create:\n",
    "  create.write(\"再加一句！\")\n",
    "  \n",
    "这是我们前一节课学到的添加新内容的方法，接着我们看：\n",
    "\n",
    "create = open('create.txt', 'a')\n",
    "\n",
    "create.write(\"再加一句！\")\n",
    "\n",
    "create.close()\n",
    "\n",
    "两段代码起着同样的作用，但是后者多了一个 .close()，它告诉计算机关闭该文件。这一步骤是必要的，但是被自动包含在了对 with 关键字的使用中。我们用 with 来读取或写入文件会让代码更简洁。\n",
    "\"\"\""
   ]
  },
  {
   "cell_type": "code",
   "execution_count": 94,
   "metadata": {},
   "outputs": [
    {
     "name": "stdout",
     "output_type": "stream",
     "text": [
      "Talk is cheap.\n",
      "\n"
     ]
    }
   ],
   "source": [
    "# 请参照讲解，将编辑区代码转变为用 with 关键字的模式来操作文件。\n",
    "with open('/Users/XUMIAO/Desktop/read_this_file.txt') as read_this_file:\n",
    "\n",
    "  first = read_this_file.readline()\n",
    "  second = read_this_file.readline()\n",
    "\n",
    "  print(first)"
   ]
  },
  {
   "cell_type": "code",
   "execution_count": null,
   "metadata": {},
   "outputs": [],
   "source": [
    "#下方两段代码的区别是：\n",
    "\n",
    "#代码1\n",
    "with open('create.txt', 'w') as create_file:\n",
    "  create_file.write(\"新的文件！\")\n",
    "\n",
    "#代码2\n",
    "with open('create.txt', 'a') as create_file:\n",
    "  create_file.write(\"新的文件！\")\n",
    "\n",
    "#'w' 代表写入，'a'代表在原先内容添加新内容"
   ]
  },
  {
   "cell_type": "code",
   "execution_count": 95,
   "metadata": {},
   "outputs": [
    {
     "name": "stdout",
     "output_type": "stream",
     "text": [
      "成员 1: sahil@shanbaypro.com\n",
      "成员 2: holmes@shanbaypro.com\n",
      "找寻最短路径... \n",
      "邮件链条: 4层关系\n",
      "['sahil@shanbaypro.com', 'richard@shanbaypro.com', 'shaine@shanbaypro.com', 'george@shanbaypro.com', 'holmes@shanbaypro.com']\n",
      "--------\n",
      "将结果写入 email_network.txt\n",
      "写入成功！\n"
     ]
    }
   ],
   "source": [
    "\"\"\"\n",
    "我们可以在近500封邮件往来记录中迅速找到两个成员之间的邮件链条。现在，我们希望将每次运行的结果写入一个文件里。这样就可以将记录保存了！\n",
    "\"\"\"\n",
    "with open('/Users/XUMIAO/Desktop/shanbaypro_email.txt') as email_doc:\n",
    "  mails = email_doc.read()\n",
    "  email_split = mails.split(\"\\n\")\n",
    "\n",
    "sender_receiver = {}\n",
    "for email in email_split:\n",
    "    sender = email.split(\"sender:\")[1].split(\" \")[0]\n",
    "    receiver = email.split(\"receiver:\")[1]\n",
    "    if sender not in sender_receiver:\n",
    "        sender_receiver[sender] = []\n",
    "        sender_receiver[sender].append(receiver)\n",
    "    else:\n",
    "        if receiver in sender_receiver[sender]:\n",
    "            continue\n",
    "        else:\n",
    "            sender_receiver[sender].append(receiver)\n",
    "\n",
    "def find_shortest_path(graph, start, end, shortestLength=-1, path=[]):\n",
    "  path = path + [start]\n",
    "  if start == end:\n",
    "    return path\n",
    "\n",
    "  shortest = None\n",
    "  for node in graph[start]:\n",
    "    if node not in path:\n",
    "      if shortestLength==-1 or len(path)<(shortestLength-1):\n",
    "        newpath = find_shortest_path(graph, node, end, shortestLength, path)\n",
    "        if newpath:\n",
    "          if not shortest or len(newpath) < len(shortest):\n",
    "            shortest = newpath\n",
    "            shortestLength = len(newpath)  \n",
    "  return shortest        \n",
    "        \n",
    "member1=\"sahil@shanbaypro.com\"\n",
    "member2=\"holmes@shanbaypro.com\"\n",
    "print(\"成员 1: \" + member1)\n",
    "print(\"成员 2: \" + member2)\n",
    "print(\"找寻最短路径... \")\n",
    "path=find_shortest_path(sender_receiver,member1,member2)\n",
    "print(\"邮件链条: \" + \"{}层关系\".format(len(path)-1))\n",
    "print(path)\n",
    "\n",
    "print(\"--------\")\n",
    "print(\"将结果写入 email_network.txt\")\n",
    "\n",
    "# 将结果写入文件 email_network.txt\n",
    "with open('email_network.txt', 'w') as network:\n",
    "  net = \"\"\n",
    "  for node in path:\n",
    "    net += node\n",
    "    net += \"->\"\n",
    "  network.write(net)\n",
    "\n",
    "print(\"写入成功！\")"
   ]
  },
  {
   "cell_type": "code",
   "execution_count": 96,
   "metadata": {},
   "outputs": [],
   "source": [
    "# 15.1 人工智能入门（1）"
   ]
  },
  {
   "cell_type": "code",
   "execution_count": 97,
   "metadata": {},
   "outputs": [
    {
     "data": {
      "text/plain": [
       "'\\n介绍：随着阿尔法狗战胜世界围棋第一人柯洁，人工智能及其背后的数据科学再一次吸引全世界的目光。在数据科学领域，人工智能是一个相对宽泛的概念。它主要指的是运用机器学习的方法，让计算机从数据集中获得“智慧”，完成相应的目标任务。它的优势集中于两点：替代人类工作，比如识别图片；或者甚至比人类做得更好，比如下围棋。刚才提及的阿尔法狗，它是机器学习的子领域——深度学习神经网络的应用。在本课程的人工智能入门章节中，我们主要学习线性回归和神经元两部分知识，敲开人工智能的大门。\\n'"
      ]
     },
     "execution_count": 97,
     "metadata": {},
     "output_type": "execute_result"
    }
   ],
   "source": [
    "\"\"\"\n",
    "介绍：随着阿尔法狗战胜世界围棋第一人柯洁，人工智能及其背后的数据科学再一次吸引全世界的目光。在数据科学领域，人工智能是一个相对宽泛的概念。它主要指的是运用机器学习的方法，让计算机从数据集中获得“智慧”，完成相应的目标任务。它的优势集中于两点：替代人类工作，比如识别图片；或者甚至比人类做得更好，比如下围棋。刚才提及的阿尔法狗，它是机器学习的子领域——深度学习神经网络的应用。在本课程的人工智能入门章节中，我们主要学习线性回归和神经元两部分知识，敲开人工智能的大门。\n",
    "\"\"\""
   ]
  },
  {
   "cell_type": "code",
   "execution_count": 99,
   "metadata": {},
   "outputs": [
    {
     "name": "stdout",
     "output_type": "stream",
     "text": [
      "第1次迭代数据更新\n",
      "斜率0.0060748221975068534；截距0.0003030927397260282；误差32.38663817391555\n",
      "第2次迭代数据更新\n",
      "斜率0.0073955450139153575；截距0.0003857664746136928；误差31.18082744976018\n",
      "第3次迭代数据更新\n",
      "斜率0.007682075312176422；截距0.00042048551175470633；误差30.78829387018472\n",
      "第4次迭代数据更新\n",
      "斜率0.00774363066808955；截距0.00044476722997739227；误差30.570356383928797\n",
      "第5次迭代数据更新\n",
      "斜率0.007756245888136067；截距0.0004667730510425802；误差30.390631123634858\n",
      "第6次迭代数据更新\n",
      "斜率0.007758215065238083；截距0.00048827838832619046；误差30.219637549702078\n",
      "第7次迭代数据更新\n",
      "斜率0.0077578685834312315；截距0.0005096694617599902；误差30.050985759284426\n",
      "第8次迭代数据更新\n",
      "斜率0.007757018609827246；截距0.0005310302902274923；误差29.883289619577436\n",
      "第9次迭代数据更新\n",
      "斜率0.007756059357838361；截距0.0005523791526862409；误差29.71624808915754\n",
      "第10次迭代数据更新\n",
      "斜率0.007755076583407954；截距0.00057372002722347；误差29.54979546901984\n"
     ]
    },
    {
     "data": {
      "text/plain": [
       "(0.00057372002722347, 0.007755076583407954)"
      ]
     },
     "execution_count": 99,
     "metadata": {},
     "output_type": "execute_result"
    }
   ],
   "source": [
    "\"\"\"\n",
    "这是本次人工智能入门课需要完成的一个项目，我们通过房价和房屋面积数据建立一个简单的线性回归模型。通过运行程序，我们可以看到数据模型优化的过程。\n",
    "\"\"\"\n",
    "price = []\n",
    "size = []\n",
    "with open(\"/Users/XUMIAO/Desktop/price_size.txt\") as price_size:\n",
    "  data = price_size.readlines()\n",
    "  for d in data:\n",
    "    # 由于原始数据较大\n",
    "    # 为便于计算，将房价和面积均除以 10000\n",
    "    price.append(float(d.split(\" \")[0])/10000)\n",
    "    size.append(float(d.split(\" \")[1].split(\"\\n\")[0])/10000)\n",
    "def get_gradient_at_b(x, y, b, m):\n",
    "  N = len(x)\n",
    "  diff = 0\n",
    "  for i in range(N):\n",
    "    x_val = x[i]\n",
    "    y_val = y[i]\n",
    "    diff += (y_val - ((m * x_val) + b))\n",
    "  b_gradient = -(2/N) * diff  \n",
    "  return b_gradient\n",
    "\n",
    "def get_gradient_at_m(x, y, b, m):\n",
    "  N = len(x)\n",
    "  diff = 0\n",
    "  for i in range(N):\n",
    "      x_val = x[i]\n",
    "      y_val = y[i]\n",
    "      diff += x_val * (y_val - ((m * x_val) + b))\n",
    "  m_gradient = -(2/N) * diff  \n",
    "  return m_gradient\n",
    "\n",
    "def step_gradient(b_current, m_current, x, y, learning_rate):\n",
    "    b_gradient = get_gradient_at_b(x, y, b_current, m_current)\n",
    "    m_gradient = get_gradient_at_m(x, y, b_current, m_current)\n",
    "    b = b_current - (learning_rate * b_gradient)\n",
    "    m = m_current - (learning_rate * m_gradient)\n",
    "    return [b, m]\n",
    "\n",
    "# calculate_loss 计算每次迭代时，损失值的大小\n",
    "def calculate_loss(x,y,m,b):\n",
    "    y_predicted = [m * x_value + b for x_value in x]\n",
    "    loss = 0\n",
    "    for i in range(len(y)):\n",
    "        loss += (y[i] - y_predicted[i]) ** 2\n",
    "    return loss\n",
    "\n",
    "\n",
    "# gradient_descent 参数中的 num_iterations 是我们可以选择的迭代次数\n",
    "def gradient_descent(x, y, learning_rate, num_iterations):\n",
    "  b = 0\n",
    "  m = 0 \n",
    "  count = 0\n",
    "  for i in range(num_iterations):\n",
    "    count += 1\n",
    "    b, m = step_gradient(b, m, x, y, learning_rate)\n",
    "    iter_loss = calculate_loss(x,y,b,m)\n",
    "    print(\"第{}次迭代数据更新\".format(count))\n",
    "    print(\"斜率{}；截距{}；误差{}\".format(m,b,iter_loss))\n",
    "  return b,m\n",
    "\n",
    "gradient_descent(price, size, 0.001, 10)"
   ]
  },
  {
   "cell_type": "code",
   "execution_count": 100,
   "metadata": {},
   "outputs": [
    {
     "data": {
      "text/plain": [
       "'\\n线性回归：机器学习的目的在于让计算机基于真实世界的数据建立模型，通过模型预测未知数据。其中最简单的模型就是线性回归，我们希望在数据集中找到一条线，帮我们预测未知数据。比如： 我们知道英语词汇量与英语成绩的数据，我们可以通过某个学生的词汇量来推测其英语成绩。\\n\\n我们可以在这些点中画一条线，大概描绘数据的走势：\\n\\n假设，我们知道一个学生的词汇量在 4000，我们预测其英语成绩在 75 分左右。\\n\\n虽然一条线并非那么精确，但是它让我们可以借助变量之间的关系来预测彼此。它也是最简单的预测模型。\\n'"
      ]
     },
     "execution_count": 100,
     "metadata": {},
     "output_type": "execute_result"
    }
   ],
   "source": [
    "\"\"\"\n",
    "线性回归：机器学习的目的在于让计算机基于真实世界的数据建立模型，通过模型预测未知数据。其中最简单的模型就是线性回归，我们希望在数据集中找到一条线，帮我们预测未知数据。比如： 我们知道英语词汇量与英语成绩的数据，我们可以通过某个学生的词汇量来推测其英语成绩。\n",
    "\n",
    "我们可以在这些点中画一条线，大概描绘数据的走势：\n",
    "\n",
    "假设，我们知道一个学生的词汇量在 4000，我们预测其英语成绩在 75 分左右。\n",
    "\n",
    "虽然一条线并非那么精确，但是它让我们可以借助变量之间的关系来预测彼此。它也是最简单的预测模型。\n",
    "\"\"\""
   ]
  },
  {
   "cell_type": "code",
   "execution_count": 101,
   "metadata": {},
   "outputs": [
    {
     "name": "stdout",
     "output_type": "stream",
     "text": [
      "190\n"
     ]
    }
   ],
   "source": [
    "# 图中是某植物 X 在 12天内的成长数据。请用你的肉眼，预测在第13天，该植物的尺寸可能最接近代码中哪个变量的值？ 并用注释符号 # 将其它变量排除。\n",
    "expected_1 = 150\n",
    "expected_2 = 170\n",
    "expected_3 = 190\n",
    "\n",
    "#print(expected_1)\n",
    "#print(expected_2)\n",
    "print(expected_3)"
   ]
  },
  {
   "cell_type": "code",
   "execution_count": 102,
   "metadata": {},
   "outputs": [
    {
     "data": {
      "text/plain": [
       "'\\n点与线：在上一节课中，我们看到了预测数据走势的线，我们将此称为“回归线” ，或者“预测线” 。由于我们现在的模型是简单的线性回归，因此它受自身的斜率与截距影响。公式如下：\\n\\ny = mx + b\\n其中m为斜率，b为截距。x 是用来帮助我们判断的数据变量，而y是我们所预测的数据变量。\\n\\n其中斜率代表的是回归线的陡峭程度，而 b 代表的是回归线与 y 轴交叉的位置。当我们在计算线性回归时，目标就是为我们的数据找到最好的斜率值与截距值。那么什么是最好的斜率值与截距值？我们将在后面的课程中为大家介绍。\\n'"
      ]
     },
     "execution_count": 102,
     "metadata": {},
     "output_type": "execute_result"
    }
   ],
   "source": [
    "\"\"\"\n",
    "点与线：在上一节课中，我们看到了预测数据走势的线，我们将此称为“回归线” ，或者“预测线” 。由于我们现在的模型是简单的线性回归，因此它受自身的斜率与截距影响。公式如下：\n",
    "\n",
    "y = mx + b\n",
    "其中m为斜率，b为截距。x 是用来帮助我们判断的数据变量，而y是我们所预测的数据变量。\n",
    "\n",
    "其中斜率代表的是回归线的陡峭程度，而 b 代表的是回归线与 y 轴交叉的位置。当我们在计算线性回归时，目标就是为我们的数据找到最好的斜率值与截距值。那么什么是最好的斜率值与截距值？我们将在后面的课程中为大家介绍。\n",
    "\"\"\""
   ]
  },
  {
   "cell_type": "code",
   "execution_count": 104,
   "metadata": {},
   "outputs": [],
   "source": [
    "\"\"\"\n",
    "请先运行程序，用肉眼观察预测回归线与真实数据的重合情况。\n",
    "\n",
    "按照注释行的要求，改动 slope 与 intercept 的数值。\n",
    "\n",
    "再次点击运行程序，观察预测回归线与真实数据的重合情况。\n",
    "\"\"\"\n",
    "days = [1, 2, 3, 4, 5, 6, 7, 8, 9, 10, 11, 12]\n",
    "length = [52, 74, 79, 95, 115, 110, 129, 126, 147, 146, 156, 184]\n",
    "\n",
    "#斜率: 将此处 -2 改为 10\n",
    "slope = -2\n",
    "#截距:将此处 20 改为 53\n",
    "intercept = 20\n",
    "\n",
    "y = [slope * x + intercept for x in days]\n",
    "\n",
    "import pygal\n",
    "line_chart = pygal.Line()\n",
    "line_chart.title = '植物X的生长数据'\n",
    "line_chart.x_labels = map(str, range(1, 13))\n",
    "line_chart.add('真实数据', length)\n",
    "line_chart.add('预测回归线',  y)\n",
    "line_chart.render_to_file(r'/Users/XUMIAO/Desktop/line14.svg')"
   ]
  },
  {
   "cell_type": "code",
   "execution_count": 105,
   "metadata": {},
   "outputs": [],
   "source": [
    "# 影响线性回归预测线的是斜率和截距"
   ]
  },
  {
   "cell_type": "code",
   "execution_count": 106,
   "metadata": {},
   "outputs": [
    {
     "name": "stdout",
     "output_type": "stream",
     "text": [
      "房价均价：180921.2美元\n",
      "生活面积（均值）：1515.46英尺\n"
     ]
    }
   ],
   "source": [
    "\"\"\"\n",
    "编辑区的文件 price_size.txt 内是美国某城市的房价数据。\n",
    "\n",
    "部分如下：\n",
    "\n",
    "208500 1710\n",
    "181500 1262\n",
    "223500 1786\n",
    "140000 1717\n",
    "250000 2198\n",
    "143000 1362\n",
    "307000 1694\n",
    "200000 2090\n",
    "129900 1774\n",
    "118000 1077\n",
    "其中左边一列是房价（美元），右边一列是房屋面积（英尺）。\n",
    "\n",
    "请复习自动化办公的知识点。计算房价的均值 mean_price，和房屋面积的均值 mean_size。\n",
    "\"\"\"\n",
    "price = []\n",
    "size = []\n",
    "# 打开 price_size.txt\n",
    "with open(\"/Users/XUMIAO/Desktop/price_size.txt\") as price_size:\n",
    "  # 用readlines() 读取 price_size\n",
    "  # 存入 data\n",
    "  data = price_size.readlines()\n",
    "  for d in data:\n",
    "    price.append(float(d.split(\" \")[0]))\n",
    "    size.append(float(d.split(\" \")[1].split(\"\\n\")[0]))\n",
    "\n",
    "mean_price = sum(price)/len(price)\n",
    "mean_size = sum(size)/len(size)\n",
    "\n",
    "print(\"房价均价：{}美元\".format(round(mean_price,2)))\n",
    "print(\"生活面积（均值）：{}英尺\".format(round(mean_size,2)))"
   ]
  },
  {
   "cell_type": "code",
   "execution_count": 1,
   "metadata": {},
   "outputs": [],
   "source": [
    "# 15.2 人工智能入门（2）"
   ]
  },
  {
   "cell_type": "code",
   "execution_count": 2,
   "metadata": {},
   "outputs": [
    {
     "data": {
      "text/plain": [
       "'\\n损失：我们如何判断一个模型的准确度？这里需要引入损失这一概念。损失指的是数据集中每个数据点与回归线之间的距离。该距离的计算方法我们通过下方图画来理解。\\n\\n在上图中，我们以两个点来举例。其中点A的实际值与回归线预测值的差为3，而点B的实际值与回归线预测值的差为1。我们将实际值与回归线预测值差的平方定为该点与回归线的距离。因此，此处两个点的距离为\\n\\n3 ** 2 + 1 ** 2 = 10\\n\\n这里的 10 就是该模型的损失，有时也被称为误差。如果我们能发现一个模型的误差小于10，则可以认为新模型的表现更好。\\n'"
      ]
     },
     "execution_count": 2,
     "metadata": {},
     "output_type": "execute_result"
    }
   ],
   "source": [
    "\"\"\"\n",
    "损失：我们如何判断一个模型的准确度？这里需要引入损失这一概念。损失指的是数据集中每个数据点与回归线之间的距离。该距离的计算方法我们通过下方图画来理解。\n",
    "\n",
    "在上图中，我们以两个点来举例。其中点A的实际值与回归线预测值的差为3，而点B的实际值与回归线预测值的差为1。我们将实际值与回归线预测值差的平方定为该点与回归线的距离。因此，此处两个点的距离为\n",
    "\n",
    "3 ** 2 + 1 ** 2 = 10\n",
    "\n",
    "这里的 10 就是该模型的损失，有时也被称为误差。如果我们能发现一个模型的误差小于10，则可以认为新模型的表现更好。\n",
    "\"\"\""
   ]
  },
  {
   "cell_type": "code",
   "execution_count": 3,
   "metadata": {},
   "outputs": [
    {
     "name": "stdout",
     "output_type": "stream",
     "text": [
      "9 35\n"
     ]
    }
   ],
   "source": [
    "\"\"\"\n",
    "代码区中的列表 x_values，y_values 分别存放三个点对应的x，y值\n",
    "\n",
    "现在有两个模型：\n",
    "\n",
    "y = x\n",
    "\n",
    "y = 2x + 1\n",
    "\n",
    "我们来计算它们各自的损失值。\n",
    "\"\"\"\n",
    "x_values = [4, 3, 2]\n",
    "y_values = [6, 2, 4]\n",
    "\n",
    "#y = x\n",
    "k1 = 1\n",
    "b1 = 0\n",
    "\n",
    "#y = 2x + 1\n",
    "k2 = 2\n",
    "b2 = 1\n",
    "\n",
    "y_predicted1 = [k1 * x_num + b1 for x_num in x_values]\n",
    "y_predicted2 = [k2 * x_num + b2 for x_num in x_values]\n",
    "\n",
    "loss_1 = 0\n",
    "loss_2 = 0\n",
    "\n",
    "for i in range(len(y_values)):\n",
    "    loss_1 += (y_values[i] - y_predicted1[i])**2\n",
    "    loss_2 += (y_values[i] - y_predicted2[i])**2\n",
    "print(loss_1, loss_2)"
   ]
  },
  {
   "cell_type": "code",
   "execution_count": 4,
   "metadata": {},
   "outputs": [
    {
     "data": {
      "text/plain": [
       "'\\n梯度下降（截距）：如何降低回归线的损失？我们需要从一个个参数调整起来，首先，我们来看如何调整截距这个参数。\\n\\n\\n\\n在图中，横轴是截距的值，而纵轴是回归线损失值。这个类似 U 型的图中，我们的目标是找到U型的底部，也就是损失最小值所对应的截距值。这种计算方法叫做梯度下降法，我们把这个U型看作是山，类比于下山，山的谷底是我们要找到的最优值。寻找最好的“下山”路径需要我们不断优化梯度下降损失。此处，我们先看如何优化截距的梯度下降损失。\\n\\n这里需要涉及一些简单的微积分知识，此处，不需要大家对微积分知识有理解，只需要了解公式是如何构成的即可。截距的梯度下降损失公式：\\n\\n2/N * E(N,i=1)-(yi-(mxi+b))\\n\\n在上方公式中：\\n\\nN：样本数据集的大小；\\n\\nm：当前预测的斜率；\\n\\nb：当前预测的截距。\\n\\n我们来通过接下来的代码练习，加强对这部分的理解。\\n'"
      ]
     },
     "execution_count": 4,
     "metadata": {},
     "output_type": "execute_result"
    }
   ],
   "source": [
    "\"\"\"\n",
    "梯度下降（截距）：如何降低回归线的损失？我们需要从一个个参数调整起来，首先，我们来看如何调整截距这个参数。\n",
    "\n",
    "\n",
    "\n",
    "在图中，横轴是截距的值，而纵轴是回归线损失值。这个类似 U 型的图中，我们的目标是找到U型的底部，也就是损失最小值所对应的截距值。这种计算方法叫做梯度下降法，我们把这个U型看作是山，类比于下山，山的谷底是我们要找到的最优值。寻找最好的“下山”路径需要我们不断优化梯度下降损失。此处，我们先看如何优化截距的梯度下降损失。\n",
    "\n",
    "这里需要涉及一些简单的微积分知识，此处，不需要大家对微积分知识有理解，只需要了解公式是如何构成的即可。截距的梯度下降损失公式：\n",
    "\n",
    "2/N * E(N,i=1)-(yi-(mxi+b))\n",
    "\n",
    "在上方公式中：\n",
    "\n",
    "N：样本数据集的大小；\n",
    "\n",
    "m：当前预测的斜率；\n",
    "\n",
    "b：当前预测的截距。\n",
    "\n",
    "我们来通过接下来的代码练习，加强对这部分的理解。\n",
    "\"\"\""
   ]
  },
  {
   "cell_type": "code",
   "execution_count": 5,
   "metadata": {},
   "outputs": [
    {
     "name": "stdout",
     "output_type": "stream",
     "text": [
      "-2.0\n"
     ]
    }
   ],
   "source": [
    "\"\"\"\n",
    "函数 get_gradient_at_b 中有四个参数：x 为数据集在x轴上的值；y 为数据集在y轴上的值；m为斜率；b为截距值。\n",
    "\n",
    "请阅读代码，点击运行。观察代码如何实现截距的梯度下降。\n",
    "\"\"\"\n",
    "x_values = [4, 3, 2]\n",
    "y_values = [6, 2, 4]\n",
    "def get_gradient_at_b(x, y, m, b):\n",
    "    diff = 0\n",
    "    N = len(x)\n",
    "    for i in range(0, len(x)):\n",
    "      y_val = y[i]\n",
    "      x_val = x[i]\n",
    "      diff += (y_val - ((m * x_val) + b))\n",
    "\n",
    "    b_gradient = -2/N * diff\n",
    "    return b_gradient\n",
    "\n",
    "print(get_gradient_at_b(x_values, y_values, 1, 0))"
   ]
  },
  {
   "cell_type": "code",
   "execution_count": 6,
   "metadata": {},
   "outputs": [],
   "source": [
    "# 有三个点A，B，C距离回归线的差值分别为：1，-1，2。请问该回归线针对 A，B，C的损失（误差）值等于三个差值各自的平方之和"
   ]
  },
  {
   "cell_type": "code",
   "execution_count": 7,
   "metadata": {},
   "outputs": [
    {
     "name": "stdout",
     "output_type": "stream",
     "text": [
      "9\n",
      "35\n"
     ]
    }
   ],
   "source": [
    "\"\"\"\n",
    "我们来写一个函数，它的参数包含数据集的x值，y值，线性回归线的斜率及截距。\n",
    "\n",
    "函数通过上述参数，计算该回归线在此数据集上反应出来的损失值大小。\n",
    "\"\"\"\n",
    "def calculate_loss(x,y,m,b):\n",
    "    y_predicted = [m * x_value + b for x_value in x]\n",
    "    loss = 0\n",
    "    for i in range(len(y)):\n",
    "        # loss 等于预测值与实际值差值的平方\n",
    "        loss += (y[i] - y_predicted[i]) ** 2\n",
    "    # 返回 loss\n",
    "    return loss\n",
    "x_values = [4, 3, 2]\n",
    "y_values = [6, 2, 4]\n",
    "\n",
    "print(calculate_loss(x_values,y_values,1,0))\n",
    "print(calculate_loss(x_values,y_values,2,1))"
   ]
  },
  {
   "cell_type": "code",
   "execution_count": 8,
   "metadata": {},
   "outputs": [],
   "source": [
    "# 15.3 人工智能入门（3）"
   ]
  },
  {
   "cell_type": "code",
   "execution_count": 9,
   "metadata": {},
   "outputs": [
    {
     "data": {
      "text/plain": [
       "'\\n梯度下降（斜率）：上一节课中，我们学习了如何针对截距做梯度下降计算。现在，我们学习如何针对斜率做梯度下降计算。它的公式如下：\\n\\n2/N * E(N,i=1)-xi(yi-(mxi+b))\\n\\n请注意它与之前截距公式的不同，贴在下方，以作比较：\\n\\n2/N * E(N,i=1)-(yi-(mxi+b))\\n\\n同样地，此处不需要大家理解这个微积分公式，我们会在后期的专项课中为大家做深入细致的讲解。\\n'"
      ]
     },
     "execution_count": 9,
     "metadata": {},
     "output_type": "execute_result"
    }
   ],
   "source": [
    "\"\"\"\n",
    "梯度下降（斜率）：上一节课中，我们学习了如何针对截距做梯度下降计算。现在，我们学习如何针对斜率做梯度下降计算。它的公式如下：\n",
    "\n",
    "2/N * E(N,i=1)-xi(yi-(mxi+b))\n",
    "\n",
    "请注意它与之前截距公式的不同，贴在下方，以作比较：\n",
    "\n",
    "2/N * E(N,i=1)-(yi-(mxi+b))\n",
    "\n",
    "同样地，此处不需要大家理解这个微积分公式，我们会在后期的专项课中为大家做深入细致的讲解。\n",
    "\"\"\""
   ]
  },
  {
   "cell_type": "code",
   "execution_count": 10,
   "metadata": {},
   "outputs": [],
   "source": [
    "\"\"\"\n",
    "编辑区中，是 get_gradient_at_b 和 get_gradient_at_m 两个函数。前者我们在之前的练习中见过，它计算截距的梯度下降，请根据讲解中的公式，将注释行的代码做改动。使得 get_gradient_at_m 计算斜率的梯度下降。\n",
    "\"\"\"\n",
    "def get_gradient_at_b(x, y, m, b):\n",
    "    diff = 0\n",
    "    n = len(x)\n",
    "    for i in range(N):\n",
    "      y_val = y[i]\n",
    "      x_val = x[i]\n",
    "      diff += (y_val - ((m * x_val) + b))\n",
    "    b_gradient = -2/n * diff\n",
    "    return b_gradient\n",
    "  \n",
    "def get_gradient_at_m(x, y, m, b):\n",
    "    diff = 0\n",
    "    n = len(x)\n",
    "    for i in range(N):\n",
    "      y_val = y[i]\n",
    "      x_val = x[i]\n",
    "      diff += x_val(y_val - ((m * x_val) + b))\n",
    "    m_gradient = -2/n * diff\n",
    "    return m_gradient"
   ]
  },
  {
   "cell_type": "code",
   "execution_count": 11,
   "metadata": {},
   "outputs": [
    {
     "data": {
      "text/plain": [
       "'\\n学习率：当我们计算出斜率和截距各自的梯度下降之后，我们可以往山下迈出自己的第一步！但是，之前我们还需要做一件事情，为了控制步子别迈得太大，我们一般会为梯度下降的数值乘以一个 0 到 1 之间的值，以此来控制我们下山的步子大小，这个值被称为学习率。\\n\\nnew_b = now_b - (learning_rate * b_gradient)\\nnew_m = now_m - (learning_rate * m_gradient)\\n\\n在上方示例中，new_b 是当下的截距值，我们将其减去学习率与截距梯度下降的乘积，得到新的截距值。同理也适用于对斜率的处理。\\n'"
      ]
     },
     "execution_count": 11,
     "metadata": {},
     "output_type": "execute_result"
    }
   ],
   "source": [
    "\"\"\"\n",
    "学习率：当我们计算出斜率和截距各自的梯度下降之后，我们可以往山下迈出自己的第一步！但是，之前我们还需要做一件事情，为了控制步子别迈得太大，我们一般会为梯度下降的数值乘以一个 0 到 1 之间的值，以此来控制我们下山的步子大小，这个值被称为学习率。\n",
    "\n",
    "new_b = now_b - (learning_rate * b_gradient)\n",
    "new_m = now_m - (learning_rate * m_gradient)\n",
    "\n",
    "在上方示例中，new_b 是当下的截距值，我们将其减去学习率与截距梯度下降的乘积，得到新的截距值。同理也适用于对斜率的处理。\n",
    "\"\"\""
   ]
  },
  {
   "cell_type": "code",
   "execution_count": 12,
   "metadata": {},
   "outputs": [
    {
     "name": "stdout",
     "output_type": "stream",
     "text": [
      "2.355 17.78333333333333\n"
     ]
    }
   ],
   "source": [
    "\"\"\"\n",
    "我们拿之前植物生长的数据来做梯度下降计算。\n",
    "\n",
    "请将此处的省略号按注释要求补充为学习率的数值，此处我们选择一个较小的学习率：0.01。\n",
    "\"\"\"\n",
    "def get_gradient_at_b(x, y, b, m):\n",
    "  N = len(x)\n",
    "  diff = 0\n",
    "  for i in range(N):\n",
    "    x_val = x[i]\n",
    "    y_val = y[i]\n",
    "    diff += (y_val - ((m * x_val) + b))\n",
    "  b_gradient = -(2/N) * diff  \n",
    "  return b_gradient\n",
    "\n",
    "def get_gradient_at_m(x, y, b, m):\n",
    "  N = len(x)\n",
    "  diff = 0\n",
    "  for i in range(N):\n",
    "      x_val = x[i]\n",
    "      y_val = y[i]\n",
    "      diff += x_val * (y_val - ((m * x_val) + b))\n",
    "  m_gradient = -(2/N) * diff  \n",
    "  return m_gradient\n",
    "\n",
    "# 计算下降梯度函数\n",
    "def step_gradient(x, y, b_current, m_current):\n",
    "    b_gradient = get_gradient_at_b(x, y, b_current, m_current)\n",
    "    m_gradient = get_gradient_at_m(x, y, b_current, m_current)\n",
    "    # 下方学习率取 0.01\n",
    "    b = b_current - (0.01 * b_gradient)\n",
    "    m = m_current - (0.01 * m_gradient)\n",
    "    return [b, m]\n",
    "\n",
    "days = [1, 2, 3, 4, 5, 6, 7, 8, 9, 10, 11, 12]\n",
    "length = [52, 74, 79, 95, 115, 110, 129, 126, 147, 146, 156, 184]\n",
    "\n",
    "# 当前的截距预期值:\n",
    "b = 0\n",
    "# 当前的斜率预期值:\n",
    "m = 0\n",
    "\n",
    "b, m = step_gradient(days, length, b, m)\n",
    "print(b, m)"
   ]
  },
  {
   "cell_type": "code",
   "execution_count": 13,
   "metadata": {},
   "outputs": [],
   "source": [
    "# 我们可以通过调整学习率来控制梯度下降的幅度"
   ]
  },
  {
   "cell_type": "code",
   "execution_count": 15,
   "metadata": {},
   "outputs": [
    {
     "name": "stdout",
     "output_type": "stream",
     "text": [
      "30.309273972602742 6074822.19750685\n",
      "3.030927397260274 607482.219750685\n"
     ]
    }
   ],
   "source": [
    "\"\"\"\n",
    "我们继续拿之前的房屋价格与面积的数据集来做线性回归的梯度下降训练。\n",
    "\n",
    "请补全注释行代码，并观察不同大小的学习率对下降幅度的影响。\n",
    "\"\"\"\n",
    "price = []\n",
    "size = []\n",
    "with open(\"/Users/XUMIAO/Desktop/price_size.txt\") as price_size:\n",
    "  data = price_size.readlines()\n",
    "  for d in data:\n",
    "    price.append(float(d.split(\" \")[0]))\n",
    "    size.append(float(d.split(\" \")[1].split(\"\\n\")[0]))\n",
    "\n",
    "def get_gradient_at_b(x, y, b, m):\n",
    "  N = len(x)\n",
    "  diff = 0\n",
    "  for i in range(N):\n",
    "    x_val = x[i]\n",
    "    y_val = y[i]\n",
    "    diff += (y_val - ((m * x_val) + b))\n",
    "  b_gradient = -(2/N) * diff  \n",
    "  return b_gradient\n",
    "\n",
    "def get_gradient_at_m(x, y, b, m):\n",
    "  N = len(x)\n",
    "  diff = 0\n",
    "  for i in range(N):\n",
    "      x_val = x[i]\n",
    "      y_val = y[i]\n",
    "      diff += x_val * (y_val - ((m * x_val) + b))\n",
    "  m_gradient = -(2/N) * diff  \n",
    "  return m_gradient\n",
    "\n",
    "# 计算下降梯度函数\n",
    "def step_gradient(x, y, b_current, m_current, learning_rate):\n",
    "    b_gradient = get_gradient_at_b(x, y, b_current, m_current)\n",
    "    m_gradient = get_gradient_at_m(x, y, b_current, m_current)\n",
    "    b = b_current - (learning_rate * b_gradient)\n",
    "    m = m_current - (learning_rate * m_gradient)\n",
    "    return [b, m]\n",
    "\n",
    "\n",
    "# 当前的截距预期值:\n",
    "b = 0\n",
    "# 当前的斜率预期值:\n",
    "m = 0\n",
    "\n",
    "# 取学习率为 0.01\n",
    "b1, m1 = step_gradient(price, size, b, m, 0.01)\n",
    "# 取学习率为 0.001\n",
    "b2, m2 = step_gradient(price, size, b, m, 0.001)\n",
    "print(b1, m1)\n",
    "print(b2, m2)"
   ]
  },
  {
   "cell_type": "code",
   "execution_count": 16,
   "metadata": {},
   "outputs": [],
   "source": [
    "# 15.4 人工智能入门（4）"
   ]
  },
  {
   "cell_type": "code",
   "execution_count": 17,
   "metadata": {},
   "outputs": [
    {
     "data": {
      "text/plain": [
       "'\\n拟合：既然迈出了第一步，我们就要继续向山的谷底前进！那么怎么判断我们的路线是正确的呢？记住，抵达山的谷底是当回归线损失值最小的时候。那么，我们需要确保迈出的每一步，损失值都在下降。上述过程我们称之为拟合。在拟合过程中，我们每一次迈出的步子称之为一次迭代。有时，我们并不清楚迭代多少次可以达到损失值的谷底，如何优化选择合适的迭代次数和之前我们学到的学习率都是更深层次的知识，我们在此课程中不展开。接下来，我们需要在练习中，体验不同迭代次数相应的拟合过程。\\n'"
      ]
     },
     "execution_count": 17,
     "metadata": {},
     "output_type": "execute_result"
    }
   ],
   "source": [
    "\"\"\"\n",
    "拟合：既然迈出了第一步，我们就要继续向山的谷底前进！那么怎么判断我们的路线是正确的呢？记住，抵达山的谷底是当回归线损失值最小的时候。那么，我们需要确保迈出的每一步，损失值都在下降。上述过程我们称之为拟合。在拟合过程中，我们每一次迈出的步子称之为一次迭代。有时，我们并不清楚迭代多少次可以达到损失值的谷底，如何优化选择合适的迭代次数和之前我们学到的学习率都是更深层次的知识，我们在此课程中不展开。接下来，我们需要在练习中，体验不同迭代次数相应的拟合过程。\n",
    "\"\"\""
   ]
  },
  {
   "cell_type": "code",
   "execution_count": 18,
   "metadata": {},
   "outputs": [
    {
     "name": "stdout",
     "output_type": "stream",
     "text": [
      "第1次迭代数据更新\n",
      "斜率1.7783333333333333；截距0.23550000000000001；损失172493.19120583334\n",
      "第2次迭代数据更新\n",
      "斜率3.360952388888889；截距0.4474106666666667；损失163859.45277991434\n",
      "第3次迭代数据更新\n",
      "斜率4.769366208092593；截距0.6383234642777778；损失156317.68371006224\n",
      "第4次迭代数据更新\n",
      "斜率6.0227199971802845；截距0.8105450566440185；损失149711.62179462836\n",
      "第5次迭代数据更新\n",
      "斜率7.138054911749381；截距0.9661286065673869；损失143909.62673630053\n",
      "第6次迭代数据更新\n",
      "斜率8.130539291091155；截距1.1069016355015102；损失138800.43772093687\n",
      "第7次迭代数据更新\n",
      "斜率9.013674479961427；截距1.2344908214463222；损失134289.71520631656\n",
      "第8次迭代数据更新\n",
      "斜率9.799478030620136；截距1.350344071563931；损失130297.21481874837\n",
      "第9次迭代数据更新\n",
      "斜率10.49864677103929；截距1.4557501690227415；损失126754.47164945691\n",
      "第10次迭代数据更新\n",
      "斜率11.120701951979404；截距1.5518562606611852；损失123602.89745674498\n",
      "第11次迭代数据更新\n",
      "斜率11.674118442459706；截距1.6396834227641306；损失120792.21258293798\n",
      "第12次迭代数据更新\n",
      "斜率12.166439726697304；截距1.720140516166626；损失118279.14979399764\n",
      "第13次迭代数据更新\n",
      "斜率12.604380262928263；截距1.794036518687228；损失116026.37954366818\n",
      "第14次迭代数据更新\n",
      "斜率12.993916593034767；截距1.862091502231786；损失114001.61598762425\n",
      "第15次迭代数据更新\n",
      "斜率13.34036843926032；截距1.9249464035178705；损失112176.87093019833\n",
      "第16次迭代数据更新\n",
      "斜率13.648470888428053；截距1.9831717210004507；损失110527.82917712348\n",
      "第17次迭代数据更新\n",
      "斜率13.922438643142007；截距2.037275256008885；损失109033.32381035278\n",
      "第18次迭代数据更新\n",
      "斜率14.166023211806841；截距2.087709003136021；损失107674.89394819044\n",
      "第19次迭代数据更新\n",
      "斜率14.382563813486998；截距2.13487528337626；损失106436.41080667697\n",
      "第20次迭代数据更新\n",
      "斜率14.575032688342015；截距2.1791322032341762；损失105303.76049630462\n",
      "第21次迭代数据更新\n",
      "斜率14.74607542846292；截距2.2207985138792616；损失104264.57409893956\n",
      "第22次迭代数据更新\n",
      "斜率14.898046876365672；截距2.260157936281485；损失103307.9972746199\n",
      "第23次迭代数据更新\n",
      "斜率15.033043078254398；截距2.2974630110161685；损失102424.49302740885\n",
      "第24次迭代数据更新\n",
      "斜率15.152929725633628；截距2.332938524976829；损失101605.6723780712\n",
      "第25次迭代数据更新\n",
      "斜率15.259367471198619；截距2.3667845614936383；损失100844.14860035497\n",
      "第26次迭代数据更新\n",
      "斜率15.353834462519352；截距2.399179215245069；损失100133.4114181007\n",
      "第27次迭代数据更新\n",
      "斜率15.437646399281569；截距2.430281008801827；损失99467.71816502757\n",
      "第28次迭代数据更新\n",
      "斜率15.511974386244976；截距2.4602310435935633；损失98841.99940407426\n",
      "第29次迭代数据更新\n",
      "斜率15.577860824168388；截距2.4891549144851917；损失98251.77690958347\n",
      "第30次迭代数据更新\n",
      "斜率15.636233554328506；截距2.5171644139420324；损失97693.09225024383\n",
      "第31次迭代数据更新\n",
      "斜率15.687918448561671；截距2.544359048907878；损失97162.44448704662\n",
      "第32次迭代数据更新\n",
      "斜率15.733650615665022；截距2.5708273909787605；损失96656.73572943128\n",
      "第33次迭代数据更新\n",
      "斜率15.774084376218587；截距2.5966482781931575；损失96173.22348303006\n",
      "第34次迭代数据更新\n",
      "斜率15.809802141178396；截距2.6218918847459296；损失95709.47888102253\n",
      "第35次迭代数据更新\n",
      "斜率15.841322314715706；截距2.6466206731411184；损失95263.350023771\n",
      "第36次迭代数据更新\n",
      "斜率15.869106328537336；截距2.670890241703532；损失94832.92976273646\n",
      "第37次迭代数据更新\n",
      "斜率15.89356490313698；截距2.694750078949139；损失94416.52735841245\n",
      "第38次迭代数据更新\n",
      "斜率15.915063620937469；截距2.7182442350504603；损失94012.64352119566\n",
      "第39次迭代数据更新\n",
      "斜率15.93392788694692；截距2.741411919508172；损失93619.94841121684\n",
      "第40次迭代数据更新\n",
      "斜率15.95044734424073；截距2.764288033138846；损失93237.26223020576\n",
      "第41次迭代数据更新\n",
      "斜率15.964879804183846；截距2.786903641597439；损失92863.53808711392\n",
      "第42次迭代数据更新\n",
      "斜率15.977454744723163；截距2.809286396859854；损失92497.84686083133\n",
      "第43次迭代数据更新\n",
      "斜率15.988376424218975；截距2.8314609123847334；损失92139.36381902937\n",
      "第44次迭代数据更新\n",
      "斜率15.997826653067584；截距2.853449097045117；损失91787.3567828646\n",
      "第45次迭代数据更新\n",
      "斜率16.005967260723676；截距2.8752704523611485；损失91441.17565375811\n",
      "第46次迭代数据更新\n",
      "斜率16.012942291597916；截距2.8969423370670184；损失91100.2431413564\n",
      "第47次迭代数据更新\n",
      "斜率16.018879959626272；截距2.9184802026021113；损失90764.04655161993\n",
      "第48次迭代数据更新\n",
      "斜率16.023894388032932；截距2.9398978027217657；损失90432.13051121192\n",
      "第49次迭代数据更新\n",
      "斜率16.02808715789398；截距2.961207380071894；损失90104.09051935593\n",
      "第50次迭代数据更新\n",
      "斜率16.031548686514533；截距2.9824198322591284；损失89779.56723140157\n"
     ]
    },
    {
     "data": {
      "text/plain": [
       "(2.9824198322591284, 16.031548686514533)"
      ]
     },
     "execution_count": 18,
     "metadata": {},
     "output_type": "execute_result"
    }
   ],
   "source": [
    "\"\"\"\n",
    "请点击运行，观察结果，尤其是损失值的下降情况。\n",
    "\n",
    "接着，请你将最后一行代码：调用函数 gradient_descent 的最后一个参数 10 改为 50。\n",
    "\n",
    "再次运行程序，观察结果。\n",
    "\"\"\"\n",
    "days = [1, 2, 3, 4, 5, 6, 7, 8, 9, 10, 11, 12]\n",
    "length = [52, 74, 79, 95, 115, 110, 129, 126, 147, 146, 156, 184]\n",
    "\n",
    "def get_gradient_at_b(x, y, b, m):\n",
    "  N = len(x)\n",
    "  diff = 0\n",
    "  for i in range(N):\n",
    "    x_val = x[i]\n",
    "    y_val = y[i]\n",
    "    diff += (y_val - ((m * x_val) + b))\n",
    "  b_gradient = -(2/N) * diff  \n",
    "  return b_gradient\n",
    "\n",
    "def get_gradient_at_m(x, y, b, m):\n",
    "  N = len(x)\n",
    "  diff = 0\n",
    "  for i in range(N):\n",
    "      x_val = x[i]\n",
    "      y_val = y[i]\n",
    "      diff += x_val * (y_val - ((m * x_val) + b))\n",
    "  m_gradient = -(2/N) * diff  \n",
    "  return m_gradient\n",
    "\n",
    "def step_gradient(b_current, m_current, x, y, learning_rate):\n",
    "    b_gradient = get_gradient_at_b(x, y, b_current, m_current)\n",
    "    m_gradient = get_gradient_at_m(x, y, b_current, m_current)\n",
    "    b = b_current - (learning_rate * b_gradient)\n",
    "    m = m_current - (learning_rate * m_gradient)\n",
    "    return [b, m]\n",
    "\n",
    "# calculate_loss 计算每次迭代时，损失值的大小\n",
    "def calculate_loss(x,y,m,b):\n",
    "    y_predicted = [m * x_value + b for x_value in x]\n",
    "    loss = 0\n",
    "    for i in range(len(y)):\n",
    "        loss += (y[i] - y_predicted[i]) ** 2\n",
    "    return loss\n",
    "\n",
    "\n",
    "# gradient_descent 参数中的 num_iterations 是我们可以选择的迭代次数\n",
    "def gradient_descent(x, y, learning_rate, num_iterations):\n",
    "  b = 0\n",
    "  m = 0 \n",
    "  count = 0\n",
    "  for i in range(num_iterations):\n",
    "    count += 1\n",
    "    b, m = step_gradient(b, m, x, y, learning_rate)\n",
    "    iter_loss = calculate_loss(x,y,b,m)\n",
    "    print(\"第{}次迭代数据更新\".format(count))\n",
    "    print(\"斜率{}；截距{}；损失{}\".format(m,b,iter_loss))\n",
    "  return b,m\n",
    "\n",
    "gradient_descent(days, length, 0.001, 50)"
   ]
  },
  {
   "cell_type": "code",
   "execution_count": 19,
   "metadata": {},
   "outputs": [
    {
     "data": {
      "text/plain": [
       "'\\n下山的路径：在刚才的练习中，我们发现随着迭代次数的增加，损失值在不断降低，这意味着我们越来越接近“谷底”。这是一个好迹象！但是情况会一直这样下去么？并不是。请记住，当我们走到或接近谷底时，有可能接下来的迭代会往高处走，也就是说损失值会反弹。那是因为我们已经越过了损失值的谷底。那么，在拟合过程中，我们取到的最小损失值，意味着该点对应的回归线表现最优。\\n\\n到此为止，本课程关于线性回归的知识点就全部讲完了。我们会发现在拟合过程中，我们选取的斜率、截距初始值、学习率以及迭代次数，都会对模型产生影响，这些超出了本套课程的知识范围。在专项课程中，会教给大家如何选择合理的参数调整策略。\\n'"
      ]
     },
     "execution_count": 19,
     "metadata": {},
     "output_type": "execute_result"
    }
   ],
   "source": [
    "\"\"\"\n",
    "下山的路径：在刚才的练习中，我们发现随着迭代次数的增加，损失值在不断降低，这意味着我们越来越接近“谷底”。这是一个好迹象！但是情况会一直这样下去么？并不是。请记住，当我们走到或接近谷底时，有可能接下来的迭代会往高处走，也就是说损失值会反弹。那是因为我们已经越过了损失值的谷底。那么，在拟合过程中，我们取到的最小损失值，意味着该点对应的回归线表现最优。\n",
    "\n",
    "到此为止，本课程关于线性回归的知识点就全部讲完了。我们会发现在拟合过程中，我们选取的斜率、截距初始值、学习率以及迭代次数，都会对模型产生影响，这些超出了本套课程的知识范围。在专项课程中，会教给大家如何选择合理的参数调整策略。\n",
    "\"\"\""
   ]
  },
  {
   "cell_type": "code",
   "execution_count": 20,
   "metadata": {},
   "outputs": [
    {
     "name": "stdout",
     "output_type": "stream",
     "text": [
      "第1次迭代数据更新\n",
      "斜率1.7783333333333333；截距0.23550000000000001；损失172493.19120583334\n",
      "第2次迭代数据更新\n",
      "斜率3.360952388888889；截距0.4474106666666667；损失163859.45277991434\n",
      "第3次迭代数据更新\n",
      "斜率4.769366208092593；截距0.6383234642777778；损失156317.68371006224\n",
      "第4次迭代数据更新\n",
      "斜率6.0227199971802845；截距0.8105450566440185；损失149711.62179462836\n",
      "第5次迭代数据更新\n",
      "斜率7.138054911749381；截距0.9661286065673869；损失143909.62673630053\n",
      "第6次迭代数据更新\n",
      "斜率8.130539291091155；截距1.1069016355015102；损失138800.43772093687\n",
      "第7次迭代数据更新\n",
      "斜率9.013674479961427；截距1.2344908214463222；损失134289.71520631656\n",
      "第8次迭代数据更新\n",
      "斜率9.799478030620136；截距1.350344071563931；损失130297.21481874837\n",
      "第9次迭代数据更新\n",
      "斜率10.49864677103929；截距1.4557501690227415；损失126754.47164945691\n",
      "第10次迭代数据更新\n",
      "斜率11.120701951979404；截距1.5518562606611852；损失123602.89745674498\n",
      "第11次迭代数据更新\n",
      "斜率11.674118442459706；截距1.6396834227641306；损失120792.21258293798\n",
      "第12次迭代数据更新\n",
      "斜率12.166439726697304；截距1.720140516166626；损失118279.14979399764\n",
      "第13次迭代数据更新\n",
      "斜率12.604380262928263；截距1.794036518687228；损失116026.37954366818\n",
      "第14次迭代数据更新\n",
      "斜率12.993916593034767；截距1.862091502231786；损失114001.61598762425\n",
      "第15次迭代数据更新\n",
      "斜率13.34036843926032；截距1.9249464035178705；损失112176.87093019833\n",
      "第16次迭代数据更新\n",
      "斜率13.648470888428053；截距1.9831717210004507；损失110527.82917712348\n",
      "第17次迭代数据更新\n",
      "斜率13.922438643142007；截距2.037275256008885；损失109033.32381035278\n",
      "第18次迭代数据更新\n",
      "斜率14.166023211806841；截距2.087709003136021；损失107674.89394819044\n",
      "第19次迭代数据更新\n",
      "斜率14.382563813486998；截距2.13487528337626；损失106436.41080667697\n",
      "第20次迭代数据更新\n",
      "斜率14.575032688342015；截距2.1791322032341762；损失105303.76049630462\n",
      "第21次迭代数据更新\n",
      "斜率14.74607542846292；截距2.2207985138792616；损失104264.57409893956\n",
      "第22次迭代数据更新\n",
      "斜率14.898046876365672；截距2.260157936281485；损失103307.9972746199\n",
      "第23次迭代数据更新\n",
      "斜率15.033043078254398；截距2.2974630110161685；损失102424.49302740885\n",
      "第24次迭代数据更新\n",
      "斜率15.152929725633628；截距2.332938524976829；损失101605.6723780712\n",
      "第25次迭代数据更新\n",
      "斜率15.259367471198619；截距2.3667845614936383；损失100844.14860035497\n",
      "第26次迭代数据更新\n",
      "斜率15.353834462519352；截距2.399179215245069；损失100133.4114181007\n",
      "第27次迭代数据更新\n",
      "斜率15.437646399281569；截距2.430281008801827；损失99467.71816502757\n",
      "第28次迭代数据更新\n",
      "斜率15.511974386244976；截距2.4602310435935633；损失98841.99940407426\n",
      "第29次迭代数据更新\n",
      "斜率15.577860824168388；截距2.4891549144851917；损失98251.77690958347\n",
      "第30次迭代数据更新\n",
      "斜率15.636233554328506；截距2.5171644139420324；损失97693.09225024383\n",
      "第31次迭代数据更新\n",
      "斜率15.687918448561671；截距2.544359048907878；损失97162.44448704662\n",
      "第32次迭代数据更新\n",
      "斜率15.733650615665022；截距2.5708273909787605；损失96656.73572943128\n",
      "第33次迭代数据更新\n",
      "斜率15.774084376218587；截距2.5966482781931575；损失96173.22348303006\n",
      "第34次迭代数据更新\n",
      "斜率15.809802141178396；截距2.6218918847459296；损失95709.47888102253\n",
      "第35次迭代数据更新\n",
      "斜率15.841322314715706；截距2.6466206731411184；损失95263.350023771\n",
      "第36次迭代数据更新\n",
      "斜率15.869106328537336；截距2.670890241703532；损失94832.92976273646\n",
      "第37次迭代数据更新\n",
      "斜率15.89356490313698；截距2.694750078949139；损失94416.52735841245\n",
      "第38次迭代数据更新\n",
      "斜率15.915063620937469；截距2.7182442350504603；损失94012.64352119566\n",
      "第39次迭代数据更新\n",
      "斜率15.93392788694692；截距2.741411919508172；损失93619.94841121684\n",
      "第40次迭代数据更新\n",
      "斜率15.95044734424073；截距2.764288033138846；损失93237.26223020576\n",
      "第41次迭代数据更新\n",
      "斜率15.964879804183846；截距2.786903641597439；损失92863.53808711392\n",
      "第42次迭代数据更新\n",
      "斜率15.977454744723163；截距2.809286396859854；损失92497.84686083133\n",
      "第43次迭代数据更新\n",
      "斜率15.988376424218975；截距2.8314609123847334；损失92139.36381902937\n",
      "第44次迭代数据更新\n",
      "斜率15.997826653067584；截距2.853449097045117；损失91787.3567828646\n",
      "第45次迭代数据更新\n",
      "斜率16.005967260723676；截距2.8752704523611485；损失91441.17565375811\n",
      "第46次迭代数据更新\n",
      "斜率16.012942291597916；截距2.8969423370670184；损失91100.2431413564\n",
      "第47次迭代数据更新\n",
      "斜率16.018879959626272；截距2.9184802026021113；损失90764.04655161993\n",
      "第48次迭代数据更新\n",
      "斜率16.023894388032932；截距2.9398978027217657；损失90432.13051121192\n",
      "第49次迭代数据更新\n",
      "斜率16.02808715789398；截距2.961207380071894；损失90104.09051935593\n",
      "第50次迭代数据更新\n",
      "斜率16.031548686514533；截距2.9824198322591284；损失89779.56723140157\n"
     ]
    },
    {
     "data": {
      "text/plain": [
       "(2.9824198322591284, 16.031548686514533)"
      ]
     },
     "execution_count": 20,
     "metadata": {},
     "output_type": "execute_result"
    }
   ],
   "source": [
    "\"\"\"\n",
    "在上一节练习中，我们的学习率取的是 0.01，请将此处函数 gradient_descent 的参数 learning_rate 由 0.01 改为 0.001。\n",
    "\n",
    "通过比较此处学习率的改动，观察损失值下降幅度的差异。\n",
    "\"\"\"\n",
    "days = [1, 2, 3, 4, 5, 6, 7, 8, 9, 10, 11, 12]\n",
    "length = [52, 74, 79, 95, 115, 110, 129, 126, 147, 146, 156, 184]\n",
    "\n",
    "def get_gradient_at_b(x, y, b, m):\n",
    "  N = len(x)\n",
    "  diff = 0\n",
    "  for i in range(N):\n",
    "    x_val = x[i]\n",
    "    y_val = y[i]\n",
    "    diff += (y_val - ((m * x_val) + b))\n",
    "  b_gradient = -(2/N) * diff  \n",
    "  return b_gradient\n",
    "\n",
    "def get_gradient_at_m(x, y, b, m):\n",
    "  N = len(x)\n",
    "  diff = 0\n",
    "  for i in range(N):\n",
    "      x_val = x[i]\n",
    "      y_val = y[i]\n",
    "      diff += x_val * (y_val - ((m * x_val) + b))\n",
    "  m_gradient = -(2/N) * diff  \n",
    "  return m_gradient\n",
    "\n",
    "def step_gradient(b_current, m_current, x, y, learning_rate):\n",
    "    b_gradient = get_gradient_at_b(x, y, b_current, m_current)\n",
    "    m_gradient = get_gradient_at_m(x, y, b_current, m_current)\n",
    "    b = b_current - (learning_rate * b_gradient)\n",
    "    m = m_current - (learning_rate * m_gradient)\n",
    "    return [b, m]\n",
    "\n",
    "# calculate_loss 计算每次迭代时，损失值的大小\n",
    "def calculate_loss(x,y,m,b):\n",
    "    y_predicted = [m * x_value + b for x_value in x]\n",
    "    loss = 0\n",
    "    for i in range(len(y)):\n",
    "        loss += (y[i] - y_predicted[i]) ** 2\n",
    "    return loss\n",
    "\n",
    "\n",
    "# gradient_descent 参数中的 num_iterations 是我们可以选择的迭代次数\n",
    "def gradient_descent(x, y, learning_rate, num_iterations):\n",
    "  b = 0\n",
    "  m = 0 \n",
    "  count = 0\n",
    "  for i in range(num_iterations):\n",
    "    count += 1\n",
    "    b, m = step_gradient(b, m, x, y, learning_rate)\n",
    "    iter_loss = calculate_loss(x,y,b,m)\n",
    "    print(\"第{}次迭代数据更新\".format(count))\n",
    "    print(\"斜率{}；截距{}；损失{}\".format(m,b,iter_loss))\n",
    "  return b,m\n",
    "\n",
    "gradient_descent(days, length, 0.001, 50)"
   ]
  },
  {
   "cell_type": "code",
   "execution_count": 21,
   "metadata": {},
   "outputs": [],
   "source": [
    "# 迭代次数越多，损失值可能会先降低，当越过损失最低值时，可能接着会上升\n",
    "# 学习率、斜率初始值、截距初始值、迭代次数都会对拟合结果产生影响"
   ]
  },
  {
   "cell_type": "code",
   "execution_count": 23,
   "metadata": {},
   "outputs": [
    {
     "name": "stdout",
     "output_type": "stream",
     "text": [
      "第1次迭代数据更新\n",
      "斜率0.0060748221975068534；截距0.0003030927397260282；损失32.38663817391555\n",
      "第2次迭代数据更新\n",
      "斜率0.0073955450139153575；截距0.0003857664746136928；损失31.18082744976018\n",
      "第3次迭代数据更新\n",
      "斜率0.007682075312176422；截距0.00042048551175470633；损失30.78829387018472\n",
      "第4次迭代数据更新\n",
      "斜率0.00774363066808955；截距0.00044476722997739227；损失30.570356383928797\n",
      "第5次迭代数据更新\n",
      "斜率0.007756245888136067；截距0.0004667730510425802；损失30.390631123634858\n",
      "第6次迭代数据更新\n",
      "斜率0.007758215065238083；截距0.00048827838832619046；损失30.219637549702078\n",
      "第7次迭代数据更新\n",
      "斜率0.0077578685834312315；截距0.0005096694617599902；损失30.050985759284426\n",
      "第8次迭代数据更新\n",
      "斜率0.007757018609827246；截距0.0005310302902274923；损失29.883289619577436\n",
      "第9次迭代数据更新\n",
      "斜率0.007756059357838361；截距0.0005523791526862409；损失29.71624808915754\n",
      "第10次迭代数据更新\n",
      "斜率0.007755076583407954；截距0.00057372002722347；损失29.54979546901984\n",
      "第11次迭代数据更新\n",
      "斜率0.007754088941550724；截距0.0005950537809566726；损失29.383917104492582\n",
      "第12次迭代数据更新\n",
      "斜率0.007753100490343121；截距0.0006163806042515931；损失29.218609412338093\n",
      "第13次迭代数据更新\n",
      "斜率0.007752112112486699；截距0.0006377005402548355；损失29.053871210913524\n",
      "第14次迭代数据更新\n",
      "斜率0.0077511239999213406；截距0.0006590136000868265；损失28.88970183975563\n",
      "第15次迭代数据更新\n",
      "斜率0.007750136194320693；截距0.0006803197879005534；损失28.726100751736602\n",
      "第16次迭代数据更新\n",
      "斜率0.007749148704669959；截距0.000701619106332768；损失28.563067424607883\n",
      "第17次迭代数据更新\n",
      "斜率0.007748161532843416；截距0.0007229115576898263；损失28.400601341814507\n",
      "第18次迭代数据更新\n",
      "斜率0.007747174679168481；截距0.0007441971442056519；损失28.238701988333844\n",
      "第19次迭代数据更新\n",
      "斜率0.007746188143636095；截距0.0007654758680978535；损失28.077368849773347\n",
      "第20次迭代数据更新\n",
      "斜率0.00774520192616403；截距0.0007867477315799322；损失27.916601412174067\n",
      "第21次迭代数据更新\n",
      "斜率0.007744216026654167；截距0.0008080127368639376；损失27.756399161968304\n",
      "第22次迭代数据更新\n",
      "斜率0.007743230445004954；截距0.0008292708861610454；损失27.59676158596984\n",
      "第23次迭代数据更新\n",
      "斜率0.007742245181114121；截距0.0008505221816816836；损失27.437688171371974\n",
      "第24次迭代数据更新\n",
      "斜率0.007741260234879265；截距0.00087176662563556；损失27.2791784057466\n",
      "第25次迭代数据更新\n",
      "斜率0.007740275606197983；截距0.0008930042202316683；损失27.121231777044063\n",
      "第26次迭代数据更新\n",
      "斜率0.007739291294967894；截距0.0009142349676782894；损失26.963847773592693\n",
      "第27次迭代数据更新\n",
      "斜率0.007738307301086652；截距0.0009354588701829924；损失26.807025884098643\n",
      "第28次迭代数据更新\n",
      "斜率0.00773732362445194；截距0.0009566759299526347；损失26.650765597645435\n",
      "第29次迭代数据更新\n",
      "斜率0.007736340264961475；截距0.000977886149193362；损失26.49506640369423\n",
      "第30次迭代数据更新\n",
      "斜率0.007735357222513009；截距0.000999089530110609；损失26.33992779208286\n",
      "第31次迭代数据更新\n",
      "斜率0.0077343744970043244；截距0.001020286074909099；损失26.18534925302608\n",
      "第32次迭代数据更新\n",
      "斜率0.007733392088333238；截距0.0010414757857928445；损失26.031330277115106\n",
      "第33次迭代数据更新\n",
      "斜率0.007732409996397599；截距0.0010626586649651478；损失25.877870355317416\n",
      "第34次迭代数据更新\n",
      "斜率0.00773142822109529；截距0.0010838347146286005；损失25.724968978976413\n",
      "第35次迭代数据更新\n",
      "斜率0.007730446762324226；截距0.0011050039369850842；损失25.572625639811363\n",
      "第36次迭代数据更新\n",
      "斜率0.007729465619982355；截距0.0011261663342357704；损失25.420839829916762\n",
      "第37次迭代数据更新\n",
      "斜率0.007728484793967658；截距0.0011473219085811213；损失25.26961104176263\n",
      "第38次迭代数据更新\n",
      "斜率0.0077275042841781485；截距0.0011684706622208895；损失25.11893876819361\n",
      "第39次迭代数据更新\n",
      "斜率0.007726524090511875；截距0.001189612597354118；损失24.968822502429287\n",
      "第40次迭代数据更新\n",
      "斜率0.007725544212866915；截距0.0012107477161791415；损失24.8192617380636\n",
      "第41次迭代数据更新\n",
      "斜率0.007724564651141383；截距0.0012318760208935855；损失24.67025596906468\n",
      "第42次迭代数据更新\n",
      "斜率0.007723585405233422；截距0.0012529975136943668；损失24.521804689774537\n",
      "第43次迭代数据更新\n",
      "斜率0.007722606475041212；截距0.0012741121967776944；损失24.373907394908898\n",
      "第44次迭代数据更新\n",
      "斜率0.007721627860462963；截距0.001295220072339069；损失24.226563579556935\n",
      "第45次迭代数据更新\n",
      "斜率0.007720649561396921；截距0.0013163211425732833；损失24.07977273918092\n",
      "第46次迭代数据更新\n",
      "斜率0.007719671577741359；截距0.0013374154096744226；损失23.933534369616016\n",
      "第47次迭代数据更新\n",
      "斜率0.00771869390939459；截距0.0013585028758358647；损失23.787847967070118\n",
      "第48次迭代数据更新\n",
      "斜率0.007717716556254954；截距0.0013795835432502802；损失23.642713028123342\n",
      "第49次迭代数据更新\n",
      "斜率0.007716739518220827；截距0.0014006574141096331；损失23.498129049728217\n",
      "第50次迭代数据更新\n",
      "斜率0.007715762795190616；截距0.00142172449060518；损失23.354095529208802\n",
      "第51次迭代数据更新\n",
      "斜率0.007714786387062762；截距0.001442784774927472；损失23.210611964261105\n",
      "第52次迭代数据更新\n",
      "斜率0.007713810293735738；截距0.0014638382692663528；损失23.067677852952226\n",
      "第53次迭代数据更新\n",
      "斜率0.007712834515108051；截距0.001484884975810961；损失22.925292693720742\n",
      "第54次迭代数据更新\n",
      "斜率0.007711859051078239；截距0.0015059248967497292；损失22.783455985375564\n",
      "第55次迭代数据更新\n",
      "斜率0.007710883901544873；截距0.0015269580342703842；损失22.642167227096664\n",
      "第56次迭代数据更新\n",
      "斜率0.007709909066406557；截距0.0015479843905599475；损失22.50142591843429\n",
      "第57次迭代数据更新\n",
      "斜率0.00770893454556193；截距0.001569003967804736；损失22.361231559308596\n",
      "第58次迭代数据更新\n",
      "斜率0.007707960338909658；截距0.0015900167681903606；损失22.221583650009595\n",
      "第59次迭代数据更新\n",
      "斜率0.007706986446348446；截距0.0016110227939017288；损失22.08248169119716\n",
      "第60次迭代数据更新\n",
      "斜率0.007706012867777028；截距0.0016320220471230428；损失21.943925183900255\n",
      "第61次迭代数据更新\n",
      "斜率0.007705039603094172；截距0.001653014530037801；损失21.805913629517\n",
      "第62次迭代数据更新\n",
      "斜率0.007704066652198677；截距0.0016740002448287978；损失21.66844652981427\n",
      "第63次迭代数据更新\n",
      "斜率0.007703094014989377；截距0.0016949791936781238；损失21.53152338692768\n",
      "第64次迭代数据更新\n",
      "斜率0.007702121691365135；截距0.001715951378767166；损失21.395143703361025\n",
      "第65次迭代数据更新\n",
      "斜率0.007701149681224852；截距0.001736916802276608；损失21.25930698198626\n",
      "第66次迭代数据更新\n",
      "斜率0.007700177984467457；截距0.0017578754663864307；损失21.12401272604303\n",
      "第67次迭代数据更新\n",
      "斜率0.0076992066009919135；截距0.0017788273732759119；损失20.989260439138743\n",
      "第68次迭代数据更新\n",
      "斜率0.0076982355306972165；截距0.001799772525123627；损失20.855049625247883\n",
      "第69次迭代数据更新\n",
      "斜率0.007697264773482396；截距0.0018207109241074485；损失20.721379788712316\n",
      "第70次迭代数据更新\n",
      "斜率0.0076962943292465105；截距0.0018416425724045473；损失20.588250434240294\n",
      "第71次迭代数据更新\n",
      "斜率0.007695324197888656；截距0.0018625674721913922；损失20.455661066906988\n",
      "第72次迭代数据更新\n",
      "斜率0.007694354379307956；截距0.0018834856256437502；损失20.323611192153724\n",
      "第73次迭代数据更新\n",
      "斜率0.00769338487340357；截距0.001904397034936687；损失20.19210031578792\n",
      "第74次迭代数据更新\n",
      "斜率0.0076924156800746895；截距0.0019253017022445667；损失20.06112794398274\n",
      "第75次迭代数据更新\n",
      "斜率0.007691446799220537；截距0.0019461996297410525；损失19.930693583276966\n",
      "第76次迭代数据更新\n",
      "斜率0.00769047823074037；截距0.0019670908195991072；损失19.80079674057468\n",
      "第77次迭代数据更新\n",
      "斜率0.0076895099745334745；截距0.0019879752739909926；损失19.67143692314496\n",
      "第78次迭代数据更新\n",
      "斜率0.007688542030499174；截距0.0020088529950882702；损失19.54261363862171\n",
      "第79次迭代数据更新\n",
      "斜率0.00768757439853682；截距0.0020297239850618014；损失19.41432639500336\n",
      "第80次迭代数据更新\n",
      "斜率0.007686607078545799；截距0.0020505882460817478；损失19.286574700652753\n",
      "第81次迭代数据更新\n",
      "斜率0.007685640070425529；截距0.002071445780317571；损失19.159358064296676\n",
      "第82次迭代数据更新\n",
      "斜率0.007684673374075461；截距0.0020922965899380333；损失19.032675995025702\n",
      "第83次迭代数据更新\n",
      "斜率0.007683706989395077；截距0.002113140677111198；损失18.90652800229402\n",
      "第84次迭代数据更新\n",
      "斜率0.0076827409162838955；截距0.00213397804400443；损失18.7809135959191\n",
      "第85次迭代数据更新\n",
      "斜率0.007681775154641461；截距0.0021548086927843935；损失18.655832286081456\n",
      "第86次迭代数据更新\n",
      "斜率0.007680809704367356；截距0.0021756326256170563；损失18.531283583324317\n",
      "第87次迭代数据更新\n",
      "斜率0.007679844565361192；截距0.0021964498446676865；损失18.40726699855364\n",
      "第88次迭代数据更新\n",
      "斜率0.007678879737522614；截距0.0022172603521008545；损失18.283782043037622\n",
      "第89次迭代数据更新\n",
      "斜率0.0076779152207513005；截距0.002238064150080433；损失18.160828228406412\n",
      "第90次迭代数据更新\n",
      "斜率0.00767695101494696；截距0.002258861240769597；损失18.03840506665211\n",
      "第91次迭代数据更新\n",
      "斜率0.007675987120009335；截距0.0022796516263308237；损失17.916512070128245\n",
      "第92次迭代数据更新\n",
      "斜率0.007675023535838201；截距0.0023004353089258935；损失17.795148751549753\n",
      "第93次迭代数据更新\n",
      "斜率0.007674060262333362；截距0.0023212122907158897；损失17.67431462399257\n",
      "第94次迭代数据更新\n",
      "斜率0.0076730972993946595；截距0.002341982573861199；损失17.55400920089356\n",
      "第95次迭代数据更新\n",
      "斜率0.007672134646921964；截距0.002362746160521511；损失17.434231996049977\n",
      "第96次迭代数据更新\n",
      "斜率0.007671172304815179；截距0.0023835030528558195；损失17.314982523619538\n",
      "第97次迭代数据更新\n",
      "斜率0.00767021027297424；截距0.0024042532530224228；损失17.19626029811994\n",
      "第98次迭代数据更新\n",
      "斜率0.007669248551299116；截距0.0024249967631789224；损失17.078064834428744\n",
      "第99次迭代数据更新\n",
      "斜率0.007668287139689807；截距0.002445733585482224；损失16.96039564778314\n",
      "第100次迭代数据更新\n",
      "斜率0.007667326038046345；截距0.0024664637220885395；损失16.843252253779536\n"
     ]
    },
    {
     "data": {
      "text/plain": [
       "(0.0024664637220885395, 0.007667326038046345)"
      ]
     },
     "execution_count": 23,
     "metadata": {},
     "output_type": "execute_result"
    }
   ],
   "source": [
    "\"\"\"\n",
    "我们继续围绕房价及面积数据来体验如何通过调整学习率、迭代次数，从而影响拟合结果。\n",
    "\n",
    "请先点击运行，观察在默认的参数下，函数 gradient_descent 的模型表现。\n",
    "\n",
    "之后，你可以自己尝试调整函数 gradient_descent 的后两个参数。\n",
    "\n",
    "注意，为了避免由于计算量过大而造成的故障，请将学习率的范围控制在 0.001 ～ 0.005 之间；而迭代次数的范围控制在 10～20 之间。\n",
    "\"\"\"\n",
    "price = []\n",
    "size = []\n",
    "with open(\"/Users/XUMIAO/Desktop/price_size.txt\") as price_size:\n",
    "  data = price_size.readlines()\n",
    "  for d in data:\n",
    "    # 由于原始数据较大\n",
    "    # 为便于计算，将房价和面积均除以 10000\n",
    "    price.append(float(d.split(\" \")[0])/10000)\n",
    "    size.append(float(d.split(\" \")[1].split(\"\\n\")[0])/10000)\n",
    "def get_gradient_at_b(x, y, b, m):\n",
    "  N = len(x)\n",
    "  diff = 0\n",
    "  for i in range(N):\n",
    "    x_val = x[i]\n",
    "    y_val = y[i]\n",
    "    diff += (y_val - ((m * x_val) + b))\n",
    "  b_gradient = -(2/N) * diff  \n",
    "  return b_gradient\n",
    "\n",
    "def get_gradient_at_m(x, y, b, m):\n",
    "  N = len(x)\n",
    "  diff = 0\n",
    "  for i in range(N):\n",
    "      x_val = x[i]\n",
    "      y_val = y[i]\n",
    "      diff += x_val * (y_val - ((m * x_val) + b))\n",
    "  m_gradient = -(2/N) * diff  \n",
    "  return m_gradient\n",
    "\n",
    "def step_gradient(b_current, m_current, x, y, learning_rate):\n",
    "    b_gradient = get_gradient_at_b(x, y, b_current, m_current)\n",
    "    m_gradient = get_gradient_at_m(x, y, b_current, m_current)\n",
    "    b = b_current - (learning_rate * b_gradient)\n",
    "    m = m_current - (learning_rate * m_gradient)\n",
    "    return [b, m]\n",
    "\n",
    "# calculate_loss 计算每次迭代时，损失值的大小\n",
    "def calculate_loss(x,y,m,b):\n",
    "    y_predicted = [m * x_value + b for x_value in x]\n",
    "    loss = 0\n",
    "    for i in range(len(y)):\n",
    "        loss += (y[i] - y_predicted[i]) ** 2\n",
    "    return loss\n",
    "\n",
    "\n",
    "# gradient_descent 参数中的 num_iterations 是我们可以选择的迭代次数\n",
    "def gradient_descent(x, y, learning_rate, num_iterations):\n",
    "  b = 0\n",
    "  m = 0 \n",
    "  count = 0\n",
    "  for i in range(num_iterations):\n",
    "    count += 1\n",
    "    b, m = step_gradient(b, m, x, y, learning_rate)\n",
    "    iter_loss = calculate_loss(x,y,b,m)\n",
    "    print(\"第{}次迭代数据更新\".format(count))\n",
    "    print(\"斜率{}；截距{}；损失{}\".format(m,b,iter_loss))\n",
    "  return b,m\n",
    "\n",
    "gradient_descent(price, size, 0.001, 100)"
   ]
  },
  {
   "cell_type": "code",
   "execution_count": 24,
   "metadata": {},
   "outputs": [],
   "source": [
    "# 15.5 人工智能入门（5）"
   ]
  },
  {
   "cell_type": "code",
   "execution_count": 25,
   "metadata": {},
   "outputs": [
    {
     "data": {
      "text/plain": [
       "'\\n神经元：在介绍中，我们说过阿尔法狗应用的是深度学习神经网络来获得超越围棋高手的能力。那么什么是神经网络呢？它其实是在认知神经科学的发展下，人们用计算机对人脑神经元处理信息的一种模拟。我们的大脑神经布满了互相联结的成万上亿个神经元。它们之间通过获取刺激，传递反馈来处理我们日常生活中遇到的大量信息。为了在将来更好地理解神经网络，我们本次课程中主要学习如何用计算机构建一个神经元，也被称为感知器。通过它来对输入的信息做出判断，得出结论。更重要的是，神经元（感知器）可以通过数据来训练，以获得更强大的判断能力。\\n\\n接下来，我们用代码来创建一个神经元。需要知道的是，一个神经元需要有输入和权重两个基本的参数。举个例子，我们在现实生活中如何判断猫与狗？我们可能会看它们的眼睛，耳朵，嘴巴，四肢，身材大小，等等；或者也可以听它们的声音。这些都是输入进我们大脑的信息。另外，这些输入的信息权重是不一样的。我们可能听对方的叫声，就能判断出对方是猫还是狗；或者，我们可能看它们的眼睛也能做出八九不离十的猜测。这些信息对于我们判断的权重就很高。另一方面，我们如果只看到它们毛发的颜色，或者闻到它们的气味，就比较难做出判断了。那么它们对于我们判断猫与狗的权重就比较低。\\n'"
      ]
     },
     "execution_count": 25,
     "metadata": {},
     "output_type": "execute_result"
    }
   ],
   "source": [
    "\"\"\"\n",
    "神经元：在介绍中，我们说过阿尔法狗应用的是深度学习神经网络来获得超越围棋高手的能力。那么什么是神经网络呢？它其实是在认知神经科学的发展下，人们用计算机对人脑神经元处理信息的一种模拟。我们的大脑神经布满了互相联结的成万上亿个神经元。它们之间通过获取刺激，传递反馈来处理我们日常生活中遇到的大量信息。为了在将来更好地理解神经网络，我们本次课程中主要学习如何用计算机构建一个神经元，也被称为感知器。通过它来对输入的信息做出判断，得出结论。更重要的是，神经元（感知器）可以通过数据来训练，以获得更强大的判断能力。\n",
    "\n",
    "接下来，我们用代码来创建一个神经元。需要知道的是，一个神经元需要有输入和权重两个基本的参数。举个例子，我们在现实生活中如何判断猫与狗？我们可能会看它们的眼睛，耳朵，嘴巴，四肢，身材大小，等等；或者也可以听它们的声音。这些都是输入进我们大脑的信息。另外，这些输入的信息权重是不一样的。我们可能听对方的叫声，就能判断出对方是猫还是狗；或者，我们可能看它们的眼睛也能做出八九不离十的猜测。这些信息对于我们判断的权重就很高。另一方面，我们如果只看到它们毛发的颜色，或者闻到它们的气味，就比较难做出判断了。那么它们对于我们判断猫与狗的权重就比较低。\n",
    "\"\"\""
   ]
  },
  {
   "cell_type": "code",
   "execution_count": 26,
   "metadata": {},
   "outputs": [
    {
     "name": "stdout",
     "output_type": "stream",
     "text": [
      "<__main__.Perceptron object at 0x106a4b160>\n"
     ]
    }
   ],
   "source": [
    "# 我们来用代码创建一个神经元。\n",
    "# 创建一个 Perceptron 的类\n",
    "class Perceptron:\n",
    "  # 默认输入 num_input 的值为 2，\n",
    "  # 对两个输入的权重都默认各为0.5\n",
    "  def __init__(self, num_input=2, weight=[0.5,0.5]):\n",
    "    #将  __init__ 中的 num_input，weight\n",
    "    #分别赋值给 self.num_input，self.weight\n",
    "    self.num_input = num_input\n",
    "    self.weight = weight\n",
    "\n",
    "# 创建 Perceptron 的一个实例\n",
    "one_perceptron = Perceptron()\n",
    "print(one_perceptron)"
   ]
  },
  {
   "cell_type": "code",
   "execution_count": 27,
   "metadata": {},
   "outputs": [
    {
     "data": {
      "text/plain": [
       "'\\n权重和：神经元建好了，我们也了解了它的基本结构。接下来，就是看它怎么运作了。神经元的活动分为两步：计算权重和与激活函数。前者计算神经元在吸收输入之后，各个输入特征权重之和；而激活函数让神经元做出不同的判断。我们在这里先学习权重和。\\n\\n假设一个神经元受到 n 个输入，输入为 x，其对应的权重为 w。那么权重和 sum_weight 的计算公式为：\\n\\nweighted sum = x1w1 + x2w2 + ... + xnwn\\n\\n简而言之，每个输入乘以自己的权重，将所有的乘积加起来，便是权重和。\\n'"
      ]
     },
     "execution_count": 27,
     "metadata": {},
     "output_type": "execute_result"
    }
   ],
   "source": [
    "\"\"\"\n",
    "权重和：神经元建好了，我们也了解了它的基本结构。接下来，就是看它怎么运作了。神经元的活动分为两步：计算权重和与激活函数。前者计算神经元在吸收输入之后，各个输入特征权重之和；而激活函数让神经元做出不同的判断。我们在这里先学习权重和。\n",
    "\n",
    "假设一个神经元受到 n 个输入，输入为 x，其对应的权重为 w。那么权重和 sum_weight 的计算公式为：\n",
    "\n",
    "weighted sum = x1w1 + x2w2 + ... + xnwn\n",
    "\n",
    "简而言之，每个输入乘以自己的权重，将所有的乘积加起来，便是权重和。\n",
    "\"\"\""
   ]
  },
  {
   "cell_type": "code",
   "execution_count": 12,
   "metadata": {},
   "outputs": [
    {
     "name": "stdout",
     "output_type": "stream",
     "text": [
      "92\n"
     ]
    }
   ],
   "source": [
    "# 请按照注释中的要求，完成代码。\n",
    "class Perceptron:\n",
    "  def __init__(self, num_input=2, weight=[5,7]):\n",
    "    self.num_input = num_input\n",
    "    self.weight = weight\n",
    "    \n",
    "  def weighted_sum(self, inputs):\n",
    "    # weighted_sum 为权重和，初始值为 0\n",
    "    weighted_sum = 0\n",
    "    for i in range(self.num_input):\n",
    "      # weighted_sum 为各输入与其权重乘积之和\n",
    "      # inputs 为输入的集合\n",
    "      weighted_sum += self.weight[i]*inputs[i]\n",
    "    return weighted_sum\n",
    "\n",
    "one_perceptron = Perceptron()\n",
    "# 看看 one_perceptron 在输入为[3,11] 的权重和\n",
    "print(one_perceptron.weighted_sum([3, 11]))"
   ]
  },
  {
   "cell_type": "code",
   "execution_count": 29,
   "metadata": {},
   "outputs": [],
   "source": [
    "# 神经元的基本部分包含权重和输入"
   ]
  },
  {
   "cell_type": "code",
   "execution_count": 10,
   "metadata": {},
   "outputs": [
    {
     "name": "stdout",
     "output_type": "stream",
     "text": [
      "/Users/XUMIAO/Desktop/python/扇贝编程\n"
     ]
    }
   ],
   "source": [
    "cd /Users/XUMIAO/Desktop/python/扇贝编程"
   ]
  },
  {
   "cell_type": "code",
   "execution_count": 14,
   "metadata": {},
   "outputs": [
    {
     "data": {
      "text/plain": [
       "'/Users/XUMIAO/Desktop/python/扇贝编程'"
      ]
     },
     "execution_count": 14,
     "metadata": {},
     "output_type": "execute_result"
    }
   ],
   "source": [
    "pwd"
   ]
  },
  {
   "cell_type": "code",
   "execution_count": 19,
   "metadata": {},
   "outputs": [
    {
     "name": "stdout",
     "output_type": "stream",
     "text": [
      "山鸢尾花萼长度4.3，花瓣长度1.1\n",
      "山鸢尾花萼长度4.4，花瓣长度1.3\n",
      "山鸢尾花萼长度4.4，花瓣长度1.4\n",
      "山鸢尾花萼长度4.5，花瓣长度1.3\n",
      "山鸢尾花萼长度4.6，花瓣长度1.0\n",
      "山鸢尾花萼长度4.6，花瓣长度1.4\n",
      "山鸢尾花萼长度4.6，花瓣长度1.5\n",
      "山鸢尾花萼长度4.7，花瓣长度1.3\n",
      "山鸢尾花萼长度4.7，花瓣长度1.6\n",
      "山鸢尾花萼长度4.8，花瓣长度1.4\n",
      "山鸢尾花萼长度4.8，花瓣长度1.6\n",
      "山鸢尾花萼长度4.8，花瓣长度1.9\n",
      "山鸢尾花萼长度4.9，花瓣长度1.4\n",
      "山鸢尾花萼长度4.9，花瓣长度1.5\n",
      "变色鸢尾花萼长度4.9，花瓣长度3.3\n",
      "山鸢尾花萼长度5.0，花瓣长度1.2\n",
      "山鸢尾花萼长度5.0，花瓣长度1.3\n",
      "山鸢尾花萼长度5.0，花瓣长度1.4\n",
      "山鸢尾花萼长度5.0，花瓣长度1.5\n",
      "山鸢尾花萼长度5.0，花瓣长度1.6\n",
      "变色鸢尾花萼长度5.0，花瓣长度3.3\n",
      "变色鸢尾花萼长度5.0，花瓣长度3.5\n",
      "山鸢尾花萼长度5.1，花瓣长度1.4\n",
      "山鸢尾花萼长度5.1，花瓣长度1.5\n",
      "山鸢尾花萼长度5.1，花瓣长度1.6\n",
      "山鸢尾花萼长度5.1，花瓣长度1.7\n",
      "山鸢尾花萼长度5.1，花瓣长度1.9\n",
      "变色鸢尾花萼长度5.1，花瓣长度3.0\n",
      "山鸢尾花萼长度5.2，花瓣长度1.4\n",
      "山鸢尾花萼长度5.2，花瓣长度1.5\n",
      "变色鸢尾花萼长度5.2，花瓣长度3.9\n",
      "山鸢尾花萼长度5.3，花瓣长度1.5\n",
      "山鸢尾花萼长度5.4，花瓣长度1.3\n",
      "山鸢尾花萼长度5.4，花瓣长度1.5\n",
      "山鸢尾花萼长度5.4，花瓣长度1.7\n",
      "变色鸢尾花萼长度5.4，花瓣长度4.5\n",
      "山鸢尾花萼长度5.5，花瓣长度1.3\n",
      "山鸢尾花萼长度5.5，花瓣长度1.4\n",
      "变色鸢尾花萼长度5.5，花瓣长度3.7\n",
      "变色鸢尾花萼长度5.5，花瓣长度3.8\n",
      "变色鸢尾花萼长度5.5，花瓣长度4.0\n",
      "变色鸢尾花萼长度5.5，花瓣长度4.4\n",
      "变色鸢尾花萼长度5.6，花瓣长度3.6\n",
      "变色鸢尾花萼长度5.6，花瓣长度3.9\n",
      "变色鸢尾花萼长度5.6，花瓣长度4.1\n",
      "变色鸢尾花萼长度5.6，花瓣长度4.2\n",
      "变色鸢尾花萼长度5.6，花瓣长度4.5\n",
      "山鸢尾花萼长度5.7，花瓣长度1.5\n",
      "山鸢尾花萼长度5.7，花瓣长度1.7\n",
      "变色鸢尾花萼长度5.7，花瓣长度3.5\n",
      "变色鸢尾花萼长度5.7，花瓣长度4.1\n",
      "变色鸢尾花萼长度5.7，花瓣长度4.2\n",
      "变色鸢尾花萼长度5.7，花瓣长度4.5\n",
      "山鸢尾花萼长度5.8，花瓣长度1.2\n",
      "变色鸢尾花萼长度5.8，花瓣长度3.9\n",
      "变色鸢尾花萼长度5.8，花瓣长度4.0\n",
      "变色鸢尾花萼长度5.8，花瓣长度4.1\n",
      "变色鸢尾花萼长度5.9，花瓣长度4.2\n",
      "变色鸢尾花萼长度5.9，花瓣长度4.8\n",
      "变色鸢尾花萼长度6.0，花瓣长度4.0\n",
      "变色鸢尾花萼长度6.0，花瓣长度4.5\n",
      "变色鸢尾花萼长度6.0，花瓣长度5.1\n",
      "变色鸢尾花萼长度6.1，花瓣长度4.0\n",
      "变色鸢尾花萼长度6.1，花瓣长度4.6\n",
      "变色鸢尾花萼长度6.1，花瓣长度4.7\n",
      "变色鸢尾花萼长度6.2，花瓣长度4.3\n",
      "变色鸢尾花萼长度6.2，花瓣长度4.5\n",
      "变色鸢尾花萼长度6.3，花瓣长度4.4\n",
      "变色鸢尾花萼长度6.3，花瓣长度4.7\n",
      "变色鸢尾花萼长度6.3，花瓣长度4.9\n",
      "变色鸢尾花萼长度6.4，花瓣长度4.3\n",
      "变色鸢尾花萼长度6.4，花瓣长度4.5\n",
      "变色鸢尾花萼长度6.5，花瓣长度4.6\n",
      "变色鸢尾花萼长度6.6，花瓣长度4.4\n",
      "变色鸢尾花萼长度6.6，花瓣长度4.6\n",
      "变色鸢尾花萼长度6.7，花瓣长度4.4\n",
      "变色鸢尾花萼长度6.7，花瓣长度4.7\n",
      "变色鸢尾花萼长度6.7，花瓣长度5.0\n",
      "变色鸢尾花萼长度6.8，花瓣长度4.8\n",
      "变色鸢尾花萼长度6.9，花瓣长度4.9\n",
      "变色鸢尾花萼长度7.0，花瓣长度4.7\n"
     ]
    }
   ],
   "source": [
    "\"\"\"\n",
    "辨别花朵是神经元训练的经典练习。我们看到下面两张图\n",
    "\n",
    "上面两朵花 versicolor 和 setosa 长得非常接近，前者中文名叫变色鸢尾，而后者叫山鸢尾。为了简便计算，我们在 flower.py 中存放了它们各自的花瓣、花萼长度数据。举例如下：\n",
    "\n",
    "(4.3, 1.1): 1\n",
    "\n",
    "上方代码是字典 flower_data 中的一个元素，其中键为元组 (4.3,1.1)，元组中的第一个元素是花瓣长度，第二个元素是花萼长度。字典元素值为1，代表山鸢尾；如果字典元素值为 -1，代表变色鸢尾。\n",
    "\n",
    "我们在接下来的几节课中，体会如何用神经元来判断花朵。今天，我们先学习一种新的调用数据的方法。见代码区第一行：\n",
    "\n",
    "from flower import flower_data\n",
    "\n",
    "其中 flower 是文件 flower.py 的名字，而 flower_data 是 flower.py 中的变量。这种调用数据的方式是否更方便呢？\n",
    "\n",
    "请根据注释行要求，完成…处代码。\n",
    "\"\"\"\n",
    "from flower123 import flower_data # 名字不能起得太简单，有别的文件叫flower，就import不出来\n",
    "for length, flower in flower_data.items():\n",
    "  # 如果 flower 是 1，代表 山鸢尾\n",
    "  if flower == 1:\n",
    "    print(\"山鸢尾花萼长度{}，花瓣长度{}\".format(length[0], length[1]))\n",
    "  # 如果 flower 是 -1，代表 变色鸢尾\n",
    "  elif flower == -1:\n",
    "    print(\"变色鸢尾花萼长度{}，花瓣长度{}\".format(length[0], length[1]))"
   ]
  },
  {
   "cell_type": "code",
   "execution_count": 20,
   "metadata": {},
   "outputs": [],
   "source": [
    "# 15.6 人工智能入门（6）"
   ]
  },
  {
   "cell_type": "code",
   "execution_count": 21,
   "metadata": {},
   "outputs": [
    {
     "data": {
      "text/plain": [
       "'\\n激活函数：在计算完权重和之后，我们来学习什么是激活函数。我们把神经元想像成一道闸门。当权重和大于闸门的高度时，我们就算通过了该闸门。反过来，如果权重值低于闸门的高度，我们则得到一个否定的反馈，被挡在闸门之外。我们将前一种情况称为积极反馈，后一种情况称为消极反馈。\\n'"
      ]
     },
     "execution_count": 21,
     "metadata": {},
     "output_type": "execute_result"
    }
   ],
   "source": [
    "\"\"\"\n",
    "激活函数：在计算完权重和之后，我们来学习什么是激活函数。我们把神经元想像成一道闸门。当权重和大于闸门的高度时，我们就算通过了该闸门。反过来，如果权重值低于闸门的高度，我们则得到一个否定的反馈，被挡在闸门之外。我们将前一种情况称为积极反馈，后一种情况称为消极反馈。\n",
    "\"\"\""
   ]
  },
  {
   "cell_type": "code",
   "execution_count": 22,
   "metadata": {},
   "outputs": [
    {
     "name": "stdout",
     "output_type": "stream",
     "text": [
      "-1\n"
     ]
    }
   ],
   "source": [
    "# 请按照注释要求，补全…处代码。\n",
    "class Perceptron:\n",
    "  def __init__(self, num_input=2, weight=[5,7]):\n",
    "    self.num_input = num_input\n",
    "    self.weight = weight\n",
    "    \n",
    "  def weighted_sum(self, inputs):\n",
    "    weighted_sum = 0\n",
    "    for i in range(self.num_input):\n",
    "      weighted_sum += self.weight[i]*inputs[i]\n",
    "    return weighted_sum\n",
    "  def activation(self, weighted_sum):\n",
    "    # 如果 weighted_sum 大于等于 100\n",
    "    # 返回 1；否则返回 -1\n",
    "    if weighted_sum >= 100:\n",
    "      return 1\n",
    "    else:\n",
    "      return -1\n",
    "\n",
    "one_perceptron = Perceptron()\n",
    "print(one_perceptron.activation(52))"
   ]
  },
  {
   "cell_type": "code",
   "execution_count": 23,
   "metadata": {},
   "outputs": [
    {
     "data": {
      "text/plain": [
       "'\\n训练神经元：好了，我们已经了解了神经元的基本结构，也知道了神经元如何通过权重计算以及激活函数来给出自己的反馈。接下来，我们就要学习如何训练它，通过数据集来让它调整自己的参数，从而使得反馈更为准确。那如何判断神经元的反馈结果是好是坏呢？这里我们依然要引入误差的概念。如果神经元的预测结果离实际数据集的误差越小，我们就认为神经元的表现越好。关于误差的计算，我们遵循以下表格：\\n真实数据  反馈数据  误差\\n   1        1      0\\n   1       -1      2\\n  -1       -1      0\\n  -1        1     -2\\n'"
      ]
     },
     "execution_count": 23,
     "metadata": {},
     "output_type": "execute_result"
    }
   ],
   "source": [
    "\"\"\"\n",
    "训练神经元：好了，我们已经了解了神经元的基本结构，也知道了神经元如何通过权重计算以及激活函数来给出自己的反馈。接下来，我们就要学习如何训练它，通过数据集来让它调整自己的参数，从而使得反馈更为准确。那如何判断神经元的反馈结果是好是坏呢？这里我们依然要引入误差的概念。如果神经元的预测结果离实际数据集的误差越小，我们就认为神经元的表现越好。关于误差的计算，我们遵循以下表格：\n",
    "真实数据  反馈数据  误差\n",
    "   1        1      0\n",
    "   1       -1      2\n",
    "  -1       -1      0\n",
    "  -1        1     -2\n",
    "\"\"\""
   ]
  },
  {
   "cell_type": "code",
   "execution_count": 24,
   "metadata": {},
   "outputs": [
    {
     "name": "stdout",
     "output_type": "stream",
     "text": [
      "[0, 0, 0, 0, -2]\n"
     ]
    }
   ],
   "source": [
    "\"\"\"\n",
    "编辑区的 training_dataset 存有我们的训练数据集，键是特征数据，而值为标签结果。请按要求补全 函数 training 中的…处代码\n",
    "\"\"\"\n",
    "training_dataset = {(8, 3): -1, (12, 12): 1, (2, 6): -1, (4, 16): 1, (7, 14): -1}\n",
    "\n",
    "class Perceptron:\n",
    "  def __init__(self, num_input=2, weight=[5,7]):\n",
    "    self.num_input = num_input\n",
    "    self.weight = weight\n",
    "    \n",
    "  def weighted_sum(self, inputs):\n",
    "    weighted_sum = 0\n",
    "    for i in range(self.num_input):\n",
    "      weighted_sum += self.weight[i]*inputs[i]\n",
    "    return weighted_sum\n",
    "  def activation(self, weighted_sum):\n",
    "    if weighted_sum >= 100:\n",
    "      return 1\n",
    "    else:\n",
    "      return -1\n",
    "  def training(self, training_set):\n",
    "    error_set = []\n",
    "    for data in training_set:     \n",
    "      # predict 为预测值              \n",
    "      predict = self.activation(self.weighted_sum(data))\n",
    "      # actual 为实际值\n",
    "      actual = training_set[data]\n",
    "      #误差 = 实际值 - 预测值\n",
    "      error = actual - predict\n",
    "      error_set.append(error)\n",
    "    return error_set\n",
    "one_perceptron = Perceptron()\n",
    "print(one_perceptron.training(training_dataset))"
   ]
  },
  {
   "cell_type": "code",
   "execution_count": 25,
   "metadata": {},
   "outputs": [],
   "source": [
    "# 假设实际数据为 1，神经元的预测数据为 1。则误差为：0\n",
    "# 误差 = 实际值 - 预测值 此处误差为 0\n",
    "# 神经元的运作包含步骤为：先计算权重和，再计算激活函数"
   ]
  },
  {
   "cell_type": "code",
   "execution_count": 27,
   "metadata": {},
   "outputs": [
    {
     "name": "stdout",
     "output_type": "stream",
     "text": [
      "误差总值为-92\n"
     ]
    }
   ],
   "source": [
    "# 请按照注释行要求，计算在权重为 [1,1] 的条件下，神经元针对数据集 flower_data 的误差总值。\n",
    "from flower123 import flower_data\n",
    "class Perceptron:\n",
    "  def __init__(self, num_input=2, weight=[1,1]):\n",
    "    self.num_input = num_input\n",
    "    self.weight = weight\n",
    "    \n",
    "  def weighted_sum(self, inputs):\n",
    "    weighted_sum = 0\n",
    "    for i in range(self.num_input):\n",
    "      weighted_sum += self.weight[i]*inputs[i]\n",
    "    return weighted_sum\n",
    "  def activation(self, weighted_sum):\n",
    "    if weighted_sum >= 0:\n",
    "      return 1\n",
    "    else:\n",
    "      return -1\n",
    "  def training(self, training_set):\n",
    "    error_set = []\n",
    "    for data in training_set:                   \n",
    "      predict = self.activation(self.weighted_sum(data))\n",
    "      actual = training_set[data]\n",
    "      error = actual - predict\n",
    "      error_set.append(error)\n",
    "    return error_set\n",
    "one_perceptron = Perceptron()\n",
    "error_sum = 0\n",
    "# error_sum 为 training 函数返回值 error_set\n",
    "# 中所有元素之和\n",
    "for error in one_perceptron.training(flower_data):\n",
    "    error_sum += error\n",
    "print(\"误差总值为{}\".format(error_sum))"
   ]
  },
  {
   "cell_type": "code",
   "execution_count": 28,
   "metadata": {},
   "outputs": [],
   "source": [
    "# 15.7 人工智能入门（7）"
   ]
  },
  {
   "cell_type": "code",
   "execution_count": 29,
   "metadata": {},
   "outputs": [
    {
     "data": {
      "text/plain": [
       "'\\n调整权重：如果训练神经元的过程中，我们发现误差很大，那么此时我们需要相应地调整参数。但是输入神经元的数据我们是改变不了的，我们只能想办法调整权重参数。希望能找到合适的权重将误差往0的方向逼近。而权重调整的公式如下：\\n\\nnew_weight = old_weight + (error * input)\\n\\n该公式背后的数学原理不在我们本套课程讲解的范畴之内，大家只需要知道如何运用即可。\\n'"
      ]
     },
     "execution_count": 29,
     "metadata": {},
     "output_type": "execute_result"
    }
   ],
   "source": [
    "\"\"\"\n",
    "调整权重：如果训练神经元的过程中，我们发现误差很大，那么此时我们需要相应地调整参数。但是输入神经元的数据我们是改变不了的，我们只能想办法调整权重参数。希望能找到合适的权重将误差往0的方向逼近。而权重调整的公式如下：\n",
    "\n",
    "new_weight = old_weight + (error * input)\n",
    "\n",
    "该公式背后的数学原理不在我们本套课程讲解的范畴之内，大家只需要知道如何运用即可。\n",
    "\"\"\""
   ]
  },
  {
   "cell_type": "code",
   "execution_count": 30,
   "metadata": {},
   "outputs": [
    {
     "name": "stdout",
     "output_type": "stream",
     "text": [
      "误差为2\n",
      "误差为4\n",
      "误差为0\n",
      "更新后的权重为：[-4, 2]\n"
     ]
    }
   ],
   "source": [
    "\"\"\"\n",
    "我们将调整权重的代码加入到了 training 函数里面。\n",
    "\n",
    "请点击运行，观察误差降至0的过程，以及权重的更新值。\n",
    "\n",
    "再将第三行代码中的 weight 参数改为 [2,2]，比较不同的运行结果\n",
    "\"\"\"\n",
    "training_dataset = {(1,2):1, (2,1):-1, (1,-2):-1, (-2,1):1}\n",
    "class Perceptron:\n",
    "  def __init__(self, num_input=2, weight=[2,2]):\n",
    "    self.num_input = num_input\n",
    "    self.weight = weight\n",
    "    \n",
    "  def weighted_sum(self, inputs):\n",
    "    weighted_sum = 0\n",
    "    for i in range(self.num_input):\n",
    "      weighted_sum += self.weight[i]*inputs[i]\n",
    "    return weighted_sum\n",
    "  \n",
    "  def activation(self, weighted_sum):\n",
    "    if weighted_sum >= 0:\n",
    "      return 1\n",
    "    if weighted_sum < 0:\n",
    "      return -1\n",
    "    \n",
    "  def training(self, training_set):\n",
    "    error_zero = False\n",
    "    while not error_zero:\n",
    "      error_sum = 0\n",
    "      for inputs in training_set:\n",
    "        prediction = self.activation(self.weighted_sum(inputs))\n",
    "        actual = training_set[inputs]\n",
    "        error = actual - prediction\n",
    "        # abs(error)  取 error 的绝对值\n",
    "        error_sum += abs(error)\n",
    "        for i in range(self.num_input):\n",
    "          # 权重调整公式  new_weight = old_weight + error * input\n",
    "          self.weight[i] += error*inputs[i]\n",
    "      print(\"误差为{}\".format(error_sum))\n",
    "      if error_sum == 0:\n",
    "        error_zero = True\n",
    "      \n",
    "one_perceptron = Perceptron()\n",
    "one_perceptron.training(training_dataset)\n",
    "print(\"更新后的权重为：{}\".format(one_perceptron.weight))"
   ]
  },
  {
   "cell_type": "code",
   "execution_count": 31,
   "metadata": {},
   "outputs": [
    {
     "data": {
      "text/plain": [
       "'\\n更多方向： 到此，60天Python基础课的讲解部分就结束了。很高兴带着大家进入了 Python 编程世界。了解了基础知识之后，你可以结合自己的发展规划有以下的方向选择：\\n\\n1）网站爬虫\\n\\n2）数据分析\\n\\n3）办公自动化\\n\\n4）机器学习（人工智能）\\n\\n5）网站开发\\n\\n6）游戏开发\\n\\n我们也会在后期为大家开设更多更丰富的专项课程。在此，我们想知道你的兴趣点在哪里。\\n\\n请在接下来的练习中输出你想继续学习的方向。\\n'"
      ]
     },
     "execution_count": 31,
     "metadata": {},
     "output_type": "execute_result"
    }
   ],
   "source": [
    "\"\"\"\n",
    "更多方向： 到此，60天Python基础课的讲解部分就结束了。很高兴带着大家进入了 Python 编程世界。了解了基础知识之后，你可以结合自己的发展规划有以下的方向选择：\n",
    "\n",
    "1）网站爬虫\n",
    "\n",
    "2）数据分析\n",
    "\n",
    "3）办公自动化\n",
    "\n",
    "4）机器学习（人工智能）\n",
    "\n",
    "5）网站开发\n",
    "\n",
    "6）游戏开发\n",
    "\n",
    "我们也会在后期为大家开设更多更丰富的专项课程。在此，我们想知道你的兴趣点在哪里。\n",
    "\n",
    "请在接下来的练习中输出你想继续学习的方向。\n",
    "\"\"\""
   ]
  },
  {
   "cell_type": "code",
   "execution_count": 32,
   "metadata": {},
   "outputs": [
    {
     "name": "stdout",
     "output_type": "stream",
     "text": [
      "接下来，我想学可视化\n"
     ]
    }
   ],
   "source": [
    "# 请给变量 learn 赋值，写入你后期想学习的方向。\n",
    "learn = \"可视化\"\n",
    "print(\"接下来，我想学{}\".format(learn))"
   ]
  },
  {
   "cell_type": "code",
   "execution_count": 33,
   "metadata": {},
   "outputs": [],
   "source": [
    "# 权重调整的公式为：new_weight = old_weight + (error * input)"
   ]
  },
  {
   "cell_type": "code",
   "execution_count": 35,
   "metadata": {},
   "outputs": [
    {
     "name": "stdout",
     "output_type": "stream",
     "text": [
      "误差为8\n",
      "误差为0\n",
      "更新后的权重为：[2.3999999999999986, -5.999999999999999]\n"
     ]
    }
   ],
   "source": [
    "# 请点击运行，观察误差下降的变化，以及最后更新的权重值。\n",
    "from flower123 import flower_data\n",
    "class Perceptron:\n",
    "  def __init__(self, num_input=2, weight=[2,2]):\n",
    "    self.num_input = num_input\n",
    "    self.weight = weight\n",
    "    \n",
    "  def weighted_sum(self, inputs):\n",
    "    weighted_sum = 0\n",
    "    for i in range(self.num_input):\n",
    "      weighted_sum += self.weight[i]*inputs[i]\n",
    "    return weighted_sum\n",
    "  \n",
    "  def activation(self, weighted_sum):\n",
    "    if weighted_sum >= 0:\n",
    "      return 1\n",
    "    if weighted_sum < 0:\n",
    "      return -1\n",
    "    \n",
    "  def training(self, training_set):\n",
    "    error_zero = False\n",
    "    while not error_zero:\n",
    "      error_sum = 0\n",
    "      for inputs in training_set:\n",
    "        prediction = self.activation(self.weighted_sum(inputs))\n",
    "        actual = training_set[inputs]\n",
    "        error = actual - prediction\n",
    "        # abs(error)  取 error 的绝对值\n",
    "        error_sum += abs(error)\n",
    "        for i in range(self.num_input):\n",
    "          # 权重调整公式  new_weight = old_weight + error * input\n",
    "          self.weight[i] += error*inputs[i]\n",
    "      print(\"误差为{}\".format(error_sum))\n",
    "      if error_sum == 0:\n",
    "        error_zero = True\n",
    "      \n",
    "one_perceptron = Perceptron()\n",
    "one_perceptron.training(flower_data)\n",
    "print(\"更新后的权重为：{}\".format(one_perceptron.weight))"
   ]
  }
 ],
 "metadata": {
  "kernelspec": {
   "display_name": "Python 3",
   "language": "python",
   "name": "python3"
  },
  "language_info": {
   "codemirror_mode": {
    "name": "ipython",
    "version": 3
   },
   "file_extension": ".py",
   "mimetype": "text/x-python",
   "name": "python",
   "nbconvert_exporter": "python",
   "pygments_lexer": "ipython3",
   "version": "3.7.1"
  }
 },
 "nbformat": 4,
 "nbformat_minor": 2
}
